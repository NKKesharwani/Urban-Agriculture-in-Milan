{
 "cells": [
  {
   "cell_type": "markdown",
   "id": "f1ef28c3",
   "metadata": {},
   "source": [
    "# Random forest Regression "
   ]
  },
  {
   "cell_type": "code",
   "execution_count": 2,
   "id": "03843e7a",
   "metadata": {},
   "outputs": [],
   "source": [
    "import pandas as pd\n",
    "from sklearn.preprocessing import LabelEncoder, StandardScaler\n",
    "from sklearn.model_selection import train_test_split\n",
    "from sklearn.pipeline import Pipeline\n",
    "from sklearn.compose import ColumnTransformer\n",
    "from sklearn.ensemble import RandomForestRegressor\n",
    "from sklearn.metrics import mean_squared_error, mean_absolute_error, r2_score"
   ]
  },
  {
   "cell_type": "code",
   "execution_count": 3,
   "id": "229ffb18",
   "metadata": {},
   "outputs": [],
   "source": [
    "# Load data\n",
    "data = pd.read_csv(\"synthetic_veg_crop_data (1).csv\")"
   ]
  },
  {
   "cell_type": "code",
   "execution_count": 4,
   "id": "d3148334",
   "metadata": {},
   "outputs": [
    {
     "data": {
      "text/html": [
       "<div>\n",
       "<style scoped>\n",
       "    .dataframe tbody tr th:only-of-type {\n",
       "        vertical-align: middle;\n",
       "    }\n",
       "\n",
       "    .dataframe tbody tr th {\n",
       "        vertical-align: top;\n",
       "    }\n",
       "\n",
       "    .dataframe thead th {\n",
       "        text-align: right;\n",
       "    }\n",
       "</style>\n",
       "<table border=\"1\" class=\"dataframe\">\n",
       "  <thead>\n",
       "    <tr style=\"text-align: right;\">\n",
       "      <th></th>\n",
       "      <th>S. no.</th>\n",
       "      <th>Name</th>\n",
       "      <th>Soil_Type</th>\n",
       "      <th>Fertility</th>\n",
       "      <th>Photoperiod</th>\n",
       "      <th>N-P-K Ratio</th>\n",
       "      <th>Temperature</th>\n",
       "      <th>Rainfall</th>\n",
       "      <th>pH</th>\n",
       "      <th>Light_Hours</th>\n",
       "      <th>Light_Intensity</th>\n",
       "      <th>Rh</th>\n",
       "      <th>Yield</th>\n",
       "      <th>Season</th>\n",
       "    </tr>\n",
       "  </thead>\n",
       "  <tbody>\n",
       "    <tr>\n",
       "      <th>0</th>\n",
       "      <td>1</td>\n",
       "      <td>Tomatoes</td>\n",
       "      <td>Fertile, well-drained loam or sandy loam soil</td>\n",
       "      <td>High</td>\n",
       "      <td>Short Day Period</td>\n",
       "      <td>10:10:10</td>\n",
       "      <td>26.483577</td>\n",
       "      <td>555.640013</td>\n",
       "      <td>6.723995</td>\n",
       "      <td>6.161744</td>\n",
       "      <td>459.558388</td>\n",
       "      <td>55.174597</td>\n",
       "      <td>59.082461</td>\n",
       "      <td>Summer</td>\n",
       "    </tr>\n",
       "    <tr>\n",
       "      <th>1</th>\n",
       "      <td>1</td>\n",
       "      <td>Tomatoes</td>\n",
       "      <td>Fertile, well-drained loam or sandy loam soil</td>\n",
       "      <td>High</td>\n",
       "      <td>Short Day Period</td>\n",
       "      <td>10:10:10</td>\n",
       "      <td>24.658866</td>\n",
       "      <td>548.369437</td>\n",
       "      <td>6.630615</td>\n",
       "      <td>7.341362</td>\n",
       "      <td>403.734739</td>\n",
       "      <td>58.475277</td>\n",
       "      <td>61.836617</td>\n",
       "      <td>Summer</td>\n",
       "    </tr>\n",
       "    <tr>\n",
       "      <th>2</th>\n",
       "      <td>1</td>\n",
       "      <td>Tomatoes</td>\n",
       "      <td>Fertile, well-drained loam or sandy loam soil</td>\n",
       "      <td>High</td>\n",
       "      <td>Short Day Period</td>\n",
       "      <td>10:10:10</td>\n",
       "      <td>23.036639</td>\n",
       "      <td>548.656752</td>\n",
       "      <td>6.228059</td>\n",
       "      <td>6.155745</td>\n",
       "      <td>567.426957</td>\n",
       "      <td>53.527221</td>\n",
       "      <td>62.014527</td>\n",
       "      <td>Spring</td>\n",
       "    </tr>\n",
       "    <tr>\n",
       "      <th>3</th>\n",
       "      <td>1</td>\n",
       "      <td>Tomatoes</td>\n",
       "      <td>Fertile, well-drained loam or sandy loam soil</td>\n",
       "      <td>High</td>\n",
       "      <td>Short Day Period</td>\n",
       "      <td>10:10:10</td>\n",
       "      <td>25.187162</td>\n",
       "      <td>588.832480</td>\n",
       "      <td>5.832263</td>\n",
       "      <td>6.274787</td>\n",
       "      <td>485.063743</td>\n",
       "      <td>59.937303</td>\n",
       "      <td>60.940745</td>\n",
       "      <td>Fall</td>\n",
       "    </tr>\n",
       "    <tr>\n",
       "      <th>4</th>\n",
       "      <td>1</td>\n",
       "      <td>Tomatoes</td>\n",
       "      <td>Fertile, well-drained loam or sandy loam soil</td>\n",
       "      <td>High</td>\n",
       "      <td>Short Day Period</td>\n",
       "      <td>10:10:10</td>\n",
       "      <td>25.678596</td>\n",
       "      <td>504.979380</td>\n",
       "      <td>5.836229</td>\n",
       "      <td>6.185052</td>\n",
       "      <td>637.590250</td>\n",
       "      <td>56.769625</td>\n",
       "      <td>64.556501</td>\n",
       "      <td>Spring</td>\n",
       "    </tr>\n",
       "  </tbody>\n",
       "</table>\n",
       "</div>"
      ],
      "text/plain": [
       "   S. no.      Name                                      Soil_Type Fertility   \n",
       "0       1  Tomatoes  Fertile, well-drained loam or sandy loam soil      High  \\\n",
       "1       1  Tomatoes  Fertile, well-drained loam or sandy loam soil      High   \n",
       "2       1  Tomatoes  Fertile, well-drained loam or sandy loam soil      High   \n",
       "3       1  Tomatoes  Fertile, well-drained loam or sandy loam soil      High   \n",
       "4       1  Tomatoes  Fertile, well-drained loam or sandy loam soil      High   \n",
       "\n",
       "        Photoperiod N-P-K Ratio  Temperature    Rainfall        pH   \n",
       "0  Short Day Period    10:10:10    26.483577  555.640013  6.723995  \\\n",
       "1  Short Day Period    10:10:10    24.658866  548.369437  6.630615   \n",
       "2  Short Day Period    10:10:10    23.036639  548.656752  6.228059   \n",
       "3  Short Day Period    10:10:10    25.187162  588.832480  5.832263   \n",
       "4  Short Day Period    10:10:10    25.678596  504.979380  5.836229   \n",
       "\n",
       "   Light_Hours  Light_Intensity         Rh      Yield   Season  \n",
       "0     6.161744       459.558388  55.174597  59.082461   Summer  \n",
       "1     7.341362       403.734739  58.475277  61.836617   Summer  \n",
       "2     6.155745       567.426957  53.527221  62.014527   Spring  \n",
       "3     6.274787       485.063743  59.937303  60.940745     Fall  \n",
       "4     6.185052       637.590250  56.769625  64.556501   Spring  "
      ]
     },
     "execution_count": 4,
     "metadata": {},
     "output_type": "execute_result"
    }
   ],
   "source": [
    "data.head()"
   ]
  },
  {
   "cell_type": "code",
   "execution_count": 5,
   "id": "e663b1ee",
   "metadata": {},
   "outputs": [],
   "source": [
    "# Move the 'Yield' column to the end\n",
    "move = data.pop('Yield')\n",
    "data['Yield'] = move"
   ]
  },
  {
   "cell_type": "code",
   "execution_count": 6,
   "id": "fd7bbf5c",
   "metadata": {},
   "outputs": [],
   "source": [
    "# Split data into features (X) and target (y)\n",
    "X = data.iloc[:, :-1]\n",
    "y = data.iloc[:, -1]"
   ]
  },
  {
   "cell_type": "code",
   "execution_count": 7,
   "id": "5dc83b3e",
   "metadata": {},
   "outputs": [],
   "source": [
    "from sklearn.base import BaseEstimator, TransformerMixin\n",
    "\n",
    "# Custom transformer for Label Encoding\n",
    "class LabelEncoderPipelineFriendly(BaseEstimator, TransformerMixin):\n",
    "    def __init__(self):\n",
    "        self.label_encoders = {}\n",
    "    \n",
    "    def fit(self, X, y=None):\n",
    "        for col in X.columns:\n",
    "            le = LabelEncoder()\n",
    "            le.fit(X[col])\n",
    "            self.label_encoders[col] = le\n",
    "        return self\n",
    "    \n",
    "    def transform(self, X):\n",
    "        X_copy = X.copy()\n",
    "        for col, le in self.label_encoders.items():\n",
    "            X_copy[col] = le.transform(X_copy[col])\n",
    "        return X_copy"
   ]
  },
  {
   "cell_type": "code",
   "execution_count": 8,
   "id": "ce52feb0",
   "metadata": {},
   "outputs": [],
   "source": [
    "# Identify categorical columns\n",
    "categorical_columns = X.select_dtypes(include=['object']).columns\n",
    "\n",
    "# Define the preprocessing steps\n",
    "preprocessor = ColumnTransformer(\n",
    "    transformers=[\n",
    "        ('cat', Pipeline(steps=[\n",
    "            ('label_encoder', LabelEncoderPipelineFriendly())\n",
    "        ]), categorical_columns),\n",
    "        ('num', StandardScaler(), X.select_dtypes(exclude=['object']).columns)\n",
    "    ])\n",
    "\n",
    "# Define the pipeline with preprocessing and the Random Forest model\n",
    "pipeline = Pipeline(steps=[\n",
    "    ('preprocessor', preprocessor),\n",
    "    ('regressor', RandomForestRegressor(n_estimators=100, max_depth=None, random_state=42))\n",
    "])"
   ]
  },
  {
   "cell_type": "code",
   "execution_count": 9,
   "id": "da753694",
   "metadata": {},
   "outputs": [],
   "source": [
    "# Split the data into training and testing sets\n",
    "X_train, X_test, y_train, y_test = train_test_split(X, y, test_size=0.2, random_state=42)\n",
    "\n",
    "# Train the pipeline\n",
    "pipeline.fit(X_train, y_train)\n",
    "\n",
    "# Predict using the pipeline\n",
    "y_pred = pipeline.predict(X_test)"
   ]
  },
  {
   "cell_type": "code",
   "execution_count": 10,
   "id": "a53cafe4",
   "metadata": {},
   "outputs": [
    {
     "name": "stdout",
     "output_type": "stream",
     "text": [
      "Mean Squared Error: 0.7686847921383441\n",
      "Mean Absolute Error: 0.5343487330757495\n",
      "R-squared: 0.9966788742107086\n"
     ]
    }
   ],
   "source": [
    "# Evaluate the model\n",
    "mse = mean_squared_error(y_test, y_pred)\n",
    "mae = mean_absolute_error(y_test, y_pred)\n",
    "r2 = r2_score(y_test, y_pred)\n",
    "\n",
    "print(f'Mean Squared Error: {mse}')\n",
    "print(f'Mean Absolute Error: {mae}')\n",
    "print(f'R-squared: {r2}')"
   ]
  },
  {
   "cell_type": "code",
   "execution_count": 11,
   "id": "0f5576cc",
   "metadata": {},
   "outputs": [
    {
     "data": {
      "text/plain": [
       "['randomforest.pkl']"
      ]
     },
     "execution_count": 11,
     "metadata": {},
     "output_type": "execute_result"
    }
   ],
   "source": [
    "import joblib\n",
    "\n",
    "# Save the pipeline\n",
    "joblib.dump(pipeline, 'randomforest.pkl')"
   ]
  },
  {
   "cell_type": "code",
   "execution_count": null,
   "id": "128babf0",
   "metadata": {},
   "outputs": [],
   "source": []
  }
 ],
 "metadata": {
  "kernelspec": {
   "display_name": "Python 3 (ipykernel)",
   "language": "python",
   "name": "python3"
  },
  "language_info": {
   "codemirror_mode": {
    "name": "ipython",
    "version": 3
   },
   "file_extension": ".py",
   "mimetype": "text/x-python",
   "name": "python",
   "nbconvert_exporter": "python",
   "pygments_lexer": "ipython3",
   "version": "3.11.1"
  }
 },
 "nbformat": 4,
 "nbformat_minor": 5
}
