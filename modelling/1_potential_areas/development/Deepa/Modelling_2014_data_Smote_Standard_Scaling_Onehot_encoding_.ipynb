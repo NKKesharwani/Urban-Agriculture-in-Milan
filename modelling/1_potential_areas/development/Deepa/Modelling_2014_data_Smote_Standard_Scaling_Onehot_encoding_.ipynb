{
 "cells": [
  {
   "cell_type": "code",
   "execution_count": 1,
   "metadata": {
    "colab": {
     "base_uri": "https://localhost:8080/"
    },
    "id": "7uvbqrj-P1SO",
    "outputId": "633cd496-e9d7-44fa-d89d-177c7f0a1aba"
   },
   "outputs": [
    {
     "name": "stdout",
     "output_type": "stream",
     "text": [
      "Requirement already satisfied: xgboost in c:\\users\\sreed\\anaconda3\\lib\\site-packages (2.0.1)\n",
      "Requirement already satisfied: numpy in c:\\users\\sreed\\anaconda3\\lib\\site-packages (from xgboost) (1.24.3)\n",
      "Requirement already satisfied: scipy in c:\\users\\sreed\\anaconda3\\lib\\site-packages (from xgboost) (1.9.1)\n"
     ]
    },
    {
     "name": "stderr",
     "output_type": "stream",
     "text": [
      "\n",
      "[notice] A new release of pip is available: 23.3.1 -> 24.0\n",
      "[notice] To update, run: python.exe -m pip install --upgrade pip\n"
     ]
    }
   ],
   "source": [
    "!pip install xgboost"
   ]
  },
  {
   "cell_type": "code",
   "execution_count": 2,
   "metadata": {
    "id": "J90SoOtKvRlv"
   },
   "outputs": [],
   "source": [
    "#Importing libraries\n",
    "import numpy as np\n",
    "import pandas as pd\n",
    "import matplotlib.pyplot as plt\n",
    "import seaborn as sns\n",
    "\n",
    "import warnings\n",
    "warnings.filterwarnings('ignore')\n",
    "\n",
    "\n",
    "from sklearn.preprocessing import StandardScaler\n",
    "from sklearn.preprocessing import MinMaxScaler\n",
    "from sklearn.preprocessing import StandardScaler, OneHotEncoder,LabelEncoder\n",
    "from sklearn.model_selection import train_test_split, GridSearchCV, StratifiedKFold,KFold,cross_val_score,learning_curve\n",
    "\n",
    "from sklearn.linear_model import LogisticRegression,SGDClassifier\n",
    "from sklearn.svm import SVC\n",
    "from sklearn.ensemble import RandomForestClassifier,GradientBoostingClassifier\n",
    "from sklearn.neighbors import KNeighborsClassifier\n",
    "from sklearn.tree import DecisionTreeClassifier\n",
    "from sklearn.naive_bayes import GaussianNB\n",
    "from xgboost import XGBClassifier\n",
    "from sklearn.metrics import f1_score, accuracy_score,recall_score,precision_score, confusion_matrix, classification_report,roc_curve,auc\n",
    "\n",
    "from sklearn.compose import ColumnTransformer\n",
    "from sklearn.pipeline import Pipeline\n",
    "from sklearn.impute import KNNImputer\n",
    "#from pykrige.ok import OrdinaryKriging"
   ]
  },
  {
   "cell_type": "code",
   "execution_count": 3,
   "metadata": {
    "id": "obldaKRtUzA9"
   },
   "outputs": [],
   "source": [
    "#loading zone4 filled data\n",
    "df_zone4=pd.read_csv(r\"C:\\Users\\sreed\\Downloads\\filled_data_zone4_2014.csv\")"
   ]
  },
  {
   "cell_type": "code",
   "execution_count": 4,
   "metadata": {
    "colab": {
     "base_uri": "https://localhost:8080/",
     "height": 226
    },
    "id": "e60-2i4FU2oP",
    "outputId": "8e90d4b5-4a52-4596-d004-802b6b493fea"
   },
   "outputs": [
    {
     "data": {
      "text/html": [
       "<div>\n",
       "<style scoped>\n",
       "    .dataframe tbody tr th:only-of-type {\n",
       "        vertical-align: middle;\n",
       "    }\n",
       "\n",
       "    .dataframe tbody tr th {\n",
       "        vertical-align: top;\n",
       "    }\n",
       "\n",
       "    .dataframe thead th {\n",
       "        text-align: right;\n",
       "    }\n",
       "</style>\n",
       "<table border=\"1\" class=\"dataframe\">\n",
       "  <thead>\n",
       "    <tr style=\"text-align: right;\">\n",
       "      <th></th>\n",
       "      <th>Latitude</th>\n",
       "      <th>Longitude</th>\n",
       "      <th>Zone</th>\n",
       "      <th>NDVI</th>\n",
       "      <th>landuse</th>\n",
       "      <th>LST</th>\n",
       "      <th>NDBI</th>\n",
       "      <th>NDWI</th>\n",
       "      <th>Roughness</th>\n",
       "      <th>SAVI</th>\n",
       "      <th>Slope</th>\n",
       "      <th>SMI</th>\n",
       "      <th>solar_radiation</th>\n",
       "      <th>Suitable_Areas</th>\n",
       "    </tr>\n",
       "  </thead>\n",
       "  <tbody>\n",
       "    <tr>\n",
       "      <th>0</th>\n",
       "      <td>45.47236</td>\n",
       "      <td>9.202701</td>\n",
       "      <td>zone4</td>\n",
       "      <td>0.360761</td>\n",
       "      <td>grass</td>\n",
       "      <td>121.681648</td>\n",
       "      <td>-0.130789</td>\n",
       "      <td>-0.381272</td>\n",
       "      <td>0</td>\n",
       "      <td>0.541073</td>\n",
       "      <td>0.0</td>\n",
       "      <td>0.214375</td>\n",
       "      <td>467.293863</td>\n",
       "      <td>0</td>\n",
       "    </tr>\n",
       "    <tr>\n",
       "      <th>1</th>\n",
       "      <td>45.47236</td>\n",
       "      <td>9.202971</td>\n",
       "      <td>zone4</td>\n",
       "      <td>0.361043</td>\n",
       "      <td>grass</td>\n",
       "      <td>121.681648</td>\n",
       "      <td>-0.130598</td>\n",
       "      <td>-0.381346</td>\n",
       "      <td>0</td>\n",
       "      <td>0.541497</td>\n",
       "      <td>0.0</td>\n",
       "      <td>0.215051</td>\n",
       "      <td>467.363286</td>\n",
       "      <td>0</td>\n",
       "    </tr>\n",
       "    <tr>\n",
       "      <th>2</th>\n",
       "      <td>45.47236</td>\n",
       "      <td>9.203240</td>\n",
       "      <td>zone4</td>\n",
       "      <td>0.361316</td>\n",
       "      <td>grass</td>\n",
       "      <td>121.681648</td>\n",
       "      <td>-0.130393</td>\n",
       "      <td>-0.381412</td>\n",
       "      <td>0</td>\n",
       "      <td>0.541907</td>\n",
       "      <td>0.0</td>\n",
       "      <td>0.215769</td>\n",
       "      <td>467.438801</td>\n",
       "      <td>0</td>\n",
       "    </tr>\n",
       "    <tr>\n",
       "      <th>3</th>\n",
       "      <td>45.47236</td>\n",
       "      <td>9.203510</td>\n",
       "      <td>zone4</td>\n",
       "      <td>0.361578</td>\n",
       "      <td>grass</td>\n",
       "      <td>121.681648</td>\n",
       "      <td>-0.130170</td>\n",
       "      <td>-0.381469</td>\n",
       "      <td>0</td>\n",
       "      <td>0.542301</td>\n",
       "      <td>0.0</td>\n",
       "      <td>0.216531</td>\n",
       "      <td>467.520987</td>\n",
       "      <td>0</td>\n",
       "    </tr>\n",
       "    <tr>\n",
       "      <th>4</th>\n",
       "      <td>45.47236</td>\n",
       "      <td>9.203779</td>\n",
       "      <td>zone4</td>\n",
       "      <td>0.361827</td>\n",
       "      <td>grass</td>\n",
       "      <td>121.681648</td>\n",
       "      <td>-0.129930</td>\n",
       "      <td>-0.381516</td>\n",
       "      <td>0</td>\n",
       "      <td>0.542676</td>\n",
       "      <td>0.0</td>\n",
       "      <td>0.217339</td>\n",
       "      <td>467.610465</td>\n",
       "      <td>0</td>\n",
       "    </tr>\n",
       "  </tbody>\n",
       "</table>\n",
       "</div>"
      ],
      "text/plain": [
       "   Latitude  Longitude   Zone      NDVI landuse         LST      NDBI  \\\n",
       "0  45.47236   9.202701  zone4  0.360761   grass  121.681648 -0.130789   \n",
       "1  45.47236   9.202971  zone4  0.361043   grass  121.681648 -0.130598   \n",
       "2  45.47236   9.203240  zone4  0.361316   grass  121.681648 -0.130393   \n",
       "3  45.47236   9.203510  zone4  0.361578   grass  121.681648 -0.130170   \n",
       "4  45.47236   9.203779  zone4  0.361827   grass  121.681648 -0.129930   \n",
       "\n",
       "       NDWI  Roughness      SAVI  Slope       SMI  solar_radiation  \\\n",
       "0 -0.381272          0  0.541073    0.0  0.214375       467.293863   \n",
       "1 -0.381346          0  0.541497    0.0  0.215051       467.363286   \n",
       "2 -0.381412          0  0.541907    0.0  0.215769       467.438801   \n",
       "3 -0.381469          0  0.542301    0.0  0.216531       467.520987   \n",
       "4 -0.381516          0  0.542676    0.0  0.217339       467.610465   \n",
       "\n",
       "   Suitable_Areas  \n",
       "0               0  \n",
       "1               0  \n",
       "2               0  \n",
       "3               0  \n",
       "4               0  "
      ]
     },
     "execution_count": 4,
     "metadata": {},
     "output_type": "execute_result"
    }
   ],
   "source": [
    "df_zone4.head()"
   ]
  },
  {
   "cell_type": "code",
   "execution_count": 5,
   "metadata": {
    "colab": {
     "base_uri": "https://localhost:8080/"
    },
    "id": "gnsPiXm7U5Ci",
    "outputId": "971e19d7-103c-4530-8961-4a74a5e00af4"
   },
   "outputs": [
    {
     "data": {
      "text/plain": [
       "Latitude           0\n",
       "Longitude          0\n",
       "Zone               0\n",
       "NDVI               0\n",
       "landuse            0\n",
       "LST                0\n",
       "NDBI               0\n",
       "NDWI               0\n",
       "Roughness          0\n",
       "SAVI               0\n",
       "Slope              0\n",
       "SMI                0\n",
       "solar_radiation    0\n",
       "Suitable_Areas     0\n",
       "dtype: int64"
      ]
     },
     "execution_count": 5,
     "metadata": {},
     "output_type": "execute_result"
    }
   ],
   "source": [
    "df_zone4.isnull().sum()"
   ]
  },
  {
   "cell_type": "markdown",
   "metadata": {
    "id": "OTDlpNEGjLOT"
   },
   "source": [
    "No null values"
   ]
  },
  {
   "cell_type": "code",
   "execution_count": 6,
   "metadata": {
    "id": "kGmVhCCoXaqD"
   },
   "outputs": [],
   "source": [
    "#loading zone9 filled data\n",
    "df_zone9=pd.read_csv(r\"C:\\Users\\sreed\\Downloads\\filled_data_zone9_2014.csv\")"
   ]
  },
  {
   "cell_type": "code",
   "execution_count": 7,
   "metadata": {
    "colab": {
     "base_uri": "https://localhost:8080/",
     "height": 226
    },
    "id": "qGLkvFqRXfjL",
    "outputId": "4fd27a53-80b5-4209-946b-a7661df8db59"
   },
   "outputs": [
    {
     "data": {
      "text/html": [
       "<div>\n",
       "<style scoped>\n",
       "    .dataframe tbody tr th:only-of-type {\n",
       "        vertical-align: middle;\n",
       "    }\n",
       "\n",
       "    .dataframe tbody tr th {\n",
       "        vertical-align: top;\n",
       "    }\n",
       "\n",
       "    .dataframe thead th {\n",
       "        text-align: right;\n",
       "    }\n",
       "</style>\n",
       "<table border=\"1\" class=\"dataframe\">\n",
       "  <thead>\n",
       "    <tr style=\"text-align: right;\">\n",
       "      <th></th>\n",
       "      <th>Latitude</th>\n",
       "      <th>Longitude</th>\n",
       "      <th>Zone</th>\n",
       "      <th>NDVI</th>\n",
       "      <th>landuse</th>\n",
       "      <th>LST</th>\n",
       "      <th>NDBI</th>\n",
       "      <th>NDWI</th>\n",
       "      <th>Roughness</th>\n",
       "      <th>SAVI</th>\n",
       "      <th>Slope</th>\n",
       "      <th>SMI</th>\n",
       "      <th>solar_radiation</th>\n",
       "      <th>Suitable_Areas</th>\n",
       "    </tr>\n",
       "  </thead>\n",
       "  <tbody>\n",
       "    <tr>\n",
       "      <th>0</th>\n",
       "      <td>45.5365</td>\n",
       "      <td>9.143143</td>\n",
       "      <td>zone9</td>\n",
       "      <td>0.199839</td>\n",
       "      <td>meadow</td>\n",
       "      <td>NaN</td>\n",
       "      <td>0.012082</td>\n",
       "      <td>-0.228503</td>\n",
       "      <td>0</td>\n",
       "      <td>0.299694</td>\n",
       "      <td>0.0</td>\n",
       "      <td>0.324271</td>\n",
       "      <td>471.151147</td>\n",
       "      <td>0</td>\n",
       "    </tr>\n",
       "    <tr>\n",
       "      <th>1</th>\n",
       "      <td>45.5365</td>\n",
       "      <td>9.143412</td>\n",
       "      <td>zone9</td>\n",
       "      <td>0.199015</td>\n",
       "      <td>meadow</td>\n",
       "      <td>NaN</td>\n",
       "      <td>0.012169</td>\n",
       "      <td>-0.227788</td>\n",
       "      <td>0</td>\n",
       "      <td>0.298458</td>\n",
       "      <td>0.0</td>\n",
       "      <td>0.324271</td>\n",
       "      <td>471.140292</td>\n",
       "      <td>0</td>\n",
       "    </tr>\n",
       "    <tr>\n",
       "      <th>2</th>\n",
       "      <td>45.5365</td>\n",
       "      <td>9.143682</td>\n",
       "      <td>zone9</td>\n",
       "      <td>0.198166</td>\n",
       "      <td>meadow</td>\n",
       "      <td>NaN</td>\n",
       "      <td>0.012258</td>\n",
       "      <td>-0.227050</td>\n",
       "      <td>0</td>\n",
       "      <td>0.297184</td>\n",
       "      <td>0.0</td>\n",
       "      <td>0.324271</td>\n",
       "      <td>471.129071</td>\n",
       "      <td>0</td>\n",
       "    </tr>\n",
       "    <tr>\n",
       "      <th>3</th>\n",
       "      <td>45.5365</td>\n",
       "      <td>9.143951</td>\n",
       "      <td>zone9</td>\n",
       "      <td>0.197290</td>\n",
       "      <td>meadow</td>\n",
       "      <td>NaN</td>\n",
       "      <td>0.012349</td>\n",
       "      <td>-0.226290</td>\n",
       "      <td>0</td>\n",
       "      <td>0.295871</td>\n",
       "      <td>0.0</td>\n",
       "      <td>0.324271</td>\n",
       "      <td>471.117467</td>\n",
       "      <td>0</td>\n",
       "    </tr>\n",
       "    <tr>\n",
       "      <th>4</th>\n",
       "      <td>45.5365</td>\n",
       "      <td>9.144221</td>\n",
       "      <td>zone9</td>\n",
       "      <td>0.196386</td>\n",
       "      <td>meadow</td>\n",
       "      <td>NaN</td>\n",
       "      <td>0.012442</td>\n",
       "      <td>-0.225505</td>\n",
       "      <td>0</td>\n",
       "      <td>0.294517</td>\n",
       "      <td>0.0</td>\n",
       "      <td>0.324271</td>\n",
       "      <td>471.105458</td>\n",
       "      <td>0</td>\n",
       "    </tr>\n",
       "  </tbody>\n",
       "</table>\n",
       "</div>"
      ],
      "text/plain": [
       "   Latitude  Longitude   Zone      NDVI landuse  LST      NDBI      NDWI  \\\n",
       "0   45.5365   9.143143  zone9  0.199839  meadow  NaN  0.012082 -0.228503   \n",
       "1   45.5365   9.143412  zone9  0.199015  meadow  NaN  0.012169 -0.227788   \n",
       "2   45.5365   9.143682  zone9  0.198166  meadow  NaN  0.012258 -0.227050   \n",
       "3   45.5365   9.143951  zone9  0.197290  meadow  NaN  0.012349 -0.226290   \n",
       "4   45.5365   9.144221  zone9  0.196386  meadow  NaN  0.012442 -0.225505   \n",
       "\n",
       "   Roughness      SAVI  Slope       SMI  solar_radiation  Suitable_Areas  \n",
       "0          0  0.299694    0.0  0.324271       471.151147               0  \n",
       "1          0  0.298458    0.0  0.324271       471.140292               0  \n",
       "2          0  0.297184    0.0  0.324271       471.129071               0  \n",
       "3          0  0.295871    0.0  0.324271       471.117467               0  \n",
       "4          0  0.294517    0.0  0.324271       471.105458               0  "
      ]
     },
     "execution_count": 7,
     "metadata": {},
     "output_type": "execute_result"
    }
   ],
   "source": [
    "df_zone9.head()"
   ]
  },
  {
   "cell_type": "code",
   "execution_count": 8,
   "metadata": {
    "colab": {
     "base_uri": "https://localhost:8080/"
    },
    "id": "kZcYAfAlXgvZ",
    "outputId": "f3fc8f4c-72e5-44ff-f142-97ea5b5f5850"
   },
   "outputs": [
    {
     "name": "stdout",
     "output_type": "stream",
     "text": [
      "<class 'pandas.core.frame.DataFrame'>\n",
      "RangeIndex: 62370 entries, 0 to 62369\n",
      "Data columns (total 14 columns):\n",
      " #   Column           Non-Null Count  Dtype  \n",
      "---  ------           --------------  -----  \n",
      " 0   Latitude         62370 non-null  float64\n",
      " 1   Longitude        62370 non-null  float64\n",
      " 2   Zone             62370 non-null  object \n",
      " 3   NDVI             62370 non-null  float64\n",
      " 4   landuse          62370 non-null  object \n",
      " 5   LST              0 non-null      float64\n",
      " 6   NDBI             62370 non-null  float64\n",
      " 7   NDWI             62370 non-null  float64\n",
      " 8   Roughness        62370 non-null  int64  \n",
      " 9   SAVI             62370 non-null  float64\n",
      " 10  Slope            62370 non-null  float64\n",
      " 11  SMI              62370 non-null  float64\n",
      " 12  solar_radiation  62370 non-null  float64\n",
      " 13  Suitable_Areas   62370 non-null  int64  \n",
      "dtypes: float64(10), int64(2), object(2)\n",
      "memory usage: 6.7+ MB\n"
     ]
    }
   ],
   "source": [
    "df_zone9.info()"
   ]
  },
  {
   "cell_type": "code",
   "execution_count": 9,
   "metadata": {
    "id": "_38M4dTxXji_"
   },
   "outputs": [],
   "source": [
    "#Concatinating zone4 and zone 9 data\n",
    "df_2014=pd.concat([df_zone4,df_zone9])"
   ]
  },
  {
   "cell_type": "code",
   "execution_count": 10,
   "metadata": {
    "colab": {
     "base_uri": "https://localhost:8080/",
     "height": 226
    },
    "id": "wXIHAttVYGgt",
    "outputId": "5fa78ae3-724f-4fa7-dd2f-b9a8b6b3245e"
   },
   "outputs": [
    {
     "data": {
      "text/html": [
       "<div>\n",
       "<style scoped>\n",
       "    .dataframe tbody tr th:only-of-type {\n",
       "        vertical-align: middle;\n",
       "    }\n",
       "\n",
       "    .dataframe tbody tr th {\n",
       "        vertical-align: top;\n",
       "    }\n",
       "\n",
       "    .dataframe thead th {\n",
       "        text-align: right;\n",
       "    }\n",
       "</style>\n",
       "<table border=\"1\" class=\"dataframe\">\n",
       "  <thead>\n",
       "    <tr style=\"text-align: right;\">\n",
       "      <th></th>\n",
       "      <th>Latitude</th>\n",
       "      <th>Longitude</th>\n",
       "      <th>Zone</th>\n",
       "      <th>NDVI</th>\n",
       "      <th>landuse</th>\n",
       "      <th>LST</th>\n",
       "      <th>NDBI</th>\n",
       "      <th>NDWI</th>\n",
       "      <th>Roughness</th>\n",
       "      <th>SAVI</th>\n",
       "      <th>Slope</th>\n",
       "      <th>SMI</th>\n",
       "      <th>solar_radiation</th>\n",
       "      <th>Suitable_Areas</th>\n",
       "    </tr>\n",
       "  </thead>\n",
       "  <tbody>\n",
       "    <tr>\n",
       "      <th>0</th>\n",
       "      <td>45.47236</td>\n",
       "      <td>9.202701</td>\n",
       "      <td>zone4</td>\n",
       "      <td>0.360761</td>\n",
       "      <td>grass</td>\n",
       "      <td>121.681648</td>\n",
       "      <td>-0.130789</td>\n",
       "      <td>-0.381272</td>\n",
       "      <td>0</td>\n",
       "      <td>0.541073</td>\n",
       "      <td>0.0</td>\n",
       "      <td>0.214375</td>\n",
       "      <td>467.293863</td>\n",
       "      <td>0</td>\n",
       "    </tr>\n",
       "    <tr>\n",
       "      <th>1</th>\n",
       "      <td>45.47236</td>\n",
       "      <td>9.202971</td>\n",
       "      <td>zone4</td>\n",
       "      <td>0.361043</td>\n",
       "      <td>grass</td>\n",
       "      <td>121.681648</td>\n",
       "      <td>-0.130598</td>\n",
       "      <td>-0.381346</td>\n",
       "      <td>0</td>\n",
       "      <td>0.541497</td>\n",
       "      <td>0.0</td>\n",
       "      <td>0.215051</td>\n",
       "      <td>467.363286</td>\n",
       "      <td>0</td>\n",
       "    </tr>\n",
       "    <tr>\n",
       "      <th>2</th>\n",
       "      <td>45.47236</td>\n",
       "      <td>9.203240</td>\n",
       "      <td>zone4</td>\n",
       "      <td>0.361316</td>\n",
       "      <td>grass</td>\n",
       "      <td>121.681648</td>\n",
       "      <td>-0.130393</td>\n",
       "      <td>-0.381412</td>\n",
       "      <td>0</td>\n",
       "      <td>0.541907</td>\n",
       "      <td>0.0</td>\n",
       "      <td>0.215769</td>\n",
       "      <td>467.438801</td>\n",
       "      <td>0</td>\n",
       "    </tr>\n",
       "    <tr>\n",
       "      <th>3</th>\n",
       "      <td>45.47236</td>\n",
       "      <td>9.203510</td>\n",
       "      <td>zone4</td>\n",
       "      <td>0.361578</td>\n",
       "      <td>grass</td>\n",
       "      <td>121.681648</td>\n",
       "      <td>-0.130170</td>\n",
       "      <td>-0.381469</td>\n",
       "      <td>0</td>\n",
       "      <td>0.542301</td>\n",
       "      <td>0.0</td>\n",
       "      <td>0.216531</td>\n",
       "      <td>467.520987</td>\n",
       "      <td>0</td>\n",
       "    </tr>\n",
       "    <tr>\n",
       "      <th>4</th>\n",
       "      <td>45.47236</td>\n",
       "      <td>9.203779</td>\n",
       "      <td>zone4</td>\n",
       "      <td>0.361827</td>\n",
       "      <td>grass</td>\n",
       "      <td>121.681648</td>\n",
       "      <td>-0.129930</td>\n",
       "      <td>-0.381516</td>\n",
       "      <td>0</td>\n",
       "      <td>0.542676</td>\n",
       "      <td>0.0</td>\n",
       "      <td>0.217339</td>\n",
       "      <td>467.610465</td>\n",
       "      <td>0</td>\n",
       "    </tr>\n",
       "  </tbody>\n",
       "</table>\n",
       "</div>"
      ],
      "text/plain": [
       "   Latitude  Longitude   Zone      NDVI landuse         LST      NDBI  \\\n",
       "0  45.47236   9.202701  zone4  0.360761   grass  121.681648 -0.130789   \n",
       "1  45.47236   9.202971  zone4  0.361043   grass  121.681648 -0.130598   \n",
       "2  45.47236   9.203240  zone4  0.361316   grass  121.681648 -0.130393   \n",
       "3  45.47236   9.203510  zone4  0.361578   grass  121.681648 -0.130170   \n",
       "4  45.47236   9.203779  zone4  0.361827   grass  121.681648 -0.129930   \n",
       "\n",
       "       NDWI  Roughness      SAVI  Slope       SMI  solar_radiation  \\\n",
       "0 -0.381272          0  0.541073    0.0  0.214375       467.293863   \n",
       "1 -0.381346          0  0.541497    0.0  0.215051       467.363286   \n",
       "2 -0.381412          0  0.541907    0.0  0.215769       467.438801   \n",
       "3 -0.381469          0  0.542301    0.0  0.216531       467.520987   \n",
       "4 -0.381516          0  0.542676    0.0  0.217339       467.610465   \n",
       "\n",
       "   Suitable_Areas  \n",
       "0               0  \n",
       "1               0  \n",
       "2               0  \n",
       "3               0  \n",
       "4               0  "
      ]
     },
     "execution_count": 10,
     "metadata": {},
     "output_type": "execute_result"
    }
   ],
   "source": [
    "df_2014.head()"
   ]
  },
  {
   "cell_type": "code",
   "execution_count": 11,
   "metadata": {
    "colab": {
     "base_uri": "https://localhost:8080/"
    },
    "id": "aX45zeSUYNS5",
    "outputId": "6b0fded5-c3e3-442f-cc5a-824098240778"
   },
   "outputs": [
    {
     "name": "stdout",
     "output_type": "stream",
     "text": [
      "<class 'pandas.core.frame.DataFrame'>\n",
      "Int64Index: 114446 entries, 0 to 62369\n",
      "Data columns (total 14 columns):\n",
      " #   Column           Non-Null Count   Dtype  \n",
      "---  ------           --------------   -----  \n",
      " 0   Latitude         114446 non-null  float64\n",
      " 1   Longitude        114446 non-null  float64\n",
      " 2   Zone             114446 non-null  object \n",
      " 3   NDVI             114446 non-null  float64\n",
      " 4   landuse          114446 non-null  object \n",
      " 5   LST              52076 non-null   float64\n",
      " 6   NDBI             114446 non-null  float64\n",
      " 7   NDWI             114446 non-null  float64\n",
      " 8   Roughness        114446 non-null  int64  \n",
      " 9   SAVI             114446 non-null  float64\n",
      " 10  Slope            114446 non-null  float64\n",
      " 11  SMI              114446 non-null  float64\n",
      " 12  solar_radiation  114446 non-null  float64\n",
      " 13  Suitable_Areas   114446 non-null  int64  \n",
      "dtypes: float64(10), int64(2), object(2)\n",
      "memory usage: 13.1+ MB\n"
     ]
    }
   ],
   "source": [
    "df_2014.info()"
   ]
  },
  {
   "cell_type": "code",
   "execution_count": 12,
   "metadata": {
    "colab": {
     "base_uri": "https://localhost:8080/"
    },
    "id": "NQjKI-BnYQ0Q",
    "outputId": "a9eab487-18e4-4461-f6b9-6f7c8fe49f29"
   },
   "outputs": [
    {
     "data": {
      "text/plain": [
       "Latitude               0\n",
       "Longitude              0\n",
       "Zone                   0\n",
       "NDVI                   0\n",
       "landuse                0\n",
       "LST                62370\n",
       "NDBI                   0\n",
       "NDWI                   0\n",
       "Roughness              0\n",
       "SAVI                   0\n",
       "Slope                  0\n",
       "SMI                    0\n",
       "solar_radiation        0\n",
       "Suitable_Areas         0\n",
       "dtype: int64"
      ]
     },
     "execution_count": 12,
     "metadata": {},
     "output_type": "execute_result"
    }
   ],
   "source": [
    "df_2014.isnull().sum()"
   ]
  },
  {
   "cell_type": "markdown",
   "metadata": {
    "id": "ScvRTfG2jkFk"
   },
   "source": [
    "Null vlaues in LST data in enitre rows so will drop the column"
   ]
  },
  {
   "cell_type": "code",
   "execution_count": 13,
   "metadata": {
    "id": "-NBXjJJgYrsT"
   },
   "outputs": [],
   "source": [
    "#droping LST column\n",
    "df_2014.drop('LST',axis=1,inplace=True)"
   ]
  },
  {
   "cell_type": "code",
   "execution_count": 14,
   "metadata": {
    "colab": {
     "base_uri": "https://localhost:8080/"
    },
    "id": "PZDCJ2YWYzlO",
    "outputId": "008e53fd-ddc2-447e-fece-b87ddc0447d3"
   },
   "outputs": [
    {
     "data": {
      "text/plain": [
       "Latitude           0\n",
       "Longitude          0\n",
       "Zone               0\n",
       "NDVI               0\n",
       "landuse            0\n",
       "NDBI               0\n",
       "NDWI               0\n",
       "Roughness          0\n",
       "SAVI               0\n",
       "Slope              0\n",
       "SMI                0\n",
       "solar_radiation    0\n",
       "Suitable_Areas     0\n",
       "dtype: int64"
      ]
     },
     "execution_count": 14,
     "metadata": {},
     "output_type": "execute_result"
    }
   ],
   "source": [
    "df_2014.isnull().sum()"
   ]
  },
  {
   "cell_type": "code",
   "execution_count": 15,
   "metadata": {
    "colab": {
     "base_uri": "https://localhost:8080/"
    },
    "id": "l0nCec_lY1Md",
    "outputId": "e6b0bc9f-b2b1-48d3-f00d-82d35a83e5af"
   },
   "outputs": [
    {
     "data": {
      "text/plain": [
       "Index(['Latitude', 'Longitude', 'Zone', 'NDVI', 'landuse', 'NDBI', 'NDWI',\n",
       "       'Roughness', 'SAVI', 'Slope', 'SMI', 'solar_radiation',\n",
       "       'Suitable_Areas'],\n",
       "      dtype='object')"
      ]
     },
     "execution_count": 15,
     "metadata": {},
     "output_type": "execute_result"
    }
   ],
   "source": [
    "df_2014.columns"
   ]
  },
  {
   "cell_type": "code",
   "execution_count": 16,
   "metadata": {
    "colab": {
     "base_uri": "https://localhost:8080/"
    },
    "id": "mN6jyswYZEbu",
    "outputId": "665e552f-ea24-4c99-fdaa-4034a834de5e"
   },
   "outputs": [
    {
     "data": {
      "text/plain": [
       "array(['grass', 'military', 'industrial', 'farmland', 'residential',\n",
       "       'allotments', 'farmyard', 'construction', 'meadow', 'forest',\n",
       "       'commercial', 'village_green', 'railway', 'retail',\n",
       "       'plant_nursery', 'brownfield', 'recreation_ground', 'religious'],\n",
       "      dtype=object)"
      ]
     },
     "execution_count": 16,
     "metadata": {},
     "output_type": "execute_result"
    }
   ],
   "source": [
    "df_2014['landuse'].unique()"
   ]
  },
  {
   "cell_type": "code",
   "execution_count": 17,
   "metadata": {
    "colab": {
     "base_uri": "https://localhost:8080/",
     "height": 513
    },
    "id": "Hjm2reIlrn5m",
    "outputId": "430f2cf4-88c6-4fef-9a07-080fbf52566a"
   },
   "outputs": [
    {
     "name": "stdout",
     "output_type": "stream",
     "text": [
      "Class balance:\n",
      "0    0.963031\n",
      "1    0.036969\n",
      "Name: Suitable_Areas, dtype: float64\n"
     ]
    },
    {
     "data": {
      "image/png": "[encoded data removed]",
      "text/plain": [
       "<Figure size 1500x500 with 2 Axes>"
      ]
     },
     "metadata": {},
     "output_type": "display_data"
    }
   ],
   "source": [
    "# Counting the number of samples in each class\n",
    "class_counts =df_2014['Suitable_Areas'].value_counts()\n",
    "class_counts\n",
    "\n",
    "# Calculating the class balance\n",
    "total_samples = len(df_2014)\n",
    "balance_ratio = class_counts / total_samples\n",
    "\n",
    "# Printing the class balance\n",
    "print(\"Class balance:\")\n",
    "print(balance_ratio)\n",
    "# Visualizing number of suitable area values in dataset\n",
    "plt.figure(figsize=(15,5))\n",
    "\n",
    "# Creating bar plot showing count of suitable areas value\n",
    "plt.subplot(1, 2, 1)\n",
    "sns.countplot(x = \"Suitable_Areas\", data = df_2014,palette='plasma')\n",
    "plt.xlabel('0=Non Suitable Areas                           1=Suitable Areas  ')\n",
    "plt.title(\"Count of Class Distribution\")\n",
    "\n",
    "# Creating pie chart showing proportion of suitable areas value\n",
    "plt.subplot(1, 2, 2)\n",
    "plt.pie(df_2014[\"Suitable_Areas\"].value_counts(), labels = ['Non Suitable Areas',     'Suitable Areas  '], shadow = True, autopct = \"%1.1f%%\", colors = ['#f542da','#b9f542'])\n",
    "\n",
    "# Displaying plots\n",
    "plt.show()"
   ]
  },
  {
   "cell_type": "code",
   "execution_count": 18,
   "metadata": {
    "colab": {
     "base_uri": "https://localhost:8080/",
     "height": 649
    },
    "id": "N0DOxRsUg-eN",
    "outputId": "b887f769-bd91-4499-d820-99c51917fb6b"
   },
   "outputs": [
    {
     "data": {
      "text/plain": [
       "<AxesSubplot:>"
      ]
     },
     "execution_count": 18,
     "metadata": {},
     "output_type": "execute_result"
    },
    {
     "data": {
      "image/png": "[encoded data removed]",
      "text/plain": [
       "<Figure size 1500x800 with 2 Axes>"
      ]
     },
     "metadata": {},
     "output_type": "display_data"
    }
   ],
   "source": [
    "columns=['Latitude', 'Longitude', 'NDVI', 'NDBI', 'NDWI', 'Roughness', 'SAVI',\n",
    "       'Slope', 'SMI', 'solar_radiation']\n",
    "plt.figure(figsize=(15,8))\n",
    "#calculating correlation matrix of numerial columns\n",
    "corr_matrix=df_2014[columns].corr()\n",
    "\n",
    "#Plotting the correlation matrix using heatmap\n",
    "sns.heatmap(corr_matrix, annot=True, cmap='crest')"
   ]
  },
  {
   "cell_type": "code",
   "execution_count": 19,
   "metadata": {
    "colab": {
     "base_uri": "https://localhost:8080/",
     "height": 363
    },
    "id": "XFtuEnFChfFt",
    "outputId": "0c5f0730-e2dd-4d95-95ad-716181cdb66c"
   },
   "outputs": [
    {
     "data": {
      "text/html": [
       "<div>\n",
       "<style scoped>\n",
       "    .dataframe tbody tr th:only-of-type {\n",
       "        vertical-align: middle;\n",
       "    }\n",
       "\n",
       "    .dataframe tbody tr th {\n",
       "        vertical-align: top;\n",
       "    }\n",
       "\n",
       "    .dataframe thead th {\n",
       "        text-align: right;\n",
       "    }\n",
       "</style>\n",
       "<table border=\"1\" class=\"dataframe\">\n",
       "  <thead>\n",
       "    <tr style=\"text-align: right;\">\n",
       "      <th></th>\n",
       "      <th>Latitude</th>\n",
       "      <th>Longitude</th>\n",
       "      <th>NDVI</th>\n",
       "      <th>NDBI</th>\n",
       "      <th>NDWI</th>\n",
       "      <th>Roughness</th>\n",
       "      <th>SAVI</th>\n",
       "      <th>Slope</th>\n",
       "      <th>SMI</th>\n",
       "      <th>solar_radiation</th>\n",
       "    </tr>\n",
       "  </thead>\n",
       "  <tbody>\n",
       "    <tr>\n",
       "      <th>Latitude</th>\n",
       "      <td>1.000000</td>\n",
       "      <td>-0.704151</td>\n",
       "      <td>-0.086561</td>\n",
       "      <td>0.060447</td>\n",
       "      <td>0.089500</td>\n",
       "      <td>0.042754</td>\n",
       "      <td>-0.086559</td>\n",
       "      <td>0.036104</td>\n",
       "      <td>0.007684</td>\n",
       "      <td>-0.763753</td>\n",
       "    </tr>\n",
       "    <tr>\n",
       "      <th>Longitude</th>\n",
       "      <td>-0.704151</td>\n",
       "      <td>1.000000</td>\n",
       "      <td>0.247244</td>\n",
       "      <td>-0.282053</td>\n",
       "      <td>-0.235407</td>\n",
       "      <td>-0.010004</td>\n",
       "      <td>0.247245</td>\n",
       "      <td>0.088254</td>\n",
       "      <td>0.023194</td>\n",
       "      <td>0.594479</td>\n",
       "    </tr>\n",
       "    <tr>\n",
       "      <th>NDVI</th>\n",
       "      <td>-0.086561</td>\n",
       "      <td>0.247244</td>\n",
       "      <td>1.000000</td>\n",
       "      <td>-0.797562</td>\n",
       "      <td>-0.983343</td>\n",
       "      <td>0.027191</td>\n",
       "      <td>0.999998</td>\n",
       "      <td>0.088656</td>\n",
       "      <td>0.123699</td>\n",
       "      <td>0.104353</td>\n",
       "    </tr>\n",
       "    <tr>\n",
       "      <th>NDBI</th>\n",
       "      <td>0.060447</td>\n",
       "      <td>-0.282053</td>\n",
       "      <td>-0.797562</td>\n",
       "      <td>1.000000</td>\n",
       "      <td>0.762892</td>\n",
       "      <td>-0.027076</td>\n",
       "      <td>-0.797563</td>\n",
       "      <td>-0.070935</td>\n",
       "      <td>-0.106375</td>\n",
       "      <td>-0.081996</td>\n",
       "    </tr>\n",
       "    <tr>\n",
       "      <th>NDWI</th>\n",
       "      <td>0.089500</td>\n",
       "      <td>-0.235407</td>\n",
       "      <td>-0.983343</td>\n",
       "      <td>0.762892</td>\n",
       "      <td>1.000000</td>\n",
       "      <td>-0.025557</td>\n",
       "      <td>-0.983331</td>\n",
       "      <td>-0.098477</td>\n",
       "      <td>-0.108643</td>\n",
       "      <td>-0.108133</td>\n",
       "    </tr>\n",
       "    <tr>\n",
       "      <th>Roughness</th>\n",
       "      <td>0.042754</td>\n",
       "      <td>-0.010004</td>\n",
       "      <td>0.027191</td>\n",
       "      <td>-0.027076</td>\n",
       "      <td>-0.025557</td>\n",
       "      <td>1.000000</td>\n",
       "      <td>0.027191</td>\n",
       "      <td>0.163587</td>\n",
       "      <td>0.003307</td>\n",
       "      <td>-0.022468</td>\n",
       "    </tr>\n",
       "    <tr>\n",
       "      <th>SAVI</th>\n",
       "      <td>-0.086559</td>\n",
       "      <td>0.247245</td>\n",
       "      <td>0.999998</td>\n",
       "      <td>-0.797563</td>\n",
       "      <td>-0.983331</td>\n",
       "      <td>0.027191</td>\n",
       "      <td>1.000000</td>\n",
       "      <td>0.088703</td>\n",
       "      <td>0.123709</td>\n",
       "      <td>0.104349</td>\n",
       "    </tr>\n",
       "    <tr>\n",
       "      <th>Slope</th>\n",
       "      <td>0.036104</td>\n",
       "      <td>0.088254</td>\n",
       "      <td>0.088656</td>\n",
       "      <td>-0.070935</td>\n",
       "      <td>-0.098477</td>\n",
       "      <td>0.163587</td>\n",
       "      <td>0.088703</td>\n",
       "      <td>1.000000</td>\n",
       "      <td>-0.048385</td>\n",
       "      <td>0.094702</td>\n",
       "    </tr>\n",
       "    <tr>\n",
       "      <th>SMI</th>\n",
       "      <td>0.007684</td>\n",
       "      <td>0.023194</td>\n",
       "      <td>0.123699</td>\n",
       "      <td>-0.106375</td>\n",
       "      <td>-0.108643</td>\n",
       "      <td>0.003307</td>\n",
       "      <td>0.123709</td>\n",
       "      <td>-0.048385</td>\n",
       "      <td>1.000000</td>\n",
       "      <td>-0.007088</td>\n",
       "    </tr>\n",
       "    <tr>\n",
       "      <th>solar_radiation</th>\n",
       "      <td>-0.763753</td>\n",
       "      <td>0.594479</td>\n",
       "      <td>0.104353</td>\n",
       "      <td>-0.081996</td>\n",
       "      <td>-0.108133</td>\n",
       "      <td>-0.022468</td>\n",
       "      <td>0.104349</td>\n",
       "      <td>0.094702</td>\n",
       "      <td>-0.007088</td>\n",
       "      <td>1.000000</td>\n",
       "    </tr>\n",
       "  </tbody>\n",
       "</table>\n",
       "</div>"
      ],
      "text/plain": [
       "                 Latitude  Longitude      NDVI      NDBI      NDWI  Roughness  \\\n",
       "Latitude         1.000000  -0.704151 -0.086561  0.060447  0.089500   0.042754   \n",
       "Longitude       -0.704151   1.000000  0.247244 -0.282053 -0.235407  -0.010004   \n",
       "NDVI            -0.086561   0.247244  1.000000 -0.797562 -0.983343   0.027191   \n",
       "NDBI             0.060447  -0.282053 -0.797562  1.000000  0.762892  -0.027076   \n",
       "NDWI             0.089500  -0.235407 -0.983343  0.762892  1.000000  -0.025557   \n",
       "Roughness        0.042754  -0.010004  0.027191 -0.027076 -0.025557   1.000000   \n",
       "SAVI            -0.086559   0.247245  0.999998 -0.797563 -0.983331   0.027191   \n",
       "Slope            0.036104   0.088254  0.088656 -0.070935 -0.098477   0.163587   \n",
       "SMI              0.007684   0.023194  0.123699 -0.106375 -0.108643   0.003307   \n",
       "solar_radiation -0.763753   0.594479  0.104353 -0.081996 -0.108133  -0.022468   \n",
       "\n",
       "                     SAVI     Slope       SMI  solar_radiation  \n",
       "Latitude        -0.086559  0.036104  0.007684        -0.763753  \n",
       "Longitude        0.247245  0.088254  0.023194         0.594479  \n",
       "NDVI             0.999998  0.088656  0.123699         0.104353  \n",
       "NDBI            -0.797563 -0.070935 -0.106375        -0.081996  \n",
       "NDWI            -0.983331 -0.098477 -0.108643        -0.108133  \n",
       "Roughness        0.027191  0.163587  0.003307        -0.022468  \n",
       "SAVI             1.000000  0.088703  0.123709         0.104349  \n",
       "Slope            0.088703  1.000000 -0.048385         0.094702  \n",
       "SMI              0.123709 -0.048385  1.000000        -0.007088  \n",
       "solar_radiation  0.104349  0.094702 -0.007088         1.000000  "
      ]
     },
     "execution_count": 19,
     "metadata": {},
     "output_type": "execute_result"
    }
   ],
   "source": [
    "corr_matrix"
   ]
  },
  {
   "cell_type": "markdown",
   "metadata": {
    "id": "cuYHazUkh6By"
   },
   "source": [
    "\n",
    "Latitude and Solar Radiation (-0.764): As latitude increases, solar radiation tends to decrease. This is because solar radiation is more direct near the equator and more diffuse towards the poles.\n",
    "\n",
    "NDVI and SAVI (0.999): NDVI and SAVI are nearly perfectly correlated, which is expected because SAVI is derived from NDVI.\n",
    "\n",
    "NDVI and NDBI (-0.798): NDVI and NDBI are moderately negatively correlated, which means areas with high vegetation cover (high NDVI) tend to have low built-up areas (low NDBI)."
   ]
  },
  {
   "cell_type": "markdown",
   "metadata": {
    "id": "SMcb5oN2aHwh"
   },
   "source": [
    "### Preprocessing"
   ]
  },
  {
   "cell_type": "code",
   "execution_count": 20,
   "metadata": {
    "id": "7tUK1h8qqdUE"
   },
   "outputs": [],
   "source": [
    "\n",
    "y = df_2014['Suitable_Areas']\n",
    "X = df_2014.drop(columns=['Suitable_Areas'])\n",
    "\n",
    "# Defining the  columns\n",
    "numerical_features = ['NDVI',  'NDBI', 'NDWI', 'Roughness', 'SAVI', 'Slope', 'SMI', 'solar_radiation']\n",
    "categorical_features = ['Zone', 'landuse']\n",
    "\n",
    "# Spliting the data into training and test sets\n",
    "X_train, X_test, y_train, y_test = train_test_split(X, y, test_size=0.2, random_state=42, stratify=y)\n",
    "\n",
    "# Creating preprocessing pipelines\n",
    "numerical_pipeline = Pipeline(steps=[\n",
    "    ('scaler', StandardScaler())\n",
    "])\n",
    "\n",
    "categorical_pipeline = Pipeline(steps=[\n",
    "    ('onehot', OneHotEncoder(handle_unknown='ignore'))\n",
    "])\n",
    "\n",
    "# Combining pipelines using ColumnTransformer\n",
    "preprocessor = ColumnTransformer(\n",
    "    transformers=[\n",
    "        ('num', numerical_pipeline, numerical_features),\n",
    "        ('cat', categorical_pipeline, categorical_features)\n",
    "    ])\n",
    "\n",
    "# Fitting  the preprocessor on the training data and transform both training and test data\n",
    "X_train_preprocessed = preprocessor.fit_transform(X_train)\n",
    "X_test_preprocessed = preprocessor.transform(X_test)\n",
    "\n",
    "# Getting the names of the output columns after OneHotEncoding\n",
    "cat_feature_names = preprocessor.named_transformers_['cat']['onehot'].get_feature_names_out(categorical_features)\n",
    "\n",
    "# Combining numerical and categorical feature names\n",
    "all_feature_names = numerical_features + list(cat_feature_names)\n",
    "\n",
    "# Converting to DataFrame with appropriate column names\n",
    "df_train_preprocessed = pd.DataFrame(X_train_preprocessed, columns=all_feature_names)\n",
    "df_test_preprocessed = pd.DataFrame(X_test_preprocessed, columns=all_feature_names)\n",
    "\n",
    "\n"
   ]
  },
  {
   "cell_type": "code",
   "execution_count": 21,
   "metadata": {
    "colab": {
     "base_uri": "https://localhost:8080/",
     "height": 255
    },
    "id": "AEHphQ9gse08",
    "outputId": "ebd5cc64-f2aa-4306-ddd4-308f9c3520df"
   },
   "outputs": [
    {
     "data": {
      "text/html": [
       "<div>\n",
       "<style scoped>\n",
       "    .dataframe tbody tr th:only-of-type {\n",
       "        vertical-align: middle;\n",
       "    }\n",
       "\n",
       "    .dataframe tbody tr th {\n",
       "        vertical-align: top;\n",
       "    }\n",
       "\n",
       "    .dataframe thead th {\n",
       "        text-align: right;\n",
       "    }\n",
       "</style>\n",
       "<table border=\"1\" class=\"dataframe\">\n",
       "  <thead>\n",
       "    <tr style=\"text-align: right;\">\n",
       "      <th></th>\n",
       "      <th>NDVI</th>\n",
       "      <th>NDBI</th>\n",
       "      <th>NDWI</th>\n",
       "      <th>Roughness</th>\n",
       "      <th>SAVI</th>\n",
       "      <th>Slope</th>\n",
       "      <th>SMI</th>\n",
       "      <th>solar_radiation</th>\n",
       "      <th>Zone_zone4</th>\n",
       "      <th>Zone_zone9</th>\n",
       "      <th>...</th>\n",
       "      <th>landuse_industrial</th>\n",
       "      <th>landuse_meadow</th>\n",
       "      <th>landuse_military</th>\n",
       "      <th>landuse_plant_nursery</th>\n",
       "      <th>landuse_railway</th>\n",
       "      <th>landuse_recreation_ground</th>\n",
       "      <th>landuse_religious</th>\n",
       "      <th>landuse_residential</th>\n",
       "      <th>landuse_retail</th>\n",
       "      <th>landuse_village_green</th>\n",
       "    </tr>\n",
       "  </thead>\n",
       "  <tbody>\n",
       "    <tr>\n",
       "      <th>0</th>\n",
       "      <td>0.698372</td>\n",
       "      <td>-0.719860</td>\n",
       "      <td>-0.645282</td>\n",
       "      <td>-0.244436</td>\n",
       "      <td>0.698330</td>\n",
       "      <td>-1.178294</td>\n",
       "      <td>-0.080523</td>\n",
       "      <td>0.688411</td>\n",
       "      <td>1.0</td>\n",
       "      <td>0.0</td>\n",
       "      <td>...</td>\n",
       "      <td>0.0</td>\n",
       "      <td>0.0</td>\n",
       "      <td>0.0</td>\n",
       "      <td>0.0</td>\n",
       "      <td>0.0</td>\n",
       "      <td>0.0</td>\n",
       "      <td>0.0</td>\n",
       "      <td>0.0</td>\n",
       "      <td>0.0</td>\n",
       "      <td>0.0</td>\n",
       "    </tr>\n",
       "    <tr>\n",
       "      <th>1</th>\n",
       "      <td>2.470909</td>\n",
       "      <td>-2.747785</td>\n",
       "      <td>-2.200569</td>\n",
       "      <td>-0.150471</td>\n",
       "      <td>2.470809</td>\n",
       "      <td>0.848857</td>\n",
       "      <td>0.349169</td>\n",
       "      <td>0.466210</td>\n",
       "      <td>1.0</td>\n",
       "      <td>0.0</td>\n",
       "      <td>...</td>\n",
       "      <td>0.0</td>\n",
       "      <td>0.0</td>\n",
       "      <td>0.0</td>\n",
       "      <td>0.0</td>\n",
       "      <td>0.0</td>\n",
       "      <td>0.0</td>\n",
       "      <td>0.0</td>\n",
       "      <td>0.0</td>\n",
       "      <td>0.0</td>\n",
       "      <td>0.0</td>\n",
       "    </tr>\n",
       "    <tr>\n",
       "      <th>2</th>\n",
       "      <td>-0.470538</td>\n",
       "      <td>0.475476</td>\n",
       "      <td>0.513773</td>\n",
       "      <td>-0.150471</td>\n",
       "      <td>-0.470713</td>\n",
       "      <td>0.848773</td>\n",
       "      <td>-0.008083</td>\n",
       "      <td>1.426112</td>\n",
       "      <td>1.0</td>\n",
       "      <td>0.0</td>\n",
       "      <td>...</td>\n",
       "      <td>0.0</td>\n",
       "      <td>0.0</td>\n",
       "      <td>0.0</td>\n",
       "      <td>0.0</td>\n",
       "      <td>0.0</td>\n",
       "      <td>0.0</td>\n",
       "      <td>0.0</td>\n",
       "      <td>1.0</td>\n",
       "      <td>0.0</td>\n",
       "      <td>0.0</td>\n",
       "    </tr>\n",
       "    <tr>\n",
       "      <th>3</th>\n",
       "      <td>1.745556</td>\n",
       "      <td>-2.138081</td>\n",
       "      <td>-1.417016</td>\n",
       "      <td>-0.244436</td>\n",
       "      <td>1.745388</td>\n",
       "      <td>0.848682</td>\n",
       "      <td>0.383834</td>\n",
       "      <td>-1.228176</td>\n",
       "      <td>0.0</td>\n",
       "      <td>1.0</td>\n",
       "      <td>...</td>\n",
       "      <td>0.0</td>\n",
       "      <td>0.0</td>\n",
       "      <td>0.0</td>\n",
       "      <td>1.0</td>\n",
       "      <td>0.0</td>\n",
       "      <td>0.0</td>\n",
       "      <td>0.0</td>\n",
       "      <td>0.0</td>\n",
       "      <td>0.0</td>\n",
       "      <td>0.0</td>\n",
       "    </tr>\n",
       "    <tr>\n",
       "      <th>4</th>\n",
       "      <td>0.464388</td>\n",
       "      <td>-0.771818</td>\n",
       "      <td>-0.003959</td>\n",
       "      <td>-0.244436</td>\n",
       "      <td>0.464285</td>\n",
       "      <td>0.848298</td>\n",
       "      <td>0.303835</td>\n",
       "      <td>-0.446656</td>\n",
       "      <td>0.0</td>\n",
       "      <td>1.0</td>\n",
       "      <td>...</td>\n",
       "      <td>0.0</td>\n",
       "      <td>0.0</td>\n",
       "      <td>0.0</td>\n",
       "      <td>0.0</td>\n",
       "      <td>0.0</td>\n",
       "      <td>0.0</td>\n",
       "      <td>0.0</td>\n",
       "      <td>0.0</td>\n",
       "      <td>0.0</td>\n",
       "      <td>0.0</td>\n",
       "    </tr>\n",
       "  </tbody>\n",
       "</table>\n",
       "<p>5 rows × 28 columns</p>\n",
       "</div>"
      ],
      "text/plain": [
       "       NDVI      NDBI      NDWI  Roughness      SAVI     Slope       SMI  \\\n",
       "0  0.698372 -0.719860 -0.645282  -0.244436  0.698330 -1.178294 -0.080523   \n",
       "1  2.470909 -2.747785 -2.200569  -0.150471  2.470809  0.848857  0.349169   \n",
       "2 -0.470538  0.475476  0.513773  -0.150471 -0.470713  0.848773 -0.008083   \n",
       "3  1.745556 -2.138081 -1.417016  -0.244436  1.745388  0.848682  0.383834   \n",
       "4  0.464388 -0.771818 -0.003959  -0.244436  0.464285  0.848298  0.303835   \n",
       "\n",
       "   solar_radiation  Zone_zone4  Zone_zone9  ...  landuse_industrial  \\\n",
       "0         0.688411         1.0         0.0  ...                 0.0   \n",
       "1         0.466210         1.0         0.0  ...                 0.0   \n",
       "2         1.426112         1.0         0.0  ...                 0.0   \n",
       "3        -1.228176         0.0         1.0  ...                 0.0   \n",
       "4        -0.446656         0.0         1.0  ...                 0.0   \n",
       "\n",
       "   landuse_meadow  landuse_military  landuse_plant_nursery  landuse_railway  \\\n",
       "0             0.0               0.0                    0.0              0.0   \n",
       "1             0.0               0.0                    0.0              0.0   \n",
       "2             0.0               0.0                    0.0              0.0   \n",
       "3             0.0               0.0                    1.0              0.0   \n",
       "4             0.0               0.0                    0.0              0.0   \n",
       "\n",
       "   landuse_recreation_ground  landuse_religious  landuse_residential  \\\n",
       "0                        0.0                0.0                  0.0   \n",
       "1                        0.0                0.0                  0.0   \n",
       "2                        0.0                0.0                  1.0   \n",
       "3                        0.0                0.0                  0.0   \n",
       "4                        0.0                0.0                  0.0   \n",
       "\n",
       "   landuse_retail  landuse_village_green  \n",
       "0             0.0                    0.0  \n",
       "1             0.0                    0.0  \n",
       "2             0.0                    0.0  \n",
       "3             0.0                    0.0  \n",
       "4             0.0                    0.0  \n",
       "\n",
       "[5 rows x 28 columns]"
      ]
     },
     "execution_count": 21,
     "metadata": {},
     "output_type": "execute_result"
    }
   ],
   "source": [
    "df_train_preprocessed.head()"
   ]
  },
  {
   "cell_type": "code",
   "execution_count": 22,
   "metadata": {
    "colab": {
     "base_uri": "https://localhost:8080/",
     "height": 255
    },
    "id": "L0UdRL5isa-t",
    "outputId": "d4055000-6334-4270-b2bf-01b1f6c1e343"
   },
   "outputs": [
    {
     "data": {
      "text/html": [
       "<div>\n",
       "<style scoped>\n",
       "    .dataframe tbody tr th:only-of-type {\n",
       "        vertical-align: middle;\n",
       "    }\n",
       "\n",
       "    .dataframe tbody tr th {\n",
       "        vertical-align: top;\n",
       "    }\n",
       "\n",
       "    .dataframe thead th {\n",
       "        text-align: right;\n",
       "    }\n",
       "</style>\n",
       "<table border=\"1\" class=\"dataframe\">\n",
       "  <thead>\n",
       "    <tr style=\"text-align: right;\">\n",
       "      <th></th>\n",
       "      <th>NDVI</th>\n",
       "      <th>NDBI</th>\n",
       "      <th>NDWI</th>\n",
       "      <th>Roughness</th>\n",
       "      <th>SAVI</th>\n",
       "      <th>Slope</th>\n",
       "      <th>SMI</th>\n",
       "      <th>solar_radiation</th>\n",
       "      <th>Zone_zone4</th>\n",
       "      <th>Zone_zone9</th>\n",
       "      <th>...</th>\n",
       "      <th>landuse_industrial</th>\n",
       "      <th>landuse_meadow</th>\n",
       "      <th>landuse_military</th>\n",
       "      <th>landuse_plant_nursery</th>\n",
       "      <th>landuse_railway</th>\n",
       "      <th>landuse_recreation_ground</th>\n",
       "      <th>landuse_religious</th>\n",
       "      <th>landuse_residential</th>\n",
       "      <th>landuse_retail</th>\n",
       "      <th>landuse_village_green</th>\n",
       "    </tr>\n",
       "  </thead>\n",
       "  <tbody>\n",
       "    <tr>\n",
       "      <th>0</th>\n",
       "      <td>1.390726</td>\n",
       "      <td>-0.523036</td>\n",
       "      <td>-1.529443</td>\n",
       "      <td>-0.244436</td>\n",
       "      <td>1.390301</td>\n",
       "      <td>-1.178294</td>\n",
       "      <td>0.307890</td>\n",
       "      <td>-1.741513</td>\n",
       "      <td>0.0</td>\n",
       "      <td>1.0</td>\n",
       "      <td>...</td>\n",
       "      <td>0.0</td>\n",
       "      <td>0.0</td>\n",
       "      <td>0.0</td>\n",
       "      <td>0.0</td>\n",
       "      <td>0.0</td>\n",
       "      <td>0.0</td>\n",
       "      <td>0.0</td>\n",
       "      <td>0.0</td>\n",
       "      <td>0.0</td>\n",
       "      <td>0.0</td>\n",
       "    </tr>\n",
       "    <tr>\n",
       "      <th>1</th>\n",
       "      <td>-0.938137</td>\n",
       "      <td>1.298569</td>\n",
       "      <td>1.030496</td>\n",
       "      <td>-0.244436</td>\n",
       "      <td>-0.938127</td>\n",
       "      <td>0.848298</td>\n",
       "      <td>-0.684925</td>\n",
       "      <td>0.111025</td>\n",
       "      <td>0.0</td>\n",
       "      <td>1.0</td>\n",
       "      <td>...</td>\n",
       "      <td>0.0</td>\n",
       "      <td>0.0</td>\n",
       "      <td>0.0</td>\n",
       "      <td>0.0</td>\n",
       "      <td>0.0</td>\n",
       "      <td>0.0</td>\n",
       "      <td>0.0</td>\n",
       "      <td>0.0</td>\n",
       "      <td>0.0</td>\n",
       "      <td>0.0</td>\n",
       "    </tr>\n",
       "    <tr>\n",
       "      <th>2</th>\n",
       "      <td>0.349587</td>\n",
       "      <td>-1.602846</td>\n",
       "      <td>-0.669837</td>\n",
       "      <td>-0.056506</td>\n",
       "      <td>0.349382</td>\n",
       "      <td>0.848890</td>\n",
       "      <td>0.354783</td>\n",
       "      <td>0.402249</td>\n",
       "      <td>0.0</td>\n",
       "      <td>1.0</td>\n",
       "      <td>...</td>\n",
       "      <td>0.0</td>\n",
       "      <td>0.0</td>\n",
       "      <td>0.0</td>\n",
       "      <td>0.0</td>\n",
       "      <td>0.0</td>\n",
       "      <td>0.0</td>\n",
       "      <td>0.0</td>\n",
       "      <td>0.0</td>\n",
       "      <td>0.0</td>\n",
       "      <td>0.0</td>\n",
       "    </tr>\n",
       "    <tr>\n",
       "      <th>3</th>\n",
       "      <td>-0.768651</td>\n",
       "      <td>0.906857</td>\n",
       "      <td>0.958747</td>\n",
       "      <td>-0.244436</td>\n",
       "      <td>-0.767986</td>\n",
       "      <td>-1.178294</td>\n",
       "      <td>0.110620</td>\n",
       "      <td>-0.144305</td>\n",
       "      <td>0.0</td>\n",
       "      <td>1.0</td>\n",
       "      <td>...</td>\n",
       "      <td>0.0</td>\n",
       "      <td>0.0</td>\n",
       "      <td>0.0</td>\n",
       "      <td>0.0</td>\n",
       "      <td>0.0</td>\n",
       "      <td>0.0</td>\n",
       "      <td>0.0</td>\n",
       "      <td>0.0</td>\n",
       "      <td>0.0</td>\n",
       "      <td>0.0</td>\n",
       "    </tr>\n",
       "    <tr>\n",
       "      <th>4</th>\n",
       "      <td>1.787156</td>\n",
       "      <td>-2.040783</td>\n",
       "      <td>-1.817887</td>\n",
       "      <td>-0.244436</td>\n",
       "      <td>1.787028</td>\n",
       "      <td>0.848298</td>\n",
       "      <td>0.228358</td>\n",
       "      <td>-1.228176</td>\n",
       "      <td>0.0</td>\n",
       "      <td>1.0</td>\n",
       "      <td>...</td>\n",
       "      <td>0.0</td>\n",
       "      <td>0.0</td>\n",
       "      <td>0.0</td>\n",
       "      <td>1.0</td>\n",
       "      <td>0.0</td>\n",
       "      <td>0.0</td>\n",
       "      <td>0.0</td>\n",
       "      <td>0.0</td>\n",
       "      <td>0.0</td>\n",
       "      <td>0.0</td>\n",
       "    </tr>\n",
       "  </tbody>\n",
       "</table>\n",
       "<p>5 rows × 28 columns</p>\n",
       "</div>"
      ],
      "text/plain": [
       "       NDVI      NDBI      NDWI  Roughness      SAVI     Slope       SMI  \\\n",
       "0  1.390726 -0.523036 -1.529443  -0.244436  1.390301 -1.178294  0.307890   \n",
       "1 -0.938137  1.298569  1.030496  -0.244436 -0.938127  0.848298 -0.684925   \n",
       "2  0.349587 -1.602846 -0.669837  -0.056506  0.349382  0.848890  0.354783   \n",
       "3 -0.768651  0.906857  0.958747  -0.244436 -0.767986 -1.178294  0.110620   \n",
       "4  1.787156 -2.040783 -1.817887  -0.244436  1.787028  0.848298  0.228358   \n",
       "\n",
       "   solar_radiation  Zone_zone4  Zone_zone9  ...  landuse_industrial  \\\n",
       "0        -1.741513         0.0         1.0  ...                 0.0   \n",
       "1         0.111025         0.0         1.0  ...                 0.0   \n",
       "2         0.402249         0.0         1.0  ...                 0.0   \n",
       "3        -0.144305         0.0         1.0  ...                 0.0   \n",
       "4        -1.228176         0.0         1.0  ...                 0.0   \n",
       "\n",
       "   landuse_meadow  landuse_military  landuse_plant_nursery  landuse_railway  \\\n",
       "0             0.0               0.0                    0.0              0.0   \n",
       "1             0.0               0.0                    0.0              0.0   \n",
       "2             0.0               0.0                    0.0              0.0   \n",
       "3             0.0               0.0                    0.0              0.0   \n",
       "4             0.0               0.0                    1.0              0.0   \n",
       "\n",
       "   landuse_recreation_ground  landuse_religious  landuse_residential  \\\n",
       "0                        0.0                0.0                  0.0   \n",
       "1                        0.0                0.0                  0.0   \n",
       "2                        0.0                0.0                  0.0   \n",
       "3                        0.0                0.0                  0.0   \n",
       "4                        0.0                0.0                  0.0   \n",
       "\n",
       "   landuse_retail  landuse_village_green  \n",
       "0             0.0                    0.0  \n",
       "1             0.0                    0.0  \n",
       "2             0.0                    0.0  \n",
       "3             0.0                    0.0  \n",
       "4             0.0                    0.0  \n",
       "\n",
       "[5 rows x 28 columns]"
      ]
     },
     "execution_count": 22,
     "metadata": {},
     "output_type": "execute_result"
    }
   ],
   "source": [
    "\n",
    "df_test_preprocessed.head()"
   ]
  },
  {
   "cell_type": "code",
   "execution_count": 23,
   "metadata": {
    "colab": {
     "base_uri": "https://localhost:8080/"
    },
    "id": "kEwDClrdFz-o",
    "outputId": "981e6dcc-d502-49bb-9415-cb62966c8840"
   },
   "outputs": [
    {
     "name": "stdout",
     "output_type": "stream",
     "text": [
      "Collecting imblearn\n",
      "  Downloading imblearn-0.0-py2.py3-none-any.whl.metadata (355 bytes)\n",
      "Collecting imbalanced-learn (from imblearn)\n",
      "  Downloading imbalanced_learn-0.12.3-py3-none-any.whl.metadata (8.3 kB)\n",
      "Requirement already satisfied: numpy>=1.17.3 in c:\\users\\sreed\\anaconda3\\lib\\site-packages (from imbalanced-learn->imblearn) (1.24.3)\n",
      "Requirement already satisfied: scipy>=1.5.0 in c:\\users\\sreed\\anaconda3\\lib\\site-packages (from imbalanced-learn->imblearn) (1.9.1)\n",
      "Requirement already satisfied: scikit-learn>=1.0.2 in c:\\users\\sreed\\anaconda3\\lib\\site-packages (from imbalanced-learn->imblearn) (1.0.2)\n",
      "Collecting joblib>=1.1.1 (from imbalanced-learn->imblearn)\n",
      "  Downloading joblib-1.4.2-py3-none-any.whl.metadata (5.4 kB)\n",
      "Requirement already satisfied: threadpoolctl>=2.0.0 in c:\\users\\sreed\\anaconda3\\lib\\site-packages (from imbalanced-learn->imblearn) (2.2.0)\n",
      "Downloading imblearn-0.0-py2.py3-none-any.whl (1.9 kB)\n",
      "Downloading imbalanced_learn-0.12.3-py3-none-any.whl (258 kB)\n",
      "   ---------------------------------------- 258.3/258.3 kB 2.0 MB/s eta 0:00:00\n",
      "Downloading joblib-1.4.2-py3-none-any.whl (301 kB)\n",
      "   ---------------------------------------- 301.8/301.8 kB 3.7 MB/s eta 0:00:00\n",
      "Installing collected packages: joblib, imbalanced-learn, imblearn\n",
      "  Attempting uninstall: joblib\n",
      "    Found existing installation: joblib 1.1.0\n",
      "    Uninstalling joblib-1.1.0:\n",
      "      Successfully uninstalled joblib-1.1.0\n",
      "Successfully installed imbalanced-learn-0.12.3 imblearn-0.0 joblib-1.4.2\n"
     ]
    },
    {
     "name": "stderr",
     "output_type": "stream",
     "text": [
      "\n",
      "[notice] A new release of pip is available: 23.3.1 -> 24.0\n",
      "[notice] To update, run: python.exe -m pip install --upgrade pip\n"
     ]
    }
   ],
   "source": [
    "!pip install imblearn"
   ]
  },
  {
   "cell_type": "markdown",
   "metadata": {
    "id": "spF5RpzzGI6q"
   },
   "source": [
    "## Applying the SMOTE (Synthetic Minority Over-sampling Technique) to balance the classes"
   ]
  },
  {
   "cell_type": "code",
   "execution_count": 24,
   "metadata": {
    "id": "vS7BY3nnspTf"
   },
   "outputs": [],
   "source": [
    "X_train=df_train_preprocessed\n",
    "X_test=df_test_preprocessed\n",
    "y_train=y_train\n",
    "y_test=y_test"
   ]
  },
  {
   "cell_type": "code",
   "execution_count": 25,
   "metadata": {
    "id": "xP3s7E5mFz1B"
   },
   "outputs": [],
   "source": [
    "from imblearn.over_sampling import SMOTE"
   ]
  },
  {
   "cell_type": "code",
   "execution_count": 26,
   "metadata": {
    "id": "Hggq4ogifSQh"
   },
   "outputs": [],
   "source": [
    "# Applying SMOTE to balance the classes\n",
    "smote = SMOTE(random_state=42)\n",
    "X_train_resampled, y_train_resampled = smote.fit_resample(X_train, y_train)"
   ]
  },
  {
   "cell_type": "markdown",
   "metadata": {
    "id": "RNTd1E3wlTMs"
   },
   "source": [
    "### 1.Logistic Regression Model"
   ]
  },
  {
   "cell_type": "code",
   "execution_count": 27,
   "metadata": {
    "colab": {
     "base_uri": "https://localhost:8080/"
    },
    "id": "zbbxEUiJtAjZ",
    "outputId": "9f522b7c-3b23-423a-825a-95c5019ddc2b"
   },
   "outputs": [
    {
     "name": "stdout",
     "output_type": "stream",
     "text": [
      "              precision    recall  f1-score   support\n",
      "\n",
      "           0       0.98      0.66      0.79     22044\n",
      "           1       0.06      0.61      0.12       846\n",
      "\n",
      "    accuracy                           0.66     22890\n",
      "   macro avg       0.52      0.63      0.45     22890\n",
      "weighted avg       0.94      0.66      0.76     22890\n",
      "\n"
     ]
    }
   ],
   "source": [
    "# Training a logistic regression classifier\n",
    "logreg = LogisticRegression(random_state=42)\n",
    "logreg.fit(X_train_resampled, y_train_resampled)\n",
    "\n",
    "# Making predictions and evaluating the classifier\n",
    "y_pred_log = logreg.predict(X_test)\n",
    "print(classification_report(y_test, y_pred_log))"
   ]
  },
  {
   "cell_type": "markdown",
   "metadata": {
    "id": "XMWXk9TslYiG"
   },
   "source": [
    "### 2.Decision Tree Model"
   ]
  },
  {
   "cell_type": "code",
   "execution_count": 28,
   "metadata": {
    "colab": {
     "base_uri": "https://localhost:8080/"
    },
    "id": "o5i0ysCFGfSg",
    "outputId": "12e7b633-70b1-47d4-d05c-0ac879ab56a8"
   },
   "outputs": [
    {
     "name": "stdout",
     "output_type": "stream",
     "text": [
      "              precision    recall  f1-score   support\n",
      "\n",
      "           0       0.98      0.94      0.96     22044\n",
      "           1       0.25      0.49      0.33       846\n",
      "\n",
      "    accuracy                           0.93     22890\n",
      "   macro avg       0.62      0.72      0.65     22890\n",
      "weighted avg       0.95      0.93      0.94     22890\n",
      "\n"
     ]
    }
   ],
   "source": [
    "\n",
    "# Training a decision tree classifier\n",
    "dt = DecisionTreeClassifier(random_state=42)\n",
    "dt.fit(X_train_resampled, y_train_resampled)\n",
    "\n",
    "# Making predictions and evaluating the classifier\n",
    "y_pred_dt = dt.predict(X_test)\n",
    "print(classification_report(y_test, y_pred_dt))\n"
   ]
  },
  {
   "cell_type": "markdown",
   "metadata": {
    "id": "BAb51pP3lhcT"
   },
   "source": [
    "## Ensemble Methods"
   ]
  },
  {
   "cell_type": "markdown",
   "metadata": {
    "id": "B3uPyksflc9j"
   },
   "source": [
    "### 3.Random Forest Model"
   ]
  },
  {
   "cell_type": "code",
   "execution_count": 29,
   "metadata": {
    "colab": {
     "base_uri": "https://localhost:8080/"
    },
    "id": "uNKPOkHnF0la",
    "outputId": "9db0ab34-b124-4529-a4f3-54d1de4087e8"
   },
   "outputs": [
    {
     "name": "stdout",
     "output_type": "stream",
     "text": [
      "              precision    recall  f1-score   support\n",
      "\n",
      "           0       0.98      0.97      0.97     22044\n",
      "           1       0.34      0.47      0.39       846\n",
      "\n",
      "    accuracy                           0.95     22890\n",
      "   macro avg       0.66      0.72      0.68     22890\n",
      "weighted avg       0.96      0.95      0.95     22890\n",
      "\n"
     ]
    }
   ],
   "source": [
    "\n",
    "\n",
    "# Training a classifier\n",
    "rf = RandomForestClassifier(random_state=42)\n",
    "rf.fit(X_train_resampled, y_train_resampled)\n",
    "\n",
    "# Making predictions and evaluating the classifier\n",
    "y_pred_rf= rf.predict(X_test)\n",
    "print(classification_report(y_test, y_pred_rf))"
   ]
  },
  {
   "cell_type": "markdown",
   "metadata": {
    "id": "yXibDaKGlmKz"
   },
   "source": [
    "### 4.Gradient Boosting Model"
   ]
  },
  {
   "cell_type": "code",
   "execution_count": 30,
   "metadata": {
    "colab": {
     "base_uri": "https://localhost:8080/"
    },
    "id": "PuigOg7vtwK0",
    "outputId": "43f2a077-1ffb-4c5d-9f9a-7634ff209d45"
   },
   "outputs": [
    {
     "name": "stdout",
     "output_type": "stream",
     "text": [
      "              precision    recall  f1-score   support\n",
      "\n",
      "           0       0.98      0.77      0.86     22044\n",
      "           1       0.09      0.60      0.16       846\n",
      "\n",
      "    accuracy                           0.76     22890\n",
      "   macro avg       0.54      0.69      0.51     22890\n",
      "weighted avg       0.95      0.76      0.84     22890\n",
      "\n"
     ]
    }
   ],
   "source": [
    "# Training a gradient boosting classifier\n",
    "gb = GradientBoostingClassifier(random_state=42)\n",
    "gb.fit(X_train_resampled, y_train_resampled)\n",
    "\n",
    "# Making predictions and evaluating the classifier\n",
    "y_pred_gb= gb.predict(X_test)\n",
    "print(classification_report(y_test, y_pred_gb))"
   ]
  },
  {
   "cell_type": "markdown",
   "metadata": {
    "id": "nmh784ocls2f"
   },
   "source": [
    "### 5.XGBoost Model"
   ]
  },
  {
   "cell_type": "code",
   "execution_count": 31,
   "metadata": {
    "colab": {
     "base_uri": "https://localhost:8080/"
    },
    "id": "dNau3elbt_Yh",
    "outputId": "24792c0b-7957-4162-cfc1-3c43632e318e"
   },
   "outputs": [
    {
     "name": "stdout",
     "output_type": "stream",
     "text": [
      "              precision    recall  f1-score   support\n",
      "\n",
      "           0       0.98      0.92      0.95     22044\n",
      "           1       0.20      0.52      0.29       846\n",
      "\n",
      "    accuracy                           0.90     22890\n",
      "   macro avg       0.59      0.72      0.62     22890\n",
      "weighted avg       0.95      0.90      0.92     22890\n",
      "\n"
     ]
    }
   ],
   "source": [
    "# Training an XGBoost classifier\n",
    "xgb = XGBClassifier(random_state=42, use_label_encoder=False, eval_metric='logloss')\n",
    "xgb.fit(X_train_resampled, y_train_resampled)\n",
    "\n",
    "# Making predictions and evaluating the classifier\n",
    "y_pred_xgb= xgb.predict(X_test)\n",
    "print(classification_report(y_test, y_pred_xgb))"
   ]
  },
  {
   "cell_type": "code",
   "execution_count": 33,
   "metadata": {
    "colab": {
     "base_uri": "https://localhost:8080/"
    },
    "id": "CVoiJO9fb0-X",
    "outputId": "bb8b0b7a-2d37-4723-8b07-3e5890b2f3cd"
   },
   "outputs": [
    {
     "name": "stdout",
     "output_type": "stream",
     "text": [
      "Metrics report for Logistic Regression:\n",
      "\n",
      "Training Set Metrics:\n",
      "Accuracy: 0.632849803223282\n",
      "Precision: 0.6394812988961526\n",
      "Recall: 0.6090778147009788\n",
      "F1-Score: 0.6239093813534707\n",
      "ROC-AUC: 0.6328498032232819\n",
      "\n",
      "Confusion Matrix:\n",
      " [[57895 30276]\n",
      " [34468 53703]]\n",
      "\n",
      "\n",
      "              precision    recall  f1-score   support\n",
      "\n",
      "           0       0.63      0.66      0.64     88171\n",
      "           1       0.64      0.61      0.62     88171\n",
      "\n",
      "    accuracy                           0.63    176342\n",
      "   macro avg       0.63      0.63      0.63    176342\n",
      "weighted avg       0.63      0.63      0.63    176342\n",
      "\n",
      "Test Set Metrics:\n",
      "Accuracy: 0.6591524683267802\n",
      "Precision: 0.0644878537440521\n",
      "Recall: 0.6087470449172577\n",
      "F1-Score: 0.11662137681159421\n",
      "ROC-AUC: 0.6349169809960994\n",
      "\n",
      "Confusion Matrix:\n",
      " [[14573  7471]\n",
      " [  331   515]]\n",
      "\n",
      "\n",
      "              precision    recall  f1-score   support\n",
      "\n",
      "           0       0.98      0.66      0.79     22044\n",
      "           1       0.06      0.61      0.12       846\n",
      "\n",
      "    accuracy                           0.66     22890\n",
      "   macro avg       0.52      0.63      0.45     22890\n",
      "weighted avg       0.94      0.66      0.76     22890\n",
      "\n",
      "*-----------------------------------------------------------------*\n",
      "Metrics report for Decision Tree:\n",
      "\n",
      "Training Set Metrics:\n",
      "Accuracy: 0.9981456487960895\n",
      "Precision: 0.9975869491333409\n",
      "Recall: 0.9987070578761724\n",
      "F1-Score: 0.9981466892615662\n",
      "ROC-AUC: 0.9981456487960894\n",
      "\n",
      "Confusion Matrix:\n",
      " [[87958   213]\n",
      " [  114 88057]]\n",
      "\n",
      "\n",
      "              precision    recall  f1-score   support\n",
      "\n",
      "           0       1.00      1.00      1.00     88171\n",
      "           1       1.00      1.00      1.00     88171\n",
      "\n",
      "    accuracy                           1.00    176342\n",
      "   macro avg       1.00      1.00      1.00    176342\n",
      "weighted avg       1.00      1.00      1.00    176342\n",
      "\n",
      "Test Set Metrics:\n",
      "Accuracy: 0.926780253385758\n",
      "Precision: 0.25060096153846156\n",
      "Recall: 0.4929078014184397\n",
      "F1-Score: 0.3322709163346614\n",
      "ROC-AUC: 0.718169560299131\n",
      "\n",
      "Confusion Matrix:\n",
      " [[20797  1247]\n",
      " [  429   417]]\n",
      "\n",
      "\n",
      "              precision    recall  f1-score   support\n",
      "\n",
      "           0       0.98      0.94      0.96     22044\n",
      "           1       0.25      0.49      0.33       846\n",
      "\n",
      "    accuracy                           0.93     22890\n",
      "   macro avg       0.62      0.72      0.65     22890\n",
      "weighted avg       0.95      0.93      0.94     22890\n",
      "\n",
      "*-----------------------------------------------------------------*\n",
      "Metrics report for Random Forest:\n",
      "\n",
      "Training Set Metrics:\n",
      "Accuracy: 0.9900364065282236\n",
      "Precision: 0.9860945480728124\n",
      "Recall: 0.9940910276621565\n",
      "F1-Score: 0.9900766419853494\n",
      "ROC-AUC: 0.9900364065282236\n",
      "\n",
      "Confusion Matrix:\n",
      " [[86935  1236]\n",
      " [  521 87650]]\n",
      "\n",
      "\n",
      "              precision    recall  f1-score   support\n",
      "\n",
      "           0       0.99      0.99      0.99     88171\n",
      "           1       0.99      0.99      0.99     88171\n",
      "\n",
      "    accuracy                           0.99    176342\n",
      "   macro avg       0.99      0.99      0.99    176342\n",
      "weighted avg       0.99      0.99      0.99    176342\n",
      "\n",
      "Test Set Metrics:\n",
      "Accuracy: 0.94696373962429\n",
      "Precision: 0.3408304498269896\n",
      "Recall: 0.4657210401891253\n",
      "F1-Score: 0.3936063936063936\n",
      "ROC-AUC: 0.7155769055055589\n",
      "\n",
      "Confusion Matrix:\n",
      " [[21282   762]\n",
      " [  452   394]]\n",
      "\n",
      "\n",
      "              precision    recall  f1-score   support\n",
      "\n",
      "           0       0.98      0.97      0.97     22044\n",
      "           1       0.34      0.47      0.39       846\n",
      "\n",
      "    accuracy                           0.95     22890\n",
      "   macro avg       0.66      0.72      0.68     22890\n",
      "weighted avg       0.96      0.95      0.95     22890\n",
      "\n",
      "*-----------------------------------------------------------------*\n",
      "Metrics report for Gradient Boosting:\n",
      "\n",
      "Training Set Metrics:\n",
      "Accuracy: 0.8044595161674474\n",
      "Precision: 0.786118542361681\n",
      "Recall: 0.836510870921278\n",
      "F1-Score: 0.8105322153477588\n",
      "ROC-AUC: 0.8044595161674473\n",
      "\n",
      "Confusion Matrix:\n",
      " [[68104 20067]\n",
      " [14415 73756]]\n",
      "\n",
      "\n",
      "              precision    recall  f1-score   support\n",
      "\n",
      "           0       0.83      0.77      0.80     88171\n",
      "           1       0.79      0.84      0.81     88171\n",
      "\n",
      "    accuracy                           0.80    176342\n",
      "   macro avg       0.81      0.80      0.80    176342\n",
      "weighted avg       0.81      0.80      0.80    176342\n",
      "\n",
      "Test Set Metrics:\n",
      "Accuracy: 0.764525993883792\n",
      "Precision: 0.09180740208408193\n",
      "Recall: 0.6040189125295509\n",
      "F1-Score: 0.15938864628820962\n",
      "ROC-AUC: 0.6873524067274864\n",
      "\n",
      "Confusion Matrix:\n",
      " [[16989  5055]\n",
      " [  335   511]]\n",
      "\n",
      "\n",
      "              precision    recall  f1-score   support\n",
      "\n",
      "           0       0.98      0.77      0.86     22044\n",
      "           1       0.09      0.60      0.16       846\n",
      "\n",
      "    accuracy                           0.76     22890\n",
      "   macro avg       0.54      0.69      0.51     22890\n",
      "weighted avg       0.95      0.76      0.84     22890\n",
      "\n",
      "*-----------------------------------------------------------------*\n",
      "Metrics report for XGBoost:\n",
      "\n",
      "Training Set Metrics:\n",
      "Accuracy: 0.934587335972145\n",
      "Precision: 0.9247926921200834\n",
      "Recall: 0.9461160699096075\n",
      "F1-Score: 0.9353328661527681\n",
      "ROC-AUC: 0.9345873359721449\n",
      "\n",
      "Confusion Matrix:\n",
      " [[81387  6784]\n",
      " [ 4751 83420]]\n",
      "\n",
      "\n",
      "              precision    recall  f1-score   support\n",
      "\n",
      "           0       0.94      0.92      0.93     88171\n",
      "           1       0.92      0.95      0.94     88171\n",
      "\n",
      "    accuracy                           0.93    176342\n",
      "   macro avg       0.93      0.93      0.93    176342\n",
      "weighted avg       0.93      0.93      0.93    176342\n",
      "\n",
      "Test Set Metrics:\n",
      "Accuracy: 0.9029707295762341\n",
      "Precision: 0.1959310039805396\n",
      "Recall: 0.5236406619385343\n",
      "F1-Score: 0.28516253620856136\n",
      "ROC-AUC: 0.7205846205718801\n",
      "\n",
      "Confusion Matrix:\n",
      " [[20226  1818]\n",
      " [  403   443]]\n",
      "\n",
      "\n",
      "              precision    recall  f1-score   support\n",
      "\n",
      "           0       0.98      0.92      0.95     22044\n",
      "           1       0.20      0.52      0.29       846\n",
      "\n",
      "    accuracy                           0.90     22890\n",
      "   macro avg       0.59      0.72      0.62     22890\n",
      "weighted avg       0.95      0.90      0.92     22890\n",
      "\n",
      "*-----------------------------------------------------------------*\n"
     ]
    }
   ],
   "source": [
    "from sklearn.metrics import classification_report, accuracy_score, precision_score, recall_score, f1_score, roc_auc_score, confusion_matrix\n",
    "\n",
    "# List of classifiers\n",
    "classifiers = {\n",
    "    'Logistic Regression': logreg,\n",
    "    'Decision Tree': dt,\n",
    "    'Random Forest': rf,\n",
    "    'Gradient Boosting': gb,\n",
    "    'XGBoost': xgb,\n",
    "    #'Support Vector Classifier': svc,\n",
    "}\n",
    "\n",
    "# Evaluating each classifier\n",
    "for name, clf in classifiers.items():\n",
    "    y_pred_train = clf.predict(X_train_resampled)\n",
    "    y_pred_test = clf.predict(X_test)\n",
    "\n",
    "#training metrics\n",
    "    print(f\"Metrics report for {name}:\\n\")\n",
    "    print(\"Training Set Metrics:\")\n",
    "    print(f\"Accuracy: {accuracy_score(y_train_resampled, y_pred_train)}\")\n",
    "    print(f\"Precision: {precision_score(y_train_resampled, y_pred_train)}\")\n",
    "    print(f\"Recall: {recall_score(y_train_resampled, y_pred_train)}\")\n",
    "    print(f\"F1-Score: {f1_score(y_train_resampled, y_pred_train)}\")\n",
    "    print(f\"ROC-AUC: {roc_auc_score(y_train_resampled, y_pred_train)}\")\n",
    "    print(\"\\nConfusion Matrix:\\n\", confusion_matrix(y_train_resampled, y_pred_train))\n",
    "\n",
    "    print(\"\\n\")\n",
    "    print(classification_report(y_train_resampled, y_pred_train))\n",
    "\n",
    "#tesing metrics\n",
    "    print(\"Test Set Metrics:\")\n",
    "    print(f\"Accuracy: {accuracy_score(y_test, y_pred_test)}\")\n",
    "    print(f\"Precision: {precision_score(y_test, y_pred_test)}\")\n",
    "    print(f\"Recall: {recall_score(y_test, y_pred_test)}\")\n",
    "    print(f\"F1-Score: {f1_score(y_test, y_pred_test)}\")\n",
    "    print(f\"ROC-AUC: {roc_auc_score(y_test, y_pred_test)}\")\n",
    "    print(\"\\nConfusion Matrix:\\n\", confusion_matrix(y_test, y_pred_test))\n",
    "    print(\"\\n\")\n",
    "    print(classification_report(y_test, y_pred_test))\n",
    "\n",
    "    print('*-----------------------------------------------------------------*')\n"
   ]
  },
  {
   "cell_type": "code",
   "execution_count": null,
   "metadata": {
    "id": "fl1VPDdqcHd8"
   },
   "outputs": [],
   "source": []
  }
 ],
 "metadata": {
  "accelerator": "TPU",
  "colab": {
   "gpuType": "V28",
   "provenance": []
  },
  "kernelspec": {
   "display_name": "Python 3 (ipykernel)",
   "language": "python",
   "name": "python3"
  },
  "language_info": {
   "codemirror_mode": {
    "name": "ipython",
    "version": 3
   },
   "file_extension": ".py",
   "mimetype": "text/x-python",
   "name": "python",
   "nbconvert_exporter": "python",
   "pygments_lexer": "ipython3",
   "version": "3.9.13"
  }
 },
 "nbformat": 4,
 "nbformat_minor": 1
}
