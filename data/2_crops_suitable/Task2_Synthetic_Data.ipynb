{
  "nbformat": 4,
  "nbformat_minor": 0,
  "metadata": {
    "colab": {
      "provenance": []
    },
    "kernelspec": {
      "name": "python3",
      "display_name": "Python 3"
    },
    "language_info": {
      "name": "python"
    }
  },
  "cells": [
    {
      "cell_type": "code",
      "execution_count": null,
      "metadata": {
        "id": "eYR7jPeD6ynh"
      },
      "outputs": [],
      "source": [
        "import pandas as pd\n",
        "import random"
      ]
    },
    {
      "cell_type": "code",
      "source": [
        "# Function to generate synthetic data for a single crop based on its min and max values\n",
        "def generate_synthetic_data_for_single_crop(existing_crop, num_samples=100):\n",
        "    synthetic_crops = []\n",
        "\n",
        "    # Extract numeric ranges and categorical values\n",
        "    ranges = {}\n",
        "    categorical = {}\n",
        "    static_data = {}\n",
        "\n",
        "    for column in existing_crop.index:\n",
        "        if column.startswith('Min_'):\n",
        "            feature = column.replace('Min_', '')\n",
        "            max_column = f\"Max_{feature}\"\n",
        "            ranges[feature] = (existing_crop[column], existing_crop[max_column])\n",
        "        elif column.startswith('Max_'):\n",
        "            continue\n",
        "        elif column in ['Category_pH', 'Soil_Type', 'Photoperiod', 'Season']:  # Specify your categorical columns here\n",
        "            categorical[column] = existing_crop[column].split(',')\n",
        "        else:\n",
        "            static_data[column] = existing_crop[column]\n",
        "\n",
        "    for _ in range(num_samples):  # Generate specified number of data points for the crop\n",
        "        synthetic_crop = static_data.copy()  # Start with static data\n",
        "\n",
        "        for feature, (min_val, max_val) in ranges.items():\n",
        "            synthetic_value = random.uniform(min_val, max_val)\n",
        "            synthetic_crop[feature] = synthetic_value\n",
        "\n",
        "        for feature, categories in categorical.items():\n",
        "            synthetic_value = random.choice(categories)\n",
        "            synthetic_crop[feature] = synthetic_value\n",
        "\n",
        "        synthetic_crops.append(synthetic_crop)\n",
        "\n",
        "    return synthetic_crops"
      ],
      "metadata": {
        "id": "1khRULK467Y9"
      },
      "execution_count": null,
      "outputs": []
    },
    {
      "cell_type": "code",
      "source": [
        "# Read the CSV file containing crop data with a specific encoding and handle encoding errors\n",
        "csv_file_path = '/content/Task-3_Fruits_Data.csv'  # Replace with your CSV file path\n",
        "try:\n",
        "    crop_data = pd.read_csv(csv_file_path, encoding='latin1')\n",
        "except UnicodeDecodeError:\n",
        "    crop_data = pd.read_csv(csv_file_path, encoding='ISO-8859-1', errors='replace')\n",
        "\n",
        "\n",
        "synthetic_crop_data = []\n",
        "\n",
        "for i in range(len(crop_data)):\n",
        "      # Select the single crop from the dataset\n",
        "      selected_crop = crop_data.iloc[i]\n",
        "      # Generate synthetic data for the selected single crop (700 data points)\n",
        "      data = generate_synthetic_data_for_single_crop(selected_crop, num_samples=700)\n",
        "\n",
        "      synthetic_crop_data.extend(data)\n",
        "\n",
        "# Convert list of synthetic crops to a DataFrame\n",
        "synthetic_crop_data_df = pd.DataFrame(synthetic_crop_data)\n",
        "\n",
        "# Save the synthetic crop data to a new CSV file\n",
        "output_csv_file_path = '/content/synthetic_veg_crop_data_700.csv'  # Replace with desired output file path\n",
        "synthetic_crop_data_df.to_csv(output_csv_file_path, index=False)\n",
        "\n",
        "# Display the first few rows of the generated synthetic crop data\n",
        "print(\"Generated Synthetic Crop Data:\")\n",
        "print(synthetic_crop_data_df.head())"
      ],
      "metadata": {
        "colab": {
          "base_uri": "https://localhost:8080/"
        },
        "id": "BfFEGbWx7FWz",
        "outputId": "739e9eb6-62e0-4f2b-96e3-77cf6b9a308d"
      },
      "execution_count": null,
      "outputs": [
        {
          "output_type": "stream",
          "name": "stdout",
          "text": [
            "Generated Synthetic Crop Data:\n",
            "   S. no.   Name Fertility N-P-K Ratio  Temperature     Rainfall        pH  \\\n",
            "0       1  Apple      High  10-10-2010    19.899152  2223.146698  6.610480   \n",
            "1       1  Apple      High  10-10-2010    17.097604  2201.163166  6.983360   \n",
            "2       1  Apple      High  10-10-2010    20.627202   971.764433  6.355170   \n",
            "3       1  Apple      High  10-10-2010    16.591247   706.604869  6.174308   \n",
            "4       1  Apple      High  10-10-2010    24.980775  2044.256409  6.649969   \n",
            "\n",
            "   Light_Hours  Light_Intensity         Rh   Nitrogen  Phosphorus   Potassium  \\\n",
            "0    12.454554       734.919875  90.436523  89.806568   45.193743  177.456899   \n",
            "1    13.541109       779.965097  90.143247  87.588392   49.373282  185.529178   \n",
            "2    12.311864       612.614929  93.598390  85.575867   41.832545  196.902946   \n",
            "3    13.978299       816.250187  90.161804  92.648988   36.794537  167.670935   \n",
            "4    12.609330       818.125499  90.789626  89.905644   49.403398  153.317732   \n",
            "\n",
            "       Yield Category_pH   Soil_Type       Photoperiod  Season  \n",
            "0  12.477664  low_acidic  Sandy Loam       Day Neutral  Spring  \n",
            "1  12.414485  low_acidic  Sandy Loam       Day Neutral    Fall  \n",
            "2  13.034116     neutral  Sandy Loam       Day Neutral  Spring  \n",
            "3  12.835372     neutral  Sandy Loam       Day Neutral    Fall  \n",
            "4  14.744085     neutral  Sandy Loam  Short Day Period  Spring  \n"
          ]
        }
      ]
    }
  ]
}