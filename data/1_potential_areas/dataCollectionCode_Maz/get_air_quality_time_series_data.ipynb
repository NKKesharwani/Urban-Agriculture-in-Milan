{
 "cells": [
  {
   "cell_type": "markdown",
   "id": "b3e348e6-aeab-4c9a-8ed8-9735d880e1d0",
   "metadata": {},
   "source": [
    "### GET Air Quality Median Images"
   ]
  },
  {
   "cell_type": "markdown",
   "id": "5ed090a2-0aba-4d58-b455-3e8ec38c5f8d",
   "metadata": {},
   "source": [
    "Datasets Used: \n",
    "- NO2: https://developers.google.com/earth-engine/datasets/catalog/COPERNICUS_S5P_OFFL_L3_NO2\n",
    "- CO: https://developers.google.com/earth-engine/datasets/catalog/COPERNICUS_S5P_OFFL_L3_CO#bands\n",
    "- O3: https://developers.google.com/earth-engine/datasets/catalog/COPERNICUS_S5P_OFFL_L3_O3\n",
    "- SO2: https://developers.google.com/earth-engine/datasets/catalog/COPERNICUS_S5P_OFFL_L3_SO2\n",
    "- CH4: https://developers.google.com/earth-engine/datasets/catalog/COPERNICUS_S5P_OFFL_L3_CH4\n",
    "- HCHO: https://developers.google.com/earth-engine/datasets/catalog/COPERNICUS_S5P_OFFL_L3_HCHO"
   ]
  },
  {
   "cell_type": "markdown",
   "id": "2bb95103-730e-4312-8375-0e60c413391d",
   "metadata": {},
   "source": [
    "#### Imports"
   ]
  },
  {
   "cell_type": "code",
   "execution_count": 1,
   "id": "4ca24550-2a16-4cc7-8945-602611f00570",
   "metadata": {},
   "outputs": [],
   "source": [
    "import time\n",
    "from tqdm import tqdm\n",
    "import ee\n",
    "import geemap\n",
    "import geopandas as gpd\n",
    "import pandas as pd"
   ]
  },
  {
   "cell_type": "markdown",
   "id": "02930b5c-747e-4ff0-8813-5b788e2cdaff",
   "metadata": {},
   "source": [
    "#### Authentication and Initialize"
   ]
  },
  {
   "cell_type": "code",
   "execution_count": 2,
   "id": "10f47078-49c9-48f5-998a-72ad92787358",
   "metadata": {},
   "outputs": [
    {
     "data": {
      "text/html": [
       "\n",
       "            <style>\n",
       "                .geemap-dark {\n",
       "                    --jp-widgets-color: white;\n",
       "                    --jp-widgets-label-color: white;\n",
       "                    --jp-ui-font-color1: white;\n",
       "                    --jp-layout-color2: #454545;\n",
       "                    background-color: #383838;\n",
       "                }\n",
       "\n",
       "                .geemap-dark .jupyter-button {\n",
       "                    --jp-layout-color3: #383838;\n",
       "                }\n",
       "\n",
       "                .geemap-colab {\n",
       "                    background-color: var(--colab-primary-surface-color, white);\n",
       "                }\n",
       "\n",
       "                .geemap-colab .jupyter-button {\n",
       "                    --jp-layout-color3: var(--colab-primary-surface-color, white);\n",
       "                }\n",
       "            </style>\n",
       "            "
      ],
      "text/plain": [
       "<IPython.core.display.HTML object>"
      ]
     },
     "metadata": {},
     "output_type": "display_data"
    }
   ],
   "source": [
    "ee.Authenticate()\n",
    "ee.Initialize()"
   ]
  },
  {
   "cell_type": "markdown",
   "id": "b5d7c357-4e32-444c-a59c-6e889707de67",
   "metadata": {},
   "source": [
    "#### VARS"
   ]
  },
  {
   "cell_type": "code",
   "execution_count": 3,
   "id": "3d8c4b45-ef24-4281-a608-bd55868baaaf",
   "metadata": {},
   "outputs": [
    {
     "data": {
      "text/html": [
       "\n",
       "            <style>\n",
       "                .geemap-dark {\n",
       "                    --jp-widgets-color: white;\n",
       "                    --jp-widgets-label-color: white;\n",
       "                    --jp-ui-font-color1: white;\n",
       "                    --jp-layout-color2: #454545;\n",
       "                    background-color: #383838;\n",
       "                }\n",
       "\n",
       "                .geemap-dark .jupyter-button {\n",
       "                    --jp-layout-color3: #383838;\n",
       "                }\n",
       "\n",
       "                .geemap-colab {\n",
       "                    background-color: var(--colab-primary-surface-color, white);\n",
       "                }\n",
       "\n",
       "                .geemap-colab .jupyter-button {\n",
       "                    --jp-layout-color3: var(--colab-primary-surface-color, white);\n",
       "                }\n",
       "            </style>\n",
       "            "
      ],
      "text/plain": [
       "<IPython.core.display.HTML object>"
      ]
     },
     "metadata": {},
     "output_type": "display_data"
    }
   ],
   "source": [
    "datasets = {\n",
    "    \"NO2\": {\n",
    "        \"DATASET_NAME\": \"COPERNICUS/S5P/OFFL/L3_NO2\",\n",
    "        \"BANDS\": \"NO2_column_number_density\"\n",
    "    },\n",
    "    \"CO\": {\n",
    "        \"DATASET_NAME\": \"COPERNICUS/S5P/OFFL/L3_CO\",\n",
    "        \"BANDS\": \"CO_column_number_density\"\n",
    "    },\n",
    "    \"O3\": {\n",
    "        \"DATASET_NAME\": \"COPERNICUS/S5P/OFFL/L3_O3\",\n",
    "        \"BANDS\": \"O3_column_number_density\"  \n",
    "    },\n",
    "    \"SO2\": {\n",
    "        \"DATASET_NAME\": \"COPERNICUS/S5P/OFFL/L3_SO2\",\n",
    "        \"BANDS\": \"SO2_column_number_density\"\n",
    "    },\n",
    "    \"CH4\": {\n",
    "        \"DATASET_NAME\": \"COPERNICUS/S5P/OFFL/L3_CH4\",\n",
    "        \"BANDS\": \"CH4_column_volume_mixing_ratio_dry_air\"\n",
    "    },\n",
    "    \"HCHO\": {\n",
    "        \"DATASET_NAME\": \"COPERNICUS/S5P/OFFL/L3_HCHO\",\n",
    "        \"BANDS\": \"tropospheric_HCHO_column_number_density\"\n",
    "    },\n",
    "}"
   ]
  },
  {
   "cell_type": "code",
   "execution_count": 4,
   "id": "6da81fa8-870c-4689-b1ed-f7b1af581300",
   "metadata": {},
   "outputs": [
    {
     "data": {
      "text/html": [
       "\n",
       "            <style>\n",
       "                .geemap-dark {\n",
       "                    --jp-widgets-color: white;\n",
       "                    --jp-widgets-label-color: white;\n",
       "                    --jp-ui-font-color1: white;\n",
       "                    --jp-layout-color2: #454545;\n",
       "                    background-color: #383838;\n",
       "                }\n",
       "\n",
       "                .geemap-dark .jupyter-button {\n",
       "                    --jp-layout-color3: #383838;\n",
       "                }\n",
       "\n",
       "                .geemap-colab {\n",
       "                    background-color: var(--colab-primary-surface-color, white);\n",
       "                }\n",
       "\n",
       "                .geemap-colab .jupyter-button {\n",
       "                    --jp-layout-color3: var(--colab-primary-surface-color, white);\n",
       "                }\n",
       "            </style>\n",
       "            "
      ],
      "text/plain": [
       "<IPython.core.display.HTML object>"
      ]
     },
     "metadata": {},
     "output_type": "display_data"
    }
   ],
   "source": [
    "SCALE = 1113.2\n",
    "START_DATE = \"2023-01-01\"\n",
    "END_DATE = \"2024-01-01\"\n",
    "# zones = range(2, 10)\n",
    "zones = [4, 9]\n",
    "MAXPIXELS = 1e10\n",
    "TARGET_ZONE = 9"
   ]
  },
  {
   "cell_type": "code",
   "execution_count": 5,
   "id": "e7f185ef-4a16-4bef-b979-0ef325295e9d",
   "metadata": {},
   "outputs": [
    {
     "data": {
      "text/html": [
       "\n",
       "            <style>\n",
       "                .geemap-dark {\n",
       "                    --jp-widgets-color: white;\n",
       "                    --jp-widgets-label-color: white;\n",
       "                    --jp-ui-font-color1: white;\n",
       "                    --jp-layout-color2: #454545;\n",
       "                    background-color: #383838;\n",
       "                }\n",
       "\n",
       "                .geemap-dark .jupyter-button {\n",
       "                    --jp-layout-color3: #383838;\n",
       "                }\n",
       "\n",
       "                .geemap-colab {\n",
       "                    background-color: var(--colab-primary-surface-color, white);\n",
       "                }\n",
       "\n",
       "                .geemap-colab .jupyter-button {\n",
       "                    --jp-layout-color3: var(--colab-primary-surface-color, white);\n",
       "                }\n",
       "            </style>\n",
       "            "
      ],
      "text/plain": [
       "<IPython.core.display.HTML object>"
      ]
     },
     "metadata": {},
     "output_type": "display_data"
    }
   ],
   "source": [
    "# Fetching data to plot\n",
    "def extract_values(image):\n",
    "    mean_val = image.reduceRegion(reducer=ee.Reducer.mean(), geometry=roi.geometry(), scale=SCALE).get('NO2_column_number_density')\n",
    "    date = ee.Date(image.get('system:time_start')).format('YYYY-MM-dd')\n",
    "    return ee.Feature(None, {'date': date, 'mean_val': mean_val})"
   ]
  },
  {
   "cell_type": "code",
   "execution_count": 6,
   "id": "860d0187-4fe4-4e3b-8c6d-f69beda97bf2",
   "metadata": {},
   "outputs": [
    {
     "data": {
      "text/html": [
       "\n",
       "            <style>\n",
       "                .geemap-dark {\n",
       "                    --jp-widgets-color: white;\n",
       "                    --jp-widgets-label-color: white;\n",
       "                    --jp-ui-font-color1: white;\n",
       "                    --jp-layout-color2: #454545;\n",
       "                    background-color: #383838;\n",
       "                }\n",
       "\n",
       "                .geemap-dark .jupyter-button {\n",
       "                    --jp-layout-color3: #383838;\n",
       "                }\n",
       "\n",
       "                .geemap-colab {\n",
       "                    background-color: var(--colab-primary-surface-color, white);\n",
       "                }\n",
       "\n",
       "                .geemap-colab .jupyter-button {\n",
       "                    --jp-layout-color3: var(--colab-primary-surface-color, white);\n",
       "                }\n",
       "            </style>\n",
       "            "
      ],
      "text/plain": [
       "<IPython.core.display.HTML object>"
      ]
     },
     "metadata": {},
     "output_type": "display_data"
    }
   ],
   "source": [
    "shapefile_path = f\"/vsizip/../shape_files/zone_{TARGET_ZONE}.zip/layers/POLYGON.shp\"\n",
    "gdf = gpd.read_file(shapefile_path)\n",
    "roi = geemap.gdf_to_ee(gdf)"
   ]
  },
  {
   "cell_type": "code",
   "execution_count": 7,
   "id": "f7c36888-6293-4e09-953a-6cee101d23c9",
   "metadata": {},
   "outputs": [
    {
     "data": {
      "text/html": [
       "\n",
       "            <style>\n",
       "                .geemap-dark {\n",
       "                    --jp-widgets-color: white;\n",
       "                    --jp-widgets-label-color: white;\n",
       "                    --jp-ui-font-color1: white;\n",
       "                    --jp-layout-color2: #454545;\n",
       "                    background-color: #383838;\n",
       "                }\n",
       "\n",
       "                .geemap-dark .jupyter-button {\n",
       "                    --jp-layout-color3: #383838;\n",
       "                }\n",
       "\n",
       "                .geemap-colab {\n",
       "                    background-color: var(--colab-primary-surface-color, white);\n",
       "                }\n",
       "\n",
       "                .geemap-colab .jupyter-button {\n",
       "                    --jp-layout-color3: var(--colab-primary-surface-color, white);\n",
       "                }\n",
       "            </style>\n",
       "            "
      ],
      "text/plain": [
       "<IPython.core.display.HTML object>"
      ]
     },
     "metadata": {},
     "output_type": "display_data"
    }
   ],
   "source": [
    "# Import Sentinel-5P NRTI NO2 data\n",
    "NO2_collection = ee.ImageCollection('COPERNICUS/S5P/OFFL/L3_NO2') \\\n",
    "    .filterBounds(roi.geometry()) \\\n",
    "    .filterDate(START_DATE, END_DATE) \\\n",
    "    .select('NO2_column_number_density') \\\n",
    "    .map(lambda image: image.set('month', image.date().get('month')))\n",
    "\n",
    "# Calculate the mean NO2 concentration for each month\n",
    "months = ee.List(NO2_collection.aggregate_array('month')).distinct()\n",
    "\n",
    "def get_monthly_mean(x):\n",
    "    return NO2_collection.filterMetadata('month', 'equals', x).mean().set('month', x)\n",
    "\n",
    "NO2_monthly_conc = months.map(get_monthly_mean)\n",
    "NO2_final = ee.ImageCollection.fromImages(NO2_monthly_conc)\n",
    "\n",
    "time_series = NO2_final.map(extract_values)\n",
    "task = ee.batch.Export.table.toDrive(time_series, description='ExportNO2TimeSeries', fileFormat='CSV')\n",
    "task.start()\n",
    "\n",
    "# Monitor the task status\n",
    "while task.active():\n",
    "    print('Polling for task (id: {}).'.format(task.id))\n",
    "    time.sleep(10)"
   ]
  },
  {
   "cell_type": "code",
   "execution_count": 8,
   "id": "d15790ec-9ff4-47aa-a3e5-bda54ebcb772",
   "metadata": {},
   "outputs": [
    {
     "data": {
      "text/html": [
       "\n",
       "            <style>\n",
       "                .geemap-dark {\n",
       "                    --jp-widgets-color: white;\n",
       "                    --jp-widgets-label-color: white;\n",
       "                    --jp-ui-font-color1: white;\n",
       "                    --jp-layout-color2: #454545;\n",
       "                    background-color: #383838;\n",
       "                }\n",
       "\n",
       "                .geemap-dark .jupyter-button {\n",
       "                    --jp-layout-color3: #383838;\n",
       "                }\n",
       "\n",
       "                .geemap-colab {\n",
       "                    background-color: var(--colab-primary-surface-color, white);\n",
       "                }\n",
       "\n",
       "                .geemap-colab .jupyter-button {\n",
       "                    --jp-layout-color3: var(--colab-primary-surface-color, white);\n",
       "                }\n",
       "            </style>\n",
       "            "
      ],
      "text/plain": [
       "<IPython.core.display.HTML object>"
      ]
     },
     "metadata": {},
     "output_type": "display_data"
    },
    {
     "name": "stderr",
     "output_type": "stream",
     "text": [
      "C:\\Users\\maz\\anaconda3\\envs\\ipaua\\lib\\site-packages\\eerepr\\repr.py:57: UserWarning: Getting info failed with: 'Error in map(ID=0):\n",
      "Date: Parameter 'value' is required.'. Falling back to string repr.\n",
      "  warn(f\"Getting info failed with: '{e}'. Falling back to string repr.\")\n"
     ]
    },
    {
     "data": {
      "text/html": [
       "<pre>&lt;ee.imagecollection.ImageCollection object at 0x000002476A4B77F0&gt;</pre>"
      ],
      "text/plain": [
       "<ee.imagecollection.ImageCollection at 0x2476a4b77f0>"
      ]
     },
     "execution_count": 8,
     "metadata": {},
     "output_type": "execute_result"
    }
   ],
   "source": [
    "time_series"
   ]
  },
  {
   "cell_type": "code",
   "execution_count": null,
   "id": "e4d47f1a-bcce-408a-b8d8-e1d2e6e28b80",
   "metadata": {},
   "outputs": [],
   "source": []
  },
  {
   "cell_type": "code",
   "execution_count": null,
   "id": "9a43c81a-de04-4fc5-976c-3ca528f3bc3d",
   "metadata": {},
   "outputs": [],
   "source": []
  },
  {
   "cell_type": "code",
   "execution_count": null,
   "id": "4f308aac-062e-420b-969f-916abd9c8985",
   "metadata": {},
   "outputs": [],
   "source": []
  },
  {
   "cell_type": "code",
   "execution_count": null,
   "id": "fae2091b-d84b-439b-856e-e77c2fb42068",
   "metadata": {},
   "outputs": [],
   "source": []
  },
  {
   "cell_type": "code",
   "execution_count": null,
   "id": "844e4044-328f-432e-96c9-78771033e5d2",
   "metadata": {},
   "outputs": [],
   "source": []
  },
  {
   "cell_type": "code",
   "execution_count": null,
   "id": "83fed18c-091d-4947-8b87-6410458ff3d2",
   "metadata": {},
   "outputs": [],
   "source": []
  },
  {
   "cell_type": "code",
   "execution_count": null,
   "id": "de054629-6eff-493b-a4e0-60b44dd01317",
   "metadata": {},
   "outputs": [],
   "source": [
    "for key, value in tqdm(datasets.items()):\n",
    "    \n",
    "    DATASET_NAME = value['DATASET_NAME']\n",
    "    BANDS = value['BANDS']\n",
    "    GAS = key.split(\"/\")[-1].split(\"_\")[-1]\n",
    "    \n",
    "    # print(f\"{key} Dataset: {value['DATASET_NAME']}, Bands: {value['BANDS']}\")\n",
    "    # print(f'GAS: {key.split(\"/\")[-1].split(\"_\")[-1]}')\n",
    "    \n",
    "    if DATASET_NAME == \"COPERNICUS/S5P/OFFL/L3_CH4\":\n",
    "        UNITS = \"Mol fraction\"\n",
    "    else:\n",
    "        UNITS = \"mol/m^2\"\n",
    "\n",
    "    print(\"#\" * 120)\n",
    "    print(f\"Processing Dataset: '{DATASET_NAME}' with Band Name: '{BANDS}'. Short name: '{GAS}': Units: '{UNITS}'\")\n",
    "\n",
    "    # Load Dataset\n",
    "    collection = ee.ImageCollection(DATASET_NAME)\n",
    "\n",
    "    for zone in tqdm(zones):\n",
    "        shapefile_path = f\"/vsizip/../shape_files/zone_{zone}.zip/layers/POLYGON.shp\"\n",
    "        gdf = gpd.read_file(shapefile_path)\n",
    "        roi = geemap.gdf_to_ee(gdf)\n",
    "        \n",
    "        # # Extract the centroid of the ROI and get its coordinates.\n",
    "        # roi_centroid = roi.geometry().centroid().coordinates().getInfo()\n",
    "        # roi_coords = [roi_centroid[1], roi_centroid[0]]  # Folium expects [lat, lon]\n",
    "    \n",
    "        filtered = collection.filter(ee.Filter.date(START_DATE, END_DATE)) \\\n",
    "        .filter(ee.Filter.bounds(roi.geometry())).select(BANDS)\n",
    "        \n",
    "        median = filtered.median()\n",
    "    \n",
    "        # EXPORTING THE MEDIAN IMAGE\n",
    "        print(f\"EXPORTING MEDIAN IMAGES FOR '{GAS}' and '{zone}'\")\n",
    "        task_median = ee.batch.Export.image.toDrive(\n",
    "            image=median.select(BANDS),\n",
    "            description=f\"Median_Image_Zone{zone}_{GAS}\",\n",
    "            fileNamePrefix=f\"zone{zone}_median_{GAS}_{START_DATE}_{END_DATE}\",\n",
    "            folder=\"AirQuality\",\n",
    "            scale=SCALE,\n",
    "            region=roi.geometry().getInfo()[\"coordinates\"],\n",
    "            maxPixels=MAXPIXELS\n",
    "        )\n",
    "        task_median.start()\n",
    "        while task_median.active():\n",
    "            print(\"Polling for task (id: {}).\".format(task_median.id))\n",
    "            time.sleep(5)  # Poll every 5 seconds\n",
    "    \n",
    "        \n",
    "        print(f\"Task for Zone '{zone}', median image of '{GAS}' download completed with state {task_median.status()['state']}\")    \n",
    "    \n",
    "    \n",
    "    print(f\"Processing Dataset: '{DATASET_NAME}' Completed\")\n",
    "    print(\"#\" * 120)\n"
   ]
  },
  {
   "cell_type": "code",
   "execution_count": null,
   "id": "7ab1959d-f2f5-4e39-814e-e559e635d7f1",
   "metadata": {},
   "outputs": [],
   "source": []
  },
  {
   "cell_type": "code",
   "execution_count": null,
   "id": "273735ec-0597-4d33-8271-e0d153f93d9f",
   "metadata": {},
   "outputs": [],
   "source": []
  },
  {
   "cell_type": "code",
   "execution_count": null,
   "id": "495188ce-469a-4d02-aed5-cbba691f3c9d",
   "metadata": {},
   "outputs": [],
   "source": []
  },
  {
   "cell_type": "code",
   "execution_count": null,
   "id": "59567482-c2d5-46b4-a3ea-df4fa466e859",
   "metadata": {},
   "outputs": [],
   "source": []
  },
  {
   "cell_type": "code",
   "execution_count": null,
   "id": "7dddf12d-cf80-4de5-afb6-f99540e57f18",
   "metadata": {},
   "outputs": [],
   "source": []
  },
  {
   "cell_type": "code",
   "execution_count": null,
   "id": "788ea25c-4e5d-4ad3-a666-de7e162f9e9b",
   "metadata": {},
   "outputs": [],
   "source": []
  },
  {
   "cell_type": "code",
   "execution_count": null,
   "id": "541aa46a-96a4-4854-887c-d65b6c354895",
   "metadata": {},
   "outputs": [],
   "source": []
  },
  {
   "cell_type": "code",
   "execution_count": null,
   "id": "636ca0fc-54c1-4b94-b354-ba5ed620ca9e",
   "metadata": {},
   "outputs": [],
   "source": []
  },
  {
   "cell_type": "code",
   "execution_count": null,
   "id": "a24cbce3-8326-4b98-a9e9-cfc33b9cb917",
   "metadata": {},
   "outputs": [],
   "source": []
  },
  {
   "cell_type": "markdown",
   "id": "1e9569f8-c786-4ae3-827f-d9a4a8617d95",
   "metadata": {},
   "source": [
    "### Visualization (NO2)"
   ]
  },
  {
   "cell_type": "code",
   "execution_count": null,
   "id": "aea41147-eb5f-4f1a-8a6a-2817bd7d73c0",
   "metadata": {},
   "outputs": [],
   "source": [
    "# Nitrogen Dioxide\n",
    "DATASET_NAME = \"COPERNICUS/S5P/OFFL/L3_NO2\"\n",
    "BANDS = [\"NO2_column_number_density\"]\n",
    "\n",
    "START_DATE = \"2023-01-01\"\n",
    "END_DATE = \"2024-01-01\"\n",
    "\n",
    "OPACITY_LEVEL = 0.4\n",
    "TARGET_ZONE = 9\n",
    "\n",
    "palette = ['black', 'blue', 'purple', 'cyan', 'green', 'yellow', 'red']\n",
    "MIN = 0\n",
    "MAX = 0.0002\n",
    "\n",
    "UNITS = \"mol/m^2\"\n",
    "GAS = DATASET_NAME.split(\"/\")[-1].split(\"_\")[-1]\n",
    "GAS"
   ]
  },
  {
   "cell_type": "code",
   "execution_count": null,
   "id": "480bd450-4f82-4ed3-a6e0-231ffd76cf79",
   "metadata": {},
   "outputs": [],
   "source": [
    "from IPython.display import display, HTML\n",
    "\n",
    "shapefile_path = f\"/vsizip/../shape_files/zone_{TARGET_ZONE}.zip/layers/POLYGON.shp\"\n",
    "gdf = gpd.read_file(shapefile_path)\n",
    "roi = geemap.gdf_to_ee(gdf)\n",
    "\n",
    "# Load Dataset\n",
    "collection = ee.ImageCollection(DATASET_NAME)\n",
    "filtered = collection.filter(ee.Filter.date(START_DATE, END_DATE)) \\\n",
    "                .filter(ee.Filter.bounds(roi.geometry())).select(BANDS)\n",
    "        \n",
    "median = filtered.median()\n",
    "\n",
    "# Visualization Parameters\n",
    "VIS = {\n",
    "  \"min\": MIN,\n",
    "  \"max\": MAX,\n",
    "  \"palette\": palette\n",
    "}\n",
    "\n",
    "# Set opacity level between 0 (transparent) and 1 (opaque)\n",
    "opacity_level = OPACITY_LEVEL  \n",
    "# Draw boundaries of the shapefile region loaded in 'table'\n",
    "boundary = ee.FeatureCollection(roi)\n",
    "\n",
    "Map = geemap.Map()\n",
    "# Map = geemap.Map(center=[45.49995129887764, 9.18765328746192], zoom=13)\n",
    "# Map.set_center(9.18765328746192, 45.49995129887764, 13)\n",
    "Map.centerObject(roi.geometry(), 13)\n",
    "Map.addLayer(median.clip(roi.geometry()), VIS, f\"S5P {GAS}\");\n",
    "Map.addLayer(boundary, {\"color\": \"000000\"}, \"Region Boundary\", True, opacity_level)\n",
    "Map.addLayerControl()\n",
    "\n",
    "# Legend setup\n",
    "min_value = MIN  # Minimum Value\n",
    "max_value = MAX   # Maximum Value\n",
    "num_colors = len(palette)\n",
    "interval = (max_value - min_value) / num_colors\n",
    "ranges = [f\"{min_value + i * interval:.4f} to {min_value + (i + 1) * interval:.4f} ({UNITS})\" for i in range(num_colors)]\n",
    "legend_dict = dict(zip(ranges, [\"#\" + color for color in palette]))\n",
    "\n",
    "# Display a title above the map\n",
    "display(HTML(f\"<h3>{GAS}: Milan-Italy-Zone {TARGET_ZONE}</h3>\"))\n",
    "Map.add_legend(title=f\"{GAS} ({UNITS}) Milan-Zone {TARGET_ZONE}\", legend_dict=legend_dict)\n",
    "\n",
    "Map"
   ]
  },
  {
   "cell_type": "markdown",
   "id": "6aecb0bb-8339-48fd-a60d-9109dbdeada4",
   "metadata": {},
   "source": [
    "### Visualization (CO)"
   ]
  },
  {
   "cell_type": "code",
   "execution_count": null,
   "id": "bf75738d-d87e-4457-be99-a15bc9159d76",
   "metadata": {},
   "outputs": [],
   "source": [
    "# Carbon Monoxide\n",
    "DATASET_NAME = \"COPERNICUS/S5P/OFFL/L3_CO\"\n",
    "BANDS = [\"CO_column_number_density\"]\n",
    "\n",
    "START_DATE = \"2023-01-01\"\n",
    "END_DATE = \"2024-01-01\"\n",
    "\n",
    "OPACITY_LEVEL = 0.4\n",
    "TARGET_ZONE = 9\n",
    "\n",
    "palette = ['black', 'blue', 'purple', 'cyan', 'green', 'yellow', 'red']\n",
    "MIN = 0\n",
    "MAX = 0.05\n",
    "\n",
    "UNITS = \"mol/m^2\"\n",
    "GAS = DATASET_NAME.split(\"/\")[-1].split(\"_\")[-1]\n",
    "GAS"
   ]
  },
  {
   "cell_type": "code",
   "execution_count": null,
   "id": "49197d08-9cc8-49b4-84f1-5606f28b0a52",
   "metadata": {},
   "outputs": [],
   "source": [
    "from IPython.display import display, HTML\n",
    "\n",
    "shapefile_path = f\"/vsizip/../shape_files/zone_{TARGET_ZONE}.zip/layers/POLYGON.shp\"\n",
    "gdf = gpd.read_file(shapefile_path)\n",
    "roi = geemap.gdf_to_ee(gdf)\n",
    "\n",
    "# Load Dataset\n",
    "collection = ee.ImageCollection(DATASET_NAME)\n",
    "filtered = collection.filter(ee.Filter.date(START_DATE, END_DATE)) \\\n",
    "                .filter(ee.Filter.bounds(roi.geometry())).select(BANDS)\n",
    "        \n",
    "median = filtered.median()\n",
    "\n",
    "# Visualization Parameters\n",
    "VIS = {\n",
    "  \"min\": MIN,\n",
    "  \"max\": MAX,\n",
    "  \"palette\": palette\n",
    "}\n",
    "\n",
    "# Set opacity level between 0 (transparent) and 1 (opaque)\n",
    "opacity_level = OPACITY_LEVEL  \n",
    "# Draw boundaries of the shapefile region loaded in 'table'\n",
    "boundary = ee.FeatureCollection(roi)\n",
    "\n",
    "Map = geemap.Map()\n",
    "# Map = geemap.Map(center=[45.49995129887764, 9.18765328746192], zoom=13)\n",
    "# Map.set_center(9.18765328746192, 45.49995129887764, 13)\n",
    "Map.centerObject(roi.geometry(), 13)\n",
    "Map.addLayer(median.clip(roi.geometry()), VIS, f\"S5P {GAS}\");\n",
    "Map.addLayer(boundary, {\"color\": \"000000\"}, \"Region Boundary\", True, opacity_level)\n",
    "Map.addLayerControl()\n",
    "\n",
    "# Legend setup\n",
    "min_value = MIN  # Minimum Value\n",
    "max_value = MAX   # Maximum Value\n",
    "num_colors = len(palette)\n",
    "interval = (max_value - min_value) / num_colors\n",
    "ranges = [f\"{min_value + i * interval:.3f} to {min_value + (i + 1) * interval:.3f} ({UNITS})\" for i in range(num_colors)]\n",
    "legend_dict = dict(zip(ranges, [\"#\" + color for color in palette]))\n",
    "\n",
    "# Display a title above the map\n",
    "display(HTML(f\"<h3>{GAS}: Milan-Italy-Zone {TARGET_ZONE}</h3>\"))\n",
    "Map.add_legend(title=f\"{GAS} ({UNITS}) Milan-Zone {TARGET_ZONE}\", legend_dict=legend_dict)\n",
    "\n",
    "Map"
   ]
  },
  {
   "cell_type": "markdown",
   "id": "34cbf151-1371-4bb6-b221-e648624c5245",
   "metadata": {},
   "source": [
    "### Visualization (O3)"
   ]
  },
  {
   "cell_type": "code",
   "execution_count": null,
   "id": "8fa37031-ebea-46c1-9760-360cda601948",
   "metadata": {},
   "outputs": [],
   "source": [
    "# Ozone\n",
    "DATASET_NAME = \"COPERNICUS/S5P/OFFL/L3_O3\"\n",
    "BANDS = [\"O3_column_number_density\"]\n",
    "\n",
    "START_DATE = \"2023-01-01\"\n",
    "END_DATE = \"2024-01-01\"\n",
    "\n",
    "OPACITY_LEVEL = 0.4\n",
    "TARGET_ZONE = 9\n",
    "\n",
    "palette = ['black', 'blue', 'purple', 'cyan', 'green', 'yellow', 'red']\n",
    "MIN = 0.12\n",
    "MAX = 0.15\n",
    "\n",
    "UNITS = \"mol/m^2\"\n",
    "GAS = DATASET_NAME.split(\"/\")[-1].split(\"_\")[-1]\n",
    "GAS"
   ]
  },
  {
   "cell_type": "code",
   "execution_count": null,
   "id": "8ac61a55-4a3a-4b12-aab2-69fc5077dcec",
   "metadata": {},
   "outputs": [],
   "source": [
    "from IPython.display import display, HTML\n",
    "\n",
    "shapefile_path = f\"/vsizip/../shape_files/zone_{TARGET_ZONE}.zip/layers/POLYGON.shp\"\n",
    "gdf = gpd.read_file(shapefile_path)\n",
    "roi = geemap.gdf_to_ee(gdf)\n",
    "\n",
    "# Load Dataset\n",
    "collection = ee.ImageCollection(DATASET_NAME)\n",
    "filtered = collection.filter(ee.Filter.date(START_DATE, END_DATE)) \\\n",
    "                .filter(ee.Filter.bounds(roi.geometry())).select(BANDS)\n",
    "        \n",
    "median = filtered.median()\n",
    "\n",
    "# Visualization Parameters\n",
    "VIS = {\n",
    "  \"min\": MIN,\n",
    "  \"max\": MAX,\n",
    "  \"palette\": palette\n",
    "}\n",
    "\n",
    "# Set opacity level between 0 (transparent) and 1 (opaque)\n",
    "opacity_level = OPACITY_LEVEL  \n",
    "# Draw boundaries of the shapefile region loaded in 'table'\n",
    "boundary = ee.FeatureCollection(roi)\n",
    "\n",
    "Map = geemap.Map()\n",
    "# Map = geemap.Map(center=[45.49995129887764, 9.18765328746192], zoom=13)\n",
    "# Map.set_center(9.18765328746192, 45.49995129887764, 13)\n",
    "Map.centerObject(roi.geometry(), 13)\n",
    "Map.addLayer(median.clip(roi.geometry()), VIS, f\"S5P {GAS}\");\n",
    "Map.addLayer(boundary, {\"color\": \"000000\"}, \"Region Boundary\", True, opacity_level)\n",
    "Map.addLayerControl()\n",
    "\n",
    "# Legend setup\n",
    "min_value = MIN  # Minimum Value\n",
    "max_value = MAX   # Maximum Value\n",
    "num_colors = len(palette)\n",
    "interval = (max_value - min_value) / num_colors\n",
    "ranges = [f\"{min_value + i * interval:.2f} to {min_value + (i + 1) * interval:.2f} ({UNITS})\" for i in range(num_colors)]\n",
    "legend_dict = dict(zip(ranges, [\"#\" + color for color in palette]))\n",
    "\n",
    "# Display a title above the map\n",
    "display(HTML(f\"<h3>{GAS}: Milan-Italy-Zone {TARGET_ZONE}</h3>\"))\n",
    "Map.add_legend(title=f\"{GAS} ({UNITS}) Milan-Zone {TARGET_ZONE}\", legend_dict=legend_dict)\n",
    "\n",
    "Map"
   ]
  },
  {
   "cell_type": "markdown",
   "id": "b7d35180-a5f5-4e29-b219-3052936fb602",
   "metadata": {},
   "source": [
    "### Visualization (SO2)"
   ]
  },
  {
   "cell_type": "code",
   "execution_count": null,
   "id": "6e2bfd2b-40cc-4676-a094-95e9a6ab62c7",
   "metadata": {},
   "outputs": [],
   "source": [
    "# Sulfur Dioxide\n",
    "DATASET_NAME = \"COPERNICUS/S5P/OFFL/L3_SO2\"\n",
    "BANDS = [\"SO2_column_number_density\"]\n",
    "\n",
    "START_DATE = \"2023-01-01\"\n",
    "END_DATE = \"2024-01-01\"\n",
    "\n",
    "OPACITY_LEVEL = 0.4\n",
    "TARGET_ZONE = 9\n",
    "\n",
    "palette = ['black', 'blue', 'purple', 'cyan', 'green', 'yellow', 'red']\n",
    "MIN = 0\n",
    "MAX = 0.0005\n",
    "\n",
    "UNITS = \"mol/m^2\"\n",
    "GAS = DATASET_NAME.split(\"/\")[-1].split(\"_\")[-1]\n",
    "GAS"
   ]
  },
  {
   "cell_type": "code",
   "execution_count": null,
   "id": "5f70598b-c064-4bef-b343-51e51a32a81c",
   "metadata": {},
   "outputs": [],
   "source": [
    "from IPython.display import display, HTML\n",
    "\n",
    "shapefile_path = f\"/vsizip/../shape_files/zone_{TARGET_ZONE}.zip/layers/POLYGON.shp\"\n",
    "gdf = gpd.read_file(shapefile_path)\n",
    "roi = geemap.gdf_to_ee(gdf)\n",
    "\n",
    "# Load Dataset\n",
    "collection = ee.ImageCollection(DATASET_NAME)\n",
    "filtered = collection.filter(ee.Filter.date(START_DATE, END_DATE)) \\\n",
    "                .filter(ee.Filter.bounds(roi.geometry())).select(BANDS)\n",
    "        \n",
    "median = filtered.median()\n",
    "\n",
    "# Visualization Parameters\n",
    "VIS = {\n",
    "  \"min\": MIN,\n",
    "  \"max\": MAX,\n",
    "  \"palette\": palette\n",
    "}\n",
    "\n",
    "# Set opacity level between 0 (transparent) and 1 (opaque)\n",
    "opacity_level = OPACITY_LEVEL  \n",
    "# Draw boundaries of the shapefile region loaded in 'table'\n",
    "boundary = ee.FeatureCollection(roi)\n",
    "\n",
    "Map = geemap.Map()\n",
    "# Map = geemap.Map(center=[45.49995129887764, 9.18765328746192], zoom=13)\n",
    "# Map.set_center(9.18765328746192, 45.49995129887764, 13)\n",
    "Map.centerObject(roi.geometry(), 13)\n",
    "Map.addLayer(median.clip(roi.geometry()), VIS, f\"S5P {GAS}\");\n",
    "Map.addLayer(boundary, {\"color\": \"000000\"}, \"Region Boundary\", True, opacity_level)\n",
    "Map.addLayerControl()\n",
    "\n",
    "# Legend setup\n",
    "min_value = MIN  # Minimum Value\n",
    "max_value = MAX   # Maximum Value\n",
    "num_colors = len(palette)\n",
    "interval = (max_value - min_value) / num_colors\n",
    "ranges = [f\"{min_value + i * interval:.4f} to {min_value + (i + 1) * interval:.4f} ({UNITS})\" for i in range(num_colors)]\n",
    "legend_dict = dict(zip(ranges, [\"#\" + color for color in palette]))\n",
    "\n",
    "# Display a title above the map\n",
    "display(HTML(f\"<h3>{GAS}: Milan-Italy-Zone {TARGET_ZONE}</h3>\"))\n",
    "Map.add_legend(title=f\"{GAS} ({UNITS}) Milan-Zone {TARGET_ZONE}\", legend_dict=legend_dict)\n",
    "\n",
    "Map"
   ]
  },
  {
   "cell_type": "markdown",
   "id": "1d455300-4d55-46b5-9291-b1d1099b6772",
   "metadata": {},
   "source": [
    "### Visualization (CH4)"
   ]
  },
  {
   "cell_type": "code",
   "execution_count": 3,
   "id": "3f7e2fdb-15d3-4302-8f61-188828a16ddc",
   "metadata": {},
   "outputs": [
    {
     "data": {
      "text/html": [
       "\n",
       "            <style>\n",
       "                .geemap-dark {\n",
       "                    --jp-widgets-color: white;\n",
       "                    --jp-widgets-label-color: white;\n",
       "                    --jp-ui-font-color1: white;\n",
       "                    --jp-layout-color2: #454545;\n",
       "                    background-color: #383838;\n",
       "                }\n",
       "\n",
       "                .geemap-dark .jupyter-button {\n",
       "                    --jp-layout-color3: #383838;\n",
       "                }\n",
       "\n",
       "                .geemap-colab {\n",
       "                    background-color: var(--colab-primary-surface-color, white);\n",
       "                }\n",
       "\n",
       "                .geemap-colab .jupyter-button {\n",
       "                    --jp-layout-color3: var(--colab-primary-surface-color, white);\n",
       "                }\n",
       "            </style>\n",
       "            "
      ],
      "text/plain": [
       "<IPython.core.display.HTML object>"
      ]
     },
     "metadata": {},
     "output_type": "display_data"
    },
    {
     "data": {
      "text/plain": [
       "'CH4'"
      ]
     },
     "execution_count": 3,
     "metadata": {},
     "output_type": "execute_result"
    }
   ],
   "source": [
    "# Methane\n",
    "DATASET_NAME = \"COPERNICUS/S5P/OFFL/L3_CH4\"\n",
    "BANDS = [\"CH4_column_volume_mixing_ratio_dry_air\"]\n",
    "\n",
    "START_DATE = \"2023-01-01\"\n",
    "END_DATE = \"2024-01-01\"\n",
    "\n",
    "OPACITY_LEVEL = 0.4\n",
    "TARGET_ZONE = 9\n",
    "\n",
    "palette = ['black', 'blue', 'purple', 'cyan', 'green', 'yellow', 'red']\n",
    "MIN = 1750\n",
    "MAX = 1900\n",
    "\n",
    "UNITS = \"Mol fraction\"\n",
    "GAS = DATASET_NAME.split(\"/\")[-1].split(\"_\")[-1]\n",
    "GAS"
   ]
  },
  {
   "cell_type": "code",
   "execution_count": 4,
   "id": "d7a9515a-21f8-40e2-89ac-0c4195f74939",
   "metadata": {},
   "outputs": [
    {
     "data": {
      "text/html": [
       "\n",
       "            <style>\n",
       "                .geemap-dark {\n",
       "                    --jp-widgets-color: white;\n",
       "                    --jp-widgets-label-color: white;\n",
       "                    --jp-ui-font-color1: white;\n",
       "                    --jp-layout-color2: #454545;\n",
       "                    background-color: #383838;\n",
       "                }\n",
       "\n",
       "                .geemap-dark .jupyter-button {\n",
       "                    --jp-layout-color3: #383838;\n",
       "                }\n",
       "\n",
       "                .geemap-colab {\n",
       "                    background-color: var(--colab-primary-surface-color, white);\n",
       "                }\n",
       "\n",
       "                .geemap-colab .jupyter-button {\n",
       "                    --jp-layout-color3: var(--colab-primary-surface-color, white);\n",
       "                }\n",
       "            </style>\n",
       "            "
      ],
      "text/plain": [
       "<IPython.core.display.HTML object>"
      ]
     },
     "metadata": {},
     "output_type": "display_data"
    },
    {
     "data": {
      "text/html": [
       "<h3>CH4: Milan-Italy-Zone 9</h3>"
      ],
      "text/plain": [
       "<IPython.core.display.HTML object>"
      ]
     },
     "metadata": {},
     "output_type": "display_data"
    }
   ],
   "source": [
    "from IPython.display import display, HTML\n",
    "\n",
    "shapefile_path = f\"/vsizip/../shape_files/zone_{TARGET_ZONE}.zip/layers/POLYGON.shp\"\n",
    "gdf = gpd.read_file(shapefile_path)\n",
    "roi = geemap.gdf_to_ee(gdf)\n",
    "\n",
    "# Load Dataset\n",
    "collection = ee.ImageCollection(DATASET_NAME)\n",
    "filtered = collection.filter(ee.Filter.date(START_DATE, END_DATE)) \\\n",
    "                .filter(ee.Filter.bounds(roi.geometry())).select(BANDS)\n",
    "        \n",
    "median = filtered.median()\n",
    "\n",
    "# Visualization Parameters\n",
    "VIS = {\n",
    "  \"min\": MIN,\n",
    "  \"max\": MAX,\n",
    "  \"palette\": palette\n",
    "}\n",
    "\n",
    "# Set opacity level between 0 (transparent) and 1 (opaque)\n",
    "opacity_level = OPACITY_LEVEL  \n",
    "# Draw boundaries of the shapefile region loaded in 'table'\n",
    "boundary = ee.FeatureCollection(roi)\n",
    "\n",
    "Map = geemap.Map()\n",
    "# Map = geemap.Map(center=[45.49995129887764, 9.18765328746192], zoom=13)\n",
    "# Map.set_center(9.18765328746192, 45.49995129887764, 13)\n",
    "Map.centerObject(roi.geometry(), 13)\n",
    "Map.addLayer(median.clip(roi.geometry()), VIS, f\"S5P {GAS}\");\n",
    "Map.addLayer(boundary, {\"color\": \"000000\"}, \"Region Boundary\", True, opacity_level)\n",
    "Map.addLayerControl()\n",
    "\n",
    "# Legend setup\n",
    "min_value = MIN  # Minimum Value\n",
    "max_value = MAX   # Maximum Value\n",
    "num_colors = len(palette)\n",
    "interval = (max_value - min_value) / num_colors\n",
    "ranges = [f\"{min_value + i * interval:.0f} to {min_value + (i + 1) * interval:.0f} ({UNITS})\" for i in range(num_colors)]\n",
    "legend_dict = dict(zip(ranges, [\"#\" + color for color in palette]))\n",
    "\n",
    "# Display a title above the map\n",
    "display(HTML(f\"<h3>{GAS}: Milan-Italy-Zone {TARGET_ZONE}</h3>\"))\n",
    "Map.add_legend(title=f\"{GAS} ({UNITS}) Milan-Zone {TARGET_ZONE}\", legend_dict=legend_dict)\n"
   ]
  },
  {
   "cell_type": "markdown",
   "id": "6d06bb93-11ef-4809-8d1c-6554bf8ce2e5",
   "metadata": {},
   "source": [
    "### Visualization (HCHO)"
   ]
  },
  {
   "cell_type": "code",
   "execution_count": 5,
   "id": "3efb26e7-a2b2-45ec-88f0-dcd2f7e922e8",
   "metadata": {},
   "outputs": [
    {
     "data": {
      "text/html": [
       "\n",
       "            <style>\n",
       "                .geemap-dark {\n",
       "                    --jp-widgets-color: white;\n",
       "                    --jp-widgets-label-color: white;\n",
       "                    --jp-ui-font-color1: white;\n",
       "                    --jp-layout-color2: #454545;\n",
       "                    background-color: #383838;\n",
       "                }\n",
       "\n",
       "                .geemap-dark .jupyter-button {\n",
       "                    --jp-layout-color3: #383838;\n",
       "                }\n",
       "\n",
       "                .geemap-colab {\n",
       "                    background-color: var(--colab-primary-surface-color, white);\n",
       "                }\n",
       "\n",
       "                .geemap-colab .jupyter-button {\n",
       "                    --jp-layout-color3: var(--colab-primary-surface-color, white);\n",
       "                }\n",
       "            </style>\n",
       "            "
      ],
      "text/plain": [
       "<IPython.core.display.HTML object>"
      ]
     },
     "metadata": {},
     "output_type": "display_data"
    },
    {
     "data": {
      "text/plain": [
       "'HCHO'"
      ]
     },
     "execution_count": 5,
     "metadata": {},
     "output_type": "execute_result"
    }
   ],
   "source": [
    "# Formaldehyde\n",
    "DATASET_NAME = \"COPERNICUS/S5P/OFFL/L3_HCHO\"\n",
    "BANDS = [\"tropospheric_HCHO_column_number_density\"]\n",
    "\n",
    "START_DATE = \"2023-01-01\"\n",
    "END_DATE = \"2024-01-01\"\n",
    "\n",
    "OPACITY_LEVEL = 0.4\n",
    "TARGET_ZONE = 9\n",
    "\n",
    "palette = ['black', 'blue', 'purple', 'cyan', 'green', 'yellow', 'red']\n",
    "MIN = 0\n",
    "MAX = 0.0003\n",
    "\n",
    "UNITS = \"mol/m^2\"\n",
    "GAS = DATASET_NAME.split(\"/\")[-1].split(\"_\")[-1]\n",
    "GAS"
   ]
  },
  {
   "cell_type": "code",
   "execution_count": 6,
   "id": "52436376-0986-4f14-b92b-7a06f6e60710",
   "metadata": {},
   "outputs": [
    {
     "data": {
      "text/html": [
       "\n",
       "            <style>\n",
       "                .geemap-dark {\n",
       "                    --jp-widgets-color: white;\n",
       "                    --jp-widgets-label-color: white;\n",
       "                    --jp-ui-font-color1: white;\n",
       "                    --jp-layout-color2: #454545;\n",
       "                    background-color: #383838;\n",
       "                }\n",
       "\n",
       "                .geemap-dark .jupyter-button {\n",
       "                    --jp-layout-color3: #383838;\n",
       "                }\n",
       "\n",
       "                .geemap-colab {\n",
       "                    background-color: var(--colab-primary-surface-color, white);\n",
       "                }\n",
       "\n",
       "                .geemap-colab .jupyter-button {\n",
       "                    --jp-layout-color3: var(--colab-primary-surface-color, white);\n",
       "                }\n",
       "            </style>\n",
       "            "
      ],
      "text/plain": [
       "<IPython.core.display.HTML object>"
      ]
     },
     "metadata": {},
     "output_type": "display_data"
    },
    {
     "data": {
      "text/html": [
       "<h3>HCHO: Milan-Italy-Zone 9</h3>"
      ],
      "text/plain": [
       "<IPython.core.display.HTML object>"
      ]
     },
     "metadata": {},
     "output_type": "display_data"
    }
   ],
   "source": [
    "from IPython.display import display, HTML\n",
    "\n",
    "shapefile_path = f\"/vsizip/../shape_files/zone_{TARGET_ZONE}.zip/layers/POLYGON.shp\"\n",
    "gdf = gpd.read_file(shapefile_path)\n",
    "roi = geemap.gdf_to_ee(gdf)\n",
    "\n",
    "# Load Dataset\n",
    "collection = ee.ImageCollection(DATASET_NAME)\n",
    "filtered = collection.filter(ee.Filter.date(START_DATE, END_DATE)) \\\n",
    "                .filter(ee.Filter.bounds(roi.geometry())).select(BANDS)\n",
    "        \n",
    "median = filtered.median()\n",
    "\n",
    "# Visualization Parameters\n",
    "VIS = {\n",
    "  \"min\": MIN,\n",
    "  \"max\": MAX,\n",
    "  \"palette\": palette\n",
    "}\n",
    "\n",
    "# Set opacity level between 0 (transparent) and 1 (opaque)\n",
    "opacity_level = OPACITY_LEVEL  \n",
    "# Draw boundaries of the shapefile region loaded in 'table'\n",
    "boundary = ee.FeatureCollection(roi)\n",
    "\n",
    "Map = geemap.Map()\n",
    "# Map = geemap.Map(center=[45.49995129887764, 9.18765328746192], zoom=13)\n",
    "# Map.set_center(9.18765328746192, 45.49995129887764, 13)\n",
    "Map.centerObject(roi.geometry(), 13)\n",
    "Map.addLayer(median.clip(roi.geometry()), VIS, f\"S5P {GAS}\");\n",
    "Map.addLayer(boundary, {\"color\": \"000000\"}, \"Region Boundary\", True, opacity_level)\n",
    "Map.addLayerControl()\n",
    "\n",
    "# Legend setup\n",
    "min_value = MIN  # Minimum Value\n",
    "max_value = MAX   # Maximum Value\n",
    "num_colors = len(palette)\n",
    "interval = (max_value - min_value) / num_colors\n",
    "ranges = [f\"{min_value + i * interval:.4f} to {min_value + (i + 1) * interval:.4f} ({UNITS})\" for i in range(num_colors)]\n",
    "legend_dict = dict(zip(ranges, [\"#\" + color for color in palette]))\n",
    "\n",
    "# Display a title above the map\n",
    "display(HTML(f\"<h3>{GAS}: Milan-Italy-Zone {TARGET_ZONE}</h3>\"))\n",
    "Map.add_legend(title=f\"{GAS} ({UNITS}) Milan-Zone {TARGET_ZONE}\", legend_dict=legend_dict)"
   ]
  },
  {
   "cell_type": "code",
   "execution_count": null,
   "id": "71478048-6009-448f-a0bd-04f537fc9916",
   "metadata": {},
   "outputs": [],
   "source": []
  }
 ],
 "metadata": {
  "kernelspec": {
   "display_name": "ipaua",
   "language": "python",
   "name": "ipaua"
  },
  "language_info": {
   "codemirror_mode": {
    "name": "ipython",
    "version": 3
   },
   "file_extension": ".py",
   "mimetype": "text/x-python",
   "name": "python",
   "nbconvert_exporter": "python",
   "pygments_lexer": "ipython3",
   "version": "3.9.18"
  }
 },
 "nbformat": 4,
 "nbformat_minor": 5
}
