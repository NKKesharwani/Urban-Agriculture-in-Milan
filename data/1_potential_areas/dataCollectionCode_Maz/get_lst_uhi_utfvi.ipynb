{
 "cells": [
  {
   "cell_type": "markdown",
   "metadata": {},
   "source": [
    "### Land Surface Temperature, Urban Heat Island (UHI), Urban Thermal Field variance Index (UTFVI)"
   ]
  },
  {
   "cell_type": "markdown",
   "metadata": {},
   "source": [
    "Dataset Used: https://developers.google.com/earth-engine/datasets/catalog/LANDSAT_LC08_C02_T1_L2"
   ]
  },
  {
   "cell_type": "markdown",
   "metadata": {},
   "source": [
    "### IMPORTS"
   ]
  },
  {
   "cell_type": "code",
   "execution_count": 14,
   "metadata": {},
   "outputs": [
    {
     "data": {
      "text/html": [
       "\n",
       "            <style>\n",
       "                .geemap-dark {\n",
       "                    --jp-widgets-color: white;\n",
       "                    --jp-widgets-label-color: white;\n",
       "                    --jp-ui-font-color1: white;\n",
       "                    --jp-layout-color2: #454545;\n",
       "                    background-color: #383838;\n",
       "                }\n",
       "\n",
       "                .geemap-dark .jupyter-button {\n",
       "                    --jp-layout-color3: #383838;\n",
       "                }\n",
       "\n",
       "                .geemap-colab {\n",
       "                    background-color: var(--colab-primary-surface-color, white);\n",
       "                }\n",
       "\n",
       "                .geemap-colab .jupyter-button {\n",
       "                    --jp-layout-color3: var(--colab-primary-surface-color, white);\n",
       "                }\n",
       "            </style>\n",
       "            "
      ],
      "text/plain": [
       "<IPython.core.display.HTML object>"
      ]
     },
     "metadata": {},
     "output_type": "display_data"
    }
   ],
   "source": [
    "import time\n",
    "from typing import Any\n",
    "\n",
    "import ee\n",
    "import geemap\n",
    "import geopandas as gpd\n",
    "import pandas as pd\n",
    "from tqdm import tqdm"
   ]
  },
  {
   "cell_type": "markdown",
   "metadata": {},
   "source": [
    "### AUTHENTICATE AND INITIALIZE"
   ]
  },
  {
   "cell_type": "code",
   "execution_count": 15,
   "metadata": {},
   "outputs": [
    {
     "data": {
      "text/html": [
       "\n",
       "            <style>\n",
       "                .geemap-dark {\n",
       "                    --jp-widgets-color: white;\n",
       "                    --jp-widgets-label-color: white;\n",
       "                    --jp-ui-font-color1: white;\n",
       "                    --jp-layout-color2: #454545;\n",
       "                    background-color: #383838;\n",
       "                }\n",
       "\n",
       "                .geemap-dark .jupyter-button {\n",
       "                    --jp-layout-color3: #383838;\n",
       "                }\n",
       "\n",
       "                .geemap-colab {\n",
       "                    background-color: var(--colab-primary-surface-color, white);\n",
       "                }\n",
       "\n",
       "                .geemap-colab .jupyter-button {\n",
       "                    --jp-layout-color3: var(--colab-primary-surface-color, white);\n",
       "                }\n",
       "            </style>\n",
       "            "
      ],
      "text/plain": [
       "<IPython.core.display.HTML object>"
      ]
     },
     "metadata": {},
     "output_type": "display_data"
    }
   ],
   "source": [
    "# Authenticate to the Earth Engine servers\n",
    "ee.Authenticate()\n",
    "\n",
    "# Initialize the Earth Engine module.\n",
    "ee.Initialize()"
   ]
  },
  {
   "cell_type": "markdown",
   "metadata": {},
   "source": [
    "### VARIABLES"
   ]
  },
  {
   "cell_type": "code",
   "execution_count": 16,
   "metadata": {},
   "outputs": [
    {
     "data": {
      "text/html": [
       "\n",
       "            <style>\n",
       "                .geemap-dark {\n",
       "                    --jp-widgets-color: white;\n",
       "                    --jp-widgets-label-color: white;\n",
       "                    --jp-ui-font-color1: white;\n",
       "                    --jp-layout-color2: #454545;\n",
       "                    background-color: #383838;\n",
       "                }\n",
       "\n",
       "                .geemap-dark .jupyter-button {\n",
       "                    --jp-layout-color3: #383838;\n",
       "                }\n",
       "\n",
       "                .geemap-colab {\n",
       "                    background-color: var(--colab-primary-surface-color, white);\n",
       "                }\n",
       "\n",
       "                .geemap-colab .jupyter-button {\n",
       "                    --jp-layout-color3: var(--colab-primary-surface-color, white);\n",
       "                }\n",
       "            </style>\n",
       "            "
      ],
      "text/plain": [
       "<IPython.core.display.HTML object>"
      ]
     },
     "metadata": {},
     "output_type": "display_data"
    }
   ],
   "source": [
    "DATASET_NAME: str = \"LANDSAT/LC08/C02/T1_L2\"\n",
    "START_DATE: str = \"2023-01-01\"\n",
    "END_DATE: str = \"2024-01-01\"\n",
    "BANDS: list[str] = [\"SR_B4\", \"SR_B3\", \"SR_B2\"]\n",
    "SCALE: int = 30\n",
    "# ZONES: range = range(2, 10)\n",
    "TARGET_ZONE = 9\n",
    "ZONES = [4, 9]\n",
    "MAXPIXELS = 1e10\n",
    "OPACITY_LEVEL = 0.4 \n",
    "MIN_TEMP = -40  # Minimum temperature in Celsius\n",
    "MAX_TEMP = 60   # Maximum temperature in Celsius"
   ]
  },
  {
   "cell_type": "markdown",
   "metadata": {},
   "source": [
    "### FUNCTIONS"
   ]
  },
  {
   "cell_type": "code",
   "execution_count": 17,
   "metadata": {},
   "outputs": [
    {
     "data": {
      "text/html": [
       "\n",
       "            <style>\n",
       "                .geemap-dark {\n",
       "                    --jp-widgets-color: white;\n",
       "                    --jp-widgets-label-color: white;\n",
       "                    --jp-ui-font-color1: white;\n",
       "                    --jp-layout-color2: #454545;\n",
       "                    background-color: #383838;\n",
       "                }\n",
       "\n",
       "                .geemap-dark .jupyter-button {\n",
       "                    --jp-layout-color3: #383838;\n",
       "                }\n",
       "\n",
       "                .geemap-colab {\n",
       "                    background-color: var(--colab-primary-surface-color, white);\n",
       "                }\n",
       "\n",
       "                .geemap-colab .jupyter-button {\n",
       "                    --jp-layout-color3: var(--colab-primary-surface-color, white);\n",
       "                }\n",
       "            </style>\n",
       "            "
      ],
      "text/plain": [
       "<IPython.core.display.HTML object>"
      ]
     },
     "metadata": {},
     "output_type": "display_data"
    }
   ],
   "source": [
    "def mask_landsat_clouds(image):\n",
    "  \"\"\"Masks clouds in a landsat image using the QA_PIXEL band.\n",
    "  Args:\n",
    "      image (ee.Image): A landsat image.\n",
    "  Returns:\n",
    "      ee.Image: A cloud-masked landsat image.\n",
    "  \"\"\"\n",
    "  qa = image.select('QA_PIXEL')\n",
    "\n",
    "  # Bits 3 and 4 are clouds and Cloud Shadow, respectively.\n",
    "  cloud_bit_mask = 1 << 3\n",
    "  cloud_shadow_bit_mask = 1 << 4\n",
    "\n",
    "  # Both flags should be set to zero, indicating clear conditions.\n",
    "  mask = (\n",
    "      qa.bitwiseAnd(cloud_bit_mask)\n",
    "      .eq(0)\n",
    "      .And(qa.bitwiseAnd(cloud_shadow_bit_mask).eq(0))\n",
    "  )\n",
    "  return image.updateMask(mask).select(\"S.*\").copyProperties(image, [\"system:time_start\"])\n",
    "\n",
    "  # return image.updateMask(mask).divide(10000)"
   ]
  },
  {
   "cell_type": "code",
   "execution_count": 18,
   "metadata": {},
   "outputs": [
    {
     "data": {
      "text/html": [
       "\n",
       "            <style>\n",
       "                .geemap-dark {\n",
       "                    --jp-widgets-color: white;\n",
       "                    --jp-widgets-label-color: white;\n",
       "                    --jp-ui-font-color1: white;\n",
       "                    --jp-layout-color2: #454545;\n",
       "                    background-color: #383838;\n",
       "                }\n",
       "\n",
       "                .geemap-dark .jupyter-button {\n",
       "                    --jp-layout-color3: #383838;\n",
       "                }\n",
       "\n",
       "                .geemap-colab {\n",
       "                    background-color: var(--colab-primary-surface-color, white);\n",
       "                }\n",
       "\n",
       "                .geemap-colab .jupyter-button {\n",
       "                    --jp-layout-color3: var(--colab-primary-surface-color, white);\n",
       "                }\n",
       "            </style>\n",
       "            "
      ],
      "text/plain": [
       "<IPython.core.display.HTML object>"
      ]
     },
     "metadata": {},
     "output_type": "display_data"
    }
   ],
   "source": [
    "# Applies scaling factors.\n",
    "def apply_scale_factors(image):\n",
    "    optical_bands = image.select(\"SR_B.\").multiply(0.0000275).add(-0.2)\n",
    "    thermal_bands = image.select(\"ST_B.*\").multiply(0.00341802).add(149.0)\n",
    "    return image.addBands(optical_bands, None, True).addBands(thermal_bands, None, True)"
   ]
  },
  {
   "cell_type": "markdown",
   "metadata": {},
   "source": [
    "### GET COLLECTION"
   ]
  },
  {
   "cell_type": "code",
   "execution_count": 19,
   "metadata": {},
   "outputs": [
    {
     "data": {
      "text/html": [
       "\n",
       "            <style>\n",
       "                .geemap-dark {\n",
       "                    --jp-widgets-color: white;\n",
       "                    --jp-widgets-label-color: white;\n",
       "                    --jp-ui-font-color1: white;\n",
       "                    --jp-layout-color2: #454545;\n",
       "                    background-color: #383838;\n",
       "                }\n",
       "\n",
       "                .geemap-dark .jupyter-button {\n",
       "                    --jp-layout-color3: #383838;\n",
       "                }\n",
       "\n",
       "                .geemap-colab {\n",
       "                    background-color: var(--colab-primary-surface-color, white);\n",
       "                }\n",
       "\n",
       "                .geemap-colab .jupyter-button {\n",
       "                    --jp-layout-color3: var(--colab-primary-surface-color, white);\n",
       "                }\n",
       "            </style>\n",
       "            "
      ],
      "text/plain": [
       "<IPython.core.display.HTML object>"
      ]
     },
     "metadata": {},
     "output_type": "display_data"
    }
   ],
   "source": [
    "shapefile_path = f\"/vsizip/../shape_files/zone_{TARGET_ZONE}.zip/layers/POLYGON.shp\"\n",
    "gdf = gpd.read_file(shapefile_path)\n",
    "roi = geemap.gdf_to_ee(gdf)"
   ]
  },
  {
   "cell_type": "code",
   "execution_count": 20,
   "metadata": {},
   "outputs": [
    {
     "data": {
      "text/html": [
       "\n",
       "            <style>\n",
       "                .geemap-dark {\n",
       "                    --jp-widgets-color: white;\n",
       "                    --jp-widgets-label-color: white;\n",
       "                    --jp-ui-font-color1: white;\n",
       "                    --jp-layout-color2: #454545;\n",
       "                    background-color: #383838;\n",
       "                }\n",
       "\n",
       "                .geemap-dark .jupyter-button {\n",
       "                    --jp-layout-color3: #383838;\n",
       "                }\n",
       "\n",
       "                .geemap-colab {\n",
       "                    background-color: var(--colab-primary-surface-color, white);\n",
       "                }\n",
       "\n",
       "                .geemap-colab .jupyter-button {\n",
       "                    --jp-layout-color3: var(--colab-primary-surface-color, white);\n",
       "                }\n",
       "            </style>\n",
       "            "
      ],
      "text/plain": [
       "<IPython.core.display.HTML object>"
      ]
     },
     "metadata": {},
     "output_type": "display_data"
    }
   ],
   "source": [
    "# roi.geometry()"
   ]
  },
  {
   "cell_type": "code",
   "execution_count": 21,
   "metadata": {},
   "outputs": [
    {
     "data": {
      "text/html": [
       "\n",
       "            <style>\n",
       "                .geemap-dark {\n",
       "                    --jp-widgets-color: white;\n",
       "                    --jp-widgets-label-color: white;\n",
       "                    --jp-ui-font-color1: white;\n",
       "                    --jp-layout-color2: #454545;\n",
       "                    background-color: #383838;\n",
       "                }\n",
       "\n",
       "                .geemap-dark .jupyter-button {\n",
       "                    --jp-layout-color3: #383838;\n",
       "                }\n",
       "\n",
       "                .geemap-colab {\n",
       "                    background-color: var(--colab-primary-surface-color, white);\n",
       "                }\n",
       "\n",
       "                .geemap-colab .jupyter-button {\n",
       "                    --jp-layout-color3: var(--colab-primary-surface-color, white);\n",
       "                }\n",
       "            </style>\n",
       "            "
      ],
      "text/plain": [
       "<IPython.core.display.HTML object>"
      ]
     },
     "metadata": {},
     "output_type": "display_data"
    }
   ],
   "source": [
    "LANDSAT = ee.ImageCollection(DATASET_NAME)\n",
    "\n",
    "LANDSAT_ROI = LANDSAT.filter(ee.Filter.date(START_DATE, END_DATE)) \\\n",
    "    .filter(ee.Filter.bounds(roi.geometry())) \\\n",
    "    .map(apply_scale_factors) \\\n",
    "    .map(mask_landsat_clouds) \\\n",
    "    .median()\n",
    "\n",
    "NDVI = LANDSAT_ROI.normalizedDifference([\"SR_B5\", \"SR_B4\"]).rename(\"ndvi\") # NIR and Red Bands"
   ]
  },
  {
   "cell_type": "markdown",
   "metadata": {},
   "source": [
    "### CALCULATE NDVI STATISTICS"
   ]
  },
  {
   "cell_type": "code",
   "execution_count": 22,
   "metadata": {},
   "outputs": [
    {
     "data": {
      "text/html": [
       "\n",
       "            <style>\n",
       "                .geemap-dark {\n",
       "                    --jp-widgets-color: white;\n",
       "                    --jp-widgets-label-color: white;\n",
       "                    --jp-ui-font-color1: white;\n",
       "                    --jp-layout-color2: #454545;\n",
       "                    background-color: #383838;\n",
       "                }\n",
       "\n",
       "                .geemap-dark .jupyter-button {\n",
       "                    --jp-layout-color3: #383838;\n",
       "                }\n",
       "\n",
       "                .geemap-colab {\n",
       "                    background-color: var(--colab-primary-surface-color, white);\n",
       "                }\n",
       "\n",
       "                .geemap-colab .jupyter-button {\n",
       "                    --jp-layout-color3: var(--colab-primary-surface-color, white);\n",
       "                }\n",
       "            </style>\n",
       "            "
      ],
      "text/plain": [
       "<IPython.core.display.HTML object>"
      ]
     },
     "metadata": {},
     "output_type": "display_data"
    }
   ],
   "source": [
    "NDVI_MIN = ee.Number(NDVI.reduceRegion(\n",
    "    reducer = ee.Reducer.min(),\n",
    "    geometry = roi.geometry(),\n",
    "    scale = SCALE,\n",
    "    maxPixels = MAXPIXELS\n",
    ").values().get(0))\n",
    "\n",
    "NDVI_MAX = ee.Number(NDVI.reduceRegion(\n",
    "    reducer = ee.Reducer.max(),\n",
    "    geometry = roi.geometry(),\n",
    "    scale = SCALE,\n",
    "    maxPixels = MAXPIXELS\n",
    ").values().get(0))\n",
    "\n",
    "# Fraction of vegetation\n",
    "FV = NDVI.subtract(NDVI_MIN).divide(NDVI_MAX.subtract(NDVI_MIN)).pow(ee.Number(2)).rename(\"FV\")\n",
    "\n",
    "# Emissivity\n",
    "EM = FV.multiply(ee.Number(0.004)).add(ee.Number(0.986)).rename(\"EM\")\n",
    "\n",
    "# Select the thermal band\n",
    "THERMAL = LANDSAT_ROI.select(\"ST_B10\").rename(\"THERMAL\")\n",
    "\n",
    "# Calculate Land Surface Temperature (LST)\n",
    "LST = THERMAL.expression(\n",
    "    \"(tb / (1 + (0.00115 * (tb / 0.48359547432)) * log(em))) - 273.15\",\n",
    "    {\n",
    "        \"tb\": THERMAL.select(\"THERMAL\"),\n",
    "        \"em\": EM\n",
    "    }\n",
    ").rename(\"LST\")\n",
    "\n",
    "# image = image.addBands(ndvi)"
   ]
  },
  {
   "cell_type": "markdown",
   "metadata": {},
   "source": [
    "### Urban Heat Island"
   ]
  },
  {
   "cell_type": "code",
   "execution_count": 23,
   "metadata": {},
   "outputs": [
    {
     "data": {
      "text/html": [
       "\n",
       "            <style>\n",
       "                .geemap-dark {\n",
       "                    --jp-widgets-color: white;\n",
       "                    --jp-widgets-label-color: white;\n",
       "                    --jp-ui-font-color1: white;\n",
       "                    --jp-layout-color2: #454545;\n",
       "                    background-color: #383838;\n",
       "                }\n",
       "\n",
       "                .geemap-dark .jupyter-button {\n",
       "                    --jp-layout-color3: #383838;\n",
       "                }\n",
       "\n",
       "                .geemap-colab {\n",
       "                    background-color: var(--colab-primary-surface-color, white);\n",
       "                }\n",
       "\n",
       "                .geemap-colab .jupyter-button {\n",
       "                    --jp-layout-color3: var(--colab-primary-surface-color, white);\n",
       "                }\n",
       "            </style>\n",
       "            "
      ],
      "text/plain": [
       "<IPython.core.display.HTML object>"
      ]
     },
     "metadata": {},
     "output_type": "display_data"
    },
    {
     "name": "stdout",
     "output_type": "stream",
     "text": [
      "##################################################\n",
      "Mean LST in ROI: 32.87045882491294\n",
      "STD LST in ROI: 2.62051495377301\n",
      "##################################################\n"
     ]
    }
   ],
   "source": [
    "LST_MEAN = ee.Number(LST.reduceRegion(\n",
    "    reducer = ee.Reducer.mean(),\n",
    "    geometry = roi.geometry(),\n",
    "    scale = SCALE,\n",
    "    maxPixels = MAXPIXELS\n",
    ").values().get(0))\n",
    "\n",
    "LST_STD = ee.Number(LST.reduceRegion(\n",
    "    reducer = ee.Reducer.stdDev(),\n",
    "    geometry = roi.geometry(),\n",
    "    scale = SCALE,\n",
    "    maxPixels = MAXPIXELS\n",
    ").values().get(0))\n",
    "\n",
    "# Print mean and standard deviation of LST in AOI\n",
    "print(\"#\" * 50)\n",
    "print('Mean LST in ROI:', LST_MEAN.getInfo())\n",
    "print('STD LST in ROI:', LST_STD.getInfo())\n",
    "print(\"#\" * 50)\n",
    "\n",
    "# Calculate Normalized UHI\n",
    "UHI = LST.subtract(LST_MEAN).divide(LST_STD).rename('UHI')"
   ]
  },
  {
   "cell_type": "markdown",
   "metadata": {},
   "source": [
    "### Urban Thermal Field Variance Index (UTFVI)"
   ]
  },
  {
   "cell_type": "code",
   "execution_count": 24,
   "metadata": {},
   "outputs": [
    {
     "data": {
      "text/html": [
       "\n",
       "            <style>\n",
       "                .geemap-dark {\n",
       "                    --jp-widgets-color: white;\n",
       "                    --jp-widgets-label-color: white;\n",
       "                    --jp-ui-font-color1: white;\n",
       "                    --jp-layout-color2: #454545;\n",
       "                    background-color: #383838;\n",
       "                }\n",
       "\n",
       "                .geemap-dark .jupyter-button {\n",
       "                    --jp-layout-color3: #383838;\n",
       "                }\n",
       "\n",
       "                .geemap-colab {\n",
       "                    background-color: var(--colab-primary-surface-color, white);\n",
       "                }\n",
       "\n",
       "                .geemap-colab .jupyter-button {\n",
       "                    --jp-layout-color3: var(--colab-primary-surface-color, white);\n",
       "                }\n",
       "            </style>\n",
       "            "
      ],
      "text/plain": [
       "<IPython.core.display.HTML object>"
      ]
     },
     "metadata": {},
     "output_type": "display_data"
    }
   ],
   "source": [
    "UTFVI = LST.subtract(LST_MEAN).divide(LST).rename('UTFVI')"
   ]
  },
  {
   "cell_type": "markdown",
   "metadata": {},
   "source": [
    "### VISUALIZATION"
   ]
  },
  {
   "cell_type": "code",
   "execution_count": 25,
   "metadata": {
    "scrolled": true
   },
   "outputs": [
    {
     "data": {
      "text/html": [
       "\n",
       "            <style>\n",
       "                .geemap-dark {\n",
       "                    --jp-widgets-color: white;\n",
       "                    --jp-widgets-label-color: white;\n",
       "                    --jp-ui-font-color1: white;\n",
       "                    --jp-layout-color2: #454545;\n",
       "                    background-color: #383838;\n",
       "                }\n",
       "\n",
       "                .geemap-dark .jupyter-button {\n",
       "                    --jp-layout-color3: #383838;\n",
       "                }\n",
       "\n",
       "                .geemap-colab {\n",
       "                    background-color: var(--colab-primary-surface-color, white);\n",
       "                }\n",
       "\n",
       "                .geemap-colab .jupyter-button {\n",
       "                    --jp-layout-color3: var(--colab-primary-surface-color, white);\n",
       "                }\n",
       "            </style>\n",
       "            "
      ],
      "text/plain": [
       "<IPython.core.display.HTML object>"
      ]
     },
     "metadata": {},
     "output_type": "display_data"
    },
    {
     "data": {
      "text/html": [
       "<h3>Urban Heat Island: Milan-Zone 9</h3>"
      ],
      "text/plain": [
       "<IPython.core.display.HTML object>"
      ]
     },
     "metadata": {},
     "output_type": "display_data"
    },
    {
     "data": {
      "application/vnd.jupyter.widget-view+json": {
       "model_id": "fa31aed948a84dbe84643861b0a44b81",
       "version_major": 2,
       "version_minor": 0
      },
      "text/plain": [
       "Map(center=[45.512724879429385, 9.180956342696671], controls=(WidgetControl(options=['position', 'transparent_…"
      ]
     },
     "execution_count": 25,
     "metadata": {},
     "output_type": "execute_result"
    }
   ],
   "source": [
    "from IPython.display import display, HTML\n",
    "# Visualization parameters for True Colors\n",
    "vis = {\"bands\": BANDS, \"min\": 0.0, \"max\": 0.3}\n",
    "\n",
    "# Visualization parameters for NDVI\n",
    "ndvi_vis = {\"min\": -1, \"max\": 1, \"palette\": [\"blue\", \"white\", \"green\"]}\n",
    "\n",
    "# Visualization parameters for LST\n",
    "palette_lst = [\"040274\", \"040281\", \"0502a3\", \"0502b8\", \"0502ce\", \"0502e6\", \"0602ff\", \"235cb1\", \"307ef3\", \"269db1\", \"30c8e2\", \"32d3ef\", \"3be285\", \"3ff38f\", \"86e26f\", \"3ae237\", \"b5e22e\", \"d6e21f\", \"fff705\", \"ffd611\", \"ffb613\", \"ff8b13\", \"ff6e08\", \"ff500d\", \"ff0000\", \"de0101\", \"c21301\", \"a71001\", \"911003\"\n",
    "]\n",
    "lst_vis = {\"min\": -40, \"max\": 60, \"palette\": palette_lst}\n",
    "\n",
    "# Visualization parameters for UHI\n",
    "palette_uhi = [\"313695\", \"74add1\", \"fed976\", \"feb24c\", \"fd8d3c\", \"fc4e2a\", \"e31a1c\", \"b10026\"]\n",
    "uhi_vis = {\"min\": -4, \"max\": 4, \"palette\": palette_uhi}\n",
    "\n",
    "# Visualization parameters for UTFVI\n",
    "palette_utfvi = [\"313695\", \"74add1\", \"fed976\", \"feb24c\", \"fd8d3c\", \"fc4e2a\", \"e31a1c\", \"b10026\"]\n",
    "utfvi_vis = {\"min\": -1, \"max\": 0.3, \"palette\": palette_utfvi}\n",
    "\n",
    "# Set opacity level between 0 (transparent) and 1 (opaque)\n",
    "opacity_level = OPACITY_LEVEL  \n",
    "# Draw boundaries of the shapefile region loaded in 'table'\n",
    "boundary = ee.FeatureCollection(roi)\n",
    "\n",
    "Map = geemap.Map()\n",
    "# Map = geemap.Map(center=[45.49995129887764, 9.18765328746192], zoom=13)\n",
    "# Map.set_center(9.18765328746192, 45.49995129887764, 13)\n",
    "Map.centerObject(roi.geometry(), 13)\n",
    "Map.add_layer(LANDSAT_ROI, vis, \"True Color (432)\", False)\n",
    "Map.add_layer(NDVI, ndvi_vis, \"NDVI Layer\", False)\n",
    "Map.addLayer(LST, lst_vis, \"LST Layer\", False)\n",
    "Map.addLayer(UHI, uhi_vis, \"UHI Layer\", True)\n",
    "Map.addLayer(UTFVI, utfvi_vis, \"UTFVI Layer\", False)\n",
    "Map.addLayer(boundary, {\"color\": \"000000\"}, \"Region Boundary\", True, opacity_level)\n",
    "Map.addLayerControl()\n",
    "\n",
    "# Legend setup\n",
    "min_temp = MIN_TEMP  # Minimum temperature in Celsius\n",
    "max_temp = MAX_TEMP   # Maximum temperature in Celsius\n",
    "num_colors = len(palette_lst)\n",
    "temp_interval = (max_temp - min_temp) / num_colors\n",
    "temp_ranges = [f\"{min_temp + i * temp_interval:.1f} to {min_temp + (i + 1) * temp_interval:.1f} °C\" for i in range(num_colors)]\n",
    "\n",
    "legend_dict = dict(zip(temp_ranges, [\"#\" + color for color in palette_lst]))\n",
    "\n",
    "# Display a title above the map\n",
    "display(HTML(f\"<h3>Urban Heat Island: Milan-Zone {TARGET_ZONE}</h3>\"))\n",
    "Map.add_legend(title=f\"TempRange (°C) Milan-Zone {TARGET_ZONE}\", legend_dict=legend_dict)\n",
    "\n",
    "Map"
   ]
  },
  {
   "cell_type": "markdown",
   "metadata": {},
   "source": [
    "### Download Median Image"
   ]
  },
  {
   "cell_type": "code",
   "execution_count": 26,
   "metadata": {},
   "outputs": [
    {
     "data": {
      "text/html": [
       "\n",
       "            <style>\n",
       "                .geemap-dark {\n",
       "                    --jp-widgets-color: white;\n",
       "                    --jp-widgets-label-color: white;\n",
       "                    --jp-ui-font-color1: white;\n",
       "                    --jp-layout-color2: #454545;\n",
       "                    background-color: #383838;\n",
       "                }\n",
       "\n",
       "                .geemap-dark .jupyter-button {\n",
       "                    --jp-layout-color3: #383838;\n",
       "                }\n",
       "\n",
       "                .geemap-colab {\n",
       "                    background-color: var(--colab-primary-surface-color, white);\n",
       "                }\n",
       "\n",
       "                .geemap-colab .jupyter-button {\n",
       "                    --jp-layout-color3: var(--colab-primary-surface-color, white);\n",
       "                }\n",
       "            </style>\n",
       "            "
      ],
      "text/plain": [
       "<IPython.core.display.HTML object>"
      ]
     },
     "metadata": {},
     "output_type": "display_data"
    },
    {
     "name": "stderr",
     "output_type": "stream",
     "text": [
      "  0%|          | 0/2 [00:00<?, ?it/s]"
     ]
    },
    {
     "name": "stdout",
     "output_type": "stream",
     "text": [
      "Processing and exporting data for Zone 4\n",
      "EXPORTING MEDIAN IMAGES FOR Zone 4\n",
      "Polling for task (id: OWU5NSMYKUY3XXPCSONV7EC3).\n",
      "Polling for task (id: OWU5NSMYKUY3XXPCSONV7EC3).\n",
      "Polling for task (id: OWU5NSMYKUY3XXPCSONV7EC3).\n",
      "##################################################\n",
      "{'state': 'COMPLETED', 'description': 'Combined_Image_Zone4', 'priority': 100, 'creation_timestamp_ms': 1717431191375, 'update_timestamp_ms': 1717431217444, 'start_timestamp_ms': 1717431198186, 'task_type': 'EXPORT_IMAGE', 'destination_uris': ['https://drive.google.com/#folders/1jBVVvYzyv_1pngwmF31lt8VV9ZGiUn4t'], 'attempt': 1, 'batch_eecu_usage_seconds': 17.472177505493164, 'id': 'OWU5NSMYKUY3XXPCSONV7EC3', 'name': 'projects/earthengine-legacy/operations/OWU5NSMYKUY3XXPCSONV7EC3'}\n"
     ]
    },
    {
     "name": "stderr",
     "output_type": "stream",
     "text": [
      " 50%|█████     | 1/2 [00:33<00:33, 33.80s/it]"
     ]
    },
    {
     "name": "stdout",
     "output_type": "stream",
     "text": [
      "Task for Zone 4, combined image download completed with state COMPLETED: \n",
      "##################################################\n",
      "Processing and exporting data for Zone 9\n",
      "EXPORTING MEDIAN IMAGES FOR Zone 9\n",
      "Polling for task (id: T3N6JV36XNAAECBK5QWN5KL7).\n",
      "Polling for task (id: T3N6JV36XNAAECBK5QWN5KL7).\n",
      "Polling for task (id: T3N6JV36XNAAECBK5QWN5KL7).\n",
      "##################################################\n",
      "{'state': 'COMPLETED', 'description': 'Combined_Image_Zone9', 'priority': 100, 'creation_timestamp_ms': 1717431225302, 'update_timestamp_ms': 1717431248595, 'start_timestamp_ms': 1717431233865, 'task_type': 'EXPORT_IMAGE', 'destination_uris': ['https://drive.google.com/#folders/1jBVVvYzyv_1pngwmF31lt8VV9ZGiUn4t'], 'attempt': 1, 'batch_eecu_usage_seconds': 12.270427703857422, 'id': 'T3N6JV36XNAAECBK5QWN5KL7', 'name': 'projects/earthengine-legacy/operations/T3N6JV36XNAAECBK5QWN5KL7'}\n"
     ]
    },
    {
     "name": "stderr",
     "output_type": "stream",
     "text": [
      "100%|██████████| 2/2 [01:09<00:00, 34.87s/it]"
     ]
    },
    {
     "name": "stdout",
     "output_type": "stream",
     "text": [
      "Task for Zone 9, combined image download completed with state COMPLETED: \n",
      "##################################################\n"
     ]
    },
    {
     "name": "stderr",
     "output_type": "stream",
     "text": [
      "\n"
     ]
    }
   ],
   "source": [
    "for zone in tqdm(ZONES):\n",
    "    print(f\"Processing and exporting data for Zone {zone}\")\n",
    "    shapefile_path = f\"/vsizip/../shape_files/zone_{zone}.zip/layers/POLYGON.shp\"\n",
    "    gdf = gpd.read_file(shapefile_path)\n",
    "    roi = geemap.gdf_to_ee(gdf)\n",
    "\n",
    "    # Ensure all steps that depend on the ROI are within the loop\n",
    "    LANDSAT_ROI = LANDSAT.filter(ee.Filter.date(START_DATE, END_DATE)) \\\n",
    "        .filter(ee.Filter.bounds(roi.geometry())) \\\n",
    "        .map(apply_scale_factors) \\\n",
    "        .map(mask_landsat_clouds) \\\n",
    "        .median()\n",
    "\n",
    "    # Recalculate NDVI, FV, EM, THERMAL, LST, UHI, and UTFVI\n",
    "    # Example only shows NDVI; add similar steps for other indices and values\n",
    "    NDVI = LANDSAT_ROI.normalizedDifference([\"SR_B5\", \"SR_B4\"]).rename(\"NDVI\")  # Update band names if necessary\n",
    "    \n",
    "    # NDVI STATISTICS\n",
    "    NDVI_MIN = ee.Number(NDVI.reduceRegion(\n",
    "    reducer = ee.Reducer.min(),\n",
    "    geometry = roi.geometry(),\n",
    "    scale = SCALE,\n",
    "    maxPixels = MAXPIXELS\n",
    "    ).values().get(0))\n",
    "\n",
    "    NDVI_MAX = ee.Number(NDVI.reduceRegion(\n",
    "        reducer = ee.Reducer.max(),\n",
    "        geometry = roi.geometry(),\n",
    "        scale = SCALE,\n",
    "        maxPixels = MAXPIXELS\n",
    "    ).values().get(0))\n",
    "\n",
    "    # Fraction of vegetation\n",
    "    FV = NDVI.subtract(NDVI_MIN).divide(NDVI_MAX.subtract(NDVI_MIN)).pow(ee.Number(2)).rename(\"FV\")\n",
    "    \n",
    "    # Emissivity\n",
    "    EM = FV.multiply(ee.Number(0.004)).add(ee.Number(0.986)).rename(\"EM\")\n",
    "    \n",
    "    # Select the thermal band\n",
    "    THERMAL = LANDSAT_ROI.select(\"ST_B10\").rename(\"THERMAL\")\n",
    "    \n",
    "    # Calculate Land Surface Temperature (LST)\n",
    "    LST = THERMAL.expression(\n",
    "        \"(tb / (1 + (0.00115 * (tb / 0.48359547432)) * log(em))) - 273.15\",\n",
    "        {\n",
    "            \"tb\": THERMAL.select(\"THERMAL\"),\n",
    "            \"em\": EM\n",
    "        }\n",
    "    ).rename(\"LST\")\n",
    "\n",
    "    # URBAN HEAT ISLAND\n",
    "    LST_MEAN = ee.Number(LST.reduceRegion(\n",
    "    reducer = ee.Reducer.mean(),\n",
    "    geometry = roi.geometry(),\n",
    "    scale = SCALE,\n",
    "    maxPixels = MAXPIXELS\n",
    "    ).values().get(0))\n",
    "\n",
    "    LST_STD = ee.Number(LST.reduceRegion(\n",
    "        reducer = ee.Reducer.stdDev(),\n",
    "        geometry = roi.geometry(),\n",
    "        scale = SCALE,\n",
    "        maxPixels = MAXPIXELS\n",
    "    ).values().get(0))\n",
    "\n",
    "    # Calculate Normalized UHI\n",
    "    UHI = LST.subtract(LST_MEAN).divide(LST_STD).rename('UHI')\n",
    "\n",
    "    # Urban Thermal Field Variance Index (UTFVI)\n",
    "    UTFVI = LST.subtract(LST_MEAN).divide(LST).rename('UTFVI')\n",
    "\n",
    "    # Convert all derived bands to the same type, here Float64 for example\n",
    "    NDVI = NDVI.toDouble()\n",
    "    FV = FV.toDouble()\n",
    "    EM = EM.toDouble()\n",
    "    THERMAL = THERMAL.toDouble()\n",
    "    LST = LST.toDouble()\n",
    "    UHI = UHI.toDouble()\n",
    "    UTFVI = UTFVI.toDouble()\n",
    "\n",
    "    # Combine all bands into one image for export\n",
    "    combined_image = LANDSAT_ROI.addBands([NDVI, FV, EM, THERMAL, LST, UHI, UTFVI])\n",
    "\n",
    "    # EXPORTING THE COMBINED IMAGE\n",
    "    print(f\"EXPORTING MEDIAN IMAGES FOR Zone {zone}\")\n",
    "    task = ee.batch.Export.image.toDrive(\n",
    "        image=combined_image.select([\"NDVI\", \"FV\", \"EM\", \"THERMAL\", \"LST\", \"UHI\", \"UTFVI\"]),\n",
    "        description=f\"Combined_Image_Zone{zone}\",\n",
    "        fileNamePrefix=f\"zone{zone}_combined_{START_DATE}_{END_DATE}\",\n",
    "        # folder=\"NDVI_LST_UHI_UTFVI_roi_median_30m\",\n",
    "        folder=\"LST_UHI_UTFVI_roi_median_30m\",\n",
    "        scale=SCALE,\n",
    "        region=roi.geometry().getInfo()[\"coordinates\"],\n",
    "        maxPixels=MAXPIXELS\n",
    "    )\n",
    "    task.start()\n",
    "    while task.active():\n",
    "        print(\"Polling for task (id: {}).\".format(task.id))\n",
    "        time.sleep(10)  # Poll every 10 seconds\n",
    "\n",
    "    status = task.status()\n",
    "    print(\"#\" * 50)\n",
    "    print(status)\n",
    "    if 'error_message' in status:\n",
    "        print(\"Failed with error:\", status['error_message'])\n",
    "    else:\n",
    "        print(f\"Task for Zone {zone}, combined image download completed with state {task.status()['state']}: \")\n",
    "    print(\"#\" * 50)"
   ]
  },
  {
   "cell_type": "markdown",
   "metadata": {},
   "source": [
    "### DOWNLOAD ALL IMAGES (skip where NDVI is not valid)"
   ]
  },
  {
   "cell_type": "code",
   "execution_count": 14,
   "metadata": {},
   "outputs": [
    {
     "data": {
      "text/html": [
       "\n",
       "            <style>\n",
       "                .geemap-dark {\n",
       "                    --jp-widgets-color: white;\n",
       "                    --jp-widgets-label-color: white;\n",
       "                    --jp-ui-font-color1: white;\n",
       "                    --jp-layout-color2: #454545;\n",
       "                    background-color: #383838;\n",
       "                }\n",
       "\n",
       "                .geemap-dark .jupyter-button {\n",
       "                    --jp-layout-color3: #383838;\n",
       "                }\n",
       "\n",
       "                .geemap-colab {\n",
       "                    background-color: var(--colab-primary-surface-color, white);\n",
       "                }\n",
       "\n",
       "                .geemap-colab .jupyter-button {\n",
       "                    --jp-layout-color3: var(--colab-primary-surface-color, white);\n",
       "                }\n",
       "            </style>\n",
       "            "
      ],
      "text/plain": [
       "<IPython.core.display.HTML object>"
      ]
     },
     "metadata": {},
     "output_type": "display_data"
    },
    {
     "name": "stderr",
     "output_type": "stream",
     "text": [
      "  0%|          | 0/2 [00:00<?, ?it/s]"
     ]
    },
    {
     "name": "stdout",
     "output_type": "stream",
     "text": [
      "Processing and exporting data for Zone 4\n",
      "EXPORTING ALL IMAGES FOR Zone 4\n",
      "Total Images:  84\n"
     ]
    },
    {
     "name": "stderr",
     "output_type": "stream",
     "text": [
      "\n",
      "Exporting All Images:   0%|          | 0/84 [00:00<?, ?it/s]\u001b[A"
     ]
    },
    {
     "name": "stdout",
     "output_type": "stream",
     "text": [
      "Polling for image (id: GAZQJAIT2HTZL3M5NAECM2EU).\n",
      "Polling for image (id: GAZQJAIT2HTZL3M5NAECM2EU).\n"
     ]
    },
    {
     "name": "stderr",
     "output_type": "stream",
     "text": [
      "\n",
      "Exporting All Images:   1%|          | 1/84 [00:23<32:17, 23.34s/it]\u001b[A"
     ]
    },
    {
     "name": "stdout",
     "output_type": "stream",
     "text": [
      "Image 1 completed with state: COMPLETED\n",
      "Polling for image (id: LPATTM6GSPRMBHZPVOLUXM5P).\n",
      "Polling for image (id: LPATTM6GSPRMBHZPVOLUXM5P).\n"
     ]
    },
    {
     "name": "stderr",
     "output_type": "stream",
     "text": [
      "\n",
      "Exporting All Images:   2%|▏         | 2/84 [00:46<31:54, 23.35s/it]\u001b[A"
     ]
    },
    {
     "name": "stdout",
     "output_type": "stream",
     "text": [
      "Image 2 completed with state: COMPLETED\n"
     ]
    },
    {
     "name": "stderr",
     "output_type": "stream",
     "text": [
      "\n",
      "Exporting All Images:   4%|▎         | 3/84 [00:47<17:36, 13.04s/it]\u001b[A"
     ]
    },
    {
     "name": "stdout",
     "output_type": "stream",
     "text": [
      "Image 3 Failed:  Collection.first: Error in map(ID=LC08_193028_20230227):\n",
      "Number.subtract: Parameter 'left' is required.\n",
      "Polling for image (id: W4AVRMWZBRLTQTR3ZSSJ2LKA).\n",
      "Polling for image (id: W4AVRMWZBRLTQTR3ZSSJ2LKA).\n"
     ]
    },
    {
     "name": "stderr",
     "output_type": "stream",
     "text": [
      "\n",
      "Exporting All Images:   5%|▍         | 4/84 [01:11<23:02, 17.28s/it]\u001b[A"
     ]
    },
    {
     "name": "stdout",
     "output_type": "stream",
     "text": [
      "Image 4 completed with state: COMPLETED\n",
      "Polling for image (id: P3N2HGPYLNBTPTFV7LN2DOTL).\n",
      "Polling for image (id: P3N2HGPYLNBTPTFV7LN2DOTL).\n"
     ]
    },
    {
     "name": "stderr",
     "output_type": "stream",
     "text": [
      "\n",
      "Exporting All Images:   6%|▌         | 5/84 [01:34<25:33, 19.41s/it]\u001b[A"
     ]
    },
    {
     "name": "stdout",
     "output_type": "stream",
     "text": [
      "Image 5 completed with state: COMPLETED\n"
     ]
    },
    {
     "name": "stderr",
     "output_type": "stream",
     "text": [
      "\n",
      "Exporting All Images:   7%|▋         | 6/84 [01:35<17:00, 13.08s/it]\u001b[A"
     ]
    },
    {
     "name": "stdout",
     "output_type": "stream",
     "text": [
      "Image 6 Failed:  Collection.first: Error in map(ID=LC08_193028_20230502):\n",
      "Image.constant: Parameter 'value' is required.\n"
     ]
    },
    {
     "name": "stderr",
     "output_type": "stream",
     "text": [
      "\n",
      "Exporting All Images:   8%|▊         | 7/84 [01:35<11:31,  8.98s/it]\u001b[A"
     ]
    },
    {
     "name": "stdout",
     "output_type": "stream",
     "text": [
      "Image 7 Failed:  Collection.first: Error in map(ID=LC08_193028_20230518):\n",
      "Number.subtract: Parameter 'left' is required.\n",
      "Polling for image (id: ULMXJ6EUVZROIJ5PTKTBUTG4).\n",
      "Polling for image (id: ULMXJ6EUVZROIJ5PTKTBUTG4).\n"
     ]
    },
    {
     "name": "stderr",
     "output_type": "stream",
     "text": [
      "\n",
      "Exporting All Images:  10%|▉         | 8/84 [01:59<17:11, 13.57s/it]\u001b[A"
     ]
    },
    {
     "name": "stdout",
     "output_type": "stream",
     "text": [
      "Image 8 completed with state: COMPLETED\n",
      "Polling for image (id: EVAXX77Z5YFNKGC6ZAR6KPH3).\n",
      "Polling for image (id: EVAXX77Z5YFNKGC6ZAR6KPH3).\n",
      "Polling for image (id: EVAXX77Z5YFNKGC6ZAR6KPH3).\n"
     ]
    },
    {
     "name": "stderr",
     "output_type": "stream",
     "text": [
      "\n",
      "Exporting All Images:  11%|█         | 9/84 [02:32<24:51, 19.88s/it]\u001b[A"
     ]
    },
    {
     "name": "stdout",
     "output_type": "stream",
     "text": [
      "Image 9 completed with state: COMPLETED\n",
      "Polling for image (id: QO2YCJSBNNSAUVTLO2B357KL).\n",
      "Polling for image (id: QO2YCJSBNNSAUVTLO2B357KL).\n"
     ]
    },
    {
     "name": "stderr",
     "output_type": "stream",
     "text": [
      "\n",
      "Exporting All Images:  12%|█▏        | 10/84 [02:56<25:45, 20.89s/it]\u001b[A"
     ]
    },
    {
     "name": "stdout",
     "output_type": "stream",
     "text": [
      "Image 10 completed with state: COMPLETED\n"
     ]
    },
    {
     "name": "stderr",
     "output_type": "stream",
     "text": [
      "\n",
      "Exporting All Images:  13%|█▎        | 11/84 [02:56<17:57, 14.76s/it]\u001b[A"
     ]
    },
    {
     "name": "stdout",
     "output_type": "stream",
     "text": [
      "Image 11 Failed:  Collection.first: Error in map(ID=LC08_193028_20230721):\n",
      "Image.constant: Parameter 'value' is required.\n",
      "Polling for image (id: 6SX537GA3QPCSQ37CNRAW275).\n",
      "Polling for image (id: 6SX537GA3QPCSQ37CNRAW275).\n"
     ]
    },
    {
     "name": "stderr",
     "output_type": "stream",
     "text": [
      "\n",
      "Exporting All Images:  14%|█▍        | 12/84 [03:20<20:54, 17.42s/it]\u001b[A"
     ]
    },
    {
     "name": "stdout",
     "output_type": "stream",
     "text": [
      "Image 12 completed with state: COMPLETED\n",
      "Polling for image (id: EKHN642GBS7CNRXZY5QP4VWZ).\n",
      "Polling for image (id: EKHN642GBS7CNRXZY5QP4VWZ).\n"
     ]
    },
    {
     "name": "stderr",
     "output_type": "stream",
     "text": [
      "\n",
      "Exporting All Images:  15%|█▌        | 13/84 [03:43<22:45, 19.24s/it]\u001b[A"
     ]
    },
    {
     "name": "stdout",
     "output_type": "stream",
     "text": [
      "Image 13 completed with state: COMPLETED\n",
      "Polling for image (id: PVOU37MR3FMI6S2EWT7QMJO2).\n",
      "Polling for image (id: PVOU37MR3FMI6S2EWT7QMJO2).\n"
     ]
    },
    {
     "name": "stderr",
     "output_type": "stream",
     "text": [
      "\n",
      "Exporting All Images:  17%|█▋        | 14/84 [04:07<23:56, 20.53s/it]\u001b[A"
     ]
    },
    {
     "name": "stdout",
     "output_type": "stream",
     "text": [
      "Image 14 completed with state: COMPLETED\n",
      "Polling for image (id: AHBAQIBHDVRBRH76CRFPW775).\n",
      "Polling for image (id: AHBAQIBHDVRBRH76CRFPW775).\n"
     ]
    },
    {
     "name": "stderr",
     "output_type": "stream",
     "text": [
      "\n",
      "Exporting All Images:  18%|█▊        | 15/84 [04:30<24:32, 21.34s/it]\u001b[A"
     ]
    },
    {
     "name": "stdout",
     "output_type": "stream",
     "text": [
      "Image 15 completed with state: COMPLETED\n",
      "Polling for image (id: ZWZ3U7H3HZZXCIQ3V5WZSB7I).\n",
      "Polling for image (id: ZWZ3U7H3HZZXCIQ3V5WZSB7I).\n"
     ]
    },
    {
     "name": "stderr",
     "output_type": "stream",
     "text": [
      "\n",
      "Exporting All Images:  19%|█▉        | 16/84 [04:54<24:54, 21.98s/it]\u001b[A"
     ]
    },
    {
     "name": "stdout",
     "output_type": "stream",
     "text": [
      "Image 16 completed with state: COMPLETED\n",
      "Polling for image (id: VSH3PWNPFHCV4LTX2ANA3ZRQ).\n",
      "Polling for image (id: VSH3PWNPFHCV4LTX2ANA3ZRQ).\n"
     ]
    },
    {
     "name": "stderr",
     "output_type": "stream",
     "text": [
      "\n",
      "Exporting All Images:  20%|██        | 17/84 [05:17<25:03, 22.43s/it]\u001b[A"
     ]
    },
    {
     "name": "stdout",
     "output_type": "stream",
     "text": [
      "Image 17 completed with state: COMPLETED\n",
      "Polling for image (id: XHTZWVPFH5GCUVAYTUJIZ5TA).\n",
      "Polling for image (id: XHTZWVPFH5GCUVAYTUJIZ5TA).\n"
     ]
    },
    {
     "name": "stderr",
     "output_type": "stream",
     "text": [
      "\n",
      "Exporting All Images:  21%|██▏       | 18/84 [05:40<24:58, 22.71s/it]\u001b[A"
     ]
    },
    {
     "name": "stdout",
     "output_type": "stream",
     "text": [
      "Image 18 completed with state: COMPLETED\n",
      "Polling for image (id: OP3FTJUYXXVRSKLMCBEY7W5I).\n",
      "Polling for image (id: OP3FTJUYXXVRSKLMCBEY7W5I).\n"
     ]
    },
    {
     "name": "stderr",
     "output_type": "stream",
     "text": [
      "\n",
      "Exporting All Images:  23%|██▎       | 19/84 [06:04<24:51, 22.94s/it]\u001b[A"
     ]
    },
    {
     "name": "stdout",
     "output_type": "stream",
     "text": [
      "Image 19 completed with state: COMPLETED\n",
      "Polling for image (id: 66ISAFFPPAPMFJ436N3NJLZR).\n",
      "Polling for image (id: 66ISAFFPPAPMFJ436N3NJLZR).\n"
     ]
    },
    {
     "name": "stderr",
     "output_type": "stream",
     "text": [
      "\n",
      "Exporting All Images:  24%|██▍       | 20/84 [06:27<24:37, 23.08s/it]\u001b[A"
     ]
    },
    {
     "name": "stdout",
     "output_type": "stream",
     "text": [
      "Image 20 completed with state: COMPLETED\n"
     ]
    },
    {
     "name": "stderr",
     "output_type": "stream",
     "text": [
      "\n",
      "Exporting All Images:  25%|██▌       | 21/84 [06:28<17:09, 16.34s/it]\u001b[A"
     ]
    },
    {
     "name": "stdout",
     "output_type": "stream",
     "text": [
      "Image 21 Failed:  Collection.first: Error in map(ID=LC08_193028_20231228):\n",
      "Number.subtract: Parameter 'left' is required.\n",
      "Polling for image (id: 7M6YN6764B536ARMSU27SUXY).\n",
      "Polling for image (id: 7M6YN6764B536ARMSU27SUXY).\n"
     ]
    },
    {
     "name": "stderr",
     "output_type": "stream",
     "text": [
      "\n",
      "Exporting All Images:  26%|██▌       | 22/84 [06:51<19:01, 18.41s/it]\u001b[A"
     ]
    },
    {
     "name": "stdout",
     "output_type": "stream",
     "text": [
      "Image 22 completed with state: COMPLETED\n",
      "Polling for image (id: EUIOTKXEX4TH66NLSPIPVBGW).\n",
      "Polling for image (id: EUIOTKXEX4TH66NLSPIPVBGW).\n"
     ]
    },
    {
     "name": "stderr",
     "output_type": "stream",
     "text": [
      "\n",
      "Exporting All Images:  27%|██▋       | 23/84 [07:15<20:14, 19.91s/it]\u001b[A"
     ]
    },
    {
     "name": "stdout",
     "output_type": "stream",
     "text": [
      "Image 23 completed with state: COMPLETED\n",
      "Polling for image (id: L4XC2HLRHLSJJRTM746DRVMI).\n",
      "Polling for image (id: L4XC2HLRHLSJJRTM746DRVMI).\n"
     ]
    },
    {
     "name": "stderr",
     "output_type": "stream",
     "text": [
      "\n",
      "Exporting All Images:  29%|██▊       | 24/84 [07:38<20:59, 20.99s/it]\u001b[A"
     ]
    },
    {
     "name": "stdout",
     "output_type": "stream",
     "text": [
      "Image 24 completed with state: COMPLETED\n"
     ]
    },
    {
     "name": "stderr",
     "output_type": "stream",
     "text": [
      "\n",
      "Exporting All Images:  30%|██▉       | 25/84 [07:39<14:41, 14.94s/it]\u001b[A"
     ]
    },
    {
     "name": "stdout",
     "output_type": "stream",
     "text": [
      "Image 25 Failed:  Collection.first: Error in map(ID=LC08_193028_20240317):\n",
      "Image.constant: Parameter 'value' is required.\n",
      "Polling for image (id: A72FJTCFSB5OK4BWPGFUFQRP).\n",
      "Polling for image (id: A72FJTCFSB5OK4BWPGFUFQRP).\n"
     ]
    },
    {
     "name": "stderr",
     "output_type": "stream",
     "text": [
      "\n",
      "Exporting All Images:  31%|███       | 26/84 [08:02<16:56, 17.53s/it]\u001b[A"
     ]
    },
    {
     "name": "stdout",
     "output_type": "stream",
     "text": [
      "Image 26 completed with state: COMPLETED\n",
      "Polling for image (id: AYQOIEJSZTOSDMOF7575K3AC).\n",
      "Polling for image (id: AYQOIEJSZTOSDMOF7575K3AC).\n"
     ]
    },
    {
     "name": "stderr",
     "output_type": "stream",
     "text": [
      "\n",
      "Exporting All Images:  32%|███▏      | 27/84 [08:26<18:24, 19.38s/it]\u001b[A"
     ]
    },
    {
     "name": "stdout",
     "output_type": "stream",
     "text": [
      "Image 27 completed with state: COMPLETED\n"
     ]
    },
    {
     "name": "stderr",
     "output_type": "stream",
     "text": [
      "\n",
      "Exporting All Images:  33%|███▎      | 28/84 [08:27<12:49, 13.75s/it]\u001b[A"
     ]
    },
    {
     "name": "stdout",
     "output_type": "stream",
     "text": [
      "Image 28 Failed:  Collection.first: Error in map(ID=LC08_193028_20240504):\n",
      "Number.subtract: Parameter 'left' is required.\n",
      "Polling for image (id: PO42X64BKG7W2EA6ACEEEKYA).\n",
      "Polling for image (id: PO42X64BKG7W2EA6ACEEEKYA).\n"
     ]
    },
    {
     "name": "stderr",
     "output_type": "stream",
     "text": [
      "\n",
      "Exporting All Images:  35%|███▍      | 29/84 [08:50<15:15, 16.65s/it]\u001b[A"
     ]
    },
    {
     "name": "stdout",
     "output_type": "stream",
     "text": [
      "Image 29 completed with state: COMPLETED\n"
     ]
    },
    {
     "name": "stderr",
     "output_type": "stream",
     "text": [
      "\n",
      "Exporting All Images:  36%|███▌      | 30/84 [08:51<10:38, 11.83s/it]\u001b[A"
     ]
    },
    {
     "name": "stdout",
     "output_type": "stream",
     "text": [
      "Image 30 Failed:  Collection.first: Error in map(ID=LC08_193029_20230211):\n",
      "Image.constant: Parameter 'value' is required.\n"
     ]
    },
    {
     "name": "stderr",
     "output_type": "stream",
     "text": [
      "\n",
      "Exporting All Images:  37%|███▋      | 31/84 [08:51<07:28,  8.47s/it]\u001b[A"
     ]
    },
    {
     "name": "stdout",
     "output_type": "stream",
     "text": [
      "Image 31 Failed:  Collection.first: Error in map(ID=LC08_193029_20230227):\n",
      "Number.subtract: Parameter 'left' is required.\n",
      "Polling for image (id: P5B2GGFRM24T6YD2BGCRN4DE).\n",
      "Polling for image (id: P5B2GGFRM24T6YD2BGCRN4DE).\n"
     ]
    },
    {
     "name": "stderr",
     "output_type": "stream",
     "text": [
      "\n",
      "Exporting All Images:  38%|███▊      | 32/84 [09:15<11:16, 13.01s/it]\u001b[A"
     ]
    },
    {
     "name": "stdout",
     "output_type": "stream",
     "text": [
      "Image 32 completed with state: COMPLETED\n"
     ]
    },
    {
     "name": "stderr",
     "output_type": "stream",
     "text": [
      "\n",
      "Exporting All Images:  39%|███▉      | 33/84 [09:16<07:55,  9.33s/it]\u001b[A"
     ]
    },
    {
     "name": "stdout",
     "output_type": "stream",
     "text": [
      "Image 33 Failed:  Collection.first: Error in map(ID=LC08_193029_20230331):\n",
      "Number.subtract: Parameter 'left' is required.\n",
      "Polling for image (id: SGYMBMVVODTQSSIRKQIS4M77).\n",
      "Polling for image (id: SGYMBMVVODTQSSIRKQIS4M77).\n"
     ]
    },
    {
     "name": "stderr",
     "output_type": "stream",
     "text": [
      "\n",
      "Exporting All Images:  40%|████      | 34/84 [09:39<11:16, 13.53s/it]\u001b[A"
     ]
    },
    {
     "name": "stdout",
     "output_type": "stream",
     "text": [
      "Image 34 completed with state: COMPLETED\n"
     ]
    },
    {
     "name": "stderr",
     "output_type": "stream",
     "text": [
      "\n",
      "Exporting All Images:  42%|████▏     | 35/84 [09:40<07:54,  9.68s/it]\u001b[A"
     ]
    },
    {
     "name": "stdout",
     "output_type": "stream",
     "text": [
      "Image 35 Failed:  Collection.first: Error in map(ID=LC08_193029_20230502):\n",
      "Image.constant: Parameter 'value' is required.\n"
     ]
    },
    {
     "name": "stderr",
     "output_type": "stream",
     "text": [
      "\n",
      "Exporting All Images:  43%|████▎     | 36/84 [09:40<05:34,  6.96s/it]\u001b[A"
     ]
    },
    {
     "name": "stdout",
     "output_type": "stream",
     "text": [
      "Image 36 Failed:  Collection.first: Error in map(ID=LC08_193029_20230518):\n",
      "Image.constant: Parameter 'value' is required.\n",
      "Polling for image (id: 2Q5MZRVJ5NWVFUGH5OIP3QFW).\n",
      "Polling for image (id: 2Q5MZRVJ5NWVFUGH5OIP3QFW).\n"
     ]
    },
    {
     "name": "stderr",
     "output_type": "stream",
     "text": [
      "\n",
      "Exporting All Images:  44%|████▍     | 37/84 [10:04<09:16, 11.84s/it]\u001b[A"
     ]
    },
    {
     "name": "stdout",
     "output_type": "stream",
     "text": [
      "Image 37 completed with state: COMPLETED\n",
      "Polling for image (id: BTPZ6OHMUN3Q2AYGP45WFGZX).\n",
      "Polling for image (id: BTPZ6OHMUN3Q2AYGP45WFGZX).\n"
     ]
    },
    {
     "name": "stderr",
     "output_type": "stream",
     "text": [
      "\n",
      "Exporting All Images:  45%|████▌     | 38/84 [10:27<11:43, 15.30s/it]\u001b[A"
     ]
    },
    {
     "name": "stdout",
     "output_type": "stream",
     "text": [
      "Image 38 completed with state: COMPLETED\n",
      "Polling for image (id: VYAGH4HYGKVTY3SUUN277BZX).\n",
      "Polling for image (id: VYAGH4HYGKVTY3SUUN277BZX).\n"
     ]
    },
    {
     "name": "stderr",
     "output_type": "stream",
     "text": [
      "\n",
      "Exporting All Images:  46%|████▋     | 39/84 [10:51<13:20, 17.78s/it]\u001b[A"
     ]
    },
    {
     "name": "stdout",
     "output_type": "stream",
     "text": [
      "Image 39 completed with state: COMPLETED\n",
      "Polling for image (id: QBHOSXQP5EIBPAK6U6GVF2OK).\n",
      "Polling for image (id: QBHOSXQP5EIBPAK6U6GVF2OK).\n"
     ]
    },
    {
     "name": "stderr",
     "output_type": "stream",
     "text": [
      "\n",
      "Exporting All Images:  48%|████▊     | 40/84 [11:14<14:14, 19.43s/it]\u001b[A"
     ]
    },
    {
     "name": "stdout",
     "output_type": "stream",
     "text": [
      "Image 40 completed with state: COMPLETED\n",
      "Polling for image (id: L33X5G6X4UWYNSEKHPHB2KSE).\n",
      "Polling for image (id: L33X5G6X4UWYNSEKHPHB2KSE).\n"
     ]
    },
    {
     "name": "stderr",
     "output_type": "stream",
     "text": [
      "\n",
      "Exporting All Images:  49%|████▉     | 41/84 [11:38<14:50, 20.71s/it]\u001b[A"
     ]
    },
    {
     "name": "stdout",
     "output_type": "stream",
     "text": [
      "Image 41 completed with state: COMPLETED\n",
      "Polling for image (id: VERPE3AJDER3KUWBIH7K24IE).\n",
      "Polling for image (id: VERPE3AJDER3KUWBIH7K24IE).\n",
      "Polling for image (id: VERPE3AJDER3KUWBIH7K24IE).\n"
     ]
    },
    {
     "name": "stderr",
     "output_type": "stream",
     "text": [
      "\n",
      "Exporting All Images:  50%|█████     | 42/84 [12:11<17:15, 24.65s/it]\u001b[A"
     ]
    },
    {
     "name": "stdout",
     "output_type": "stream",
     "text": [
      "Image 42 completed with state: COMPLETED\n",
      "Polling for image (id: YZOJTEBJFBQFPYV5IUKHJR5Z).\n",
      "Polling for image (id: YZOJTEBJFBQFPYV5IUKHJR5Z).\n"
     ]
    },
    {
     "name": "stderr",
     "output_type": "stream",
     "text": [
      "\n",
      "Exporting All Images:  51%|█████     | 43/84 [12:35<16:36, 24.30s/it]\u001b[A"
     ]
    },
    {
     "name": "stdout",
     "output_type": "stream",
     "text": [
      "Image 43 completed with state: COMPLETED\n"
     ]
    },
    {
     "name": "stderr",
     "output_type": "stream",
     "text": [
      "\n",
      "Exporting All Images:  52%|█████▏    | 44/84 [12:36<11:29, 17.24s/it]\u001b[A"
     ]
    },
    {
     "name": "stdout",
     "output_type": "stream",
     "text": [
      "Image 44 Failed:  Collection.first: Error in map(ID=LC08_193029_20230923):\n",
      "Number.subtract: Parameter 'left' is required.\n",
      "Polling for image (id: OLXL5GOGYE3LISROB3AYWELH).\n",
      "Polling for image (id: OLXL5GOGYE3LISROB3AYWELH).\n"
     ]
    },
    {
     "name": "stderr",
     "output_type": "stream",
     "text": [
      "\n",
      "Exporting All Images:  54%|█████▎    | 45/84 [12:59<12:27, 19.16s/it]\u001b[A"
     ]
    },
    {
     "name": "stdout",
     "output_type": "stream",
     "text": [
      "Image 45 completed with state: COMPLETED\n",
      "Polling for image (id: NKMO2ULM3G7RZM5Q6GOEM2U4).\n",
      "Polling for image (id: NKMO2ULM3G7RZM5Q6GOEM2U4).\n"
     ]
    },
    {
     "name": "stderr",
     "output_type": "stream",
     "text": [
      "\n",
      "Exporting All Images:  55%|█████▍    | 46/84 [13:23<12:57, 20.47s/it]\u001b[A"
     ]
    },
    {
     "name": "stdout",
     "output_type": "stream",
     "text": [
      "Image 46 completed with state: COMPLETED\n",
      "Polling for image (id: 7AYBEJSQ7RCWUAZAFGIOTAVQ).\n",
      "Polling for image (id: 7AYBEJSQ7RCWUAZAFGIOTAVQ).\n"
     ]
    },
    {
     "name": "stderr",
     "output_type": "stream",
     "text": [
      "\n",
      "Exporting All Images:  56%|█████▌    | 47/84 [13:52<14:18, 23.22s/it]\u001b[A"
     ]
    },
    {
     "name": "stdout",
     "output_type": "stream",
     "text": [
      "Image 47 completed with state: COMPLETED\n"
     ]
    },
    {
     "name": "stderr",
     "output_type": "stream",
     "text": [
      "\n",
      "Exporting All Images:  57%|█████▋    | 48/84 [13:53<09:52, 16.46s/it]\u001b[A"
     ]
    },
    {
     "name": "stdout",
     "output_type": "stream",
     "text": [
      "Image 48 Failed:  Collection.first: Error in map(ID=LC08_193029_20231212):\n",
      "Image.constant: Parameter 'value' is required.\n"
     ]
    },
    {
     "name": "stderr",
     "output_type": "stream",
     "text": [
      "\n",
      "Exporting All Images:  58%|█████▊    | 49/84 [13:54<06:49, 11.71s/it]\u001b[A"
     ]
    },
    {
     "name": "stdout",
     "output_type": "stream",
     "text": [
      "Image 49 Failed:  Collection.first: Error in map(ID=LC08_193029_20231228):\n",
      "Image.constant: Parameter 'value' is required.\n",
      "Polling for image (id: R3FHXINUQHERXY6KNDCS7HT6).\n",
      "Polling for image (id: R3FHXINUQHERXY6KNDCS7HT6).\n"
     ]
    },
    {
     "name": "stderr",
     "output_type": "stream",
     "text": [
      "\n",
      "Exporting All Images:  60%|█████▉    | 50/84 [14:17<08:40, 15.30s/it]\u001b[A"
     ]
    },
    {
     "name": "stdout",
     "output_type": "stream",
     "text": [
      "Image 50 completed with state: COMPLETED\n"
     ]
    },
    {
     "name": "stderr",
     "output_type": "stream",
     "text": [
      "\n",
      "Exporting All Images:  61%|██████    | 51/84 [14:19<06:13, 11.31s/it]\u001b[A"
     ]
    },
    {
     "name": "stdout",
     "output_type": "stream",
     "text": [
      "Image 51 Failed:  Collection.first: Error in map(ID=LC08_193029_20240129):\n",
      "Image.constant: Parameter 'value' is required.\n",
      "Polling for image (id: KKGC3ARH5PRA6BP534WGYIVW).\n",
      "Polling for image (id: KKGC3ARH5PRA6BP534WGYIVW).\n"
     ]
    },
    {
     "name": "stderr",
     "output_type": "stream",
     "text": [
      "\n",
      "Exporting All Images:  62%|██████▏   | 52/84 [14:43<07:56, 14.90s/it]\u001b[A"
     ]
    },
    {
     "name": "stdout",
     "output_type": "stream",
     "text": [
      "Image 52 completed with state: COMPLETED\n"
     ]
    },
    {
     "name": "stderr",
     "output_type": "stream",
     "text": [
      "\n",
      "Exporting All Images:  63%|██████▎   | 53/84 [14:43<05:29, 10.64s/it]\u001b[A"
     ]
    },
    {
     "name": "stdout",
     "output_type": "stream",
     "text": [
      "Image 53 Failed:  Collection.first: Error in map(ID=LC08_193029_20240317):\n",
      "Number.subtract: Parameter 'left' is required.\n",
      "Polling for image (id: VLHJ7LPPUQVXD7MKBDPX7PGG).\n",
      "Polling for image (id: VLHJ7LPPUQVXD7MKBDPX7PGG).\n"
     ]
    },
    {
     "name": "stderr",
     "output_type": "stream",
     "text": [
      "\n",
      "Exporting All Images:  64%|██████▍   | 54/84 [15:07<07:12, 14.40s/it]\u001b[A"
     ]
    },
    {
     "name": "stdout",
     "output_type": "stream",
     "text": [
      "Image 54 completed with state: COMPLETED\n"
     ]
    },
    {
     "name": "stderr",
     "output_type": "stream",
     "text": [
      "\n",
      "Exporting All Images:  65%|██████▌   | 55/84 [15:07<04:57, 10.27s/it]\u001b[A"
     ]
    },
    {
     "name": "stdout",
     "output_type": "stream",
     "text": [
      "Image 55 Failed:  Collection.first: Error in map(ID=LC08_193029_20240418):\n",
      "Number.subtract: Parameter 'left' is required.\n"
     ]
    },
    {
     "name": "stderr",
     "output_type": "stream",
     "text": [
      "\n",
      "Exporting All Images:  67%|██████▋   | 56/84 [15:08<03:27,  7.40s/it]\u001b[A"
     ]
    },
    {
     "name": "stdout",
     "output_type": "stream",
     "text": [
      "Image 56 Failed:  Collection.first: Error in map(ID=LC08_193029_20240504):\n",
      "Number.subtract: Parameter 'left' is required.\n",
      "Polling for image (id: PNEIYMAWX4PJ743NYZEAU2KO).\n",
      "Polling for image (id: PNEIYMAWX4PJ743NYZEAU2KO).\n"
     ]
    },
    {
     "name": "stderr",
     "output_type": "stream",
     "text": [
      "\n",
      "Exporting All Images:  68%|██████▊   | 57/84 [15:31<05:29, 12.19s/it]\u001b[A"
     ]
    },
    {
     "name": "stdout",
     "output_type": "stream",
     "text": [
      "Image 57 completed with state: COMPLETED\n",
      "Polling for image (id: VJANP4TVW4MZILKQIWWB5OXU).\n",
      "Polling for image (id: VJANP4TVW4MZILKQIWWB5OXU).\n"
     ]
    },
    {
     "name": "stderr",
     "output_type": "stream",
     "text": [
      "\n",
      "Exporting All Images:  69%|██████▉   | 58/84 [15:55<06:43, 15.54s/it]\u001b[A"
     ]
    },
    {
     "name": "stdout",
     "output_type": "stream",
     "text": [
      "Image 58 completed with state: COMPLETED\n",
      "Polling for image (id: OAJLT2EUCLZVLYI5DAT42W57).\n",
      "Polling for image (id: OAJLT2EUCLZVLYI5DAT42W57).\n"
     ]
    },
    {
     "name": "stderr",
     "output_type": "stream",
     "text": [
      "\n",
      "Exporting All Images:  70%|███████   | 59/84 [16:18<07:30, 18.00s/it]\u001b[A"
     ]
    },
    {
     "name": "stdout",
     "output_type": "stream",
     "text": [
      "Image 59 completed with state: COMPLETED\n",
      "Polling for image (id: LUO2YQOTOBWMFSYESXLNMQXO).\n",
      "Polling for image (id: LUO2YQOTOBWMFSYESXLNMQXO).\n"
     ]
    },
    {
     "name": "stderr",
     "output_type": "stream",
     "text": [
      "\n",
      "Exporting All Images:  71%|███████▏  | 60/84 [16:42<07:53, 19.73s/it]\u001b[A"
     ]
    },
    {
     "name": "stdout",
     "output_type": "stream",
     "text": [
      "Image 60 completed with state: COMPLETED\n",
      "Polling for image (id: T3Q563I27M62KBEZU63BXN4L).\n",
      "Polling for image (id: T3Q563I27M62KBEZU63BXN4L).\n"
     ]
    },
    {
     "name": "stderr",
     "output_type": "stream",
     "text": [
      "\n",
      "Exporting All Images:  73%|███████▎  | 61/84 [17:05<07:57, 20.76s/it]\u001b[A"
     ]
    },
    {
     "name": "stdout",
     "output_type": "stream",
     "text": [
      "Image 61 completed with state: COMPLETED\n"
     ]
    },
    {
     "name": "stderr",
     "output_type": "stream",
     "text": [
      "\n",
      "Exporting All Images:  74%|███████▍  | 62/84 [17:06<05:24, 14.74s/it]\u001b[A"
     ]
    },
    {
     "name": "stdout",
     "output_type": "stream",
     "text": [
      "Image 62 Failed:  Collection.first: Error in map(ID=LC08_194028_20230407):\n",
      "Image.constant: Parameter 'value' is required.\n",
      "Polling for image (id: OQLIEGYTHAJ5JEMZZNQF755K).\n",
      "Polling for image (id: OQLIEGYTHAJ5JEMZZNQF755K).\n"
     ]
    },
    {
     "name": "stderr",
     "output_type": "stream",
     "text": [
      "\n",
      "Exporting All Images:  75%|███████▌  | 63/84 [17:29<06:03, 17.31s/it]\u001b[A"
     ]
    },
    {
     "name": "stdout",
     "output_type": "stream",
     "text": [
      "Image 63 completed with state: COMPLETED\n",
      "Polling for image (id: MQY2ISWG7DDMDPO46LW23WRG).\n",
      "Polling for image (id: MQY2ISWG7DDMDPO46LW23WRG).\n"
     ]
    },
    {
     "name": "stderr",
     "output_type": "stream",
     "text": [
      "\n",
      "Exporting All Images:  76%|███████▌  | 64/84 [17:53<06:22, 19.12s/it]\u001b[A"
     ]
    },
    {
     "name": "stdout",
     "output_type": "stream",
     "text": [
      "Image 64 completed with state: COMPLETED\n"
     ]
    },
    {
     "name": "stderr",
     "output_type": "stream",
     "text": [
      "\n",
      "Exporting All Images:  77%|███████▋  | 65/84 [17:53<04:17, 13.56s/it]\u001b[A"
     ]
    },
    {
     "name": "stdout",
     "output_type": "stream",
     "text": [
      "Image 65 Failed:  Collection.first: Error in map(ID=LC08_194028_20230610):\n",
      "Number.subtract: Parameter 'left' is required.\n",
      "Polling for image (id: 2TMZLWGAXRUTA4EP6RYNWAEG).\n",
      "Polling for image (id: 2TMZLWGAXRUTA4EP6RYNWAEG).\n"
     ]
    },
    {
     "name": "stderr",
     "output_type": "stream",
     "text": [
      "\n",
      "Exporting All Images:  79%|███████▊  | 66/84 [18:16<04:56, 16.48s/it]\u001b[A"
     ]
    },
    {
     "name": "stdout",
     "output_type": "stream",
     "text": [
      "Image 66 completed with state: COMPLETED\n",
      "Polling for image (id: C2Y4CL2TAWV7P3TXNFYPMCQ3).\n",
      "Polling for image (id: C2Y4CL2TAWV7P3TXNFYPMCQ3).\n"
     ]
    },
    {
     "name": "stderr",
     "output_type": "stream",
     "text": [
      "\n",
      "Exporting All Images:  80%|███████▉  | 67/84 [18:40<05:15, 18.59s/it]\u001b[A"
     ]
    },
    {
     "name": "stdout",
     "output_type": "stream",
     "text": [
      "Image 67 completed with state: COMPLETED\n",
      "Polling for image (id: JQFG2G4YT7BYZZZMZIBCM3ZO).\n",
      "Polling for image (id: JQFG2G4YT7BYZZZMZIBCM3ZO).\n"
     ]
    },
    {
     "name": "stderr",
     "output_type": "stream",
     "text": [
      "\n",
      "Exporting All Images:  81%|████████  | 68/84 [19:03<05:19, 19.98s/it]\u001b[A"
     ]
    },
    {
     "name": "stdout",
     "output_type": "stream",
     "text": [
      "Image 68 completed with state: COMPLETED\n",
      "Polling for image (id: 3VK2PZLSD72YDTQJSK6BNOTH).\n",
      "Polling for image (id: 3VK2PZLSD72YDTQJSK6BNOTH).\n"
     ]
    },
    {
     "name": "stderr",
     "output_type": "stream",
     "text": [
      "\n",
      "Exporting All Images:  82%|████████▏ | 69/84 [19:26<05:13, 20.93s/it]\u001b[A"
     ]
    },
    {
     "name": "stdout",
     "output_type": "stream",
     "text": [
      "Image 69 completed with state: COMPLETED\n"
     ]
    },
    {
     "name": "stderr",
     "output_type": "stream",
     "text": [
      "\n",
      "Exporting All Images:  83%|████████▎ | 70/84 [19:27<03:27, 14.85s/it]\u001b[A"
     ]
    },
    {
     "name": "stdout",
     "output_type": "stream",
     "text": [
      "Image 70 Failed:  Collection.first: Error in map(ID=LC08_194028_20230829):\n",
      "Number.subtract: Parameter 'left' is required.\n",
      "Polling for image (id: SWOABAQRXDAFAR2LYHCDBICL).\n",
      "Polling for image (id: SWOABAQRXDAFAR2LYHCDBICL).\n"
     ]
    },
    {
     "name": "stderr",
     "output_type": "stream",
     "text": [
      "\n",
      "Exporting All Images:  85%|████████▍ | 71/84 [19:50<03:46, 17.41s/it]\u001b[A"
     ]
    },
    {
     "name": "stdout",
     "output_type": "stream",
     "text": [
      "Image 71 completed with state: COMPLETED\n",
      "Polling for image (id: MULGRBFL2PJF5WZW37GKIXU4).\n",
      "Polling for image (id: MULGRBFL2PJF5WZW37GKIXU4).\n"
     ]
    },
    {
     "name": "stderr",
     "output_type": "stream",
     "text": [
      "\n",
      "Exporting All Images:  86%|████████▌ | 72/84 [20:14<03:49, 19.15s/it]\u001b[A"
     ]
    },
    {
     "name": "stdout",
     "output_type": "stream",
     "text": [
      "Image 72 completed with state: COMPLETED\n"
     ]
    },
    {
     "name": "stderr",
     "output_type": "stream",
     "text": [
      "\n",
      "Exporting All Images:  87%|████████▋ | 73/84 [20:14<02:29, 13.61s/it]\u001b[A"
     ]
    },
    {
     "name": "stdout",
     "output_type": "stream",
     "text": [
      "Image 73 Failed:  Collection.first: Error in map(ID=LC08_194028_20231016):\n",
      "Number.subtract: Parameter 'left' is required.\n",
      "Polling for image (id: PPWAYKWV46TWK36MSZ3FYDL3).\n",
      "Polling for image (id: PPWAYKWV46TWK36MSZ3FYDL3).\n"
     ]
    },
    {
     "name": "stderr",
     "output_type": "stream",
     "text": [
      "\n",
      "Exporting All Images:  88%|████████▊ | 74/84 [20:38<02:44, 16.50s/it]\u001b[A"
     ]
    },
    {
     "name": "stdout",
     "output_type": "stream",
     "text": [
      "Image 74 completed with state: COMPLETED\n",
      "Polling for image (id: GBQUSHHZOS6QNSF75DPQ5GWL).\n",
      "Polling for image (id: GBQUSHHZOS6QNSF75DPQ5GWL).\n"
     ]
    },
    {
     "name": "stderr",
     "output_type": "stream",
     "text": [
      "\n",
      "Exporting All Images:  89%|████████▉ | 75/84 [21:01<02:46, 18.52s/it]\u001b[A"
     ]
    },
    {
     "name": "stdout",
     "output_type": "stream",
     "text": [
      "Image 75 completed with state: COMPLETED\n",
      "Polling for image (id: 4HGJIFANLOVDAWUAOZA4YKAT).\n",
      "Polling for image (id: 4HGJIFANLOVDAWUAOZA4YKAT).\n"
     ]
    },
    {
     "name": "stderr",
     "output_type": "stream",
     "text": [
      "\n",
      "Exporting All Images:  90%|█████████ | 76/84 [21:25<02:41, 20.15s/it]\u001b[A"
     ]
    },
    {
     "name": "stdout",
     "output_type": "stream",
     "text": [
      "Image 76 completed with state: COMPLETED\n",
      "Polling for image (id: HUC66W2NKNA7ZANGUBBUQUKZ).\n",
      "Polling for image (id: HUC66W2NKNA7ZANGUBBUQUKZ).\n"
     ]
    },
    {
     "name": "stderr",
     "output_type": "stream",
     "text": [
      "\n",
      "Exporting All Images:  92%|█████████▏| 77/84 [21:48<02:27, 21.11s/it]\u001b[A"
     ]
    },
    {
     "name": "stdout",
     "output_type": "stream",
     "text": [
      "Image 77 completed with state: COMPLETED\n",
      "Polling for image (id: 7TV3PCCI2XYU7ROLIDS3SXEP).\n",
      "Polling for image (id: 7TV3PCCI2XYU7ROLIDS3SXEP).\n",
      "Polling for image (id: 7TV3PCCI2XYU7ROLIDS3SXEP).\n",
      "Polling for image (id: 7TV3PCCI2XYU7ROLIDS3SXEP).\n"
     ]
    },
    {
     "name": "stderr",
     "output_type": "stream",
     "text": [
      "\n",
      "Exporting All Images:  93%|█████████▎| 78/84 [22:32<02:47, 27.99s/it]\u001b[A"
     ]
    },
    {
     "name": "stdout",
     "output_type": "stream",
     "text": [
      "Image 78 completed with state: COMPLETED\n",
      "Polling for image (id: SZ4QOPFU26KSRARIRS73UFB2).\n",
      "Polling for image (id: SZ4QOPFU26KSRARIRS73UFB2).\n",
      "Polling for image (id: SZ4QOPFU26KSRARIRS73UFB2).\n",
      "Polling for image (id: SZ4QOPFU26KSRARIRS73UFB2).\n",
      "Polling for image (id: SZ4QOPFU26KSRARIRS73UFB2).\n"
     ]
    },
    {
     "name": "stderr",
     "output_type": "stream",
     "text": [
      "\n",
      "Exporting All Images:  94%|█████████▍| 79/84 [23:26<02:59, 35.85s/it]\u001b[A"
     ]
    },
    {
     "name": "stdout",
     "output_type": "stream",
     "text": [
      "Image 79 completed with state: COMPLETED\n",
      "Polling for image (id: OONQID6UNWVSIS322GTHSZVT).\n",
      "Polling for image (id: OONQID6UNWVSIS322GTHSZVT).\n"
     ]
    },
    {
     "name": "stderr",
     "output_type": "stream",
     "text": [
      "\n",
      "Exporting All Images:  95%|█████████▌| 80/84 [23:50<02:08, 32.07s/it]\u001b[A"
     ]
    },
    {
     "name": "stdout",
     "output_type": "stream",
     "text": [
      "Image 80 completed with state: COMPLETED\n",
      "Polling for image (id: SHUTDWBEKNNLMVQX6VM3YJYR).\n",
      "Polling for image (id: SHUTDWBEKNNLMVQX6VM3YJYR).\n"
     ]
    },
    {
     "name": "stderr",
     "output_type": "stream",
     "text": [
      "\n",
      "Exporting All Images:  96%|█████████▋| 81/84 [24:13<01:28, 29.44s/it]\u001b[A"
     ]
    },
    {
     "name": "stdout",
     "output_type": "stream",
     "text": [
      "Image 81 completed with state: COMPLETED\n",
      "Polling for image (id: 2L2WVT52B7GUBQ7R4SLK63XS).\n",
      "Polling for image (id: 2L2WVT52B7GUBQ7R4SLK63XS).\n"
     ]
    },
    {
     "name": "stderr",
     "output_type": "stream",
     "text": [
      "\n",
      "Exporting All Images:  98%|█████████▊| 82/84 [24:36<00:55, 27.60s/it]\u001b[A"
     ]
    },
    {
     "name": "stdout",
     "output_type": "stream",
     "text": [
      "Image 82 completed with state: COMPLETED\n",
      "Polling for image (id: MYD5P4IHU5CJPC3TBDE4SW7V).\n",
      "Polling for image (id: MYD5P4IHU5CJPC3TBDE4SW7V).\n"
     ]
    },
    {
     "name": "stderr",
     "output_type": "stream",
     "text": [
      "\n",
      "Exporting All Images:  99%|█████████▉| 83/84 [25:00<00:26, 26.32s/it]\u001b[A"
     ]
    },
    {
     "name": "stdout",
     "output_type": "stream",
     "text": [
      "Image 83 completed with state: COMPLETED\n",
      "Polling for image (id: 5ZC7STRSFENF46U7OAAF4XDI).\n",
      "Polling for image (id: 5ZC7STRSFENF46U7OAAF4XDI).\n"
     ]
    },
    {
     "name": "stderr",
     "output_type": "stream",
     "text": [
      "\n",
      "Exporting All Images: 100%|██████████| 84/84 [25:23<00:00, 18.14s/it]\u001b[A\n",
      " 50%|█████     | 1/2 [25:24<25:24, 1524.31s/it]"
     ]
    },
    {
     "name": "stdout",
     "output_type": "stream",
     "text": [
      "Image 84 completed with state: COMPLETED\n",
      "##################################################\n",
      "All images for Zone 4 have been processed and initiated for download.\n",
      "Number of skipped images: 23\n",
      "Failed image IDs: ['LC08_193028_20230227', 'LC08_193028_20230502', 'LC08_193028_20230518', 'LC08_193028_20230721', 'LC08_193028_20231228', 'LC08_193028_20240317', 'LC08_193028_20240504', 'LC08_193029_20230211', 'LC08_193029_20230227', 'LC08_193029_20230331', 'LC08_193029_20230502', 'LC08_193029_20230518', 'LC08_193029_20230923', 'LC08_193029_20231212', 'LC08_193029_20231228', 'LC08_193029_20240129', 'LC08_193029_20240317', 'LC08_193029_20240418', 'LC08_193029_20240504', 'LC08_194028_20230407', 'LC08_194028_20230610', 'LC08_194028_20230829', 'LC08_194028_20231016']\n",
      "##################################################\n",
      "Processing and exporting data for Zone 9\n",
      "EXPORTING ALL IMAGES FOR Zone 9\n",
      "Total Images:  84\n"
     ]
    },
    {
     "name": "stderr",
     "output_type": "stream",
     "text": [
      "\n",
      "Exporting All Images:   0%|          | 0/84 [00:00<?, ?it/s]\u001b[A"
     ]
    },
    {
     "name": "stdout",
     "output_type": "stream",
     "text": [
      "Polling for image (id: KGI37IDY7ZLFEZRDQFFKQZQ2).\n",
      "Polling for image (id: KGI37IDY7ZLFEZRDQFFKQZQ2).\n"
     ]
    },
    {
     "name": "stderr",
     "output_type": "stream",
     "text": [
      "\n",
      "Exporting All Images:   1%|          | 1/84 [00:23<32:10, 23.26s/it]\u001b[A"
     ]
    },
    {
     "name": "stdout",
     "output_type": "stream",
     "text": [
      "Image 1 completed with state: COMPLETED\n",
      "Polling for image (id: 34RKU5SZGJEBXM4O6LARBT6U).\n",
      "Polling for image (id: 34RKU5SZGJEBXM4O6LARBT6U).\n"
     ]
    },
    {
     "name": "stderr",
     "output_type": "stream",
     "text": [
      "\n",
      "Exporting All Images:   2%|▏         | 2/84 [00:47<32:48, 24.00s/it]\u001b[A"
     ]
    },
    {
     "name": "stdout",
     "output_type": "stream",
     "text": [
      "Image 2 completed with state: COMPLETED\n"
     ]
    },
    {
     "name": "stderr",
     "output_type": "stream",
     "text": [
      "\n",
      "Exporting All Images:   4%|▎         | 3/84 [00:50<19:22, 14.35s/it]\u001b[A"
     ]
    },
    {
     "name": "stdout",
     "output_type": "stream",
     "text": [
      "Image 3 Failed:  Collection.first: Error in map(ID=LC08_193028_20230227):\n",
      "Image.constant: Parameter 'value' is required.\n",
      "Polling for image (id: WOIPPRIJ3QCHSDKGTO444I4K).\n",
      "Polling for image (id: WOIPPRIJ3QCHSDKGTO444I4K).\n"
     ]
    },
    {
     "name": "stderr",
     "output_type": "stream",
     "text": [
      "\n",
      "Exporting All Images:   5%|▍         | 4/84 [01:17<25:47, 19.34s/it]\u001b[A"
     ]
    },
    {
     "name": "stdout",
     "output_type": "stream",
     "text": [
      "Image 4 completed with state: COMPLETED\n",
      "Polling for image (id: OITOICDFPEBJZGALFALYBNLG).\n"
     ]
    },
    {
     "name": "stderr",
     "output_type": "stream",
     "text": [
      "\n",
      "Exporting All Images:   6%|▌         | 5/84 [01:36<25:15, 19.19s/it]\u001b[A"
     ]
    },
    {
     "name": "stdout",
     "output_type": "stream",
     "text": [
      "Image 5 completed with state: COMPLETED\n"
     ]
    },
    {
     "name": "stderr",
     "output_type": "stream",
     "text": [
      "\n",
      "Exporting All Images:   7%|▋         | 6/84 [01:37<17:04, 13.14s/it]\u001b[A"
     ]
    },
    {
     "name": "stdout",
     "output_type": "stream",
     "text": [
      "Image 6 Failed:  Collection.first: Error in map(ID=LC08_193028_20230502):\n",
      "Number.subtract: Parameter 'left' is required.\n"
     ]
    },
    {
     "name": "stderr",
     "output_type": "stream",
     "text": [
      "\n",
      "Exporting All Images:   8%|▊         | 7/84 [01:39<12:04,  9.41s/it]\u001b[A"
     ]
    },
    {
     "name": "stdout",
     "output_type": "stream",
     "text": [
      "Image 7 Failed:  Collection.first: Error in map(ID=LC08_193028_20230518):\n",
      "Number.subtract: Parameter 'left' is required.\n",
      "Polling for image (id: YE2D3SQS75TNHYJJ2OZYJRB4).\n",
      "Polling for image (id: YE2D3SQS75TNHYJJ2OZYJRB4).\n"
     ]
    },
    {
     "name": "stderr",
     "output_type": "stream",
     "text": [
      "\n",
      "Exporting All Images:  10%|▉         | 8/84 [02:06<18:51, 14.89s/it]\u001b[A"
     ]
    },
    {
     "name": "stdout",
     "output_type": "stream",
     "text": [
      "Image 8 completed with state: COMPLETED\n",
      "Polling for image (id: SUNISCXZBJTZ57SLOHB77SZD).\n",
      "Polling for image (id: SUNISCXZBJTZ57SLOHB77SZD).\n"
     ]
    },
    {
     "name": "stderr",
     "output_type": "stream",
     "text": [
      "\n",
      "Exporting All Images:  11%|█         | 9/84 [02:32<23:04, 18.46s/it]\u001b[A"
     ]
    },
    {
     "name": "stdout",
     "output_type": "stream",
     "text": [
      "Image 9 completed with state: COMPLETED\n",
      "Polling for image (id: VD3A2G3MSPZID7ATZDPAPZ2K).\n",
      "Polling for image (id: VD3A2G3MSPZID7ATZDPAPZ2K).\n"
     ]
    },
    {
     "name": "stderr",
     "output_type": "stream",
     "text": [
      "\n",
      "Exporting All Images:  12%|█▏        | 10/84 [02:59<25:51, 20.97s/it]\u001b[A"
     ]
    },
    {
     "name": "stdout",
     "output_type": "stream",
     "text": [
      "Image 10 completed with state: COMPLETED\n"
     ]
    },
    {
     "name": "stderr",
     "output_type": "stream",
     "text": [
      "\n",
      "Exporting All Images:  13%|█▎        | 11/84 [03:00<18:00, 14.80s/it]\u001b[A"
     ]
    },
    {
     "name": "stdout",
     "output_type": "stream",
     "text": [
      "Image 11 Failed:  Collection.first: Error in map(ID=LC08_193028_20230721):\n",
      "Number.subtract: Parameter 'left' is required.\n",
      "Polling for image (id: ZYOBPMXJJVHGEL7HB5QUUT6Z).\n",
      "Polling for image (id: ZYOBPMXJJVHGEL7HB5QUUT6Z).\n"
     ]
    },
    {
     "name": "stderr",
     "output_type": "stream",
     "text": [
      "\n",
      "Exporting All Images:  14%|█▍        | 12/84 [03:26<22:08, 18.46s/it]\u001b[A"
     ]
    },
    {
     "name": "stdout",
     "output_type": "stream",
     "text": [
      "Image 12 completed with state: COMPLETED\n",
      "Polling for image (id: FBI55INOWCNGFBULNO5OORAR).\n",
      "Polling for image (id: FBI55INOWCNGFBULNO5OORAR).\n"
     ]
    },
    {
     "name": "stderr",
     "output_type": "stream",
     "text": [
      "\n",
      "Exporting All Images:  15%|█▌        | 13/84 [03:53<24:36, 20.80s/it]\u001b[A"
     ]
    },
    {
     "name": "stdout",
     "output_type": "stream",
     "text": [
      "Image 13 completed with state: COMPLETED\n",
      "Polling for image (id: 63PI5KXIVCI54NKFU7XJUAT6).\n",
      "Polling for image (id: 63PI5KXIVCI54NKFU7XJUAT6).\n"
     ]
    },
    {
     "name": "stderr",
     "output_type": "stream",
     "text": [
      "\n",
      "Exporting All Images:  17%|█▋        | 14/84 [04:18<25:50, 22.15s/it]\u001b[A"
     ]
    },
    {
     "name": "stdout",
     "output_type": "stream",
     "text": [
      "Image 14 completed with state: COMPLETED\n",
      "Polling for image (id: HZ7NTUKUGMLRR4ZPDTZELESC).\n",
      "Polling for image (id: HZ7NTUKUGMLRR4ZPDTZELESC).\n"
     ]
    },
    {
     "name": "stderr",
     "output_type": "stream",
     "text": [
      "\n",
      "Exporting All Images:  18%|█▊        | 15/84 [04:46<27:32, 23.95s/it]\u001b[A"
     ]
    },
    {
     "name": "stdout",
     "output_type": "stream",
     "text": [
      "Image 15 completed with state: COMPLETED\n",
      "Polling for image (id: 3UVA7E2Q6KDLLNQUB7UHZG4D).\n",
      "Polling for image (id: 3UVA7E2Q6KDLLNQUB7UHZG4D).\n"
     ]
    },
    {
     "name": "stderr",
     "output_type": "stream",
     "text": [
      "\n",
      "Exporting All Images:  19%|█▉        | 16/84 [05:12<27:47, 24.52s/it]\u001b[A"
     ]
    },
    {
     "name": "stdout",
     "output_type": "stream",
     "text": [
      "Image 16 completed with state: COMPLETED\n",
      "Polling for image (id: TZBIQRTZOVOEONGFV3QKRYJH).\n",
      "Polling for image (id: TZBIQRTZOVOEONGFV3QKRYJH).\n"
     ]
    },
    {
     "name": "stderr",
     "output_type": "stream",
     "text": [
      "\n",
      "Exporting All Images:  20%|██        | 17/84 [05:36<27:24, 24.55s/it]\u001b[A"
     ]
    },
    {
     "name": "stdout",
     "output_type": "stream",
     "text": [
      "Image 17 completed with state: COMPLETED\n",
      "Polling for image (id: 7PE4SJT4Z62FOW6EZUDVRTGD).\n",
      "Polling for image (id: 7PE4SJT4Z62FOW6EZUDVRTGD).\n"
     ]
    },
    {
     "name": "stderr",
     "output_type": "stream",
     "text": [
      "\n",
      "Exporting All Images:  21%|██▏       | 18/84 [06:00<26:38, 24.22s/it]\u001b[A"
     ]
    },
    {
     "name": "stdout",
     "output_type": "stream",
     "text": [
      "Image 18 completed with state: COMPLETED\n",
      "Polling for image (id: L7QR3GYUAJCJ5FCOB34KDANA).\n",
      "Polling for image (id: L7QR3GYUAJCJ5FCOB34KDANA).\n"
     ]
    },
    {
     "name": "stderr",
     "output_type": "stream",
     "text": [
      "\n",
      "Exporting All Images:  23%|██▎       | 19/84 [06:23<25:58, 23.98s/it]\u001b[A"
     ]
    },
    {
     "name": "stdout",
     "output_type": "stream",
     "text": [
      "Image 19 completed with state: COMPLETED\n",
      "Polling for image (id: 7ZYALXD72IGS5EX5UAO2MVG6).\n",
      "Polling for image (id: 7ZYALXD72IGS5EX5UAO2MVG6).\n"
     ]
    },
    {
     "name": "stderr",
     "output_type": "stream",
     "text": [
      "\n",
      "Exporting All Images:  24%|██▍       | 20/84 [06:47<25:24, 23.83s/it]\u001b[A"
     ]
    },
    {
     "name": "stdout",
     "output_type": "stream",
     "text": [
      "Image 20 completed with state: COMPLETED\n"
     ]
    },
    {
     "name": "stderr",
     "output_type": "stream",
     "text": [
      "\n",
      "Exporting All Images:  25%|██▌       | 21/84 [06:47<17:42, 16.87s/it]\u001b[A"
     ]
    },
    {
     "name": "stdout",
     "output_type": "stream",
     "text": [
      "Image 21 Failed:  Collection.first: Error in map(ID=LC08_193028_20231228):\n",
      "Number.subtract: Parameter 'left' is required.\n",
      "Polling for image (id: A2BWUIFDJMQ3FJUFIFZ6R7TR).\n",
      "Polling for image (id: A2BWUIFDJMQ3FJUFIFZ6R7TR).\n"
     ]
    },
    {
     "name": "stderr",
     "output_type": "stream",
     "text": [
      "\n",
      "Exporting All Images:  26%|██▌       | 22/84 [07:11<19:28, 18.85s/it]\u001b[A"
     ]
    },
    {
     "name": "stdout",
     "output_type": "stream",
     "text": [
      "Image 22 completed with state: COMPLETED\n",
      "Polling for image (id: IWWBBQTPD4TMGI57AKHVGBRZ).\n",
      "Polling for image (id: IWWBBQTPD4TMGI57AKHVGBRZ).\n"
     ]
    },
    {
     "name": "stderr",
     "output_type": "stream",
     "text": [
      "\n",
      "Exporting All Images:  27%|██▋       | 23/84 [07:37<21:29, 21.14s/it]\u001b[A"
     ]
    },
    {
     "name": "stdout",
     "output_type": "stream",
     "text": [
      "Image 23 completed with state: COMPLETED\n",
      "Polling for image (id: B6K2OUC6YQM2Z6GWYTN2HNA5).\n",
      "Polling for image (id: B6K2OUC6YQM2Z6GWYTN2HNA5).\n"
     ]
    },
    {
     "name": "stderr",
     "output_type": "stream",
     "text": [
      "\n",
      "Exporting All Images:  29%|██▊       | 24/84 [08:05<23:15, 23.25s/it]\u001b[A"
     ]
    },
    {
     "name": "stdout",
     "output_type": "stream",
     "text": [
      "Image 24 completed with state: COMPLETED\n"
     ]
    },
    {
     "name": "stderr",
     "output_type": "stream",
     "text": [
      "\n",
      "Exporting All Images:  30%|██▉       | 25/84 [08:07<16:26, 16.72s/it]\u001b[A"
     ]
    },
    {
     "name": "stdout",
     "output_type": "stream",
     "text": [
      "Image 25 Failed:  Collection.first: Error in map(ID=LC08_193028_20240317):\n",
      "Image.constant: Parameter 'value' is required.\n",
      "Polling for image (id: GWDOLCAKGWQJQBNYQKH3JEAB).\n",
      "Polling for image (id: GWDOLCAKGWQJQBNYQKH3JEAB).\n"
     ]
    },
    {
     "name": "stderr",
     "output_type": "stream",
     "text": [
      "\n",
      "Exporting All Images:  31%|███       | 26/84 [08:32<18:33, 19.20s/it]\u001b[A"
     ]
    },
    {
     "name": "stdout",
     "output_type": "stream",
     "text": [
      "Image 26 completed with state: COMPLETED\n",
      "Polling for image (id: 2NU53N27J656YRR52DIB6OCV).\n",
      "Polling for image (id: 2NU53N27J656YRR52DIB6OCV).\n"
     ]
    },
    {
     "name": "stderr",
     "output_type": "stream",
     "text": [
      "\n",
      "Exporting All Images:  32%|███▏      | 27/84 [08:57<19:47, 20.83s/it]\u001b[A"
     ]
    },
    {
     "name": "stdout",
     "output_type": "stream",
     "text": [
      "Image 27 completed with state: COMPLETED\n"
     ]
    },
    {
     "name": "stderr",
     "output_type": "stream",
     "text": [
      "\n",
      "Exporting All Images:  33%|███▎      | 28/84 [08:57<13:48, 14.80s/it]\u001b[A"
     ]
    },
    {
     "name": "stdout",
     "output_type": "stream",
     "text": [
      "Image 28 Failed:  Collection.first: Error in map(ID=LC08_193028_20240504):\n",
      "Image.constant: Parameter 'value' is required.\n",
      "Polling for image (id: CMHEVME5XZCKPMY7S2BLFDGE).\n"
     ]
    },
    {
     "name": "stderr",
     "output_type": "stream",
     "text": [
      "\n",
      "Exporting All Images:  35%|███▍      | 29/84 [09:13<13:43, 14.97s/it]\u001b[A"
     ]
    },
    {
     "name": "stdout",
     "output_type": "stream",
     "text": [
      "Image 29 completed with state: COMPLETED\n",
      "Polling for image (id: Q474B7IO4YXAXPI2QMDK4NJX).\n",
      "Polling for image (id: Q474B7IO4YXAXPI2QMDK4NJX).\n"
     ]
    },
    {
     "name": "stderr",
     "output_type": "stream",
     "text": [
      "\n",
      "Exporting All Images:  36%|███▌      | 30/84 [09:39<16:26, 18.27s/it]\u001b[A"
     ]
    },
    {
     "name": "stdout",
     "output_type": "stream",
     "text": [
      "Image 30 completed with state: COMPLETED\n"
     ]
    },
    {
     "name": "stderr",
     "output_type": "stream",
     "text": [
      "\n",
      "Exporting All Images:  37%|███▋      | 31/84 [09:40<11:35, 13.12s/it]\u001b[A"
     ]
    },
    {
     "name": "stdout",
     "output_type": "stream",
     "text": [
      "Image 31 Failed:  Collection.first: Error in map(ID=LC08_193029_20230227):\n",
      "Number.subtract: Parameter 'left' is required.\n",
      "Polling for image (id: LA2IUDHP363IMT6LP2HVSU46).\n",
      "Polling for image (id: LA2IUDHP363IMT6LP2HVSU46).\n"
     ]
    },
    {
     "name": "stderr",
     "output_type": "stream",
     "text": [
      "\n",
      "Exporting All Images:  38%|███▊      | 32/84 [10:04<14:20, 16.56s/it]\u001b[A"
     ]
    },
    {
     "name": "stdout",
     "output_type": "stream",
     "text": [
      "Image 32 completed with state: COMPLETED\n"
     ]
    },
    {
     "name": "stderr",
     "output_type": "stream",
     "text": [
      "\n",
      "Exporting All Images:  39%|███▉      | 33/84 [10:05<10:03, 11.83s/it]\u001b[A"
     ]
    },
    {
     "name": "stdout",
     "output_type": "stream",
     "text": [
      "Image 33 Failed:  Collection.first: Error in map(ID=LC08_193029_20230331):\n",
      "Image.constant: Parameter 'value' is required.\n",
      "Polling for image (id: UZ7JUN25LPF2YSO45MXQG2CG).\n",
      "Polling for image (id: UZ7JUN25LPF2YSO45MXQG2CG).\n"
     ]
    },
    {
     "name": "stderr",
     "output_type": "stream",
     "text": [
      "\n",
      "Exporting All Images:  40%|████      | 34/84 [10:31<13:15, 15.91s/it]\u001b[A"
     ]
    },
    {
     "name": "stdout",
     "output_type": "stream",
     "text": [
      "Image 34 completed with state: COMPLETED\n"
     ]
    },
    {
     "name": "stderr",
     "output_type": "stream",
     "text": [
      "\n",
      "Exporting All Images:  42%|████▏     | 35/84 [10:31<09:17, 11.37s/it]\u001b[A"
     ]
    },
    {
     "name": "stdout",
     "output_type": "stream",
     "text": [
      "Image 35 Failed:  Collection.first: Error in map(ID=LC08_193029_20230502):\n",
      "Number.subtract: Parameter 'left' is required.\n"
     ]
    },
    {
     "name": "stderr",
     "output_type": "stream",
     "text": [
      "\n",
      "Exporting All Images:  43%|████▎     | 36/84 [10:32<06:38,  8.30s/it]\u001b[A"
     ]
    },
    {
     "name": "stdout",
     "output_type": "stream",
     "text": [
      "Image 36 Failed:  Collection.first: Error in map(ID=LC08_193029_20230518):\n",
      "Image.constant: Parameter 'value' is required.\n",
      "Polling for image (id: VNIHTANG4HYTL43E7HUTGYQP).\n",
      "Polling for image (id: VNIHTANG4HYTL43E7HUTGYQP).\n"
     ]
    },
    {
     "name": "stderr",
     "output_type": "stream",
     "text": [
      "\n",
      "Exporting All Images:  44%|████▍     | 37/84 [10:58<10:36, 13.53s/it]\u001b[A"
     ]
    },
    {
     "name": "stdout",
     "output_type": "stream",
     "text": [
      "Image 37 completed with state: COMPLETED\n",
      "Polling for image (id: IWR3BEKEEFN4A4C7TI2ZAUSU).\n",
      "Polling for image (id: IWR3BEKEEFN4A4C7TI2ZAUSU).\n"
     ]
    },
    {
     "name": "stderr",
     "output_type": "stream",
     "text": [
      "\n",
      "Exporting All Images:  45%|████▌     | 38/84 [11:23<12:57, 16.91s/it]\u001b[A"
     ]
    },
    {
     "name": "stdout",
     "output_type": "stream",
     "text": [
      "Image 38 completed with state: COMPLETED\n",
      "Polling for image (id: JRCTNGLMDDEZ2DAMEEBMGIND).\n",
      "Polling for image (id: JRCTNGLMDDEZ2DAMEEBMGIND).\n"
     ]
    },
    {
     "name": "stderr",
     "output_type": "stream",
     "text": [
      "\n",
      "Exporting All Images:  46%|████▋     | 39/84 [11:47<14:21, 19.15s/it]\u001b[A"
     ]
    },
    {
     "name": "stdout",
     "output_type": "stream",
     "text": [
      "Image 39 completed with state: COMPLETED\n",
      "Polling for image (id: LEXKZ3MMYFBWHJ64CUWF6VJF).\n",
      "Polling for image (id: LEXKZ3MMYFBWHJ64CUWF6VJF).\n"
     ]
    },
    {
     "name": "stderr",
     "output_type": "stream",
     "text": [
      "\n",
      "Exporting All Images:  48%|████▊     | 40/84 [12:13<15:26, 21.05s/it]\u001b[A"
     ]
    },
    {
     "name": "stdout",
     "output_type": "stream",
     "text": [
      "Image 40 completed with state: COMPLETED\n",
      "Polling for image (id: A6UJGB7SIIARW77HNMERA3TM).\n",
      "Polling for image (id: A6UJGB7SIIARW77HNMERA3TM).\n"
     ]
    },
    {
     "name": "stderr",
     "output_type": "stream",
     "text": [
      "\n",
      "Exporting All Images:  49%|████▉     | 41/84 [12:39<16:08, 22.51s/it]\u001b[A"
     ]
    },
    {
     "name": "stdout",
     "output_type": "stream",
     "text": [
      "Image 41 completed with state: COMPLETED\n",
      "Polling for image (id: TRH3MALQ4TT2VRJQEKPEYTUG).\n",
      "Polling for image (id: TRH3MALQ4TT2VRJQEKPEYTUG).\n"
     ]
    },
    {
     "name": "stderr",
     "output_type": "stream",
     "text": [
      "\n",
      "Exporting All Images:  50%|█████     | 42/84 [13:02<15:55, 22.75s/it]\u001b[A"
     ]
    },
    {
     "name": "stdout",
     "output_type": "stream",
     "text": [
      "Image 42 completed with state: COMPLETED\n",
      "Polling for image (id: TAAHKZDDOFWOYHRO7IAWU6RF).\n",
      "Polling for image (id: TAAHKZDDOFWOYHRO7IAWU6RF).\n"
     ]
    },
    {
     "name": "stderr",
     "output_type": "stream",
     "text": [
      "\n",
      "Exporting All Images:  51%|█████     | 43/84 [13:25<15:39, 22.91s/it]\u001b[A"
     ]
    },
    {
     "name": "stdout",
     "output_type": "stream",
     "text": [
      "Image 43 completed with state: COMPLETED\n",
      "Polling for image (id: 2GUAE2QFOK5YE3AGBDGNJOLP).\n"
     ]
    },
    {
     "name": "stderr",
     "output_type": "stream",
     "text": [
      "\n",
      "Exporting All Images:  52%|█████▏    | 44/84 [13:38<13:14, 19.87s/it]\u001b[A"
     ]
    },
    {
     "name": "stdout",
     "output_type": "stream",
     "text": [
      "Image 44 completed with state: COMPLETED\n",
      "Polling for image (id: WBRCQA2IH7D3XVLTQZSFZYLM).\n",
      "Polling for image (id: WBRCQA2IH7D3XVLTQZSFZYLM).\n"
     ]
    },
    {
     "name": "stderr",
     "output_type": "stream",
     "text": [
      "\n",
      "Exporting All Images:  54%|█████▎    | 45/84 [14:01<13:34, 20.89s/it]\u001b[A"
     ]
    },
    {
     "name": "stdout",
     "output_type": "stream",
     "text": [
      "Image 45 completed with state: COMPLETED\n",
      "Polling for image (id: CPQOANIGLOR7BPZJILE3F56C).\n",
      "Polling for image (id: CPQOANIGLOR7BPZJILE3F56C).\n"
     ]
    },
    {
     "name": "stderr",
     "output_type": "stream",
     "text": [
      "\n",
      "Exporting All Images:  55%|█████▍    | 46/84 [14:25<13:38, 21.55s/it]\u001b[A"
     ]
    },
    {
     "name": "stdout",
     "output_type": "stream",
     "text": [
      "Image 46 completed with state: COMPLETED\n",
      "Polling for image (id: FVII5WBIOAEIJXTF23RONRKB).\n",
      "Polling for image (id: FVII5WBIOAEIJXTF23RONRKB).\n"
     ]
    },
    {
     "name": "stderr",
     "output_type": "stream",
     "text": [
      "\n",
      "Exporting All Images:  56%|█████▌    | 47/84 [14:48<13:37, 22.11s/it]\u001b[A"
     ]
    },
    {
     "name": "stdout",
     "output_type": "stream",
     "text": [
      "Image 47 completed with state: COMPLETED\n"
     ]
    },
    {
     "name": "stderr",
     "output_type": "stream",
     "text": [
      "\n",
      "Exporting All Images:  57%|█████▋    | 48/84 [14:49<09:24, 15.68s/it]\u001b[A"
     ]
    },
    {
     "name": "stdout",
     "output_type": "stream",
     "text": [
      "Image 48 Failed:  Collection.first: Error in map(ID=LC08_193029_20231212):\n",
      "Number.subtract: Parameter 'left' is required.\n"
     ]
    },
    {
     "name": "stderr",
     "output_type": "stream",
     "text": [
      "\n",
      "Exporting All Images:  58%|█████▊    | 49/84 [14:49<06:31, 11.19s/it]\u001b[A"
     ]
    },
    {
     "name": "stdout",
     "output_type": "stream",
     "text": [
      "Image 49 Failed:  Collection.first: Error in map(ID=LC08_193029_20231228):\n",
      "Number.subtract: Parameter 'left' is required.\n",
      "Polling for image (id: XECCPAHZNJ267LEDSJ6CNL76).\n",
      "Polling for image (id: XECCPAHZNJ267LEDSJ6CNL76).\n"
     ]
    },
    {
     "name": "stderr",
     "output_type": "stream",
     "text": [
      "\n",
      "Exporting All Images:  60%|█████▉    | 50/84 [15:17<09:10, 16.20s/it]\u001b[A"
     ]
    },
    {
     "name": "stdout",
     "output_type": "stream",
     "text": [
      "Image 50 completed with state: COMPLETED\n"
     ]
    },
    {
     "name": "stderr",
     "output_type": "stream",
     "text": [
      "\n",
      "Exporting All Images:  61%|██████    | 51/84 [15:19<06:31, 11.86s/it]\u001b[A"
     ]
    },
    {
     "name": "stdout",
     "output_type": "stream",
     "text": [
      "Image 51 Failed:  Collection.first: Error in map(ID=LC08_193029_20240129):\n",
      "Number.subtract: Parameter 'left' is required.\n",
      "Polling for image (id: W2Q3L2EYUA32LKN5DQX7UR4F).\n",
      "Polling for image (id: W2Q3L2EYUA32LKN5DQX7UR4F).\n"
     ]
    },
    {
     "name": "stderr",
     "output_type": "stream",
     "text": [
      "\n",
      "Exporting All Images:  62%|██████▏   | 52/84 [15:44<08:24, 15.75s/it]\u001b[A"
     ]
    },
    {
     "name": "stdout",
     "output_type": "stream",
     "text": [
      "Image 52 completed with state: COMPLETED\n"
     ]
    },
    {
     "name": "stderr",
     "output_type": "stream",
     "text": [
      "\n",
      "Exporting All Images:  63%|██████▎   | 53/84 [15:45<05:51, 11.33s/it]\u001b[A"
     ]
    },
    {
     "name": "stdout",
     "output_type": "stream",
     "text": [
      "Image 53 Failed:  Collection.first: Error in map(ID=LC08_193029_20240317):\n",
      "Image.constant: Parameter 'value' is required.\n",
      "Polling for image (id: EKAIUKOACLADYF26FLLJX5VM).\n",
      "Polling for image (id: EKAIUKOACLADYF26FLLJX5VM).\n"
     ]
    },
    {
     "name": "stderr",
     "output_type": "stream",
     "text": [
      "\n",
      "Exporting All Images:  64%|██████▍   | 54/84 [16:09<07:39, 15.30s/it]\u001b[A"
     ]
    },
    {
     "name": "stdout",
     "output_type": "stream",
     "text": [
      "Image 54 completed with state: COMPLETED\n"
     ]
    },
    {
     "name": "stderr",
     "output_type": "stream",
     "text": [
      "\n",
      "Exporting All Images:  65%|██████▌   | 55/84 [16:10<05:18, 10.98s/it]\u001b[A"
     ]
    },
    {
     "name": "stdout",
     "output_type": "stream",
     "text": [
      "Image 55 Failed:  Collection.first: Error in map(ID=LC08_193029_20240418):\n",
      "Image.constant: Parameter 'value' is required.\n"
     ]
    },
    {
     "name": "stderr",
     "output_type": "stream",
     "text": [
      "\n",
      "Exporting All Images:  67%|██████▋   | 56/84 [16:11<03:42,  7.95s/it]\u001b[A"
     ]
    },
    {
     "name": "stdout",
     "output_type": "stream",
     "text": [
      "Image 56 Failed:  Collection.first: Error in map(ID=LC08_193029_20240504):\n",
      "Number.subtract: Parameter 'left' is required.\n",
      "Polling for image (id: MRG7PWDP4XHEJNRNIOTDTFUU).\n",
      "Polling for image (id: MRG7PWDP4XHEJNRNIOTDTFUU).\n",
      "Polling for image (id: MRG7PWDP4XHEJNRNIOTDTFUU).\n",
      "Polling for image (id: MRG7PWDP4XHEJNRNIOTDTFUU).\n",
      "Polling for image (id: MRG7PWDP4XHEJNRNIOTDTFUU).\n"
     ]
    },
    {
     "name": "stderr",
     "output_type": "stream",
     "text": [
      "\n",
      "Exporting All Images:  68%|██████▊   | 57/84 [17:06<09:58, 22.16s/it]\u001b[A"
     ]
    },
    {
     "name": "stdout",
     "output_type": "stream",
     "text": [
      "Image 57 completed with state: COMPLETED\n",
      "Polling for image (id: 77YEKDEUZ3GCIFY4ZHDDX5CQ).\n",
      "Polling for image (id: 77YEKDEUZ3GCIFY4ZHDDX5CQ).\n"
     ]
    },
    {
     "name": "stderr",
     "output_type": "stream",
     "text": [
      "\n",
      "Exporting All Images:  69%|██████▉   | 58/84 [17:31<09:54, 22.86s/it]\u001b[A"
     ]
    },
    {
     "name": "stdout",
     "output_type": "stream",
     "text": [
      "Image 58 completed with state: COMPLETED\n",
      "Polling for image (id: DH5MUAINJL5M4MI67DB3OA7V).\n",
      "Polling for image (id: DH5MUAINJL5M4MI67DB3OA7V).\n"
     ]
    },
    {
     "name": "stderr",
     "output_type": "stream",
     "text": [
      "\n",
      "Exporting All Images:  70%|███████   | 59/84 [17:55<09:43, 23.32s/it]\u001b[A"
     ]
    },
    {
     "name": "stdout",
     "output_type": "stream",
     "text": [
      "Image 59 completed with state: COMPLETED\n",
      "Polling for image (id: XFGHC674FBNAJPWPXVLDZGOJ).\n",
      "Polling for image (id: XFGHC674FBNAJPWPXVLDZGOJ).\n"
     ]
    },
    {
     "name": "stderr",
     "output_type": "stream",
     "text": [
      "\n",
      "Exporting All Images:  71%|███████▏  | 60/84 [18:19<09:24, 23.50s/it]\u001b[A"
     ]
    },
    {
     "name": "stdout",
     "output_type": "stream",
     "text": [
      "Image 60 completed with state: COMPLETED\n",
      "Polling for image (id: WKB2ZDYRYGIK7GOKETAUGQ6Z).\n",
      "Polling for image (id: WKB2ZDYRYGIK7GOKETAUGQ6Z).\n"
     ]
    },
    {
     "name": "stderr",
     "output_type": "stream",
     "text": [
      "\n",
      "Exporting All Images:  73%|███████▎  | 61/84 [18:43<09:05, 23.71s/it]\u001b[A"
     ]
    },
    {
     "name": "stdout",
     "output_type": "stream",
     "text": [
      "Image 61 completed with state: COMPLETED\n"
     ]
    },
    {
     "name": "stderr",
     "output_type": "stream",
     "text": [
      "\n",
      "Exporting All Images:  74%|███████▍  | 62/84 [18:44<06:10, 16.83s/it]\u001b[A"
     ]
    },
    {
     "name": "stdout",
     "output_type": "stream",
     "text": [
      "Image 62 Failed:  Collection.first: Error in map(ID=LC08_194028_20230407):\n",
      "Number.subtract: Parameter 'left' is required.\n",
      "Polling for image (id: 5SS4ZYVB45FVM2NVI54AXGJL).\n",
      "Polling for image (id: 5SS4ZYVB45FVM2NVI54AXGJL).\n"
     ]
    },
    {
     "name": "stderr",
     "output_type": "stream",
     "text": [
      "\n",
      "Exporting All Images:  75%|███████▌  | 63/84 [19:08<06:36, 18.87s/it]\u001b[A"
     ]
    },
    {
     "name": "stdout",
     "output_type": "stream",
     "text": [
      "Image 63 completed with state: COMPLETED\n",
      "Polling for image (id: WBH7PQOE4PAN2M4SWIE6K25I).\n",
      "Polling for image (id: WBH7PQOE4PAN2M4SWIE6K25I).\n"
     ]
    },
    {
     "name": "stderr",
     "output_type": "stream",
     "text": [
      "\n",
      "Exporting All Images:  76%|███████▌  | 64/84 [19:32<06:46, 20.35s/it]\u001b[A"
     ]
    },
    {
     "name": "stdout",
     "output_type": "stream",
     "text": [
      "Image 64 completed with state: COMPLETED\n"
     ]
    },
    {
     "name": "stderr",
     "output_type": "stream",
     "text": [
      "\n",
      "Exporting All Images:  77%|███████▋  | 65/84 [19:33<04:35, 14.51s/it]\u001b[A"
     ]
    },
    {
     "name": "stdout",
     "output_type": "stream",
     "text": [
      "Image 65 Failed:  Collection.first: Error in map(ID=LC08_194028_20230610):\n",
      "Number.subtract: Parameter 'left' is required.\n",
      "Polling for image (id: IDG2Z4NHRC2LVNNDTV5ERHH7).\n",
      "Polling for image (id: IDG2Z4NHRC2LVNNDTV5ERHH7).\n"
     ]
    },
    {
     "name": "stderr",
     "output_type": "stream",
     "text": [
      "\n",
      "Exporting All Images:  79%|███████▊  | 66/84 [19:56<05:10, 17.25s/it]\u001b[A"
     ]
    },
    {
     "name": "stdout",
     "output_type": "stream",
     "text": [
      "Image 66 completed with state: COMPLETED\n",
      "Polling for image (id: FHQLELXWGMESLZ2JUY2ET6TE).\n",
      "Polling for image (id: FHQLELXWGMESLZ2JUY2ET6TE).\n"
     ]
    },
    {
     "name": "stderr",
     "output_type": "stream",
     "text": [
      "\n",
      "Exporting All Images:  80%|███████▉  | 67/84 [20:20<05:25, 19.16s/it]\u001b[A"
     ]
    },
    {
     "name": "stdout",
     "output_type": "stream",
     "text": [
      "Image 67 completed with state: COMPLETED\n",
      "Polling for image (id: QXTCBHT35I3KAII2KN2IYLY6).\n",
      "Polling for image (id: QXTCBHT35I3KAII2KN2IYLY6).\n"
     ]
    },
    {
     "name": "stderr",
     "output_type": "stream",
     "text": [
      "\n",
      "Exporting All Images:  81%|████████  | 68/84 [20:43<05:28, 20.50s/it]\u001b[A"
     ]
    },
    {
     "name": "stdout",
     "output_type": "stream",
     "text": [
      "Image 68 completed with state: COMPLETED\n",
      "Polling for image (id: IAASOQNJVJWWGBABZPAHQBYD).\n",
      "Polling for image (id: IAASOQNJVJWWGBABZPAHQBYD).\n"
     ]
    },
    {
     "name": "stderr",
     "output_type": "stream",
     "text": [
      "\n",
      "Exporting All Images:  82%|████████▏ | 69/84 [21:07<05:21, 21.46s/it]\u001b[A"
     ]
    },
    {
     "name": "stdout",
     "output_type": "stream",
     "text": [
      "Image 69 completed with state: COMPLETED\n"
     ]
    },
    {
     "name": "stderr",
     "output_type": "stream",
     "text": [
      "\n",
      "Exporting All Images:  83%|████████▎ | 70/84 [21:08<03:33, 15.28s/it]\u001b[A"
     ]
    },
    {
     "name": "stdout",
     "output_type": "stream",
     "text": [
      "Image 70 Failed:  Collection.first: Error in map(ID=LC08_194028_20230829):\n",
      "Image.constant: Parameter 'value' is required.\n",
      "Polling for image (id: NDRYFMXNXHMAIBDJWBVXQ4YC).\n",
      "Polling for image (id: NDRYFMXNXHMAIBDJWBVXQ4YC).\n"
     ]
    },
    {
     "name": "stderr",
     "output_type": "stream",
     "text": [
      "\n",
      "Exporting All Images:  85%|████████▍ | 71/84 [21:32<03:51, 17.80s/it]\u001b[A"
     ]
    },
    {
     "name": "stdout",
     "output_type": "stream",
     "text": [
      "Image 71 completed with state: COMPLETED\n",
      "Polling for image (id: H7FDTCTLQTZJ5GFMTK4UD4RE).\n",
      "Polling for image (id: H7FDTCTLQTZJ5GFMTK4UD4RE).\n"
     ]
    },
    {
     "name": "stderr",
     "output_type": "stream",
     "text": [
      "\n",
      "Exporting All Images:  86%|████████▌ | 72/84 [21:55<03:55, 19.59s/it]\u001b[A"
     ]
    },
    {
     "name": "stdout",
     "output_type": "stream",
     "text": [
      "Image 72 completed with state: COMPLETED\n"
     ]
    },
    {
     "name": "stderr",
     "output_type": "stream",
     "text": [
      "\n",
      "Exporting All Images:  87%|████████▋ | 73/84 [21:56<02:33, 13.94s/it]\u001b[A"
     ]
    },
    {
     "name": "stdout",
     "output_type": "stream",
     "text": [
      "Image 73 Failed:  Collection.first: Error in map(ID=LC08_194028_20231016):\n",
      "Number.subtract: Parameter 'left' is required.\n",
      "Polling for image (id: 6RUDFZMCHQF4N7ROO2Y533QI).\n",
      "Polling for image (id: 6RUDFZMCHQF4N7ROO2Y533QI).\n"
     ]
    },
    {
     "name": "stderr",
     "output_type": "stream",
     "text": [
      "\n",
      "Exporting All Images:  88%|████████▊ | 74/84 [22:20<02:48, 16.84s/it]\u001b[A"
     ]
    },
    {
     "name": "stdout",
     "output_type": "stream",
     "text": [
      "Image 74 completed with state: COMPLETED\n",
      "Polling for image (id: HCEEUJBEBUV5HK2MFUFHMZHE).\n",
      "Polling for image (id: HCEEUJBEBUV5HK2MFUFHMZHE).\n"
     ]
    },
    {
     "name": "stderr",
     "output_type": "stream",
     "text": [
      "\n",
      "Exporting All Images:  89%|████████▉ | 75/84 [22:44<02:50, 18.94s/it]\u001b[A"
     ]
    },
    {
     "name": "stdout",
     "output_type": "stream",
     "text": [
      "Image 75 completed with state: COMPLETED\n",
      "Polling for image (id: 6QDUKQN75QTB5PAIN5FRBESM).\n",
      "Polling for image (id: 6QDUKQN75QTB5PAIN5FRBESM).\n"
     ]
    },
    {
     "name": "stderr",
     "output_type": "stream",
     "text": [
      "\n",
      "Exporting All Images:  90%|█████████ | 76/84 [23:07<02:43, 20.41s/it]\u001b[A"
     ]
    },
    {
     "name": "stdout",
     "output_type": "stream",
     "text": [
      "Image 76 completed with state: COMPLETED\n",
      "Polling for image (id: SFAQXN3SF7SAZIJ22U4OPIJU).\n",
      "Polling for image (id: SFAQXN3SF7SAZIJ22U4OPIJU).\n"
     ]
    },
    {
     "name": "stderr",
     "output_type": "stream",
     "text": [
      "\n",
      "Exporting All Images:  92%|█████████▏| 77/84 [23:32<02:31, 21.61s/it]\u001b[A"
     ]
    },
    {
     "name": "stdout",
     "output_type": "stream",
     "text": [
      "Image 77 completed with state: COMPLETED\n",
      "Polling for image (id: XPIKIGIVQJDWN5UV2BEYLZYZ).\n",
      "Polling for image (id: XPIKIGIVQJDWN5UV2BEYLZYZ).\n"
     ]
    },
    {
     "name": "stderr",
     "output_type": "stream",
     "text": [
      "\n",
      "Exporting All Images:  93%|█████████▎| 78/84 [23:56<02:13, 22.31s/it]\u001b[A"
     ]
    },
    {
     "name": "stdout",
     "output_type": "stream",
     "text": [
      "Image 78 completed with state: COMPLETED\n",
      "Polling for image (id: OG5FSM5EAJTIQVR33S4XKL2J).\n",
      "Polling for image (id: OG5FSM5EAJTIQVR33S4XKL2J).\n"
     ]
    },
    {
     "name": "stderr",
     "output_type": "stream",
     "text": [
      "\n",
      "Exporting All Images:  94%|█████████▍| 79/84 [24:20<01:53, 22.79s/it]\u001b[A"
     ]
    },
    {
     "name": "stdout",
     "output_type": "stream",
     "text": [
      "Image 79 completed with state: COMPLETED\n",
      "Polling for image (id: 6ICCHG3IIXIAW7I3WLSTO3KF).\n",
      "Polling for image (id: 6ICCHG3IIXIAW7I3WLSTO3KF).\n"
     ]
    },
    {
     "name": "stderr",
     "output_type": "stream",
     "text": [
      "\n",
      "Exporting All Images:  95%|█████████▌| 80/84 [24:43<01:32, 23.07s/it]\u001b[A"
     ]
    },
    {
     "name": "stdout",
     "output_type": "stream",
     "text": [
      "Image 80 completed with state: COMPLETED\n",
      "Polling for image (id: NP3BJ6GU4MFRFVLFLP2WPWFN).\n",
      "Polling for image (id: NP3BJ6GU4MFRFVLFLP2WPWFN).\n"
     ]
    },
    {
     "name": "stderr",
     "output_type": "stream",
     "text": [
      "\n",
      "Exporting All Images:  96%|█████████▋| 81/84 [25:07<01:09, 23.21s/it]\u001b[A"
     ]
    },
    {
     "name": "stdout",
     "output_type": "stream",
     "text": [
      "Image 81 completed with state: COMPLETED\n",
      "Polling for image (id: C3GT3F4D6XP7AUCXV3FGSJT4).\n",
      "Polling for image (id: C3GT3F4D6XP7AUCXV3FGSJT4).\n"
     ]
    },
    {
     "name": "stderr",
     "output_type": "stream",
     "text": [
      "\n",
      "Exporting All Images:  98%|█████████▊| 82/84 [25:31<00:46, 23.40s/it]\u001b[A"
     ]
    },
    {
     "name": "stdout",
     "output_type": "stream",
     "text": [
      "Image 82 completed with state: COMPLETED\n",
      "Polling for image (id: IM3RXI2HPJZKK26EU4BJMTKZ).\n",
      "Polling for image (id: IM3RXI2HPJZKK26EU4BJMTKZ).\n"
     ]
    },
    {
     "name": "stderr",
     "output_type": "stream",
     "text": [
      "\n",
      "Exporting All Images:  99%|█████████▉| 83/84 [25:55<00:23, 23.54s/it]\u001b[A"
     ]
    },
    {
     "name": "stdout",
     "output_type": "stream",
     "text": [
      "Image 83 completed with state: COMPLETED\n",
      "Polling for image (id: LGIHDL7REUA2ZACLM7KG4ZUT).\n",
      "Polling for image (id: LGIHDL7REUA2ZACLM7KG4ZUT).\n"
     ]
    },
    {
     "name": "stderr",
     "output_type": "stream",
     "text": [
      "\n",
      "Exporting All Images: 100%|██████████| 84/84 [26:19<00:00, 18.80s/it]\u001b[A\n",
      "100%|██████████| 2/2 [51:44<00:00, 1552.16s/it]"
     ]
    },
    {
     "name": "stdout",
     "output_type": "stream",
     "text": [
      "Image 84 completed with state: COMPLETED\n",
      "##################################################\n",
      "All images for Zone 9 have been processed and initiated for download.\n",
      "Number of skipped images: 44\n",
      "Failed image IDs: ['LC08_193028_20230227', 'LC08_193028_20230502', 'LC08_193028_20230518', 'LC08_193028_20230721', 'LC08_193028_20231228', 'LC08_193028_20240317', 'LC08_193028_20240504', 'LC08_193029_20230211', 'LC08_193029_20230227', 'LC08_193029_20230331', 'LC08_193029_20230502', 'LC08_193029_20230518', 'LC08_193029_20230923', 'LC08_193029_20231212', 'LC08_193029_20231228', 'LC08_193029_20240129', 'LC08_193029_20240317', 'LC08_193029_20240418', 'LC08_193029_20240504', 'LC08_194028_20230407', 'LC08_194028_20230610', 'LC08_194028_20230829', 'LC08_194028_20231016', 'LC08_193028_20230227', 'LC08_193028_20230502', 'LC08_193028_20230518', 'LC08_193028_20230721', 'LC08_193028_20231228', 'LC08_193028_20240317', 'LC08_193028_20240504', 'LC08_193029_20230227', 'LC08_193029_20230331', 'LC08_193029_20230502', 'LC08_193029_20230518', 'LC08_193029_20231212', 'LC08_193029_20231228', 'LC08_193029_20240129', 'LC08_193029_20240317', 'LC08_193029_20240418', 'LC08_193029_20240504', 'LC08_194028_20230407', 'LC08_194028_20230610', 'LC08_194028_20230829', 'LC08_194028_20231016']\n",
      "##################################################\n"
     ]
    },
    {
     "name": "stderr",
     "output_type": "stream",
     "text": [
      "\n"
     ]
    }
   ],
   "source": [
    "from tqdm import tqdm\n",
    "\n",
    "skipped_images = 0\n",
    "failed_images = []\n",
    "\n",
    "for zone in tqdm(ZONES):\n",
    "    print(f\"Processing and exporting data for Zone {zone}\")\n",
    "    shapefile_path = f\"/vsizip/../shape_files/zone_{zone}.zip/layers/POLYGON.shp\"\n",
    "    gdf = gpd.read_file(shapefile_path)\n",
    "    roi = geemap.gdf_to_ee(gdf)\n",
    "\n",
    "    LANDSAT_ROI = LANDSAT.filter(ee.Filter.date(START_DATE, END_DATE)) \\\n",
    "        .filter(ee.Filter.bounds(roi.geometry())) \\\n",
    "        .map(apply_scale_factors) \\\n",
    "        .map(mask_landsat_clouds)\n",
    "\n",
    "    \n",
    "    def process_image(image):\n",
    "        NDVI = image.normalizedDifference([\"SR_B5\", \"SR_B4\"]).rename(\"NDVI\").toDouble()\n",
    "        \n",
    "        NDVI_MIN = ee.Number(NDVI.reduceRegion(reducer=ee.Reducer.min(), geometry=roi.geometry(), scale=SCALE, maxPixels=MAXPIXELS).get('NDVI', 0))\n",
    "        NDVI_MAX = ee.Number(NDVI.reduceRegion(reducer=ee.Reducer.max(), geometry=roi.geometry(), scale=SCALE, maxPixels=MAXPIXELS).get('NDVI', 0))\n",
    "    \n",
    "        FV = NDVI.subtract(NDVI_MIN).divide(NDVI_MAX.subtract(NDVI_MIN)).pow(ee.Number(2)).rename(\"FV\").toDouble()\n",
    "        EM = FV.multiply(ee.Number(0.004)).add(ee.Number(0.986)).rename(\"EM\").toDouble()\n",
    "        THERMAL = image.select(\"ST_B10\").rename(\"THERMAL\").toDouble()\n",
    "        LST = THERMAL.expression(\"(tb / (1 + (0.00115 * (tb / 0.48359547432)) * log(em))) - 273.15\", \\\n",
    "                {\"tb\": THERMAL.select(\"THERMAL\"), \"em\": EM}).rename(\"LST\").toDouble()\n",
    "        \n",
    "        return image.addBands([NDVI, FV, EM, THERMAL, LST])\n",
    "        \n",
    "\n",
    "    processed_collection = LANDSAT_ROI.map(process_image)\n",
    "\n",
    "    print(f\"EXPORTING ALL IMAGES FOR Zone {zone}\")\n",
    "    image_ids = processed_collection.aggregate_array(\"system:index\").getInfo()\n",
    "    print(\"Total Images: \", len(image_ids))\n",
    "\n",
    "    for i, image_id in enumerate(tqdm(image_ids, desc=\"Exporting All Images\")):\n",
    "        try:\n",
    "            image = ee.Image(processed_collection.filter(ee.Filter.eq(\"system:index\", image_id)).first())\n",
    "            task = ee.batch.Export.image.toDrive(\n",
    "                image=image.select([\"NDVI\", \"FV\", \"EM\", \"THERMAL\", \"LST\"]),\n",
    "                description=\"Image Export {}\".format(i + 1),\n",
    "                fileNamePrefix=f\"zone{zone}_NDVI_ST_B10_{image.id().getInfo()}\",\n",
    "                folder=\"NDVI_LST_UHI_UTFVI_ALL_IMAGES_30m\",\n",
    "                scale=SCALE,\n",
    "                region=roi.geometry().getInfo()[\"coordinates\"],\n",
    "                maxPixels=MAXPIXELS,\n",
    "            )\n",
    "            task.start()\n",
    "\n",
    "            while task.active():\n",
    "                print(\"Polling for image (id: {}).\".format(task.id))\n",
    "                time.sleep(10)  # Poll every 10 seconds\n",
    "\n",
    "            status = task.status()\n",
    "            if status['state'] != 'COMPLETED':\n",
    "                raise Exception(\"Image failed to export\")\n",
    "            else:\n",
    "                print(f\"Image {i + 1} completed with state: {status['state']}\")\n",
    "\n",
    "        except Exception as e:\n",
    "            print(f\"Image {i + 1} Failed: \", str(e))\n",
    "            skipped_images += 1\n",
    "            failed_images.append(image_id)\n",
    "\n",
    "    print(\"#\" * 50)\n",
    "    print(f\"All images for Zone {zone} have been processed and initiated for download.\")\n",
    "    print(f\"Number of skipped images: {skipped_images}\")\n",
    "    print(\"Failed image IDs:\", failed_images)\n",
    "    print(\"#\" * 50)"
   ]
  },
  {
   "cell_type": "markdown",
   "metadata": {},
   "source": [
    "### DOWNLOAD IMAGES (ONLY NDVI, ST_B10 BANDS ONLY)"
   ]
  },
  {
   "cell_type": "code",
   "execution_count": null,
   "metadata": {},
   "outputs": [],
   "source": [
    "# for zone in tqdm(ZONES):\n",
    "#     print(f\"Processing and exporting data for Zone {zone}\")\n",
    "#     shapefile_path = f\"/vsizip/../shape_files/zone_{zone}.zip/layers/POLYGON.shp\"\n",
    "#     gdf = gpd.read_file(shapefile_path)\n",
    "#     roi = geemap.gdf_to_ee(gdf)\n",
    "\n",
    "#     LANDSAT_ROI = LANDSAT.filter(ee.Filter.date(START_DATE, END_DATE)) \\\n",
    "#         .filter(ee.Filter.bounds(roi.geometry())) \\\n",
    "#         .map(apply_scale_factors) \\\n",
    "#         .map(mask_landsat_clouds)\n",
    "\n",
    "#     def process_image(image):\n",
    "#         NDVI = image.normalizedDifference([\"SR_B5\", \"SR_B4\"]).rename(\"NDVI\").toDouble()\n",
    "#         return image.addBands(NDVI)\n",
    "\n",
    "#     # Map the function over the collection\n",
    "#     processed_collection = LANDSAT_ROI.map(process_image)\n",
    "\n",
    "#     # Now exporting each image\n",
    "#     print(f\"EXPORTING ALL IMAGES FOR Zone {zone}\")\n",
    "#     image_ids = processed_collection.aggregate_array(\"system:index\").getInfo()\n",
    "#     print(\"Total Images: \", len(image_ids))\n",
    "#     # print(f\"Collection: {image_ids}\")\n",
    "\n",
    "#     for i, image_id in enumerate(tqdm(image_ids, desc=\"Exporting All Images\")):\n",
    "#         image = ee.Image(processed_collection.filter(ee.Filter.eq(\"system:index\", image_id)).first())\n",
    "#         task = ee.batch.Export.image.toDrive(\n",
    "#         **{\n",
    "#             \"image\": image.select([\"NDVI\", \"ST_B10\"]),\n",
    "#             \"description\": \"Image Export {}\".format(i + 1),\n",
    "#             \"fileNamePrefix\": f\"zone{zone}_NDVI_ST_B10_{image.id().getInfo()}\",\n",
    "#             \"folder\": \"NDVI_ST_B10_ALL_IMAGES_30m\",\n",
    "#             \"scale\": SCALE,\n",
    "#             \"region\": roi.geometry().getInfo()[\"coordinates\"],  # Use ROI geometry\n",
    "#             # \"region\": image.geometry().bounds().getInfo()[\"coordinates\"],\n",
    "#             \"maxPixels\": MAXPIXELS,\n",
    "#         })\n",
    "#         task.start()\n",
    "\n",
    "#         # Wait for the task to complete (simplified monitoring)\n",
    "#         while task.active():\n",
    "#             print(\"Polling for image (id: {}).\".format(task.id))\n",
    "#             time.sleep(10)  # Poll every 10 seconds\n",
    "\n",
    "#         status = task.status()\n",
    "#         print(\"#\" * 50)\n",
    "#         print(status)\n",
    "#         if \"error_message\" in status:\n",
    "#             print(f\"Image {i} Failed: \", status[\"error_message\"])\n",
    "#         else:\n",
    "#             print(f\"Image {i + 1} completed with state: {status['state']}\")\n",
    "#         print(\"#\" * 50)\n",
    "\n",
    "#     print(f\"All images for Zone {zone} have been processed and initiated for download.\")"
   ]
  }
 ],
 "metadata": {
  "kernelspec": {
   "display_name": "ipaua",
   "language": "python",
   "name": "ipaua"
  },
  "language_info": {
   "codemirror_mode": {
    "name": "ipython",
    "version": 3
   },
   "file_extension": ".py",
   "mimetype": "text/x-python",
   "name": "python",
   "nbconvert_exporter": "python",
   "pygments_lexer": "ipython3",
   "version": "3.9.18"
  }
 },
 "nbformat": 4,
 "nbformat_minor": 4
}
