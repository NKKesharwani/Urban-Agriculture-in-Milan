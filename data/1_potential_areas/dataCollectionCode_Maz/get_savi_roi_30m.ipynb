{
 "cells": [
  {
   "cell_type": "markdown",
   "metadata": {},
   "source": [
    "### GET Soil Adjusted Vegetation Index (SAVI)"
   ]
  },
  {
   "cell_type": "markdown",
   "metadata": {},
   "source": [
    "Dataset Used: https://developers.google.com/earth-engine/datasets/catalog/LANDSAT_LC09_C02_T1_TOA#description"
   ]
  },
  {
   "cell_type": "markdown",
   "metadata": {},
   "source": [
    "### IMPORTS"
   ]
  },
  {
   "cell_type": "code",
   "execution_count": 1,
   "metadata": {},
   "outputs": [],
   "source": [
    "import time\n",
    "from typing import Any\n",
    "\n",
    "import ee\n",
    "import geemap\n",
    "import geopandas as gpd\n",
    "import pandas as pd\n",
    "from tqdm import tqdm"
   ]
  },
  {
   "cell_type": "markdown",
   "metadata": {},
   "source": [
    "### AUTHENTICATE AND INITIALIZE"
   ]
  },
  {
   "cell_type": "code",
   "execution_count": 2,
   "metadata": {},
   "outputs": [
    {
     "data": {
      "text/html": [
       "\n",
       "            <style>\n",
       "                .geemap-dark {\n",
       "                    --jp-widgets-color: white;\n",
       "                    --jp-widgets-label-color: white;\n",
       "                    --jp-ui-font-color1: white;\n",
       "                    --jp-layout-color2: #454545;\n",
       "                    background-color: #383838;\n",
       "                }\n",
       "\n",
       "                .geemap-dark .jupyter-button {\n",
       "                    --jp-layout-color3: #383838;\n",
       "                }\n",
       "\n",
       "                .geemap-colab {\n",
       "                    background-color: var(--colab-primary-surface-color, white);\n",
       "                }\n",
       "\n",
       "                .geemap-colab .jupyter-button {\n",
       "                    --jp-layout-color3: var(--colab-primary-surface-color, white);\n",
       "                }\n",
       "            </style>\n",
       "            "
      ],
      "text/plain": [
       "<IPython.core.display.HTML object>"
      ]
     },
     "metadata": {},
     "output_type": "display_data"
    }
   ],
   "source": [
    "# Authenticate to the Earth Engine servers\n",
    "ee.Authenticate()\n",
    "\n",
    "# Initialize the Earth Engine module.\n",
    "ee.Initialize()"
   ]
  },
  {
   "cell_type": "markdown",
   "metadata": {},
   "source": [
    "### VARIABLES"
   ]
  },
  {
   "cell_type": "code",
   "execution_count": 3,
   "metadata": {},
   "outputs": [
    {
     "data": {
      "text/html": [
       "\n",
       "            <style>\n",
       "                .geemap-dark {\n",
       "                    --jp-widgets-color: white;\n",
       "                    --jp-widgets-label-color: white;\n",
       "                    --jp-ui-font-color1: white;\n",
       "                    --jp-layout-color2: #454545;\n",
       "                    background-color: #383838;\n",
       "                }\n",
       "\n",
       "                .geemap-dark .jupyter-button {\n",
       "                    --jp-layout-color3: #383838;\n",
       "                }\n",
       "\n",
       "                .geemap-colab {\n",
       "                    background-color: var(--colab-primary-surface-color, white);\n",
       "                }\n",
       "\n",
       "                .geemap-colab .jupyter-button {\n",
       "                    --jp-layout-color3: var(--colab-primary-surface-color, white);\n",
       "                }\n",
       "            </style>\n",
       "            "
      ],
      "text/plain": [
       "<IPython.core.display.HTML object>"
      ]
     },
     "metadata": {},
     "output_type": "display_data"
    }
   ],
   "source": [
    "DATASET_NAME: str = \"LANDSAT/LC09/C02/T1_TOA\"\n",
    "START_DATE: str = \"2023-01-01\"\n",
    "END_DATE: str = \"2024-01-01\"\n",
    "SCALE: int = 30\n",
    "# ZONES: range = range(2, 10)\n",
    "ZONES = [4, 9]\n",
    "MAXPIXELS = 1e10"
   ]
  },
  {
   "cell_type": "markdown",
   "metadata": {},
   "source": [
    "### FUNCTIONS"
   ]
  },
  {
   "cell_type": "code",
   "execution_count": 4,
   "metadata": {},
   "outputs": [
    {
     "data": {
      "text/html": [
       "\n",
       "            <style>\n",
       "                .geemap-dark {\n",
       "                    --jp-widgets-color: white;\n",
       "                    --jp-widgets-label-color: white;\n",
       "                    --jp-ui-font-color1: white;\n",
       "                    --jp-layout-color2: #454545;\n",
       "                    background-color: #383838;\n",
       "                }\n",
       "\n",
       "                .geemap-dark .jupyter-button {\n",
       "                    --jp-layout-color3: #383838;\n",
       "                }\n",
       "\n",
       "                .geemap-colab {\n",
       "                    background-color: var(--colab-primary-surface-color, white);\n",
       "                }\n",
       "\n",
       "                .geemap-colab .jupyter-button {\n",
       "                    --jp-layout-color3: var(--colab-primary-surface-color, white);\n",
       "                }\n",
       "            </style>\n",
       "            "
      ],
      "text/plain": [
       "<IPython.core.display.HTML object>"
      ]
     },
     "metadata": {},
     "output_type": "display_data"
    }
   ],
   "source": [
    "def cal_savi(image):\n",
    "    savi = image.expression(\n",
    "        '((NIR - RED) / (NIR + RED + L)) * (1 + L)',\n",
    "        {\n",
    "            'NIR': image.select('B5'),\n",
    "            'RED': image.select('B4'),\n",
    "            'L': 0.5  # Soil Brightness Adjustment Factor\n",
    "        }\n",
    "    ).rename('SAVI').copyProperties(image, ['system:time_start'])\n",
    "    return savi"
   ]
  },
  {
   "cell_type": "code",
   "execution_count": 5,
   "metadata": {},
   "outputs": [
    {
     "data": {
      "text/html": [
       "\n",
       "            <style>\n",
       "                .geemap-dark {\n",
       "                    --jp-widgets-color: white;\n",
       "                    --jp-widgets-label-color: white;\n",
       "                    --jp-ui-font-color1: white;\n",
       "                    --jp-layout-color2: #454545;\n",
       "                    background-color: #383838;\n",
       "                }\n",
       "\n",
       "                .geemap-dark .jupyter-button {\n",
       "                    --jp-layout-color3: #383838;\n",
       "                }\n",
       "\n",
       "                .geemap-colab {\n",
       "                    background-color: var(--colab-primary-surface-color, white);\n",
       "                }\n",
       "\n",
       "                .geemap-colab .jupyter-button {\n",
       "                    --jp-layout-color3: var(--colab-primary-surface-color, white);\n",
       "                }\n",
       "            </style>\n",
       "            "
      ],
      "text/plain": [
       "<IPython.core.display.HTML object>"
      ]
     },
     "metadata": {},
     "output_type": "display_data"
    }
   ],
   "source": [
    "def clip_image(image):\n",
    "    return image.clip(roi.geometry())"
   ]
  },
  {
   "cell_type": "markdown",
   "metadata": {},
   "source": [
    "### DOWNLOAD IMAGES"
   ]
  },
  {
   "cell_type": "code",
   "execution_count": 6,
   "metadata": {},
   "outputs": [
    {
     "data": {
      "text/html": [
       "\n",
       "            <style>\n",
       "                .geemap-dark {\n",
       "                    --jp-widgets-color: white;\n",
       "                    --jp-widgets-label-color: white;\n",
       "                    --jp-ui-font-color1: white;\n",
       "                    --jp-layout-color2: #454545;\n",
       "                    background-color: #383838;\n",
       "                }\n",
       "\n",
       "                .geemap-dark .jupyter-button {\n",
       "                    --jp-layout-color3: #383838;\n",
       "                }\n",
       "\n",
       "                .geemap-colab {\n",
       "                    background-color: var(--colab-primary-surface-color, white);\n",
       "                }\n",
       "\n",
       "                .geemap-colab .jupyter-button {\n",
       "                    --jp-layout-color3: var(--colab-primary-surface-color, white);\n",
       "                }\n",
       "            </style>\n",
       "            "
      ],
      "text/plain": [
       "<IPython.core.display.HTML object>"
      ]
     },
     "metadata": {},
     "output_type": "display_data"
    },
    {
     "name": "stderr",
     "output_type": "stream",
     "text": [
      "  0%|          | 0/2 [00:00<?, ?it/s]"
     ]
    },
    {
     "name": "stdout",
     "output_type": "stream",
     "text": [
      "EXPORTING MEDIAN IMAGES FOR Zone 4\n",
      "Polling for task (id: VT37TUXY2P3WXXW2XRRRXK6Y).\n",
      "Polling for task (id: VT37TUXY2P3WXXW2XRRRXK6Y).\n",
      "Polling for task (id: VT37TUXY2P3WXXW2XRRRXK6Y).\n",
      "Polling for task (id: VT37TUXY2P3WXXW2XRRRXK6Y).\n",
      "Task for Zone 4 median image download completed with state COMPLETED: \n",
      "EXPORTING ALL IMAGES FOR Zone 4\n",
      "##################################################\n",
      "Total Images:  55\n",
      "##################################################\n"
     ]
    },
    {
     "name": "stderr",
     "output_type": "stream",
     "text": [
      "\n",
      "Exporting Images:   0%|          | 0/55 [00:00<?, ?it/s]\u001b[A"
     ]
    },
    {
     "name": "stdout",
     "output_type": "stream",
     "text": [
      "Polling for task (id: HFYQMRXGZF3HE3GABAAPX5JL).\n",
      "Polling for task (id: HFYQMRXGZF3HE3GABAAPX5JL).\n",
      "Polling for task (id: HFYQMRXGZF3HE3GABAAPX5JL).\n",
      "Polling for task (id: HFYQMRXGZF3HE3GABAAPX5JL).\n"
     ]
    },
    {
     "name": "stderr",
     "output_type": "stream",
     "text": [
      "\n",
      "Exporting Images:   2%|▏         | 1/55 [00:23<21:08, 23.50s/it]\u001b[A"
     ]
    },
    {
     "name": "stdout",
     "output_type": "stream",
     "text": [
      "Task 1 completed with state COMPLETED: \n",
      "Polling for task (id: MAWQCRGBHH7BNWQD5R62YZT6).\n",
      "Polling for task (id: MAWQCRGBHH7BNWQD5R62YZT6).\n",
      "Polling for task (id: MAWQCRGBHH7BNWQD5R62YZT6).\n",
      "Polling for task (id: MAWQCRGBHH7BNWQD5R62YZT6).\n"
     ]
    },
    {
     "name": "stderr",
     "output_type": "stream",
     "text": [
      "\n",
      "Exporting Images:   4%|▎         | 2/55 [00:47<20:52, 23.63s/it]\u001b[A"
     ]
    },
    {
     "name": "stdout",
     "output_type": "stream",
     "text": [
      "Task 2 completed with state COMPLETED: \n",
      "Polling for task (id: 754755AV6DAIRFEPU2R7LVRW).\n",
      "Polling for task (id: 754755AV6DAIRFEPU2R7LVRW).\n",
      "Polling for task (id: 754755AV6DAIRFEPU2R7LVRW).\n"
     ]
    },
    {
     "name": "stderr",
     "output_type": "stream",
     "text": [
      "\n",
      "Exporting Images:   5%|▌         | 3/55 [01:05<18:12, 21.02s/it]\u001b[A"
     ]
    },
    {
     "name": "stdout",
     "output_type": "stream",
     "text": [
      "Task 3 completed with state COMPLETED: \n",
      "Polling for task (id: NCL22KYVF23YVK5ZQ4AJT27X).\n",
      "Polling for task (id: NCL22KYVF23YVK5ZQ4AJT27X).\n",
      "Polling for task (id: NCL22KYVF23YVK5ZQ4AJT27X).\n",
      "Polling for task (id: NCL22KYVF23YVK5ZQ4AJT27X).\n"
     ]
    },
    {
     "name": "stderr",
     "output_type": "stream",
     "text": [
      "\n",
      "Exporting Images:   7%|▋         | 4/55 [01:28<18:44, 22.04s/it]\u001b[A"
     ]
    },
    {
     "name": "stdout",
     "output_type": "stream",
     "text": [
      "Task 4 completed with state COMPLETED: \n",
      "Polling for task (id: EJPBDFVE2STECP5IENEFYQFG).\n",
      "Polling for task (id: EJPBDFVE2STECP5IENEFYQFG).\n",
      "Polling for task (id: EJPBDFVE2STECP5IENEFYQFG).\n",
      "Polling for task (id: EJPBDFVE2STECP5IENEFYQFG).\n"
     ]
    },
    {
     "name": "stderr",
     "output_type": "stream",
     "text": [
      "\n",
      "Exporting Images:   9%|▉         | 5/55 [01:52<19:00, 22.80s/it]\u001b[A"
     ]
    },
    {
     "name": "stdout",
     "output_type": "stream",
     "text": [
      "Task 5 completed with state COMPLETED: \n",
      "Polling for task (id: WWOBC5HAMEWSKYZQP4ENQEHT).\n",
      "Polling for task (id: WWOBC5HAMEWSKYZQP4ENQEHT).\n",
      "Polling for task (id: WWOBC5HAMEWSKYZQP4ENQEHT).\n",
      "Polling for task (id: WWOBC5HAMEWSKYZQP4ENQEHT).\n"
     ]
    },
    {
     "name": "stderr",
     "output_type": "stream",
     "text": [
      "\n",
      "Exporting Images:  11%|█         | 6/55 [02:16<18:45, 22.96s/it]\u001b[A"
     ]
    },
    {
     "name": "stdout",
     "output_type": "stream",
     "text": [
      "Task 6 completed with state COMPLETED: \n",
      "Polling for task (id: IKUFFNNM24FRCIOW3GASRQYW).\n",
      "Polling for task (id: IKUFFNNM24FRCIOW3GASRQYW).\n",
      "Polling for task (id: IKUFFNNM24FRCIOW3GASRQYW).\n"
     ]
    },
    {
     "name": "stderr",
     "output_type": "stream",
     "text": [
      "\n",
      "Exporting Images:  13%|█▎        | 7/55 [02:34<17:10, 21.46s/it]\u001b[A"
     ]
    },
    {
     "name": "stdout",
     "output_type": "stream",
     "text": [
      "Task 7 completed with state COMPLETED: \n",
      "Polling for task (id: OMMZCF2BBIFEIHZTLTC33A74).\n",
      "Polling for task (id: OMMZCF2BBIFEIHZTLTC33A74).\n",
      "Polling for task (id: OMMZCF2BBIFEIHZTLTC33A74).\n",
      "Polling for task (id: OMMZCF2BBIFEIHZTLTC33A74).\n"
     ]
    },
    {
     "name": "stderr",
     "output_type": "stream",
     "text": [
      "\n",
      "Exporting Images:  15%|█▍        | 8/55 [02:57<17:16, 22.06s/it]\u001b[A"
     ]
    },
    {
     "name": "stdout",
     "output_type": "stream",
     "text": [
      "Task 8 completed with state COMPLETED: \n",
      "Polling for task (id: WQNPFM3M5R7HXEETY6ZPDLX4).\n",
      "Polling for task (id: WQNPFM3M5R7HXEETY6ZPDLX4).\n",
      "Polling for task (id: WQNPFM3M5R7HXEETY6ZPDLX4).\n",
      "Polling for task (id: WQNPFM3M5R7HXEETY6ZPDLX4).\n"
     ]
    },
    {
     "name": "stderr",
     "output_type": "stream",
     "text": [
      "\n",
      "Exporting Images:  16%|█▋        | 9/55 [03:21<17:17, 22.56s/it]\u001b[A"
     ]
    },
    {
     "name": "stdout",
     "output_type": "stream",
     "text": [
      "Task 9 completed with state COMPLETED: \n",
      "Polling for task (id: CZLICSUQO3ZNKNRPKMLM75CW).\n",
      "Polling for task (id: CZLICSUQO3ZNKNRPKMLM75CW).\n",
      "Polling for task (id: CZLICSUQO3ZNKNRPKMLM75CW).\n",
      "Polling for task (id: CZLICSUQO3ZNKNRPKMLM75CW).\n"
     ]
    },
    {
     "name": "stderr",
     "output_type": "stream",
     "text": [
      "\n",
      "Exporting Images:  18%|█▊        | 10/55 [03:45<17:11, 22.92s/it]\u001b[A"
     ]
    },
    {
     "name": "stdout",
     "output_type": "stream",
     "text": [
      "Task 10 completed with state COMPLETED: \n",
      "Polling for task (id: 4SU7V5CP7A7NJ6SFYUMTKX2G).\n",
      "Polling for task (id: 4SU7V5CP7A7NJ6SFYUMTKX2G).\n",
      "Polling for task (id: 4SU7V5CP7A7NJ6SFYUMTKX2G).\n"
     ]
    },
    {
     "name": "stderr",
     "output_type": "stream",
     "text": [
      "\n",
      "Exporting Images:  20%|██        | 11/55 [04:03<15:45, 21.48s/it]\u001b[A"
     ]
    },
    {
     "name": "stdout",
     "output_type": "stream",
     "text": [
      "Task 11 completed with state COMPLETED: \n",
      "Polling for task (id: YGJCKJITIIPS3H7F3BMQTFRV).\n",
      "Polling for task (id: YGJCKJITIIPS3H7F3BMQTFRV).\n",
      "Polling for task (id: YGJCKJITIIPS3H7F3BMQTFRV).\n",
      "Polling for task (id: YGJCKJITIIPS3H7F3BMQTFRV).\n"
     ]
    },
    {
     "name": "stderr",
     "output_type": "stream",
     "text": [
      "\n",
      "Exporting Images:  22%|██▏       | 12/55 [04:26<15:49, 22.09s/it]\u001b[A"
     ]
    },
    {
     "name": "stdout",
     "output_type": "stream",
     "text": [
      "Task 12 completed with state COMPLETED: \n",
      "Polling for task (id: I2XONNKEGZNTX5HLLYOJ6AJE).\n",
      "Polling for task (id: I2XONNKEGZNTX5HLLYOJ6AJE).\n",
      "Polling for task (id: I2XONNKEGZNTX5HLLYOJ6AJE).\n",
      "Polling for task (id: I2XONNKEGZNTX5HLLYOJ6AJE).\n"
     ]
    },
    {
     "name": "stderr",
     "output_type": "stream",
     "text": [
      "\n",
      "Exporting Images:  24%|██▎       | 13/55 [04:50<15:46, 22.53s/it]\u001b[A"
     ]
    },
    {
     "name": "stdout",
     "output_type": "stream",
     "text": [
      "Task 13 completed with state COMPLETED: \n",
      "Polling for task (id: MNVSWJA232A2EQI72U6LLT22).\n",
      "Polling for task (id: MNVSWJA232A2EQI72U6LLT22).\n",
      "Polling for task (id: MNVSWJA232A2EQI72U6LLT22).\n",
      "Polling for task (id: MNVSWJA232A2EQI72U6LLT22).\n",
      "Polling for task (id: MNVSWJA232A2EQI72U6LLT22).\n"
     ]
    },
    {
     "name": "stderr",
     "output_type": "stream",
     "text": [
      "\n",
      "Exporting Images:  25%|██▌       | 14/55 [05:19<16:41, 24.42s/it]\u001b[A"
     ]
    },
    {
     "name": "stdout",
     "output_type": "stream",
     "text": [
      "Task 14 completed with state COMPLETED: \n",
      "Polling for task (id: 37AYCM74TA53KNJXY5YUEQKF).\n",
      "Polling for task (id: 37AYCM74TA53KNJXY5YUEQKF).\n",
      "Polling for task (id: 37AYCM74TA53KNJXY5YUEQKF).\n"
     ]
    },
    {
     "name": "stderr",
     "output_type": "stream",
     "text": [
      "\n",
      "Exporting Images:  27%|██▋       | 15/55 [05:37<15:06, 22.66s/it]\u001b[A"
     ]
    },
    {
     "name": "stdout",
     "output_type": "stream",
     "text": [
      "Task 15 completed with state COMPLETED: \n",
      "Polling for task (id: 6U5D35EVS5SHP7DZ3IDABWM2).\n",
      "Polling for task (id: 6U5D35EVS5SHP7DZ3IDABWM2).\n",
      "Polling for task (id: 6U5D35EVS5SHP7DZ3IDABWM2).\n"
     ]
    },
    {
     "name": "stderr",
     "output_type": "stream",
     "text": [
      "\n",
      "Exporting Images:  29%|██▉       | 16/55 [05:56<13:56, 21.45s/it]\u001b[A"
     ]
    },
    {
     "name": "stdout",
     "output_type": "stream",
     "text": [
      "Task 16 completed with state COMPLETED: \n",
      "Polling for task (id: KI4OVXYKJ5C4P3G3JBPZDXPY).\n",
      "Polling for task (id: KI4OVXYKJ5C4P3G3JBPZDXPY).\n",
      "Polling for task (id: KI4OVXYKJ5C4P3G3JBPZDXPY).\n",
      "Polling for task (id: KI4OVXYKJ5C4P3G3JBPZDXPY).\n"
     ]
    },
    {
     "name": "stderr",
     "output_type": "stream",
     "text": [
      "\n",
      "Exporting Images:  31%|███       | 17/55 [06:19<13:55, 22.00s/it]\u001b[A"
     ]
    },
    {
     "name": "stdout",
     "output_type": "stream",
     "text": [
      "Task 17 completed with state COMPLETED: \n",
      "Polling for task (id: YF5YML7CIJUDPL4UFJUWWLFC).\n",
      "Polling for task (id: YF5YML7CIJUDPL4UFJUWWLFC).\n",
      "Polling for task (id: YF5YML7CIJUDPL4UFJUWWLFC).\n"
     ]
    },
    {
     "name": "stderr",
     "output_type": "stream",
     "text": [
      "\n",
      "Exporting Images:  33%|███▎      | 18/55 [06:37<12:50, 20.82s/it]\u001b[A"
     ]
    },
    {
     "name": "stdout",
     "output_type": "stream",
     "text": [
      "Task 18 completed with state COMPLETED: \n",
      "Polling for task (id: HMDUNUG2JEPVHVA6UEQKX2CR).\n",
      "Polling for task (id: HMDUNUG2JEPVHVA6UEQKX2CR).\n",
      "Polling for task (id: HMDUNUG2JEPVHVA6UEQKX2CR).\n"
     ]
    },
    {
     "name": "stderr",
     "output_type": "stream",
     "text": [
      "\n",
      "Exporting Images:  35%|███▍      | 19/55 [06:56<12:06, 20.18s/it]\u001b[A"
     ]
    },
    {
     "name": "stdout",
     "output_type": "stream",
     "text": [
      "Task 19 completed with state COMPLETED: \n",
      "Polling for task (id: 3WHS225SRIAGREBCR6SZVOIW).\n",
      "Polling for task (id: 3WHS225SRIAGREBCR6SZVOIW).\n",
      "Polling for task (id: 3WHS225SRIAGREBCR6SZVOIW).\n",
      "Polling for task (id: 3WHS225SRIAGREBCR6SZVOIW).\n"
     ]
    },
    {
     "name": "stderr",
     "output_type": "stream",
     "text": [
      "\n",
      "Exporting Images:  36%|███▋      | 20/55 [07:20<12:21, 21.19s/it]\u001b[A"
     ]
    },
    {
     "name": "stdout",
     "output_type": "stream",
     "text": [
      "Task 20 completed with state COMPLETED: \n",
      "Polling for task (id: VEL3PTHZEEHLPMW7K2VJBLGO).\n",
      "Polling for task (id: VEL3PTHZEEHLPMW7K2VJBLGO).\n",
      "Polling for task (id: VEL3PTHZEEHLPMW7K2VJBLGO).\n",
      "Polling for task (id: VEL3PTHZEEHLPMW7K2VJBLGO).\n"
     ]
    },
    {
     "name": "stderr",
     "output_type": "stream",
     "text": [
      "\n",
      "Exporting Images:  38%|███▊      | 21/55 [07:43<12:22, 21.83s/it]\u001b[A"
     ]
    },
    {
     "name": "stdout",
     "output_type": "stream",
     "text": [
      "Task 21 completed with state COMPLETED: \n",
      "Polling for task (id: MWK7MB7OY37DQWGKXRQPMDGP).\n",
      "Polling for task (id: MWK7MB7OY37DQWGKXRQPMDGP).\n",
      "Polling for task (id: MWK7MB7OY37DQWGKXRQPMDGP).\n",
      "Polling for task (id: MWK7MB7OY37DQWGKXRQPMDGP).\n"
     ]
    },
    {
     "name": "stderr",
     "output_type": "stream",
     "text": [
      "\n",
      "Exporting Images:  40%|████      | 22/55 [08:06<12:15, 22.27s/it]\u001b[A"
     ]
    },
    {
     "name": "stdout",
     "output_type": "stream",
     "text": [
      "Task 22 completed with state COMPLETED: \n",
      "Polling for task (id: 3MWSVALVF3NS4WGTXNGBTDYU).\n",
      "Polling for task (id: 3MWSVALVF3NS4WGTXNGBTDYU).\n",
      "Polling for task (id: 3MWSVALVF3NS4WGTXNGBTDYU).\n",
      "Polling for task (id: 3MWSVALVF3NS4WGTXNGBTDYU).\n"
     ]
    },
    {
     "name": "stderr",
     "output_type": "stream",
     "text": [
      "\n",
      "Exporting Images:  42%|████▏     | 23/55 [08:29<12:02, 22.57s/it]\u001b[A"
     ]
    },
    {
     "name": "stdout",
     "output_type": "stream",
     "text": [
      "Task 23 completed with state COMPLETED: \n",
      "Polling for task (id: OTJNSQYFEMZHCADL5J2XWNBW).\n",
      "Polling for task (id: OTJNSQYFEMZHCADL5J2XWNBW).\n",
      "Polling for task (id: OTJNSQYFEMZHCADL5J2XWNBW).\n",
      "Polling for task (id: OTJNSQYFEMZHCADL5J2XWNBW).\n"
     ]
    },
    {
     "name": "stderr",
     "output_type": "stream",
     "text": [
      "\n",
      "Exporting Images:  44%|████▎     | 24/55 [08:53<11:44, 22.73s/it]\u001b[A"
     ]
    },
    {
     "name": "stdout",
     "output_type": "stream",
     "text": [
      "Task 24 completed with state COMPLETED: \n",
      "Polling for task (id: LFNYLBMWKILFIJRA3A54IGTH).\n",
      "Polling for task (id: LFNYLBMWKILFIJRA3A54IGTH).\n",
      "Polling for task (id: LFNYLBMWKILFIJRA3A54IGTH).\n"
     ]
    },
    {
     "name": "stderr",
     "output_type": "stream",
     "text": [
      "\n",
      "Exporting Images:  45%|████▌     | 25/55 [09:11<10:40, 21.35s/it]\u001b[A"
     ]
    },
    {
     "name": "stdout",
     "output_type": "stream",
     "text": [
      "Task 25 completed with state COMPLETED: \n",
      "Polling for task (id: CJMTBUWRHOHKINZ6BUXAMFTI).\n",
      "Polling for task (id: CJMTBUWRHOHKINZ6BUXAMFTI).\n",
      "Polling for task (id: CJMTBUWRHOHKINZ6BUXAMFTI).\n",
      "Polling for task (id: CJMTBUWRHOHKINZ6BUXAMFTI).\n"
     ]
    },
    {
     "name": "stderr",
     "output_type": "stream",
     "text": [
      "\n",
      "Exporting Images:  47%|████▋     | 26/55 [09:34<10:38, 22.01s/it]\u001b[A"
     ]
    },
    {
     "name": "stdout",
     "output_type": "stream",
     "text": [
      "Task 26 completed with state COMPLETED: \n",
      "Polling for task (id: W5727UE7ZM4JBBLS2NAVJRIR).\n",
      "Polling for task (id: W5727UE7ZM4JBBLS2NAVJRIR).\n",
      "Polling for task (id: W5727UE7ZM4JBBLS2NAVJRIR).\n",
      "Polling for task (id: W5727UE7ZM4JBBLS2NAVJRIR).\n"
     ]
    },
    {
     "name": "stderr",
     "output_type": "stream",
     "text": [
      "\n",
      "Exporting Images:  49%|████▉     | 27/55 [09:58<10:31, 22.54s/it]\u001b[A"
     ]
    },
    {
     "name": "stdout",
     "output_type": "stream",
     "text": [
      "Task 27 completed with state COMPLETED: \n",
      "Polling for task (id: 6LSDG3RKYYO5HP4OSTCAXAJV).\n",
      "Polling for task (id: 6LSDG3RKYYO5HP4OSTCAXAJV).\n",
      "Polling for task (id: 6LSDG3RKYYO5HP4OSTCAXAJV).\n",
      "Polling for task (id: 6LSDG3RKYYO5HP4OSTCAXAJV).\n"
     ]
    },
    {
     "name": "stderr",
     "output_type": "stream",
     "text": [
      "\n",
      "Exporting Images:  51%|█████     | 28/55 [10:21<10:15, 22.79s/it]\u001b[A"
     ]
    },
    {
     "name": "stdout",
     "output_type": "stream",
     "text": [
      "Task 28 completed with state COMPLETED: \n",
      "Polling for task (id: WV6BJULWN7WWVSFAW4O76ZNT).\n",
      "Polling for task (id: WV6BJULWN7WWVSFAW4O76ZNT).\n",
      "Polling for task (id: WV6BJULWN7WWVSFAW4O76ZNT).\n"
     ]
    },
    {
     "name": "stderr",
     "output_type": "stream",
     "text": [
      "\n",
      "Exporting Images:  53%|█████▎    | 29/55 [10:40<09:15, 21.38s/it]\u001b[A"
     ]
    },
    {
     "name": "stdout",
     "output_type": "stream",
     "text": [
      "Task 29 completed with state COMPLETED: \n",
      "Polling for task (id: CU5JXMWKCETTEMQIQ7EOX4NS).\n",
      "Polling for task (id: CU5JXMWKCETTEMQIQ7EOX4NS).\n",
      "Polling for task (id: CU5JXMWKCETTEMQIQ7EOX4NS).\n",
      "Polling for task (id: CU5JXMWKCETTEMQIQ7EOX4NS).\n"
     ]
    },
    {
     "name": "stderr",
     "output_type": "stream",
     "text": [
      "\n",
      "Exporting Images:  55%|█████▍    | 30/55 [11:03<09:08, 21.92s/it]\u001b[A"
     ]
    },
    {
     "name": "stdout",
     "output_type": "stream",
     "text": [
      "Task 30 completed with state COMPLETED: \n",
      "Polling for task (id: 4LMRAFBOWE3L2TZQMVQNYFGJ).\n",
      "Polling for task (id: 4LMRAFBOWE3L2TZQMVQNYFGJ).\n",
      "Polling for task (id: 4LMRAFBOWE3L2TZQMVQNYFGJ).\n",
      "Polling for task (id: 4LMRAFBOWE3L2TZQMVQNYFGJ).\n"
     ]
    },
    {
     "name": "stderr",
     "output_type": "stream",
     "text": [
      "\n",
      "Exporting Images:  56%|█████▋    | 31/55 [11:26<08:55, 22.31s/it]\u001b[A"
     ]
    },
    {
     "name": "stdout",
     "output_type": "stream",
     "text": [
      "Task 31 completed with state COMPLETED: \n",
      "Polling for task (id: 4GMPOP3VH3GHEPTZSXWPJHJM).\n",
      "Polling for task (id: 4GMPOP3VH3GHEPTZSXWPJHJM).\n",
      "Polling for task (id: 4GMPOP3VH3GHEPTZSXWPJHJM).\n"
     ]
    },
    {
     "name": "stderr",
     "output_type": "stream",
     "text": [
      "\n",
      "Exporting Images:  58%|█████▊    | 32/55 [11:44<08:02, 20.98s/it]\u001b[A"
     ]
    },
    {
     "name": "stdout",
     "output_type": "stream",
     "text": [
      "Task 32 completed with state COMPLETED: \n",
      "Polling for task (id: LDE5KRZBCASL5GIUWT2LTO7Z).\n",
      "Polling for task (id: LDE5KRZBCASL5GIUWT2LTO7Z).\n",
      "Polling for task (id: LDE5KRZBCASL5GIUWT2LTO7Z).\n",
      "Polling for task (id: LDE5KRZBCASL5GIUWT2LTO7Z).\n",
      "Polling for task (id: LDE5KRZBCASL5GIUWT2LTO7Z).\n"
     ]
    },
    {
     "name": "stderr",
     "output_type": "stream",
     "text": [
      "\n",
      "Exporting Images:  60%|██████    | 33/55 [12:12<08:30, 23.23s/it]\u001b[A"
     ]
    },
    {
     "name": "stdout",
     "output_type": "stream",
     "text": [
      "Task 33 completed with state COMPLETED: \n",
      "Polling for task (id: 3OJKPEN24FT64FH6WZVMOWG6).\n",
      "Polling for task (id: 3OJKPEN24FT64FH6WZVMOWG6).\n",
      "Polling for task (id: 3OJKPEN24FT64FH6WZVMOWG6).\n",
      "Polling for task (id: 3OJKPEN24FT64FH6WZVMOWG6).\n"
     ]
    },
    {
     "name": "stderr",
     "output_type": "stream",
     "text": [
      "\n",
      "Exporting Images:  62%|██████▏   | 34/55 [12:35<08:07, 23.21s/it]\u001b[A"
     ]
    },
    {
     "name": "stdout",
     "output_type": "stream",
     "text": [
      "Task 34 completed with state COMPLETED: \n",
      "Polling for task (id: OWAWSIUOQISHBXPLH2P7QPAK).\n",
      "Polling for task (id: OWAWSIUOQISHBXPLH2P7QPAK).\n",
      "Polling for task (id: OWAWSIUOQISHBXPLH2P7QPAK).\n",
      "Polling for task (id: OWAWSIUOQISHBXPLH2P7QPAK).\n"
     ]
    },
    {
     "name": "stderr",
     "output_type": "stream",
     "text": [
      "\n",
      "Exporting Images:  64%|██████▎   | 35/55 [12:59<07:43, 23.19s/it]\u001b[A"
     ]
    },
    {
     "name": "stdout",
     "output_type": "stream",
     "text": [
      "Task 35 completed with state COMPLETED: \n",
      "Polling for task (id: BN62WKD2H7FUKBFVGOWI3XCP).\n",
      "Polling for task (id: BN62WKD2H7FUKBFVGOWI3XCP).\n",
      "Polling for task (id: BN62WKD2H7FUKBFVGOWI3XCP).\n"
     ]
    },
    {
     "name": "stderr",
     "output_type": "stream",
     "text": [
      "\n",
      "Exporting Images:  65%|██████▌   | 36/55 [13:17<06:50, 21.63s/it]\u001b[A"
     ]
    },
    {
     "name": "stdout",
     "output_type": "stream",
     "text": [
      "Task 36 completed with state COMPLETED: \n",
      "Polling for task (id: RCWEZJ27JBXOTI4YL472XT3M).\n",
      "Polling for task (id: RCWEZJ27JBXOTI4YL472XT3M).\n",
      "Polling for task (id: RCWEZJ27JBXOTI4YL472XT3M).\n"
     ]
    },
    {
     "name": "stderr",
     "output_type": "stream",
     "text": [
      "\n",
      "Exporting Images:  67%|██████▋   | 37/55 [13:35<06:09, 20.53s/it]\u001b[A"
     ]
    },
    {
     "name": "stdout",
     "output_type": "stream",
     "text": [
      "Task 37 completed with state COMPLETED: \n",
      "Polling for task (id: MH3ILL5Q7H7FNJJSQR3RQSGV).\n",
      "Polling for task (id: MH3ILL5Q7H7FNJJSQR3RQSGV).\n",
      "Polling for task (id: MH3ILL5Q7H7FNJJSQR3RQSGV).\n"
     ]
    },
    {
     "name": "stderr",
     "output_type": "stream",
     "text": [
      "\n",
      "Exporting Images:  69%|██████▉   | 38/55 [13:53<05:36, 19.82s/it]\u001b[A"
     ]
    },
    {
     "name": "stdout",
     "output_type": "stream",
     "text": [
      "Task 38 completed with state COMPLETED: \n",
      "Polling for task (id: KS7EKCXKTIQVNZALZ2JDIBTS).\n",
      "Polling for task (id: KS7EKCXKTIQVNZALZ2JDIBTS).\n",
      "Polling for task (id: KS7EKCXKTIQVNZALZ2JDIBTS).\n",
      "Polling for task (id: KS7EKCXKTIQVNZALZ2JDIBTS).\n"
     ]
    },
    {
     "name": "stderr",
     "output_type": "stream",
     "text": [
      "\n",
      "Exporting Images:  71%|███████   | 39/55 [14:16<05:32, 20.81s/it]\u001b[A"
     ]
    },
    {
     "name": "stdout",
     "output_type": "stream",
     "text": [
      "Task 39 completed with state COMPLETED: \n",
      "Polling for task (id: 45ZWSHMVSZZPK6CLECGMHN2W).\n",
      "Polling for task (id: 45ZWSHMVSZZPK6CLECGMHN2W).\n",
      "Polling for task (id: 45ZWSHMVSZZPK6CLECGMHN2W).\n",
      "Polling for task (id: 45ZWSHMVSZZPK6CLECGMHN2W).\n"
     ]
    },
    {
     "name": "stderr",
     "output_type": "stream",
     "text": [
      "\n",
      "Exporting Images:  73%|███████▎  | 40/55 [14:39<05:22, 21.53s/it]\u001b[A"
     ]
    },
    {
     "name": "stdout",
     "output_type": "stream",
     "text": [
      "Task 40 completed with state COMPLETED: \n",
      "Polling for task (id: B7TSVIJMY3E3WRYZRWY4WW3K).\n",
      "Polling for task (id: B7TSVIJMY3E3WRYZRWY4WW3K).\n",
      "Polling for task (id: B7TSVIJMY3E3WRYZRWY4WW3K).\n",
      "Polling for task (id: B7TSVIJMY3E3WRYZRWY4WW3K).\n"
     ]
    },
    {
     "name": "stderr",
     "output_type": "stream",
     "text": [
      "\n",
      "Exporting Images:  75%|███████▍  | 41/55 [15:02<05:08, 22.03s/it]\u001b[A"
     ]
    },
    {
     "name": "stdout",
     "output_type": "stream",
     "text": [
      "Task 41 completed with state COMPLETED: \n",
      "Polling for task (id: 55BRSL7P3ULDCWCNI2TQEY3H).\n",
      "Polling for task (id: 55BRSL7P3ULDCWCNI2TQEY3H).\n",
      "Polling for task (id: 55BRSL7P3ULDCWCNI2TQEY3H).\n",
      "Polling for task (id: 55BRSL7P3ULDCWCNI2TQEY3H).\n"
     ]
    },
    {
     "name": "stderr",
     "output_type": "stream",
     "text": [
      "\n",
      "Exporting Images:  76%|███████▋  | 42/55 [15:25<04:50, 22.36s/it]\u001b[A"
     ]
    },
    {
     "name": "stdout",
     "output_type": "stream",
     "text": [
      "Task 42 completed with state COMPLETED: \n",
      "Polling for task (id: CN5BGRD5FGXJ4M2QFY424FUW).\n",
      "Polling for task (id: CN5BGRD5FGXJ4M2QFY424FUW).\n",
      "Polling for task (id: CN5BGRD5FGXJ4M2QFY424FUW).\n",
      "Polling for task (id: CN5BGRD5FGXJ4M2QFY424FUW).\n"
     ]
    },
    {
     "name": "stderr",
     "output_type": "stream",
     "text": [
      "\n",
      "Exporting Images:  78%|███████▊  | 43/55 [15:49<04:31, 22.66s/it]\u001b[A"
     ]
    },
    {
     "name": "stdout",
     "output_type": "stream",
     "text": [
      "Task 43 completed with state COMPLETED: \n",
      "Polling for task (id: 2IMWYANOCLNXZXDJYKJMW4E6).\n",
      "Polling for task (id: 2IMWYANOCLNXZXDJYKJMW4E6).\n",
      "Polling for task (id: 2IMWYANOCLNXZXDJYKJMW4E6).\n",
      "Polling for task (id: 2IMWYANOCLNXZXDJYKJMW4E6).\n"
     ]
    },
    {
     "name": "stderr",
     "output_type": "stream",
     "text": [
      "\n",
      "Exporting Images:  80%|████████  | 44/55 [16:12<04:11, 22.82s/it]\u001b[A"
     ]
    },
    {
     "name": "stdout",
     "output_type": "stream",
     "text": [
      "Task 44 completed with state COMPLETED: \n",
      "Polling for task (id: ZPM3YYNFWQYP4SSIRMZZC3F4).\n",
      "Polling for task (id: ZPM3YYNFWQYP4SSIRMZZC3F4).\n",
      "Polling for task (id: ZPM3YYNFWQYP4SSIRMZZC3F4).\n",
      "Polling for task (id: ZPM3YYNFWQYP4SSIRMZZC3F4).\n"
     ]
    },
    {
     "name": "stderr",
     "output_type": "stream",
     "text": [
      "\n",
      "Exporting Images:  82%|████████▏ | 45/55 [16:35<03:49, 22.91s/it]\u001b[A"
     ]
    },
    {
     "name": "stdout",
     "output_type": "stream",
     "text": [
      "Task 45 completed with state COMPLETED: \n",
      "Polling for task (id: 5OEEFEV424DPZEFILEG5CNXD).\n",
      "Polling for task (id: 5OEEFEV424DPZEFILEG5CNXD).\n",
      "Polling for task (id: 5OEEFEV424DPZEFILEG5CNXD).\n"
     ]
    },
    {
     "name": "stderr",
     "output_type": "stream",
     "text": [
      "\n",
      "Exporting Images:  84%|████████▎ | 46/55 [16:56<03:20, 22.32s/it]\u001b[A"
     ]
    },
    {
     "name": "stdout",
     "output_type": "stream",
     "text": [
      "Task 46 completed with state COMPLETED: \n",
      "Polling for task (id: IVURTJR4WFEALD4QUZK6YKC5).\n",
      "Polling for task (id: IVURTJR4WFEALD4QUZK6YKC5).\n",
      "Polling for task (id: IVURTJR4WFEALD4QUZK6YKC5).\n"
     ]
    },
    {
     "name": "stderr",
     "output_type": "stream",
     "text": [
      "\n",
      "Exporting Images:  85%|████████▌ | 47/55 [17:14<02:48, 21.03s/it]\u001b[A"
     ]
    },
    {
     "name": "stdout",
     "output_type": "stream",
     "text": [
      "Task 47 completed with state COMPLETED: \n",
      "Polling for task (id: EI2IEZ6R65RNRDZPWPZ76OQD).\n",
      "Polling for task (id: EI2IEZ6R65RNRDZPWPZ76OQD).\n",
      "Polling for task (id: EI2IEZ6R65RNRDZPWPZ76OQD).\n"
     ]
    },
    {
     "name": "stderr",
     "output_type": "stream",
     "text": [
      "\n",
      "Exporting Images:  87%|████████▋ | 48/55 [17:32<02:21, 20.16s/it]\u001b[A"
     ]
    },
    {
     "name": "stdout",
     "output_type": "stream",
     "text": [
      "Task 48 completed with state COMPLETED: \n",
      "Polling for task (id: DM3UAY776Y642DHMVVUAIHZA).\n",
      "Polling for task (id: DM3UAY776Y642DHMVVUAIHZA).\n",
      "Polling for task (id: DM3UAY776Y642DHMVVUAIHZA).\n"
     ]
    },
    {
     "name": "stderr",
     "output_type": "stream",
     "text": [
      "\n",
      "Exporting Images:  89%|████████▉ | 49/55 [17:51<01:58, 19.77s/it]\u001b[A"
     ]
    },
    {
     "name": "stdout",
     "output_type": "stream",
     "text": [
      "Task 49 completed with state COMPLETED: \n",
      "Polling for task (id: 2NUHRAKCIJXS5P2JBERURPDB).\n",
      "Polling for task (id: 2NUHRAKCIJXS5P2JBERURPDB).\n",
      "Polling for task (id: 2NUHRAKCIJXS5P2JBERURPDB).\n"
     ]
    },
    {
     "name": "stderr",
     "output_type": "stream",
     "text": [
      "\n",
      "Exporting Images:  91%|█████████ | 50/55 [18:11<01:39, 19.82s/it]\u001b[A"
     ]
    },
    {
     "name": "stdout",
     "output_type": "stream",
     "text": [
      "Task 50 completed with state COMPLETED: \n",
      "Polling for task (id: IKKV4DIWSKCV3GSLYAMYHOE6).\n",
      "Polling for task (id: IKKV4DIWSKCV3GSLYAMYHOE6).\n",
      "Polling for task (id: IKKV4DIWSKCV3GSLYAMYHOE6).\n",
      "Polling for task (id: IKKV4DIWSKCV3GSLYAMYHOE6).\n"
     ]
    },
    {
     "name": "stderr",
     "output_type": "stream",
     "text": [
      "\n",
      "Exporting Images:  93%|█████████▎| 51/55 [18:35<01:24, 21.02s/it]\u001b[A"
     ]
    },
    {
     "name": "stdout",
     "output_type": "stream",
     "text": [
      "Task 51 completed with state COMPLETED: \n",
      "Polling for task (id: XGVUJVY2N3RBTTD7DLKUTANZ).\n",
      "Polling for task (id: XGVUJVY2N3RBTTD7DLKUTANZ).\n",
      "Polling for task (id: XGVUJVY2N3RBTTD7DLKUTANZ).\n",
      "Polling for task (id: XGVUJVY2N3RBTTD7DLKUTANZ).\n"
     ]
    },
    {
     "name": "stderr",
     "output_type": "stream",
     "text": [
      "\n",
      "Exporting Images:  95%|█████████▍| 52/55 [18:58<01:05, 21.68s/it]\u001b[A"
     ]
    },
    {
     "name": "stdout",
     "output_type": "stream",
     "text": [
      "Task 52 completed with state COMPLETED: \n",
      "Polling for task (id: SH4WNX27QBMML7OL6K6KP54I).\n",
      "Polling for task (id: SH4WNX27QBMML7OL6K6KP54I).\n",
      "Polling for task (id: SH4WNX27QBMML7OL6K6KP54I).\n",
      "Polling for task (id: SH4WNX27QBMML7OL6K6KP54I).\n"
     ]
    },
    {
     "name": "stderr",
     "output_type": "stream",
     "text": [
      "\n",
      "Exporting Images:  96%|█████████▋| 53/55 [19:21<00:44, 22.11s/it]\u001b[A"
     ]
    },
    {
     "name": "stdout",
     "output_type": "stream",
     "text": [
      "Task 53 completed with state COMPLETED: \n",
      "Polling for task (id: ETXVMGCYRZLFVOA4Y3HXENPR).\n",
      "Polling for task (id: ETXVMGCYRZLFVOA4Y3HXENPR).\n",
      "Polling for task (id: ETXVMGCYRZLFVOA4Y3HXENPR).\n",
      "Polling for task (id: ETXVMGCYRZLFVOA4Y3HXENPR).\n"
     ]
    },
    {
     "name": "stderr",
     "output_type": "stream",
     "text": [
      "\n",
      "Exporting Images:  98%|█████████▊| 54/55 [19:44<00:22, 22.45s/it]\u001b[A"
     ]
    },
    {
     "name": "stdout",
     "output_type": "stream",
     "text": [
      "Task 54 completed with state COMPLETED: \n",
      "Polling for task (id: FX3JOOCJIUN3TESV47JYVSYO).\n",
      "Polling for task (id: FX3JOOCJIUN3TESV47JYVSYO).\n",
      "Polling for task (id: FX3JOOCJIUN3TESV47JYVSYO).\n"
     ]
    },
    {
     "name": "stderr",
     "output_type": "stream",
     "text": [
      "\n",
      "Exporting Images: 100%|██████████| 55/55 [20:02<00:00, 21.87s/it]\u001b[A\n",
      " 50%|█████     | 1/2 [20:35<20:35, 1235.14s/it]"
     ]
    },
    {
     "name": "stdout",
     "output_type": "stream",
     "text": [
      "Task 55 completed with state COMPLETED: \n",
      "EXPORTING MEDIAN IMAGES FOR Zone 9\n",
      "Polling for task (id: I466KOMQUYSALVAMRHEX4BP3).\n",
      "Polling for task (id: I466KOMQUYSALVAMRHEX4BP3).\n",
      "Polling for task (id: I466KOMQUYSALVAMRHEX4BP3).\n",
      "Polling for task (id: I466KOMQUYSALVAMRHEX4BP3).\n",
      "Polling for task (id: I466KOMQUYSALVAMRHEX4BP3).\n",
      "Task for Zone 9 median image download completed with state COMPLETED: \n",
      "EXPORTING ALL IMAGES FOR Zone 9\n",
      "##################################################\n",
      "Total Images:  55\n",
      "##################################################\n"
     ]
    },
    {
     "name": "stderr",
     "output_type": "stream",
     "text": [
      "\n",
      "Exporting Images:   0%|          | 0/55 [00:00<?, ?it/s]\u001b[A"
     ]
    },
    {
     "name": "stdout",
     "output_type": "stream",
     "text": [
      "Polling for task (id: Z6GHLMG36SGSVJQAW66NRRJN).\n",
      "Polling for task (id: Z6GHLMG36SGSVJQAW66NRRJN).\n",
      "Polling for task (id: Z6GHLMG36SGSVJQAW66NRRJN).\n"
     ]
    },
    {
     "name": "stderr",
     "output_type": "stream",
     "text": [
      "\n",
      "Exporting Images:   2%|▏         | 1/55 [00:18<16:14, 18.05s/it]\u001b[A"
     ]
    },
    {
     "name": "stdout",
     "output_type": "stream",
     "text": [
      "Task 1 completed with state COMPLETED: \n",
      "Polling for task (id: AUTPJFX36WWXE2N6JPVEP5JZ).\n",
      "Polling for task (id: AUTPJFX36WWXE2N6JPVEP5JZ).\n",
      "Polling for task (id: AUTPJFX36WWXE2N6JPVEP5JZ).\n",
      "Polling for task (id: AUTPJFX36WWXE2N6JPVEP5JZ).\n"
     ]
    },
    {
     "name": "stderr",
     "output_type": "stream",
     "text": [
      "\n",
      "Exporting Images:   4%|▎         | 2/55 [00:41<18:39, 21.12s/it]\u001b[A"
     ]
    },
    {
     "name": "stdout",
     "output_type": "stream",
     "text": [
      "Task 2 completed with state COMPLETED: \n",
      "Polling for task (id: BTJ3BLI7OURRIPXGOCDQTWN4).\n",
      "Polling for task (id: BTJ3BLI7OURRIPXGOCDQTWN4).\n",
      "Polling for task (id: BTJ3BLI7OURRIPXGOCDQTWN4).\n",
      "Polling for task (id: BTJ3BLI7OURRIPXGOCDQTWN4).\n",
      "Polling for task (id: BTJ3BLI7OURRIPXGOCDQTWN4).\n"
     ]
    },
    {
     "name": "stderr",
     "output_type": "stream",
     "text": [
      "\n",
      "Exporting Images:   5%|▌         | 3/55 [01:09<21:15, 24.54s/it]\u001b[A"
     ]
    },
    {
     "name": "stdout",
     "output_type": "stream",
     "text": [
      "Task 3 completed with state COMPLETED: \n",
      "Polling for task (id: QDHL44DVS7P3RJXAXYW3NBDU).\n",
      "Polling for task (id: QDHL44DVS7P3RJXAXYW3NBDU).\n",
      "Polling for task (id: QDHL44DVS7P3RJXAXYW3NBDU).\n",
      "Polling for task (id: QDHL44DVS7P3RJXAXYW3NBDU).\n"
     ]
    },
    {
     "name": "stderr",
     "output_type": "stream",
     "text": [
      "\n",
      "Exporting Images:   7%|▋         | 4/55 [01:33<20:25, 24.04s/it]\u001b[A"
     ]
    },
    {
     "name": "stdout",
     "output_type": "stream",
     "text": [
      "Task 4 completed with state COMPLETED: \n",
      "Polling for task (id: 5RNPDYMKE6W3XMYVMXU7GW3Q).\n",
      "Polling for task (id: 5RNPDYMKE6W3XMYVMXU7GW3Q).\n",
      "Polling for task (id: 5RNPDYMKE6W3XMYVMXU7GW3Q).\n",
      "Polling for task (id: 5RNPDYMKE6W3XMYVMXU7GW3Q).\n"
     ]
    },
    {
     "name": "stderr",
     "output_type": "stream",
     "text": [
      "\n",
      "Exporting Images:   9%|▉         | 5/55 [01:56<19:52, 23.85s/it]\u001b[A"
     ]
    },
    {
     "name": "stdout",
     "output_type": "stream",
     "text": [
      "Task 5 completed with state COMPLETED: \n",
      "Polling for task (id: ZJM62QAKCCQ5MJLRXE7SC7F2).\n",
      "Polling for task (id: ZJM62QAKCCQ5MJLRXE7SC7F2).\n",
      "Polling for task (id: ZJM62QAKCCQ5MJLRXE7SC7F2).\n",
      "Polling for task (id: ZJM62QAKCCQ5MJLRXE7SC7F2).\n"
     ]
    },
    {
     "name": "stderr",
     "output_type": "stream",
     "text": [
      "\n",
      "Exporting Images:  11%|█         | 6/55 [02:19<19:19, 23.66s/it]\u001b[A"
     ]
    },
    {
     "name": "stdout",
     "output_type": "stream",
     "text": [
      "Task 6 completed with state COMPLETED: \n",
      "Polling for task (id: AB2C2UYI45MPYCOFUY65LEYC).\n",
      "Polling for task (id: AB2C2UYI45MPYCOFUY65LEYC).\n",
      "Polling for task (id: AB2C2UYI45MPYCOFUY65LEYC).\n",
      "Polling for task (id: AB2C2UYI45MPYCOFUY65LEYC).\n"
     ]
    },
    {
     "name": "stderr",
     "output_type": "stream",
     "text": [
      "\n",
      "Exporting Images:  13%|█▎        | 7/55 [02:43<18:51, 23.56s/it]\u001b[A"
     ]
    },
    {
     "name": "stdout",
     "output_type": "stream",
     "text": [
      "Task 7 completed with state COMPLETED: \n",
      "Polling for task (id: PFQH4QGNSP2J4YQXHWDCH4FV).\n",
      "Polling for task (id: PFQH4QGNSP2J4YQXHWDCH4FV).\n",
      "Polling for task (id: PFQH4QGNSP2J4YQXHWDCH4FV).\n",
      "Polling for task (id: PFQH4QGNSP2J4YQXHWDCH4FV).\n"
     ]
    },
    {
     "name": "stderr",
     "output_type": "stream",
     "text": [
      "\n",
      "Exporting Images:  15%|█▍        | 8/55 [03:06<18:24, 23.50s/it]\u001b[A"
     ]
    },
    {
     "name": "stdout",
     "output_type": "stream",
     "text": [
      "Task 8 completed with state COMPLETED: \n",
      "Polling for task (id: W3A44MCOJTBJERMEWWQMBDTC).\n",
      "Polling for task (id: W3A44MCOJTBJERMEWWQMBDTC).\n",
      "Polling for task (id: W3A44MCOJTBJERMEWWQMBDTC).\n"
     ]
    },
    {
     "name": "stderr",
     "output_type": "stream",
     "text": [
      "\n",
      "Exporting Images:  16%|█▋        | 9/55 [03:24<16:41, 21.78s/it]\u001b[A"
     ]
    },
    {
     "name": "stdout",
     "output_type": "stream",
     "text": [
      "Task 9 completed with state COMPLETED: \n",
      "Polling for task (id: 36A2GM6CRLITUPM6S2GLO622).\n",
      "Polling for task (id: 36A2GM6CRLITUPM6S2GLO622).\n",
      "Polling for task (id: 36A2GM6CRLITUPM6S2GLO622).\n",
      "Polling for task (id: 36A2GM6CRLITUPM6S2GLO622).\n",
      "Polling for task (id: 36A2GM6CRLITUPM6S2GLO622).\n"
     ]
    },
    {
     "name": "stderr",
     "output_type": "stream",
     "text": [
      "\n",
      "Exporting Images:  18%|█▊        | 10/55 [03:53<17:58, 23.96s/it]\u001b[A"
     ]
    },
    {
     "name": "stdout",
     "output_type": "stream",
     "text": [
      "Task 10 completed with state COMPLETED: \n",
      "Polling for task (id: VWKVLTEWW63FG2SPVQCYWFQ2).\n",
      "Polling for task (id: VWKVLTEWW63FG2SPVQCYWFQ2).\n",
      "Polling for task (id: VWKVLTEWW63FG2SPVQCYWFQ2).\n",
      "Polling for task (id: VWKVLTEWW63FG2SPVQCYWFQ2).\n"
     ]
    },
    {
     "name": "stderr",
     "output_type": "stream",
     "text": [
      "\n",
      "Exporting Images:  20%|██        | 11/55 [04:16<17:24, 23.74s/it]\u001b[A"
     ]
    },
    {
     "name": "stdout",
     "output_type": "stream",
     "text": [
      "Task 11 completed with state COMPLETED: \n",
      "Polling for task (id: XVHY32WMXK56CZKX3CP6KIWK).\n",
      "Polling for task (id: XVHY32WMXK56CZKX3CP6KIWK).\n",
      "Polling for task (id: XVHY32WMXK56CZKX3CP6KIWK).\n",
      "Polling for task (id: XVHY32WMXK56CZKX3CP6KIWK).\n"
     ]
    },
    {
     "name": "stderr",
     "output_type": "stream",
     "text": [
      "\n",
      "Exporting Images:  22%|██▏       | 12/55 [04:40<16:56, 23.63s/it]\u001b[A"
     ]
    },
    {
     "name": "stdout",
     "output_type": "stream",
     "text": [
      "Task 12 completed with state COMPLETED: \n",
      "Polling for task (id: M57O56IQAYJNS3NETWIAYIBT).\n",
      "Polling for task (id: M57O56IQAYJNS3NETWIAYIBT).\n",
      "Polling for task (id: M57O56IQAYJNS3NETWIAYIBT).\n",
      "Polling for task (id: M57O56IQAYJNS3NETWIAYIBT).\n"
     ]
    },
    {
     "name": "stderr",
     "output_type": "stream",
     "text": [
      "\n",
      "Exporting Images:  24%|██▎       | 13/55 [05:03<16:28, 23.53s/it]\u001b[A"
     ]
    },
    {
     "name": "stdout",
     "output_type": "stream",
     "text": [
      "Task 13 completed with state COMPLETED: \n",
      "Polling for task (id: OOO5PPOFGPKX676IMVRXNP3D).\n",
      "Polling for task (id: OOO5PPOFGPKX676IMVRXNP3D).\n",
      "Polling for task (id: OOO5PPOFGPKX676IMVRXNP3D).\n",
      "Polling for task (id: OOO5PPOFGPKX676IMVRXNP3D).\n"
     ]
    },
    {
     "name": "stderr",
     "output_type": "stream",
     "text": [
      "\n",
      "Exporting Images:  25%|██▌       | 14/55 [05:43<19:34, 28.64s/it]\u001b[A"
     ]
    },
    {
     "name": "stdout",
     "output_type": "stream",
     "text": [
      "Task 14 completed with state COMPLETED: \n",
      "Polling for task (id: XONXI7CSRC5XGSTISJR6QB6W).\n",
      "Polling for task (id: XONXI7CSRC5XGSTISJR6QB6W).\n",
      "Polling for task (id: XONXI7CSRC5XGSTISJR6QB6W).\n",
      "Polling for task (id: XONXI7CSRC5XGSTISJR6QB6W).\n"
     ]
    },
    {
     "name": "stderr",
     "output_type": "stream",
     "text": [
      "\n",
      "Exporting Images:  27%|██▋       | 15/55 [06:07<18:04, 27.11s/it]\u001b[A"
     ]
    },
    {
     "name": "stdout",
     "output_type": "stream",
     "text": [
      "Task 15 completed with state COMPLETED: \n",
      "Polling for task (id: DIX3SITFTQV47I5DFOC6MPYT).\n",
      "Polling for task (id: DIX3SITFTQV47I5DFOC6MPYT).\n",
      "Polling for task (id: DIX3SITFTQV47I5DFOC6MPYT).\n"
     ]
    },
    {
     "name": "stderr",
     "output_type": "stream",
     "text": [
      "\n",
      "Exporting Images:  29%|██▉       | 16/55 [06:25<15:51, 24.39s/it]\u001b[A"
     ]
    },
    {
     "name": "stdout",
     "output_type": "stream",
     "text": [
      "Task 16 completed with state COMPLETED: \n",
      "Polling for task (id: NTQFEWAR2TXJMCXZ3RMF5NOQ).\n",
      "Polling for task (id: NTQFEWAR2TXJMCXZ3RMF5NOQ).\n",
      "Polling for task (id: NTQFEWAR2TXJMCXZ3RMF5NOQ).\n",
      "Polling for task (id: NTQFEWAR2TXJMCXZ3RMF5NOQ).\n"
     ]
    },
    {
     "name": "stderr",
     "output_type": "stream",
     "text": [
      "\n",
      "Exporting Images:  31%|███       | 17/55 [06:48<15:13, 24.05s/it]\u001b[A"
     ]
    },
    {
     "name": "stdout",
     "output_type": "stream",
     "text": [
      "Task 17 completed with state COMPLETED: \n",
      "Polling for task (id: AMP66EPMPYOUV4FM2E7YMMOW).\n",
      "Polling for task (id: AMP66EPMPYOUV4FM2E7YMMOW).\n",
      "Polling for task (id: AMP66EPMPYOUV4FM2E7YMMOW).\n",
      "Polling for task (id: AMP66EPMPYOUV4FM2E7YMMOW).\n"
     ]
    },
    {
     "name": "stderr",
     "output_type": "stream",
     "text": [
      "\n",
      "Exporting Images:  33%|███▎      | 18/55 [07:12<14:42, 23.85s/it]\u001b[A"
     ]
    },
    {
     "name": "stdout",
     "output_type": "stream",
     "text": [
      "Task 18 completed with state COMPLETED: \n",
      "Polling for task (id: 7TA6WM2Y3ABORINQIIU2ZNMO).\n",
      "Polling for task (id: 7TA6WM2Y3ABORINQIIU2ZNMO).\n",
      "Polling for task (id: 7TA6WM2Y3ABORINQIIU2ZNMO).\n",
      "Polling for task (id: 7TA6WM2Y3ABORINQIIU2ZNMO).\n"
     ]
    },
    {
     "name": "stderr",
     "output_type": "stream",
     "text": [
      "\n",
      "Exporting Images:  35%|███▍      | 19/55 [07:35<14:14, 23.74s/it]\u001b[A"
     ]
    },
    {
     "name": "stdout",
     "output_type": "stream",
     "text": [
      "Task 19 completed with state COMPLETED: \n",
      "Polling for task (id: C4STRFD2IMW3PJJLVNHONUYD).\n",
      "Polling for task (id: C4STRFD2IMW3PJJLVNHONUYD).\n",
      "Polling for task (id: C4STRFD2IMW3PJJLVNHONUYD).\n",
      "Polling for task (id: C4STRFD2IMW3PJJLVNHONUYD).\n"
     ]
    },
    {
     "name": "stderr",
     "output_type": "stream",
     "text": [
      "\n",
      "Exporting Images:  36%|███▋      | 20/55 [07:59<13:49, 23.71s/it]\u001b[A"
     ]
    },
    {
     "name": "stdout",
     "output_type": "stream",
     "text": [
      "Task 20 completed with state COMPLETED: \n",
      "Polling for task (id: JTAHJJDOSK4EICE53STP2EEQ).\n",
      "Polling for task (id: JTAHJJDOSK4EICE53STP2EEQ).\n",
      "Polling for task (id: JTAHJJDOSK4EICE53STP2EEQ).\n",
      "Polling for task (id: JTAHJJDOSK4EICE53STP2EEQ).\n"
     ]
    },
    {
     "name": "stderr",
     "output_type": "stream",
     "text": [
      "\n",
      "Exporting Images:  38%|███▊      | 21/55 [08:22<13:22, 23.60s/it]\u001b[A"
     ]
    },
    {
     "name": "stdout",
     "output_type": "stream",
     "text": [
      "Task 21 completed with state COMPLETED: \n",
      "Polling for task (id: JLZWBCNGO56RZP6RXLWIOECV).\n",
      "Polling for task (id: JLZWBCNGO56RZP6RXLWIOECV).\n",
      "Polling for task (id: JLZWBCNGO56RZP6RXLWIOECV).\n",
      "Polling for task (id: JLZWBCNGO56RZP6RXLWIOECV).\n"
     ]
    },
    {
     "name": "stderr",
     "output_type": "stream",
     "text": [
      "\n",
      "Exporting Images:  40%|████      | 22/55 [08:46<12:58, 23.58s/it]\u001b[A"
     ]
    },
    {
     "name": "stdout",
     "output_type": "stream",
     "text": [
      "Task 22 completed with state COMPLETED: \n",
      "Polling for task (id: RRIASB4SRE4C2HDZXI3N5STC).\n",
      "Polling for task (id: RRIASB4SRE4C2HDZXI3N5STC).\n",
      "Polling for task (id: RRIASB4SRE4C2HDZXI3N5STC).\n",
      "Polling for task (id: RRIASB4SRE4C2HDZXI3N5STC).\n",
      "Polling for task (id: RRIASB4SRE4C2HDZXI3N5STC).\n",
      "Polling for task (id: RRIASB4SRE4C2HDZXI3N5STC).\n",
      "Polling for task (id: RRIASB4SRE4C2HDZXI3N5STC).\n",
      "Polling for task (id: RRIASB4SRE4C2HDZXI3N5STC).\n",
      "Polling for task (id: RRIASB4SRE4C2HDZXI3N5STC).\n"
     ]
    },
    {
     "name": "stderr",
     "output_type": "stream",
     "text": [
      "\n",
      "Exporting Images:  42%|████▏     | 23/55 [09:36<16:49, 31.56s/it]\u001b[A"
     ]
    },
    {
     "name": "stdout",
     "output_type": "stream",
     "text": [
      "Task 23 completed with state COMPLETED: \n",
      "Polling for task (id: TGMVLCCFSLXR27XRYOVXL76Z).\n",
      "Polling for task (id: TGMVLCCFSLXR27XRYOVXL76Z).\n",
      "Polling for task (id: TGMVLCCFSLXR27XRYOVXL76Z).\n",
      "Polling for task (id: TGMVLCCFSLXR27XRYOVXL76Z).\n"
     ]
    },
    {
     "name": "stderr",
     "output_type": "stream",
     "text": [
      "\n",
      "Exporting Images:  44%|████▎     | 24/55 [10:01<15:21, 29.72s/it]\u001b[A"
     ]
    },
    {
     "name": "stdout",
     "output_type": "stream",
     "text": [
      "Task 24 completed with state COMPLETED: \n",
      "Polling for task (id: YAHRYJTO2DMUAIFFQTSKEHX2).\n",
      "Polling for task (id: YAHRYJTO2DMUAIFFQTSKEHX2).\n",
      "Polling for task (id: YAHRYJTO2DMUAIFFQTSKEHX2).\n"
     ]
    },
    {
     "name": "stderr",
     "output_type": "stream",
     "text": [
      "\n",
      "Exporting Images:  45%|████▌     | 25/55 [10:19<13:06, 26.23s/it]\u001b[A"
     ]
    },
    {
     "name": "stdout",
     "output_type": "stream",
     "text": [
      "Task 25 completed with state COMPLETED: \n",
      "Polling for task (id: 65BD5SL2TR2SPM3I5TME6WQB).\n",
      "Polling for task (id: 65BD5SL2TR2SPM3I5TME6WQB).\n",
      "Polling for task (id: 65BD5SL2TR2SPM3I5TME6WQB).\n",
      "Polling for task (id: 65BD5SL2TR2SPM3I5TME6WQB).\n"
     ]
    },
    {
     "name": "stderr",
     "output_type": "stream",
     "text": [
      "\n",
      "Exporting Images:  47%|████▋     | 26/55 [10:43<12:15, 25.36s/it]\u001b[A"
     ]
    },
    {
     "name": "stdout",
     "output_type": "stream",
     "text": [
      "Task 26 completed with state COMPLETED: \n",
      "Polling for task (id: LZVO52TPK7UF5BJ7MW65QZBU).\n",
      "Polling for task (id: LZVO52TPK7UF5BJ7MW65QZBU).\n",
      "Polling for task (id: LZVO52TPK7UF5BJ7MW65QZBU).\n"
     ]
    },
    {
     "name": "stderr",
     "output_type": "stream",
     "text": [
      "\n",
      "Exporting Images:  49%|████▉     | 27/55 [11:01<10:50, 23.24s/it]\u001b[A"
     ]
    },
    {
     "name": "stdout",
     "output_type": "stream",
     "text": [
      "Task 27 completed with state COMPLETED: \n",
      "Polling for task (id: KKM6IZF4EIDGWUKT223D7EO5).\n",
      "Polling for task (id: KKM6IZF4EIDGWUKT223D7EO5).\n",
      "Polling for task (id: KKM6IZF4EIDGWUKT223D7EO5).\n"
     ]
    },
    {
     "name": "stderr",
     "output_type": "stream",
     "text": [
      "\n",
      "Exporting Images:  51%|█████     | 28/55 [11:20<09:50, 21.87s/it]\u001b[A"
     ]
    },
    {
     "name": "stdout",
     "output_type": "stream",
     "text": [
      "Task 28 completed with state COMPLETED: \n",
      "Polling for task (id: 2LFPYAMIYH7SK6NXOT772AC5).\n",
      "Polling for task (id: 2LFPYAMIYH7SK6NXOT772AC5).\n",
      "Polling for task (id: 2LFPYAMIYH7SK6NXOT772AC5).\n"
     ]
    },
    {
     "name": "stderr",
     "output_type": "stream",
     "text": [
      "\n",
      "Exporting Images:  53%|█████▎    | 29/55 [11:38<08:59, 20.77s/it]\u001b[A"
     ]
    },
    {
     "name": "stdout",
     "output_type": "stream",
     "text": [
      "Task 29 completed with state COMPLETED: \n",
      "Polling for task (id: PS75QFXBKBCZCBUGZEGXTBWF).\n",
      "Polling for task (id: PS75QFXBKBCZCBUGZEGXTBWF).\n",
      "Polling for task (id: PS75QFXBKBCZCBUGZEGXTBWF).\n"
     ]
    },
    {
     "name": "stderr",
     "output_type": "stream",
     "text": [
      "\n",
      "Exporting Images:  55%|█████▍    | 30/55 [11:56<08:20, 20.01s/it]\u001b[A"
     ]
    },
    {
     "name": "stdout",
     "output_type": "stream",
     "text": [
      "Task 30 completed with state COMPLETED: \n",
      "Polling for task (id: V2BZL7G7RVQAJ7RMIKMPQYZS).\n",
      "Polling for task (id: V2BZL7G7RVQAJ7RMIKMPQYZS).\n",
      "Polling for task (id: V2BZL7G7RVQAJ7RMIKMPQYZS).\n",
      "Polling for task (id: V2BZL7G7RVQAJ7RMIKMPQYZS).\n"
     ]
    },
    {
     "name": "stderr",
     "output_type": "stream",
     "text": [
      "\n",
      "Exporting Images:  56%|█████▋    | 31/55 [12:20<08:25, 21.05s/it]\u001b[A"
     ]
    },
    {
     "name": "stdout",
     "output_type": "stream",
     "text": [
      "Task 31 completed with state COMPLETED: \n",
      "Polling for task (id: 4QWPC32YS3TLFRIW3DZ5WPWI).\n",
      "Polling for task (id: 4QWPC32YS3TLFRIW3DZ5WPWI).\n",
      "Polling for task (id: 4QWPC32YS3TLFRIW3DZ5WPWI).\n",
      "Polling for task (id: 4QWPC32YS3TLFRIW3DZ5WPWI).\n"
     ]
    },
    {
     "name": "stderr",
     "output_type": "stream",
     "text": [
      "\n",
      "Exporting Images:  58%|█████▊    | 32/55 [12:43<08:20, 21.74s/it]\u001b[A"
     ]
    },
    {
     "name": "stdout",
     "output_type": "stream",
     "text": [
      "Task 32 completed with state COMPLETED: \n",
      "Polling for task (id: SV2KVKBX27ETWCU4X2IB3BM6).\n",
      "Polling for task (id: SV2KVKBX27ETWCU4X2IB3BM6).\n",
      "Polling for task (id: SV2KVKBX27ETWCU4X2IB3BM6).\n",
      "Polling for task (id: SV2KVKBX27ETWCU4X2IB3BM6).\n"
     ]
    },
    {
     "name": "stderr",
     "output_type": "stream",
     "text": [
      "\n",
      "Exporting Images:  60%|██████    | 33/55 [13:07<08:11, 22.32s/it]\u001b[A"
     ]
    },
    {
     "name": "stdout",
     "output_type": "stream",
     "text": [
      "Task 33 completed with state COMPLETED: \n",
      "Polling for task (id: KEPYAI7NSYZDLFFWP7MYH3DD).\n",
      "Polling for task (id: KEPYAI7NSYZDLFFWP7MYH3DD).\n",
      "Polling for task (id: KEPYAI7NSYZDLFFWP7MYH3DD).\n"
     ]
    },
    {
     "name": "stderr",
     "output_type": "stream",
     "text": [
      "\n",
      "Exporting Images:  62%|██████▏   | 34/55 [13:25<07:22, 21.09s/it]\u001b[A"
     ]
    },
    {
     "name": "stdout",
     "output_type": "stream",
     "text": [
      "Task 34 completed with state COMPLETED: \n",
      "Polling for task (id: M3DDTZEZZJ5E4TGYQ5YY4Y7J).\n",
      "Polling for task (id: M3DDTZEZZJ5E4TGYQ5YY4Y7J).\n",
      "Polling for task (id: M3DDTZEZZJ5E4TGYQ5YY4Y7J).\n",
      "Polling for task (id: M3DDTZEZZJ5E4TGYQ5YY4Y7J).\n"
     ]
    },
    {
     "name": "stderr",
     "output_type": "stream",
     "text": [
      "\n",
      "Exporting Images:  64%|██████▎   | 35/55 [13:48<07:15, 21.79s/it]\u001b[A"
     ]
    },
    {
     "name": "stdout",
     "output_type": "stream",
     "text": [
      "Task 35 completed with state COMPLETED: \n",
      "Polling for task (id: HV3VZZ2SJM62KNQ3MI6GFVON).\n",
      "Polling for task (id: HV3VZZ2SJM62KNQ3MI6GFVON).\n",
      "Polling for task (id: HV3VZZ2SJM62KNQ3MI6GFVON).\n"
     ]
    },
    {
     "name": "stderr",
     "output_type": "stream",
     "text": [
      "\n",
      "Exporting Images:  65%|██████▌   | 36/55 [14:06<06:33, 20.69s/it]\u001b[A"
     ]
    },
    {
     "name": "stdout",
     "output_type": "stream",
     "text": [
      "Task 36 completed with state COMPLETED: \n",
      "Polling for task (id: GILFYSUQ5TGLBLGLPP2VP3HA).\n",
      "Polling for task (id: GILFYSUQ5TGLBLGLPP2VP3HA).\n",
      "Polling for task (id: GILFYSUQ5TGLBLGLPP2VP3HA).\n"
     ]
    },
    {
     "name": "stderr",
     "output_type": "stream",
     "text": [
      "\n",
      "Exporting Images:  67%|██████▋   | 37/55 [14:27<06:09, 20.53s/it]\u001b[A"
     ]
    },
    {
     "name": "stdout",
     "output_type": "stream",
     "text": [
      "Task 37 completed with state COMPLETED: \n",
      "Polling for task (id: 5F4BLSOBZ6G3IYY7QCWN5DQT).\n",
      "Polling for task (id: 5F4BLSOBZ6G3IYY7QCWN5DQT).\n",
      "Polling for task (id: 5F4BLSOBZ6G3IYY7QCWN5DQT).\n",
      "Polling for task (id: 5F4BLSOBZ6G3IYY7QCWN5DQT).\n"
     ]
    },
    {
     "name": "stderr",
     "output_type": "stream",
     "text": [
      "\n",
      "Exporting Images:  69%|██████▉   | 38/55 [14:50<06:02, 21.34s/it]\u001b[A"
     ]
    },
    {
     "name": "stdout",
     "output_type": "stream",
     "text": [
      "Task 38 completed with state COMPLETED: \n",
      "Polling for task (id: SBATKDVSUL5QO7X2Y2S7OP6Y).\n",
      "Polling for task (id: SBATKDVSUL5QO7X2Y2S7OP6Y).\n",
      "Polling for task (id: SBATKDVSUL5QO7X2Y2S7OP6Y).\n"
     ]
    },
    {
     "name": "stderr",
     "output_type": "stream",
     "text": [
      "\n",
      "Exporting Images:  71%|███████   | 39/55 [15:08<05:25, 20.34s/it]\u001b[A"
     ]
    },
    {
     "name": "stdout",
     "output_type": "stream",
     "text": [
      "Task 39 completed with state COMPLETED: \n",
      "Polling for task (id: Z7W4WWEZIBR3NMD2ZB4D4GMN).\n",
      "Polling for task (id: Z7W4WWEZIBR3NMD2ZB4D4GMN).\n",
      "Polling for task (id: Z7W4WWEZIBR3NMD2ZB4D4GMN).\n",
      "Polling for task (id: Z7W4WWEZIBR3NMD2ZB4D4GMN).\n"
     ]
    },
    {
     "name": "stderr",
     "output_type": "stream",
     "text": [
      "\n",
      "Exporting Images:  73%|███████▎  | 40/55 [15:31<05:18, 21.24s/it]\u001b[A"
     ]
    },
    {
     "name": "stdout",
     "output_type": "stream",
     "text": [
      "Task 40 completed with state COMPLETED: \n",
      "Polling for task (id: W5IFCQEURPC6HFOFJIUEJMUM).\n",
      "Polling for task (id: W5IFCQEURPC6HFOFJIUEJMUM).\n",
      "Polling for task (id: W5IFCQEURPC6HFOFJIUEJMUM).\n"
     ]
    },
    {
     "name": "stderr",
     "output_type": "stream",
     "text": [
      "\n",
      "Exporting Images:  75%|███████▍  | 41/55 [15:49<04:43, 20.26s/it]\u001b[A"
     ]
    },
    {
     "name": "stdout",
     "output_type": "stream",
     "text": [
      "Task 41 completed with state COMPLETED: \n",
      "Polling for task (id: TAWZVHJTILGCPIJEQPIRPNZA).\n",
      "Polling for task (id: TAWZVHJTILGCPIJEQPIRPNZA).\n",
      "Polling for task (id: TAWZVHJTILGCPIJEQPIRPNZA).\n"
     ]
    },
    {
     "name": "stderr",
     "output_type": "stream",
     "text": [
      "\n",
      "Exporting Images:  76%|███████▋  | 42/55 [16:07<04:14, 19.57s/it]\u001b[A"
     ]
    },
    {
     "name": "stdout",
     "output_type": "stream",
     "text": [
      "Task 42 completed with state COMPLETED: \n",
      "Polling for task (id: QGT2XLAXU4KREABITTY5YCFT).\n",
      "Polling for task (id: QGT2XLAXU4KREABITTY5YCFT).\n",
      "Polling for task (id: QGT2XLAXU4KREABITTY5YCFT).\n"
     ]
    },
    {
     "name": "stderr",
     "output_type": "stream",
     "text": [
      "\n",
      "Exporting Images:  78%|███████▊  | 43/55 [16:25<03:49, 19.15s/it]\u001b[A"
     ]
    },
    {
     "name": "stdout",
     "output_type": "stream",
     "text": [
      "Task 43 completed with state COMPLETED: \n",
      "Polling for task (id: BN2UGXJKNCWIZB5FDIAK5JY6).\n",
      "Polling for task (id: BN2UGXJKNCWIZB5FDIAK5JY6).\n",
      "Polling for task (id: BN2UGXJKNCWIZB5FDIAK5JY6).\n",
      "Polling for task (id: BN2UGXJKNCWIZB5FDIAK5JY6).\n",
      "Polling for task (id: BN2UGXJKNCWIZB5FDIAK5JY6).\n"
     ]
    },
    {
     "name": "stderr",
     "output_type": "stream",
     "text": [
      "\n",
      "Exporting Images:  80%|████████  | 44/55 [16:54<04:01, 21.99s/it]\u001b[A"
     ]
    },
    {
     "name": "stdout",
     "output_type": "stream",
     "text": [
      "Task 44 completed with state COMPLETED: \n",
      "Polling for task (id: L6N4WFL4SFESTKAPQKFNB7R7).\n",
      "Polling for task (id: L6N4WFL4SFESTKAPQKFNB7R7).\n",
      "Polling for task (id: L6N4WFL4SFESTKAPQKFNB7R7).\n"
     ]
    },
    {
     "name": "stderr",
     "output_type": "stream",
     "text": [
      "\n",
      "Exporting Images:  82%|████████▏ | 45/55 [17:12<03:28, 20.86s/it]\u001b[A"
     ]
    },
    {
     "name": "stdout",
     "output_type": "stream",
     "text": [
      "Task 45 completed with state COMPLETED: \n",
      "Polling for task (id: UULQZ6L7GWS3RIR5POAWV4T6).\n",
      "Polling for task (id: UULQZ6L7GWS3RIR5POAWV4T6).\n",
      "Polling for task (id: UULQZ6L7GWS3RIR5POAWV4T6).\n"
     ]
    },
    {
     "name": "stderr",
     "output_type": "stream",
     "text": [
      "\n",
      "Exporting Images:  84%|████████▎ | 46/55 [17:30<03:00, 20.00s/it]\u001b[A"
     ]
    },
    {
     "name": "stdout",
     "output_type": "stream",
     "text": [
      "Task 46 completed with state COMPLETED: \n",
      "Polling for task (id: V6BSB4TGTDT22UYKDWN55K3A).\n",
      "Polling for task (id: V6BSB4TGTDT22UYKDWN55K3A).\n",
      "Polling for task (id: V6BSB4TGTDT22UYKDWN55K3A).\n"
     ]
    },
    {
     "name": "stderr",
     "output_type": "stream",
     "text": [
      "\n",
      "Exporting Images:  85%|████████▌ | 47/55 [17:48<02:35, 19.41s/it]\u001b[A"
     ]
    },
    {
     "name": "stdout",
     "output_type": "stream",
     "text": [
      "Task 47 completed with state COMPLETED: \n",
      "Polling for task (id: S7S7IVLO4ACAAVTAPZYSDX6C).\n",
      "Polling for task (id: S7S7IVLO4ACAAVTAPZYSDX6C).\n",
      "Polling for task (id: S7S7IVLO4ACAAVTAPZYSDX6C).\n"
     ]
    },
    {
     "name": "stderr",
     "output_type": "stream",
     "text": [
      "\n",
      "Exporting Images:  87%|████████▋ | 48/55 [18:06<02:13, 19.02s/it]\u001b[A"
     ]
    },
    {
     "name": "stdout",
     "output_type": "stream",
     "text": [
      "Task 48 completed with state COMPLETED: \n",
      "Polling for task (id: 2KUCDHA54WHXQWFY66YPNIWW).\n",
      "Polling for task (id: 2KUCDHA54WHXQWFY66YPNIWW).\n",
      "Polling for task (id: 2KUCDHA54WHXQWFY66YPNIWW).\n"
     ]
    },
    {
     "name": "stderr",
     "output_type": "stream",
     "text": [
      "\n",
      "Exporting Images:  89%|████████▉ | 49/55 [18:24<01:52, 18.69s/it]\u001b[A"
     ]
    },
    {
     "name": "stdout",
     "output_type": "stream",
     "text": [
      "Task 49 completed with state COMPLETED: \n",
      "Polling for task (id: ECIZUYOBZBEMHG5JDRHBLAJZ).\n",
      "Polling for task (id: ECIZUYOBZBEMHG5JDRHBLAJZ).\n",
      "Polling for task (id: ECIZUYOBZBEMHG5JDRHBLAJZ).\n"
     ]
    },
    {
     "name": "stderr",
     "output_type": "stream",
     "text": [
      "\n",
      "Exporting Images:  91%|█████████ | 50/55 [18:42<01:32, 18.50s/it]\u001b[A"
     ]
    },
    {
     "name": "stdout",
     "output_type": "stream",
     "text": [
      "Task 50 completed with state COMPLETED: \n",
      "Polling for task (id: NOSHLBKTU5TE35GE6SJO3HGW).\n",
      "Polling for task (id: NOSHLBKTU5TE35GE6SJO3HGW).\n",
      "Polling for task (id: NOSHLBKTU5TE35GE6SJO3HGW).\n",
      "Polling for task (id: NOSHLBKTU5TE35GE6SJO3HGW).\n"
     ]
    },
    {
     "name": "stderr",
     "output_type": "stream",
     "text": [
      "\n",
      "Exporting Images:  93%|█████████▎| 51/55 [19:06<01:20, 20.00s/it]\u001b[A"
     ]
    },
    {
     "name": "stdout",
     "output_type": "stream",
     "text": [
      "Task 51 completed with state COMPLETED: \n",
      "Polling for task (id: OM4XTYAWQTKGTT6OGVMYUUR6).\n",
      "Polling for task (id: OM4XTYAWQTKGTT6OGVMYUUR6).\n",
      "Polling for task (id: OM4XTYAWQTKGTT6OGVMYUUR6).\n",
      "Polling for task (id: OM4XTYAWQTKGTT6OGVMYUUR6).\n"
     ]
    },
    {
     "name": "stderr",
     "output_type": "stream",
     "text": [
      "\n",
      "Exporting Images:  95%|█████████▍| 52/55 [19:29<01:02, 20.99s/it]\u001b[A"
     ]
    },
    {
     "name": "stdout",
     "output_type": "stream",
     "text": [
      "Task 52 completed with state COMPLETED: \n",
      "Polling for task (id: YAMROH7QL2SZ67ZCFWUAK4R4).\n",
      "Polling for task (id: YAMROH7QL2SZ67ZCFWUAK4R4).\n",
      "Polling for task (id: YAMROH7QL2SZ67ZCFWUAK4R4).\n",
      "Polling for task (id: YAMROH7QL2SZ67ZCFWUAK4R4).\n"
     ]
    },
    {
     "name": "stderr",
     "output_type": "stream",
     "text": [
      "\n",
      "Exporting Images:  96%|█████████▋| 53/55 [19:52<00:43, 21.73s/it]\u001b[A"
     ]
    },
    {
     "name": "stdout",
     "output_type": "stream",
     "text": [
      "Task 53 completed with state COMPLETED: \n",
      "Polling for task (id: 2Y34M7VK6EN5KJS4VP6YL5F7).\n",
      "Polling for task (id: 2Y34M7VK6EN5KJS4VP6YL5F7).\n",
      "Polling for task (id: 2Y34M7VK6EN5KJS4VP6YL5F7).\n",
      "Polling for task (id: 2Y34M7VK6EN5KJS4VP6YL5F7).\n"
     ]
    },
    {
     "name": "stderr",
     "output_type": "stream",
     "text": [
      "\n",
      "Exporting Images:  98%|█████████▊| 54/55 [20:16<00:22, 22.20s/it]\u001b[A"
     ]
    },
    {
     "name": "stdout",
     "output_type": "stream",
     "text": [
      "Task 54 completed with state COMPLETED: \n",
      "Polling for task (id: 4XLHAKWNBZVCDXJH3D2KLYQL).\n",
      "Polling for task (id: 4XLHAKWNBZVCDXJH3D2KLYQL).\n",
      "Polling for task (id: 4XLHAKWNBZVCDXJH3D2KLYQL).\n"
     ]
    },
    {
     "name": "stderr",
     "output_type": "stream",
     "text": [
      "\n",
      "Exporting Images: 100%|██████████| 55/55 [20:34<00:00, 22.44s/it]\u001b[A\n",
      "100%|██████████| 2/2 [41:38<00:00, 1249.19s/it]"
     ]
    },
    {
     "name": "stdout",
     "output_type": "stream",
     "text": [
      "Task 55 completed with state COMPLETED: \n"
     ]
    },
    {
     "name": "stderr",
     "output_type": "stream",
     "text": [
      "\n"
     ]
    }
   ],
   "source": [
    "for zone in tqdm(ZONES):\n",
    "    shapefile_path = f\"/vsizip/../shape_files/zone_{zone}.zip/layers/POLYGON.shp\"\n",
    "    gdf = gpd.read_file(shapefile_path)\n",
    "    roi = geemap.gdf_to_ee(gdf)\n",
    "\n",
    "    COLLECTION = ee.ImageCollection(DATASET_NAME)\n",
    "\n",
    "    FILTERED = COLLECTION.filter(ee.Filter.date(START_DATE, END_DATE)).filter(ee.Filter.bounds(roi.geometry())) #.median()\n",
    "\n",
    "    # Apply the expression\n",
    "    SAVI_COLLECTION = FILTERED.map(cal_savi)\n",
    "    \n",
    "    # Clip\n",
    "    SAVI_CLIPED = SAVI_COLLECTION.map(clip_image)\n",
    "    \n",
    "    # Median\n",
    "    MEDIAN = SAVI_CLIPED.median()\n",
    "\n",
    "    # EXPORTING THE MEDIAN IMAGE\n",
    "    print(f\"EXPORTING MEDIAN IMAGES FOR Zone {zone}\")\n",
    "    task_median = ee.batch.Export.image.toDrive(\n",
    "        image=MEDIAN,  # Bands\n",
    "        description=f\"Median_Image_Zone{zone}\",\n",
    "        fileNamePrefix=f\"zone{zone}_savi_median_{START_DATE}_{END_DATE}\",\n",
    "        folder=f\"savi_roi_median_30m\",\n",
    "        scale=SCALE,\n",
    "        region=roi.geometry().getInfo()[\"coordinates\"],\n",
    "        maxPixels=MAXPIXELS\n",
    "    )\n",
    "    \n",
    "    task_median.start()\n",
    "    while task_median.active():\n",
    "        print(\"Polling for task (id: {}).\".format(task_median.id))\n",
    "        time.sleep(5)  # Poll every 5 seconds\n",
    "\n",
    "    \n",
    "    print(f\"Task for Zone {zone} median image download completed with state {task_median.status()['state']}: \")\n",
    "\n",
    "    # EXPORTING ALL IMAGES WITH 30m RESOLUTION (refer to dataset)\n",
    "    print(\"#\" * 50)\n",
    "    print(f\"EXPORTING ALL IMAGES FOR Zone {zone}\")\n",
    "    image_ids = SAVI_CLIPED.aggregate_array(\"system:index\").getInfo()\n",
    "    print(\"#\" * 50)\n",
    "    print(\"Total Images: \", len(image_ids))\n",
    "    print(\"#\" * 50)\n",
    "\n",
    "    for i, image_id in enumerate(tqdm(image_ids, desc=\"Exporting Images\")):\n",
    "        image = ee.Image(SAVI_CLIPED.filter(ee.Filter.eq(\"system:index\", image_id)).first())\n",
    "        task = ee.batch.Export.image.toDrive(\n",
    "        **{\n",
    "            \"image\": image,\n",
    "            \"description\": \"Image Export {}\".format(i + 1),\n",
    "            \"fileNamePrefix\": f\"zone{zone}_savi_{image.id().getInfo()}\",\n",
    "            \"folder\": f\"savi_roi_30m\",\n",
    "            \"scale\": SCALE,\n",
    "            \"region\": roi.geometry().getInfo()[\"coordinates\"], # Use ROI geometry\n",
    "            # \"region\": image.geometry().bounds().getInfo()[\"coordinates\"],\n",
    "            \"maxPixels\": MAXPIXELS,\n",
    "        })\n",
    "        task.start()\n",
    "        # Monitor the task\n",
    "        while task.active():\n",
    "            print(\"Polling for task (id: {}).\".format(task.id))\n",
    "            time.sleep(5)  # Poll every 5 seconds\n",
    "        \n",
    "        print(f\"Task {i + 1} completed with state {task.status()['state']}: \")    "
   ]
  },
  {
   "cell_type": "code",
   "execution_count": null,
   "metadata": {},
   "outputs": [],
   "source": []
  }
 ],
 "metadata": {
  "kernelspec": {
   "display_name": "ipaua",
   "language": "python",
   "name": "ipaua"
  },
  "language_info": {
   "codemirror_mode": {
    "name": "ipython",
    "version": 3
   },
   "file_extension": ".py",
   "mimetype": "text/x-python",
   "name": "python",
   "nbconvert_exporter": "python",
   "pygments_lexer": "ipython3",
   "version": "3.9.18"
  }
 },
 "nbformat": 4,
 "nbformat_minor": 4
}
