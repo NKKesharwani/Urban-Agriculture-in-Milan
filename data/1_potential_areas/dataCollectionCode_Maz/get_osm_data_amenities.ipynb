{
 "cells": [
  {
   "cell_type": "code",
   "execution_count": 2,
   "id": "f35e65c9-f843-4721-ab5e-1ab5cc71d7f9",
   "metadata": {
    "tags": []
   },
   "outputs": [],
   "source": [
    "import geopandas as gpd\n",
    "from tqdm import tqdm\n",
    "import osmnx as ox"
   ]
  },
  {
   "cell_type": "code",
   "execution_count": 3,
   "id": "81e9d0ad-dadc-448e-81e2-a65dbc023fff",
   "metadata": {
    "tags": []
   },
   "outputs": [],
   "source": [
    "zones = [4]  # List of zones"
   ]
  },
  {
   "cell_type": "markdown",
   "id": "53db79fb-a45c-42c9-b40a-084a48e43745",
   "metadata": {},
   "source": [
    "#### Get OSM Data"
   ]
  },
  {
   "cell_type": "code",
   "execution_count": 4,
   "id": "d41cda55-d992-4f51-8471-34f793a07476",
   "metadata": {},
   "outputs": [
    {
     "name": "stderr",
     "output_type": "stream",
     "text": [
      "  0%|          | 0/1 [00:00<?, ?it/s]C:\\Users\\maz\\AppData\\Local\\Temp\\ipykernel_16036\\1646220904.py:17: FutureWarning: The `north`, `south`, `east`, and `west` parameters are deprecated and will be removed in the v2.0.0 release. Use the `bbox` parameter instead. See the OSMnx v2 migration guide: https://github.com/gboeing/osmnx/issues/1123\n",
      "  gdf_amenities = ox.features_from_bbox(bbox[3], bbox[1], bbox[2], bbox[0], tags=tags)\n",
      "100%|██████████| 1/1 [00:01<00:00,  1.26s/it]\n"
     ]
    }
   ],
   "source": [
    "for zone in tqdm(zones):\n",
    "    shapefile_path = f\"/vsizip/../shape_files/zone_{zone}.zip/layers/POLYGON.shp\"\n",
    "    gdf_shape = gpd.read_file(shapefile_path)\n",
    "    # roi = geemap.gdf_to_ee(gdf)\n",
    "    \n",
    "    # Explicitly set the CRS if it's not already set\n",
    "    if gdf_shape.crs is None:\n",
    "        gdf_shape.set_crs(\"EPSG:4326\", inplace=True)\n",
    "    else:\n",
    "        gdf_shape = gdf_shape.to_crs(\"EPSG:4326\")\n",
    "    \n",
    "    # Get the bounding box of the shapefile to filter OSM data\n",
    "    bbox = gdf_shape.total_bounds  # [minx, miny, maxx, maxy]\n",
    "\n",
    "    # Get amenities data within the bounding box\n",
    "    tags = {'amenity': True}\n",
    "    gdf_amenities = ox.features_from_bbox(bbox[3], bbox[1], bbox[2], bbox[0], tags=tags)\n",
    "\n",
    "    # Filter amenities to be within the actual shapefile (if needed)\n",
    "    gdf_amenities = gdf_amenities[gdf_amenities.within(gdf_shape.unary_union)]\n",
    "\n",
    "    # Keep only relevant columns\n",
    "    gdf_amenities = gdf_amenities[['amenity', 'geometry']]"
   ]
  },
  {
   "cell_type": "code",
   "execution_count": 5,
   "id": "803bb05e-075f-4662-9551-47807289122e",
   "metadata": {},
   "outputs": [
    {
     "name": "stdout",
     "output_type": "stream",
     "text": [
      "<class 'geopandas.geodataframe.GeoDataFrame'>\n",
      "MultiIndex: 1931 entries, ('node', 227012097) to ('relation', 15969010)\n",
      "Data columns (total 2 columns):\n",
      " #   Column    Non-Null Count  Dtype   \n",
      "---  ------    --------------  -----   \n",
      " 0   amenity   1931 non-null   object  \n",
      " 1   geometry  1931 non-null   geometry\n",
      "dtypes: geometry(1), object(1)\n",
      "memory usage: 193.0+ KB\n"
     ]
    }
   ],
   "source": [
    "gdf_amenities.info()"
   ]
  },
  {
   "cell_type": "code",
   "execution_count": 6,
   "id": "503ff4a8-8b83-4e47-859e-7a0ce584d82b",
   "metadata": {},
   "outputs": [
    {
     "data": {
      "text/html": [
       "<div>\n",
       "<style scoped>\n",
       "    .dataframe tbody tr th:only-of-type {\n",
       "        vertical-align: middle;\n",
       "    }\n",
       "\n",
       "    .dataframe tbody tr th {\n",
       "        vertical-align: top;\n",
       "    }\n",
       "\n",
       "    .dataframe thead th {\n",
       "        text-align: right;\n",
       "    }\n",
       "</style>\n",
       "<table border=\"1\" class=\"dataframe\">\n",
       "  <thead>\n",
       "    <tr style=\"text-align: right;\">\n",
       "      <th></th>\n",
       "      <th></th>\n",
       "      <th>amenity</th>\n",
       "      <th>geometry</th>\n",
       "    </tr>\n",
       "    <tr>\n",
       "      <th>element_type</th>\n",
       "      <th>osmid</th>\n",
       "      <th></th>\n",
       "      <th></th>\n",
       "    </tr>\n",
       "  </thead>\n",
       "  <tbody>\n",
       "    <tr>\n",
       "      <th rowspan=\"5\" valign=\"top\">node</th>\n",
       "      <th>227012097</th>\n",
       "      <td>fuel</td>\n",
       "      <td>POINT (9.25439 45.45311)</td>\n",
       "    </tr>\n",
       "    <tr>\n",
       "      <th>227511523</th>\n",
       "      <td>fuel</td>\n",
       "      <td>POINT (9.22903 45.46077)</td>\n",
       "    </tr>\n",
       "    <tr>\n",
       "      <th>227516864</th>\n",
       "      <td>fuel</td>\n",
       "      <td>POINT (9.23171 45.43588)</td>\n",
       "    </tr>\n",
       "    <tr>\n",
       "      <th>227519400</th>\n",
       "      <td>fuel</td>\n",
       "      <td>POINT (9.22645 45.45600)</td>\n",
       "    </tr>\n",
       "    <tr>\n",
       "      <th>227519402</th>\n",
       "      <td>fuel</td>\n",
       "      <td>POINT (9.24111 45.45692)</td>\n",
       "    </tr>\n",
       "  </tbody>\n",
       "</table>\n",
       "</div>"
      ],
      "text/plain": [
       "                       amenity                  geometry\n",
       "element_type osmid                                      \n",
       "node         227012097    fuel  POINT (9.25439 45.45311)\n",
       "             227511523    fuel  POINT (9.22903 45.46077)\n",
       "             227516864    fuel  POINT (9.23171 45.43588)\n",
       "             227519400    fuel  POINT (9.22645 45.45600)\n",
       "             227519402    fuel  POINT (9.24111 45.45692)"
      ]
     },
     "execution_count": 6,
     "metadata": {},
     "output_type": "execute_result"
    }
   ],
   "source": [
    "gdf_amenities.head()"
   ]
  },
  {
   "cell_type": "code",
   "execution_count": 7,
   "id": "480bd450-4f82-4ed3-a6e0-231ffd76cf79",
   "metadata": {},
   "outputs": [
    {
     "data": {
      "text/plain": [
       "array(['fuel', 'recycling', 'pharmacy', 'telephone', 'clinic', 'cafe',\n",
       "       'pub', 'restaurant', 'drinking_water', 'toilets', 'police', 'bank',\n",
       "       'theatre', 'library', 'cinema', 'fast_food', 'bar', 'post_office',\n",
       "       'parking_entrance', 'parking', 'vending_machine', 'post_box',\n",
       "       'bench', 'bicycle_parking', 'atm', 'bicycle_rental', 'taxi',\n",
       "       'nightclub', 'car_rental', 'ice_cream', 'fountain', 'townhall',\n",
       "       'arts_centre', 'motorcycle_parking', 'veterinary', 'doctors',\n",
       "       'waste_basket', 'clock', 'community_centre', 'social_facility',\n",
       "       'car_wash', 'childcare', 'college', 'school', 'kindergarten',\n",
       "       'dentist', 'bicycle_repair_station', 'parcel_locker',\n",
       "       'driving_school', 'ticket_validator', 'photo_booth', 'lounge',\n",
       "       'charging_station', 'scooter_sharing', 'shelter', 'hospital',\n",
       "       'parking_space', 'waste_disposal', 'stripclub', 'animal_boarding',\n",
       "       'animal_shelter', 'social_centre', 'marketplace',\n",
       "       'place_of_worship', 'bus_station', 'fire_station', 'courthouse',\n",
       "       'studio', 'crematorium', 'student_accommodation', 'university'],\n",
       "      dtype=object)"
      ]
     },
     "execution_count": 7,
     "metadata": {},
     "output_type": "execute_result"
    }
   ],
   "source": [
    "gdf_amenities.amenity.unique()"
   ]
  },
  {
   "cell_type": "code",
   "execution_count": null,
   "id": "4582fe77-bfe9-4304-a287-ca7459b779e0",
   "metadata": {},
   "outputs": [],
   "source": []
  }
 ],
 "metadata": {
  "kernelspec": {
   "display_name": "ipaua",
   "language": "python",
   "name": "ipaua"
  },
  "language_info": {
   "codemirror_mode": {
    "name": "ipython",
    "version": 3
   },
   "file_extension": ".py",
   "mimetype": "text/x-python",
   "name": "python",
   "nbconvert_exporter": "python",
   "pygments_lexer": "ipython3",
   "version": "3.9.18"
  }
 },
 "nbformat": 4,
 "nbformat_minor": 5
}
