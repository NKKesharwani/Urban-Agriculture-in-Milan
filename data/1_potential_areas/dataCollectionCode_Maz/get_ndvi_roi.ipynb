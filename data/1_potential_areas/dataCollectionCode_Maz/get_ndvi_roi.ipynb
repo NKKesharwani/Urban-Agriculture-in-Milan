{
 "cells": [
  {
   "cell_type": "markdown",
   "id": "b3e348e6-aeab-4c9a-8ed8-9735d880e1d0",
   "metadata": {},
   "source": [
    "### GET NDVI Image Collection"
   ]
  },
  {
   "cell_type": "markdown",
   "id": "5ed090a2-0aba-4d58-b455-3e8ec38c5f8d",
   "metadata": {},
   "source": [
    "Dataset Used: https://developers.google.com/earth-engine/datasets/catalog/COPERNICUS_S2_HARMONIZED#bands"
   ]
  },
  {
   "cell_type": "markdown",
   "id": "2bb95103-730e-4312-8375-0e60c413391d",
   "metadata": {},
   "source": [
    "#### Imports"
   ]
  },
  {
   "cell_type": "code",
   "execution_count": 1,
   "id": "4ca24550-2a16-4cc7-8945-602611f00570",
   "metadata": {},
   "outputs": [],
   "source": [
    "import time\n",
    "from tqdm import tqdm\n",
    "import ee\n",
    "import geemap\n",
    "import geopandas as gpd\n",
    "import pandas as pd"
   ]
  },
  {
   "cell_type": "markdown",
   "id": "02930b5c-747e-4ff0-8813-5b788e2cdaff",
   "metadata": {},
   "source": [
    "#### Authentication and Initialize"
   ]
  },
  {
   "cell_type": "code",
   "execution_count": 2,
   "id": "10f47078-49c9-48f5-998a-72ad92787358",
   "metadata": {},
   "outputs": [
    {
     "data": {
      "text/html": [
       "\n",
       "            <style>\n",
       "                .geemap-dark {\n",
       "                    --jp-widgets-color: white;\n",
       "                    --jp-widgets-label-color: white;\n",
       "                    --jp-ui-font-color1: white;\n",
       "                    --jp-layout-color2: #454545;\n",
       "                    background-color: #383838;\n",
       "                }\n",
       "\n",
       "                .geemap-dark .jupyter-button {\n",
       "                    --jp-layout-color3: #383838;\n",
       "                }\n",
       "\n",
       "                .geemap-colab {\n",
       "                    background-color: var(--colab-primary-surface-color, white);\n",
       "                }\n",
       "\n",
       "                .geemap-colab .jupyter-button {\n",
       "                    --jp-layout-color3: var(--colab-primary-surface-color, white);\n",
       "                }\n",
       "            </style>\n",
       "            "
      ],
      "text/plain": [
       "<IPython.core.display.HTML object>"
      ]
     },
     "metadata": {},
     "output_type": "display_data"
    }
   ],
   "source": [
    "ee.Authenticate()\n",
    "ee.Initialize()"
   ]
  },
  {
   "cell_type": "markdown",
   "id": "b5d7c357-4e32-444c-a59c-6e889707de67",
   "metadata": {},
   "source": [
    "#### VARS"
   ]
  },
  {
   "cell_type": "code",
   "execution_count": 5,
   "id": "a246a28d-49a4-43e0-97f6-9ca740600a1d",
   "metadata": {},
   "outputs": [
    {
     "data": {
      "text/html": [
       "\n",
       "            <style>\n",
       "                .geemap-dark {\n",
       "                    --jp-widgets-color: white;\n",
       "                    --jp-widgets-label-color: white;\n",
       "                    --jp-ui-font-color1: white;\n",
       "                    --jp-layout-color2: #454545;\n",
       "                    background-color: #383838;\n",
       "                }\n",
       "\n",
       "                .geemap-dark .jupyter-button {\n",
       "                    --jp-layout-color3: #383838;\n",
       "                }\n",
       "\n",
       "                .geemap-colab {\n",
       "                    background-color: var(--colab-primary-surface-color, white);\n",
       "                }\n",
       "\n",
       "                .geemap-colab .jupyter-button {\n",
       "                    --jp-layout-color3: var(--colab-primary-surface-color, white);\n",
       "                }\n",
       "            </style>\n",
       "            "
      ],
      "text/plain": [
       "<IPython.core.display.HTML object>"
      ]
     },
     "metadata": {},
     "output_type": "display_data"
    }
   ],
   "source": [
    "DATASET_NAME = \"COPERNICUS/S2_HARMONIZED\"\n",
    "START_DATE = \"2023-01-01\"\n",
    "END_DATE = \"2024-01-01\"\n",
    "BANDS = [\"B4\", \"B3\", \"B2\"]\n",
    "SCALE = 10\n",
    "# zones = range(2, 10)\n",
    "zones = [4, 9]"
   ]
  },
  {
   "cell_type": "markdown",
   "id": "7c9a2ff5-1f41-47ab-aaf9-34a8e2150962",
   "metadata": {},
   "source": [
    "#### Functions"
   ]
  },
  {
   "cell_type": "code",
   "execution_count": 4,
   "id": "446e0558-b428-461f-9ccf-3a1468b84635",
   "metadata": {},
   "outputs": [
    {
     "data": {
      "text/html": [
       "\n",
       "            <style>\n",
       "                .geemap-dark {\n",
       "                    --jp-widgets-color: white;\n",
       "                    --jp-widgets-label-color: white;\n",
       "                    --jp-ui-font-color1: white;\n",
       "                    --jp-layout-color2: #454545;\n",
       "                    background-color: #383838;\n",
       "                }\n",
       "\n",
       "                .geemap-dark .jupyter-button {\n",
       "                    --jp-layout-color3: #383838;\n",
       "                }\n",
       "\n",
       "                .geemap-colab {\n",
       "                    background-color: var(--colab-primary-surface-color, white);\n",
       "                }\n",
       "\n",
       "                .geemap-colab .jupyter-button {\n",
       "                    --jp-layout-color3: var(--colab-primary-surface-color, white);\n",
       "                }\n",
       "            </style>\n",
       "            "
      ],
      "text/plain": [
       "<IPython.core.display.HTML object>"
      ]
     },
     "metadata": {},
     "output_type": "display_data"
    }
   ],
   "source": [
    "def mask_s2_clouds(image):\n",
    "  \"\"\"Masks clouds in a Sentinel-2 image using the QA band.\n",
    "  Args:\n",
    "      image (ee.Image): A Sentinel-2 image.\n",
    "  Returns:\n",
    "      ee.Image: A cloud-masked Sentinel-2 image.\n",
    "  \"\"\"\n",
    "  qa = image.select('QA60')\n",
    "\n",
    "  # Bits 10 and 11 are clouds and cirrus, respectively.\n",
    "  cloud_bit_mask = 1 << 10\n",
    "  cirrus_bit_mask = 1 << 11\n",
    "\n",
    "  # Both flags should be set to zero, indicating clear conditions.\n",
    "  mask = (\n",
    "      qa.bitwiseAnd(cloud_bit_mask)\n",
    "      .eq(0)\n",
    "      .And(qa.bitwiseAnd(cirrus_bit_mask).eq(0))\n",
    "  )\n",
    "  return image.updateMask(mask).select(\"B.*\").copyProperties(image, [\"system:time_start\"])\n",
    "\n",
    "  # return image.updateMask(mask).divide(10000)"
   ]
  },
  {
   "cell_type": "code",
   "execution_count": 5,
   "id": "73c593d2-18c6-4c32-ae64-5fbb818d4d42",
   "metadata": {},
   "outputs": [
    {
     "data": {
      "text/html": [
       "\n",
       "            <style>\n",
       "                .geemap-dark {\n",
       "                    --jp-widgets-color: white;\n",
       "                    --jp-widgets-label-color: white;\n",
       "                    --jp-ui-font-color1: white;\n",
       "                    --jp-layout-color2: #454545;\n",
       "                    background-color: #383838;\n",
       "                }\n",
       "\n",
       "                .geemap-dark .jupyter-button {\n",
       "                    --jp-layout-color3: #383838;\n",
       "                }\n",
       "\n",
       "                .geemap-colab {\n",
       "                    background-color: var(--colab-primary-surface-color, white);\n",
       "                }\n",
       "\n",
       "                .geemap-colab .jupyter-button {\n",
       "                    --jp-layout-color3: var(--colab-primary-surface-color, white);\n",
       "                }\n",
       "            </style>\n",
       "            "
      ],
      "text/plain": [
       "<IPython.core.display.HTML object>"
      ]
     },
     "metadata": {},
     "output_type": "display_data"
    }
   ],
   "source": [
    "# Write a function that computes NDVI for an image and add it as band\n",
    "def addNDVI(image):\n",
    "    ndvi = image.normalizedDifference([\"B8\", \"B4\"]).rename(\"ndvi\") # NIR and Red Bands\n",
    "    return image.addBands(ndvi)"
   ]
  },
  {
   "cell_type": "markdown",
   "id": "77113e90-6e7f-44d9-8621-65905b6b7909",
   "metadata": {},
   "source": [
    "#### Load Dataset"
   ]
  },
  {
   "cell_type": "code",
   "execution_count": 6,
   "id": "cf6da18f-f244-49a5-bbfd-7c12d3d7024f",
   "metadata": {},
   "outputs": [
    {
     "data": {
      "text/html": [
       "\n",
       "            <style>\n",
       "                .geemap-dark {\n",
       "                    --jp-widgets-color: white;\n",
       "                    --jp-widgets-label-color: white;\n",
       "                    --jp-ui-font-color1: white;\n",
       "                    --jp-layout-color2: #454545;\n",
       "                    background-color: #383838;\n",
       "                }\n",
       "\n",
       "                .geemap-dark .jupyter-button {\n",
       "                    --jp-layout-color3: #383838;\n",
       "                }\n",
       "\n",
       "                .geemap-colab {\n",
       "                    background-color: var(--colab-primary-surface-color, white);\n",
       "                }\n",
       "\n",
       "                .geemap-colab .jupyter-button {\n",
       "                    --jp-layout-color3: var(--colab-primary-surface-color, white);\n",
       "                }\n",
       "            </style>\n",
       "            "
      ],
      "text/plain": [
       "<IPython.core.display.HTML object>"
      ]
     },
     "metadata": {},
     "output_type": "display_data"
    }
   ],
   "source": [
    "s2  = ee.ImageCollection(DATASET_NAME)"
   ]
  },
  {
   "cell_type": "markdown",
   "id": "53db79fb-a45c-42c9-b40a-084a48e43745",
   "metadata": {},
   "source": [
    "#### Get NDVI Images"
   ]
  },
  {
   "cell_type": "code",
   "execution_count": 7,
   "id": "d41cda55-d992-4f51-8471-34f793a07476",
   "metadata": {},
   "outputs": [
    {
     "data": {
      "text/html": [
       "\n",
       "            <style>\n",
       "                .geemap-dark {\n",
       "                    --jp-widgets-color: white;\n",
       "                    --jp-widgets-label-color: white;\n",
       "                    --jp-ui-font-color1: white;\n",
       "                    --jp-layout-color2: #454545;\n",
       "                    background-color: #383838;\n",
       "                }\n",
       "\n",
       "                .geemap-dark .jupyter-button {\n",
       "                    --jp-layout-color3: #383838;\n",
       "                }\n",
       "\n",
       "                .geemap-colab {\n",
       "                    background-color: var(--colab-primary-surface-color, white);\n",
       "                }\n",
       "\n",
       "                .geemap-colab .jupyter-button {\n",
       "                    --jp-layout-color3: var(--colab-primary-surface-color, white);\n",
       "                }\n",
       "            </style>\n",
       "            "
      ],
      "text/plain": [
       "<IPython.core.display.HTML object>"
      ]
     },
     "metadata": {},
     "output_type": "display_data"
    },
    {
     "name": "stderr",
     "output_type": "stream",
     "text": [
      "  0%|          | 0/2 [00:00<?, ?it/s]"
     ]
    },
    {
     "name": "stdout",
     "output_type": "stream",
     "text": [
      "EXPORTING MEDIAN IMAGES FOR 4\n",
      "Polling for task (id: GS3ZCYPPXA4MNIIX4O7MDV5X).\n",
      "Polling for task (id: GS3ZCYPPXA4MNIIX4O7MDV5X).\n",
      "Polling for task (id: GS3ZCYPPXA4MNIIX4O7MDV5X).\n",
      "Polling for task (id: GS3ZCYPPXA4MNIIX4O7MDV5X).\n",
      "Polling for task (id: GS3ZCYPPXA4MNIIX4O7MDV5X).\n",
      "Polling for task (id: GS3ZCYPPXA4MNIIX4O7MDV5X).\n",
      "Polling for task (id: GS3ZCYPPXA4MNIIX4O7MDV5X).\n",
      "Polling for task (id: GS3ZCYPPXA4MNIIX4O7MDV5X).\n",
      "Polling for task (id: GS3ZCYPPXA4MNIIX4O7MDV5X).\n"
     ]
    },
    {
     "name": "stderr",
     "output_type": "stream",
     "text": [
      " 50%|█████     | 1/2 [00:57<00:57, 57.41s/it]"
     ]
    },
    {
     "name": "stdout",
     "output_type": "stream",
     "text": [
      "Task for Zone 4, median image download completed with state COMPLETED: \n",
      "##################################################\n",
      "##################################################\n",
      "EXPORTING MEDIAN IMAGES FOR 9\n",
      "Polling for task (id: C5FGFGNAL43CBLJK4MLBSRMN).\n",
      "Polling for task (id: C5FGFGNAL43CBLJK4MLBSRMN).\n",
      "Polling for task (id: C5FGFGNAL43CBLJK4MLBSRMN).\n",
      "Polling for task (id: C5FGFGNAL43CBLJK4MLBSRMN).\n",
      "Polling for task (id: C5FGFGNAL43CBLJK4MLBSRMN).\n",
      "Polling for task (id: C5FGFGNAL43CBLJK4MLBSRMN).\n",
      "Polling for task (id: C5FGFGNAL43CBLJK4MLBSRMN).\n",
      "Polling for task (id: C5FGFGNAL43CBLJK4MLBSRMN).\n",
      "Polling for task (id: C5FGFGNAL43CBLJK4MLBSRMN).\n",
      "Polling for task (id: C5FGFGNAL43CBLJK4MLBSRMN).\n",
      "Polling for task (id: C5FGFGNAL43CBLJK4MLBSRMN).\n",
      "Polling for task (id: C5FGFGNAL43CBLJK4MLBSRMN).\n",
      "Polling for task (id: C5FGFGNAL43CBLJK4MLBSRMN).\n",
      "Polling for task (id: C5FGFGNAL43CBLJK4MLBSRMN).\n"
     ]
    },
    {
     "name": "stderr",
     "output_type": "stream",
     "text": [
      "100%|██████████| 2/2 [02:14<00:00, 67.36s/it]"
     ]
    },
    {
     "name": "stdout",
     "output_type": "stream",
     "text": [
      "Task for Zone 9, median image download completed with state COMPLETED: \n",
      "##################################################\n",
      "##################################################\n"
     ]
    },
    {
     "name": "stderr",
     "output_type": "stream",
     "text": [
      "\n"
     ]
    }
   ],
   "source": [
    "for zone in tqdm(zones):\n",
    "    shapefile_path = f\"/vsizip/../shape_files/zone_{zone}.zip/layers/POLYGON.shp\"\n",
    "    gdf = gpd.read_file(shapefile_path)\n",
    "    roi = geemap.gdf_to_ee(gdf)\n",
    "    \n",
    "    # # Extract the centroid of the ROI and get its coordinates.\n",
    "    # roi_centroid = roi.geometry().centroid().coordinates().getInfo()\n",
    "    # roi_coords = [roi_centroid[1], roi_centroid[0]]  # Folium expects [lat, lon]\n",
    "\n",
    "    filtered = s2.filter(ee.Filter.date(START_DATE, END_DATE)) \\\n",
    "    .filter(ee.Filter.lt(\"CLOUDY_PIXEL_PERCENTAGE\", 30)) \\\n",
    "    .filter(ee.Filter.bounds(roi.geometry())) \\\n",
    "    .map(mask_s2_clouds)\n",
    "\n",
    "    withNDVI = filtered.map(addNDVI)\n",
    "    median = withNDVI.median()\n",
    "\n",
    "    \n",
    "    # EXPORTING THE MEDIAN IMAGE\n",
    "    print(f\"EXPORTING MEDIAN IMAGES FOR {zone}\")\n",
    "    task_median = ee.batch.Export.image.toDrive(\n",
    "        image=median.select(\"ndvi\"),  # \"ndvi\" band for median\n",
    "        description=f\"Median_Image_Zone{zone}\",\n",
    "        fileNamePrefix=f\"zone{zone}_median_ndvi_{START_DATE}_{END_DATE}\",\n",
    "        folder=\"veg_ndvi_roi_median_10m\",\n",
    "        scale=SCALE,\n",
    "        region=roi.geometry().getInfo()[\"coordinates\"],\n",
    "        maxPixels=1e10\n",
    "    )\n",
    "    task_median.start()\n",
    "    while task_median.active():\n",
    "        print(\"Polling for task (id: {}).\".format(task_median.id))\n",
    "        time.sleep(5)  # Poll every 5 seconds\n",
    "\n",
    "    \n",
    "    print(f\"Task for Zone {zone}, median image download completed with state {task_median.status()['state']}: \")    \n",
    "    print(\"#\" * 50)\n",
    "\n",
    "    # # EXPORTING ALL IMAGES WITH 10m RESOLUTION (refer to dataset)\n",
    "    # print(f\"EXPORTING ALL IMAGES FOR {zone}\")\n",
    "    # image_ids = withNDVI.aggregate_array(\"system:index\").getInfo()\n",
    "    # print(\"Total Images: \", len(image_ids))\n",
    "\n",
    "    # for i, image_id in enumerate(tqdm(image_ids, desc=\"Exporting Images\")):\n",
    "    #     image = ee.Image(withNDVI.filter(ee.Filter.eq(\"system:index\", image_id)).first())\n",
    "    #     task = ee.batch.Export.image.toDrive(\n",
    "    #     **{\n",
    "    #         \"image\": image.select(\"ndvi\"),\n",
    "    #         \"description\": \"Image Export {}\".format(i + 1),\n",
    "    #         \"fileNamePrefix\": f\"zone{zone}_{image.id().getInfo()}\",\n",
    "    #         \"folder\": \"veg_ndvi_roi_10m\",\n",
    "    #         \"scale\": SCALE,\n",
    "    #         \"region\": roi.geometry().getInfo()[\"coordinates\"],  # Use ROI geometry\n",
    "    #         # \"region\": image.geometry().bounds().getInfo()[\"coordinates\"],\n",
    "    #         \"maxPixels\": 1e10,\n",
    "    #     })\n",
    "    #     task.start()\n",
    "    #     # Monitor the task\n",
    "    #     while task.active():\n",
    "    #         print(\"Polling for image (id: {}).\".format(task.id))\n",
    "    #         time.sleep(5)  # Poll every 5 seconds\n",
    "        \n",
    "    #     print(f\"Image {i + 1} download completed with state {task.status()['state']}: \")  \n",
    "\n",
    "\n",
    "    print(\"#\" * 50)"
   ]
  },
  {
   "cell_type": "code",
   "execution_count": null,
   "id": "503ff4a8-8b83-4e47-859e-7a0ce584d82b",
   "metadata": {},
   "outputs": [],
   "source": []
  },
  {
   "cell_type": "code",
   "execution_count": null,
   "id": "480bd450-4f82-4ed3-a6e0-231ffd76cf79",
   "metadata": {},
   "outputs": [],
   "source": []
  },
  {
   "cell_type": "code",
   "execution_count": null,
   "id": "4582fe77-bfe9-4304-a287-ca7459b779e0",
   "metadata": {},
   "outputs": [],
   "source": []
  }
 ],
 "metadata": {
  "kernelspec": {
   "display_name": "ipaua",
   "language": "python",
   "name": "ipaua"
  },
  "language_info": {
   "codemirror_mode": {
    "name": "ipython",
    "version": 3
   },
   "file_extension": ".py",
   "mimetype": "text/x-python",
   "name": "python",
   "nbconvert_exporter": "python",
   "pygments_lexer": "ipython3",
   "version": "3.9.18"
  }
 },
 "nbformat": 4,
 "nbformat_minor": 5
}
