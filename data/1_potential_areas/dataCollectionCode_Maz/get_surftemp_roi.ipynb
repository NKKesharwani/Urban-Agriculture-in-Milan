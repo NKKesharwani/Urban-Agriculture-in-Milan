{
 "cells": [
  {
   "cell_type": "markdown",
   "metadata": {},
   "source": [
    "### GET Surface Temperature Image Collection"
   ]
  },
  {
   "cell_type": "markdown",
   "metadata": {},
   "source": [
    "Dataset Used: https://developers.google.com/earth-engine/datasets/catalog/LANDSAT_LC08_C02_T1_L2"
   ]
  },
  {
   "cell_type": "markdown",
   "metadata": {},
   "source": [
    "### IMPORTS"
   ]
  },
  {
   "cell_type": "code",
   "execution_count": 18,
   "metadata": {},
   "outputs": [
    {
     "data": {
      "text/html": [
       "\n",
       "            <style>\n",
       "                .geemap-dark {\n",
       "                    --jp-widgets-color: white;\n",
       "                    --jp-widgets-label-color: white;\n",
       "                    --jp-ui-font-color1: white;\n",
       "                    --jp-layout-color2: #454545;\n",
       "                    background-color: #383838;\n",
       "                }\n",
       "\n",
       "                .geemap-dark .jupyter-button {\n",
       "                    --jp-layout-color3: #383838;\n",
       "                }\n",
       "\n",
       "                .geemap-colab {\n",
       "                    background-color: var(--colab-primary-surface-color, white);\n",
       "                }\n",
       "\n",
       "                .geemap-colab .jupyter-button {\n",
       "                    --jp-layout-color3: var(--colab-primary-surface-color, white);\n",
       "                }\n",
       "            </style>\n",
       "            "
      ],
      "text/plain": [
       "<IPython.core.display.HTML object>"
      ]
     },
     "metadata": {},
     "output_type": "display_data"
    }
   ],
   "source": [
    "import time\n",
    "from typing import Any\n",
    "\n",
    "import ee\n",
    "import geemap\n",
    "import geopandas as gpd\n",
    "import pandas as pd\n",
    "from tqdm import tqdm"
   ]
  },
  {
   "cell_type": "markdown",
   "metadata": {},
   "source": [
    "### AUTHENTICATE AND INITIALIZE"
   ]
  },
  {
   "cell_type": "code",
   "execution_count": 19,
   "metadata": {},
   "outputs": [
    {
     "data": {
      "text/html": [
       "\n",
       "            <style>\n",
       "                .geemap-dark {\n",
       "                    --jp-widgets-color: white;\n",
       "                    --jp-widgets-label-color: white;\n",
       "                    --jp-ui-font-color1: white;\n",
       "                    --jp-layout-color2: #454545;\n",
       "                    background-color: #383838;\n",
       "                }\n",
       "\n",
       "                .geemap-dark .jupyter-button {\n",
       "                    --jp-layout-color3: #383838;\n",
       "                }\n",
       "\n",
       "                .geemap-colab {\n",
       "                    background-color: var(--colab-primary-surface-color, white);\n",
       "                }\n",
       "\n",
       "                .geemap-colab .jupyter-button {\n",
       "                    --jp-layout-color3: var(--colab-primary-surface-color, white);\n",
       "                }\n",
       "            </style>\n",
       "            "
      ],
      "text/plain": [
       "<IPython.core.display.HTML object>"
      ]
     },
     "metadata": {},
     "output_type": "display_data"
    }
   ],
   "source": [
    "# Authenticate to the Earth Engine servers\n",
    "ee.Authenticate()\n",
    "\n",
    "# Initialize the Earth Engine module.\n",
    "ee.Initialize()"
   ]
  },
  {
   "cell_type": "markdown",
   "metadata": {},
   "source": [
    "### VARIABLES"
   ]
  },
  {
   "cell_type": "code",
   "execution_count": 20,
   "metadata": {},
   "outputs": [
    {
     "data": {
      "text/html": [
       "\n",
       "            <style>\n",
       "                .geemap-dark {\n",
       "                    --jp-widgets-color: white;\n",
       "                    --jp-widgets-label-color: white;\n",
       "                    --jp-ui-font-color1: white;\n",
       "                    --jp-layout-color2: #454545;\n",
       "                    background-color: #383838;\n",
       "                }\n",
       "\n",
       "                .geemap-dark .jupyter-button {\n",
       "                    --jp-layout-color3: #383838;\n",
       "                }\n",
       "\n",
       "                .geemap-colab {\n",
       "                    background-color: var(--colab-primary-surface-color, white);\n",
       "                }\n",
       "\n",
       "                .geemap-colab .jupyter-button {\n",
       "                    --jp-layout-color3: var(--colab-primary-surface-color, white);\n",
       "                }\n",
       "            </style>\n",
       "            "
      ],
      "text/plain": [
       "<IPython.core.display.HTML object>"
      ]
     },
     "metadata": {},
     "output_type": "display_data"
    }
   ],
   "source": [
    "DATASET_NAME: str = \"LANDSAT/LC08/C02/T1_L2\"\n",
    "START_DATE: str = \"2023-01-01\"\n",
    "END_DATE: str = \"2024-05-13\"\n",
    "BANDS: list[str] = [\"SR_B4\", \"SR_B3\", \"SR_B2\"]\n",
    "SCALE: int = 30\n",
    "# ZONES: range = range(2, 10)\n",
    "TARGET_ZONE = 9\n",
    "ZONES = [4, 9]"
   ]
  },
  {
   "cell_type": "markdown",
   "metadata": {},
   "source": [
    "### FUNCTIONS"
   ]
  },
  {
   "cell_type": "code",
   "execution_count": 21,
   "metadata": {},
   "outputs": [
    {
     "data": {
      "text/html": [
       "\n",
       "            <style>\n",
       "                .geemap-dark {\n",
       "                    --jp-widgets-color: white;\n",
       "                    --jp-widgets-label-color: white;\n",
       "                    --jp-ui-font-color1: white;\n",
       "                    --jp-layout-color2: #454545;\n",
       "                    background-color: #383838;\n",
       "                }\n",
       "\n",
       "                .geemap-dark .jupyter-button {\n",
       "                    --jp-layout-color3: #383838;\n",
       "                }\n",
       "\n",
       "                .geemap-colab {\n",
       "                    background-color: var(--colab-primary-surface-color, white);\n",
       "                }\n",
       "\n",
       "                .geemap-colab .jupyter-button {\n",
       "                    --jp-layout-color3: var(--colab-primary-surface-color, white);\n",
       "                }\n",
       "            </style>\n",
       "            "
      ],
      "text/plain": [
       "<IPython.core.display.HTML object>"
      ]
     },
     "metadata": {},
     "output_type": "display_data"
    }
   ],
   "source": [
    "def mask_landsat_clouds(image):\n",
    "  \"\"\"Masks clouds in a landsat image using the QA_PIXEL band.\n",
    "  Args:\n",
    "      image (ee.Image): A landsat image.\n",
    "  Returns:\n",
    "      ee.Image: A cloud-masked landsat image.\n",
    "  \"\"\"\n",
    "  qa = image.select('QA_PIXEL')\n",
    "\n",
    "  # Bits 3 and 4 are clouds and Cloud Shadow, respectively.\n",
    "  cloud_bit_mask = 1 << 3\n",
    "  cloud_shadow_bit_mask = 1 << 4\n",
    "\n",
    "  # Both flags should be set to zero, indicating clear conditions.\n",
    "  mask = (\n",
    "      qa.bitwiseAnd(cloud_bit_mask)\n",
    "      .eq(0)\n",
    "      .And(qa.bitwiseAnd(cloud_shadow_bit_mask).eq(0))\n",
    "  )\n",
    "  return image.updateMask(mask).select(\"S.*\").copyProperties(image, [\"system:time_start\"])\n",
    "\n",
    "  # return image.updateMask(mask).divide(10000)"
   ]
  },
  {
   "cell_type": "code",
   "execution_count": 22,
   "metadata": {},
   "outputs": [
    {
     "data": {
      "text/html": [
       "\n",
       "            <style>\n",
       "                .geemap-dark {\n",
       "                    --jp-widgets-color: white;\n",
       "                    --jp-widgets-label-color: white;\n",
       "                    --jp-ui-font-color1: white;\n",
       "                    --jp-layout-color2: #454545;\n",
       "                    background-color: #383838;\n",
       "                }\n",
       "\n",
       "                .geemap-dark .jupyter-button {\n",
       "                    --jp-layout-color3: #383838;\n",
       "                }\n",
       "\n",
       "                .geemap-colab {\n",
       "                    background-color: var(--colab-primary-surface-color, white);\n",
       "                }\n",
       "\n",
       "                .geemap-colab .jupyter-button {\n",
       "                    --jp-layout-color3: var(--colab-primary-surface-color, white);\n",
       "                }\n",
       "            </style>\n",
       "            "
      ],
      "text/plain": [
       "<IPython.core.display.HTML object>"
      ]
     },
     "metadata": {},
     "output_type": "display_data"
    }
   ],
   "source": [
    "# Applies scaling factors.\n",
    "def apply_scale_factors(image):\n",
    "    optical_bands = image.select(\"SR_B.\").multiply(0.0000275).add(-0.2)\n",
    "    thermal_bands = image.select(\"ST_B.*\").multiply(0.00341802).add(149.0)\n",
    "    return image.addBands(optical_bands, None, True).addBands(thermal_bands, None, True)"
   ]
  },
  {
   "cell_type": "markdown",
   "metadata": {},
   "source": [
    "### GET IMAGES"
   ]
  },
  {
   "cell_type": "code",
   "execution_count": 23,
   "metadata": {},
   "outputs": [
    {
     "data": {
      "text/html": [
       "\n",
       "            <style>\n",
       "                .geemap-dark {\n",
       "                    --jp-widgets-color: white;\n",
       "                    --jp-widgets-label-color: white;\n",
       "                    --jp-ui-font-color1: white;\n",
       "                    --jp-layout-color2: #454545;\n",
       "                    background-color: #383838;\n",
       "                }\n",
       "\n",
       "                .geemap-dark .jupyter-button {\n",
       "                    --jp-layout-color3: #383838;\n",
       "                }\n",
       "\n",
       "                .geemap-colab {\n",
       "                    background-color: var(--colab-primary-surface-color, white);\n",
       "                }\n",
       "\n",
       "                .geemap-colab .jupyter-button {\n",
       "                    --jp-layout-color3: var(--colab-primary-surface-color, white);\n",
       "                }\n",
       "            </style>\n",
       "            "
      ],
      "text/plain": [
       "<IPython.core.display.HTML object>"
      ]
     },
     "metadata": {},
     "output_type": "display_data"
    }
   ],
   "source": [
    "shapefile_path = f\"/vsizip/../shape_files/zone_{TARGET_ZONE}.zip/layers/POLYGON.shp\"\n",
    "gdf = gpd.read_file(shapefile_path)\n",
    "roi = geemap.gdf_to_ee(gdf)"
   ]
  },
  {
   "cell_type": "code",
   "execution_count": 24,
   "metadata": {},
   "outputs": [
    {
     "data": {
      "text/html": [
       "\n",
       "            <style>\n",
       "                .geemap-dark {\n",
       "                    --jp-widgets-color: white;\n",
       "                    --jp-widgets-label-color: white;\n",
       "                    --jp-ui-font-color1: white;\n",
       "                    --jp-layout-color2: #454545;\n",
       "                    background-color: #383838;\n",
       "                }\n",
       "\n",
       "                .geemap-dark .jupyter-button {\n",
       "                    --jp-layout-color3: #383838;\n",
       "                }\n",
       "\n",
       "                .geemap-colab {\n",
       "                    background-color: var(--colab-primary-surface-color, white);\n",
       "                }\n",
       "\n",
       "                .geemap-colab .jupyter-button {\n",
       "                    --jp-layout-color3: var(--colab-primary-surface-color, white);\n",
       "                }\n",
       "            </style>\n",
       "            "
      ],
      "text/plain": [
       "<IPython.core.display.HTML object>"
      ]
     },
     "metadata": {},
     "output_type": "display_data"
    }
   ],
   "source": [
    "# roi.geometry()"
   ]
  },
  {
   "cell_type": "code",
   "execution_count": 25,
   "metadata": {},
   "outputs": [
    {
     "data": {
      "text/html": [
       "\n",
       "            <style>\n",
       "                .geemap-dark {\n",
       "                    --jp-widgets-color: white;\n",
       "                    --jp-widgets-label-color: white;\n",
       "                    --jp-ui-font-color1: white;\n",
       "                    --jp-layout-color2: #454545;\n",
       "                    background-color: #383838;\n",
       "                }\n",
       "\n",
       "                .geemap-dark .jupyter-button {\n",
       "                    --jp-layout-color3: #383838;\n",
       "                }\n",
       "\n",
       "                .geemap-colab {\n",
       "                    background-color: var(--colab-primary-surface-color, white);\n",
       "                }\n",
       "\n",
       "                .geemap-colab .jupyter-button {\n",
       "                    --jp-layout-color3: var(--colab-primary-surface-color, white);\n",
       "                }\n",
       "            </style>\n",
       "            "
      ],
      "text/plain": [
       "<IPython.core.display.HTML object>"
      ]
     },
     "metadata": {},
     "output_type": "display_data"
    }
   ],
   "source": [
    "LANDSAT = ee.ImageCollection(DATASET_NAME)\n",
    "\n",
    "# With Clouds and Cloud Shadows\n",
    "LANDSAT_ROI = LANDSAT.filter(ee.Filter.date(START_DATE, END_DATE)).filter(ee.Filter.bounds(roi.geometry())).map(apply_scale_factors)#.median()\n",
    "\n",
    "# Create a cloud-free composite with default parameters.\n",
    "COMPOSITE_ROI = LANDSAT_ROI.map(mask_landsat_clouds).median()"
   ]
  },
  {
   "cell_type": "code",
   "execution_count": 26,
   "metadata": {},
   "outputs": [
    {
     "data": {
      "text/html": [
       "\n",
       "            <style>\n",
       "                .geemap-dark {\n",
       "                    --jp-widgets-color: white;\n",
       "                    --jp-widgets-label-color: white;\n",
       "                    --jp-ui-font-color1: white;\n",
       "                    --jp-layout-color2: #454545;\n",
       "                    background-color: #383838;\n",
       "                }\n",
       "\n",
       "                .geemap-dark .jupyter-button {\n",
       "                    --jp-layout-color3: #383838;\n",
       "                }\n",
       "\n",
       "                .geemap-colab {\n",
       "                    background-color: var(--colab-primary-surface-color, white);\n",
       "                }\n",
       "\n",
       "                .geemap-colab .jupyter-button {\n",
       "                    --jp-layout-color3: var(--colab-primary-surface-color, white);\n",
       "                }\n",
       "            </style>\n",
       "            "
      ],
      "text/plain": [
       "<IPython.core.display.HTML object>"
      ]
     },
     "metadata": {},
     "output_type": "display_data"
    },
    {
     "name": "stdout",
     "output_type": "stream",
     "text": [
      "Total Images:  84\n"
     ]
    }
   ],
   "source": [
    "# Export with 30m resolution (refer to dataset)\n",
    "image_ids = LANDSAT_ROI.aggregate_array(\"system:index\").getInfo()\n",
    "print(\"Total Images: \", len(image_ids))"
   ]
  },
  {
   "cell_type": "markdown",
   "metadata": {},
   "source": [
    "### VISUALIZATION"
   ]
  },
  {
   "cell_type": "code",
   "execution_count": 33,
   "metadata": {},
   "outputs": [
    {
     "data": {
      "text/html": [
       "\n",
       "            <style>\n",
       "                .geemap-dark {\n",
       "                    --jp-widgets-color: white;\n",
       "                    --jp-widgets-label-color: white;\n",
       "                    --jp-ui-font-color1: white;\n",
       "                    --jp-layout-color2: #454545;\n",
       "                    background-color: #383838;\n",
       "                }\n",
       "\n",
       "                .geemap-dark .jupyter-button {\n",
       "                    --jp-layout-color3: #383838;\n",
       "                }\n",
       "\n",
       "                .geemap-colab {\n",
       "                    background-color: var(--colab-primary-surface-color, white);\n",
       "                }\n",
       "\n",
       "                .geemap-colab .jupyter-button {\n",
       "                    --jp-layout-color3: var(--colab-primary-surface-color, white);\n",
       "                }\n",
       "            </style>\n",
       "            "
      ],
      "text/plain": [
       "<IPython.core.display.HTML object>"
      ]
     },
     "metadata": {},
     "output_type": "display_data"
    },
    {
     "data": {
      "application/vnd.jupyter.widget-view+json": {
       "model_id": "002489859c60422084b3407ccb7478cb",
       "version_major": 2,
       "version_minor": 0
      },
      "text/plain": [
       "Map(center=[45.52220212673159, 9.192582555499026], controls=(WidgetControl(options=['position', 'transparent_b…"
      ]
     },
     "execution_count": 33,
     "metadata": {},
     "output_type": "execute_result"
    }
   ],
   "source": [
    "visualization = {\n",
    "    \"bands\": BANDS,\n",
    "    \"min\": 0.0,\n",
    "    \"max\": 0.3,\n",
    "}\n",
    "\n",
    "# Set opacity level between 0 (transparent) and 1 (opaque)\n",
    "opacity_level = 0.6  \n",
    "# Draw boundaries of the shapefile region loaded in 'table'\n",
    "boundary = ee.FeatureCollection(roi)\n",
    "\n",
    "Map = geemap.Map()\n",
    "# m.set_center(9.188540, 45.464664, 9)\n",
    "Map = geemap.Map(center=[45.52220212673159, 9.192582555499026], zoom=12)\n",
    "# Map.set_center(9.143192990831077, 45.53639619976871, 10)\n",
    "Map.add_layer(LANDSAT_ROI, visualization, \"True Color (432)\")\n",
    "Map.add_layer(COMPOSITE_ROI, visualization, 'COMPOSITE_ROI')\n",
    "Map.addLayer(boundary, {\"color\": \"000000\"}, \"Region Boundary\", True, opacity_level)\n",
    "Map.addLayerControl()\n",
    "Map"
   ]
  },
  {
   "cell_type": "markdown",
   "metadata": {},
   "source": [
    "### DOWNLOAD IMAGES"
   ]
  },
  {
   "cell_type": "code",
   "execution_count": 17,
   "metadata": {},
   "outputs": [
    {
     "data": {
      "text/html": [
       "\n",
       "            <style>\n",
       "                .geemap-dark {\n",
       "                    --jp-widgets-color: white;\n",
       "                    --jp-widgets-label-color: white;\n",
       "                    --jp-ui-font-color1: white;\n",
       "                    --jp-layout-color2: #454545;\n",
       "                    background-color: #383838;\n",
       "                }\n",
       "\n",
       "                .geemap-dark .jupyter-button {\n",
       "                    --jp-layout-color3: #383838;\n",
       "                }\n",
       "\n",
       "                .geemap-colab {\n",
       "                    background-color: var(--colab-primary-surface-color, white);\n",
       "                }\n",
       "\n",
       "                .geemap-colab .jupyter-button {\n",
       "                    --jp-layout-color3: var(--colab-primary-surface-color, white);\n",
       "                }\n",
       "            </style>\n",
       "            "
      ],
      "text/plain": [
       "<IPython.core.display.HTML object>"
      ]
     },
     "metadata": {},
     "output_type": "display_data"
    },
    {
     "name": "stderr",
     "output_type": "stream",
     "text": [
      "  0%|          | 0/2 [00:00<?, ?it/s]"
     ]
    },
    {
     "name": "stdout",
     "output_type": "stream",
     "text": [
      "Polling for task (id: Q5AVXTCL4MIAOB3MMNTNK6OA).\n",
      "Polling for task (id: Q5AVXTCL4MIAOB3MMNTNK6OA).\n",
      "Polling for task (id: Q5AVXTCL4MIAOB3MMNTNK6OA).\n",
      "Polling for task (id: Q5AVXTCL4MIAOB3MMNTNK6OA).\n",
      "Polling for task (id: Q5AVXTCL4MIAOB3MMNTNK6OA).\n",
      "Polling for task (id: Q5AVXTCL4MIAOB3MMNTNK6OA).\n",
      "Polling for task (id: Q5AVXTCL4MIAOB3MMNTNK6OA).\n",
      "Polling for task (id: Q5AVXTCL4MIAOB3MMNTNK6OA).\n",
      "Polling for task (id: Q5AVXTCL4MIAOB3MMNTNK6OA).\n",
      "Polling for task (id: Q5AVXTCL4MIAOB3MMNTNK6OA).\n"
     ]
    },
    {
     "name": "stderr",
     "output_type": "stream",
     "text": [
      " 50%|█████     | 1/2 [00:59<00:59, 59.00s/it]"
     ]
    },
    {
     "name": "stdout",
     "output_type": "stream",
     "text": [
      "Task for 4 median image download completed with state COMPLETED: \n",
      "Polling for task (id: 7PDO55WF23IBU2DM6KGERUE4).\n",
      "Polling for task (id: 7PDO55WF23IBU2DM6KGERUE4).\n",
      "Polling for task (id: 7PDO55WF23IBU2DM6KGERUE4).\n",
      "Polling for task (id: 7PDO55WF23IBU2DM6KGERUE4).\n",
      "Polling for task (id: 7PDO55WF23IBU2DM6KGERUE4).\n"
     ]
    },
    {
     "name": "stderr",
     "output_type": "stream",
     "text": [
      "100%|██████████| 2/2 [01:28<00:00, 44.04s/it]"
     ]
    },
    {
     "name": "stdout",
     "output_type": "stream",
     "text": [
      "Task for 9 median image download completed with state COMPLETED: \n"
     ]
    },
    {
     "name": "stderr",
     "output_type": "stream",
     "text": [
      "\n"
     ]
    }
   ],
   "source": [
    "for zone in tqdm(ZONES):\n",
    "    shapefile_path = f\"/vsizip/../shape_files/zone_{zone}.zip/layers/POLYGON.shp\"\n",
    "    gdf = gpd.read_file(shapefile_path)\n",
    "    roi = geemap.gdf_to_ee(gdf)\n",
    "\n",
    "    LANDSAT = ee.ImageCollection(DATASET_NAME)\n",
    "\n",
    "    # With Clouds and Cloud Shadows\n",
    "    LANDSAT_ROI = (\n",
    "        LANDSAT.filter(ee.Filter.date(START_DATE, END_DATE)) \\\n",
    "        .filter(ee.Filter.bounds(roi.geometry())) \\\n",
    "        .map(apply_scale_factors)\n",
    "    )  # .median()\n",
    "\n",
    "    # Create a cloud-free composite with default parameters.\n",
    "    COMPOSITE_ROI = LANDSAT_ROI.map(mask_landsat_clouds)\n",
    "\n",
    "    # Median\n",
    "    median = COMPOSITE_ROI.median()\n",
    "\n",
    "    # EXPORTING THE MEDIAN IMAGE\n",
    "    task_median = ee.batch.Export.image.toDrive(\n",
    "        image=median.select(\"ST_B10\"),  # Band 10 surface temperature\n",
    "        description=f\"Median_Image_Zone{zone}\",\n",
    "        fileNamePrefix=f\"zone{zone}_median_stemp_{START_DATE}_{END_DATE}\",\n",
    "        folder=\"surface_temperature_roi_median_30m\",\n",
    "        scale=SCALE,\n",
    "        region=roi.geometry().getInfo()[\"coordinates\"],\n",
    "        maxPixels=1e10\n",
    "    )\n",
    "    \n",
    "    task_median.start()\n",
    "    while task_median.active():\n",
    "        print(\"Polling for task (id: {}).\".format(task_median.id))\n",
    "        time.sleep(5)  # Poll every 5 seconds\n",
    "\n",
    "    \n",
    "    print(f\"Task for Zone {zone} median image download completed with state {task_median.status()['state']}: \")\n",
    "\n",
    "    # EXPORTING ALL IMAGES WITH 30m RESOLUTION (refer to dataset)\n",
    "    image_ids = COMPOSITE_ROI.aggregate_array(\"system:index\").getInfo()\n",
    "    print(\"#\" * 16)\n",
    "    print(\"Total Images: \", len(image_ids))\n",
    "    print(\"#\" * 16)\n",
    "\n",
    "    for i, image_id in enumerate(tqdm(image_ids, desc=\"Exporting Images\")):\n",
    "        image = ee.Image(COMPOSITE_ROI.filter(ee.Filter.eq(\"system:index\", image_id)).first())\n",
    "        task = ee.batch.Export.image.toDrive(\n",
    "        **{\n",
    "            \"image\": image.select(\"ST_B10\"), # Band 10 surface temperature.\n",
    "            \"description\": \"Image Export {}\".format(i + 1),\n",
    "            \"fileNamePrefix\": f\"zone{zone}_{image.id().getInfo()}\",\n",
    "            \"folder\": \"surface_temperature_roi_30m\",\n",
    "            \"scale\": SCALE,\n",
    "            \"region\": roi.geometry().getInfo()[\"coordinates\"], # Use ROI geometry\n",
    "            # \"region\": image.geometry().bounds().getInfo()[\"coordinates\"],\n",
    "            \"maxPixels\": 1e10,\n",
    "        })\n",
    "        task.start()\n",
    "        # Monitor the task\n",
    "        while task.active():\n",
    "            print(\"Polling for task (id: {}).\".format(task.id))\n",
    "            time.sleep(5)  # Poll every 5 seconds\n",
    "        \n",
    "        print(f\"Task {i + 1} completed with state {task.status()['state']}: \")    "
   ]
  },
  {
   "cell_type": "code",
   "execution_count": null,
   "metadata": {},
   "outputs": [],
   "source": []
  },
  {
   "cell_type": "code",
   "execution_count": null,
   "metadata": {},
   "outputs": [],
   "source": []
  },
  {
   "cell_type": "code",
   "execution_count": null,
   "metadata": {},
   "outputs": [],
   "source": []
  },
  {
   "cell_type": "code",
   "execution_count": null,
   "metadata": {},
   "outputs": [],
   "source": []
  },
  {
   "cell_type": "code",
   "execution_count": null,
   "metadata": {},
   "outputs": [],
   "source": []
  },
  {
   "cell_type": "code",
   "execution_count": null,
   "metadata": {},
   "outputs": [],
   "source": []
  },
  {
   "cell_type": "code",
   "execution_count": null,
   "metadata": {},
   "outputs": [],
   "source": []
  },
  {
   "cell_type": "code",
   "execution_count": null,
   "metadata": {},
   "outputs": [],
   "source": []
  },
  {
   "cell_type": "code",
   "execution_count": null,
   "metadata": {},
   "outputs": [],
   "source": []
  }
 ],
 "metadata": {
  "kernelspec": {
   "display_name": "ipaua",
   "language": "python",
   "name": "ipaua"
  },
  "language_info": {
   "codemirror_mode": {
    "name": "ipython",
    "version": 3
   },
   "file_extension": ".py",
   "mimetype": "text/x-python",
   "name": "python",
   "nbconvert_exporter": "python",
   "pygments_lexer": "ipython3",
   "version": "3.9.18"
  }
 },
 "nbformat": 4,
 "nbformat_minor": 4
}
