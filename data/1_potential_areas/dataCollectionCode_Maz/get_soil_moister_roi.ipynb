{
 "cells": [
  {
   "cell_type": "markdown",
   "metadata": {},
   "source": [
    "### GET Soil Moister Image Collection"
   ]
  },
  {
   "cell_type": "markdown",
   "metadata": {},
   "source": [
    "Dataset Used: https://developers.google.com/earth-engine/datasets/catalog/NASA_SMAP_SPL3SMP_E_005"
   ]
  },
  {
   "cell_type": "markdown",
   "metadata": {},
   "source": [
    "### IMPORTS"
   ]
  },
  {
   "cell_type": "code",
   "execution_count": 1,
   "metadata": {},
   "outputs": [],
   "source": [
    "import time\n",
    "from typing import Any\n",
    "\n",
    "import ee\n",
    "import geemap\n",
    "import geopandas as gpd\n",
    "import pandas as pd\n",
    "from tqdm import tqdm"
   ]
  },
  {
   "cell_type": "markdown",
   "metadata": {},
   "source": [
    "### AUTHENTICATE AND INITIALIZE"
   ]
  },
  {
   "cell_type": "code",
   "execution_count": 2,
   "metadata": {},
   "outputs": [
    {
     "data": {
      "text/html": [
       "\n",
       "            <style>\n",
       "                .geemap-dark {\n",
       "                    --jp-widgets-color: white;\n",
       "                    --jp-widgets-label-color: white;\n",
       "                    --jp-ui-font-color1: white;\n",
       "                    --jp-layout-color2: #454545;\n",
       "                    background-color: #383838;\n",
       "                }\n",
       "\n",
       "                .geemap-dark .jupyter-button {\n",
       "                    --jp-layout-color3: #383838;\n",
       "                }\n",
       "\n",
       "                .geemap-colab {\n",
       "                    background-color: var(--colab-primary-surface-color, white);\n",
       "                }\n",
       "\n",
       "                .geemap-colab .jupyter-button {\n",
       "                    --jp-layout-color3: var(--colab-primary-surface-color, white);\n",
       "                }\n",
       "            </style>\n",
       "            "
      ],
      "text/plain": [
       "<IPython.core.display.HTML object>"
      ]
     },
     "metadata": {},
     "output_type": "display_data"
    }
   ],
   "source": [
    "# Authenticate to the Earth Engine servers\n",
    "ee.Authenticate()\n",
    "\n",
    "# Initialize the Earth Engine module.\n",
    "ee.Initialize()"
   ]
  },
  {
   "cell_type": "markdown",
   "metadata": {},
   "source": [
    "### VARIABLES"
   ]
  },
  {
   "cell_type": "code",
   "execution_count": 3,
   "metadata": {},
   "outputs": [
    {
     "data": {
      "text/html": [
       "\n",
       "            <style>\n",
       "                .geemap-dark {\n",
       "                    --jp-widgets-color: white;\n",
       "                    --jp-widgets-label-color: white;\n",
       "                    --jp-ui-font-color1: white;\n",
       "                    --jp-layout-color2: #454545;\n",
       "                    background-color: #383838;\n",
       "                }\n",
       "\n",
       "                .geemap-dark .jupyter-button {\n",
       "                    --jp-layout-color3: #383838;\n",
       "                }\n",
       "\n",
       "                .geemap-colab {\n",
       "                    background-color: var(--colab-primary-surface-color, white);\n",
       "                }\n",
       "\n",
       "                .geemap-colab .jupyter-button {\n",
       "                    --jp-layout-color3: var(--colab-primary-surface-color, white);\n",
       "                }\n",
       "            </style>\n",
       "            "
      ],
      "text/plain": [
       "<IPython.core.display.HTML object>"
      ]
     },
     "metadata": {},
     "output_type": "display_data"
    }
   ],
   "source": [
    "DATASET_NAME: str = \"NASA/SMAP/SPL3SMP_E/005\"\n",
    "START_DATE: str = \"2023-01-01\"\n",
    "END_DATE: str = \"2023-12-04\"\n",
    "BANDS: list[str] = [\"soil_moisture_am\", \"soil_moisture_pm\"]\n",
    "SCALE: int = 9000\n",
    "# ZONES: range = range(2, 10)\n",
    "TARGET_ZONE = 9\n",
    "ZONES = [4, 9]\n",
    "MIN = 0\n",
    "MAX = 0.5\n",
    "UNITS = \"Volume fraction\"\n",
    "MAXPIXELS = 1e10"
   ]
  },
  {
   "cell_type": "markdown",
   "metadata": {},
   "source": [
    "### GET IMAGES"
   ]
  },
  {
   "cell_type": "code",
   "execution_count": 4,
   "metadata": {},
   "outputs": [
    {
     "data": {
      "text/html": [
       "\n",
       "            <style>\n",
       "                .geemap-dark {\n",
       "                    --jp-widgets-color: white;\n",
       "                    --jp-widgets-label-color: white;\n",
       "                    --jp-ui-font-color1: white;\n",
       "                    --jp-layout-color2: #454545;\n",
       "                    background-color: #383838;\n",
       "                }\n",
       "\n",
       "                .geemap-dark .jupyter-button {\n",
       "                    --jp-layout-color3: #383838;\n",
       "                }\n",
       "\n",
       "                .geemap-colab {\n",
       "                    background-color: var(--colab-primary-surface-color, white);\n",
       "                }\n",
       "\n",
       "                .geemap-colab .jupyter-button {\n",
       "                    --jp-layout-color3: var(--colab-primary-surface-color, white);\n",
       "                }\n",
       "            </style>\n",
       "            "
      ],
      "text/plain": [
       "<IPython.core.display.HTML object>"
      ]
     },
     "metadata": {},
     "output_type": "display_data"
    }
   ],
   "source": [
    "shapefile_path = f\"/vsizip/../shape_files/zone_{TARGET_ZONE}.zip/layers/POLYGON.shp\"\n",
    "gdf = gpd.read_file(shapefile_path)\n",
    "roi = geemap.gdf_to_ee(gdf)"
   ]
  },
  {
   "cell_type": "code",
   "execution_count": 5,
   "metadata": {},
   "outputs": [
    {
     "data": {
      "text/html": [
       "\n",
       "            <style>\n",
       "                .geemap-dark {\n",
       "                    --jp-widgets-color: white;\n",
       "                    --jp-widgets-label-color: white;\n",
       "                    --jp-ui-font-color1: white;\n",
       "                    --jp-layout-color2: #454545;\n",
       "                    background-color: #383838;\n",
       "                }\n",
       "\n",
       "                .geemap-dark .jupyter-button {\n",
       "                    --jp-layout-color3: #383838;\n",
       "                }\n",
       "\n",
       "                .geemap-colab {\n",
       "                    background-color: var(--colab-primary-surface-color, white);\n",
       "                }\n",
       "\n",
       "                .geemap-colab .jupyter-button {\n",
       "                    --jp-layout-color3: var(--colab-primary-surface-color, white);\n",
       "                }\n",
       "            </style>\n",
       "            "
      ],
      "text/plain": [
       "<IPython.core.display.HTML object>"
      ]
     },
     "metadata": {},
     "output_type": "display_data"
    }
   ],
   "source": [
    "# roi.geometry()"
   ]
  },
  {
   "cell_type": "code",
   "execution_count": 6,
   "metadata": {},
   "outputs": [
    {
     "data": {
      "text/html": [
       "\n",
       "            <style>\n",
       "                .geemap-dark {\n",
       "                    --jp-widgets-color: white;\n",
       "                    --jp-widgets-label-color: white;\n",
       "                    --jp-ui-font-color1: white;\n",
       "                    --jp-layout-color2: #454545;\n",
       "                    background-color: #383838;\n",
       "                }\n",
       "\n",
       "                .geemap-dark .jupyter-button {\n",
       "                    --jp-layout-color3: #383838;\n",
       "                }\n",
       "\n",
       "                .geemap-colab {\n",
       "                    background-color: var(--colab-primary-surface-color, white);\n",
       "                }\n",
       "\n",
       "                .geemap-colab .jupyter-button {\n",
       "                    --jp-layout-color3: var(--colab-primary-surface-color, white);\n",
       "                }\n",
       "            </style>\n",
       "            "
      ],
      "text/plain": [
       "<IPython.core.display.HTML object>"
      ]
     },
     "metadata": {},
     "output_type": "display_data"
    }
   ],
   "source": [
    "SMAP = ee.ImageCollection(DATASET_NAME)\n",
    "\n",
    "SMAP_ROI = SMAP.filter(ee.Filter.date(START_DATE, END_DATE)).filter(ee.Filter.bounds(roi.geometry())) #.median()\n",
    "\n",
    "MEDIAN = SMAP_ROI.median()"
   ]
  },
  {
   "cell_type": "code",
   "execution_count": 7,
   "metadata": {},
   "outputs": [
    {
     "data": {
      "text/html": [
       "\n",
       "            <style>\n",
       "                .geemap-dark {\n",
       "                    --jp-widgets-color: white;\n",
       "                    --jp-widgets-label-color: white;\n",
       "                    --jp-ui-font-color1: white;\n",
       "                    --jp-layout-color2: #454545;\n",
       "                    background-color: #383838;\n",
       "                }\n",
       "\n",
       "                .geemap-dark .jupyter-button {\n",
       "                    --jp-layout-color3: #383838;\n",
       "                }\n",
       "\n",
       "                .geemap-colab {\n",
       "                    background-color: var(--colab-primary-surface-color, white);\n",
       "                }\n",
       "\n",
       "                .geemap-colab .jupyter-button {\n",
       "                    --jp-layout-color3: var(--colab-primary-surface-color, white);\n",
       "                }\n",
       "            </style>\n",
       "            "
      ],
      "text/plain": [
       "<IPython.core.display.HTML object>"
      ]
     },
     "metadata": {},
     "output_type": "display_data"
    },
    {
     "name": "stdout",
     "output_type": "stream",
     "text": [
      "Total Images:  334\n"
     ]
    }
   ],
   "source": [
    "# Export with 9000m resolution (refer to dataset)\n",
    "image_ids = SMAP_ROI.aggregate_array(\"system:index\").getInfo()\n",
    "print(\"Total Images: \", len(image_ids))"
   ]
  },
  {
   "cell_type": "markdown",
   "metadata": {},
   "source": [
    "### VISUALIZATION"
   ]
  },
  {
   "cell_type": "code",
   "execution_count": 8,
   "metadata": {},
   "outputs": [
    {
     "data": {
      "text/html": [
       "\n",
       "            <style>\n",
       "                .geemap-dark {\n",
       "                    --jp-widgets-color: white;\n",
       "                    --jp-widgets-label-color: white;\n",
       "                    --jp-ui-font-color1: white;\n",
       "                    --jp-layout-color2: #454545;\n",
       "                    background-color: #383838;\n",
       "                }\n",
       "\n",
       "                .geemap-dark .jupyter-button {\n",
       "                    --jp-layout-color3: #383838;\n",
       "                }\n",
       "\n",
       "                .geemap-colab {\n",
       "                    background-color: var(--colab-primary-surface-color, white);\n",
       "                }\n",
       "\n",
       "                .geemap-colab .jupyter-button {\n",
       "                    --jp-layout-color3: var(--colab-primary-surface-color, white);\n",
       "                }\n",
       "            </style>\n",
       "            "
      ],
      "text/plain": [
       "<IPython.core.display.HTML object>"
      ]
     },
     "metadata": {},
     "output_type": "display_data"
    },
    {
     "data": {
      "text/html": [
       "<h3>soil_moisture_am: Milan-Italy-Zone 9</h3>"
      ],
      "text/plain": [
       "<IPython.core.display.HTML object>"
      ]
     },
     "metadata": {},
     "output_type": "display_data"
    },
    {
     "data": {
      "application/vnd.jupyter.widget-view+json": {
       "model_id": "1d0fd50583cf49d38b828f4207097c25",
       "version_major": 2,
       "version_minor": 0
      },
      "text/plain": [
       "Map(center=[45.512724879429385, 9.180956342696671], controls=(WidgetControl(options=['position', 'transparent_…"
      ]
     },
     "execution_count": 8,
     "metadata": {},
     "output_type": "execute_result"
    }
   ],
   "source": [
    "from IPython.display import display, HTML\n",
    "\n",
    "palette_lst = [\"0300ff\", \"418504\", \"efff07\", \"efff07\", \"ff0303\"]\n",
    "\n",
    "visualization = {\n",
    "    \"bands\": BANDS[0],\n",
    "    \"min\": MIN,\n",
    "    \"max\": MAX,\n",
    "    \"palette\": palette_lst\n",
    "}\n",
    "\n",
    "# Set opacity level between 0 (transparent) and 1 (opaque)\n",
    "opacity_level = 0.4  \n",
    "# Draw boundaries of the shapefile region loaded in 'table'\n",
    "boundary = ee.FeatureCollection(roi)\n",
    "\n",
    "Map = geemap.Map()\n",
    "# m.set_center(9.188540, 45.464664, 9)\n",
    "# Map.set_center(9.143192990831077, 45.53639619976871, 10)\n",
    "Map.centerObject(roi.geometry(), 13)\n",
    "Map.add_layer(MEDIAN.clip(roi.geometry()), visualization, BANDS[0])\n",
    "Map.addLayer(boundary, {\"color\": \"000000\"}, \"Region Boundary\", True, opacity_level)\n",
    "Map.addLayerControl()\n",
    "\n",
    "# Legend setup\n",
    "min_value = MIN  # Minimum Value\n",
    "max_value = MAX   # Maximum Value\n",
    "num_colors = len(palette_lst)\n",
    "interval = (max_value - min_value) / num_colors\n",
    "ranges = [f\"{min_value + i * interval:.2f} to {min_value + (i + 1) * interval:.2f} ({UNITS})\" for i in range(num_colors)]\n",
    "legend_dict = dict(zip(ranges, [\"#\" + color for color in palette_lst]))\n",
    "\n",
    "# Display a title above the map\n",
    "display(HTML(f\"<h3>{BANDS[0]}: Milan-Italy-Zone {TARGET_ZONE}</h3>\"))\n",
    "Map.add_legend(title=f\"{BANDS[0]} ({UNITS}) Milan-Zone {TARGET_ZONE}\", legend_dict=legend_dict)\n",
    "\n",
    "Map"
   ]
  },
  {
   "cell_type": "markdown",
   "metadata": {},
   "source": [
    "### DOWNLOAD IMAGES"
   ]
  },
  {
   "cell_type": "code",
   "execution_count": 9,
   "metadata": {},
   "outputs": [
    {
     "data": {
      "text/html": [
       "\n",
       "            <style>\n",
       "                .geemap-dark {\n",
       "                    --jp-widgets-color: white;\n",
       "                    --jp-widgets-label-color: white;\n",
       "                    --jp-ui-font-color1: white;\n",
       "                    --jp-layout-color2: #454545;\n",
       "                    background-color: #383838;\n",
       "                }\n",
       "\n",
       "                .geemap-dark .jupyter-button {\n",
       "                    --jp-layout-color3: #383838;\n",
       "                }\n",
       "\n",
       "                .geemap-colab {\n",
       "                    background-color: var(--colab-primary-surface-color, white);\n",
       "                }\n",
       "\n",
       "                .geemap-colab .jupyter-button {\n",
       "                    --jp-layout-color3: var(--colab-primary-surface-color, white);\n",
       "                }\n",
       "            </style>\n",
       "            "
      ],
      "text/plain": [
       "<IPython.core.display.HTML object>"
      ]
     },
     "metadata": {},
     "output_type": "display_data"
    },
    {
     "name": "stderr",
     "output_type": "stream",
     "text": [
      "  0%|          | 0/2 [00:00<?, ?it/s]"
     ]
    },
    {
     "name": "stdout",
     "output_type": "stream",
     "text": [
      "Polling for task (id: ZMUZTUC7PBO3MKR3CQHGHUA5).\n",
      "Polling for task (id: ZMUZTUC7PBO3MKR3CQHGHUA5).\n",
      "Polling for task (id: ZMUZTUC7PBO3MKR3CQHGHUA5).\n",
      "Polling for task (id: ZMUZTUC7PBO3MKR3CQHGHUA5).\n",
      "Polling for task (id: ZMUZTUC7PBO3MKR3CQHGHUA5).\n",
      "Task for Zone 4 median image download completed with state COMPLETED: \n",
      "##################################################\n",
      "Total Images:  334\n",
      "##################################################\n"
     ]
    },
    {
     "name": "stderr",
     "output_type": "stream",
     "text": [
      "\n",
      "Exporting Images:   0%|          | 0/334 [00:00<?, ?it/s]\u001b[A"
     ]
    },
    {
     "name": "stdout",
     "output_type": "stream",
     "text": [
      "Polling for task (id: JWURTRUAB5C5G4VMEMWJCRUO).\n",
      "Polling for task (id: JWURTRUAB5C5G4VMEMWJCRUO).\n",
      "Polling for task (id: JWURTRUAB5C5G4VMEMWJCRUO).\n"
     ]
    },
    {
     "name": "stderr",
     "output_type": "stream",
     "text": [
      "\n",
      "Exporting Images:   0%|          | 1/334 [00:18<1:41:31, 18.29s/it]\u001b[A"
     ]
    },
    {
     "name": "stdout",
     "output_type": "stream",
     "text": [
      "Task 1 completed with state COMPLETED: \n",
      "Polling for task (id: TRD3BF4HAZEOOPLJH5N223AH).\n",
      "Polling for task (id: TRD3BF4HAZEOOPLJH5N223AH).\n",
      "Polling for task (id: TRD3BF4HAZEOOPLJH5N223AH).\n",
      "Polling for task (id: TRD3BF4HAZEOOPLJH5N223AH).\n"
     ]
    },
    {
     "name": "stderr",
     "output_type": "stream",
     "text": [
      "\n",
      "Exporting Images:   1%|          | 2/334 [00:41<1:58:43, 21.46s/it]\u001b[A"
     ]
    },
    {
     "name": "stdout",
     "output_type": "stream",
     "text": [
      "Task 2 completed with state COMPLETED: \n",
      "Polling for task (id: DU3OCF2Z5R6LG5QC55WQIQ4O).\n",
      "Polling for task (id: DU3OCF2Z5R6LG5QC55WQIQ4O).\n"
     ]
    },
    {
     "name": "stderr",
     "output_type": "stream",
     "text": [
      "\n",
      "Exporting Images:   1%|          | 3/334 [00:55<1:37:09, 17.61s/it]\u001b[A"
     ]
    },
    {
     "name": "stdout",
     "output_type": "stream",
     "text": [
      "Task 3 completed with state COMPLETED: \n",
      "Polling for task (id: NQINQ43YOFWSGJDMVONAIHT7).\n",
      "Polling for task (id: NQINQ43YOFWSGJDMVONAIHT7).\n",
      "Polling for task (id: NQINQ43YOFWSGJDMVONAIHT7).\n"
     ]
    },
    {
     "name": "stderr",
     "output_type": "stream",
     "text": [
      "\n",
      "Exporting Images:   1%|          | 4/334 [01:13<1:39:05, 18.02s/it]\u001b[A"
     ]
    },
    {
     "name": "stdout",
     "output_type": "stream",
     "text": [
      "Task 4 completed with state COMPLETED: \n",
      "Polling for task (id: G4CSR6BRUKGO7JL7A5P4JHGM).\n",
      "Polling for task (id: G4CSR6BRUKGO7JL7A5P4JHGM).\n",
      "Polling for task (id: G4CSR6BRUKGO7JL7A5P4JHGM).\n"
     ]
    },
    {
     "name": "stderr",
     "output_type": "stream",
     "text": [
      "\n",
      "Exporting Images:   1%|▏         | 5/334 [01:32<1:40:09, 18.27s/it]\u001b[A"
     ]
    },
    {
     "name": "stdout",
     "output_type": "stream",
     "text": [
      "Task 5 completed with state COMPLETED: \n",
      "Polling for task (id: 5TLWPW33E6WKQVTVBHJITAEF).\n",
      "Polling for task (id: 5TLWPW33E6WKQVTVBHJITAEF).\n",
      "Polling for task (id: 5TLWPW33E6WKQVTVBHJITAEF).\n"
     ]
    },
    {
     "name": "stderr",
     "output_type": "stream",
     "text": [
      "\n",
      "Exporting Images:   2%|▏         | 6/334 [01:50<1:40:32, 18.39s/it]\u001b[A"
     ]
    },
    {
     "name": "stdout",
     "output_type": "stream",
     "text": [
      "Task 6 completed with state COMPLETED: \n",
      "Polling for task (id: WPW2NLX4J4G5PF246NSKOW3G).\n",
      "Polling for task (id: WPW2NLX4J4G5PF246NSKOW3G).\n",
      "Polling for task (id: WPW2NLX4J4G5PF246NSKOW3G).\n"
     ]
    },
    {
     "name": "stderr",
     "output_type": "stream",
     "text": [
      "\n",
      "Exporting Images:   2%|▏         | 7/334 [02:09<1:40:35, 18.46s/it]\u001b[A"
     ]
    },
    {
     "name": "stdout",
     "output_type": "stream",
     "text": [
      "Task 7 completed with state COMPLETED: \n",
      "Polling for task (id: L6I3U4RG3FLWF7OKPALV4FIT).\n",
      "Polling for task (id: L6I3U4RG3FLWF7OKPALV4FIT).\n",
      "Polling for task (id: L6I3U4RG3FLWF7OKPALV4FIT).\n",
      "Polling for task (id: L6I3U4RG3FLWF7OKPALV4FIT).\n"
     ]
    },
    {
     "name": "stderr",
     "output_type": "stream",
     "text": [
      "\n",
      "Exporting Images:   2%|▏         | 8/334 [02:33<1:49:41, 20.19s/it]\u001b[A"
     ]
    },
    {
     "name": "stdout",
     "output_type": "stream",
     "text": [
      "Task 8 completed with state COMPLETED: \n",
      "Polling for task (id: TGOBQCIFV63ARJCFYNIVU42B).\n",
      "Polling for task (id: TGOBQCIFV63ARJCFYNIVU42B).\n",
      "Polling for task (id: TGOBQCIFV63ARJCFYNIVU42B).\n",
      "Polling for task (id: TGOBQCIFV63ARJCFYNIVU42B).\n"
     ]
    },
    {
     "name": "stderr",
     "output_type": "stream",
     "text": [
      "\n",
      "Exporting Images:   3%|▎         | 9/334 [02:57<1:55:16, 21.28s/it]\u001b[A"
     ]
    },
    {
     "name": "stdout",
     "output_type": "stream",
     "text": [
      "Task 9 completed with state COMPLETED: \n",
      "Polling for task (id: LRJKI6JOXJOE4OEQ7JVCFTIL).\n",
      "Polling for task (id: LRJKI6JOXJOE4OEQ7JVCFTIL).\n",
      "Polling for task (id: LRJKI6JOXJOE4OEQ7JVCFTIL).\n"
     ]
    },
    {
     "name": "stderr",
     "output_type": "stream",
     "text": [
      "\n",
      "Exporting Images:   3%|▎         | 10/334 [03:15<1:50:43, 20.51s/it]\u001b[A"
     ]
    },
    {
     "name": "stdout",
     "output_type": "stream",
     "text": [
      "Task 10 completed with state COMPLETED: \n",
      "Polling for task (id: HNT3XWSC7EADGS77SCQVHBM7).\n",
      "Polling for task (id: HNT3XWSC7EADGS77SCQVHBM7).\n",
      "Polling for task (id: HNT3XWSC7EADGS77SCQVHBM7).\n",
      "Polling for task (id: HNT3XWSC7EADGS77SCQVHBM7).\n"
     ]
    },
    {
     "name": "stderr",
     "output_type": "stream",
     "text": [
      "\n",
      "Exporting Images:   3%|▎         | 11/334 [03:39<1:55:48, 21.51s/it]\u001b[A"
     ]
    },
    {
     "name": "stdout",
     "output_type": "stream",
     "text": [
      "Task 11 completed with state COMPLETED: \n",
      "Polling for task (id: TXZ6SCROIEYCMERGDGA6EJ5A).\n",
      "Polling for task (id: TXZ6SCROIEYCMERGDGA6EJ5A).\n",
      "Polling for task (id: TXZ6SCROIEYCMERGDGA6EJ5A).\n"
     ]
    },
    {
     "name": "stderr",
     "output_type": "stream",
     "text": [
      "\n",
      "Exporting Images:   4%|▎         | 12/334 [03:58<1:50:30, 20.59s/it]\u001b[A"
     ]
    },
    {
     "name": "stdout",
     "output_type": "stream",
     "text": [
      "Task 12 completed with state COMPLETED: \n",
      "Polling for task (id: BP7PLXIWJ7GC2AOSBVSRK4LZ).\n",
      "Polling for task (id: BP7PLXIWJ7GC2AOSBVSRK4LZ).\n",
      "Polling for task (id: BP7PLXIWJ7GC2AOSBVSRK4LZ).\n"
     ]
    },
    {
     "name": "stderr",
     "output_type": "stream",
     "text": [
      "\n",
      "Exporting Images:   4%|▍         | 13/334 [04:16<1:47:14, 20.04s/it]\u001b[A"
     ]
    },
    {
     "name": "stdout",
     "output_type": "stream",
     "text": [
      "Task 13 completed with state COMPLETED: \n",
      "Polling for task (id: SCSTLH4OTYTGIVDMPDJURQMB).\n",
      "Polling for task (id: SCSTLH4OTYTGIVDMPDJURQMB).\n",
      "Polling for task (id: SCSTLH4OTYTGIVDMPDJURQMB).\n"
     ]
    },
    {
     "name": "stderr",
     "output_type": "stream",
     "text": [
      "\n",
      "Exporting Images:   4%|▍         | 14/334 [04:35<1:44:43, 19.63s/it]\u001b[A"
     ]
    },
    {
     "name": "stdout",
     "output_type": "stream",
     "text": [
      "Task 14 completed with state COMPLETED: \n",
      "Polling for task (id: 3LJQIO5IVCJ6RJ356BQUYQBO).\n",
      "Polling for task (id: 3LJQIO5IVCJ6RJ356BQUYQBO).\n",
      "Polling for task (id: 3LJQIO5IVCJ6RJ356BQUYQBO).\n"
     ]
    },
    {
     "name": "stderr",
     "output_type": "stream",
     "text": [
      "\n",
      "Exporting Images:   4%|▍         | 15/334 [04:53<1:42:04, 19.20s/it]\u001b[A"
     ]
    },
    {
     "name": "stdout",
     "output_type": "stream",
     "text": [
      "Task 15 completed with state COMPLETED: \n",
      "Polling for task (id: UZZKSCW7ZQW7ZAF6LYUXL2JZ).\n",
      "Polling for task (id: UZZKSCW7ZQW7ZAF6LYUXL2JZ).\n",
      "Polling for task (id: UZZKSCW7ZQW7ZAF6LYUXL2JZ).\n",
      "Polling for task (id: UZZKSCW7ZQW7ZAF6LYUXL2JZ).\n"
     ]
    },
    {
     "name": "stderr",
     "output_type": "stream",
     "text": [
      "\n",
      "Exporting Images:   5%|▍         | 16/334 [05:17<1:49:03, 20.58s/it]\u001b[A"
     ]
    },
    {
     "name": "stdout",
     "output_type": "stream",
     "text": [
      "Task 16 completed with state COMPLETED: \n",
      "Polling for task (id: 5DHQ7OIQXGYFLBKDZPXQZ6XN).\n",
      "Polling for task (id: 5DHQ7OIQXGYFLBKDZPXQZ6XN).\n"
     ]
    },
    {
     "name": "stderr",
     "output_type": "stream",
     "text": [
      "\n",
      "Exporting Images:   5%|▌         | 17/334 [05:33<1:41:17, 19.17s/it]\u001b[A"
     ]
    },
    {
     "name": "stdout",
     "output_type": "stream",
     "text": [
      "Task 17 completed with state COMPLETED: \n",
      "Polling for task (id: NOAQDW47JYFZHXYL64I2HMTU).\n",
      "Polling for task (id: NOAQDW47JYFZHXYL64I2HMTU).\n",
      "Polling for task (id: NOAQDW47JYFZHXYL64I2HMTU).\n",
      "Polling for task (id: NOAQDW47JYFZHXYL64I2HMTU).\n"
     ]
    },
    {
     "name": "stderr",
     "output_type": "stream",
     "text": [
      "\n",
      "Exporting Images:   5%|▌         | 18/334 [05:57<1:48:40, 20.64s/it]\u001b[A"
     ]
    },
    {
     "name": "stdout",
     "output_type": "stream",
     "text": [
      "Task 18 completed with state COMPLETED: \n",
      "Polling for task (id: VKGBE4J7YOYFMUJV3XIHVMHL).\n",
      "Polling for task (id: VKGBE4J7YOYFMUJV3XIHVMHL).\n",
      "Polling for task (id: VKGBE4J7YOYFMUJV3XIHVMHL).\n",
      "Polling for task (id: VKGBE4J7YOYFMUJV3XIHVMHL).\n"
     ]
    },
    {
     "name": "stderr",
     "output_type": "stream",
     "text": [
      "\n",
      "Exporting Images:   6%|▌         | 19/334 [06:21<1:52:57, 21.52s/it]\u001b[A"
     ]
    },
    {
     "name": "stdout",
     "output_type": "stream",
     "text": [
      "Task 19 completed with state COMPLETED: \n",
      "Polling for task (id: FHTG3Y6LH7GS4MJEK2P4TBMR).\n",
      "Polling for task (id: FHTG3Y6LH7GS4MJEK2P4TBMR).\n",
      "Polling for task (id: FHTG3Y6LH7GS4MJEK2P4TBMR).\n"
     ]
    },
    {
     "name": "stderr",
     "output_type": "stream",
     "text": [
      "\n",
      "Exporting Images:   6%|▌         | 20/334 [06:39<1:47:19, 20.51s/it]\u001b[A"
     ]
    },
    {
     "name": "stdout",
     "output_type": "stream",
     "text": [
      "Task 20 completed with state COMPLETED: \n",
      "Polling for task (id: AZKLR44SPI7L3YP6CCVU46AO).\n",
      "Polling for task (id: AZKLR44SPI7L3YP6CCVU46AO).\n",
      "Polling for task (id: AZKLR44SPI7L3YP6CCVU46AO).\n"
     ]
    },
    {
     "name": "stderr",
     "output_type": "stream",
     "text": [
      "\n",
      "Exporting Images:   6%|▋         | 21/334 [06:57<1:43:32, 19.85s/it]\u001b[A"
     ]
    },
    {
     "name": "stdout",
     "output_type": "stream",
     "text": [
      "Task 21 completed with state COMPLETED: \n",
      "Polling for task (id: UDU3QFA3UFAJCF6NSVU3MHZ5).\n",
      "Polling for task (id: UDU3QFA3UFAJCF6NSVU3MHZ5).\n",
      "Polling for task (id: UDU3QFA3UFAJCF6NSVU3MHZ5).\n"
     ]
    },
    {
     "name": "stderr",
     "output_type": "stream",
     "text": [
      "\n",
      "Exporting Images:   7%|▋         | 22/334 [07:15<1:40:35, 19.35s/it]\u001b[A"
     ]
    },
    {
     "name": "stdout",
     "output_type": "stream",
     "text": [
      "Task 22 completed with state COMPLETED: \n",
      "Polling for task (id: SYROPVZ6PSE4SGUNLFERPKA6).\n",
      "Polling for task (id: SYROPVZ6PSE4SGUNLFERPKA6).\n",
      "Polling for task (id: SYROPVZ6PSE4SGUNLFERPKA6).\n"
     ]
    },
    {
     "name": "stderr",
     "output_type": "stream",
     "text": [
      "\n",
      "Exporting Images:   7%|▋         | 23/334 [07:34<1:38:48, 19.06s/it]\u001b[A"
     ]
    },
    {
     "name": "stdout",
     "output_type": "stream",
     "text": [
      "Task 23 completed with state COMPLETED: \n",
      "Polling for task (id: P26ZMM5DTJK4YMOZ2TPSJ6AR).\n",
      "Polling for task (id: P26ZMM5DTJK4YMOZ2TPSJ6AR).\n",
      "Polling for task (id: P26ZMM5DTJK4YMOZ2TPSJ6AR).\n"
     ]
    },
    {
     "name": "stderr",
     "output_type": "stream",
     "text": [
      "\n",
      "Exporting Images:   7%|▋         | 24/334 [07:52<1:36:51, 18.75s/it]\u001b[A"
     ]
    },
    {
     "name": "stdout",
     "output_type": "stream",
     "text": [
      "Task 24 completed with state COMPLETED: \n",
      "Polling for task (id: 52PTH5OJJF3OO2KZUW4VLQNJ).\n",
      "Polling for task (id: 52PTH5OJJF3OO2KZUW4VLQNJ).\n",
      "Polling for task (id: 52PTH5OJJF3OO2KZUW4VLQNJ).\n"
     ]
    },
    {
     "name": "stderr",
     "output_type": "stream",
     "text": [
      "\n",
      "Exporting Images:   7%|▋         | 25/334 [08:10<1:35:41, 18.58s/it]\u001b[A"
     ]
    },
    {
     "name": "stdout",
     "output_type": "stream",
     "text": [
      "Task 25 completed with state COMPLETED: \n",
      "Polling for task (id: LPMJCEXTJNY7SEVCQMJK746D).\n",
      "Polling for task (id: LPMJCEXTJNY7SEVCQMJK746D).\n",
      "Polling for task (id: LPMJCEXTJNY7SEVCQMJK746D).\n"
     ]
    },
    {
     "name": "stderr",
     "output_type": "stream",
     "text": [
      "\n",
      "Exporting Images:   8%|▊         | 26/334 [08:28<1:34:39, 18.44s/it]\u001b[A"
     ]
    },
    {
     "name": "stdout",
     "output_type": "stream",
     "text": [
      "Task 26 completed with state COMPLETED: \n",
      "Polling for task (id: B2CYTFR6HXQNOPNWHOO5HI4I).\n",
      "Polling for task (id: B2CYTFR6HXQNOPNWHOO5HI4I).\n",
      "Polling for task (id: B2CYTFR6HXQNOPNWHOO5HI4I).\n"
     ]
    },
    {
     "name": "stderr",
     "output_type": "stream",
     "text": [
      "\n",
      "Exporting Images:   8%|▊         | 27/334 [08:46<1:34:03, 18.38s/it]\u001b[A"
     ]
    },
    {
     "name": "stdout",
     "output_type": "stream",
     "text": [
      "Task 27 completed with state COMPLETED: \n",
      "Polling for task (id: V6I6DRG6AKNEQ3ZLWQDX2LNS).\n",
      "Polling for task (id: V6I6DRG6AKNEQ3ZLWQDX2LNS).\n",
      "Polling for task (id: V6I6DRG6AKNEQ3ZLWQDX2LNS).\n"
     ]
    },
    {
     "name": "stderr",
     "output_type": "stream",
     "text": [
      "\n",
      "Exporting Images:   8%|▊         | 28/334 [09:05<1:33:38, 18.36s/it]\u001b[A"
     ]
    },
    {
     "name": "stdout",
     "output_type": "stream",
     "text": [
      "Task 28 completed with state COMPLETED: \n",
      "Polling for task (id: PBR5BP5IGJMJYIZ6C7QYSWUE).\n",
      "Polling for task (id: PBR5BP5IGJMJYIZ6C7QYSWUE).\n",
      "Polling for task (id: PBR5BP5IGJMJYIZ6C7QYSWUE).\n"
     ]
    },
    {
     "name": "stderr",
     "output_type": "stream",
     "text": [
      "\n",
      "Exporting Images:   9%|▊         | 29/334 [09:23<1:33:15, 18.34s/it]\u001b[A"
     ]
    },
    {
     "name": "stdout",
     "output_type": "stream",
     "text": [
      "Task 29 completed with state COMPLETED: \n",
      "Polling for task (id: IP5OE6RZTYTSNZEFKERV6OOZ).\n",
      "Polling for task (id: IP5OE6RZTYTSNZEFKERV6OOZ).\n",
      "Polling for task (id: IP5OE6RZTYTSNZEFKERV6OOZ).\n"
     ]
    },
    {
     "name": "stderr",
     "output_type": "stream",
     "text": [
      "\n",
      "Exporting Images:   9%|▉         | 30/334 [09:41<1:32:40, 18.29s/it]\u001b[A"
     ]
    },
    {
     "name": "stdout",
     "output_type": "stream",
     "text": [
      "Task 30 completed with state COMPLETED: \n",
      "Polling for task (id: R6QHXVH3PPLYYSTTWYITAIUN).\n",
      "Polling for task (id: R6QHXVH3PPLYYSTTWYITAIUN).\n",
      "Polling for task (id: R6QHXVH3PPLYYSTTWYITAIUN).\n"
     ]
    },
    {
     "name": "stderr",
     "output_type": "stream",
     "text": [
      "\n",
      "Exporting Images:   9%|▉         | 31/334 [09:59<1:32:16, 18.27s/it]\u001b[A"
     ]
    },
    {
     "name": "stdout",
     "output_type": "stream",
     "text": [
      "Task 31 completed with state COMPLETED: \n",
      "Polling for task (id: WW3XDM2NOBJ33A263UQ5XIJJ).\n",
      "Polling for task (id: WW3XDM2NOBJ33A263UQ5XIJJ).\n",
      "Polling for task (id: WW3XDM2NOBJ33A263UQ5XIJJ).\n"
     ]
    },
    {
     "name": "stderr",
     "output_type": "stream",
     "text": [
      "\n",
      "Exporting Images:  10%|▉         | 32/334 [10:18<1:32:04, 18.29s/it]\u001b[A"
     ]
    },
    {
     "name": "stdout",
     "output_type": "stream",
     "text": [
      "Task 32 completed with state COMPLETED: \n",
      "Polling for task (id: VGVS6UZSV3NNEIDNFP4YCI5C).\n",
      "Polling for task (id: VGVS6UZSV3NNEIDNFP4YCI5C).\n",
      "Polling for task (id: VGVS6UZSV3NNEIDNFP4YCI5C).\n"
     ]
    },
    {
     "name": "stderr",
     "output_type": "stream",
     "text": [
      "\n",
      "Exporting Images:  10%|▉         | 33/334 [10:36<1:31:33, 18.25s/it]\u001b[A"
     ]
    },
    {
     "name": "stdout",
     "output_type": "stream",
     "text": [
      "Task 33 completed with state COMPLETED: \n",
      "Polling for task (id: KS4QJFMLSJGYJA7QBNBPXJBE).\n",
      "Polling for task (id: KS4QJFMLSJGYJA7QBNBPXJBE).\n",
      "Polling for task (id: KS4QJFMLSJGYJA7QBNBPXJBE).\n",
      "Polling for task (id: KS4QJFMLSJGYJA7QBNBPXJBE).\n"
     ]
    },
    {
     "name": "stderr",
     "output_type": "stream",
     "text": [
      "\n",
      "Exporting Images:  10%|█         | 34/334 [10:59<1:39:02, 19.81s/it]\u001b[A"
     ]
    },
    {
     "name": "stdout",
     "output_type": "stream",
     "text": [
      "Task 34 completed with state COMPLETED: \n",
      "Polling for task (id: H2AG6C3YHNMLKYXL2DL6ZURO).\n",
      "Polling for task (id: H2AG6C3YHNMLKYXL2DL6ZURO).\n",
      "Polling for task (id: H2AG6C3YHNMLKYXL2DL6ZURO).\n"
     ]
    },
    {
     "name": "stderr",
     "output_type": "stream",
     "text": [
      "\n",
      "Exporting Images:  10%|█         | 35/334 [11:17<1:36:16, 19.32s/it]\u001b[A"
     ]
    },
    {
     "name": "stdout",
     "output_type": "stream",
     "text": [
      "Task 35 completed with state COMPLETED: \n",
      "Polling for task (id: WWBIIL4IPGZS4DMGIIBMK2RV).\n",
      "Polling for task (id: WWBIIL4IPGZS4DMGIIBMK2RV).\n",
      "Polling for task (id: WWBIIL4IPGZS4DMGIIBMK2RV).\n"
     ]
    },
    {
     "name": "stderr",
     "output_type": "stream",
     "text": [
      "\n",
      "Exporting Images:  11%|█         | 36/334 [11:36<1:34:18, 18.99s/it]\u001b[A"
     ]
    },
    {
     "name": "stdout",
     "output_type": "stream",
     "text": [
      "Task 36 completed with state COMPLETED: \n",
      "Polling for task (id: MC3IESH7CWPLDGI6V323CASH).\n",
      "Polling for task (id: MC3IESH7CWPLDGI6V323CASH).\n",
      "Polling for task (id: MC3IESH7CWPLDGI6V323CASH).\n"
     ]
    },
    {
     "name": "stderr",
     "output_type": "stream",
     "text": [
      "\n",
      "Exporting Images:  11%|█         | 37/334 [11:54<1:32:54, 18.77s/it]\u001b[A"
     ]
    },
    {
     "name": "stdout",
     "output_type": "stream",
     "text": [
      "Task 37 completed with state COMPLETED: \n",
      "Polling for task (id: YIFLXU5R2ZC3YSLYPKENZCAJ).\n",
      "Polling for task (id: YIFLXU5R2ZC3YSLYPKENZCAJ).\n",
      "Polling for task (id: YIFLXU5R2ZC3YSLYPKENZCAJ).\n"
     ]
    },
    {
     "name": "stderr",
     "output_type": "stream",
     "text": [
      "\n",
      "Exporting Images:  11%|█▏        | 38/334 [12:12<1:31:47, 18.61s/it]\u001b[A"
     ]
    },
    {
     "name": "stdout",
     "output_type": "stream",
     "text": [
      "Task 38 completed with state COMPLETED: \n",
      "Polling for task (id: 6BDTYF6NHAJJTH4Z35EWAJEY).\n",
      "Polling for task (id: 6BDTYF6NHAJJTH4Z35EWAJEY).\n",
      "Polling for task (id: 6BDTYF6NHAJJTH4Z35EWAJEY).\n"
     ]
    },
    {
     "name": "stderr",
     "output_type": "stream",
     "text": [
      "\n",
      "Exporting Images:  12%|█▏        | 39/334 [12:30<1:30:49, 18.47s/it]\u001b[A"
     ]
    },
    {
     "name": "stdout",
     "output_type": "stream",
     "text": [
      "Task 39 completed with state COMPLETED: \n",
      "Polling for task (id: KBINBTAAXMKNFO53N2HGTLSH).\n",
      "Polling for task (id: KBINBTAAXMKNFO53N2HGTLSH).\n",
      "Polling for task (id: KBINBTAAXMKNFO53N2HGTLSH).\n"
     ]
    },
    {
     "name": "stderr",
     "output_type": "stream",
     "text": [
      "\n",
      "Exporting Images:  12%|█▏        | 40/334 [12:52<1:35:36, 19.51s/it]\u001b[A"
     ]
    },
    {
     "name": "stdout",
     "output_type": "stream",
     "text": [
      "Task 40 completed with state COMPLETED: \n",
      "Polling for task (id: T6TSJLZ4GQOOT2FUISLMKYA6).\n",
      "Polling for task (id: T6TSJLZ4GQOOT2FUISLMKYA6).\n",
      "Polling for task (id: T6TSJLZ4GQOOT2FUISLMKYA6).\n",
      "Polling for task (id: T6TSJLZ4GQOOT2FUISLMKYA6).\n"
     ]
    },
    {
     "name": "stderr",
     "output_type": "stream",
     "text": [
      "\n",
      "Exporting Images:  12%|█▏        | 41/334 [13:17<1:42:18, 20.95s/it]\u001b[A"
     ]
    },
    {
     "name": "stdout",
     "output_type": "stream",
     "text": [
      "Task 41 completed with state COMPLETED: \n",
      "Polling for task (id: 4VBKO6T6NYGBWLUXAWCHL4ZJ).\n",
      "Polling for task (id: 4VBKO6T6NYGBWLUXAWCHL4ZJ).\n",
      "Polling for task (id: 4VBKO6T6NYGBWLUXAWCHL4ZJ).\n"
     ]
    },
    {
     "name": "stderr",
     "output_type": "stream",
     "text": [
      "\n",
      "Exporting Images:  13%|█▎        | 42/334 [13:35<1:37:51, 20.11s/it]\u001b[A"
     ]
    },
    {
     "name": "stdout",
     "output_type": "stream",
     "text": [
      "Task 42 completed with state COMPLETED: \n",
      "Polling for task (id: SUFC2STNGPPZF7MRQSSKJPAA).\n",
      "Polling for task (id: SUFC2STNGPPZF7MRQSSKJPAA).\n",
      "Polling for task (id: SUFC2STNGPPZF7MRQSSKJPAA).\n"
     ]
    },
    {
     "name": "stderr",
     "output_type": "stream",
     "text": [
      "\n",
      "Exporting Images:  13%|█▎        | 43/334 [13:55<1:38:11, 20.24s/it]\u001b[A"
     ]
    },
    {
     "name": "stdout",
     "output_type": "stream",
     "text": [
      "Task 43 completed with state COMPLETED: \n",
      "Polling for task (id: 3RV4KY5WUH3DX7FEINF2DSJS).\n",
      "Polling for task (id: 3RV4KY5WUH3DX7FEINF2DSJS).\n",
      "Polling for task (id: 3RV4KY5WUH3DX7FEINF2DSJS).\n"
     ]
    },
    {
     "name": "stderr",
     "output_type": "stream",
     "text": [
      "\n",
      "Exporting Images:  13%|█▎        | 44/334 [14:13<1:34:57, 19.65s/it]\u001b[A"
     ]
    },
    {
     "name": "stdout",
     "output_type": "stream",
     "text": [
      "Task 44 completed with state COMPLETED: \n",
      "Polling for task (id: AMF2KIQYE4MMCMOCRV6UYUPL).\n",
      "Polling for task (id: AMF2KIQYE4MMCMOCRV6UYUPL).\n",
      "Polling for task (id: AMF2KIQYE4MMCMOCRV6UYUPL).\n"
     ]
    },
    {
     "name": "stderr",
     "output_type": "stream",
     "text": [
      "\n",
      "Exporting Images:  13%|█▎        | 45/334 [14:32<1:32:49, 19.27s/it]\u001b[A"
     ]
    },
    {
     "name": "stdout",
     "output_type": "stream",
     "text": [
      "Task 45 completed with state COMPLETED: \n",
      "Polling for task (id: HIWS6TEWMPVELFKBXDWNEO3G).\n",
      "Polling for task (id: HIWS6TEWMPVELFKBXDWNEO3G).\n",
      "Polling for task (id: HIWS6TEWMPVELFKBXDWNEO3G).\n"
     ]
    },
    {
     "name": "stderr",
     "output_type": "stream",
     "text": [
      "\n",
      "Exporting Images:  14%|█▍        | 46/334 [14:50<1:31:03, 18.97s/it]\u001b[A"
     ]
    },
    {
     "name": "stdout",
     "output_type": "stream",
     "text": [
      "Task 46 completed with state COMPLETED: \n",
      "Polling for task (id: FDXDAQU4U5MGZNMKX256DTY6).\n",
      "Polling for task (id: FDXDAQU4U5MGZNMKX256DTY6).\n",
      "Polling for task (id: FDXDAQU4U5MGZNMKX256DTY6).\n"
     ]
    },
    {
     "name": "stderr",
     "output_type": "stream",
     "text": [
      "\n",
      "Exporting Images:  14%|█▍        | 47/334 [15:08<1:29:52, 18.79s/it]\u001b[A"
     ]
    },
    {
     "name": "stdout",
     "output_type": "stream",
     "text": [
      "Task 47 completed with state COMPLETED: \n",
      "Polling for task (id: W6IFIQCS5SG6XCMXR2EAJADM).\n",
      "Polling for task (id: W6IFIQCS5SG6XCMXR2EAJADM).\n",
      "Polling for task (id: W6IFIQCS5SG6XCMXR2EAJADM).\n",
      "Polling for task (id: W6IFIQCS5SG6XCMXR2EAJADM).\n"
     ]
    },
    {
     "name": "stderr",
     "output_type": "stream",
     "text": [
      "\n",
      "Exporting Images:  14%|█▍        | 48/334 [15:32<1:36:27, 20.24s/it]\u001b[A"
     ]
    },
    {
     "name": "stdout",
     "output_type": "stream",
     "text": [
      "Task 48 completed with state COMPLETED: \n",
      "Polling for task (id: DIGTKOIRVHAJIRZLZW4OOA3O).\n",
      "Polling for task (id: DIGTKOIRVHAJIRZLZW4OOA3O).\n",
      "Polling for task (id: DIGTKOIRVHAJIRZLZW4OOA3O).\n"
     ]
    },
    {
     "name": "stderr",
     "output_type": "stream",
     "text": [
      "\n",
      "Exporting Images:  15%|█▍        | 49/334 [15:50<1:33:12, 19.62s/it]\u001b[A"
     ]
    },
    {
     "name": "stdout",
     "output_type": "stream",
     "text": [
      "Task 49 completed with state COMPLETED: \n",
      "Polling for task (id: FKCGSBK5KZUQXJBYU75WKB4W).\n",
      "Polling for task (id: FKCGSBK5KZUQXJBYU75WKB4W).\n",
      "Polling for task (id: FKCGSBK5KZUQXJBYU75WKB4W).\n"
     ]
    },
    {
     "name": "stderr",
     "output_type": "stream",
     "text": [
      "\n",
      "Exporting Images:  15%|█▍        | 50/334 [16:08<1:30:45, 19.18s/it]\u001b[A"
     ]
    },
    {
     "name": "stdout",
     "output_type": "stream",
     "text": [
      "Task 50 completed with state COMPLETED: \n",
      "Polling for task (id: JWOA3QY27NUX7YIJJGOYULZG).\n",
      "Polling for task (id: JWOA3QY27NUX7YIJJGOYULZG).\n",
      "Polling for task (id: JWOA3QY27NUX7YIJJGOYULZG).\n"
     ]
    },
    {
     "name": "stderr",
     "output_type": "stream",
     "text": [
      "\n",
      "Exporting Images:  15%|█▌        | 51/334 [16:27<1:29:15, 18.92s/it]\u001b[A"
     ]
    },
    {
     "name": "stdout",
     "output_type": "stream",
     "text": [
      "Task 51 completed with state COMPLETED: \n",
      "Polling for task (id: IDLVLAMVSA6CGJ3Y7JKJOMAK).\n",
      "Polling for task (id: IDLVLAMVSA6CGJ3Y7JKJOMAK).\n",
      "Polling for task (id: IDLVLAMVSA6CGJ3Y7JKJOMAK).\n"
     ]
    },
    {
     "name": "stderr",
     "output_type": "stream",
     "text": [
      "\n",
      "Exporting Images:  16%|█▌        | 52/334 [16:45<1:27:52, 18.70s/it]\u001b[A"
     ]
    },
    {
     "name": "stdout",
     "output_type": "stream",
     "text": [
      "Task 52 completed with state COMPLETED: \n",
      "Polling for task (id: TMXX4E7I2OCNANQISU5V3FKM).\n",
      "Polling for task (id: TMXX4E7I2OCNANQISU5V3FKM).\n",
      "Polling for task (id: TMXX4E7I2OCNANQISU5V3FKM).\n"
     ]
    },
    {
     "name": "stderr",
     "output_type": "stream",
     "text": [
      "\n",
      "Exporting Images:  16%|█▌        | 53/334 [17:03<1:26:52, 18.55s/it]\u001b[A"
     ]
    },
    {
     "name": "stdout",
     "output_type": "stream",
     "text": [
      "Task 53 completed with state COMPLETED: \n",
      "Polling for task (id: MAK5ZS6TDS5ICIZYZLZHNTR7).\n",
      "Polling for task (id: MAK5ZS6TDS5ICIZYZLZHNTR7).\n",
      "Polling for task (id: MAK5ZS6TDS5ICIZYZLZHNTR7).\n",
      "Polling for task (id: MAK5ZS6TDS5ICIZYZLZHNTR7).\n"
     ]
    },
    {
     "name": "stderr",
     "output_type": "stream",
     "text": [
      "\n",
      "Exporting Images:  16%|█▌        | 54/334 [17:27<1:33:52, 20.11s/it]\u001b[A"
     ]
    },
    {
     "name": "stdout",
     "output_type": "stream",
     "text": [
      "Task 54 completed with state COMPLETED: \n",
      "Polling for task (id: GB6HFXWHKDDITB2OP2KAVYH6).\n",
      "Polling for task (id: GB6HFXWHKDDITB2OP2KAVYH6).\n",
      "Polling for task (id: GB6HFXWHKDDITB2OP2KAVYH6).\n"
     ]
    },
    {
     "name": "stderr",
     "output_type": "stream",
     "text": [
      "\n",
      "Exporting Images:  16%|█▋        | 55/334 [17:45<1:30:55, 19.55s/it]\u001b[A"
     ]
    },
    {
     "name": "stdout",
     "output_type": "stream",
     "text": [
      "Task 55 completed with state COMPLETED: \n",
      "Polling for task (id: MK6SZQHUNDLH743BOAXCQ2GX).\n",
      "Polling for task (id: MK6SZQHUNDLH743BOAXCQ2GX).\n",
      "Polling for task (id: MK6SZQHUNDLH743BOAXCQ2GX).\n"
     ]
    },
    {
     "name": "stderr",
     "output_type": "stream",
     "text": [
      "\n",
      "Exporting Images:  17%|█▋        | 56/334 [18:04<1:28:59, 19.21s/it]\u001b[A"
     ]
    },
    {
     "name": "stdout",
     "output_type": "stream",
     "text": [
      "Task 56 completed with state COMPLETED: \n",
      "Polling for task (id: KBK2URZZLSF5XYPAXET67Y4M).\n",
      "Polling for task (id: KBK2URZZLSF5XYPAXET67Y4M).\n",
      "Polling for task (id: KBK2URZZLSF5XYPAXET67Y4M).\n"
     ]
    },
    {
     "name": "stderr",
     "output_type": "stream",
     "text": [
      "\n",
      "Exporting Images:  17%|█▋        | 57/334 [18:22<1:27:19, 18.91s/it]\u001b[A"
     ]
    },
    {
     "name": "stdout",
     "output_type": "stream",
     "text": [
      "Task 57 completed with state COMPLETED: \n",
      "Polling for task (id: FBKQE262ECFVFGCZXWKQDRV2).\n",
      "Polling for task (id: FBKQE262ECFVFGCZXWKQDRV2).\n",
      "Polling for task (id: FBKQE262ECFVFGCZXWKQDRV2).\n"
     ]
    },
    {
     "name": "stderr",
     "output_type": "stream",
     "text": [
      "\n",
      "Exporting Images:  17%|█▋        | 58/334 [18:40<1:26:03, 18.71s/it]\u001b[A"
     ]
    },
    {
     "name": "stdout",
     "output_type": "stream",
     "text": [
      "Task 58 completed with state COMPLETED: \n",
      "Polling for task (id: QK3SZIO3V7ZDYZWCKKUZV7EH).\n",
      "Polling for task (id: QK3SZIO3V7ZDYZWCKKUZV7EH).\n",
      "Polling for task (id: QK3SZIO3V7ZDYZWCKKUZV7EH).\n"
     ]
    },
    {
     "name": "stderr",
     "output_type": "stream",
     "text": [
      "\n",
      "Exporting Images:  18%|█▊        | 59/334 [18:58<1:25:07, 18.57s/it]\u001b[A"
     ]
    },
    {
     "name": "stdout",
     "output_type": "stream",
     "text": [
      "Task 59 completed with state COMPLETED: \n",
      "Polling for task (id: 572EQBSXW6SU2IOIZOH5OE25).\n",
      "Polling for task (id: 572EQBSXW6SU2IOIZOH5OE25).\n",
      "Polling for task (id: 572EQBSXW6SU2IOIZOH5OE25).\n"
     ]
    },
    {
     "name": "stderr",
     "output_type": "stream",
     "text": [
      "\n",
      "Exporting Images:  18%|█▊        | 60/334 [19:17<1:24:28, 18.50s/it]\u001b[A"
     ]
    },
    {
     "name": "stdout",
     "output_type": "stream",
     "text": [
      "Task 60 completed with state COMPLETED: \n",
      "Polling for task (id: BMY7IFESIF4Y3R2JV3QNMGIU).\n",
      "Polling for task (id: BMY7IFESIF4Y3R2JV3QNMGIU).\n",
      "Polling for task (id: BMY7IFESIF4Y3R2JV3QNMGIU).\n",
      "Polling for task (id: BMY7IFESIF4Y3R2JV3QNMGIU).\n",
      "Polling for task (id: BMY7IFESIF4Y3R2JV3QNMGIU).\n",
      "Polling for task (id: BMY7IFESIF4Y3R2JV3QNMGIU).\n"
     ]
    },
    {
     "name": "stderr",
     "output_type": "stream",
     "text": [
      "\n",
      "Exporting Images:  18%|█▊        | 61/334 [19:51<1:45:53, 23.27s/it]\u001b[A"
     ]
    },
    {
     "name": "stdout",
     "output_type": "stream",
     "text": [
      "Task 61 completed with state COMPLETED: \n",
      "Polling for task (id: YMB6JVAKQ2XPJYTN2P7Z6DDP).\n",
      "Polling for task (id: YMB6JVAKQ2XPJYTN2P7Z6DDP).\n",
      "Polling for task (id: YMB6JVAKQ2XPJYTN2P7Z6DDP).\n",
      "Polling for task (id: YMB6JVAKQ2XPJYTN2P7Z6DDP).\n"
     ]
    },
    {
     "name": "stderr",
     "output_type": "stream",
     "text": [
      "\n",
      "Exporting Images:  19%|█▊        | 62/334 [20:18<1:50:23, 24.35s/it]\u001b[A"
     ]
    },
    {
     "name": "stdout",
     "output_type": "stream",
     "text": [
      "Task 62 completed with state COMPLETED: \n",
      "Polling for task (id: Q56MPKFHND4OQLHGVMMPNJSK).\n",
      "Polling for task (id: Q56MPKFHND4OQLHGVMMPNJSK).\n",
      "Polling for task (id: Q56MPKFHND4OQLHGVMMPNJSK).\n",
      "Polling for task (id: Q56MPKFHND4OQLHGVMMPNJSK).\n"
     ]
    },
    {
     "name": "stderr",
     "output_type": "stream",
     "text": [
      "\n",
      "Exporting Images:  19%|█▉        | 63/334 [20:41<1:48:52, 24.10s/it]\u001b[A"
     ]
    },
    {
     "name": "stdout",
     "output_type": "stream",
     "text": [
      "Task 63 completed with state COMPLETED: \n",
      "Polling for task (id: TFMV5ODLVSASW6PNBZW7M6KJ).\n",
      "Polling for task (id: TFMV5ODLVSASW6PNBZW7M6KJ).\n",
      "Polling for task (id: TFMV5ODLVSASW6PNBZW7M6KJ).\n"
     ]
    },
    {
     "name": "stderr",
     "output_type": "stream",
     "text": [
      "\n",
      "Exporting Images:  19%|█▉        | 64/334 [21:00<1:40:34, 22.35s/it]\u001b[A"
     ]
    },
    {
     "name": "stdout",
     "output_type": "stream",
     "text": [
      "Task 64 completed with state COMPLETED: \n",
      "Polling for task (id: I5IM6H63RQUAOFZZHRJDDPZE).\n",
      "Polling for task (id: I5IM6H63RQUAOFZZHRJDDPZE).\n",
      "Polling for task (id: I5IM6H63RQUAOFZZHRJDDPZE).\n"
     ]
    },
    {
     "name": "stderr",
     "output_type": "stream",
     "text": [
      "\n",
      "Exporting Images:  19%|█▉        | 65/334 [21:18<1:34:31, 21.08s/it]\u001b[A"
     ]
    },
    {
     "name": "stdout",
     "output_type": "stream",
     "text": [
      "Task 65 completed with state COMPLETED: \n",
      "Polling for task (id: 5RKG3EV3O6U3VOWVIGF5WTLF).\n",
      "Polling for task (id: 5RKG3EV3O6U3VOWVIGF5WTLF).\n",
      "Polling for task (id: 5RKG3EV3O6U3VOWVIGF5WTLF).\n"
     ]
    },
    {
     "name": "stderr",
     "output_type": "stream",
     "text": [
      "\n",
      "Exporting Images:  20%|█▉        | 66/334 [21:36<1:30:21, 20.23s/it]\u001b[A"
     ]
    },
    {
     "name": "stdout",
     "output_type": "stream",
     "text": [
      "Task 66 completed with state COMPLETED: \n",
      "Polling for task (id: 5MB4W4EXWK5Q7MC54VANZOJ5).\n",
      "Polling for task (id: 5MB4W4EXWK5Q7MC54VANZOJ5).\n",
      "Polling for task (id: 5MB4W4EXWK5Q7MC54VANZOJ5).\n"
     ]
    },
    {
     "name": "stderr",
     "output_type": "stream",
     "text": [
      "\n",
      "Exporting Images:  20%|██        | 67/334 [21:54<1:27:29, 19.66s/it]\u001b[A"
     ]
    },
    {
     "name": "stdout",
     "output_type": "stream",
     "text": [
      "Task 67 completed with state COMPLETED: \n",
      "Polling for task (id: ACT5CNH7227IVWXMRQJ3OKG4).\n",
      "Polling for task (id: ACT5CNH7227IVWXMRQJ3OKG4).\n",
      "Polling for task (id: ACT5CNH7227IVWXMRQJ3OKG4).\n"
     ]
    },
    {
     "name": "stderr",
     "output_type": "stream",
     "text": [
      "\n",
      "Exporting Images:  20%|██        | 68/334 [22:13<1:25:14, 19.23s/it]\u001b[A"
     ]
    },
    {
     "name": "stdout",
     "output_type": "stream",
     "text": [
      "Task 68 completed with state COMPLETED: \n",
      "Polling for task (id: 3BYAS6UB4FBZXGXFTIZFIFKX).\n",
      "Polling for task (id: 3BYAS6UB4FBZXGXFTIZFIFKX).\n",
      "Polling for task (id: 3BYAS6UB4FBZXGXFTIZFIFKX).\n"
     ]
    },
    {
     "name": "stderr",
     "output_type": "stream",
     "text": [
      "\n",
      "Exporting Images:  21%|██        | 69/334 [22:31<1:23:30, 18.91s/it]\u001b[A"
     ]
    },
    {
     "name": "stdout",
     "output_type": "stream",
     "text": [
      "Task 69 completed with state COMPLETED: \n",
      "Polling for task (id: TCCPXJNIKVD54DL4PCL6S3FK).\n",
      "Polling for task (id: TCCPXJNIKVD54DL4PCL6S3FK).\n",
      "Polling for task (id: TCCPXJNIKVD54DL4PCL6S3FK).\n"
     ]
    },
    {
     "name": "stderr",
     "output_type": "stream",
     "text": [
      "\n",
      "Exporting Images:  21%|██        | 70/334 [22:49<1:22:06, 18.66s/it]\u001b[A"
     ]
    },
    {
     "name": "stdout",
     "output_type": "stream",
     "text": [
      "Task 70 completed with state COMPLETED: \n",
      "Polling for task (id: 2HYYV6D6DLKSHOSFZ5EGICMW).\n",
      "Polling for task (id: 2HYYV6D6DLKSHOSFZ5EGICMW).\n",
      "Polling for task (id: 2HYYV6D6DLKSHOSFZ5EGICMW).\n"
     ]
    },
    {
     "name": "stderr",
     "output_type": "stream",
     "text": [
      "\n",
      "Exporting Images:  21%|██▏       | 71/334 [23:07<1:21:14, 18.53s/it]\u001b[A"
     ]
    },
    {
     "name": "stdout",
     "output_type": "stream",
     "text": [
      "Task 71 completed with state COMPLETED: \n",
      "Polling for task (id: BRN4YYSQBJTXABR5EQ6OCBBV).\n",
      "Polling for task (id: BRN4YYSQBJTXABR5EQ6OCBBV).\n",
      "Polling for task (id: BRN4YYSQBJTXABR5EQ6OCBBV).\n"
     ]
    },
    {
     "name": "stderr",
     "output_type": "stream",
     "text": [
      "\n",
      "Exporting Images:  22%|██▏       | 72/334 [23:25<1:20:33, 18.45s/it]\u001b[A"
     ]
    },
    {
     "name": "stdout",
     "output_type": "stream",
     "text": [
      "Task 72 completed with state COMPLETED: \n",
      "Polling for task (id: 5XWMXHCM53NEXNVIICI7DFVH).\n",
      "Polling for task (id: 5XWMXHCM53NEXNVIICI7DFVH).\n",
      "Polling for task (id: 5XWMXHCM53NEXNVIICI7DFVH).\n"
     ]
    },
    {
     "name": "stderr",
     "output_type": "stream",
     "text": [
      "\n",
      "Exporting Images:  22%|██▏       | 73/334 [23:43<1:19:51, 18.36s/it]\u001b[A"
     ]
    },
    {
     "name": "stdout",
     "output_type": "stream",
     "text": [
      "Task 73 completed with state COMPLETED: \n",
      "Polling for task (id: SVBVRY546IWP75PHSDEYZHZW).\n",
      "Polling for task (id: SVBVRY546IWP75PHSDEYZHZW).\n",
      "Polling for task (id: SVBVRY546IWP75PHSDEYZHZW).\n"
     ]
    },
    {
     "name": "stderr",
     "output_type": "stream",
     "text": [
      "\n",
      "Exporting Images:  22%|██▏       | 74/334 [24:02<1:19:18, 18.30s/it]\u001b[A"
     ]
    },
    {
     "name": "stdout",
     "output_type": "stream",
     "text": [
      "Task 74 completed with state COMPLETED: \n",
      "Polling for task (id: UZLI7NMEWEHIX6CP3CSYVQXM).\n",
      "Polling for task (id: UZLI7NMEWEHIX6CP3CSYVQXM).\n",
      "Polling for task (id: UZLI7NMEWEHIX6CP3CSYVQXM).\n"
     ]
    },
    {
     "name": "stderr",
     "output_type": "stream",
     "text": [
      "\n",
      "Exporting Images:  22%|██▏       | 75/334 [24:20<1:19:01, 18.31s/it]\u001b[A"
     ]
    },
    {
     "name": "stdout",
     "output_type": "stream",
     "text": [
      "Task 75 completed with state COMPLETED: \n",
      "Polling for task (id: TYK4IK6TQIAZZSQPSVA25RUE).\n",
      "Polling for task (id: TYK4IK6TQIAZZSQPSVA25RUE).\n",
      "Polling for task (id: TYK4IK6TQIAZZSQPSVA25RUE).\n"
     ]
    },
    {
     "name": "stderr",
     "output_type": "stream",
     "text": [
      "\n",
      "Exporting Images:  23%|██▎       | 76/334 [24:38<1:18:38, 18.29s/it]\u001b[A"
     ]
    },
    {
     "name": "stdout",
     "output_type": "stream",
     "text": [
      "Task 76 completed with state COMPLETED: \n",
      "Polling for task (id: 6BZAH2NZXZSIVI7LENU2OYJX).\n",
      "Polling for task (id: 6BZAH2NZXZSIVI7LENU2OYJX).\n",
      "Polling for task (id: 6BZAH2NZXZSIVI7LENU2OYJX).\n"
     ]
    },
    {
     "name": "stderr",
     "output_type": "stream",
     "text": [
      "\n",
      "Exporting Images:  23%|██▎       | 77/334 [24:56<1:18:09, 18.25s/it]\u001b[A"
     ]
    },
    {
     "name": "stdout",
     "output_type": "stream",
     "text": [
      "Task 77 completed with state COMPLETED: \n",
      "Polling for task (id: UKIZSPKUK6B4BFXIBO7EKES5).\n",
      "Polling for task (id: UKIZSPKUK6B4BFXIBO7EKES5).\n",
      "Polling for task (id: UKIZSPKUK6B4BFXIBO7EKES5).\n"
     ]
    },
    {
     "name": "stderr",
     "output_type": "stream",
     "text": [
      "\n",
      "Exporting Images:  23%|██▎       | 78/334 [25:14<1:17:39, 18.20s/it]\u001b[A"
     ]
    },
    {
     "name": "stdout",
     "output_type": "stream",
     "text": [
      "Task 78 completed with state COMPLETED: \n",
      "Polling for task (id: FQIXN57L5LBKJE4LE5TECVUE).\n",
      "Polling for task (id: FQIXN57L5LBKJE4LE5TECVUE).\n",
      "Polling for task (id: FQIXN57L5LBKJE4LE5TECVUE).\n"
     ]
    },
    {
     "name": "stderr",
     "output_type": "stream",
     "text": [
      "\n",
      "Exporting Images:  24%|██▎       | 79/334 [25:33<1:17:25, 18.22s/it]\u001b[A"
     ]
    },
    {
     "name": "stdout",
     "output_type": "stream",
     "text": [
      "Task 79 completed with state COMPLETED: \n",
      "Polling for task (id: 6TPNCHCGJGAFVSYSPS226M4X).\n",
      "Polling for task (id: 6TPNCHCGJGAFVSYSPS226M4X).\n",
      "Polling for task (id: 6TPNCHCGJGAFVSYSPS226M4X).\n"
     ]
    },
    {
     "name": "stderr",
     "output_type": "stream",
     "text": [
      "\n",
      "Exporting Images:  24%|██▍       | 80/334 [25:51<1:17:07, 18.22s/it]\u001b[A"
     ]
    },
    {
     "name": "stdout",
     "output_type": "stream",
     "text": [
      "Task 80 completed with state COMPLETED: \n",
      "Polling for task (id: LBVFEHQVD3TR5HTM2BOHNXRQ).\n",
      "Polling for task (id: LBVFEHQVD3TR5HTM2BOHNXRQ).\n",
      "Polling for task (id: LBVFEHQVD3TR5HTM2BOHNXRQ).\n"
     ]
    },
    {
     "name": "stderr",
     "output_type": "stream",
     "text": [
      "\n",
      "Exporting Images:  24%|██▍       | 81/334 [26:09<1:16:37, 18.17s/it]\u001b[A"
     ]
    },
    {
     "name": "stdout",
     "output_type": "stream",
     "text": [
      "Task 81 completed with state COMPLETED: \n",
      "Polling for task (id: HE5PYC3W3FSSIB4PLMMOP24B).\n",
      "Polling for task (id: HE5PYC3W3FSSIB4PLMMOP24B).\n",
      "Polling for task (id: HE5PYC3W3FSSIB4PLMMOP24B).\n"
     ]
    },
    {
     "name": "stderr",
     "output_type": "stream",
     "text": [
      "\n",
      "Exporting Images:  25%|██▍       | 82/334 [26:27<1:16:14, 18.15s/it]\u001b[A"
     ]
    },
    {
     "name": "stdout",
     "output_type": "stream",
     "text": [
      "Task 82 completed with state COMPLETED: \n",
      "Polling for task (id: DYXV5O6QZ2JASOEBCGQ355PZ).\n",
      "Polling for task (id: DYXV5O6QZ2JASOEBCGQ355PZ).\n",
      "Polling for task (id: DYXV5O6QZ2JASOEBCGQ355PZ).\n"
     ]
    },
    {
     "name": "stderr",
     "output_type": "stream",
     "text": [
      "\n",
      "Exporting Images:  25%|██▍       | 83/334 [26:45<1:15:54, 18.15s/it]\u001b[A"
     ]
    },
    {
     "name": "stdout",
     "output_type": "stream",
     "text": [
      "Task 83 completed with state COMPLETED: \n",
      "Polling for task (id: KH5TNQ2OJ7WKRMQTIXRJOTUF).\n",
      "Polling for task (id: KH5TNQ2OJ7WKRMQTIXRJOTUF).\n",
      "Polling for task (id: KH5TNQ2OJ7WKRMQTIXRJOTUF).\n",
      "Polling for task (id: KH5TNQ2OJ7WKRMQTIXRJOTUF).\n"
     ]
    },
    {
     "name": "stderr",
     "output_type": "stream",
     "text": [
      "\n",
      "Exporting Images:  25%|██▌       | 84/334 [27:09<1:22:07, 19.71s/it]\u001b[A"
     ]
    },
    {
     "name": "stdout",
     "output_type": "stream",
     "text": [
      "Task 84 completed with state COMPLETED: \n",
      "Polling for task (id: P7EVMDBJVFFPFEB6H7D65ERG).\n",
      "Polling for task (id: P7EVMDBJVFFPFEB6H7D65ERG).\n",
      "Polling for task (id: P7EVMDBJVFFPFEB6H7D65ERG).\n"
     ]
    },
    {
     "name": "stderr",
     "output_type": "stream",
     "text": [
      "\n",
      "Exporting Images:  25%|██▌       | 85/334 [27:27<1:19:52, 19.25s/it]\u001b[A"
     ]
    },
    {
     "name": "stdout",
     "output_type": "stream",
     "text": [
      "Task 85 completed with state COMPLETED: \n",
      "Polling for task (id: F6OLVTT6I4XTOSW7M7FT2VW5).\n",
      "Polling for task (id: F6OLVTT6I4XTOSW7M7FT2VW5).\n",
      "Polling for task (id: F6OLVTT6I4XTOSW7M7FT2VW5).\n"
     ]
    },
    {
     "name": "stderr",
     "output_type": "stream",
     "text": [
      "\n",
      "Exporting Images:  26%|██▌       | 86/334 [27:45<1:18:06, 18.90s/it]\u001b[A"
     ]
    },
    {
     "name": "stdout",
     "output_type": "stream",
     "text": [
      "Task 86 completed with state COMPLETED: \n",
      "Polling for task (id: Q2VTFASHCD6PEOZVA5WCCY6X).\n",
      "Polling for task (id: Q2VTFASHCD6PEOZVA5WCCY6X).\n",
      "Polling for task (id: Q2VTFASHCD6PEOZVA5WCCY6X).\n"
     ]
    },
    {
     "name": "stderr",
     "output_type": "stream",
     "text": [
      "\n",
      "Exporting Images:  26%|██▌       | 87/334 [28:03<1:16:59, 18.70s/it]\u001b[A"
     ]
    },
    {
     "name": "stdout",
     "output_type": "stream",
     "text": [
      "Task 87 completed with state COMPLETED: \n",
      "Polling for task (id: BOR7R2L6OENBHQREZQVUDO4K).\n",
      "Polling for task (id: BOR7R2L6OENBHQREZQVUDO4K).\n",
      "Polling for task (id: BOR7R2L6OENBHQREZQVUDO4K).\n"
     ]
    },
    {
     "name": "stderr",
     "output_type": "stream",
     "text": [
      "\n",
      "Exporting Images:  26%|██▋       | 88/334 [28:21<1:15:55, 18.52s/it]\u001b[A"
     ]
    },
    {
     "name": "stdout",
     "output_type": "stream",
     "text": [
      "Task 88 completed with state COMPLETED: \n",
      "Polling for task (id: TRJ5ANFQMP42USVVWCW4X5BU).\n",
      "Polling for task (id: TRJ5ANFQMP42USVVWCW4X5BU).\n",
      "Polling for task (id: TRJ5ANFQMP42USVVWCW4X5BU).\n"
     ]
    },
    {
     "name": "stderr",
     "output_type": "stream",
     "text": [
      "\n",
      "Exporting Images:  27%|██▋       | 89/334 [28:39<1:15:17, 18.44s/it]\u001b[A"
     ]
    },
    {
     "name": "stdout",
     "output_type": "stream",
     "text": [
      "Task 89 completed with state COMPLETED: \n",
      "Polling for task (id: PHWV7A473KLKW2WD2IW64RL5).\n",
      "Polling for task (id: PHWV7A473KLKW2WD2IW64RL5).\n",
      "Polling for task (id: PHWV7A473KLKW2WD2IW64RL5).\n"
     ]
    },
    {
     "name": "stderr",
     "output_type": "stream",
     "text": [
      "\n",
      "Exporting Images:  27%|██▋       | 90/334 [28:58<1:14:37, 18.35s/it]\u001b[A"
     ]
    },
    {
     "name": "stdout",
     "output_type": "stream",
     "text": [
      "Task 90 completed with state COMPLETED: \n",
      "Polling for task (id: KWFSKBKHNBJBT64HKWQT2FLM).\n",
      "Polling for task (id: KWFSKBKHNBJBT64HKWQT2FLM).\n",
      "Polling for task (id: KWFSKBKHNBJBT64HKWQT2FLM).\n"
     ]
    },
    {
     "name": "stderr",
     "output_type": "stream",
     "text": [
      "\n",
      "Exporting Images:  27%|██▋       | 91/334 [29:16<1:14:18, 18.35s/it]\u001b[A"
     ]
    },
    {
     "name": "stdout",
     "output_type": "stream",
     "text": [
      "Task 91 completed with state COMPLETED: \n",
      "Polling for task (id: V5ITJJQCCRXLV7UO7VZVPZOS).\n",
      "Polling for task (id: V5ITJJQCCRXLV7UO7VZVPZOS).\n",
      "Polling for task (id: V5ITJJQCCRXLV7UO7VZVPZOS).\n"
     ]
    },
    {
     "name": "stderr",
     "output_type": "stream",
     "text": [
      "\n",
      "Exporting Images:  28%|██▊       | 92/334 [29:34<1:13:43, 18.28s/it]\u001b[A"
     ]
    },
    {
     "name": "stdout",
     "output_type": "stream",
     "text": [
      "Task 92 completed with state COMPLETED: \n",
      "Polling for task (id: CLIOQOSUWGW6VWRFPXKD6QQ7).\n",
      "Polling for task (id: CLIOQOSUWGW6VWRFPXKD6QQ7).\n",
      "Polling for task (id: CLIOQOSUWGW6VWRFPXKD6QQ7).\n"
     ]
    },
    {
     "name": "stderr",
     "output_type": "stream",
     "text": [
      "\n",
      "Exporting Images:  28%|██▊       | 93/334 [29:52<1:13:11, 18.22s/it]\u001b[A"
     ]
    },
    {
     "name": "stdout",
     "output_type": "stream",
     "text": [
      "Task 93 completed with state COMPLETED: \n",
      "Polling for task (id: RPYKD2N3NI5OBITGGK5A2MFD).\n",
      "Polling for task (id: RPYKD2N3NI5OBITGGK5A2MFD).\n",
      "Polling for task (id: RPYKD2N3NI5OBITGGK5A2MFD).\n",
      "Polling for task (id: RPYKD2N3NI5OBITGGK5A2MFD).\n"
     ]
    },
    {
     "name": "stderr",
     "output_type": "stream",
     "text": [
      "\n",
      "Exporting Images:  28%|██▊       | 94/334 [30:16<1:19:26, 19.86s/it]\u001b[A"
     ]
    },
    {
     "name": "stdout",
     "output_type": "stream",
     "text": [
      "Task 94 completed with state COMPLETED: \n",
      "Polling for task (id: 5YDO4HVZZZE4NVUY4LAWR32U).\n",
      "Polling for task (id: 5YDO4HVZZZE4NVUY4LAWR32U).\n",
      "Polling for task (id: 5YDO4HVZZZE4NVUY4LAWR32U).\n"
     ]
    },
    {
     "name": "stderr",
     "output_type": "stream",
     "text": [
      "\n",
      "Exporting Images:  28%|██▊       | 95/334 [30:34<1:16:59, 19.33s/it]\u001b[A"
     ]
    },
    {
     "name": "stdout",
     "output_type": "stream",
     "text": [
      "Task 95 completed with state COMPLETED: \n",
      "Polling for task (id: BZVE45WIRBZREFZS24NYGLWT).\n",
      "Polling for task (id: BZVE45WIRBZREFZS24NYGLWT).\n",
      "Polling for task (id: BZVE45WIRBZREFZS24NYGLWT).\n"
     ]
    },
    {
     "name": "stderr",
     "output_type": "stream",
     "text": [
      "\n",
      "Exporting Images:  29%|██▊       | 96/334 [30:52<1:15:02, 18.92s/it]\u001b[A"
     ]
    },
    {
     "name": "stdout",
     "output_type": "stream",
     "text": [
      "Task 96 completed with state COMPLETED: \n",
      "Polling for task (id: E4MS7UN2ZAY27XK2NMIX32EA).\n",
      "Polling for task (id: E4MS7UN2ZAY27XK2NMIX32EA).\n",
      "Polling for task (id: E4MS7UN2ZAY27XK2NMIX32EA).\n"
     ]
    },
    {
     "name": "stderr",
     "output_type": "stream",
     "text": [
      "\n",
      "Exporting Images:  29%|██▉       | 97/334 [31:10<1:13:46, 18.68s/it]\u001b[A"
     ]
    },
    {
     "name": "stdout",
     "output_type": "stream",
     "text": [
      "Task 97 completed with state COMPLETED: \n",
      "Polling for task (id: XWE4WUFCIDYJJMTEEVKVTB2O).\n",
      "Polling for task (id: XWE4WUFCIDYJJMTEEVKVTB2O).\n",
      "Polling for task (id: XWE4WUFCIDYJJMTEEVKVTB2O).\n"
     ]
    },
    {
     "name": "stderr",
     "output_type": "stream",
     "text": [
      "\n",
      "Exporting Images:  29%|██▉       | 98/334 [31:28<1:12:45, 18.50s/it]\u001b[A"
     ]
    },
    {
     "name": "stdout",
     "output_type": "stream",
     "text": [
      "Task 98 completed with state COMPLETED: \n",
      "Polling for task (id: Y6P54P55JCOPULCDOWB6HCEQ).\n",
      "Polling for task (id: Y6P54P55JCOPULCDOWB6HCEQ).\n",
      "Polling for task (id: Y6P54P55JCOPULCDOWB6HCEQ).\n",
      "Polling for task (id: Y6P54P55JCOPULCDOWB6HCEQ).\n"
     ]
    },
    {
     "name": "stderr",
     "output_type": "stream",
     "text": [
      "\n",
      "Exporting Images:  30%|██▉       | 99/334 [31:52<1:18:59, 20.17s/it]\u001b[A"
     ]
    },
    {
     "name": "stdout",
     "output_type": "stream",
     "text": [
      "Task 99 completed with state COMPLETED: \n",
      "Polling for task (id: AC5LFZEJDIWFCMOZMAFEHZVD).\n",
      "Polling for task (id: AC5LFZEJDIWFCMOZMAFEHZVD).\n",
      "Polling for task (id: AC5LFZEJDIWFCMOZMAFEHZVD).\n"
     ]
    },
    {
     "name": "stderr",
     "output_type": "stream",
     "text": [
      "\n",
      "Exporting Images:  30%|██▉       | 100/334 [32:10<1:16:35, 19.64s/it]\u001b[A"
     ]
    },
    {
     "name": "stdout",
     "output_type": "stream",
     "text": [
      "Task 100 completed with state COMPLETED: \n",
      "Polling for task (id: QJPRC6VGI4WIFI2JVZ2B4AVK).\n",
      "Polling for task (id: QJPRC6VGI4WIFI2JVZ2B4AVK).\n",
      "Polling for task (id: QJPRC6VGI4WIFI2JVZ2B4AVK).\n",
      "Polling for task (id: QJPRC6VGI4WIFI2JVZ2B4AVK).\n",
      "Polling for task (id: QJPRC6VGI4WIFI2JVZ2B4AVK).\n",
      "Polling for task (id: QJPRC6VGI4WIFI2JVZ2B4AVK).\n",
      "Polling for task (id: QJPRC6VGI4WIFI2JVZ2B4AVK).\n",
      "Polling for task (id: QJPRC6VGI4WIFI2JVZ2B4AVK).\n",
      "Polling for task (id: QJPRC6VGI4WIFI2JVZ2B4AVK).\n",
      "Polling for task (id: QJPRC6VGI4WIFI2JVZ2B4AVK).\n",
      "Polling for task (id: QJPRC6VGI4WIFI2JVZ2B4AVK).\n",
      "Polling for task (id: QJPRC6VGI4WIFI2JVZ2B4AVK).\n",
      "Polling for task (id: QJPRC6VGI4WIFI2JVZ2B4AVK).\n",
      "Polling for task (id: QJPRC6VGI4WIFI2JVZ2B4AVK).\n",
      "Polling for task (id: QJPRC6VGI4WIFI2JVZ2B4AVK).\n",
      "Polling for task (id: QJPRC6VGI4WIFI2JVZ2B4AVK).\n",
      "Polling for task (id: QJPRC6VGI4WIFI2JVZ2B4AVK).\n",
      "Polling for task (id: QJPRC6VGI4WIFI2JVZ2B4AVK).\n"
     ]
    },
    {
     "name": "stderr",
     "output_type": "stream",
     "text": [
      "\n",
      "Exporting Images:  30%|███       | 101/334 [33:49<2:48:07, 43.29s/it]\u001b[A"
     ]
    },
    {
     "name": "stdout",
     "output_type": "stream",
     "text": [
      "Task 101 completed with state COMPLETED: \n",
      "Polling for task (id: HMIDJZMKOPH4I6OGVGFQ4CJG).\n",
      "Polling for task (id: HMIDJZMKOPH4I6OGVGFQ4CJG).\n",
      "Polling for task (id: HMIDJZMKOPH4I6OGVGFQ4CJG).\n"
     ]
    },
    {
     "name": "stderr",
     "output_type": "stream",
     "text": [
      "\n",
      "Exporting Images:  31%|███       | 102/334 [34:07<2:18:30, 35.82s/it]\u001b[A"
     ]
    },
    {
     "name": "stdout",
     "output_type": "stream",
     "text": [
      "Task 102 completed with state COMPLETED: \n",
      "Polling for task (id: BABRBXDT5I32TPKODUOQ3YJ4).\n",
      "Polling for task (id: BABRBXDT5I32TPKODUOQ3YJ4).\n",
      "Polling for task (id: BABRBXDT5I32TPKODUOQ3YJ4).\n"
     ]
    },
    {
     "name": "stderr",
     "output_type": "stream",
     "text": [
      "\n",
      "Exporting Images:  31%|███       | 103/334 [34:26<1:57:32, 30.53s/it]\u001b[A"
     ]
    },
    {
     "name": "stdout",
     "output_type": "stream",
     "text": [
      "Task 103 completed with state COMPLETED: \n",
      "Polling for task (id: ALGMBHNR5TCQ6JA64PO5DPHL).\n",
      "Polling for task (id: ALGMBHNR5TCQ6JA64PO5DPHL).\n",
      "Polling for task (id: ALGMBHNR5TCQ6JA64PO5DPHL).\n"
     ]
    },
    {
     "name": "stderr",
     "output_type": "stream",
     "text": [
      "\n",
      "Exporting Images:  31%|███       | 104/334 [34:44<1:42:53, 26.84s/it]\u001b[A"
     ]
    },
    {
     "name": "stdout",
     "output_type": "stream",
     "text": [
      "Task 104 completed with state COMPLETED: \n",
      "Polling for task (id: 7E3S2IAQCSSX5LNFXWT43RJV).\n",
      "Polling for task (id: 7E3S2IAQCSSX5LNFXWT43RJV).\n",
      "Polling for task (id: 7E3S2IAQCSSX5LNFXWT43RJV).\n"
     ]
    },
    {
     "name": "stderr",
     "output_type": "stream",
     "text": [
      "\n",
      "Exporting Images:  31%|███▏      | 105/334 [35:02<1:32:26, 24.22s/it]\u001b[A"
     ]
    },
    {
     "name": "stdout",
     "output_type": "stream",
     "text": [
      "Task 105 completed with state COMPLETED: \n",
      "Polling for task (id: CTEO5XGZ2YFKYHPLFLDNR2WN).\n",
      "Polling for task (id: CTEO5XGZ2YFKYHPLFLDNR2WN).\n",
      "Polling for task (id: CTEO5XGZ2YFKYHPLFLDNR2WN).\n"
     ]
    },
    {
     "name": "stderr",
     "output_type": "stream",
     "text": [
      "\n",
      "Exporting Images:  32%|███▏      | 106/334 [35:20<1:25:06, 22.40s/it]\u001b[A"
     ]
    },
    {
     "name": "stdout",
     "output_type": "stream",
     "text": [
      "Task 106 completed with state COMPLETED: \n",
      "Polling for task (id: QKYV4WDHUNA3BDO2OIE2J6TF).\n",
      "Polling for task (id: QKYV4WDHUNA3BDO2OIE2J6TF).\n",
      "Polling for task (id: QKYV4WDHUNA3BDO2OIE2J6TF).\n"
     ]
    },
    {
     "name": "stderr",
     "output_type": "stream",
     "text": [
      "\n",
      "Exporting Images:  32%|███▏      | 107/334 [35:38<1:20:12, 21.20s/it]\u001b[A"
     ]
    },
    {
     "name": "stdout",
     "output_type": "stream",
     "text": [
      "Task 107 completed with state COMPLETED: \n",
      "Polling for task (id: VZLJWRYD6WWUK3VJB55T6EPY).\n",
      "Polling for task (id: VZLJWRYD6WWUK3VJB55T6EPY).\n",
      "Polling for task (id: VZLJWRYD6WWUK3VJB55T6EPY).\n"
     ]
    },
    {
     "name": "stderr",
     "output_type": "stream",
     "text": [
      "\n",
      "Exporting Images:  32%|███▏      | 108/334 [35:57<1:16:23, 20.28s/it]\u001b[A"
     ]
    },
    {
     "name": "stdout",
     "output_type": "stream",
     "text": [
      "Task 108 completed with state COMPLETED: \n",
      "Polling for task (id: S27I44T56FXC7JEYOMOOEUOG).\n",
      "Polling for task (id: S27I44T56FXC7JEYOMOOEUOG).\n",
      "Polling for task (id: S27I44T56FXC7JEYOMOOEUOG).\n"
     ]
    },
    {
     "name": "stderr",
     "output_type": "stream",
     "text": [
      "\n",
      "Exporting Images:  33%|███▎      | 109/334 [36:15<1:13:45, 19.67s/it]\u001b[A"
     ]
    },
    {
     "name": "stdout",
     "output_type": "stream",
     "text": [
      "Task 109 completed with state COMPLETED: \n",
      "Polling for task (id: UHFO76RMRKCFWOWPC7M5V7JV).\n",
      "Polling for task (id: UHFO76RMRKCFWOWPC7M5V7JV).\n",
      "Polling for task (id: UHFO76RMRKCFWOWPC7M5V7JV).\n"
     ]
    },
    {
     "name": "stderr",
     "output_type": "stream",
     "text": [
      "\n",
      "Exporting Images:  33%|███▎      | 110/334 [36:33<1:11:45, 19.22s/it]\u001b[A"
     ]
    },
    {
     "name": "stdout",
     "output_type": "stream",
     "text": [
      "Task 110 completed with state COMPLETED: \n",
      "Polling for task (id: QLHDRAGSHSSTXFW5ELJS7VAR).\n",
      "Polling for task (id: QLHDRAGSHSSTXFW5ELJS7VAR).\n",
      "Polling for task (id: QLHDRAGSHSSTXFW5ELJS7VAR).\n"
     ]
    },
    {
     "name": "stderr",
     "output_type": "stream",
     "text": [
      "\n",
      "Exporting Images:  33%|███▎      | 111/334 [36:51<1:10:30, 18.97s/it]\u001b[A"
     ]
    },
    {
     "name": "stdout",
     "output_type": "stream",
     "text": [
      "Task 111 completed with state COMPLETED: \n",
      "Polling for task (id: IUIEHA73RIJPTYDDAMCPKPL3).\n",
      "Polling for task (id: IUIEHA73RIJPTYDDAMCPKPL3).\n",
      "Polling for task (id: IUIEHA73RIJPTYDDAMCPKPL3).\n"
     ]
    },
    {
     "name": "stderr",
     "output_type": "stream",
     "text": [
      "\n",
      "Exporting Images:  34%|███▎      | 112/334 [37:10<1:09:28, 18.78s/it]\u001b[A"
     ]
    },
    {
     "name": "stdout",
     "output_type": "stream",
     "text": [
      "Task 112 completed with state COMPLETED: \n",
      "Polling for task (id: ODIBLWJ3OMP56HEH3ALG6JLB).\n",
      "Polling for task (id: ODIBLWJ3OMP56HEH3ALG6JLB).\n",
      "Polling for task (id: ODIBLWJ3OMP56HEH3ALG6JLB).\n"
     ]
    },
    {
     "name": "stderr",
     "output_type": "stream",
     "text": [
      "\n",
      "Exporting Images:  34%|███▍      | 113/334 [37:28<1:08:32, 18.61s/it]\u001b[A"
     ]
    },
    {
     "name": "stdout",
     "output_type": "stream",
     "text": [
      "Task 113 completed with state COMPLETED: \n",
      "Polling for task (id: PY4BAGJ4OJJLRTRBWZWSCL2D).\n",
      "Polling for task (id: PY4BAGJ4OJJLRTRBWZWSCL2D).\n",
      "Polling for task (id: PY4BAGJ4OJJLRTRBWZWSCL2D).\n"
     ]
    },
    {
     "name": "stderr",
     "output_type": "stream",
     "text": [
      "\n",
      "Exporting Images:  34%|███▍      | 114/334 [37:46<1:07:47, 18.49s/it]\u001b[A"
     ]
    },
    {
     "name": "stdout",
     "output_type": "stream",
     "text": [
      "Task 114 completed with state COMPLETED: \n",
      "Polling for task (id: 35NADIGJKBNBE4ABQDYTOR66).\n",
      "Polling for task (id: 35NADIGJKBNBE4ABQDYTOR66).\n",
      "Polling for task (id: 35NADIGJKBNBE4ABQDYTOR66).\n"
     ]
    },
    {
     "name": "stderr",
     "output_type": "stream",
     "text": [
      "\n",
      "Exporting Images:  34%|███▍      | 115/334 [38:04<1:07:05, 18.38s/it]\u001b[A"
     ]
    },
    {
     "name": "stdout",
     "output_type": "stream",
     "text": [
      "Task 115 completed with state COMPLETED: \n",
      "Polling for task (id: 33XVS3VJKPRYNBG2ENV77T57).\n",
      "Polling for task (id: 33XVS3VJKPRYNBG2ENV77T57).\n",
      "Polling for task (id: 33XVS3VJKPRYNBG2ENV77T57).\n"
     ]
    },
    {
     "name": "stderr",
     "output_type": "stream",
     "text": [
      "\n",
      "Exporting Images:  35%|███▍      | 116/334 [38:22<1:06:29, 18.30s/it]\u001b[A"
     ]
    },
    {
     "name": "stdout",
     "output_type": "stream",
     "text": [
      "Task 116 completed with state COMPLETED: \n",
      "Polling for task (id: QMX4A7JJ6WJLFTN2OA27OXMP).\n",
      "Polling for task (id: QMX4A7JJ6WJLFTN2OA27OXMP).\n",
      "Polling for task (id: QMX4A7JJ6WJLFTN2OA27OXMP).\n"
     ]
    },
    {
     "name": "stderr",
     "output_type": "stream",
     "text": [
      "\n",
      "Exporting Images:  35%|███▌      | 117/334 [38:41<1:06:06, 18.28s/it]\u001b[A"
     ]
    },
    {
     "name": "stdout",
     "output_type": "stream",
     "text": [
      "Task 117 completed with state COMPLETED: \n",
      "Polling for task (id: F7I4LHL5FRYGHK7MYL7CLYKH).\n",
      "Polling for task (id: F7I4LHL5FRYGHK7MYL7CLYKH).\n",
      "Polling for task (id: F7I4LHL5FRYGHK7MYL7CLYKH).\n"
     ]
    },
    {
     "name": "stderr",
     "output_type": "stream",
     "text": [
      "\n",
      "Exporting Images:  35%|███▌      | 118/334 [38:59<1:05:44, 18.26s/it]\u001b[A"
     ]
    },
    {
     "name": "stdout",
     "output_type": "stream",
     "text": [
      "Task 118 completed with state COMPLETED: \n",
      "Polling for task (id: XCGNWUHZY4ED2GQFYPJM5BPZ).\n",
      "Polling for task (id: XCGNWUHZY4ED2GQFYPJM5BPZ).\n",
      "Polling for task (id: XCGNWUHZY4ED2GQFYPJM5BPZ).\n"
     ]
    },
    {
     "name": "stderr",
     "output_type": "stream",
     "text": [
      "\n",
      "Exporting Images:  36%|███▌      | 119/334 [39:17<1:05:25, 18.26s/it]\u001b[A"
     ]
    },
    {
     "name": "stdout",
     "output_type": "stream",
     "text": [
      "Task 119 completed with state COMPLETED: \n",
      "Polling for task (id: H4W3ROI7LCPLGWG4UPXSSXI5).\n",
      "Polling for task (id: H4W3ROI7LCPLGWG4UPXSSXI5).\n",
      "Polling for task (id: H4W3ROI7LCPLGWG4UPXSSXI5).\n"
     ]
    },
    {
     "name": "stderr",
     "output_type": "stream",
     "text": [
      "\n",
      "Exporting Images:  36%|███▌      | 120/334 [39:35<1:05:01, 18.23s/it]\u001b[A"
     ]
    },
    {
     "name": "stdout",
     "output_type": "stream",
     "text": [
      "Task 120 completed with state COMPLETED: \n",
      "Polling for task (id: VUCUXRLJJMITLCJC7W4XUPYY).\n",
      "Polling for task (id: VUCUXRLJJMITLCJC7W4XUPYY).\n",
      "Polling for task (id: VUCUXRLJJMITLCJC7W4XUPYY).\n"
     ]
    },
    {
     "name": "stderr",
     "output_type": "stream",
     "text": [
      "\n",
      "Exporting Images:  36%|███▌      | 121/334 [39:53<1:04:33, 18.18s/it]\u001b[A"
     ]
    },
    {
     "name": "stdout",
     "output_type": "stream",
     "text": [
      "Task 121 completed with state COMPLETED: \n",
      "Polling for task (id: UL2OMISV57PPW3PRRNJ3WVSQ).\n",
      "Polling for task (id: UL2OMISV57PPW3PRRNJ3WVSQ).\n",
      "Polling for task (id: UL2OMISV57PPW3PRRNJ3WVSQ).\n"
     ]
    },
    {
     "name": "stderr",
     "output_type": "stream",
     "text": [
      "\n",
      "Exporting Images:  37%|███▋      | 122/334 [40:11<1:04:08, 18.15s/it]\u001b[A"
     ]
    },
    {
     "name": "stdout",
     "output_type": "stream",
     "text": [
      "Task 122 completed with state COMPLETED: \n",
      "Polling for task (id: N3J4RN4HGN2H6ABD36A37TRU).\n",
      "Polling for task (id: N3J4RN4HGN2H6ABD36A37TRU).\n",
      "Polling for task (id: N3J4RN4HGN2H6ABD36A37TRU).\n"
     ]
    },
    {
     "name": "stderr",
     "output_type": "stream",
     "text": [
      "\n",
      "Exporting Images:  37%|███▋      | 123/334 [40:30<1:03:54, 18.17s/it]\u001b[A"
     ]
    },
    {
     "name": "stdout",
     "output_type": "stream",
     "text": [
      "Task 123 completed with state COMPLETED: \n",
      "Polling for task (id: JBTDM35TTHT3ACIZID7KGAEJ).\n",
      "Polling for task (id: JBTDM35TTHT3ACIZID7KGAEJ).\n",
      "Polling for task (id: JBTDM35TTHT3ACIZID7KGAEJ).\n"
     ]
    },
    {
     "name": "stderr",
     "output_type": "stream",
     "text": [
      "\n",
      "Exporting Images:  37%|███▋      | 124/334 [40:48<1:03:44, 18.21s/it]\u001b[A"
     ]
    },
    {
     "name": "stdout",
     "output_type": "stream",
     "text": [
      "Task 124 completed with state COMPLETED: \n",
      "Polling for task (id: X2O7HOEPOC2H4N346CN7DMJS).\n",
      "Polling for task (id: X2O7HOEPOC2H4N346CN7DMJS).\n",
      "Polling for task (id: X2O7HOEPOC2H4N346CN7DMJS).\n"
     ]
    },
    {
     "name": "stderr",
     "output_type": "stream",
     "text": [
      "\n",
      "Exporting Images:  37%|███▋      | 125/334 [41:06<1:03:25, 18.21s/it]\u001b[A"
     ]
    },
    {
     "name": "stdout",
     "output_type": "stream",
     "text": [
      "Task 125 completed with state COMPLETED: \n",
      "Polling for task (id: DYOVJ27XX3PN3UYT6UXD7RQI).\n",
      "Polling for task (id: DYOVJ27XX3PN3UYT6UXD7RQI).\n",
      "Polling for task (id: DYOVJ27XX3PN3UYT6UXD7RQI).\n"
     ]
    },
    {
     "name": "stderr",
     "output_type": "stream",
     "text": [
      "\n",
      "Exporting Images:  38%|███▊      | 126/334 [41:24<1:03:10, 18.22s/it]\u001b[A"
     ]
    },
    {
     "name": "stdout",
     "output_type": "stream",
     "text": [
      "Task 126 completed with state COMPLETED: \n",
      "Polling for task (id: B6KYYMVTNL7VX6462EPE7DXM).\n",
      "Polling for task (id: B6KYYMVTNL7VX6462EPE7DXM).\n",
      "Polling for task (id: B6KYYMVTNL7VX6462EPE7DXM).\n"
     ]
    },
    {
     "name": "stderr",
     "output_type": "stream",
     "text": [
      "\n",
      "Exporting Images:  38%|███▊      | 127/334 [41:43<1:02:55, 18.24s/it]\u001b[A"
     ]
    },
    {
     "name": "stdout",
     "output_type": "stream",
     "text": [
      "Task 127 completed with state COMPLETED: \n",
      "Polling for task (id: 2HIQ7QEFYKCQQ5ZVR4I6AG3P).\n",
      "Polling for task (id: 2HIQ7QEFYKCQQ5ZVR4I6AG3P).\n",
      "Polling for task (id: 2HIQ7QEFYKCQQ5ZVR4I6AG3P).\n"
     ]
    },
    {
     "name": "stderr",
     "output_type": "stream",
     "text": [
      "\n",
      "Exporting Images:  38%|███▊      | 128/334 [42:01<1:02:32, 18.22s/it]\u001b[A"
     ]
    },
    {
     "name": "stdout",
     "output_type": "stream",
     "text": [
      "Task 128 completed with state COMPLETED: \n",
      "Polling for task (id: HC5JENHQJCJTKKW2DRKUHEJD).\n",
      "Polling for task (id: HC5JENHQJCJTKKW2DRKUHEJD).\n",
      "Polling for task (id: HC5JENHQJCJTKKW2DRKUHEJD).\n"
     ]
    },
    {
     "name": "stderr",
     "output_type": "stream",
     "text": [
      "\n",
      "Exporting Images:  39%|███▊      | 129/334 [42:19<1:02:16, 18.22s/it]\u001b[A"
     ]
    },
    {
     "name": "stdout",
     "output_type": "stream",
     "text": [
      "Task 129 completed with state COMPLETED: \n",
      "Polling for task (id: FBEX5IPI3WEARA66GFY24XKH).\n",
      "Polling for task (id: FBEX5IPI3WEARA66GFY24XKH).\n",
      "Polling for task (id: FBEX5IPI3WEARA66GFY24XKH).\n"
     ]
    },
    {
     "name": "stderr",
     "output_type": "stream",
     "text": [
      "\n",
      "Exporting Images:  39%|███▉      | 130/334 [42:37<1:01:58, 18.23s/it]\u001b[A"
     ]
    },
    {
     "name": "stdout",
     "output_type": "stream",
     "text": [
      "Task 130 completed with state COMPLETED: \n",
      "Polling for task (id: OT7B5A76LG4IS2KFV646JYBG).\n",
      "Polling for task (id: OT7B5A76LG4IS2KFV646JYBG).\n",
      "Polling for task (id: OT7B5A76LG4IS2KFV646JYBG).\n"
     ]
    },
    {
     "name": "stderr",
     "output_type": "stream",
     "text": [
      "\n",
      "Exporting Images:  39%|███▉      | 131/334 [42:55<1:01:27, 18.17s/it]\u001b[A"
     ]
    },
    {
     "name": "stdout",
     "output_type": "stream",
     "text": [
      "Task 131 completed with state COMPLETED: \n",
      "Polling for task (id: RO7QPSFCZFECQWTRLTXGKPVN).\n",
      "Polling for task (id: RO7QPSFCZFECQWTRLTXGKPVN).\n",
      "Polling for task (id: RO7QPSFCZFECQWTRLTXGKPVN).\n"
     ]
    },
    {
     "name": "stderr",
     "output_type": "stream",
     "text": [
      "\n",
      "Exporting Images:  40%|███▉      | 132/334 [43:13<1:01:08, 18.16s/it]\u001b[A"
     ]
    },
    {
     "name": "stdout",
     "output_type": "stream",
     "text": [
      "Task 132 completed with state COMPLETED: \n",
      "Polling for task (id: 2LPO5ZTMW4XDNFQWHIUTI5DU).\n",
      "Polling for task (id: 2LPO5ZTMW4XDNFQWHIUTI5DU).\n",
      "Polling for task (id: 2LPO5ZTMW4XDNFQWHIUTI5DU).\n"
     ]
    },
    {
     "name": "stderr",
     "output_type": "stream",
     "text": [
      "\n",
      "Exporting Images:  40%|███▉      | 133/334 [43:32<1:00:50, 18.16s/it]\u001b[A"
     ]
    },
    {
     "name": "stdout",
     "output_type": "stream",
     "text": [
      "Task 133 completed with state COMPLETED: \n",
      "Polling for task (id: I5W4MINPLAPLSSYMKYKXCJTF).\n",
      "Polling for task (id: I5W4MINPLAPLSSYMKYKXCJTF).\n"
     ]
    },
    {
     "name": "stderr",
     "output_type": "stream",
     "text": [
      "\n",
      "Exporting Images:  40%|████      | 134/334 [43:53<1:03:19, 19.00s/it]\u001b[A"
     ]
    },
    {
     "name": "stdout",
     "output_type": "stream",
     "text": [
      "Task 134 completed with state COMPLETED: \n",
      "Polling for task (id: 2MHJDSG765HLJHYHIIHOLF7J).\n",
      "Polling for task (id: 2MHJDSG765HLJHYHIIHOLF7J).\n",
      "Polling for task (id: 2MHJDSG765HLJHYHIIHOLF7J).\n"
     ]
    },
    {
     "name": "stderr",
     "output_type": "stream",
     "text": [
      "\n",
      "Exporting Images:  40%|████      | 135/334 [44:11<1:02:16, 18.77s/it]\u001b[A"
     ]
    },
    {
     "name": "stdout",
     "output_type": "stream",
     "text": [
      "Task 135 completed with state COMPLETED: \n",
      "Polling for task (id: OANYDMJDOEIWBEKNQ66PM3JD).\n",
      "Polling for task (id: OANYDMJDOEIWBEKNQ66PM3JD).\n",
      "Polling for task (id: OANYDMJDOEIWBEKNQ66PM3JD).\n"
     ]
    },
    {
     "name": "stderr",
     "output_type": "stream",
     "text": [
      "\n",
      "Exporting Images:  41%|████      | 136/334 [44:29<1:01:24, 18.61s/it]\u001b[A"
     ]
    },
    {
     "name": "stdout",
     "output_type": "stream",
     "text": [
      "Task 136 completed with state COMPLETED: \n",
      "Polling for task (id: M47O2VAPFRJZX7LOZ3ABDDRH).\n",
      "Polling for task (id: M47O2VAPFRJZX7LOZ3ABDDRH).\n",
      "Polling for task (id: M47O2VAPFRJZX7LOZ3ABDDRH).\n"
     ]
    },
    {
     "name": "stderr",
     "output_type": "stream",
     "text": [
      "\n",
      "Exporting Images:  41%|████      | 137/334 [44:47<1:00:35, 18.45s/it]\u001b[A"
     ]
    },
    {
     "name": "stdout",
     "output_type": "stream",
     "text": [
      "Task 137 completed with state COMPLETED: \n",
      "Polling for task (id: YOYEJUTXCLPCP3LCE3KXTNUT).\n",
      "Polling for task (id: YOYEJUTXCLPCP3LCE3KXTNUT).\n",
      "Polling for task (id: YOYEJUTXCLPCP3LCE3KXTNUT).\n"
     ]
    },
    {
     "name": "stderr",
     "output_type": "stream",
     "text": [
      "\n",
      "Exporting Images:  41%|████▏     | 138/334 [45:05<1:00:03, 18.38s/it]\u001b[A"
     ]
    },
    {
     "name": "stdout",
     "output_type": "stream",
     "text": [
      "Task 138 completed with state COMPLETED: \n",
      "Polling for task (id: S4MQNDZYIL4NOVT7AMK7MBIL).\n",
      "Polling for task (id: S4MQNDZYIL4NOVT7AMK7MBIL).\n",
      "Polling for task (id: S4MQNDZYIL4NOVT7AMK7MBIL).\n"
     ]
    },
    {
     "name": "stderr",
     "output_type": "stream",
     "text": [
      "\n",
      "Exporting Images:  42%|████▏     | 139/334 [45:24<59:38, 18.35s/it]  \u001b[A"
     ]
    },
    {
     "name": "stdout",
     "output_type": "stream",
     "text": [
      "Task 139 completed with state COMPLETED: \n",
      "Polling for task (id: Q7VB4UWSU7SY62MJ4G4RBF2C).\n",
      "Polling for task (id: Q7VB4UWSU7SY62MJ4G4RBF2C).\n",
      "Polling for task (id: Q7VB4UWSU7SY62MJ4G4RBF2C).\n"
     ]
    },
    {
     "name": "stderr",
     "output_type": "stream",
     "text": [
      "\n",
      "Exporting Images:  42%|████▏     | 140/334 [45:42<59:02, 18.26s/it]\u001b[A"
     ]
    },
    {
     "name": "stdout",
     "output_type": "stream",
     "text": [
      "Task 140 completed with state COMPLETED: \n",
      "Polling for task (id: 5Z2SHEIP7ODFJSM36OCIYJ3U).\n",
      "Polling for task (id: 5Z2SHEIP7ODFJSM36OCIYJ3U).\n",
      "Polling for task (id: 5Z2SHEIP7ODFJSM36OCIYJ3U).\n"
     ]
    },
    {
     "name": "stderr",
     "output_type": "stream",
     "text": [
      "\n",
      "Exporting Images:  42%|████▏     | 141/334 [46:00<58:42, 18.25s/it]\u001b[A"
     ]
    },
    {
     "name": "stdout",
     "output_type": "stream",
     "text": [
      "Task 141 completed with state COMPLETED: \n",
      "Polling for task (id: AP7CNILAVRURMI7TIVI6RIOD).\n",
      "Polling for task (id: AP7CNILAVRURMI7TIVI6RIOD).\n",
      "Polling for task (id: AP7CNILAVRURMI7TIVI6RIOD).\n"
     ]
    },
    {
     "name": "stderr",
     "output_type": "stream",
     "text": [
      "\n",
      "Exporting Images:  43%|████▎     | 142/334 [46:18<58:30, 18.28s/it]\u001b[A"
     ]
    },
    {
     "name": "stdout",
     "output_type": "stream",
     "text": [
      "Task 142 completed with state COMPLETED: \n",
      "Polling for task (id: Q4EP47JQ6DUZLL752MJSYHLS).\n",
      "Polling for task (id: Q4EP47JQ6DUZLL752MJSYHLS).\n",
      "Polling for task (id: Q4EP47JQ6DUZLL752MJSYHLS).\n"
     ]
    },
    {
     "name": "stderr",
     "output_type": "stream",
     "text": [
      "\n",
      "Exporting Images:  43%|████▎     | 143/334 [46:36<58:04, 18.24s/it]\u001b[A"
     ]
    },
    {
     "name": "stdout",
     "output_type": "stream",
     "text": [
      "Task 143 completed with state COMPLETED: \n",
      "Polling for task (id: 53UCFXJ2AOC5NTYEOSXAS6EV).\n",
      "Polling for task (id: 53UCFXJ2AOC5NTYEOSXAS6EV).\n",
      "Polling for task (id: 53UCFXJ2AOC5NTYEOSXAS6EV).\n"
     ]
    },
    {
     "name": "stderr",
     "output_type": "stream",
     "text": [
      "\n",
      "Exporting Images:  43%|████▎     | 144/334 [46:55<57:40, 18.21s/it]\u001b[A"
     ]
    },
    {
     "name": "stdout",
     "output_type": "stream",
     "text": [
      "Task 144 completed with state COMPLETED: \n",
      "Polling for task (id: LG2A2K76E4JJVVVRITKFTRU4).\n",
      "Polling for task (id: LG2A2K76E4JJVVVRITKFTRU4).\n",
      "Polling for task (id: LG2A2K76E4JJVVVRITKFTRU4).\n",
      "Polling for task (id: LG2A2K76E4JJVVVRITKFTRU4).\n"
     ]
    },
    {
     "name": "stderr",
     "output_type": "stream",
     "text": [
      "\n",
      "Exporting Images:  43%|████▎     | 145/334 [47:18<1:02:32, 19.86s/it]\u001b[A"
     ]
    },
    {
     "name": "stdout",
     "output_type": "stream",
     "text": [
      "Task 145 completed with state COMPLETED: \n",
      "Polling for task (id: FXFXTZ7X3OPF6DFBJZ7YZCY5).\n",
      "Polling for task (id: FXFXTZ7X3OPF6DFBJZ7YZCY5).\n",
      "Polling for task (id: FXFXTZ7X3OPF6DFBJZ7YZCY5).\n"
     ]
    },
    {
     "name": "stderr",
     "output_type": "stream",
     "text": [
      "\n",
      "Exporting Images:  44%|████▎     | 146/334 [47:36<1:00:37, 19.35s/it]\u001b[A"
     ]
    },
    {
     "name": "stdout",
     "output_type": "stream",
     "text": [
      "Task 146 completed with state COMPLETED: \n",
      "Polling for task (id: M5RBCFDJLTQ2YCVCQGWC5CCR).\n",
      "Polling for task (id: M5RBCFDJLTQ2YCVCQGWC5CCR).\n",
      "Polling for task (id: M5RBCFDJLTQ2YCVCQGWC5CCR).\n"
     ]
    },
    {
     "name": "stderr",
     "output_type": "stream",
     "text": [
      "\n",
      "Exporting Images:  44%|████▍     | 147/334 [47:55<59:16, 19.02s/it]  \u001b[A"
     ]
    },
    {
     "name": "stdout",
     "output_type": "stream",
     "text": [
      "Task 147 completed with state COMPLETED: \n",
      "Polling for task (id: 6NHNRNYTABU63C5ZZ2SIWNZ5).\n",
      "Polling for task (id: 6NHNRNYTABU63C5ZZ2SIWNZ5).\n",
      "Polling for task (id: 6NHNRNYTABU63C5ZZ2SIWNZ5).\n"
     ]
    },
    {
     "name": "stderr",
     "output_type": "stream",
     "text": [
      "\n",
      "Exporting Images:  44%|████▍     | 148/334 [48:13<58:17, 18.80s/it]\u001b[A"
     ]
    },
    {
     "name": "stdout",
     "output_type": "stream",
     "text": [
      "Task 148 completed with state COMPLETED: \n",
      "Polling for task (id: SWLAGE4WHTEQHYC7THQEN2WX).\n",
      "Polling for task (id: SWLAGE4WHTEQHYC7THQEN2WX).\n",
      "Polling for task (id: SWLAGE4WHTEQHYC7THQEN2WX).\n",
      "Polling for task (id: SWLAGE4WHTEQHYC7THQEN2WX).\n",
      "Polling for task (id: SWLAGE4WHTEQHYC7THQEN2WX).\n",
      "Polling for task (id: SWLAGE4WHTEQHYC7THQEN2WX).\n",
      "Polling for task (id: SWLAGE4WHTEQHYC7THQEN2WX).\n",
      "Polling for task (id: SWLAGE4WHTEQHYC7THQEN2WX).\n"
     ]
    },
    {
     "name": "stderr",
     "output_type": "stream",
     "text": [
      "\n",
      "Exporting Images:  45%|████▍     | 149/334 [48:58<1:22:11, 26.66s/it]\u001b[A"
     ]
    },
    {
     "name": "stdout",
     "output_type": "stream",
     "text": [
      "Task 149 completed with state COMPLETED: \n",
      "Polling for task (id: 4SYEGWT26GGFIPKTYZFVSNYY).\n",
      "Polling for task (id: 4SYEGWT26GGFIPKTYZFVSNYY).\n",
      "Polling for task (id: 4SYEGWT26GGFIPKTYZFVSNYY).\n"
     ]
    },
    {
     "name": "stderr",
     "output_type": "stream",
     "text": [
      "\n",
      "Exporting Images:  45%|████▍     | 150/334 [49:16<1:13:59, 24.13s/it]\u001b[A"
     ]
    },
    {
     "name": "stdout",
     "output_type": "stream",
     "text": [
      "Task 150 completed with state COMPLETED: \n",
      "Polling for task (id: ETTN46OEBLPDVVKS4NJLEI6P).\n",
      "Polling for task (id: ETTN46OEBLPDVVKS4NJLEI6P).\n",
      "Polling for task (id: ETTN46OEBLPDVVKS4NJLEI6P).\n"
     ]
    },
    {
     "name": "stderr",
     "output_type": "stream",
     "text": [
      "\n",
      "Exporting Images:  45%|████▌     | 151/334 [49:35<1:08:17, 22.39s/it]\u001b[A"
     ]
    },
    {
     "name": "stdout",
     "output_type": "stream",
     "text": [
      "Task 151 completed with state COMPLETED: \n",
      "Polling for task (id: ZXFQGXQQFSN4NQE54FJ736ZJ).\n",
      "Polling for task (id: ZXFQGXQQFSN4NQE54FJ736ZJ).\n",
      "Polling for task (id: ZXFQGXQQFSN4NQE54FJ736ZJ).\n"
     ]
    },
    {
     "name": "stderr",
     "output_type": "stream",
     "text": [
      "\n",
      "Exporting Images:  46%|████▌     | 152/334 [49:53<1:04:07, 21.14s/it]\u001b[A"
     ]
    },
    {
     "name": "stdout",
     "output_type": "stream",
     "text": [
      "Task 152 completed with state COMPLETED: \n",
      "Polling for task (id: GTL4XYB3KLK3O2TW3LSHJH3M).\n",
      "Polling for task (id: GTL4XYB3KLK3O2TW3LSHJH3M).\n",
      "Polling for task (id: GTL4XYB3KLK3O2TW3LSHJH3M).\n"
     ]
    },
    {
     "name": "stderr",
     "output_type": "stream",
     "text": [
      "\n",
      "Exporting Images:  46%|████▌     | 153/334 [50:11<1:01:04, 20.25s/it]\u001b[A"
     ]
    },
    {
     "name": "stdout",
     "output_type": "stream",
     "text": [
      "Task 153 completed with state COMPLETED: \n",
      "Polling for task (id: GG6IUE6BYT75ZP75PQLMSO2O).\n",
      "Polling for task (id: GG6IUE6BYT75ZP75PQLMSO2O).\n",
      "Polling for task (id: GG6IUE6BYT75ZP75PQLMSO2O).\n"
     ]
    },
    {
     "name": "stderr",
     "output_type": "stream",
     "text": [
      "\n",
      "Exporting Images:  46%|████▌     | 154/334 [50:29<58:59, 19.67s/it]  \u001b[A"
     ]
    },
    {
     "name": "stdout",
     "output_type": "stream",
     "text": [
      "Task 154 completed with state COMPLETED: \n",
      "Polling for task (id: NFNYJIQDIIEFZBBUMD2EZO3U).\n",
      "Polling for task (id: NFNYJIQDIIEFZBBUMD2EZO3U).\n",
      "Polling for task (id: NFNYJIQDIIEFZBBUMD2EZO3U).\n"
     ]
    },
    {
     "name": "stderr",
     "output_type": "stream",
     "text": [
      "\n",
      "Exporting Images:  46%|████▋     | 155/334 [50:51<1:00:23, 20.25s/it]\u001b[A"
     ]
    },
    {
     "name": "stdout",
     "output_type": "stream",
     "text": [
      "Task 155 completed with state COMPLETED: \n",
      "Polling for task (id: 6PHQ4T4NZHKZWCCONHY4XB6A).\n",
      "Polling for task (id: 6PHQ4T4NZHKZWCCONHY4XB6A).\n",
      "Polling for task (id: 6PHQ4T4NZHKZWCCONHY4XB6A).\n"
     ]
    },
    {
     "name": "stderr",
     "output_type": "stream",
     "text": [
      "\n",
      "Exporting Images:  47%|████▋     | 156/334 [51:09<58:30, 19.72s/it]  \u001b[A"
     ]
    },
    {
     "name": "stdout",
     "output_type": "stream",
     "text": [
      "Task 156 completed with state COMPLETED: \n",
      "Polling for task (id: DEWW5ZEFMONFOUXPY4TKXEE6).\n",
      "Polling for task (id: DEWW5ZEFMONFOUXPY4TKXEE6).\n",
      "Polling for task (id: DEWW5ZEFMONFOUXPY4TKXEE6).\n",
      "Polling for task (id: DEWW5ZEFMONFOUXPY4TKXEE6).\n"
     ]
    },
    {
     "name": "stderr",
     "output_type": "stream",
     "text": [
      "\n",
      "Exporting Images:  47%|████▋     | 157/334 [51:33<1:01:39, 20.90s/it]\u001b[A"
     ]
    },
    {
     "name": "stdout",
     "output_type": "stream",
     "text": [
      "Task 157 completed with state COMPLETED: \n",
      "Polling for task (id: NCBQXORJGAN2KCAIEMOCV2FL).\n",
      "Polling for task (id: NCBQXORJGAN2KCAIEMOCV2FL).\n",
      "Polling for task (id: NCBQXORJGAN2KCAIEMOCV2FL).\n",
      "Polling for task (id: NCBQXORJGAN2KCAIEMOCV2FL).\n"
     ]
    },
    {
     "name": "stderr",
     "output_type": "stream",
     "text": [
      "\n",
      "Exporting Images:  47%|████▋     | 158/334 [51:56<1:03:34, 21.67s/it]\u001b[A"
     ]
    },
    {
     "name": "stdout",
     "output_type": "stream",
     "text": [
      "Task 158 completed with state COMPLETED: \n",
      "Polling for task (id: CEBGUMRHU2Z47H6OVCI272Q5).\n",
      "Polling for task (id: CEBGUMRHU2Z47H6OVCI272Q5).\n",
      "Polling for task (id: CEBGUMRHU2Z47H6OVCI272Q5).\n"
     ]
    },
    {
     "name": "stderr",
     "output_type": "stream",
     "text": [
      "\n",
      "Exporting Images:  48%|████▊     | 159/334 [52:15<1:00:09, 20.62s/it]\u001b[A"
     ]
    },
    {
     "name": "stdout",
     "output_type": "stream",
     "text": [
      "Task 159 completed with state COMPLETED: \n",
      "Polling for task (id: 5G6646QI6XBUSECBHDJTOKE5).\n",
      "Polling for task (id: 5G6646QI6XBUSECBHDJTOKE5).\n",
      "Polling for task (id: 5G6646QI6XBUSECBHDJTOKE5).\n"
     ]
    },
    {
     "name": "stderr",
     "output_type": "stream",
     "text": [
      "\n",
      "Exporting Images:  48%|████▊     | 160/334 [52:33<57:46, 19.92s/it]  \u001b[A"
     ]
    },
    {
     "name": "stdout",
     "output_type": "stream",
     "text": [
      "Task 160 completed with state COMPLETED: \n",
      "Polling for task (id: 6RQJOKRJE2B3SH2SK2PX4PFI).\n",
      "Polling for task (id: 6RQJOKRJE2B3SH2SK2PX4PFI).\n",
      "Polling for task (id: 6RQJOKRJE2B3SH2SK2PX4PFI).\n"
     ]
    },
    {
     "name": "stderr",
     "output_type": "stream",
     "text": [
      "\n",
      "Exporting Images:  48%|████▊     | 161/334 [52:51<56:08, 19.47s/it]\u001b[A"
     ]
    },
    {
     "name": "stdout",
     "output_type": "stream",
     "text": [
      "Task 161 completed with state COMPLETED: \n",
      "Polling for task (id: 7PLVRBYBNUUAYB657O2P3I35).\n",
      "Polling for task (id: 7PLVRBYBNUUAYB657O2P3I35).\n",
      "Polling for task (id: 7PLVRBYBNUUAYB657O2P3I35).\n",
      "Polling for task (id: 7PLVRBYBNUUAYB657O2P3I35).\n"
     ]
    },
    {
     "name": "stderr",
     "output_type": "stream",
     "text": [
      "\n",
      "Exporting Images:  49%|████▊     | 162/334 [53:15<59:13, 20.66s/it]\u001b[A"
     ]
    },
    {
     "name": "stdout",
     "output_type": "stream",
     "text": [
      "Task 162 completed with state COMPLETED: \n",
      "Polling for task (id: XY3HF4R27WYI32OJX7VNVOYY).\n",
      "Polling for task (id: XY3HF4R27WYI32OJX7VNVOYY).\n",
      "Polling for task (id: XY3HF4R27WYI32OJX7VNVOYY).\n"
     ]
    },
    {
     "name": "stderr",
     "output_type": "stream",
     "text": [
      "\n",
      "Exporting Images:  49%|████▉     | 163/334 [53:33<56:43, 19.91s/it]\u001b[A"
     ]
    },
    {
     "name": "stdout",
     "output_type": "stream",
     "text": [
      "Task 163 completed with state COMPLETED: \n",
      "Polling for task (id: QMT2JLOJIUHD3BUXN6WB25OG).\n",
      "Polling for task (id: QMT2JLOJIUHD3BUXN6WB25OG).\n",
      "Polling for task (id: QMT2JLOJIUHD3BUXN6WB25OG).\n"
     ]
    },
    {
     "name": "stderr",
     "output_type": "stream",
     "text": [
      "\n",
      "Exporting Images:  49%|████▉     | 164/334 [53:51<55:08, 19.46s/it]\u001b[A"
     ]
    },
    {
     "name": "stdout",
     "output_type": "stream",
     "text": [
      "Task 164 completed with state COMPLETED: \n",
      "Polling for task (id: OY3GWDQEI446SZ2HJUQOKPYU).\n",
      "Polling for task (id: OY3GWDQEI446SZ2HJUQOKPYU).\n",
      "Polling for task (id: OY3GWDQEI446SZ2HJUQOKPYU).\n"
     ]
    },
    {
     "name": "stderr",
     "output_type": "stream",
     "text": [
      "\n",
      "Exporting Images:  49%|████▉     | 165/334 [54:09<53:37, 19.04s/it]\u001b[A"
     ]
    },
    {
     "name": "stdout",
     "output_type": "stream",
     "text": [
      "Task 165 completed with state COMPLETED: \n",
      "Polling for task (id: RMVEBRGVAILC2OS257CRHVHL).\n",
      "Polling for task (id: RMVEBRGVAILC2OS257CRHVHL).\n",
      "Polling for task (id: RMVEBRGVAILC2OS257CRHVHL).\n"
     ]
    },
    {
     "name": "stderr",
     "output_type": "stream",
     "text": [
      "\n",
      "Exporting Images:  50%|████▉     | 166/334 [54:28<52:37, 18.80s/it]\u001b[A"
     ]
    },
    {
     "name": "stdout",
     "output_type": "stream",
     "text": [
      "Task 166 completed with state COMPLETED: \n",
      "Polling for task (id: OZRKXQSDZ7GP2SRTYMGV5TKQ).\n",
      "Polling for task (id: OZRKXQSDZ7GP2SRTYMGV5TKQ).\n",
      "Polling for task (id: OZRKXQSDZ7GP2SRTYMGV5TKQ).\n",
      "Polling for task (id: OZRKXQSDZ7GP2SRTYMGV5TKQ).\n"
     ]
    },
    {
     "name": "stderr",
     "output_type": "stream",
     "text": [
      "\n",
      "Exporting Images:  50%|█████     | 167/334 [54:51<56:32, 20.31s/it]\u001b[A"
     ]
    },
    {
     "name": "stdout",
     "output_type": "stream",
     "text": [
      "Task 167 completed with state COMPLETED: \n",
      "Polling for task (id: YIWLEV23XNGFTCKK3BVWIPYD).\n",
      "Polling for task (id: YIWLEV23XNGFTCKK3BVWIPYD).\n",
      "Polling for task (id: YIWLEV23XNGFTCKK3BVWIPYD).\n",
      "Polling for task (id: YIWLEV23XNGFTCKK3BVWIPYD).\n",
      "Polling for task (id: YIWLEV23XNGFTCKK3BVWIPYD).\n"
     ]
    },
    {
     "name": "stderr",
     "output_type": "stream",
     "text": [
      "\n",
      "Exporting Images:  50%|█████     | 168/334 [55:22<1:04:34, 23.34s/it]\u001b[A"
     ]
    },
    {
     "name": "stdout",
     "output_type": "stream",
     "text": [
      "Task 168 completed with state COMPLETED: \n",
      "Polling for task (id: 5FFAY5HCY7U2RAAUHAS6CIMA).\n",
      "Polling for task (id: 5FFAY5HCY7U2RAAUHAS6CIMA).\n",
      "Polling for task (id: 5FFAY5HCY7U2RAAUHAS6CIMA).\n"
     ]
    },
    {
     "name": "stderr",
     "output_type": "stream",
     "text": [
      "\n",
      "Exporting Images:  51%|█████     | 169/334 [55:41<1:00:29, 22.00s/it]\u001b[A"
     ]
    },
    {
     "name": "stdout",
     "output_type": "stream",
     "text": [
      "Task 169 completed with state COMPLETED: \n",
      "Polling for task (id: YU2P6DVB7UNCPNQUZZRMA72I).\n",
      "Polling for task (id: YU2P6DVB7UNCPNQUZZRMA72I).\n",
      "Polling for task (id: YU2P6DVB7UNCPNQUZZRMA72I).\n"
     ]
    },
    {
     "name": "stderr",
     "output_type": "stream",
     "text": [
      "\n",
      "Exporting Images:  51%|█████     | 170/334 [55:59<57:00, 20.85s/it]  \u001b[A"
     ]
    },
    {
     "name": "stdout",
     "output_type": "stream",
     "text": [
      "Task 170 completed with state COMPLETED: \n",
      "Polling for task (id: JKX5ATX7OOGVVCJYR65GG4XO).\n",
      "Polling for task (id: JKX5ATX7OOGVVCJYR65GG4XO).\n",
      "Polling for task (id: JKX5ATX7OOGVVCJYR65GG4XO).\n"
     ]
    },
    {
     "name": "stderr",
     "output_type": "stream",
     "text": [
      "\n",
      "Exporting Images:  51%|█████     | 171/334 [56:17<54:27, 20.05s/it]\u001b[A"
     ]
    },
    {
     "name": "stdout",
     "output_type": "stream",
     "text": [
      "Task 171 completed with state COMPLETED: \n",
      "Polling for task (id: SUWXQYTHBKU7NKRGLNUMJGV4).\n",
      "Polling for task (id: SUWXQYTHBKU7NKRGLNUMJGV4).\n",
      "Polling for task (id: SUWXQYTHBKU7NKRGLNUMJGV4).\n",
      "Polling for task (id: SUWXQYTHBKU7NKRGLNUMJGV4).\n"
     ]
    },
    {
     "name": "stderr",
     "output_type": "stream",
     "text": [
      "\n",
      "Exporting Images:  51%|█████▏    | 172/334 [56:41<57:06, 21.15s/it]\u001b[A"
     ]
    },
    {
     "name": "stdout",
     "output_type": "stream",
     "text": [
      "Task 172 completed with state COMPLETED: \n",
      "Polling for task (id: 65NYF4GK5PFZ5OCM4T5URZLC).\n",
      "Polling for task (id: 65NYF4GK5PFZ5OCM4T5URZLC).\n",
      "Polling for task (id: 65NYF4GK5PFZ5OCM4T5URZLC).\n",
      "Polling for task (id: 65NYF4GK5PFZ5OCM4T5URZLC).\n"
     ]
    },
    {
     "name": "stderr",
     "output_type": "stream",
     "text": [
      "\n",
      "Exporting Images:  52%|█████▏    | 173/334 [57:04<58:36, 21.84s/it]\u001b[A"
     ]
    },
    {
     "name": "stdout",
     "output_type": "stream",
     "text": [
      "Task 173 completed with state COMPLETED: \n",
      "Polling for task (id: CSLTYK25D2RQ6I5YYZQZVTVY).\n",
      "Polling for task (id: CSLTYK25D2RQ6I5YYZQZVTVY).\n",
      "Polling for task (id: CSLTYK25D2RQ6I5YYZQZVTVY).\n"
     ]
    },
    {
     "name": "stderr",
     "output_type": "stream",
     "text": [
      "\n",
      "Exporting Images:  52%|█████▏    | 174/334 [57:22<55:13, 20.71s/it]\u001b[A"
     ]
    },
    {
     "name": "stdout",
     "output_type": "stream",
     "text": [
      "Task 174 completed with state COMPLETED: \n",
      "Polling for task (id: VOBO5BJY7SRLENPWEHHCS6RB).\n",
      "Polling for task (id: VOBO5BJY7SRLENPWEHHCS6RB).\n",
      "Polling for task (id: VOBO5BJY7SRLENPWEHHCS6RB).\n"
     ]
    },
    {
     "name": "stderr",
     "output_type": "stream",
     "text": [
      "\n",
      "Exporting Images:  52%|█████▏    | 175/334 [57:41<53:07, 20.05s/it]\u001b[A"
     ]
    },
    {
     "name": "stdout",
     "output_type": "stream",
     "text": [
      "Task 175 completed with state COMPLETED: \n",
      "Polling for task (id: UBEIL5SXB2O225JMVPP76NPV).\n",
      "Polling for task (id: UBEIL5SXB2O225JMVPP76NPV).\n",
      "Polling for task (id: UBEIL5SXB2O225JMVPP76NPV).\n"
     ]
    },
    {
     "name": "stderr",
     "output_type": "stream",
     "text": [
      "\n",
      "Exporting Images:  53%|█████▎    | 176/334 [57:59<51:24, 19.52s/it]\u001b[A"
     ]
    },
    {
     "name": "stdout",
     "output_type": "stream",
     "text": [
      "Task 176 completed with state COMPLETED: \n",
      "Polling for task (id: LDZTCH5UROVX6XGAHLYGVXPZ).\n",
      "Polling for task (id: LDZTCH5UROVX6XGAHLYGVXPZ).\n",
      "Polling for task (id: LDZTCH5UROVX6XGAHLYGVXPZ).\n"
     ]
    },
    {
     "name": "stderr",
     "output_type": "stream",
     "text": [
      "\n",
      "Exporting Images:  53%|█████▎    | 177/334 [58:17<50:01, 19.12s/it]\u001b[A"
     ]
    },
    {
     "name": "stdout",
     "output_type": "stream",
     "text": [
      "Task 177 completed with state COMPLETED: \n",
      "Polling for task (id: NE4DHXRQTUSOTDZZXSK7SPGA).\n",
      "Polling for task (id: NE4DHXRQTUSOTDZZXSK7SPGA).\n",
      "Polling for task (id: NE4DHXRQTUSOTDZZXSK7SPGA).\n"
     ]
    },
    {
     "name": "stderr",
     "output_type": "stream",
     "text": [
      "\n",
      "Exporting Images:  53%|█████▎    | 178/334 [58:35<48:58, 18.83s/it]\u001b[A"
     ]
    },
    {
     "name": "stdout",
     "output_type": "stream",
     "text": [
      "Task 178 completed with state COMPLETED: \n",
      "Polling for task (id: A4TUKJXCDCECHSTLU2E6Q2TA).\n",
      "Polling for task (id: A4TUKJXCDCECHSTLU2E6Q2TA).\n",
      "Polling for task (id: A4TUKJXCDCECHSTLU2E6Q2TA).\n"
     ]
    },
    {
     "name": "stderr",
     "output_type": "stream",
     "text": [
      "\n",
      "Exporting Images:  54%|█████▎    | 179/334 [58:54<48:03, 18.60s/it]\u001b[A"
     ]
    },
    {
     "name": "stdout",
     "output_type": "stream",
     "text": [
      "Task 179 completed with state COMPLETED: \n",
      "Polling for task (id: W3KM7VXFT2AXTJCNCI2FIV2D).\n",
      "Polling for task (id: W3KM7VXFT2AXTJCNCI2FIV2D).\n",
      "Polling for task (id: W3KM7VXFT2AXTJCNCI2FIV2D).\n"
     ]
    },
    {
     "name": "stderr",
     "output_type": "stream",
     "text": [
      "\n",
      "Exporting Images:  54%|█████▍    | 180/334 [59:12<47:16, 18.42s/it]\u001b[A"
     ]
    },
    {
     "name": "stdout",
     "output_type": "stream",
     "text": [
      "Task 180 completed with state COMPLETED: \n",
      "Polling for task (id: EBR2DC2YSWNGHGGVGUWL4L2P).\n",
      "Polling for task (id: EBR2DC2YSWNGHGGVGUWL4L2P).\n",
      "Polling for task (id: EBR2DC2YSWNGHGGVGUWL4L2P).\n"
     ]
    },
    {
     "name": "stderr",
     "output_type": "stream",
     "text": [
      "\n",
      "Exporting Images:  54%|█████▍    | 181/334 [59:33<49:18, 19.34s/it]\u001b[A"
     ]
    },
    {
     "name": "stdout",
     "output_type": "stream",
     "text": [
      "Task 181 completed with state COMPLETED: \n",
      "Polling for task (id: RBJGF7VWLEJWDBBYUYGJURR2).\n",
      "Polling for task (id: RBJGF7VWLEJWDBBYUYGJURR2).\n",
      "Polling for task (id: RBJGF7VWLEJWDBBYUYGJURR2).\n"
     ]
    },
    {
     "name": "stderr",
     "output_type": "stream",
     "text": [
      "\n",
      "Exporting Images:  54%|█████▍    | 182/334 [59:52<48:30, 19.15s/it]\u001b[A"
     ]
    },
    {
     "name": "stdout",
     "output_type": "stream",
     "text": [
      "Task 182 completed with state COMPLETED: \n",
      "Polling for task (id: SGG2CYCCALB22LZVOCPXKUSQ).\n",
      "Polling for task (id: SGG2CYCCALB22LZVOCPXKUSQ).\n",
      "Polling for task (id: SGG2CYCCALB22LZVOCPXKUSQ).\n"
     ]
    },
    {
     "name": "stderr",
     "output_type": "stream",
     "text": [
      "\n",
      "Exporting Images:  55%|█████▍    | 183/334 [1:00:10<47:34, 18.90s/it]\u001b[A"
     ]
    },
    {
     "name": "stdout",
     "output_type": "stream",
     "text": [
      "Task 183 completed with state COMPLETED: \n",
      "Polling for task (id: VSWQAWAY3Q7DZRQWMPBPWJLF).\n",
      "Polling for task (id: VSWQAWAY3Q7DZRQWMPBPWJLF).\n",
      "Polling for task (id: VSWQAWAY3Q7DZRQWMPBPWJLF).\n"
     ]
    },
    {
     "name": "stderr",
     "output_type": "stream",
     "text": [
      "\n",
      "Exporting Images:  55%|█████▌    | 184/334 [1:00:28<46:41, 18.68s/it]\u001b[A"
     ]
    },
    {
     "name": "stdout",
     "output_type": "stream",
     "text": [
      "Task 184 completed with state COMPLETED: \n",
      "Polling for task (id: WWQX25UTI26UFDBW4VHQXWQI).\n",
      "Polling for task (id: WWQX25UTI26UFDBW4VHQXWQI).\n",
      "Polling for task (id: WWQX25UTI26UFDBW4VHQXWQI).\n",
      "Polling for task (id: WWQX25UTI26UFDBW4VHQXWQI).\n"
     ]
    },
    {
     "name": "stderr",
     "output_type": "stream",
     "text": [
      "\n",
      "Exporting Images:  55%|█████▌    | 185/334 [1:00:52<50:26, 20.31s/it]\u001b[A"
     ]
    },
    {
     "name": "stdout",
     "output_type": "stream",
     "text": [
      "Task 185 completed with state COMPLETED: \n",
      "Polling for task (id: KL3AASUZWLD4SCWEPGXWULEU).\n",
      "Polling for task (id: KL3AASUZWLD4SCWEPGXWULEU).\n",
      "Polling for task (id: KL3AASUZWLD4SCWEPGXWULEU).\n"
     ]
    },
    {
     "name": "stderr",
     "output_type": "stream",
     "text": [
      "\n",
      "Exporting Images:  56%|█████▌    | 186/334 [1:01:11<48:46, 19.77s/it]\u001b[A"
     ]
    },
    {
     "name": "stdout",
     "output_type": "stream",
     "text": [
      "Task 186 completed with state COMPLETED: \n",
      "Polling for task (id: JU6LT52SHVRUZF4A4QTMRKTS).\n",
      "Polling for task (id: JU6LT52SHVRUZF4A4QTMRKTS).\n",
      "Polling for task (id: JU6LT52SHVRUZF4A4QTMRKTS).\n",
      "Polling for task (id: JU6LT52SHVRUZF4A4QTMRKTS).\n"
     ]
    },
    {
     "name": "stderr",
     "output_type": "stream",
     "text": [
      "\n",
      "Exporting Images:  56%|█████▌    | 187/334 [1:01:35<51:22, 20.97s/it]\u001b[A"
     ]
    },
    {
     "name": "stdout",
     "output_type": "stream",
     "text": [
      "Task 187 completed with state COMPLETED: \n",
      "Polling for task (id: VN2FL6XOWW34NGBDYSFXWVIK).\n",
      "Polling for task (id: VN2FL6XOWW34NGBDYSFXWVIK).\n",
      "Polling for task (id: VN2FL6XOWW34NGBDYSFXWVIK).\n"
     ]
    },
    {
     "name": "stderr",
     "output_type": "stream",
     "text": [
      "\n",
      "Exporting Images:  56%|█████▋    | 188/334 [1:01:53<49:02, 20.16s/it]\u001b[A"
     ]
    },
    {
     "name": "stdout",
     "output_type": "stream",
     "text": [
      "Task 188 completed with state COMPLETED: \n",
      "Polling for task (id: 3DA3VYLGC4C3J6OZZPLNUWBV).\n",
      "Polling for task (id: 3DA3VYLGC4C3J6OZZPLNUWBV).\n",
      "Polling for task (id: 3DA3VYLGC4C3J6OZZPLNUWBV).\n"
     ]
    },
    {
     "name": "stderr",
     "output_type": "stream",
     "text": [
      "\n",
      "Exporting Images:  57%|█████▋    | 189/334 [1:02:11<47:33, 19.68s/it]\u001b[A"
     ]
    },
    {
     "name": "stdout",
     "output_type": "stream",
     "text": [
      "Task 189 completed with state COMPLETED: \n",
      "Polling for task (id: QXQLJJRDRQ2EV323DGWF7UVP).\n",
      "Polling for task (id: QXQLJJRDRQ2EV323DGWF7UVP).\n",
      "Polling for task (id: QXQLJJRDRQ2EV323DGWF7UVP).\n"
     ]
    },
    {
     "name": "stderr",
     "output_type": "stream",
     "text": [
      "\n",
      "Exporting Images:  57%|█████▋    | 190/334 [1:02:30<46:05, 19.21s/it]\u001b[A"
     ]
    },
    {
     "name": "stdout",
     "output_type": "stream",
     "text": [
      "Task 190 completed with state COMPLETED: \n",
      "Polling for task (id: FG3L36IFLTJ2UZXOC44WD4MX).\n",
      "Polling for task (id: FG3L36IFLTJ2UZXOC44WD4MX).\n",
      "Polling for task (id: FG3L36IFLTJ2UZXOC44WD4MX).\n"
     ]
    },
    {
     "name": "stderr",
     "output_type": "stream",
     "text": [
      "\n",
      "Exporting Images:  57%|█████▋    | 191/334 [1:02:48<45:15, 18.99s/it]\u001b[A"
     ]
    },
    {
     "name": "stdout",
     "output_type": "stream",
     "text": [
      "Task 191 completed with state COMPLETED: \n",
      "Polling for task (id: OFRDHKN57KKGP53XEIDEKTWD).\n",
      "Polling for task (id: OFRDHKN57KKGP53XEIDEKTWD).\n",
      "Polling for task (id: OFRDHKN57KKGP53XEIDEKTWD).\n"
     ]
    },
    {
     "name": "stderr",
     "output_type": "stream",
     "text": [
      "\n",
      "Exporting Images:  57%|█████▋    | 192/334 [1:03:06<44:28, 18.79s/it]\u001b[A"
     ]
    },
    {
     "name": "stdout",
     "output_type": "stream",
     "text": [
      "Task 192 completed with state COMPLETED: \n",
      "Polling for task (id: P6ILT5SVV65CPC5ECUECX25L).\n",
      "Polling for task (id: P6ILT5SVV65CPC5ECUECX25L).\n",
      "Polling for task (id: P6ILT5SVV65CPC5ECUECX25L).\n"
     ]
    },
    {
     "name": "stderr",
     "output_type": "stream",
     "text": [
      "\n",
      "Exporting Images:  58%|█████▊    | 193/334 [1:03:25<43:58, 18.71s/it]\u001b[A"
     ]
    },
    {
     "name": "stdout",
     "output_type": "stream",
     "text": [
      "Task 193 completed with state COMPLETED: \n",
      "Polling for task (id: VV46IDXQT4TPRRWQCLG7COLV).\n",
      "Polling for task (id: VV46IDXQT4TPRRWQCLG7COLV).\n",
      "Polling for task (id: VV46IDXQT4TPRRWQCLG7COLV).\n"
     ]
    },
    {
     "name": "stderr",
     "output_type": "stream",
     "text": [
      "\n",
      "Exporting Images:  58%|█████▊    | 194/334 [1:03:43<43:17, 18.55s/it]\u001b[A"
     ]
    },
    {
     "name": "stdout",
     "output_type": "stream",
     "text": [
      "Task 194 completed with state COMPLETED: \n",
      "Polling for task (id: 765P2URYOR52FPOFN2V5LWNT).\n",
      "Polling for task (id: 765P2URYOR52FPOFN2V5LWNT).\n",
      "Polling for task (id: 765P2URYOR52FPOFN2V5LWNT).\n"
     ]
    },
    {
     "name": "stderr",
     "output_type": "stream",
     "text": [
      "\n",
      "Exporting Images:  58%|█████▊    | 195/334 [1:04:02<43:12, 18.65s/it]\u001b[A"
     ]
    },
    {
     "name": "stdout",
     "output_type": "stream",
     "text": [
      "Task 195 completed with state COMPLETED: \n",
      "Polling for task (id: XTHLI6YUJAHBBI543CHYKYRL).\n",
      "Polling for task (id: XTHLI6YUJAHBBI543CHYKYRL).\n",
      "Polling for task (id: XTHLI6YUJAHBBI543CHYKYRL).\n"
     ]
    },
    {
     "name": "stderr",
     "output_type": "stream",
     "text": [
      "\n",
      "Exporting Images:  59%|█████▊    | 196/334 [1:04:21<42:52, 18.64s/it]\u001b[A"
     ]
    },
    {
     "name": "stdout",
     "output_type": "stream",
     "text": [
      "Task 196 completed with state COMPLETED: \n",
      "Polling for task (id: 2FFSKQXWKAMVVW36FDGXSB6L).\n",
      "Polling for task (id: 2FFSKQXWKAMVVW36FDGXSB6L).\n",
      "Polling for task (id: 2FFSKQXWKAMVVW36FDGXSB6L).\n"
     ]
    },
    {
     "name": "stderr",
     "output_type": "stream",
     "text": [
      "\n",
      "Exporting Images:  59%|█████▉    | 197/334 [1:04:39<42:19, 18.54s/it]\u001b[A"
     ]
    },
    {
     "name": "stdout",
     "output_type": "stream",
     "text": [
      "Task 197 completed with state COMPLETED: \n",
      "Polling for task (id: FXJJLQQGTPYVDOHPPNVPB5MX).\n",
      "Polling for task (id: FXJJLQQGTPYVDOHPPNVPB5MX).\n",
      "Polling for task (id: FXJJLQQGTPYVDOHPPNVPB5MX).\n",
      "Polling for task (id: FXJJLQQGTPYVDOHPPNVPB5MX).\n"
     ]
    },
    {
     "name": "stderr",
     "output_type": "stream",
     "text": [
      "\n",
      "Exporting Images:  59%|█████▉    | 198/334 [1:05:03<45:38, 20.14s/it]\u001b[A"
     ]
    },
    {
     "name": "stdout",
     "output_type": "stream",
     "text": [
      "Task 198 completed with state COMPLETED: \n",
      "Polling for task (id: ZW77B3T4ZMQHSDJN2BLNFQKR).\n",
      "Polling for task (id: ZW77B3T4ZMQHSDJN2BLNFQKR).\n",
      "Polling for task (id: ZW77B3T4ZMQHSDJN2BLNFQKR).\n"
     ]
    },
    {
     "name": "stderr",
     "output_type": "stream",
     "text": [
      "\n",
      "Exporting Images:  60%|█████▉    | 199/334 [1:05:21<44:03, 19.58s/it]\u001b[A"
     ]
    },
    {
     "name": "stdout",
     "output_type": "stream",
     "text": [
      "Task 199 completed with state COMPLETED: \n",
      "Polling for task (id: EWFKH5L4TPAQF4CWAS7YNIBP).\n",
      "Polling for task (id: EWFKH5L4TPAQF4CWAS7YNIBP).\n",
      "Polling for task (id: EWFKH5L4TPAQF4CWAS7YNIBP).\n"
     ]
    },
    {
     "name": "stderr",
     "output_type": "stream",
     "text": [
      "\n",
      "Exporting Images:  60%|█████▉    | 200/334 [1:05:39<42:54, 19.21s/it]\u001b[A"
     ]
    },
    {
     "name": "stdout",
     "output_type": "stream",
     "text": [
      "Task 200 completed with state COMPLETED: \n",
      "Polling for task (id: LWMSND354S7U5WZT2JLHG74F).\n",
      "Polling for task (id: LWMSND354S7U5WZT2JLHG74F).\n",
      "Polling for task (id: LWMSND354S7U5WZT2JLHG74F).\n"
     ]
    },
    {
     "name": "stderr",
     "output_type": "stream",
     "text": [
      "\n",
      "Exporting Images:  60%|██████    | 201/334 [1:05:58<41:58, 18.94s/it]\u001b[A"
     ]
    },
    {
     "name": "stdout",
     "output_type": "stream",
     "text": [
      "Task 201 completed with state COMPLETED: \n",
      "Polling for task (id: 5MGGZQABTUCXRVTYIC3BXJRM).\n",
      "Polling for task (id: 5MGGZQABTUCXRVTYIC3BXJRM).\n",
      "Polling for task (id: 5MGGZQABTUCXRVTYIC3BXJRM).\n"
     ]
    },
    {
     "name": "stderr",
     "output_type": "stream",
     "text": [
      "\n",
      "Exporting Images:  60%|██████    | 202/334 [1:06:16<41:11, 18.72s/it]\u001b[A"
     ]
    },
    {
     "name": "stdout",
     "output_type": "stream",
     "text": [
      "Task 202 completed with state COMPLETED: \n",
      "Polling for task (id: VKEDLGM4R2JPX7FXREIOSKRD).\n",
      "Polling for task (id: VKEDLGM4R2JPX7FXREIOSKRD).\n",
      "Polling for task (id: VKEDLGM4R2JPX7FXREIOSKRD).\n"
     ]
    },
    {
     "name": "stderr",
     "output_type": "stream",
     "text": [
      "\n",
      "Exporting Images:  61%|██████    | 203/334 [1:06:34<40:30, 18.56s/it]\u001b[A"
     ]
    },
    {
     "name": "stdout",
     "output_type": "stream",
     "text": [
      "Task 203 completed with state COMPLETED: \n",
      "Polling for task (id: L4I4ZO2DWOYVQSSV5WNINCQP).\n",
      "Polling for task (id: L4I4ZO2DWOYVQSSV5WNINCQP).\n",
      "Polling for task (id: L4I4ZO2DWOYVQSSV5WNINCQP).\n"
     ]
    },
    {
     "name": "stderr",
     "output_type": "stream",
     "text": [
      "\n",
      "Exporting Images:  61%|██████    | 204/334 [1:06:52<40:00, 18.46s/it]\u001b[A"
     ]
    },
    {
     "name": "stdout",
     "output_type": "stream",
     "text": [
      "Task 204 completed with state COMPLETED: \n",
      "Polling for task (id: 5P36HCBWEHV45H7RIMLCHA43).\n",
      "Polling for task (id: 5P36HCBWEHV45H7RIMLCHA43).\n",
      "Polling for task (id: 5P36HCBWEHV45H7RIMLCHA43).\n",
      "Polling for task (id: 5P36HCBWEHV45H7RIMLCHA43).\n",
      "Polling for task (id: 5P36HCBWEHV45H7RIMLCHA43).\n"
     ]
    },
    {
     "name": "stderr",
     "output_type": "stream",
     "text": [
      "\n",
      "Exporting Images:  61%|██████▏   | 205/334 [1:07:22<46:51, 21.79s/it]\u001b[A"
     ]
    },
    {
     "name": "stdout",
     "output_type": "stream",
     "text": [
      "Task 205 completed with state COMPLETED: \n",
      "Polling for task (id: HJ5IXS2NWG6I2RXS4S6P7Q6Y).\n",
      "Polling for task (id: HJ5IXS2NWG6I2RXS4S6P7Q6Y).\n",
      "Polling for task (id: HJ5IXS2NWG6I2RXS4S6P7Q6Y).\n"
     ]
    },
    {
     "name": "stderr",
     "output_type": "stream",
     "text": [
      "\n",
      "Exporting Images:  62%|██████▏   | 206/334 [1:07:40<44:08, 20.69s/it]\u001b[A"
     ]
    },
    {
     "name": "stdout",
     "output_type": "stream",
     "text": [
      "Task 206 completed with state COMPLETED: \n",
      "Polling for task (id: CLQTOMG7RZMDZXY3DVBTZJIL).\n",
      "Polling for task (id: CLQTOMG7RZMDZXY3DVBTZJIL).\n",
      "Polling for task (id: CLQTOMG7RZMDZXY3DVBTZJIL).\n"
     ]
    },
    {
     "name": "stderr",
     "output_type": "stream",
     "text": [
      "\n",
      "Exporting Images:  62%|██████▏   | 207/334 [1:07:58<42:08, 19.91s/it]\u001b[A"
     ]
    },
    {
     "name": "stdout",
     "output_type": "stream",
     "text": [
      "Task 207 completed with state COMPLETED: \n",
      "Polling for task (id: 4KSNW66JXR2KANHWJLNPKMJB).\n",
      "Polling for task (id: 4KSNW66JXR2KANHWJLNPKMJB).\n",
      "Polling for task (id: 4KSNW66JXR2KANHWJLNPKMJB).\n"
     ]
    },
    {
     "name": "stderr",
     "output_type": "stream",
     "text": [
      "\n",
      "Exporting Images:  62%|██████▏   | 208/334 [1:08:16<40:41, 19.38s/it]\u001b[A"
     ]
    },
    {
     "name": "stdout",
     "output_type": "stream",
     "text": [
      "Task 208 completed with state COMPLETED: \n",
      "Polling for task (id: YME4CPMCPED6C2OTGU7RRSOB).\n",
      "Polling for task (id: YME4CPMCPED6C2OTGU7RRSOB).\n",
      "Polling for task (id: YME4CPMCPED6C2OTGU7RRSOB).\n"
     ]
    },
    {
     "name": "stderr",
     "output_type": "stream",
     "text": [
      "\n",
      "Exporting Images:  63%|██████▎   | 209/334 [1:08:34<39:37, 19.02s/it]\u001b[A"
     ]
    },
    {
     "name": "stdout",
     "output_type": "stream",
     "text": [
      "Task 209 completed with state COMPLETED: \n",
      "Polling for task (id: VJBRWZ4QXVR3K6UTNCDYKNVV).\n",
      "Polling for task (id: VJBRWZ4QXVR3K6UTNCDYKNVV).\n",
      "Polling for task (id: VJBRWZ4QXVR3K6UTNCDYKNVV).\n"
     ]
    },
    {
     "name": "stderr",
     "output_type": "stream",
     "text": [
      "\n",
      "Exporting Images:  63%|██████▎   | 210/334 [1:08:52<38:42, 18.73s/it]\u001b[A"
     ]
    },
    {
     "name": "stdout",
     "output_type": "stream",
     "text": [
      "Task 210 completed with state COMPLETED: \n",
      "Polling for task (id: DAALIK2756BNYJX4NX4XUFBG).\n",
      "Polling for task (id: DAALIK2756BNYJX4NX4XUFBG).\n",
      "Polling for task (id: DAALIK2756BNYJX4NX4XUFBG).\n"
     ]
    },
    {
     "name": "stderr",
     "output_type": "stream",
     "text": [
      "\n",
      "Exporting Images:  63%|██████▎   | 211/334 [1:09:11<38:03, 18.56s/it]\u001b[A"
     ]
    },
    {
     "name": "stdout",
     "output_type": "stream",
     "text": [
      "Task 211 completed with state COMPLETED: \n",
      "Polling for task (id: CXXX63ZZHF3Y54PIONHSVKUH).\n",
      "Polling for task (id: CXXX63ZZHF3Y54PIONHSVKUH).\n",
      "Polling for task (id: CXXX63ZZHF3Y54PIONHSVKUH).\n"
     ]
    },
    {
     "name": "stderr",
     "output_type": "stream",
     "text": [
      "\n",
      "Exporting Images:  63%|██████▎   | 212/334 [1:09:29<37:29, 18.44s/it]\u001b[A"
     ]
    },
    {
     "name": "stdout",
     "output_type": "stream",
     "text": [
      "Task 212 completed with state COMPLETED: \n",
      "Polling for task (id: NQDYEOIIY3PUKG7B4OX5VC57).\n",
      "Polling for task (id: NQDYEOIIY3PUKG7B4OX5VC57).\n",
      "Polling for task (id: NQDYEOIIY3PUKG7B4OX5VC57).\n",
      "Polling for task (id: NQDYEOIIY3PUKG7B4OX5VC57).\n"
     ]
    },
    {
     "name": "stderr",
     "output_type": "stream",
     "text": [
      "\n",
      "Exporting Images:  64%|██████▍   | 213/334 [1:09:52<40:15, 19.96s/it]\u001b[A"
     ]
    },
    {
     "name": "stdout",
     "output_type": "stream",
     "text": [
      "Task 213 completed with state COMPLETED: \n",
      "Polling for task (id: 27HNLBKWCQXKNJLRIB5SWE6S).\n",
      "Polling for task (id: 27HNLBKWCQXKNJLRIB5SWE6S).\n",
      "Polling for task (id: 27HNLBKWCQXKNJLRIB5SWE6S).\n"
     ]
    },
    {
     "name": "stderr",
     "output_type": "stream",
     "text": [
      "\n",
      "Exporting Images:  64%|██████▍   | 214/334 [1:10:10<38:47, 19.39s/it]\u001b[A"
     ]
    },
    {
     "name": "stdout",
     "output_type": "stream",
     "text": [
      "Task 214 completed with state COMPLETED: \n",
      "Polling for task (id: 6M472CRZYGZHWPQOLKDPMHX7).\n",
      "Polling for task (id: 6M472CRZYGZHWPQOLKDPMHX7).\n",
      "Polling for task (id: 6M472CRZYGZHWPQOLKDPMHX7).\n",
      "Polling for task (id: 6M472CRZYGZHWPQOLKDPMHX7).\n",
      "Polling for task (id: 6M472CRZYGZHWPQOLKDPMHX7).\n"
     ]
    },
    {
     "name": "stderr",
     "output_type": "stream",
     "text": [
      "\n",
      "Exporting Images:  64%|██████▍   | 215/334 [1:10:39<44:11, 22.28s/it]\u001b[A"
     ]
    },
    {
     "name": "stdout",
     "output_type": "stream",
     "text": [
      "Task 215 completed with state COMPLETED: \n",
      "Polling for task (id: FJEITDHVBUFV4CHVZIZXEDUU).\n",
      "Polling for task (id: FJEITDHVBUFV4CHVZIZXEDUU).\n",
      "Polling for task (id: FJEITDHVBUFV4CHVZIZXEDUU).\n"
     ]
    },
    {
     "name": "stderr",
     "output_type": "stream",
     "text": [
      "\n",
      "Exporting Images:  65%|██████▍   | 216/334 [1:10:57<41:22, 21.04s/it]\u001b[A"
     ]
    },
    {
     "name": "stdout",
     "output_type": "stream",
     "text": [
      "Task 216 completed with state COMPLETED: \n",
      "Polling for task (id: UWU2QN5ISN65AUXVG3ILT2S7).\n",
      "Polling for task (id: UWU2QN5ISN65AUXVG3ILT2S7).\n",
      "Polling for task (id: UWU2QN5ISN65AUXVG3ILT2S7).\n"
     ]
    },
    {
     "name": "stderr",
     "output_type": "stream",
     "text": [
      "\n",
      "Exporting Images:  65%|██████▍   | 217/334 [1:11:16<39:20, 20.17s/it]\u001b[A"
     ]
    },
    {
     "name": "stdout",
     "output_type": "stream",
     "text": [
      "Task 217 completed with state COMPLETED: \n",
      "Polling for task (id: RSGF26VG2W3NV6C264OQNP4M).\n",
      "Polling for task (id: RSGF26VG2W3NV6C264OQNP4M).\n",
      "Polling for task (id: RSGF26VG2W3NV6C264OQNP4M).\n"
     ]
    },
    {
     "name": "stderr",
     "output_type": "stream",
     "text": [
      "\n",
      "Exporting Images:  65%|██████▌   | 218/334 [1:11:34<37:47, 19.55s/it]\u001b[A"
     ]
    },
    {
     "name": "stdout",
     "output_type": "stream",
     "text": [
      "Task 218 completed with state COMPLETED: \n",
      "Polling for task (id: 72JKKKKWSBJ5SMUALRYTJMPO).\n",
      "Polling for task (id: 72JKKKKWSBJ5SMUALRYTJMPO).\n",
      "Polling for task (id: 72JKKKKWSBJ5SMUALRYTJMPO).\n"
     ]
    },
    {
     "name": "stderr",
     "output_type": "stream",
     "text": [
      "\n",
      "Exporting Images:  66%|██████▌   | 219/334 [1:11:52<36:39, 19.12s/it]\u001b[A"
     ]
    },
    {
     "name": "stdout",
     "output_type": "stream",
     "text": [
      "Task 219 completed with state COMPLETED: \n",
      "Polling for task (id: QOSF6O6B27G6I7T46GWW7QHW).\n",
      "Polling for task (id: QOSF6O6B27G6I7T46GWW7QHW).\n",
      "Polling for task (id: QOSF6O6B27G6I7T46GWW7QHW).\n"
     ]
    },
    {
     "name": "stderr",
     "output_type": "stream",
     "text": [
      "\n",
      "Exporting Images:  66%|██████▌   | 220/334 [1:12:10<35:47, 18.84s/it]\u001b[A"
     ]
    },
    {
     "name": "stdout",
     "output_type": "stream",
     "text": [
      "Task 220 completed with state COMPLETED: \n",
      "Polling for task (id: VKPYFMPK7ZCLBMRS3I5CSRWZ).\n",
      "Polling for task (id: VKPYFMPK7ZCLBMRS3I5CSRWZ).\n",
      "Polling for task (id: VKPYFMPK7ZCLBMRS3I5CSRWZ).\n"
     ]
    },
    {
     "name": "stderr",
     "output_type": "stream",
     "text": [
      "\n",
      "Exporting Images:  66%|██████▌   | 221/334 [1:12:28<35:07, 18.65s/it]\u001b[A"
     ]
    },
    {
     "name": "stdout",
     "output_type": "stream",
     "text": [
      "Task 221 completed with state COMPLETED: \n",
      "Polling for task (id: 4EQHFGQUMXR723HFCOUCQQCL).\n",
      "Polling for task (id: 4EQHFGQUMXR723HFCOUCQQCL).\n",
      "Polling for task (id: 4EQHFGQUMXR723HFCOUCQQCL).\n",
      "Polling for task (id: 4EQHFGQUMXR723HFCOUCQQCL).\n"
     ]
    },
    {
     "name": "stderr",
     "output_type": "stream",
     "text": [
      "\n",
      "Exporting Images:  66%|██████▋   | 222/334 [1:12:52<37:30, 20.09s/it]\u001b[A"
     ]
    },
    {
     "name": "stdout",
     "output_type": "stream",
     "text": [
      "Task 222 completed with state COMPLETED: \n",
      "Polling for task (id: F5XE4CXMYS63PBQ5IDSN6FNB).\n",
      "Polling for task (id: F5XE4CXMYS63PBQ5IDSN6FNB).\n",
      "Polling for task (id: F5XE4CXMYS63PBQ5IDSN6FNB).\n"
     ]
    },
    {
     "name": "stderr",
     "output_type": "stream",
     "text": [
      "\n",
      "Exporting Images:  67%|██████▋   | 223/334 [1:13:10<36:06, 19.52s/it]\u001b[A"
     ]
    },
    {
     "name": "stdout",
     "output_type": "stream",
     "text": [
      "Task 223 completed with state COMPLETED: \n",
      "Polling for task (id: ITDFBJOBPCISXVDYJLGQPBXF).\n",
      "Polling for task (id: ITDFBJOBPCISXVDYJLGQPBXF).\n",
      "Polling for task (id: ITDFBJOBPCISXVDYJLGQPBXF).\n"
     ]
    },
    {
     "name": "stderr",
     "output_type": "stream",
     "text": [
      "\n",
      "Exporting Images:  67%|██████▋   | 224/334 [1:13:28<35:04, 19.13s/it]\u001b[A"
     ]
    },
    {
     "name": "stdout",
     "output_type": "stream",
     "text": [
      "Task 224 completed with state COMPLETED: \n",
      "Polling for task (id: LOUTZK2ZWZGFBT7DYGHZGZLC).\n",
      "Polling for task (id: LOUTZK2ZWZGFBT7DYGHZGZLC).\n",
      "Polling for task (id: LOUTZK2ZWZGFBT7DYGHZGZLC).\n"
     ]
    },
    {
     "name": "stderr",
     "output_type": "stream",
     "text": [
      "\n",
      "Exporting Images:  67%|██████▋   | 225/334 [1:13:46<34:16, 18.87s/it]\u001b[A"
     ]
    },
    {
     "name": "stdout",
     "output_type": "stream",
     "text": [
      "Task 225 completed with state COMPLETED: \n",
      "Polling for task (id: 3IRXLVLZI53ZFWPTSG3D452Y).\n",
      "Polling for task (id: 3IRXLVLZI53ZFWPTSG3D452Y).\n",
      "Polling for task (id: 3IRXLVLZI53ZFWPTSG3D452Y).\n"
     ]
    },
    {
     "name": "stderr",
     "output_type": "stream",
     "text": [
      "\n",
      "Exporting Images:  68%|██████▊   | 226/334 [1:14:05<33:39, 18.70s/it]\u001b[A"
     ]
    },
    {
     "name": "stdout",
     "output_type": "stream",
     "text": [
      "Task 226 completed with state COMPLETED: \n",
      "Polling for task (id: IT3EJR3QCGNSGWQLQTQ2A4Q3).\n",
      "Polling for task (id: IT3EJR3QCGNSGWQLQTQ2A4Q3).\n",
      "Polling for task (id: IT3EJR3QCGNSGWQLQTQ2A4Q3).\n"
     ]
    },
    {
     "name": "stderr",
     "output_type": "stream",
     "text": [
      "\n",
      "Exporting Images:  68%|██████▊   | 227/334 [1:14:23<33:02, 18.53s/it]\u001b[A"
     ]
    },
    {
     "name": "stdout",
     "output_type": "stream",
     "text": [
      "Task 227 completed with state COMPLETED: \n",
      "Polling for task (id: W6WWOQ7RIECQX2PVM5K5ZLSQ).\n",
      "Polling for task (id: W6WWOQ7RIECQX2PVM5K5ZLSQ).\n"
     ]
    },
    {
     "name": "stderr",
     "output_type": "stream",
     "text": [
      "\n",
      "Exporting Images:  68%|██████▊   | 228/334 [1:14:36<29:42, 16.82s/it]\u001b[A"
     ]
    },
    {
     "name": "stdout",
     "output_type": "stream",
     "text": [
      "Task 228 completed with state COMPLETED: \n",
      "Polling for task (id: 25CRRFFT5GR4HFSCIGSQYSR6).\n",
      "Polling for task (id: 25CRRFFT5GR4HFSCIGSQYSR6).\n",
      "Polling for task (id: 25CRRFFT5GR4HFSCIGSQYSR6).\n"
     ]
    },
    {
     "name": "stderr",
     "output_type": "stream",
     "text": [
      "\n",
      "Exporting Images:  69%|██████▊   | 229/334 [1:14:54<30:05, 17.19s/it]\u001b[A"
     ]
    },
    {
     "name": "stdout",
     "output_type": "stream",
     "text": [
      "Task 229 completed with state COMPLETED: \n",
      "Polling for task (id: IM7QCT375NB7FS3KQMHQE2YO).\n",
      "Polling for task (id: IM7QCT375NB7FS3KQMHQE2YO).\n",
      "Polling for task (id: IM7QCT375NB7FS3KQMHQE2YO).\n"
     ]
    },
    {
     "name": "stderr",
     "output_type": "stream",
     "text": [
      "\n",
      "Exporting Images:  69%|██████▉   | 230/334 [1:15:12<30:18, 17.49s/it]\u001b[A"
     ]
    },
    {
     "name": "stdout",
     "output_type": "stream",
     "text": [
      "Task 230 completed with state COMPLETED: \n",
      "Polling for task (id: FZKPD4KNVXA2A7RE3IVSBV7S).\n",
      "Polling for task (id: FZKPD4KNVXA2A7RE3IVSBV7S).\n",
      "Polling for task (id: FZKPD4KNVXA2A7RE3IVSBV7S).\n"
     ]
    },
    {
     "name": "stderr",
     "output_type": "stream",
     "text": [
      "\n",
      "Exporting Images:  69%|██████▉   | 231/334 [1:15:30<30:22, 17.69s/it]\u001b[A"
     ]
    },
    {
     "name": "stdout",
     "output_type": "stream",
     "text": [
      "Task 231 completed with state COMPLETED: \n",
      "Polling for task (id: NQFYMJ6BTMR7GQL3IEWKQXOM).\n",
      "Polling for task (id: NQFYMJ6BTMR7GQL3IEWKQXOM).\n",
      "Polling for task (id: NQFYMJ6BTMR7GQL3IEWKQXOM).\n",
      "Polling for task (id: NQFYMJ6BTMR7GQL3IEWKQXOM).\n"
     ]
    },
    {
     "name": "stderr",
     "output_type": "stream",
     "text": [
      "\n",
      "Exporting Images:  69%|██████▉   | 232/334 [1:15:54<33:05, 19.46s/it]\u001b[A"
     ]
    },
    {
     "name": "stdout",
     "output_type": "stream",
     "text": [
      "Task 232 completed with state COMPLETED: \n",
      "Polling for task (id: SJ3VA5V7CH2SHD5FF2RK55V2).\n",
      "Polling for task (id: SJ3VA5V7CH2SHD5FF2RK55V2).\n",
      "Polling for task (id: SJ3VA5V7CH2SHD5FF2RK55V2).\n",
      "Polling for task (id: SJ3VA5V7CH2SHD5FF2RK55V2).\n"
     ]
    },
    {
     "name": "stderr",
     "output_type": "stream",
     "text": [
      "\n",
      "Exporting Images:  70%|██████▉   | 233/334 [1:16:17<34:50, 20.70s/it]\u001b[A"
     ]
    },
    {
     "name": "stdout",
     "output_type": "stream",
     "text": [
      "Task 233 completed with state COMPLETED: \n",
      "Polling for task (id: VE7XEDVQBWCMX5DUFKHD22QV).\n",
      "Polling for task (id: VE7XEDVQBWCMX5DUFKHD22QV).\n",
      "Polling for task (id: VE7XEDVQBWCMX5DUFKHD22QV).\n",
      "Polling for task (id: VE7XEDVQBWCMX5DUFKHD22QV).\n"
     ]
    },
    {
     "name": "stderr",
     "output_type": "stream",
     "text": [
      "\n",
      "Exporting Images:  70%|███████   | 234/334 [1:16:41<35:59, 21.59s/it]\u001b[A"
     ]
    },
    {
     "name": "stdout",
     "output_type": "stream",
     "text": [
      "Task 234 completed with state COMPLETED: \n",
      "Polling for task (id: YAR45CKFXDIDSBO3QDFD7DQQ).\n",
      "Polling for task (id: YAR45CKFXDIDSBO3QDFD7DQQ).\n",
      "Polling for task (id: YAR45CKFXDIDSBO3QDFD7DQQ).\n"
     ]
    },
    {
     "name": "stderr",
     "output_type": "stream",
     "text": [
      "\n",
      "Exporting Images:  70%|███████   | 235/334 [1:16:59<33:51, 20.52s/it]\u001b[A"
     ]
    },
    {
     "name": "stdout",
     "output_type": "stream",
     "text": [
      "Task 235 completed with state COMPLETED: \n",
      "Polling for task (id: ATAKNSEXRHD3IIDA6UZFRT2Q).\n",
      "Polling for task (id: ATAKNSEXRHD3IIDA6UZFRT2Q).\n",
      "Polling for task (id: ATAKNSEXRHD3IIDA6UZFRT2Q).\n"
     ]
    },
    {
     "name": "stderr",
     "output_type": "stream",
     "text": [
      "\n",
      "Exporting Images:  71%|███████   | 236/334 [1:17:17<32:15, 19.75s/it]\u001b[A"
     ]
    },
    {
     "name": "stdout",
     "output_type": "stream",
     "text": [
      "Task 236 completed with state COMPLETED: \n",
      "Polling for task (id: JOFYEOLSUOXBNPW52TZCD4JC).\n",
      "Polling for task (id: JOFYEOLSUOXBNPW52TZCD4JC).\n",
      "Polling for task (id: JOFYEOLSUOXBNPW52TZCD4JC).\n"
     ]
    },
    {
     "name": "stderr",
     "output_type": "stream",
     "text": [
      "\n",
      "Exporting Images:  71%|███████   | 237/334 [1:17:36<31:25, 19.43s/it]\u001b[A"
     ]
    },
    {
     "name": "stdout",
     "output_type": "stream",
     "text": [
      "Task 237 completed with state COMPLETED: \n",
      "Polling for task (id: D53Y7AZFLEE62HUWGX35BASI).\n",
      "Polling for task (id: D53Y7AZFLEE62HUWGX35BASI).\n",
      "Polling for task (id: D53Y7AZFLEE62HUWGX35BASI).\n"
     ]
    },
    {
     "name": "stderr",
     "output_type": "stream",
     "text": [
      "\n",
      "Exporting Images:  71%|███████▏  | 238/334 [1:17:54<30:32, 19.09s/it]\u001b[A"
     ]
    },
    {
     "name": "stdout",
     "output_type": "stream",
     "text": [
      "Task 238 completed with state COMPLETED: \n",
      "Polling for task (id: 4T7H52L3X55Y7RDV6L5R2ZJ3).\n",
      "Polling for task (id: 4T7H52L3X55Y7RDV6L5R2ZJ3).\n",
      "Polling for task (id: 4T7H52L3X55Y7RDV6L5R2ZJ3).\n",
      "Polling for task (id: 4T7H52L3X55Y7RDV6L5R2ZJ3).\n",
      "Polling for task (id: 4T7H52L3X55Y7RDV6L5R2ZJ3).\n",
      "Polling for task (id: 4T7H52L3X55Y7RDV6L5R2ZJ3).\n",
      "Polling for task (id: 4T7H52L3X55Y7RDV6L5R2ZJ3).\n",
      "Polling for task (id: 4T7H52L3X55Y7RDV6L5R2ZJ3).\n",
      "Polling for task (id: 4T7H52L3X55Y7RDV6L5R2ZJ3).\n",
      "Polling for task (id: 4T7H52L3X55Y7RDV6L5R2ZJ3).\n",
      "Polling for task (id: 4T7H52L3X55Y7RDV6L5R2ZJ3).\n"
     ]
    },
    {
     "name": "stderr",
     "output_type": "stream",
     "text": [
      "\n",
      "Exporting Images:  72%|███████▏  | 239/334 [1:18:55<50:13, 31.73s/it]\u001b[A"
     ]
    },
    {
     "name": "stdout",
     "output_type": "stream",
     "text": [
      "Task 239 completed with state COMPLETED: \n",
      "Polling for task (id: YTDGQEMKHM3LCDART4G3SGOG).\n",
      "Polling for task (id: YTDGQEMKHM3LCDART4G3SGOG).\n",
      "Polling for task (id: YTDGQEMKHM3LCDART4G3SGOG).\n"
     ]
    },
    {
     "name": "stderr",
     "output_type": "stream",
     "text": [
      "\n",
      "Exporting Images:  72%|███████▏  | 240/334 [1:19:13<43:19, 27.66s/it]\u001b[A"
     ]
    },
    {
     "name": "stdout",
     "output_type": "stream",
     "text": [
      "Task 240 completed with state COMPLETED: \n",
      "Polling for task (id: ZWGEJNEV4YQXPQSVG35UZTW6).\n",
      "Polling for task (id: ZWGEJNEV4YQXPQSVG35UZTW6).\n",
      "Polling for task (id: ZWGEJNEV4YQXPQSVG35UZTW6).\n"
     ]
    },
    {
     "name": "stderr",
     "output_type": "stream",
     "text": [
      "\n",
      "Exporting Images:  72%|███████▏  | 241/334 [1:19:31<38:30, 24.84s/it]\u001b[A"
     ]
    },
    {
     "name": "stdout",
     "output_type": "stream",
     "text": [
      "Task 241 completed with state COMPLETED: \n",
      "Polling for task (id: 2WIBOQLTUPIXMNGHOSZMZFTF).\n",
      "Polling for task (id: 2WIBOQLTUPIXMNGHOSZMZFTF).\n",
      "Polling for task (id: 2WIBOQLTUPIXMNGHOSZMZFTF).\n"
     ]
    },
    {
     "name": "stderr",
     "output_type": "stream",
     "text": [
      "\n",
      "Exporting Images:  72%|███████▏  | 242/334 [1:19:50<35:01, 22.84s/it]\u001b[A"
     ]
    },
    {
     "name": "stdout",
     "output_type": "stream",
     "text": [
      "Task 242 completed with state COMPLETED: \n",
      "Polling for task (id: 4QXNOH3LAVYVINBRFFFVQ4K4).\n",
      "Polling for task (id: 4QXNOH3LAVYVINBRFFFVQ4K4).\n",
      "Polling for task (id: 4QXNOH3LAVYVINBRFFFVQ4K4).\n"
     ]
    },
    {
     "name": "stderr",
     "output_type": "stream",
     "text": [
      "\n",
      "Exporting Images:  73%|███████▎  | 243/334 [1:20:08<32:31, 21.45s/it]\u001b[A"
     ]
    },
    {
     "name": "stdout",
     "output_type": "stream",
     "text": [
      "Task 243 completed with state COMPLETED: \n",
      "Polling for task (id: KRHYTFRCGT2F2VIHZ7WX4MKS).\n",
      "Polling for task (id: KRHYTFRCGT2F2VIHZ7WX4MKS).\n",
      "Polling for task (id: KRHYTFRCGT2F2VIHZ7WX4MKS).\n"
     ]
    },
    {
     "name": "stderr",
     "output_type": "stream",
     "text": [
      "\n",
      "Exporting Images:  73%|███████▎  | 244/334 [1:20:26<30:48, 20.54s/it]\u001b[A"
     ]
    },
    {
     "name": "stdout",
     "output_type": "stream",
     "text": [
      "Task 244 completed with state COMPLETED: \n",
      "Polling for task (id: NKEBR26Z5EBCR3YRWCGMWIAH).\n",
      "Polling for task (id: NKEBR26Z5EBCR3YRWCGMWIAH).\n",
      "Polling for task (id: NKEBR26Z5EBCR3YRWCGMWIAH).\n"
     ]
    },
    {
     "name": "stderr",
     "output_type": "stream",
     "text": [
      "\n",
      "Exporting Images:  73%|███████▎  | 245/334 [1:20:44<29:23, 19.82s/it]\u001b[A"
     ]
    },
    {
     "name": "stdout",
     "output_type": "stream",
     "text": [
      "Task 245 completed with state COMPLETED: \n",
      "Polling for task (id: GTGLQ4NSBRV7EVNSFN6NVBLZ).\n",
      "Polling for task (id: GTGLQ4NSBRV7EVNSFN6NVBLZ).\n",
      "Polling for task (id: GTGLQ4NSBRV7EVNSFN6NVBLZ).\n"
     ]
    },
    {
     "name": "stderr",
     "output_type": "stream",
     "text": [
      "\n",
      "Exporting Images:  74%|███████▎  | 246/334 [1:21:03<28:20, 19.32s/it]\u001b[A"
     ]
    },
    {
     "name": "stdout",
     "output_type": "stream",
     "text": [
      "Task 246 completed with state COMPLETED: \n",
      "Polling for task (id: GLXMNBCJGYKY7PN6ABUZZRGY).\n",
      "Polling for task (id: GLXMNBCJGYKY7PN6ABUZZRGY).\n",
      "Polling for task (id: GLXMNBCJGYKY7PN6ABUZZRGY).\n",
      "Polling for task (id: GLXMNBCJGYKY7PN6ABUZZRGY).\n"
     ]
    },
    {
     "name": "stderr",
     "output_type": "stream",
     "text": [
      "\n",
      "Exporting Images:  74%|███████▍  | 247/334 [1:21:26<29:53, 20.61s/it]\u001b[A"
     ]
    },
    {
     "name": "stdout",
     "output_type": "stream",
     "text": [
      "Task 247 completed with state COMPLETED: \n",
      "Polling for task (id: ELH7LMWIVLCV5CH7NUMENR6V).\n",
      "Polling for task (id: ELH7LMWIVLCV5CH7NUMENR6V).\n",
      "Polling for task (id: ELH7LMWIVLCV5CH7NUMENR6V).\n"
     ]
    },
    {
     "name": "stderr",
     "output_type": "stream",
     "text": [
      "\n",
      "Exporting Images:  74%|███████▍  | 248/334 [1:21:44<28:33, 19.92s/it]\u001b[A"
     ]
    },
    {
     "name": "stdout",
     "output_type": "stream",
     "text": [
      "Task 248 completed with state COMPLETED: \n",
      "Polling for task (id: 3QQYNVSPSCJEQ3JRAVFBI4LU).\n",
      "Polling for task (id: 3QQYNVSPSCJEQ3JRAVFBI4LU).\n",
      "Polling for task (id: 3QQYNVSPSCJEQ3JRAVFBI4LU).\n"
     ]
    },
    {
     "name": "stderr",
     "output_type": "stream",
     "text": [
      "\n",
      "Exporting Images:  75%|███████▍  | 249/334 [1:22:03<27:30, 19.41s/it]\u001b[A"
     ]
    },
    {
     "name": "stdout",
     "output_type": "stream",
     "text": [
      "Task 249 completed with state COMPLETED: \n",
      "Polling for task (id: H7BJNQ52OJD6J3O6N3WG4KGP).\n",
      "Polling for task (id: H7BJNQ52OJD6J3O6N3WG4KGP).\n",
      "Polling for task (id: H7BJNQ52OJD6J3O6N3WG4KGP).\n"
     ]
    },
    {
     "name": "stderr",
     "output_type": "stream",
     "text": [
      "\n",
      "Exporting Images:  75%|███████▍  | 250/334 [1:22:21<26:38, 19.03s/it]\u001b[A"
     ]
    },
    {
     "name": "stdout",
     "output_type": "stream",
     "text": [
      "Task 250 completed with state COMPLETED: \n",
      "Polling for task (id: STHQHVPDX4DUXFZ2SRDW5C3Q).\n",
      "Polling for task (id: STHQHVPDX4DUXFZ2SRDW5C3Q).\n",
      "Polling for task (id: STHQHVPDX4DUXFZ2SRDW5C3Q).\n"
     ]
    },
    {
     "name": "stderr",
     "output_type": "stream",
     "text": [
      "\n",
      "Exporting Images:  75%|███████▌  | 251/334 [1:22:39<26:00, 18.80s/it]\u001b[A"
     ]
    },
    {
     "name": "stdout",
     "output_type": "stream",
     "text": [
      "Task 251 completed with state COMPLETED: \n",
      "Polling for task (id: AF6P5FGOFTLQLZJ3322M7OPA).\n",
      "Polling for task (id: AF6P5FGOFTLQLZJ3322M7OPA).\n",
      "Polling for task (id: AF6P5FGOFTLQLZJ3322M7OPA).\n"
     ]
    },
    {
     "name": "stderr",
     "output_type": "stream",
     "text": [
      "\n",
      "Exporting Images:  75%|███████▌  | 252/334 [1:22:57<25:27, 18.63s/it]\u001b[A"
     ]
    },
    {
     "name": "stdout",
     "output_type": "stream",
     "text": [
      "Task 252 completed with state COMPLETED: \n",
      "Polling for task (id: I54S7C2NW6FGDYURJMZ2IKOB).\n",
      "Polling for task (id: I54S7C2NW6FGDYURJMZ2IKOB).\n",
      "Polling for task (id: I54S7C2NW6FGDYURJMZ2IKOB).\n",
      "Polling for task (id: I54S7C2NW6FGDYURJMZ2IKOB).\n"
     ]
    },
    {
     "name": "stderr",
     "output_type": "stream",
     "text": [
      "\n",
      "Exporting Images:  76%|███████▌  | 253/334 [1:23:21<27:12, 20.15s/it]\u001b[A"
     ]
    },
    {
     "name": "stdout",
     "output_type": "stream",
     "text": [
      "Task 253 completed with state COMPLETED: \n",
      "Polling for task (id: 5VGYS25CF5HQSMLQ5DN7AMDF).\n",
      "Polling for task (id: 5VGYS25CF5HQSMLQ5DN7AMDF).\n",
      "Polling for task (id: 5VGYS25CF5HQSMLQ5DN7AMDF).\n"
     ]
    },
    {
     "name": "stderr",
     "output_type": "stream",
     "text": [
      "\n",
      "Exporting Images:  76%|███████▌  | 254/334 [1:23:39<26:07, 19.60s/it]\u001b[A"
     ]
    },
    {
     "name": "stdout",
     "output_type": "stream",
     "text": [
      "Task 254 completed with state COMPLETED: \n",
      "Polling for task (id: 2M7PCFV6RLU4PLUFFC3GTURJ).\n",
      "Polling for task (id: 2M7PCFV6RLU4PLUFFC3GTURJ).\n",
      "Polling for task (id: 2M7PCFV6RLU4PLUFFC3GTURJ).\n"
     ]
    },
    {
     "name": "stderr",
     "output_type": "stream",
     "text": [
      "\n",
      "Exporting Images:  76%|███████▋  | 255/334 [1:23:57<25:12, 19.15s/it]\u001b[A"
     ]
    },
    {
     "name": "stdout",
     "output_type": "stream",
     "text": [
      "Task 255 completed with state COMPLETED: \n",
      "Polling for task (id: M6S2GKKNRZ442CDCBHMBOKLA).\n",
      "Polling for task (id: M6S2GKKNRZ442CDCBHMBOKLA).\n",
      "Polling for task (id: M6S2GKKNRZ442CDCBHMBOKLA).\n"
     ]
    },
    {
     "name": "stderr",
     "output_type": "stream",
     "text": [
      "\n",
      "Exporting Images:  77%|███████▋  | 256/334 [1:24:16<24:32, 18.87s/it]\u001b[A"
     ]
    },
    {
     "name": "stdout",
     "output_type": "stream",
     "text": [
      "Task 256 completed with state COMPLETED: \n",
      "Polling for task (id: LHG6PMLHXNMGMFSIP6TQBNUO).\n",
      "Polling for task (id: LHG6PMLHXNMGMFSIP6TQBNUO).\n",
      "Polling for task (id: LHG6PMLHXNMGMFSIP6TQBNUO).\n"
     ]
    },
    {
     "name": "stderr",
     "output_type": "stream",
     "text": [
      "\n",
      "Exporting Images:  77%|███████▋  | 257/334 [1:24:34<23:59, 18.69s/it]\u001b[A"
     ]
    },
    {
     "name": "stdout",
     "output_type": "stream",
     "text": [
      "Task 257 completed with state COMPLETED: \n",
      "Polling for task (id: FB3GEFW3WLFPP2XRJ6ISZT6T).\n",
      "Polling for task (id: FB3GEFW3WLFPP2XRJ6ISZT6T).\n",
      "Polling for task (id: FB3GEFW3WLFPP2XRJ6ISZT6T).\n"
     ]
    },
    {
     "name": "stderr",
     "output_type": "stream",
     "text": [
      "\n",
      "Exporting Images:  77%|███████▋  | 258/334 [1:24:52<23:27, 18.52s/it]\u001b[A"
     ]
    },
    {
     "name": "stdout",
     "output_type": "stream",
     "text": [
      "Task 258 completed with state COMPLETED: \n",
      "Polling for task (id: 5N2LQLYR73DGIONOSMT3KPTK).\n",
      "Polling for task (id: 5N2LQLYR73DGIONOSMT3KPTK).\n",
      "Polling for task (id: 5N2LQLYR73DGIONOSMT3KPTK).\n"
     ]
    },
    {
     "name": "stderr",
     "output_type": "stream",
     "text": [
      "\n",
      "Exporting Images:  78%|███████▊  | 259/334 [1:25:10<23:02, 18.44s/it]\u001b[A"
     ]
    },
    {
     "name": "stdout",
     "output_type": "stream",
     "text": [
      "Task 259 completed with state COMPLETED: \n",
      "Polling for task (id: PMWPFRLFSIYA2R433W52Y2UJ).\n",
      "Polling for task (id: PMWPFRLFSIYA2R433W52Y2UJ).\n"
     ]
    },
    {
     "name": "stderr",
     "output_type": "stream",
     "text": [
      "\n",
      "Exporting Images:  78%|███████▊  | 260/334 [1:25:23<20:38, 16.73s/it]\u001b[A"
     ]
    },
    {
     "name": "stdout",
     "output_type": "stream",
     "text": [
      "Task 260 completed with state COMPLETED: \n",
      "Polling for task (id: 2NDVFILZVKX7HON2ZGQEOJSO).\n",
      "Polling for task (id: 2NDVFILZVKX7HON2ZGQEOJSO).\n",
      "Polling for task (id: 2NDVFILZVKX7HON2ZGQEOJSO).\n"
     ]
    },
    {
     "name": "stderr",
     "output_type": "stream",
     "text": [
      "\n",
      "Exporting Images:  78%|███████▊  | 261/334 [1:25:41<20:54, 17.18s/it]\u001b[A"
     ]
    },
    {
     "name": "stdout",
     "output_type": "stream",
     "text": [
      "Task 261 completed with state COMPLETED: \n",
      "Polling for task (id: 5W3FQDY3MRFVMOEOUPLEWMJK).\n",
      "Polling for task (id: 5W3FQDY3MRFVMOEOUPLEWMJK).\n",
      "Polling for task (id: 5W3FQDY3MRFVMOEOUPLEWMJK).\n"
     ]
    },
    {
     "name": "stderr",
     "output_type": "stream",
     "text": [
      "\n",
      "Exporting Images:  78%|███████▊  | 262/334 [1:26:00<20:59, 17.49s/it]\u001b[A"
     ]
    },
    {
     "name": "stdout",
     "output_type": "stream",
     "text": [
      "Task 262 completed with state COMPLETED: \n",
      "Polling for task (id: TPT2EAFD7RSCRHHRK2ESGDSC).\n",
      "Polling for task (id: TPT2EAFD7RSCRHHRK2ESGDSC).\n",
      "Polling for task (id: TPT2EAFD7RSCRHHRK2ESGDSC).\n",
      "Polling for task (id: TPT2EAFD7RSCRHHRK2ESGDSC).\n"
     ]
    },
    {
     "name": "stderr",
     "output_type": "stream",
     "text": [
      "\n",
      "Exporting Images:  79%|███████▊  | 263/334 [1:26:23<22:52, 19.33s/it]\u001b[A"
     ]
    },
    {
     "name": "stdout",
     "output_type": "stream",
     "text": [
      "Task 263 completed with state COMPLETED: \n",
      "Polling for task (id: FTSMMUCWHWDZOJVJY3YLBWPL).\n",
      "Polling for task (id: FTSMMUCWHWDZOJVJY3YLBWPL).\n",
      "Polling for task (id: FTSMMUCWHWDZOJVJY3YLBWPL).\n"
     ]
    },
    {
     "name": "stderr",
     "output_type": "stream",
     "text": [
      "\n",
      "Exporting Images:  79%|███████▉  | 264/334 [1:26:41<22:09, 19.00s/it]\u001b[A"
     ]
    },
    {
     "name": "stdout",
     "output_type": "stream",
     "text": [
      "Task 264 completed with state COMPLETED: \n",
      "Polling for task (id: THW7QEIUWM6724G7VO3HMVSR).\n",
      "Polling for task (id: THW7QEIUWM6724G7VO3HMVSR).\n",
      "Polling for task (id: THW7QEIUWM6724G7VO3HMVSR).\n"
     ]
    },
    {
     "name": "stderr",
     "output_type": "stream",
     "text": [
      "\n",
      "Exporting Images:  79%|███████▉  | 265/334 [1:27:00<21:35, 18.77s/it]\u001b[A"
     ]
    },
    {
     "name": "stdout",
     "output_type": "stream",
     "text": [
      "Task 265 completed with state COMPLETED: \n",
      "Polling for task (id: URDLF4B3FQBSF5IETOGJTCMZ).\n",
      "Polling for task (id: URDLF4B3FQBSF5IETOGJTCMZ).\n",
      "Polling for task (id: URDLF4B3FQBSF5IETOGJTCMZ).\n"
     ]
    },
    {
     "name": "stderr",
     "output_type": "stream",
     "text": [
      "\n",
      "Exporting Images:  80%|███████▉  | 266/334 [1:27:18<21:04, 18.59s/it]\u001b[A"
     ]
    },
    {
     "name": "stdout",
     "output_type": "stream",
     "text": [
      "Task 266 completed with state COMPLETED: \n",
      "Polling for task (id: SWRTITIQF54WBND2RBADZ6V5).\n",
      "Polling for task (id: SWRTITIQF54WBND2RBADZ6V5).\n",
      "Polling for task (id: SWRTITIQF54WBND2RBADZ6V5).\n"
     ]
    },
    {
     "name": "stderr",
     "output_type": "stream",
     "text": [
      "\n",
      "Exporting Images:  80%|███████▉  | 267/334 [1:27:36<20:38, 18.49s/it]\u001b[A"
     ]
    },
    {
     "name": "stdout",
     "output_type": "stream",
     "text": [
      "Task 267 completed with state COMPLETED: \n",
      "Polling for task (id: AT4QWT3SGA75N473RZKFCCK4).\n",
      "Polling for task (id: AT4QWT3SGA75N473RZKFCCK4).\n",
      "Polling for task (id: AT4QWT3SGA75N473RZKFCCK4).\n"
     ]
    },
    {
     "name": "stderr",
     "output_type": "stream",
     "text": [
      "\n",
      "Exporting Images:  80%|████████  | 268/334 [1:27:54<20:13, 18.39s/it]\u001b[A"
     ]
    },
    {
     "name": "stdout",
     "output_type": "stream",
     "text": [
      "Task 268 completed with state COMPLETED: \n",
      "Polling for task (id: RSWNKH5LYPDNUCIUUFYZ7DVY).\n",
      "Polling for task (id: RSWNKH5LYPDNUCIUUFYZ7DVY).\n",
      "Polling for task (id: RSWNKH5LYPDNUCIUUFYZ7DVY).\n"
     ]
    },
    {
     "name": "stderr",
     "output_type": "stream",
     "text": [
      "\n",
      "Exporting Images:  81%|████████  | 269/334 [1:28:12<19:52, 18.35s/it]\u001b[A"
     ]
    },
    {
     "name": "stdout",
     "output_type": "stream",
     "text": [
      "Task 269 completed with state COMPLETED: \n",
      "Polling for task (id: RMTI7BS7C5FGECCS4P3QWTUU).\n",
      "Polling for task (id: RMTI7BS7C5FGECCS4P3QWTUU).\n",
      "Polling for task (id: RMTI7BS7C5FGECCS4P3QWTUU).\n"
     ]
    },
    {
     "name": "stderr",
     "output_type": "stream",
     "text": [
      "\n",
      "Exporting Images:  81%|████████  | 270/334 [1:28:31<19:29, 18.27s/it]\u001b[A"
     ]
    },
    {
     "name": "stdout",
     "output_type": "stream",
     "text": [
      "Task 270 completed with state COMPLETED: \n",
      "Polling for task (id: ZGZLGL43RW2BBIVGDTLBBB2L).\n",
      "Polling for task (id: ZGZLGL43RW2BBIVGDTLBBB2L).\n",
      "Polling for task (id: ZGZLGL43RW2BBIVGDTLBBB2L).\n"
     ]
    },
    {
     "name": "stderr",
     "output_type": "stream",
     "text": [
      "\n",
      "Exporting Images:  81%|████████  | 271/334 [1:28:49<19:07, 18.21s/it]\u001b[A"
     ]
    },
    {
     "name": "stdout",
     "output_type": "stream",
     "text": [
      "Task 271 completed with state COMPLETED: \n",
      "Polling for task (id: QUFIRHDT5PL7NBCFYDUXWYDW).\n",
      "Polling for task (id: QUFIRHDT5PL7NBCFYDUXWYDW).\n",
      "Polling for task (id: QUFIRHDT5PL7NBCFYDUXWYDW).\n"
     ]
    },
    {
     "name": "stderr",
     "output_type": "stream",
     "text": [
      "\n",
      "Exporting Images:  81%|████████▏ | 272/334 [1:29:07<18:55, 18.31s/it]\u001b[A"
     ]
    },
    {
     "name": "stdout",
     "output_type": "stream",
     "text": [
      "Task 272 completed with state COMPLETED: \n",
      "Polling for task (id: OCWB3FNKFXJ2DR5M4KVFO6MV).\n",
      "Polling for task (id: OCWB3FNKFXJ2DR5M4KVFO6MV).\n",
      "Polling for task (id: OCWB3FNKFXJ2DR5M4KVFO6MV).\n"
     ]
    },
    {
     "name": "stderr",
     "output_type": "stream",
     "text": [
      "\n",
      "Exporting Images:  82%|████████▏ | 273/334 [1:29:25<18:32, 18.24s/it]\u001b[A"
     ]
    },
    {
     "name": "stdout",
     "output_type": "stream",
     "text": [
      "Task 273 completed with state COMPLETED: \n",
      "Polling for task (id: YZW72LHYA2F6WG7VBRUKU7C3).\n",
      "Polling for task (id: YZW72LHYA2F6WG7VBRUKU7C3).\n",
      "Polling for task (id: YZW72LHYA2F6WG7VBRUKU7C3).\n"
     ]
    },
    {
     "name": "stderr",
     "output_type": "stream",
     "text": [
      "\n",
      "Exporting Images:  82%|████████▏ | 274/334 [1:29:43<18:14, 18.24s/it]\u001b[A"
     ]
    },
    {
     "name": "stdout",
     "output_type": "stream",
     "text": [
      "Task 274 completed with state COMPLETED: \n",
      "Polling for task (id: JBYBKIYDKXLMKKM6LIZ27QQZ).\n",
      "Polling for task (id: JBYBKIYDKXLMKKM6LIZ27QQZ).\n",
      "Polling for task (id: JBYBKIYDKXLMKKM6LIZ27QQZ).\n"
     ]
    },
    {
     "name": "stderr",
     "output_type": "stream",
     "text": [
      "\n",
      "Exporting Images:  82%|████████▏ | 275/334 [1:30:02<17:56, 18.24s/it]\u001b[A"
     ]
    },
    {
     "name": "stdout",
     "output_type": "stream",
     "text": [
      "Task 275 completed with state COMPLETED: \n",
      "Polling for task (id: IJLTVPBBCA6JS3VCLKIQ5JJG).\n",
      "Polling for task (id: IJLTVPBBCA6JS3VCLKIQ5JJG).\n",
      "Polling for task (id: IJLTVPBBCA6JS3VCLKIQ5JJG).\n"
     ]
    },
    {
     "name": "stderr",
     "output_type": "stream",
     "text": [
      "\n",
      "Exporting Images:  83%|████████▎ | 276/334 [1:30:20<17:39, 18.27s/it]\u001b[A"
     ]
    },
    {
     "name": "stdout",
     "output_type": "stream",
     "text": [
      "Task 276 completed with state COMPLETED: \n",
      "Polling for task (id: MVQM4BVRPBSMJRJAWPPTYHVD).\n",
      "Polling for task (id: MVQM4BVRPBSMJRJAWPPTYHVD).\n",
      "Polling for task (id: MVQM4BVRPBSMJRJAWPPTYHVD).\n"
     ]
    },
    {
     "name": "stderr",
     "output_type": "stream",
     "text": [
      "\n",
      "Exporting Images:  83%|████████▎ | 277/334 [1:30:38<17:20, 18.26s/it]\u001b[A"
     ]
    },
    {
     "name": "stdout",
     "output_type": "stream",
     "text": [
      "Task 277 completed with state COMPLETED: \n",
      "Polling for task (id: B2EAY5UMOS2FSNQBKERJ6GST).\n",
      "Polling for task (id: B2EAY5UMOS2FSNQBKERJ6GST).\n",
      "Polling for task (id: B2EAY5UMOS2FSNQBKERJ6GST).\n"
     ]
    },
    {
     "name": "stderr",
     "output_type": "stream",
     "text": [
      "\n",
      "Exporting Images:  83%|████████▎ | 278/334 [1:30:57<17:03, 18.28s/it]\u001b[A"
     ]
    },
    {
     "name": "stdout",
     "output_type": "stream",
     "text": [
      "Task 278 completed with state COMPLETED: \n",
      "Polling for task (id: 35WZHZ764UDLONE5V475BN5F).\n",
      "Polling for task (id: 35WZHZ764UDLONE5V475BN5F).\n",
      "Polling for task (id: 35WZHZ764UDLONE5V475BN5F).\n"
     ]
    },
    {
     "name": "stderr",
     "output_type": "stream",
     "text": [
      "\n",
      "Exporting Images:  84%|████████▎ | 279/334 [1:31:15<16:43, 18.24s/it]\u001b[A"
     ]
    },
    {
     "name": "stdout",
     "output_type": "stream",
     "text": [
      "Task 279 completed with state COMPLETED: \n",
      "Polling for task (id: YGLPWXOS6QFFOK7TKFEZ3HYV).\n",
      "Polling for task (id: YGLPWXOS6QFFOK7TKFEZ3HYV).\n",
      "Polling for task (id: YGLPWXOS6QFFOK7TKFEZ3HYV).\n"
     ]
    },
    {
     "name": "stderr",
     "output_type": "stream",
     "text": [
      "\n",
      "Exporting Images:  84%|████████▍ | 280/334 [1:31:33<16:23, 18.22s/it]\u001b[A"
     ]
    },
    {
     "name": "stdout",
     "output_type": "stream",
     "text": [
      "Task 280 completed with state COMPLETED: \n",
      "Polling for task (id: KEAWWYSASK2X43WNFTCOGKPI).\n",
      "Polling for task (id: KEAWWYSASK2X43WNFTCOGKPI).\n",
      "Polling for task (id: KEAWWYSASK2X43WNFTCOGKPI).\n"
     ]
    },
    {
     "name": "stderr",
     "output_type": "stream",
     "text": [
      "\n",
      "Exporting Images:  84%|████████▍ | 281/334 [1:31:51<16:07, 18.25s/it]\u001b[A"
     ]
    },
    {
     "name": "stdout",
     "output_type": "stream",
     "text": [
      "Task 281 completed with state COMPLETED: \n",
      "Polling for task (id: DTPLWLFTDU35XZ3H2U54JOQE).\n",
      "Polling for task (id: DTPLWLFTDU35XZ3H2U54JOQE).\n",
      "Polling for task (id: DTPLWLFTDU35XZ3H2U54JOQE).\n"
     ]
    },
    {
     "name": "stderr",
     "output_type": "stream",
     "text": [
      "\n",
      "Exporting Images:  84%|████████▍ | 282/334 [1:32:10<15:54, 18.35s/it]\u001b[A"
     ]
    },
    {
     "name": "stdout",
     "output_type": "stream",
     "text": [
      "Task 282 completed with state COMPLETED: \n",
      "Polling for task (id: FQUFL3W6B2GPWEQHFT5CDL6D).\n",
      "Polling for task (id: FQUFL3W6B2GPWEQHFT5CDL6D).\n",
      "Polling for task (id: FQUFL3W6B2GPWEQHFT5CDL6D).\n"
     ]
    },
    {
     "name": "stderr",
     "output_type": "stream",
     "text": [
      "\n",
      "Exporting Images:  85%|████████▍ | 283/334 [1:32:28<15:35, 18.35s/it]\u001b[A"
     ]
    },
    {
     "name": "stdout",
     "output_type": "stream",
     "text": [
      "Task 283 completed with state COMPLETED: \n",
      "Polling for task (id: 7CCJUOWXKERD5QGBCWWDPRSZ).\n",
      "Polling for task (id: 7CCJUOWXKERD5QGBCWWDPRSZ).\n",
      "Polling for task (id: 7CCJUOWXKERD5QGBCWWDPRSZ).\n"
     ]
    },
    {
     "name": "stderr",
     "output_type": "stream",
     "text": [
      "\n",
      "Exporting Images:  85%|████████▌ | 284/334 [1:32:46<15:12, 18.25s/it]\u001b[A"
     ]
    },
    {
     "name": "stdout",
     "output_type": "stream",
     "text": [
      "Task 284 completed with state COMPLETED: \n",
      "Polling for task (id: XLDB5YZHUILQIRRYMZUHA3L6).\n",
      "Polling for task (id: XLDB5YZHUILQIRRYMZUHA3L6).\n",
      "Polling for task (id: XLDB5YZHUILQIRRYMZUHA3L6).\n"
     ]
    },
    {
     "name": "stderr",
     "output_type": "stream",
     "text": [
      "\n",
      "Exporting Images:  85%|████████▌ | 285/334 [1:33:04<14:55, 18.28s/it]\u001b[A"
     ]
    },
    {
     "name": "stdout",
     "output_type": "stream",
     "text": [
      "Task 285 completed with state COMPLETED: \n",
      "Polling for task (id: QSIKGMXJZWAYZS7N4PNHIUA7).\n",
      "Polling for task (id: QSIKGMXJZWAYZS7N4PNHIUA7).\n",
      "Polling for task (id: QSIKGMXJZWAYZS7N4PNHIUA7).\n"
     ]
    },
    {
     "name": "stderr",
     "output_type": "stream",
     "text": [
      "\n",
      "Exporting Images:  86%|████████▌ | 286/334 [1:33:23<14:35, 18.24s/it]\u001b[A"
     ]
    },
    {
     "name": "stdout",
     "output_type": "stream",
     "text": [
      "Task 286 completed with state COMPLETED: \n",
      "Polling for task (id: HXSGE3EH6OEZKR3A55GHVC3I).\n",
      "Polling for task (id: HXSGE3EH6OEZKR3A55GHVC3I).\n",
      "Polling for task (id: HXSGE3EH6OEZKR3A55GHVC3I).\n"
     ]
    },
    {
     "name": "stderr",
     "output_type": "stream",
     "text": [
      "\n",
      "Exporting Images:  86%|████████▌ | 287/334 [1:33:41<14:16, 18.22s/it]\u001b[A"
     ]
    },
    {
     "name": "stdout",
     "output_type": "stream",
     "text": [
      "Task 287 completed with state COMPLETED: \n",
      "Polling for task (id: 7TC5EEUS22EXMBQBVLKWQAZL).\n",
      "Polling for task (id: 7TC5EEUS22EXMBQBVLKWQAZL).\n",
      "Polling for task (id: 7TC5EEUS22EXMBQBVLKWQAZL).\n"
     ]
    },
    {
     "name": "stderr",
     "output_type": "stream",
     "text": [
      "\n",
      "Exporting Images:  86%|████████▌ | 288/334 [1:33:59<13:56, 18.18s/it]\u001b[A"
     ]
    },
    {
     "name": "stdout",
     "output_type": "stream",
     "text": [
      "Task 288 completed with state COMPLETED: \n",
      "Polling for task (id: MA2FFYPNSIZHVR6XRYIAFMNH).\n",
      "Polling for task (id: MA2FFYPNSIZHVR6XRYIAFMNH).\n",
      "Polling for task (id: MA2FFYPNSIZHVR6XRYIAFMNH).\n"
     ]
    },
    {
     "name": "stderr",
     "output_type": "stream",
     "text": [
      "\n",
      "Exporting Images:  87%|████████▋ | 289/334 [1:34:17<13:37, 18.17s/it]\u001b[A"
     ]
    },
    {
     "name": "stdout",
     "output_type": "stream",
     "text": [
      "Task 289 completed with state COMPLETED: \n",
      "Polling for task (id: ISEZ64SQBRHAZZL5XC7YVSQC).\n",
      "Polling for task (id: ISEZ64SQBRHAZZL5XC7YVSQC).\n",
      "Polling for task (id: ISEZ64SQBRHAZZL5XC7YVSQC).\n"
     ]
    },
    {
     "name": "stderr",
     "output_type": "stream",
     "text": [
      "\n",
      "Exporting Images:  87%|████████▋ | 290/334 [1:34:35<13:19, 18.16s/it]\u001b[A"
     ]
    },
    {
     "name": "stdout",
     "output_type": "stream",
     "text": [
      "Task 290 completed with state COMPLETED: \n",
      "Polling for task (id: KNDYBLRLJIBSRGTUOE4ENOW3).\n",
      "Polling for task (id: KNDYBLRLJIBSRGTUOE4ENOW3).\n",
      "Polling for task (id: KNDYBLRLJIBSRGTUOE4ENOW3).\n"
     ]
    },
    {
     "name": "stderr",
     "output_type": "stream",
     "text": [
      "\n",
      "Exporting Images:  87%|████████▋ | 291/334 [1:34:53<13:00, 18.14s/it]\u001b[A"
     ]
    },
    {
     "name": "stdout",
     "output_type": "stream",
     "text": [
      "Task 291 completed with state COMPLETED: \n",
      "Polling for task (id: QNMRQ72S5WCHHHLXQSXEGLJL).\n",
      "Polling for task (id: QNMRQ72S5WCHHHLXQSXEGLJL).\n",
      "Polling for task (id: QNMRQ72S5WCHHHLXQSXEGLJL).\n"
     ]
    },
    {
     "name": "stderr",
     "output_type": "stream",
     "text": [
      "\n",
      "Exporting Images:  87%|████████▋ | 292/334 [1:35:12<12:44, 18.19s/it]\u001b[A"
     ]
    },
    {
     "name": "stdout",
     "output_type": "stream",
     "text": [
      "Task 292 completed with state COMPLETED: \n",
      "Polling for task (id: E4QXHLURRXVMCUQJKELX4MVA).\n",
      "Polling for task (id: E4QXHLURRXVMCUQJKELX4MVA).\n",
      "Polling for task (id: E4QXHLURRXVMCUQJKELX4MVA).\n"
     ]
    },
    {
     "name": "stderr",
     "output_type": "stream",
     "text": [
      "\n",
      "Exporting Images:  88%|████████▊ | 293/334 [1:35:30<12:24, 18.16s/it]\u001b[A"
     ]
    },
    {
     "name": "stdout",
     "output_type": "stream",
     "text": [
      "Task 293 completed with state COMPLETED: \n",
      "Polling for task (id: LDLOTYIAC5ACA5YKN3EMBDFT).\n",
      "Polling for task (id: LDLOTYIAC5ACA5YKN3EMBDFT).\n",
      "Polling for task (id: LDLOTYIAC5ACA5YKN3EMBDFT).\n"
     ]
    },
    {
     "name": "stderr",
     "output_type": "stream",
     "text": [
      "\n",
      "Exporting Images:  88%|████████▊ | 294/334 [1:35:48<12:05, 18.15s/it]\u001b[A"
     ]
    },
    {
     "name": "stdout",
     "output_type": "stream",
     "text": [
      "Task 294 completed with state COMPLETED: \n",
      "Polling for task (id: RZSOZXHC6C6VHB765PMKNRN6).\n",
      "Polling for task (id: RZSOZXHC6C6VHB765PMKNRN6).\n",
      "Polling for task (id: RZSOZXHC6C6VHB765PMKNRN6).\n"
     ]
    },
    {
     "name": "stderr",
     "output_type": "stream",
     "text": [
      "\n",
      "Exporting Images:  88%|████████▊ | 295/334 [1:36:06<11:47, 18.15s/it]\u001b[A"
     ]
    },
    {
     "name": "stdout",
     "output_type": "stream",
     "text": [
      "Task 295 completed with state COMPLETED: \n",
      "Polling for task (id: OUH6FJDF45DY5FBMXNN63OO6).\n",
      "Polling for task (id: OUH6FJDF45DY5FBMXNN63OO6).\n",
      "Polling for task (id: OUH6FJDF45DY5FBMXNN63OO6).\n"
     ]
    },
    {
     "name": "stderr",
     "output_type": "stream",
     "text": [
      "\n",
      "Exporting Images:  89%|████████▊ | 296/334 [1:36:24<11:29, 18.14s/it]\u001b[A"
     ]
    },
    {
     "name": "stdout",
     "output_type": "stream",
     "text": [
      "Task 296 completed with state COMPLETED: \n",
      "Polling for task (id: V2H2WQP5SSI42224WIQQOCV3).\n",
      "Polling for task (id: V2H2WQP5SSI42224WIQQOCV3).\n",
      "Polling for task (id: V2H2WQP5SSI42224WIQQOCV3).\n"
     ]
    },
    {
     "name": "stderr",
     "output_type": "stream",
     "text": [
      "\n",
      "Exporting Images:  89%|████████▉ | 297/334 [1:36:42<11:11, 18.15s/it]\u001b[A"
     ]
    },
    {
     "name": "stdout",
     "output_type": "stream",
     "text": [
      "Task 297 completed with state COMPLETED: \n",
      "Polling for task (id: 66WVGUQSVVK3N6Q4LAWQEKML).\n",
      "Polling for task (id: 66WVGUQSVVK3N6Q4LAWQEKML).\n",
      "Polling for task (id: 66WVGUQSVVK3N6Q4LAWQEKML).\n",
      "Polling for task (id: 66WVGUQSVVK3N6Q4LAWQEKML).\n"
     ]
    },
    {
     "name": "stderr",
     "output_type": "stream",
     "text": [
      "\n",
      "Exporting Images:  89%|████████▉ | 298/334 [1:37:06<11:52, 19.79s/it]\u001b[A"
     ]
    },
    {
     "name": "stdout",
     "output_type": "stream",
     "text": [
      "Task 298 completed with state COMPLETED: \n",
      "Polling for task (id: ZY5T46L2C5BRIXMSHKWKZ63I).\n",
      "Polling for task (id: ZY5T46L2C5BRIXMSHKWKZ63I).\n",
      "Polling for task (id: ZY5T46L2C5BRIXMSHKWKZ63I).\n",
      "Polling for task (id: ZY5T46L2C5BRIXMSHKWKZ63I).\n"
     ]
    },
    {
     "name": "stderr",
     "output_type": "stream",
     "text": [
      "\n",
      "Exporting Images:  90%|████████▉ | 299/334 [1:37:29<12:10, 20.87s/it]\u001b[A"
     ]
    },
    {
     "name": "stdout",
     "output_type": "stream",
     "text": [
      "Task 299 completed with state COMPLETED: \n",
      "Polling for task (id: QTSMJXUIPLRAFRDUNJSYVKJN).\n",
      "Polling for task (id: QTSMJXUIPLRAFRDUNJSYVKJN).\n",
      "Polling for task (id: QTSMJXUIPLRAFRDUNJSYVKJN).\n",
      "Polling for task (id: QTSMJXUIPLRAFRDUNJSYVKJN).\n"
     ]
    },
    {
     "name": "stderr",
     "output_type": "stream",
     "text": [
      "\n",
      "Exporting Images:  90%|████████▉ | 300/334 [1:37:53<12:17, 21.68s/it]\u001b[A"
     ]
    },
    {
     "name": "stdout",
     "output_type": "stream",
     "text": [
      "Task 300 completed with state COMPLETED: \n",
      "Polling for task (id: T6A2JXTFFZRO6NQO3DH65CQ5).\n",
      "Polling for task (id: T6A2JXTFFZRO6NQO3DH65CQ5).\n",
      "Polling for task (id: T6A2JXTFFZRO6NQO3DH65CQ5).\n",
      "Polling for task (id: T6A2JXTFFZRO6NQO3DH65CQ5).\n"
     ]
    },
    {
     "name": "stderr",
     "output_type": "stream",
     "text": [
      "\n",
      "Exporting Images:  90%|█████████ | 301/334 [1:38:16<12:12, 22.21s/it]\u001b[A"
     ]
    },
    {
     "name": "stdout",
     "output_type": "stream",
     "text": [
      "Task 301 completed with state COMPLETED: \n",
      "Polling for task (id: N6KLS3XJIF3K3SVNPUTGP42P).\n",
      "Polling for task (id: N6KLS3XJIF3K3SVNPUTGP42P).\n",
      "Polling for task (id: N6KLS3XJIF3K3SVNPUTGP42P).\n"
     ]
    },
    {
     "name": "stderr",
     "output_type": "stream",
     "text": [
      "\n",
      "Exporting Images:  90%|█████████ | 302/334 [1:38:34<11:11, 20.99s/it]\u001b[A"
     ]
    },
    {
     "name": "stdout",
     "output_type": "stream",
     "text": [
      "Task 302 completed with state COMPLETED: \n",
      "Polling for task (id: 7GZLIQCTACF6BGCMZCQQLSHJ).\n",
      "Polling for task (id: 7GZLIQCTACF6BGCMZCQQLSHJ).\n",
      "Polling for task (id: 7GZLIQCTACF6BGCMZCQQLSHJ).\n"
     ]
    },
    {
     "name": "stderr",
     "output_type": "stream",
     "text": [
      "\n",
      "Exporting Images:  91%|█████████ | 303/334 [1:38:53<10:25, 20.18s/it]\u001b[A"
     ]
    },
    {
     "name": "stdout",
     "output_type": "stream",
     "text": [
      "Task 303 completed with state COMPLETED: \n",
      "Polling for task (id: KADXIVT4CQF3OHPY3ULQNTSU).\n",
      "Polling for task (id: KADXIVT4CQF3OHPY3ULQNTSU).\n",
      "Polling for task (id: KADXIVT4CQF3OHPY3ULQNTSU).\n"
     ]
    },
    {
     "name": "stderr",
     "output_type": "stream",
     "text": [
      "\n",
      "Exporting Images:  91%|█████████ | 304/334 [1:39:11<09:46, 19.54s/it]\u001b[A"
     ]
    },
    {
     "name": "stdout",
     "output_type": "stream",
     "text": [
      "Task 304 completed with state COMPLETED: \n",
      "Polling for task (id: TGOF6ARYRUA3JZZFHX7HNXOW).\n",
      "Polling for task (id: TGOF6ARYRUA3JZZFHX7HNXOW).\n"
     ]
    },
    {
     "name": "stderr",
     "output_type": "stream",
     "text": [
      "\n",
      "Exporting Images:  91%|█████████▏| 305/334 [1:39:24<08:28, 17.53s/it]\u001b[A"
     ]
    },
    {
     "name": "stdout",
     "output_type": "stream",
     "text": [
      "Task 305 completed with state COMPLETED: \n",
      "Polling for task (id: CZTSPLLPLP4K2SIHDQJFAF6V).\n",
      "Polling for task (id: CZTSPLLPLP4K2SIHDQJFAF6V).\n",
      "Polling for task (id: CZTSPLLPLP4K2SIHDQJFAF6V).\n"
     ]
    },
    {
     "name": "stderr",
     "output_type": "stream",
     "text": [
      "\n",
      "Exporting Images:  92%|█████████▏| 306/334 [1:39:42<08:16, 17.74s/it]\u001b[A"
     ]
    },
    {
     "name": "stdout",
     "output_type": "stream",
     "text": [
      "Task 306 completed with state COMPLETED: \n",
      "Polling for task (id: M6Y3LMYGMEI2MD2PMVHGPMKZ).\n",
      "Polling for task (id: M6Y3LMYGMEI2MD2PMVHGPMKZ).\n",
      "Polling for task (id: M6Y3LMYGMEI2MD2PMVHGPMKZ).\n"
     ]
    },
    {
     "name": "stderr",
     "output_type": "stream",
     "text": [
      "\n",
      "Exporting Images:  92%|█████████▏| 307/334 [1:40:00<08:04, 17.93s/it]\u001b[A"
     ]
    },
    {
     "name": "stdout",
     "output_type": "stream",
     "text": [
      "Task 307 completed with state COMPLETED: \n",
      "Polling for task (id: A5HFVZDWZKTFHSWG4JIEFQ4S).\n",
      "Polling for task (id: A5HFVZDWZKTFHSWG4JIEFQ4S).\n",
      "Polling for task (id: A5HFVZDWZKTFHSWG4JIEFQ4S).\n"
     ]
    },
    {
     "name": "stderr",
     "output_type": "stream",
     "text": [
      "\n",
      "Exporting Images:  92%|█████████▏| 308/334 [1:40:18<07:47, 17.97s/it]\u001b[A"
     ]
    },
    {
     "name": "stdout",
     "output_type": "stream",
     "text": [
      "Task 308 completed with state COMPLETED: \n",
      "Polling for task (id: QHGTE75W65WPQRWEJN2SNVIW).\n",
      "Polling for task (id: QHGTE75W65WPQRWEJN2SNVIW).\n",
      "Polling for task (id: QHGTE75W65WPQRWEJN2SNVIW).\n"
     ]
    },
    {
     "name": "stderr",
     "output_type": "stream",
     "text": [
      "\n",
      "Exporting Images:  93%|█████████▎| 309/334 [1:40:36<07:30, 18.03s/it]\u001b[A"
     ]
    },
    {
     "name": "stdout",
     "output_type": "stream",
     "text": [
      "Task 309 completed with state COMPLETED: \n",
      "Polling for task (id: EFXQU4DXAUGFPI66TU4RCDST).\n",
      "Polling for task (id: EFXQU4DXAUGFPI66TU4RCDST).\n",
      "Polling for task (id: EFXQU4DXAUGFPI66TU4RCDST).\n"
     ]
    },
    {
     "name": "stderr",
     "output_type": "stream",
     "text": [
      "\n",
      "Exporting Images:  93%|█████████▎| 310/334 [1:40:55<07:14, 18.09s/it]\u001b[A"
     ]
    },
    {
     "name": "stdout",
     "output_type": "stream",
     "text": [
      "Task 310 completed with state COMPLETED: \n",
      "Polling for task (id: KS5GUGDQI6HVNLRVBFCXO6XO).\n",
      "Polling for task (id: KS5GUGDQI6HVNLRVBFCXO6XO).\n",
      "Polling for task (id: KS5GUGDQI6HVNLRVBFCXO6XO).\n"
     ]
    },
    {
     "name": "stderr",
     "output_type": "stream",
     "text": [
      "\n",
      "Exporting Images:  93%|█████████▎| 311/334 [1:41:13<06:56, 18.11s/it]\u001b[A"
     ]
    },
    {
     "name": "stdout",
     "output_type": "stream",
     "text": [
      "Task 311 completed with state COMPLETED: \n",
      "Polling for task (id: S5UV46EJFIX7BT32YM3RG6M5).\n",
      "Polling for task (id: S5UV46EJFIX7BT32YM3RG6M5).\n",
      "Polling for task (id: S5UV46EJFIX7BT32YM3RG6M5).\n"
     ]
    },
    {
     "name": "stderr",
     "output_type": "stream",
     "text": [
      "\n",
      "Exporting Images:  93%|█████████▎| 312/334 [1:41:31<06:39, 18.15s/it]\u001b[A"
     ]
    },
    {
     "name": "stdout",
     "output_type": "stream",
     "text": [
      "Task 312 completed with state COMPLETED: \n",
      "Polling for task (id: LODDS2JLOXBO2TZK4DLJNWHN).\n",
      "Polling for task (id: LODDS2JLOXBO2TZK4DLJNWHN).\n",
      "Polling for task (id: LODDS2JLOXBO2TZK4DLJNWHN).\n"
     ]
    },
    {
     "name": "stderr",
     "output_type": "stream",
     "text": [
      "\n",
      "Exporting Images:  94%|█████████▎| 313/334 [1:41:49<06:21, 18.15s/it]\u001b[A"
     ]
    },
    {
     "name": "stdout",
     "output_type": "stream",
     "text": [
      "Task 313 completed with state COMPLETED: \n",
      "Polling for task (id: 7MUG2PPKMLDRXGQMGB4U3PPV).\n",
      "Polling for task (id: 7MUG2PPKMLDRXGQMGB4U3PPV).\n",
      "Polling for task (id: 7MUG2PPKMLDRXGQMGB4U3PPV).\n",
      "Polling for task (id: 7MUG2PPKMLDRXGQMGB4U3PPV).\n"
     ]
    },
    {
     "name": "stderr",
     "output_type": "stream",
     "text": [
      "\n",
      "Exporting Images:  94%|█████████▍| 314/334 [1:42:13<06:35, 19.78s/it]\u001b[A"
     ]
    },
    {
     "name": "stdout",
     "output_type": "stream",
     "text": [
      "Task 314 completed with state COMPLETED: \n",
      "Polling for task (id: KP4HUBPCXBXJVRZ4DDX6RPVE).\n",
      "Polling for task (id: KP4HUBPCXBXJVRZ4DDX6RPVE).\n",
      "Polling for task (id: KP4HUBPCXBXJVRZ4DDX6RPVE).\n"
     ]
    },
    {
     "name": "stderr",
     "output_type": "stream",
     "text": [
      "\n",
      "Exporting Images:  94%|█████████▍| 315/334 [1:42:31<06:06, 19.28s/it]\u001b[A"
     ]
    },
    {
     "name": "stdout",
     "output_type": "stream",
     "text": [
      "Task 315 completed with state COMPLETED: \n",
      "Polling for task (id: O5H2D7LCCS6VPPYDC63XB72G).\n",
      "Polling for task (id: O5H2D7LCCS6VPPYDC63XB72G).\n",
      "Polling for task (id: O5H2D7LCCS6VPPYDC63XB72G).\n"
     ]
    },
    {
     "name": "stderr",
     "output_type": "stream",
     "text": [
      "\n",
      "Exporting Images:  95%|█████████▍| 316/334 [1:42:49<05:40, 18.94s/it]\u001b[A"
     ]
    },
    {
     "name": "stdout",
     "output_type": "stream",
     "text": [
      "Task 316 completed with state COMPLETED: \n",
      "Polling for task (id: YTTCY2LWBLI6IPXTX5LBJ33E).\n",
      "Polling for task (id: YTTCY2LWBLI6IPXTX5LBJ33E).\n",
      "Polling for task (id: YTTCY2LWBLI6IPXTX5LBJ33E).\n"
     ]
    },
    {
     "name": "stderr",
     "output_type": "stream",
     "text": [
      "\n",
      "Exporting Images:  95%|█████████▍| 317/334 [1:43:07<05:17, 18.69s/it]\u001b[A"
     ]
    },
    {
     "name": "stdout",
     "output_type": "stream",
     "text": [
      "Task 317 completed with state COMPLETED: \n",
      "Polling for task (id: Z27TQMCEVQ6YQRZISSZYFZUB).\n",
      "Polling for task (id: Z27TQMCEVQ6YQRZISSZYFZUB).\n",
      "Polling for task (id: Z27TQMCEVQ6YQRZISSZYFZUB).\n"
     ]
    },
    {
     "name": "stderr",
     "output_type": "stream",
     "text": [
      "\n",
      "Exporting Images:  95%|█████████▌| 318/334 [1:43:25<04:56, 18.53s/it]\u001b[A"
     ]
    },
    {
     "name": "stdout",
     "output_type": "stream",
     "text": [
      "Task 318 completed with state COMPLETED: \n",
      "Polling for task (id: 2C7Y4SSIENFAMAX6OVNNS7T7).\n",
      "Polling for task (id: 2C7Y4SSIENFAMAX6OVNNS7T7).\n",
      "Polling for task (id: 2C7Y4SSIENFAMAX6OVNNS7T7).\n"
     ]
    },
    {
     "name": "stderr",
     "output_type": "stream",
     "text": [
      "\n",
      "Exporting Images:  96%|█████████▌| 319/334 [1:43:44<04:36, 18.44s/it]\u001b[A"
     ]
    },
    {
     "name": "stdout",
     "output_type": "stream",
     "text": [
      "Task 319 completed with state COMPLETED: \n",
      "Polling for task (id: FZKH4T65RWJ3JMN6ID253CAQ).\n",
      "Polling for task (id: FZKH4T65RWJ3JMN6ID253CAQ).\n",
      "Polling for task (id: FZKH4T65RWJ3JMN6ID253CAQ).\n"
     ]
    },
    {
     "name": "stderr",
     "output_type": "stream",
     "text": [
      "\n",
      "Exporting Images:  96%|█████████▌| 320/334 [1:44:02<04:17, 18.36s/it]\u001b[A"
     ]
    },
    {
     "name": "stdout",
     "output_type": "stream",
     "text": [
      "Task 320 completed with state COMPLETED: \n",
      "Polling for task (id: DQLZDQUXRNQJC74TO47O77EW).\n",
      "Polling for task (id: DQLZDQUXRNQJC74TO47O77EW).\n",
      "Polling for task (id: DQLZDQUXRNQJC74TO47O77EW).\n"
     ]
    },
    {
     "name": "stderr",
     "output_type": "stream",
     "text": [
      "\n",
      "Exporting Images:  96%|█████████▌| 321/334 [1:44:20<03:58, 18.37s/it]\u001b[A"
     ]
    },
    {
     "name": "stdout",
     "output_type": "stream",
     "text": [
      "Task 321 completed with state COMPLETED: \n",
      "Polling for task (id: HGSBVEGGBNGOFVEZZ2AWXYPA).\n",
      "Polling for task (id: HGSBVEGGBNGOFVEZZ2AWXYPA).\n",
      "Polling for task (id: HGSBVEGGBNGOFVEZZ2AWXYPA).\n"
     ]
    },
    {
     "name": "stderr",
     "output_type": "stream",
     "text": [
      "\n",
      "Exporting Images:  96%|█████████▋| 322/334 [1:44:38<03:39, 18.31s/it]\u001b[A"
     ]
    },
    {
     "name": "stdout",
     "output_type": "stream",
     "text": [
      "Task 322 completed with state COMPLETED: \n",
      "Polling for task (id: MXGQIWCSRVVKOPNYAN3LJWSP).\n",
      "Polling for task (id: MXGQIWCSRVVKOPNYAN3LJWSP).\n",
      "Polling for task (id: MXGQIWCSRVVKOPNYAN3LJWSP).\n"
     ]
    },
    {
     "name": "stderr",
     "output_type": "stream",
     "text": [
      "\n",
      "Exporting Images:  97%|█████████▋| 323/334 [1:44:56<03:20, 18.26s/it]\u001b[A"
     ]
    },
    {
     "name": "stdout",
     "output_type": "stream",
     "text": [
      "Task 323 completed with state COMPLETED: \n",
      "Polling for task (id: FULQKZ647FR5OJN6PXQNJYSY).\n",
      "Polling for task (id: FULQKZ647FR5OJN6PXQNJYSY).\n",
      "Polling for task (id: FULQKZ647FR5OJN6PXQNJYSY).\n",
      "Polling for task (id: FULQKZ647FR5OJN6PXQNJYSY).\n"
     ]
    },
    {
     "name": "stderr",
     "output_type": "stream",
     "text": [
      "\n",
      "Exporting Images:  97%|█████████▋| 324/334 [1:45:20<03:18, 19.84s/it]\u001b[A"
     ]
    },
    {
     "name": "stdout",
     "output_type": "stream",
     "text": [
      "Task 324 completed with state COMPLETED: \n",
      "Polling for task (id: BNFIT3O3A252T365HRSQA3JO).\n",
      "Polling for task (id: BNFIT3O3A252T365HRSQA3JO).\n",
      "Polling for task (id: BNFIT3O3A252T365HRSQA3JO).\n"
     ]
    },
    {
     "name": "stderr",
     "output_type": "stream",
     "text": [
      "\n",
      "Exporting Images:  97%|█████████▋| 325/334 [1:45:38<02:54, 19.36s/it]\u001b[A"
     ]
    },
    {
     "name": "stdout",
     "output_type": "stream",
     "text": [
      "Task 325 completed with state COMPLETED: \n",
      "Polling for task (id: OHD4UBT3AIVU2GFGLAQL7PYJ).\n",
      "Polling for task (id: OHD4UBT3AIVU2GFGLAQL7PYJ).\n",
      "Polling for task (id: OHD4UBT3AIVU2GFGLAQL7PYJ).\n"
     ]
    },
    {
     "name": "stderr",
     "output_type": "stream",
     "text": [
      "\n",
      "Exporting Images:  98%|█████████▊| 326/334 [1:45:57<02:32, 19.07s/it]\u001b[A"
     ]
    },
    {
     "name": "stdout",
     "output_type": "stream",
     "text": [
      "Task 326 completed with state COMPLETED: \n",
      "Polling for task (id: 5P3RXURDBJIPJBKOSB3XT22H).\n",
      "Polling for task (id: 5P3RXURDBJIPJBKOSB3XT22H).\n",
      "Polling for task (id: 5P3RXURDBJIPJBKOSB3XT22H).\n"
     ]
    },
    {
     "name": "stderr",
     "output_type": "stream",
     "text": [
      "\n",
      "Exporting Images:  98%|█████████▊| 327/334 [1:46:15<02:11, 18.78s/it]\u001b[A"
     ]
    },
    {
     "name": "stdout",
     "output_type": "stream",
     "text": [
      "Task 327 completed with state COMPLETED: \n",
      "Polling for task (id: GKEWDZZOCTSM27X23VZKOE7D).\n",
      "Polling for task (id: GKEWDZZOCTSM27X23VZKOE7D).\n",
      "Polling for task (id: GKEWDZZOCTSM27X23VZKOE7D).\n"
     ]
    },
    {
     "name": "stderr",
     "output_type": "stream",
     "text": [
      "\n",
      "Exporting Images:  98%|█████████▊| 328/334 [1:46:33<01:51, 18.61s/it]\u001b[A"
     ]
    },
    {
     "name": "stdout",
     "output_type": "stream",
     "text": [
      "Task 328 completed with state COMPLETED: \n",
      "Polling for task (id: 65M22Z5IB5LW6ZSBQ7SZWYKB).\n",
      "Polling for task (id: 65M22Z5IB5LW6ZSBQ7SZWYKB).\n",
      "Polling for task (id: 65M22Z5IB5LW6ZSBQ7SZWYKB).\n"
     ]
    },
    {
     "name": "stderr",
     "output_type": "stream",
     "text": [
      "\n",
      "Exporting Images:  99%|█████████▊| 329/334 [1:46:51<01:32, 18.52s/it]\u001b[A"
     ]
    },
    {
     "name": "stdout",
     "output_type": "stream",
     "text": [
      "Task 329 completed with state COMPLETED: \n",
      "Polling for task (id: MFJWX6B6UNIRH3BIIJPBPRVQ).\n",
      "Polling for task (id: MFJWX6B6UNIRH3BIIJPBPRVQ).\n",
      "Polling for task (id: MFJWX6B6UNIRH3BIIJPBPRVQ).\n"
     ]
    },
    {
     "name": "stderr",
     "output_type": "stream",
     "text": [
      "\n",
      "Exporting Images:  99%|█████████▉| 330/334 [1:47:09<01:13, 18.37s/it]\u001b[A"
     ]
    },
    {
     "name": "stdout",
     "output_type": "stream",
     "text": [
      "Task 330 completed with state COMPLETED: \n",
      "Polling for task (id: UBMYDAIOH5PIYXD2M6P56IPW).\n",
      "Polling for task (id: UBMYDAIOH5PIYXD2M6P56IPW).\n",
      "Polling for task (id: UBMYDAIOH5PIYXD2M6P56IPW).\n"
     ]
    },
    {
     "name": "stderr",
     "output_type": "stream",
     "text": [
      "\n",
      "Exporting Images:  99%|█████████▉| 331/334 [1:47:27<00:54, 18.31s/it]\u001b[A"
     ]
    },
    {
     "name": "stdout",
     "output_type": "stream",
     "text": [
      "Task 331 completed with state COMPLETED: \n",
      "Polling for task (id: FAPDMVBPUN4U2VIJEZWSJWYI).\n",
      "Polling for task (id: FAPDMVBPUN4U2VIJEZWSJWYI).\n",
      "Polling for task (id: FAPDMVBPUN4U2VIJEZWSJWYI).\n"
     ]
    },
    {
     "name": "stderr",
     "output_type": "stream",
     "text": [
      "\n",
      "Exporting Images:  99%|█████████▉| 332/334 [1:47:46<00:36, 18.28s/it]\u001b[A"
     ]
    },
    {
     "name": "stdout",
     "output_type": "stream",
     "text": [
      "Task 332 completed with state COMPLETED: \n",
      "Polling for task (id: LA3W4UNWAAAAOYM4FCEAXSZ4).\n",
      "Polling for task (id: LA3W4UNWAAAAOYM4FCEAXSZ4).\n",
      "Polling for task (id: LA3W4UNWAAAAOYM4FCEAXSZ4).\n"
     ]
    },
    {
     "name": "stderr",
     "output_type": "stream",
     "text": [
      "\n",
      "Exporting Images: 100%|█████████▉| 333/334 [1:48:04<00:18, 18.30s/it]\u001b[A"
     ]
    },
    {
     "name": "stdout",
     "output_type": "stream",
     "text": [
      "Task 333 completed with state COMPLETED: \n",
      "Polling for task (id: GVR7ZIJ42YGL7FCNEWYGMV5R).\n",
      "Polling for task (id: GVR7ZIJ42YGL7FCNEWYGMV5R).\n",
      "Polling for task (id: GVR7ZIJ42YGL7FCNEWYGMV5R).\n"
     ]
    },
    {
     "name": "stderr",
     "output_type": "stream",
     "text": [
      "\n",
      "Exporting Images: 100%|██████████| 334/334 [1:48:22<00:00, 19.47s/it]\u001b[A\n",
      " 50%|█████     | 1/2 [1:48:52<1:48:52, 6532.01s/it]"
     ]
    },
    {
     "name": "stdout",
     "output_type": "stream",
     "text": [
      "Task 334 completed with state COMPLETED: \n",
      "Polling for task (id: OTYSEXY6YNMBIMOHOUNXDLLS).\n",
      "Polling for task (id: OTYSEXY6YNMBIMOHOUNXDLLS).\n",
      "Polling for task (id: OTYSEXY6YNMBIMOHOUNXDLLS).\n",
      "Polling for task (id: OTYSEXY6YNMBIMOHOUNXDLLS).\n",
      "Polling for task (id: OTYSEXY6YNMBIMOHOUNXDLLS).\n",
      "Task for Zone 9 median image download completed with state COMPLETED: \n",
      "##################################################\n",
      "Total Images:  334\n",
      "##################################################\n"
     ]
    },
    {
     "name": "stderr",
     "output_type": "stream",
     "text": [
      "\n",
      "Exporting Images:   0%|          | 0/334 [00:00<?, ?it/s]\u001b[A"
     ]
    },
    {
     "name": "stdout",
     "output_type": "stream",
     "text": [
      "Polling for task (id: GYJIWQ64JAHUA72SN2QXHNWG).\n",
      "Polling for task (id: GYJIWQ64JAHUA72SN2QXHNWG).\n",
      "Polling for task (id: GYJIWQ64JAHUA72SN2QXHNWG).\n"
     ]
    },
    {
     "name": "stderr",
     "output_type": "stream",
     "text": [
      "\n",
      "Exporting Images:   0%|          | 1/334 [00:18<1:41:40, 18.32s/it]\u001b[A"
     ]
    },
    {
     "name": "stdout",
     "output_type": "stream",
     "text": [
      "Task 1 completed with state COMPLETED: \n",
      "Polling for task (id: 5Q7C22EKCW5DPBTZQ5VFV7YR).\n",
      "Polling for task (id: 5Q7C22EKCW5DPBTZQ5VFV7YR).\n",
      "Polling for task (id: 5Q7C22EKCW5DPBTZQ5VFV7YR).\n"
     ]
    },
    {
     "name": "stderr",
     "output_type": "stream",
     "text": [
      "\n",
      "Exporting Images:   1%|          | 2/334 [00:36<1:41:42, 18.38s/it]\u001b[A"
     ]
    },
    {
     "name": "stdout",
     "output_type": "stream",
     "text": [
      "Task 2 completed with state COMPLETED: \n",
      "Polling for task (id: 5JZIMVHX3K2QJI5TAP7TF4AU).\n",
      "Polling for task (id: 5JZIMVHX3K2QJI5TAP7TF4AU).\n",
      "Polling for task (id: 5JZIMVHX3K2QJI5TAP7TF4AU).\n"
     ]
    },
    {
     "name": "stderr",
     "output_type": "stream",
     "text": [
      "\n",
      "Exporting Images:   1%|          | 3/334 [00:55<1:41:13, 18.35s/it]\u001b[A"
     ]
    },
    {
     "name": "stdout",
     "output_type": "stream",
     "text": [
      "Task 3 completed with state COMPLETED: \n",
      "Polling for task (id: CPLYAWXVEBMWQCKAJTLMBLEN).\n",
      "Polling for task (id: CPLYAWXVEBMWQCKAJTLMBLEN).\n",
      "Polling for task (id: CPLYAWXVEBMWQCKAJTLMBLEN).\n"
     ]
    },
    {
     "name": "stderr",
     "output_type": "stream",
     "text": [
      "\n",
      "Exporting Images:   1%|          | 4/334 [01:13<1:40:41, 18.31s/it]\u001b[A"
     ]
    },
    {
     "name": "stdout",
     "output_type": "stream",
     "text": [
      "Task 4 completed with state COMPLETED: \n",
      "Polling for task (id: J3TOOWHWDT5MXPL37PO4TFSM).\n",
      "Polling for task (id: J3TOOWHWDT5MXPL37PO4TFSM).\n",
      "Polling for task (id: J3TOOWHWDT5MXPL37PO4TFSM).\n"
     ]
    },
    {
     "name": "stderr",
     "output_type": "stream",
     "text": [
      "\n",
      "Exporting Images:   1%|▏         | 5/334 [01:31<1:40:15, 18.28s/it]\u001b[A"
     ]
    },
    {
     "name": "stdout",
     "output_type": "stream",
     "text": [
      "Task 5 completed with state COMPLETED: \n",
      "Polling for task (id: JA2JXI3LZUFJVSRGWBZUKLUY).\n",
      "Polling for task (id: JA2JXI3LZUFJVSRGWBZUKLUY).\n"
     ]
    },
    {
     "name": "stderr",
     "output_type": "stream",
     "text": [
      "\n",
      "Exporting Images:   2%|▏         | 6/334 [01:44<1:30:10, 16.50s/it]\u001b[A"
     ]
    },
    {
     "name": "stdout",
     "output_type": "stream",
     "text": [
      "Task 6 completed with state COMPLETED: \n",
      "Polling for task (id: WLPAYSOPPZ3NO46ERMOKEU6I).\n",
      "Polling for task (id: WLPAYSOPPZ3NO46ERMOKEU6I).\n",
      "Polling for task (id: WLPAYSOPPZ3NO46ERMOKEU6I).\n"
     ]
    },
    {
     "name": "stderr",
     "output_type": "stream",
     "text": [
      "\n",
      "Exporting Images:   2%|▏         | 7/334 [02:02<1:33:01, 17.07s/it]\u001b[A"
     ]
    },
    {
     "name": "stdout",
     "output_type": "stream",
     "text": [
      "Task 7 completed with state COMPLETED: \n",
      "Polling for task (id: ZN7EY4OSCPW556LTHMXIRS3C).\n",
      "Polling for task (id: ZN7EY4OSCPW556LTHMXIRS3C).\n",
      "Polling for task (id: ZN7EY4OSCPW556LTHMXIRS3C).\n"
     ]
    },
    {
     "name": "stderr",
     "output_type": "stream",
     "text": [
      "\n",
      "Exporting Images:   2%|▏         | 8/334 [02:20<1:34:37, 17.42s/it]\u001b[A"
     ]
    },
    {
     "name": "stdout",
     "output_type": "stream",
     "text": [
      "Task 8 completed with state COMPLETED: \n",
      "Polling for task (id: EASUCPTMBLB7PQWLPFE5ZR5L).\n",
      "Polling for task (id: EASUCPTMBLB7PQWLPFE5ZR5L).\n",
      "Polling for task (id: EASUCPTMBLB7PQWLPFE5ZR5L).\n"
     ]
    },
    {
     "name": "stderr",
     "output_type": "stream",
     "text": [
      "\n",
      "Exporting Images:   3%|▎         | 9/334 [02:39<1:35:44, 17.68s/it]\u001b[A"
     ]
    },
    {
     "name": "stdout",
     "output_type": "stream",
     "text": [
      "Task 9 completed with state COMPLETED: \n",
      "Polling for task (id: HHKKICIRHWDVSB3LBGDF4G7L).\n",
      "Polling for task (id: HHKKICIRHWDVSB3LBGDF4G7L).\n",
      "Polling for task (id: HHKKICIRHWDVSB3LBGDF4G7L).\n"
     ]
    },
    {
     "name": "stderr",
     "output_type": "stream",
     "text": [
      "\n",
      "Exporting Images:   3%|▎         | 10/334 [02:57<1:36:21, 17.84s/it]\u001b[A"
     ]
    },
    {
     "name": "stdout",
     "output_type": "stream",
     "text": [
      "Task 10 completed with state COMPLETED: \n",
      "Polling for task (id: ZURN52MI2XLRH2FUAXTHIJKG).\n",
      "Polling for task (id: ZURN52MI2XLRH2FUAXTHIJKG).\n",
      "Polling for task (id: ZURN52MI2XLRH2FUAXTHIJKG).\n"
     ]
    },
    {
     "name": "stderr",
     "output_type": "stream",
     "text": [
      "\n",
      "Exporting Images:   3%|▎         | 11/334 [03:16<1:37:47, 18.17s/it]\u001b[A"
     ]
    },
    {
     "name": "stdout",
     "output_type": "stream",
     "text": [
      "Task 11 completed with state COMPLETED: \n",
      "Polling for task (id: YNTTSVRQUSE7AN6UJKKE4TM6).\n",
      "Polling for task (id: YNTTSVRQUSE7AN6UJKKE4TM6).\n"
     ]
    },
    {
     "name": "stderr",
     "output_type": "stream",
     "text": [
      "\n",
      "Exporting Images:   4%|▎         | 12/334 [03:29<1:28:51, 16.56s/it]\u001b[A"
     ]
    },
    {
     "name": "stdout",
     "output_type": "stream",
     "text": [
      "Task 12 completed with state COMPLETED: \n",
      "Polling for task (id: 5KVEXTR3374Y2OVFVHFXJJBE).\n",
      "Polling for task (id: 5KVEXTR3374Y2OVFVHFXJJBE).\n",
      "Polling for task (id: 5KVEXTR3374Y2OVFVHFXJJBE).\n"
     ]
    },
    {
     "name": "stderr",
     "output_type": "stream",
     "text": [
      "\n",
      "Exporting Images:   4%|▍         | 13/334 [03:47<1:31:17, 17.06s/it]\u001b[A"
     ]
    },
    {
     "name": "stdout",
     "output_type": "stream",
     "text": [
      "Task 13 completed with state COMPLETED: \n",
      "Polling for task (id: OLWUUOAYWUAKKLRRECW2YKLI).\n",
      "Polling for task (id: OLWUUOAYWUAKKLRRECW2YKLI).\n",
      "Polling for task (id: OLWUUOAYWUAKKLRRECW2YKLI).\n"
     ]
    },
    {
     "name": "stderr",
     "output_type": "stream",
     "text": [
      "\n",
      "Exporting Images:   4%|▍         | 14/334 [04:05<1:32:58, 17.43s/it]\u001b[A"
     ]
    },
    {
     "name": "stdout",
     "output_type": "stream",
     "text": [
      "Task 14 completed with state COMPLETED: \n",
      "Polling for task (id: D4CPXWJ6NRPEUF4J2YWJFDQ5).\n",
      "Polling for task (id: D4CPXWJ6NRPEUF4J2YWJFDQ5).\n",
      "Polling for task (id: D4CPXWJ6NRPEUF4J2YWJFDQ5).\n"
     ]
    },
    {
     "name": "stderr",
     "output_type": "stream",
     "text": [
      "\n",
      "Exporting Images:   4%|▍         | 15/334 [04:24<1:34:02, 17.69s/it]\u001b[A"
     ]
    },
    {
     "name": "stdout",
     "output_type": "stream",
     "text": [
      "Task 15 completed with state COMPLETED: \n",
      "Polling for task (id: R3E3SWVJDJUGYVSLOQJAJKXK).\n",
      "Polling for task (id: R3E3SWVJDJUGYVSLOQJAJKXK).\n",
      "Polling for task (id: R3E3SWVJDJUGYVSLOQJAJKXK).\n"
     ]
    },
    {
     "name": "stderr",
     "output_type": "stream",
     "text": [
      "\n",
      "Exporting Images:   5%|▍         | 16/334 [04:42<1:34:53, 17.90s/it]\u001b[A"
     ]
    },
    {
     "name": "stdout",
     "output_type": "stream",
     "text": [
      "Task 16 completed with state COMPLETED: \n",
      "Polling for task (id: UHQ24APJ4RTCV3EVUEYWKWPR).\n",
      "Polling for task (id: UHQ24APJ4RTCV3EVUEYWKWPR).\n",
      "Polling for task (id: UHQ24APJ4RTCV3EVUEYWKWPR).\n"
     ]
    },
    {
     "name": "stderr",
     "output_type": "stream",
     "text": [
      "\n",
      "Exporting Images:   5%|▌         | 17/334 [05:00<1:35:06, 18.00s/it]\u001b[A"
     ]
    },
    {
     "name": "stdout",
     "output_type": "stream",
     "text": [
      "Task 17 completed with state COMPLETED: \n",
      "Polling for task (id: NYHXV24PNHP7PYPCS6L7IQKZ).\n",
      "Polling for task (id: NYHXV24PNHP7PYPCS6L7IQKZ).\n",
      "Polling for task (id: NYHXV24PNHP7PYPCS6L7IQKZ).\n"
     ]
    },
    {
     "name": "stderr",
     "output_type": "stream",
     "text": [
      "\n",
      "Exporting Images:   5%|▌         | 18/334 [05:19<1:35:27, 18.13s/it]\u001b[A"
     ]
    },
    {
     "name": "stdout",
     "output_type": "stream",
     "text": [
      "Task 18 completed with state COMPLETED: \n",
      "Polling for task (id: K5X47V5SQX2ZJMM7TIUFUVVX).\n",
      "Polling for task (id: K5X47V5SQX2ZJMM7TIUFUVVX).\n",
      "Polling for task (id: K5X47V5SQX2ZJMM7TIUFUVVX).\n"
     ]
    },
    {
     "name": "stderr",
     "output_type": "stream",
     "text": [
      "\n",
      "Exporting Images:   6%|▌         | 19/334 [05:37<1:35:12, 18.13s/it]\u001b[A"
     ]
    },
    {
     "name": "stdout",
     "output_type": "stream",
     "text": [
      "Task 19 completed with state COMPLETED: \n",
      "Polling for task (id: LUGFZ375PZMP3X5X5CCOHY5P).\n",
      "Polling for task (id: LUGFZ375PZMP3X5X5CCOHY5P).\n",
      "Polling for task (id: LUGFZ375PZMP3X5X5CCOHY5P).\n"
     ]
    },
    {
     "name": "stderr",
     "output_type": "stream",
     "text": [
      "\n",
      "Exporting Images:   6%|▌         | 20/334 [05:55<1:35:09, 18.18s/it]\u001b[A"
     ]
    },
    {
     "name": "stdout",
     "output_type": "stream",
     "text": [
      "Task 20 completed with state COMPLETED: \n",
      "Polling for task (id: SYABJJ5KXMVCMW6B2UFFIRYA).\n",
      "Polling for task (id: SYABJJ5KXMVCMW6B2UFFIRYA).\n",
      "Polling for task (id: SYABJJ5KXMVCMW6B2UFFIRYA).\n"
     ]
    },
    {
     "name": "stderr",
     "output_type": "stream",
     "text": [
      "\n",
      "Exporting Images:   6%|▋         | 21/334 [06:13<1:34:58, 18.21s/it]\u001b[A"
     ]
    },
    {
     "name": "stdout",
     "output_type": "stream",
     "text": [
      "Task 21 completed with state COMPLETED: \n",
      "Polling for task (id: NGSZPK22MSABJFLBO3EYEISM).\n",
      "Polling for task (id: NGSZPK22MSABJFLBO3EYEISM).\n",
      "Polling for task (id: NGSZPK22MSABJFLBO3EYEISM).\n"
     ]
    },
    {
     "name": "stderr",
     "output_type": "stream",
     "text": [
      "\n",
      "Exporting Images:   7%|▋         | 22/334 [06:32<1:34:58, 18.26s/it]\u001b[A"
     ]
    },
    {
     "name": "stdout",
     "output_type": "stream",
     "text": [
      "Task 22 completed with state COMPLETED: \n",
      "Polling for task (id: ZIGMYE3IGR3KAETU5KA5TFVH).\n",
      "Polling for task (id: ZIGMYE3IGR3KAETU5KA5TFVH).\n",
      "Polling for task (id: ZIGMYE3IGR3KAETU5KA5TFVH).\n"
     ]
    },
    {
     "name": "stderr",
     "output_type": "stream",
     "text": [
      "\n",
      "Exporting Images:   7%|▋         | 23/334 [06:50<1:34:22, 18.21s/it]\u001b[A"
     ]
    },
    {
     "name": "stdout",
     "output_type": "stream",
     "text": [
      "Task 23 completed with state COMPLETED: \n",
      "Polling for task (id: 6LOLQI5ML3VJJOAT32QZ3IYC).\n",
      "Polling for task (id: 6LOLQI5ML3VJJOAT32QZ3IYC).\n",
      "Polling for task (id: 6LOLQI5ML3VJJOAT32QZ3IYC).\n"
     ]
    },
    {
     "name": "stderr",
     "output_type": "stream",
     "text": [
      "\n",
      "Exporting Images:   7%|▋         | 24/334 [07:08<1:34:15, 18.24s/it]\u001b[A"
     ]
    },
    {
     "name": "stdout",
     "output_type": "stream",
     "text": [
      "Task 24 completed with state COMPLETED: \n",
      "Polling for task (id: NYPND5IAASC6LTSZ3FI2ZFFS).\n",
      "Polling for task (id: NYPND5IAASC6LTSZ3FI2ZFFS).\n",
      "Polling for task (id: NYPND5IAASC6LTSZ3FI2ZFFS).\n"
     ]
    },
    {
     "name": "stderr",
     "output_type": "stream",
     "text": [
      "\n",
      "Exporting Images:   7%|▋         | 25/334 [07:26<1:33:55, 18.24s/it]\u001b[A"
     ]
    },
    {
     "name": "stdout",
     "output_type": "stream",
     "text": [
      "Task 25 completed with state COMPLETED: \n",
      "Polling for task (id: P74I5T44BYRC4TJA3H66OWTJ).\n",
      "Polling for task (id: P74I5T44BYRC4TJA3H66OWTJ).\n",
      "Polling for task (id: P74I5T44BYRC4TJA3H66OWTJ).\n"
     ]
    },
    {
     "name": "stderr",
     "output_type": "stream",
     "text": [
      "\n",
      "Exporting Images:   8%|▊         | 26/334 [07:45<1:33:38, 18.24s/it]\u001b[A"
     ]
    },
    {
     "name": "stdout",
     "output_type": "stream",
     "text": [
      "Task 26 completed with state COMPLETED: \n",
      "Polling for task (id: VPKV4YKFCEQAXFZSASNL36CB).\n",
      "Polling for task (id: VPKV4YKFCEQAXFZSASNL36CB).\n",
      "Polling for task (id: VPKV4YKFCEQAXFZSASNL36CB).\n",
      "Polling for task (id: VPKV4YKFCEQAXFZSASNL36CB).\n"
     ]
    },
    {
     "name": "stderr",
     "output_type": "stream",
     "text": [
      "\n",
      "Exporting Images:   8%|▊         | 27/334 [08:08<1:41:39, 19.87s/it]\u001b[A"
     ]
    },
    {
     "name": "stdout",
     "output_type": "stream",
     "text": [
      "Task 27 completed with state COMPLETED: \n",
      "Polling for task (id: XEBGCT2L2VSMGK4UGSDEOA5P).\n",
      "Polling for task (id: XEBGCT2L2VSMGK4UGSDEOA5P).\n",
      "Polling for task (id: XEBGCT2L2VSMGK4UGSDEOA5P).\n"
     ]
    },
    {
     "name": "stderr",
     "output_type": "stream",
     "text": [
      "\n",
      "Exporting Images:   8%|▊         | 28/334 [08:26<1:38:43, 19.36s/it]\u001b[A"
     ]
    },
    {
     "name": "stdout",
     "output_type": "stream",
     "text": [
      "Task 28 completed with state COMPLETED: \n",
      "Polling for task (id: QRCMUMRZO656HEUFII227Q3I).\n",
      "Polling for task (id: QRCMUMRZO656HEUFII227Q3I).\n",
      "Polling for task (id: QRCMUMRZO656HEUFII227Q3I).\n"
     ]
    },
    {
     "name": "stderr",
     "output_type": "stream",
     "text": [
      "\n",
      "Exporting Images:   9%|▊         | 29/334 [08:44<1:36:29, 18.98s/it]\u001b[A"
     ]
    },
    {
     "name": "stdout",
     "output_type": "stream",
     "text": [
      "Task 29 completed with state COMPLETED: \n",
      "Polling for task (id: WUM4YCDG24RCRZO3OJTN6HP7).\n",
      "Polling for task (id: WUM4YCDG24RCRZO3OJTN6HP7).\n",
      "Polling for task (id: WUM4YCDG24RCRZO3OJTN6HP7).\n"
     ]
    },
    {
     "name": "stderr",
     "output_type": "stream",
     "text": [
      "\n",
      "Exporting Images:   9%|▉         | 30/334 [09:03<1:34:52, 18.73s/it]\u001b[A"
     ]
    },
    {
     "name": "stdout",
     "output_type": "stream",
     "text": [
      "Task 30 completed with state COMPLETED: \n",
      "Polling for task (id: QHPRCB6WAMSX5HSLRNKIXLSQ).\n",
      "Polling for task (id: QHPRCB6WAMSX5HSLRNKIXLSQ).\n",
      "Polling for task (id: QHPRCB6WAMSX5HSLRNKIXLSQ).\n"
     ]
    },
    {
     "name": "stderr",
     "output_type": "stream",
     "text": [
      "\n",
      "Exporting Images:   9%|▉         | 31/334 [09:21<1:33:52, 18.59s/it]\u001b[A"
     ]
    },
    {
     "name": "stdout",
     "output_type": "stream",
     "text": [
      "Task 31 completed with state COMPLETED: \n",
      "Polling for task (id: TZT2CWOJGR5TR4ZXYGOCLH33).\n",
      "Polling for task (id: TZT2CWOJGR5TR4ZXYGOCLH33).\n",
      "Polling for task (id: TZT2CWOJGR5TR4ZXYGOCLH33).\n"
     ]
    },
    {
     "name": "stderr",
     "output_type": "stream",
     "text": [
      "\n",
      "Exporting Images:  10%|▉         | 32/334 [09:39<1:33:10, 18.51s/it]\u001b[A"
     ]
    },
    {
     "name": "stdout",
     "output_type": "stream",
     "text": [
      "Task 32 completed with state COMPLETED: \n",
      "Polling for task (id: LLODISJFMIWGWSYBGND5WRQH).\n",
      "Polling for task (id: LLODISJFMIWGWSYBGND5WRQH).\n",
      "Polling for task (id: LLODISJFMIWGWSYBGND5WRQH).\n"
     ]
    },
    {
     "name": "stderr",
     "output_type": "stream",
     "text": [
      "\n",
      "Exporting Images:  10%|▉         | 33/334 [09:57<1:32:30, 18.44s/it]\u001b[A"
     ]
    },
    {
     "name": "stdout",
     "output_type": "stream",
     "text": [
      "Task 33 completed with state COMPLETED: \n",
      "Polling for task (id: 55UWSEW4MNHQ5EB62LD4FTIH).\n",
      "Polling for task (id: 55UWSEW4MNHQ5EB62LD4FTIH).\n",
      "Polling for task (id: 55UWSEW4MNHQ5EB62LD4FTIH).\n"
     ]
    },
    {
     "name": "stderr",
     "output_type": "stream",
     "text": [
      "\n",
      "Exporting Images:  10%|█         | 34/334 [10:16<1:31:55, 18.38s/it]\u001b[A"
     ]
    },
    {
     "name": "stdout",
     "output_type": "stream",
     "text": [
      "Task 34 completed with state COMPLETED: \n",
      "Polling for task (id: KFW2KYVCXGJXYWCSQEWXIUSU).\n",
      "Polling for task (id: KFW2KYVCXGJXYWCSQEWXIUSU).\n",
      "Polling for task (id: KFW2KYVCXGJXYWCSQEWXIUSU).\n"
     ]
    },
    {
     "name": "stderr",
     "output_type": "stream",
     "text": [
      "\n",
      "Exporting Images:  10%|█         | 35/334 [10:34<1:31:11, 18.30s/it]\u001b[A"
     ]
    },
    {
     "name": "stdout",
     "output_type": "stream",
     "text": [
      "Task 35 completed with state COMPLETED: \n",
      "Polling for task (id: 4DTB4D2IVEQGF4HXVFA4HPLU).\n",
      "Polling for task (id: 4DTB4D2IVEQGF4HXVFA4HPLU).\n",
      "Polling for task (id: 4DTB4D2IVEQGF4HXVFA4HPLU).\n"
     ]
    },
    {
     "name": "stderr",
     "output_type": "stream",
     "text": [
      "\n",
      "Exporting Images:  11%|█         | 36/334 [10:53<1:32:45, 18.67s/it]\u001b[A"
     ]
    },
    {
     "name": "stdout",
     "output_type": "stream",
     "text": [
      "Task 36 completed with state COMPLETED: \n",
      "Polling for task (id: T4BXYSNTL6SLJOOK3M4UYIMR).\n",
      "Polling for task (id: T4BXYSNTL6SLJOOK3M4UYIMR).\n",
      "Polling for task (id: T4BXYSNTL6SLJOOK3M4UYIMR).\n"
     ]
    },
    {
     "name": "stderr",
     "output_type": "stream",
     "text": [
      "\n",
      "Exporting Images:  11%|█         | 37/334 [11:12<1:32:34, 18.70s/it]\u001b[A"
     ]
    },
    {
     "name": "stdout",
     "output_type": "stream",
     "text": [
      "Task 37 completed with state COMPLETED: \n",
      "Polling for task (id: 4WGFIQSS247OMGR4EF6MJGO4).\n",
      "Polling for task (id: 4WGFIQSS247OMGR4EF6MJGO4).\n",
      "Polling for task (id: 4WGFIQSS247OMGR4EF6MJGO4).\n"
     ]
    },
    {
     "name": "stderr",
     "output_type": "stream",
     "text": [
      "\n",
      "Exporting Images:  11%|█▏        | 38/334 [11:31<1:32:22, 18.72s/it]\u001b[A"
     ]
    },
    {
     "name": "stdout",
     "output_type": "stream",
     "text": [
      "Task 38 completed with state COMPLETED: \n",
      "Polling for task (id: 4LEHD5X3IWUHKMF5BXQ6CZV2).\n",
      "Polling for task (id: 4LEHD5X3IWUHKMF5BXQ6CZV2).\n",
      "Polling for task (id: 4LEHD5X3IWUHKMF5BXQ6CZV2).\n"
     ]
    },
    {
     "name": "stderr",
     "output_type": "stream",
     "text": [
      "\n",
      "Exporting Images:  12%|█▏        | 39/334 [11:50<1:32:16, 18.77s/it]\u001b[A"
     ]
    },
    {
     "name": "stdout",
     "output_type": "stream",
     "text": [
      "Task 39 completed with state COMPLETED: \n",
      "Polling for task (id: QMZ5544X3IKPCBQWJEL5RS7D).\n",
      "Polling for task (id: QMZ5544X3IKPCBQWJEL5RS7D).\n",
      "Polling for task (id: QMZ5544X3IKPCBQWJEL5RS7D).\n"
     ]
    },
    {
     "name": "stderr",
     "output_type": "stream",
     "text": [
      "\n",
      "Exporting Images:  12%|█▏        | 40/334 [12:08<1:31:11, 18.61s/it]\u001b[A"
     ]
    },
    {
     "name": "stdout",
     "output_type": "stream",
     "text": [
      "Task 40 completed with state COMPLETED: \n",
      "Polling for task (id: 6OUSFPUHN7C6ODLDJEJCT2WB).\n",
      "Polling for task (id: 6OUSFPUHN7C6ODLDJEJCT2WB).\n",
      "Polling for task (id: 6OUSFPUHN7C6ODLDJEJCT2WB).\n"
     ]
    },
    {
     "name": "stderr",
     "output_type": "stream",
     "text": [
      "\n",
      "Exporting Images:  12%|█▏        | 41/334 [12:27<1:31:13, 18.68s/it]\u001b[A"
     ]
    },
    {
     "name": "stdout",
     "output_type": "stream",
     "text": [
      "Task 41 completed with state COMPLETED: \n",
      "Polling for task (id: CCKJRTOSG5HII2CHD5U6NKUV).\n",
      "Polling for task (id: CCKJRTOSG5HII2CHD5U6NKUV).\n",
      "Polling for task (id: CCKJRTOSG5HII2CHD5U6NKUV).\n"
     ]
    },
    {
     "name": "stderr",
     "output_type": "stream",
     "text": [
      "\n",
      "Exporting Images:  13%|█▎        | 42/334 [12:45<1:30:47, 18.66s/it]\u001b[A"
     ]
    },
    {
     "name": "stdout",
     "output_type": "stream",
     "text": [
      "Task 42 completed with state COMPLETED: \n",
      "Polling for task (id: YMN7RPU2IRPR2QXRQJ46QP3A).\n",
      "Polling for task (id: YMN7RPU2IRPR2QXRQJ46QP3A).\n",
      "Polling for task (id: YMN7RPU2IRPR2QXRQJ46QP3A).\n"
     ]
    },
    {
     "name": "stderr",
     "output_type": "stream",
     "text": [
      "\n",
      "Exporting Images:  13%|█▎        | 43/334 [13:04<1:30:23, 18.64s/it]\u001b[A"
     ]
    },
    {
     "name": "stdout",
     "output_type": "stream",
     "text": [
      "Task 43 completed with state COMPLETED: \n",
      "Polling for task (id: CSMVFWYNLQDUE36D2DSHLPIK).\n",
      "Polling for task (id: CSMVFWYNLQDUE36D2DSHLPIK).\n",
      "Polling for task (id: CSMVFWYNLQDUE36D2DSHLPIK).\n"
     ]
    },
    {
     "name": "stderr",
     "output_type": "stream",
     "text": [
      "\n",
      "Exporting Images:  13%|█▎        | 44/334 [13:23<1:29:58, 18.62s/it]\u001b[A"
     ]
    },
    {
     "name": "stdout",
     "output_type": "stream",
     "text": [
      "Task 44 completed with state COMPLETED: \n",
      "Polling for task (id: NPKKZB3TKHDCC4UIV5EVRSJ5).\n",
      "Polling for task (id: NPKKZB3TKHDCC4UIV5EVRSJ5).\n",
      "Polling for task (id: NPKKZB3TKHDCC4UIV5EVRSJ5).\n"
     ]
    },
    {
     "name": "stderr",
     "output_type": "stream",
     "text": [
      "\n",
      "Exporting Images:  13%|█▎        | 45/334 [13:41<1:29:32, 18.59s/it]\u001b[A"
     ]
    },
    {
     "name": "stdout",
     "output_type": "stream",
     "text": [
      "Task 45 completed with state COMPLETED: \n",
      "Polling for task (id: IAVVNLIMXC4F6TXM4XFHIGQW).\n",
      "Polling for task (id: IAVVNLIMXC4F6TXM4XFHIGQW).\n",
      "Polling for task (id: IAVVNLIMXC4F6TXM4XFHIGQW).\n"
     ]
    },
    {
     "name": "stderr",
     "output_type": "stream",
     "text": [
      "\n",
      "Exporting Images:  14%|█▍        | 46/334 [14:00<1:28:57, 18.53s/it]\u001b[A"
     ]
    },
    {
     "name": "stdout",
     "output_type": "stream",
     "text": [
      "Task 46 completed with state COMPLETED: \n",
      "Polling for task (id: LKFYNUNYYGOXWMI2HX6HSEEB).\n",
      "Polling for task (id: LKFYNUNYYGOXWMI2HX6HSEEB).\n",
      "Polling for task (id: LKFYNUNYYGOXWMI2HX6HSEEB).\n"
     ]
    },
    {
     "name": "stderr",
     "output_type": "stream",
     "text": [
      "\n",
      "Exporting Images:  14%|█▍        | 47/334 [14:18<1:28:08, 18.43s/it]\u001b[A"
     ]
    },
    {
     "name": "stdout",
     "output_type": "stream",
     "text": [
      "Task 47 completed with state COMPLETED: \n",
      "Polling for task (id: B5CUWNSOSQBSSTUEVJ3LDS2Z).\n",
      "Polling for task (id: B5CUWNSOSQBSSTUEVJ3LDS2Z).\n",
      "Polling for task (id: B5CUWNSOSQBSSTUEVJ3LDS2Z).\n"
     ]
    },
    {
     "name": "stderr",
     "output_type": "stream",
     "text": [
      "\n",
      "Exporting Images:  14%|█▍        | 48/334 [14:36<1:27:38, 18.39s/it]\u001b[A"
     ]
    },
    {
     "name": "stdout",
     "output_type": "stream",
     "text": [
      "Task 48 completed with state COMPLETED: \n",
      "Polling for task (id: MKMUMR6EIDETYNH2MKYDJG3A).\n",
      "Polling for task (id: MKMUMR6EIDETYNH2MKYDJG3A).\n",
      "Polling for task (id: MKMUMR6EIDETYNH2MKYDJG3A).\n"
     ]
    },
    {
     "name": "stderr",
     "output_type": "stream",
     "text": [
      "\n",
      "Exporting Images:  15%|█▍        | 49/334 [14:54<1:27:22, 18.39s/it]\u001b[A"
     ]
    },
    {
     "name": "stdout",
     "output_type": "stream",
     "text": [
      "Task 49 completed with state COMPLETED: \n",
      "Polling for task (id: BOL3IZCHHL3RTOCQXSNORTJC).\n",
      "Polling for task (id: BOL3IZCHHL3RTOCQXSNORTJC).\n",
      "Polling for task (id: BOL3IZCHHL3RTOCQXSNORTJC).\n"
     ]
    },
    {
     "name": "stderr",
     "output_type": "stream",
     "text": [
      "\n",
      "Exporting Images:  15%|█▍        | 50/334 [15:13<1:27:05, 18.40s/it]\u001b[A"
     ]
    },
    {
     "name": "stdout",
     "output_type": "stream",
     "text": [
      "Task 50 completed with state COMPLETED: \n",
      "Polling for task (id: WUXA6ZDPAYW46PKT7IZJS5IW).\n",
      "Polling for task (id: WUXA6ZDPAYW46PKT7IZJS5IW).\n",
      "Polling for task (id: WUXA6ZDPAYW46PKT7IZJS5IW).\n",
      "Polling for task (id: WUXA6ZDPAYW46PKT7IZJS5IW).\n"
     ]
    },
    {
     "name": "stderr",
     "output_type": "stream",
     "text": [
      "\n",
      "Exporting Images:  15%|█▌        | 51/334 [15:37<1:35:00, 20.14s/it]\u001b[A"
     ]
    },
    {
     "name": "stdout",
     "output_type": "stream",
     "text": [
      "Task 51 completed with state COMPLETED: \n",
      "Polling for task (id: M7HOGF7CLVPIL7WYLAVRLAI2).\n",
      "Polling for task (id: M7HOGF7CLVPIL7WYLAVRLAI2).\n",
      "Polling for task (id: M7HOGF7CLVPIL7WYLAVRLAI2).\n"
     ]
    },
    {
     "name": "stderr",
     "output_type": "stream",
     "text": [
      "\n",
      "Exporting Images:  16%|█▌        | 52/334 [15:56<1:32:28, 19.68s/it]\u001b[A"
     ]
    },
    {
     "name": "stdout",
     "output_type": "stream",
     "text": [
      "Task 52 completed with state COMPLETED: \n",
      "Polling for task (id: 63QGJWGBBB4FG44UZV5QU3TB).\n",
      "Polling for task (id: 63QGJWGBBB4FG44UZV5QU3TB).\n",
      "Polling for task (id: 63QGJWGBBB4FG44UZV5QU3TB).\n"
     ]
    },
    {
     "name": "stderr",
     "output_type": "stream",
     "text": [
      "\n",
      "Exporting Images:  16%|█▌        | 53/334 [16:14<1:29:55, 19.20s/it]\u001b[A"
     ]
    },
    {
     "name": "stdout",
     "output_type": "stream",
     "text": [
      "Task 53 completed with state COMPLETED: \n",
      "Polling for task (id: ZW46X7BQ7BMU65WU3H33YQE7).\n",
      "Polling for task (id: ZW46X7BQ7BMU65WU3H33YQE7).\n",
      "Polling for task (id: ZW46X7BQ7BMU65WU3H33YQE7).\n"
     ]
    },
    {
     "name": "stderr",
     "output_type": "stream",
     "text": [
      "\n",
      "Exporting Images:  16%|█▌        | 54/334 [16:58<2:04:26, 26.67s/it]\u001b[A"
     ]
    },
    {
     "name": "stdout",
     "output_type": "stream",
     "text": [
      "Task 54 completed with state COMPLETED: \n",
      "Polling for task (id: 34TFOTZ2YL7E4EPY7MNABGMK).\n",
      "Polling for task (id: 34TFOTZ2YL7E4EPY7MNABGMK).\n",
      "Polling for task (id: 34TFOTZ2YL7E4EPY7MNABGMK).\n"
     ]
    },
    {
     "name": "stderr",
     "output_type": "stream",
     "text": [
      "\n",
      "Exporting Images:  16%|█▋        | 55/334 [17:16<1:52:35, 24.21s/it]\u001b[A"
     ]
    },
    {
     "name": "stdout",
     "output_type": "stream",
     "text": [
      "Task 55 completed with state COMPLETED: \n",
      "Polling for task (id: AW4S57CMEGBLDN3GXW7IQ5FH).\n",
      "Polling for task (id: AW4S57CMEGBLDN3GXW7IQ5FH).\n",
      "Polling for task (id: AW4S57CMEGBLDN3GXW7IQ5FH).\n"
     ]
    },
    {
     "name": "stderr",
     "output_type": "stream",
     "text": [
      "\n",
      "Exporting Images:  17%|█▋        | 56/334 [17:35<1:44:00, 22.45s/it]\u001b[A"
     ]
    },
    {
     "name": "stdout",
     "output_type": "stream",
     "text": [
      "Task 56 completed with state COMPLETED: \n",
      "Polling for task (id: T35VW6YGLYMV5LFQ2P6VF5VA).\n",
      "Polling for task (id: T35VW6YGLYMV5LFQ2P6VF5VA).\n",
      "Polling for task (id: T35VW6YGLYMV5LFQ2P6VF5VA).\n",
      "Polling for task (id: T35VW6YGLYMV5LFQ2P6VF5VA).\n"
     ]
    },
    {
     "name": "stderr",
     "output_type": "stream",
     "text": [
      "\n",
      "Exporting Images:  17%|█▋        | 57/334 [17:59<1:45:52, 22.93s/it]\u001b[A"
     ]
    },
    {
     "name": "stdout",
     "output_type": "stream",
     "text": [
      "Task 57 completed with state COMPLETED: \n",
      "Polling for task (id: QWDCQCZSSTSHPPJNQXJ2XIVS).\n",
      "Polling for task (id: QWDCQCZSSTSHPPJNQXJ2XIVS).\n",
      "Polling for task (id: QWDCQCZSSTSHPPJNQXJ2XIVS).\n"
     ]
    },
    {
     "name": "stderr",
     "output_type": "stream",
     "text": [
      "\n",
      "Exporting Images:  17%|█▋        | 58/334 [18:17<1:39:12, 21.57s/it]\u001b[A"
     ]
    },
    {
     "name": "stdout",
     "output_type": "stream",
     "text": [
      "Task 58 completed with state COMPLETED: \n",
      "Polling for task (id: OIVBSVTCGAEP7VNHJ5TO7ITA).\n",
      "Polling for task (id: OIVBSVTCGAEP7VNHJ5TO7ITA).\n",
      "Polling for task (id: OIVBSVTCGAEP7VNHJ5TO7ITA).\n"
     ]
    },
    {
     "name": "stderr",
     "output_type": "stream",
     "text": [
      "\n",
      "Exporting Images:  18%|█▊        | 59/334 [18:36<1:34:52, 20.70s/it]\u001b[A"
     ]
    },
    {
     "name": "stdout",
     "output_type": "stream",
     "text": [
      "Task 59 completed with state COMPLETED: \n",
      "Polling for task (id: 6VMISSPEZQPUHPLF2C3ZNSRQ).\n",
      "Polling for task (id: 6VMISSPEZQPUHPLF2C3ZNSRQ).\n",
      "Polling for task (id: 6VMISSPEZQPUHPLF2C3ZNSRQ).\n"
     ]
    },
    {
     "name": "stderr",
     "output_type": "stream",
     "text": [
      "\n",
      "Exporting Images:  18%|█▊        | 60/334 [18:54<1:31:18, 20.00s/it]\u001b[A"
     ]
    },
    {
     "name": "stdout",
     "output_type": "stream",
     "text": [
      "Task 60 completed with state COMPLETED: \n",
      "Polling for task (id: Y3BRYN3LK4HKPPAKA6J6CITI).\n",
      "Polling for task (id: Y3BRYN3LK4HKPPAKA6J6CITI).\n",
      "Polling for task (id: Y3BRYN3LK4HKPPAKA6J6CITI).\n"
     ]
    },
    {
     "name": "stderr",
     "output_type": "stream",
     "text": [
      "\n",
      "Exporting Images:  18%|█▊        | 61/334 [19:13<1:29:04, 19.58s/it]\u001b[A"
     ]
    },
    {
     "name": "stdout",
     "output_type": "stream",
     "text": [
      "Task 61 completed with state COMPLETED: \n",
      "Polling for task (id: XFR67OXFHTYR3QOI6V7TXKYV).\n",
      "Polling for task (id: XFR67OXFHTYR3QOI6V7TXKYV).\n",
      "Polling for task (id: XFR67OXFHTYR3QOI6V7TXKYV).\n"
     ]
    },
    {
     "name": "stderr",
     "output_type": "stream",
     "text": [
      "\n",
      "Exporting Images:  19%|█▊        | 62/334 [19:31<1:27:17, 19.25s/it]\u001b[A"
     ]
    },
    {
     "name": "stdout",
     "output_type": "stream",
     "text": [
      "Task 62 completed with state COMPLETED: \n",
      "Polling for task (id: XJAPDCHYL2SXYFCRB576WLM6).\n",
      "Polling for task (id: XJAPDCHYL2SXYFCRB576WLM6).\n",
      "Polling for task (id: XJAPDCHYL2SXYFCRB576WLM6).\n"
     ]
    },
    {
     "name": "stderr",
     "output_type": "stream",
     "text": [
      "\n",
      "Exporting Images:  19%|█▉        | 63/334 [19:50<1:26:02, 19.05s/it]\u001b[A"
     ]
    },
    {
     "name": "stdout",
     "output_type": "stream",
     "text": [
      "Task 63 completed with state COMPLETED: \n",
      "Polling for task (id: KWJPRXUN7P3VPIH23GCZKFCJ).\n",
      "Polling for task (id: KWJPRXUN7P3VPIH23GCZKFCJ).\n",
      "Polling for task (id: KWJPRXUN7P3VPIH23GCZKFCJ).\n"
     ]
    },
    {
     "name": "stderr",
     "output_type": "stream",
     "text": [
      "\n",
      "Exporting Images:  19%|█▉        | 64/334 [20:08<1:24:51, 18.86s/it]\u001b[A"
     ]
    },
    {
     "name": "stdout",
     "output_type": "stream",
     "text": [
      "Task 64 completed with state COMPLETED: \n",
      "Polling for task (id: F6IFGWVLOPP4X4G26VQTY6QL).\n",
      "Polling for task (id: F6IFGWVLOPP4X4G26VQTY6QL).\n",
      "Polling for task (id: F6IFGWVLOPP4X4G26VQTY6QL).\n"
     ]
    },
    {
     "name": "stderr",
     "output_type": "stream",
     "text": [
      "\n",
      "Exporting Images:  19%|█▉        | 65/334 [20:27<1:23:48, 18.70s/it]\u001b[A"
     ]
    },
    {
     "name": "stdout",
     "output_type": "stream",
     "text": [
      "Task 65 completed with state COMPLETED: \n",
      "Polling for task (id: A4QF4EMXLGHBSX5HZMYORFXS).\n",
      "Polling for task (id: A4QF4EMXLGHBSX5HZMYORFXS).\n",
      "Polling for task (id: A4QF4EMXLGHBSX5HZMYORFXS).\n"
     ]
    },
    {
     "name": "stderr",
     "output_type": "stream",
     "text": [
      "\n",
      "Exporting Images:  20%|█▉        | 66/334 [20:45<1:23:23, 18.67s/it]\u001b[A"
     ]
    },
    {
     "name": "stdout",
     "output_type": "stream",
     "text": [
      "Task 66 completed with state COMPLETED: \n",
      "Polling for task (id: WAUZCMHKHE7PFZUVJ6SD5I4T).\n",
      "Polling for task (id: WAUZCMHKHE7PFZUVJ6SD5I4T).\n",
      "Polling for task (id: WAUZCMHKHE7PFZUVJ6SD5I4T).\n"
     ]
    },
    {
     "name": "stderr",
     "output_type": "stream",
     "text": [
      "\n",
      "Exporting Images:  20%|██        | 67/334 [21:04<1:23:03, 18.66s/it]\u001b[A"
     ]
    },
    {
     "name": "stdout",
     "output_type": "stream",
     "text": [
      "Task 67 completed with state COMPLETED: \n",
      "Polling for task (id: X2QXT3TKZRVRZVEUIRRJINLG).\n",
      "Polling for task (id: X2QXT3TKZRVRZVEUIRRJINLG).\n",
      "Polling for task (id: X2QXT3TKZRVRZVEUIRRJINLG).\n"
     ]
    },
    {
     "name": "stderr",
     "output_type": "stream",
     "text": [
      "\n",
      "Exporting Images:  20%|██        | 68/334 [21:22<1:22:19, 18.57s/it]\u001b[A"
     ]
    },
    {
     "name": "stdout",
     "output_type": "stream",
     "text": [
      "Task 68 completed with state COMPLETED: \n",
      "Polling for task (id: QY3AZGKP4WUILLNMJGGZDRLR).\n",
      "Polling for task (id: QY3AZGKP4WUILLNMJGGZDRLR).\n",
      "Polling for task (id: QY3AZGKP4WUILLNMJGGZDRLR).\n"
     ]
    },
    {
     "name": "stderr",
     "output_type": "stream",
     "text": [
      "\n",
      "Exporting Images:  21%|██        | 69/334 [21:41<1:22:32, 18.69s/it]\u001b[A"
     ]
    },
    {
     "name": "stdout",
     "output_type": "stream",
     "text": [
      "Task 69 completed with state COMPLETED: \n",
      "Polling for task (id: YB247WCKKVVABZH7JFIAPBVG).\n",
      "Polling for task (id: YB247WCKKVVABZH7JFIAPBVG).\n",
      "Polling for task (id: YB247WCKKVVABZH7JFIAPBVG).\n"
     ]
    },
    {
     "name": "stderr",
     "output_type": "stream",
     "text": [
      "\n",
      "Exporting Images:  21%|██        | 70/334 [22:00<1:21:51, 18.60s/it]\u001b[A"
     ]
    },
    {
     "name": "stdout",
     "output_type": "stream",
     "text": [
      "Task 70 completed with state COMPLETED: \n",
      "Polling for task (id: GGD6LGJAWABRSTA46SED5Q4A).\n",
      "Polling for task (id: GGD6LGJAWABRSTA46SED5Q4A).\n",
      "Polling for task (id: GGD6LGJAWABRSTA46SED5Q4A).\n",
      "Polling for task (id: GGD6LGJAWABRSTA46SED5Q4A).\n"
     ]
    },
    {
     "name": "stderr",
     "output_type": "stream",
     "text": [
      "\n",
      "Exporting Images:  21%|██▏       | 71/334 [22:23<1:28:34, 20.21s/it]\u001b[A"
     ]
    },
    {
     "name": "stdout",
     "output_type": "stream",
     "text": [
      "Task 71 completed with state COMPLETED: \n",
      "Polling for task (id: UP4C3EKXAW4MMYD2XEUXRGZ5).\n",
      "Polling for task (id: UP4C3EKXAW4MMYD2XEUXRGZ5).\n",
      "Polling for task (id: UP4C3EKXAW4MMYD2XEUXRGZ5).\n"
     ]
    },
    {
     "name": "stderr",
     "output_type": "stream",
     "text": [
      "\n",
      "Exporting Images:  22%|██▏       | 72/334 [22:42<1:25:43, 19.63s/it]\u001b[A"
     ]
    },
    {
     "name": "stdout",
     "output_type": "stream",
     "text": [
      "Task 72 completed with state COMPLETED: \n",
      "Polling for task (id: SEVZLLLGZNTYUABQ4N5IWMP5).\n",
      "Polling for task (id: SEVZLLLGZNTYUABQ4N5IWMP5).\n",
      "Polling for task (id: SEVZLLLGZNTYUABQ4N5IWMP5).\n"
     ]
    },
    {
     "name": "stderr",
     "output_type": "stream",
     "text": [
      "\n",
      "Exporting Images:  22%|██▏       | 73/334 [23:00<1:23:51, 19.28s/it]\u001b[A"
     ]
    },
    {
     "name": "stdout",
     "output_type": "stream",
     "text": [
      "Task 73 completed with state COMPLETED: \n",
      "Polling for task (id: LARY3WNDEFBM7CTUSZY5NOUG).\n",
      "Polling for task (id: LARY3WNDEFBM7CTUSZY5NOUG).\n",
      "Polling for task (id: LARY3WNDEFBM7CTUSZY5NOUG).\n"
     ]
    },
    {
     "name": "stderr",
     "output_type": "stream",
     "text": [
      "\n",
      "Exporting Images:  22%|██▏       | 74/334 [23:19<1:22:23, 19.02s/it]\u001b[A"
     ]
    },
    {
     "name": "stdout",
     "output_type": "stream",
     "text": [
      "Task 74 completed with state COMPLETED: \n",
      "Polling for task (id: DTXMGW2VOQHIZZPKWVIQRNPL).\n",
      "Polling for task (id: DTXMGW2VOQHIZZPKWVIQRNPL).\n",
      "Polling for task (id: DTXMGW2VOQHIZZPKWVIQRNPL).\n"
     ]
    },
    {
     "name": "stderr",
     "output_type": "stream",
     "text": [
      "\n",
      "Exporting Images:  22%|██▏       | 75/334 [23:37<1:21:35, 18.90s/it]\u001b[A"
     ]
    },
    {
     "name": "stdout",
     "output_type": "stream",
     "text": [
      "Task 75 completed with state COMPLETED: \n",
      "Polling for task (id: XT4PL7YJWIEF52V5TMACKQ3C).\n",
      "Polling for task (id: XT4PL7YJWIEF52V5TMACKQ3C).\n",
      "Polling for task (id: XT4PL7YJWIEF52V5TMACKQ3C).\n",
      "Polling for task (id: XT4PL7YJWIEF52V5TMACKQ3C).\n"
     ]
    },
    {
     "name": "stderr",
     "output_type": "stream",
     "text": [
      "\n",
      "Exporting Images:  23%|██▎       | 76/334 [24:01<1:27:12, 20.28s/it]\u001b[A"
     ]
    },
    {
     "name": "stdout",
     "output_type": "stream",
     "text": [
      "Task 76 completed with state COMPLETED: \n",
      "Polling for task (id: JOH3SHGMJTQB6FLD4DMEEDWB).\n",
      "Polling for task (id: JOH3SHGMJTQB6FLD4DMEEDWB).\n",
      "Polling for task (id: JOH3SHGMJTQB6FLD4DMEEDWB).\n"
     ]
    },
    {
     "name": "stderr",
     "output_type": "stream",
     "text": [
      "\n",
      "Exporting Images:  23%|██▎       | 77/334 [24:19<1:24:24, 19.71s/it]\u001b[A"
     ]
    },
    {
     "name": "stdout",
     "output_type": "stream",
     "text": [
      "Task 77 completed with state COMPLETED: \n",
      "Polling for task (id: CYKMIWBXJHYSBQPTSWKTI7V2).\n",
      "Polling for task (id: CYKMIWBXJHYSBQPTSWKTI7V2).\n",
      "Polling for task (id: CYKMIWBXJHYSBQPTSWKTI7V2).\n",
      "Polling for task (id: CYKMIWBXJHYSBQPTSWKTI7V2).\n"
     ]
    },
    {
     "name": "stderr",
     "output_type": "stream",
     "text": [
      "\n",
      "Exporting Images:  23%|██▎       | 78/334 [24:43<1:29:09, 20.90s/it]\u001b[A"
     ]
    },
    {
     "name": "stdout",
     "output_type": "stream",
     "text": [
      "Task 78 completed with state COMPLETED: \n",
      "Polling for task (id: 453UQTKOY7ISW3NKDPAC5NTW).\n",
      "Polling for task (id: 453UQTKOY7ISW3NKDPAC5NTW).\n",
      "Polling for task (id: 453UQTKOY7ISW3NKDPAC5NTW).\n"
     ]
    },
    {
     "name": "stderr",
     "output_type": "stream",
     "text": [
      "\n",
      "Exporting Images:  24%|██▎       | 79/334 [25:01<1:25:37, 20.15s/it]\u001b[A"
     ]
    },
    {
     "name": "stdout",
     "output_type": "stream",
     "text": [
      "Task 79 completed with state COMPLETED: \n",
      "Polling for task (id: RKEDOE627V6KNATTOXQPBZVL).\n",
      "Polling for task (id: RKEDOE627V6KNATTOXQPBZVL).\n",
      "Polling for task (id: RKEDOE627V6KNATTOXQPBZVL).\n",
      "Polling for task (id: RKEDOE627V6KNATTOXQPBZVL).\n"
     ]
    },
    {
     "name": "stderr",
     "output_type": "stream",
     "text": [
      "\n",
      "Exporting Images:  24%|██▍       | 80/334 [25:25<1:29:47, 21.21s/it]\u001b[A"
     ]
    },
    {
     "name": "stdout",
     "output_type": "stream",
     "text": [
      "Task 80 completed with state COMPLETED: \n",
      "Polling for task (id: JI3D3WVBCGGIQJ5BAD2VQTFC).\n",
      "Polling for task (id: JI3D3WVBCGGIQJ5BAD2VQTFC).\n",
      "Polling for task (id: JI3D3WVBCGGIQJ5BAD2VQTFC).\n",
      "Polling for task (id: JI3D3WVBCGGIQJ5BAD2VQTFC).\n",
      "Polling for task (id: JI3D3WVBCGGIQJ5BAD2VQTFC).\n",
      "Polling for task (id: JI3D3WVBCGGIQJ5BAD2VQTFC).\n",
      "Polling for task (id: JI3D3WVBCGGIQJ5BAD2VQTFC).\n",
      "Polling for task (id: JI3D3WVBCGGIQJ5BAD2VQTFC).\n",
      "Polling for task (id: JI3D3WVBCGGIQJ5BAD2VQTFC).\n",
      "Polling for task (id: JI3D3WVBCGGIQJ5BAD2VQTFC).\n"
     ]
    },
    {
     "name": "stderr",
     "output_type": "stream",
     "text": [
      "\n",
      "Exporting Images:  24%|██▍       | 81/334 [26:21<2:13:07, 31.57s/it]\u001b[A"
     ]
    },
    {
     "name": "stdout",
     "output_type": "stream",
     "text": [
      "Task 81 completed with state COMPLETED: \n",
      "Polling for task (id: 5DB7VH6BTHFZULUG7J7EBPDC).\n",
      "Polling for task (id: 5DB7VH6BTHFZULUG7J7EBPDC).\n",
      "Polling for task (id: 5DB7VH6BTHFZULUG7J7EBPDC).\n"
     ]
    },
    {
     "name": "stderr",
     "output_type": "stream",
     "text": [
      "\n",
      "Exporting Images:  25%|██▍       | 82/334 [26:39<1:55:53, 27.59s/it]\u001b[A"
     ]
    },
    {
     "name": "stdout",
     "output_type": "stream",
     "text": [
      "Task 82 completed with state COMPLETED: \n",
      "Polling for task (id: ICXFYEOCCNTHHH4GKBN77A5C).\n",
      "Polling for task (id: ICXFYEOCCNTHHH4GKBN77A5C).\n",
      "Polling for task (id: ICXFYEOCCNTHHH4GKBN77A5C).\n"
     ]
    },
    {
     "name": "stderr",
     "output_type": "stream",
     "text": [
      "\n",
      "Exporting Images:  25%|██▍       | 83/334 [26:57<1:43:37, 24.77s/it]\u001b[A"
     ]
    },
    {
     "name": "stdout",
     "output_type": "stream",
     "text": [
      "Task 83 completed with state COMPLETED: \n",
      "Polling for task (id: SMJJF7VLP54UPXZB7UIGGRET).\n"
     ]
    },
    {
     "name": "stderr",
     "output_type": "stream",
     "text": [
      "\n",
      "Exporting Images:  25%|██▌       | 84/334 [27:42<2:08:38, 30.87s/it]\u001b[A"
     ]
    },
    {
     "name": "stdout",
     "output_type": "stream",
     "text": [
      "Task 84 completed with state COMPLETED: \n",
      "Polling for task (id: O4VT3MCEYXFOE2TATVN2GJ7S).\n",
      "Polling for task (id: O4VT3MCEYXFOE2TATVN2GJ7S).\n",
      "Polling for task (id: O4VT3MCEYXFOE2TATVN2GJ7S).\n",
      "Polling for task (id: O4VT3MCEYXFOE2TATVN2GJ7S).\n"
     ]
    },
    {
     "name": "stderr",
     "output_type": "stream",
     "text": [
      "\n",
      "Exporting Images:  25%|██▌       | 85/334 [28:06<1:59:52, 28.88s/it]\u001b[A"
     ]
    },
    {
     "name": "stdout",
     "output_type": "stream",
     "text": [
      "Task 85 completed with state COMPLETED: \n",
      "Polling for task (id: 4435XL5IFG7GSYPXYL4K6X2J).\n",
      "Polling for task (id: 4435XL5IFG7GSYPXYL4K6X2J).\n",
      "Polling for task (id: 4435XL5IFG7GSYPXYL4K6X2J).\n"
     ]
    },
    {
     "name": "stderr",
     "output_type": "stream",
     "text": [
      "\n",
      "Exporting Images:  26%|██▌       | 86/334 [28:25<1:46:08, 25.68s/it]\u001b[A"
     ]
    },
    {
     "name": "stdout",
     "output_type": "stream",
     "text": [
      "Task 86 completed with state COMPLETED: \n",
      "Polling for task (id: 22PTEQUD3M3O5VZIFHQ2VWZ3).\n",
      "Polling for task (id: 22PTEQUD3M3O5VZIFHQ2VWZ3).\n",
      "Polling for task (id: 22PTEQUD3M3O5VZIFHQ2VWZ3).\n"
     ]
    },
    {
     "name": "stderr",
     "output_type": "stream",
     "text": [
      "\n",
      "Exporting Images:  26%|██▌       | 87/334 [28:43<1:36:39, 23.48s/it]\u001b[A"
     ]
    },
    {
     "name": "stdout",
     "output_type": "stream",
     "text": [
      "Task 87 completed with state COMPLETED: \n",
      "Polling for task (id: YUMFBZNMVPF4TSPH5CZEN2GW).\n",
      "Polling for task (id: YUMFBZNMVPF4TSPH5CZEN2GW).\n",
      "Polling for task (id: YUMFBZNMVPF4TSPH5CZEN2GW).\n"
     ]
    },
    {
     "name": "stderr",
     "output_type": "stream",
     "text": [
      "\n",
      "Exporting Images:  26%|██▋       | 88/334 [29:01<1:30:00, 21.95s/it]\u001b[A"
     ]
    },
    {
     "name": "stdout",
     "output_type": "stream",
     "text": [
      "Task 88 completed with state COMPLETED: \n",
      "Polling for task (id: Y7JUUGLTCSE57JFZYGY2L6YN).\n",
      "Polling for task (id: Y7JUUGLTCSE57JFZYGY2L6YN).\n",
      "Polling for task (id: Y7JUUGLTCSE57JFZYGY2L6YN).\n"
     ]
    },
    {
     "name": "stderr",
     "output_type": "stream",
     "text": [
      "\n",
      "Exporting Images:  27%|██▋       | 89/334 [29:20<1:25:26, 20.92s/it]\u001b[A"
     ]
    },
    {
     "name": "stdout",
     "output_type": "stream",
     "text": [
      "Task 89 completed with state COMPLETED: \n",
      "Polling for task (id: 53P37NSN2BSA3WKU6YF5GQ2F).\n",
      "Polling for task (id: 53P37NSN2BSA3WKU6YF5GQ2F).\n",
      "Polling for task (id: 53P37NSN2BSA3WKU6YF5GQ2F).\n"
     ]
    },
    {
     "name": "stderr",
     "output_type": "stream",
     "text": [
      "\n",
      "Exporting Images:  27%|██▋       | 90/334 [29:39<1:22:18, 20.24s/it]\u001b[A"
     ]
    },
    {
     "name": "stdout",
     "output_type": "stream",
     "text": [
      "Task 90 completed with state COMPLETED: \n",
      "Polling for task (id: A6MX5ZLSJOAF526EICSLB6SK).\n",
      "Polling for task (id: A6MX5ZLSJOAF526EICSLB6SK).\n",
      "Polling for task (id: A6MX5ZLSJOAF526EICSLB6SK).\n"
     ]
    },
    {
     "name": "stderr",
     "output_type": "stream",
     "text": [
      "\n",
      "Exporting Images:  27%|██▋       | 91/334 [29:57<1:19:35, 19.65s/it]\u001b[A"
     ]
    },
    {
     "name": "stdout",
     "output_type": "stream",
     "text": [
      "Task 91 completed with state COMPLETED: \n",
      "Polling for task (id: X2UPXZ6DA5O4PCZM2I7BMZO5).\n",
      "Polling for task (id: X2UPXZ6DA5O4PCZM2I7BMZO5).\n",
      "Polling for task (id: X2UPXZ6DA5O4PCZM2I7BMZO5).\n"
     ]
    },
    {
     "name": "stderr",
     "output_type": "stream",
     "text": [
      "\n",
      "Exporting Images:  28%|██▊       | 92/334 [30:15<1:17:55, 19.32s/it]\u001b[A"
     ]
    },
    {
     "name": "stdout",
     "output_type": "stream",
     "text": [
      "Task 92 completed with state COMPLETED: \n",
      "Polling for task (id: 6AYKFVTKDWJCFZAKWYRMQKRV).\n",
      "Polling for task (id: 6AYKFVTKDWJCFZAKWYRMQKRV).\n",
      "Polling for task (id: 6AYKFVTKDWJCFZAKWYRMQKRV).\n",
      "Polling for task (id: 6AYKFVTKDWJCFZAKWYRMQKRV).\n"
     ]
    },
    {
     "name": "stderr",
     "output_type": "stream",
     "text": [
      "\n",
      "Exporting Images:  28%|██▊       | 93/334 [30:39<1:22:58, 20.66s/it]\u001b[A"
     ]
    },
    {
     "name": "stdout",
     "output_type": "stream",
     "text": [
      "Task 93 completed with state COMPLETED: \n",
      "Polling for task (id: 2OL33K6KE55RM6OMVP34ENRJ).\n",
      "Polling for task (id: 2OL33K6KE55RM6OMVP34ENRJ).\n",
      "Polling for task (id: 2OL33K6KE55RM6OMVP34ENRJ).\n"
     ]
    },
    {
     "name": "stderr",
     "output_type": "stream",
     "text": [
      "\n",
      "Exporting Images:  28%|██▊       | 94/334 [30:58<1:19:54, 19.98s/it]\u001b[A"
     ]
    },
    {
     "name": "stdout",
     "output_type": "stream",
     "text": [
      "Task 94 completed with state COMPLETED: \n",
      "Polling for task (id: Y42ZYW4JQWYKHGRBNIYXZPLN).\n",
      "Polling for task (id: Y42ZYW4JQWYKHGRBNIYXZPLN).\n",
      "Polling for task (id: Y42ZYW4JQWYKHGRBNIYXZPLN).\n",
      "Polling for task (id: Y42ZYW4JQWYKHGRBNIYXZPLN).\n"
     ]
    },
    {
     "name": "stderr",
     "output_type": "stream",
     "text": [
      "\n",
      "Exporting Images:  28%|██▊       | 95/334 [31:22<1:24:20, 21.18s/it]\u001b[A"
     ]
    },
    {
     "name": "stdout",
     "output_type": "stream",
     "text": [
      "Task 95 completed with state COMPLETED: \n",
      "Polling for task (id: EIESKYA2TNNHPRFJL7C2AU3I).\n",
      "Polling for task (id: EIESKYA2TNNHPRFJL7C2AU3I).\n",
      "Polling for task (id: EIESKYA2TNNHPRFJL7C2AU3I).\n"
     ]
    },
    {
     "name": "stderr",
     "output_type": "stream",
     "text": [
      "\n",
      "Exporting Images:  29%|██▊       | 96/334 [31:40<1:20:50, 20.38s/it]\u001b[A"
     ]
    },
    {
     "name": "stdout",
     "output_type": "stream",
     "text": [
      "Task 96 completed with state COMPLETED: \n",
      "Polling for task (id: IYWIF4XOLC3EC32AAG3TWAJP).\n",
      "Polling for task (id: IYWIF4XOLC3EC32AAG3TWAJP).\n",
      "Polling for task (id: IYWIF4XOLC3EC32AAG3TWAJP).\n"
     ]
    },
    {
     "name": "stderr",
     "output_type": "stream",
     "text": [
      "\n",
      "Exporting Images:  29%|██▉       | 97/334 [31:59<1:18:22, 19.84s/it]\u001b[A"
     ]
    },
    {
     "name": "stdout",
     "output_type": "stream",
     "text": [
      "Task 97 completed with state COMPLETED: \n",
      "Polling for task (id: R3A74SRAYGJC7QNBA65IYYVH).\n",
      "Polling for task (id: R3A74SRAYGJC7QNBA65IYYVH).\n",
      "Polling for task (id: R3A74SRAYGJC7QNBA65IYYVH).\n",
      "Polling for task (id: R3A74SRAYGJC7QNBA65IYYVH).\n",
      "Polling for task (id: R3A74SRAYGJC7QNBA65IYYVH).\n",
      "Polling for task (id: R3A74SRAYGJC7QNBA65IYYVH).\n",
      "Polling for task (id: R3A74SRAYGJC7QNBA65IYYVH).\n",
      "Polling for task (id: R3A74SRAYGJC7QNBA65IYYVH).\n"
     ]
    },
    {
     "name": "stderr",
     "output_type": "stream",
     "text": [
      "\n",
      "Exporting Images:  29%|██▉       | 98/334 [32:44<1:47:50, 27.42s/it]\u001b[A"
     ]
    },
    {
     "name": "stdout",
     "output_type": "stream",
     "text": [
      "Task 98 completed with state COMPLETED: \n",
      "Polling for task (id: ROCQZSQNVQJXRXZ4Q6ALH4VA).\n",
      "Polling for task (id: ROCQZSQNVQJXRXZ4Q6ALH4VA).\n",
      "Polling for task (id: ROCQZSQNVQJXRXZ4Q6ALH4VA).\n"
     ]
    },
    {
     "name": "stderr",
     "output_type": "stream",
     "text": [
      "\n",
      "Exporting Images:  30%|██▉       | 99/334 [33:02<1:36:52, 24.73s/it]\u001b[A"
     ]
    },
    {
     "name": "stdout",
     "output_type": "stream",
     "text": [
      "Task 99 completed with state COMPLETED: \n",
      "Polling for task (id: GTDTIG66FXHR7AXSLILJRV7M).\n",
      "Polling for task (id: GTDTIG66FXHR7AXSLILJRV7M).\n",
      "Polling for task (id: GTDTIG66FXHR7AXSLILJRV7M).\n",
      "Polling for task (id: GTDTIG66FXHR7AXSLILJRV7M).\n"
     ]
    },
    {
     "name": "stderr",
     "output_type": "stream",
     "text": [
      "\n",
      "Exporting Images:  30%|██▉       | 100/334 [33:26<1:35:41, 24.54s/it]\u001b[A"
     ]
    },
    {
     "name": "stdout",
     "output_type": "stream",
     "text": [
      "Task 100 completed with state COMPLETED: \n",
      "Polling for task (id: GPXGETSG3FAVKMON74LV24FM).\n",
      "Polling for task (id: GPXGETSG3FAVKMON74LV24FM).\n",
      "Polling for task (id: GPXGETSG3FAVKMON74LV24FM).\n"
     ]
    },
    {
     "name": "stderr",
     "output_type": "stream",
     "text": [
      "\n",
      "Exporting Images:  30%|███       | 101/334 [33:45<1:28:07, 22.69s/it]\u001b[A"
     ]
    },
    {
     "name": "stdout",
     "output_type": "stream",
     "text": [
      "Task 101 completed with state COMPLETED: \n",
      "Polling for task (id: 2BLF62OWBOOZM27EBPTHUDCB).\n",
      "Polling for task (id: 2BLF62OWBOOZM27EBPTHUDCB).\n",
      "Polling for task (id: 2BLF62OWBOOZM27EBPTHUDCB).\n"
     ]
    },
    {
     "name": "stderr",
     "output_type": "stream",
     "text": [
      "\n",
      "Exporting Images:  31%|███       | 102/334 [34:03<1:22:46, 21.41s/it]\u001b[A"
     ]
    },
    {
     "name": "stdout",
     "output_type": "stream",
     "text": [
      "Task 102 completed with state COMPLETED: \n",
      "Polling for task (id: UKFG3QA52RL4R5MZYULFXYSZ).\n",
      "Polling for task (id: UKFG3QA52RL4R5MZYULFXYSZ).\n",
      "Polling for task (id: UKFG3QA52RL4R5MZYULFXYSZ).\n",
      "Polling for task (id: UKFG3QA52RL4R5MZYULFXYSZ).\n"
     ]
    },
    {
     "name": "stderr",
     "output_type": "stream",
     "text": [
      "\n",
      "Exporting Images:  31%|███       | 103/334 [34:27<1:25:09, 22.12s/it]\u001b[A"
     ]
    },
    {
     "name": "stdout",
     "output_type": "stream",
     "text": [
      "Task 103 completed with state COMPLETED: \n",
      "Polling for task (id: FMCZ6UZ2T3MWS2QSNA6EMEO2).\n",
      "Polling for task (id: FMCZ6UZ2T3MWS2QSNA6EMEO2).\n",
      "Polling for task (id: FMCZ6UZ2T3MWS2QSNA6EMEO2).\n"
     ]
    },
    {
     "name": "stderr",
     "output_type": "stream",
     "text": [
      "\n",
      "Exporting Images:  31%|███       | 104/334 [34:45<1:20:10, 20.92s/it]\u001b[A"
     ]
    },
    {
     "name": "stdout",
     "output_type": "stream",
     "text": [
      "Task 104 completed with state COMPLETED: \n",
      "Polling for task (id: 7B6PJWS3F7DYYEM43VR4FCZF).\n",
      "Polling for task (id: 7B6PJWS3F7DYYEM43VR4FCZF).\n",
      "Polling for task (id: 7B6PJWS3F7DYYEM43VR4FCZF).\n"
     ]
    },
    {
     "name": "stderr",
     "output_type": "stream",
     "text": [
      "\n",
      "Exporting Images:  31%|███▏      | 105/334 [35:03<1:16:44, 20.11s/it]\u001b[A"
     ]
    },
    {
     "name": "stdout",
     "output_type": "stream",
     "text": [
      "Task 105 completed with state COMPLETED: \n",
      "Polling for task (id: ZQ6LIYKZFCR66DV23GRJHPCT).\n",
      "Polling for task (id: ZQ6LIYKZFCR66DV23GRJHPCT).\n",
      "Polling for task (id: ZQ6LIYKZFCR66DV23GRJHPCT).\n",
      "Polling for task (id: ZQ6LIYKZFCR66DV23GRJHPCT).\n",
      "Polling for task (id: ZQ6LIYKZFCR66DV23GRJHPCT).\n",
      "Polling for task (id: ZQ6LIYKZFCR66DV23GRJHPCT).\n",
      "Polling for task (id: ZQ6LIYKZFCR66DV23GRJHPCT).\n",
      "Polling for task (id: ZQ6LIYKZFCR66DV23GRJHPCT).\n",
      "Polling for task (id: ZQ6LIYKZFCR66DV23GRJHPCT).\n",
      "Polling for task (id: ZQ6LIYKZFCR66DV23GRJHPCT).\n",
      "Polling for task (id: ZQ6LIYKZFCR66DV23GRJHPCT).\n",
      "Polling for task (id: ZQ6LIYKZFCR66DV23GRJHPCT).\n"
     ]
    },
    {
     "name": "stderr",
     "output_type": "stream",
     "text": [
      "\n",
      "Exporting Images:  32%|███▏      | 106/334 [36:10<2:09:26, 34.06s/it]\u001b[A"
     ]
    },
    {
     "name": "stdout",
     "output_type": "stream",
     "text": [
      "Task 106 completed with state COMPLETED: \n",
      "Polling for task (id: GFBOKETWBDCK2D6ETOSVJV42).\n",
      "Polling for task (id: GFBOKETWBDCK2D6ETOSVJV42).\n",
      "Polling for task (id: GFBOKETWBDCK2D6ETOSVJV42).\n"
     ]
    },
    {
     "name": "stderr",
     "output_type": "stream",
     "text": [
      "\n",
      "Exporting Images:  32%|███▏      | 107/334 [36:28<1:50:59, 29.34s/it]\u001b[A"
     ]
    },
    {
     "name": "stdout",
     "output_type": "stream",
     "text": [
      "Task 107 completed with state COMPLETED: \n",
      "Polling for task (id: UZCKMQAIT5G67Z2I23VY2MYI).\n",
      "Polling for task (id: UZCKMQAIT5G67Z2I23VY2MYI).\n",
      "Polling for task (id: UZCKMQAIT5G67Z2I23VY2MYI).\n"
     ]
    },
    {
     "name": "stderr",
     "output_type": "stream",
     "text": [
      "\n",
      "Exporting Images:  32%|███▏      | 108/334 [36:46<1:38:02, 26.03s/it]\u001b[A"
     ]
    },
    {
     "name": "stdout",
     "output_type": "stream",
     "text": [
      "Task 108 completed with state COMPLETED: \n",
      "Polling for task (id: LMODNY7SLVX5K5RCW4YEY7CQ).\n",
      "Polling for task (id: LMODNY7SLVX5K5RCW4YEY7CQ).\n",
      "Polling for task (id: LMODNY7SLVX5K5RCW4YEY7CQ).\n",
      "Polling for task (id: LMODNY7SLVX5K5RCW4YEY7CQ).\n"
     ]
    },
    {
     "name": "stderr",
     "output_type": "stream",
     "text": [
      "\n",
      "Exporting Images:  33%|███▎      | 109/334 [37:10<1:34:53, 25.30s/it]\u001b[A"
     ]
    },
    {
     "name": "stdout",
     "output_type": "stream",
     "text": [
      "Task 109 completed with state COMPLETED: \n",
      "Polling for task (id: XADXGCFODO6LOPTHFQA6QOC2).\n",
      "Polling for task (id: XADXGCFODO6LOPTHFQA6QOC2).\n",
      "Polling for task (id: XADXGCFODO6LOPTHFQA6QOC2).\n"
     ]
    },
    {
     "name": "stderr",
     "output_type": "stream",
     "text": [
      "\n",
      "Exporting Images:  33%|███▎      | 110/334 [37:28<1:26:38, 23.21s/it]\u001b[A"
     ]
    },
    {
     "name": "stdout",
     "output_type": "stream",
     "text": [
      "Task 110 completed with state COMPLETED: \n",
      "Polling for task (id: J2UNRSZQGSFVCEAVLAWFR4YT).\n",
      "Polling for task (id: J2UNRSZQGSFVCEAVLAWFR4YT).\n",
      "Polling for task (id: J2UNRSZQGSFVCEAVLAWFR4YT).\n",
      "Polling for task (id: J2UNRSZQGSFVCEAVLAWFR4YT).\n"
     ]
    },
    {
     "name": "stderr",
     "output_type": "stream",
     "text": [
      "\n",
      "Exporting Images:  33%|███▎      | 111/334 [37:52<1:26:41, 23.33s/it]\u001b[A"
     ]
    },
    {
     "name": "stdout",
     "output_type": "stream",
     "text": [
      "Task 111 completed with state COMPLETED: \n",
      "Polling for task (id: YA5LWAVM2NOOPCP4YXVJQN5W).\n",
      "Polling for task (id: YA5LWAVM2NOOPCP4YXVJQN5W).\n",
      "Polling for task (id: YA5LWAVM2NOOPCP4YXVJQN5W).\n",
      "Polling for task (id: YA5LWAVM2NOOPCP4YXVJQN5W).\n",
      "Polling for task (id: YA5LWAVM2NOOPCP4YXVJQN5W).\n"
     ]
    },
    {
     "name": "stderr",
     "output_type": "stream",
     "text": [
      "\n",
      "Exporting Images:  34%|███▎      | 112/334 [38:21<1:32:43, 25.06s/it]\u001b[A"
     ]
    },
    {
     "name": "stdout",
     "output_type": "stream",
     "text": [
      "Task 112 completed with state COMPLETED: \n",
      "Polling for task (id: M7AWMGL5SYDFRF22NJYBHVP7).\n",
      "Polling for task (id: M7AWMGL5SYDFRF22NJYBHVP7).\n",
      "Polling for task (id: M7AWMGL5SYDFRF22NJYBHVP7).\n"
     ]
    },
    {
     "name": "stderr",
     "output_type": "stream",
     "text": [
      "\n",
      "Exporting Images:  34%|███▍      | 113/334 [38:39<1:24:54, 23.05s/it]\u001b[A"
     ]
    },
    {
     "name": "stdout",
     "output_type": "stream",
     "text": [
      "Task 113 completed with state COMPLETED: \n",
      "Polling for task (id: PHCJAQ55VHISO6LJ7SOA5X5O).\n",
      "Polling for task (id: PHCJAQ55VHISO6LJ7SOA5X5O).\n",
      "Polling for task (id: PHCJAQ55VHISO6LJ7SOA5X5O).\n"
     ]
    },
    {
     "name": "stderr",
     "output_type": "stream",
     "text": [
      "\n",
      "Exporting Images:  34%|███▍      | 114/334 [38:58<1:19:11, 21.60s/it]\u001b[A"
     ]
    },
    {
     "name": "stdout",
     "output_type": "stream",
     "text": [
      "Task 114 completed with state COMPLETED: \n",
      "Polling for task (id: 6ORPP3XCR5XOKAVS5ZOSBSPJ).\n",
      "Polling for task (id: 6ORPP3XCR5XOKAVS5ZOSBSPJ).\n",
      "Polling for task (id: 6ORPP3XCR5XOKAVS5ZOSBSPJ).\n"
     ]
    },
    {
     "name": "stderr",
     "output_type": "stream",
     "text": [
      "\n",
      "Exporting Images:  34%|███▍      | 115/334 [39:16<1:15:19, 20.64s/it]\u001b[A"
     ]
    },
    {
     "name": "stdout",
     "output_type": "stream",
     "text": [
      "Task 115 completed with state COMPLETED: \n",
      "Polling for task (id: 3O7F2F6UY6ZYVXR4DBZ7JZQ4).\n",
      "Polling for task (id: 3O7F2F6UY6ZYVXR4DBZ7JZQ4).\n",
      "Polling for task (id: 3O7F2F6UY6ZYVXR4DBZ7JZQ4).\n"
     ]
    },
    {
     "name": "stderr",
     "output_type": "stream",
     "text": [
      "\n",
      "Exporting Images:  35%|███▍      | 116/334 [39:34<1:12:16, 19.89s/it]\u001b[A"
     ]
    },
    {
     "name": "stdout",
     "output_type": "stream",
     "text": [
      "Task 116 completed with state COMPLETED: \n",
      "Polling for task (id: 5BCWIFFYSPON4PZUZDSOVBYN).\n",
      "Polling for task (id: 5BCWIFFYSPON4PZUZDSOVBYN).\n",
      "Polling for task (id: 5BCWIFFYSPON4PZUZDSOVBYN).\n"
     ]
    },
    {
     "name": "stderr",
     "output_type": "stream",
     "text": [
      "\n",
      "Exporting Images:  35%|███▌      | 117/334 [39:52<1:10:08, 19.39s/it]\u001b[A"
     ]
    },
    {
     "name": "stdout",
     "output_type": "stream",
     "text": [
      "Task 117 completed with state COMPLETED: \n",
      "Polling for task (id: 5ORRF2HQUZYXQEBFDW5DGGMQ).\n",
      "Polling for task (id: 5ORRF2HQUZYXQEBFDW5DGGMQ).\n",
      "Polling for task (id: 5ORRF2HQUZYXQEBFDW5DGGMQ).\n"
     ]
    },
    {
     "name": "stderr",
     "output_type": "stream",
     "text": [
      "\n",
      "Exporting Images:  35%|███▌      | 118/334 [40:11<1:08:33, 19.05s/it]\u001b[A"
     ]
    },
    {
     "name": "stdout",
     "output_type": "stream",
     "text": [
      "Task 118 completed with state COMPLETED: \n",
      "Polling for task (id: GHMBCXNW5NCK3CZLQQK7VSZN).\n",
      "Polling for task (id: GHMBCXNW5NCK3CZLQQK7VSZN).\n",
      "Polling for task (id: GHMBCXNW5NCK3CZLQQK7VSZN).\n",
      "Polling for task (id: GHMBCXNW5NCK3CZLQQK7VSZN).\n"
     ]
    },
    {
     "name": "stderr",
     "output_type": "stream",
     "text": [
      "\n",
      "Exporting Images:  36%|███▌      | 119/334 [40:34<1:13:04, 20.39s/it]\u001b[A"
     ]
    },
    {
     "name": "stdout",
     "output_type": "stream",
     "text": [
      "Task 119 completed with state COMPLETED: \n",
      "Polling for task (id: RE6MWPTPMNL4LSJYFN2ULRPX).\n",
      "Polling for task (id: RE6MWPTPMNL4LSJYFN2ULRPX).\n",
      "Polling for task (id: RE6MWPTPMNL4LSJYFN2ULRPX).\n"
     ]
    },
    {
     "name": "stderr",
     "output_type": "stream",
     "text": [
      "\n",
      "Exporting Images:  36%|███▌      | 120/334 [40:53<1:10:30, 19.77s/it]\u001b[A"
     ]
    },
    {
     "name": "stdout",
     "output_type": "stream",
     "text": [
      "Task 120 completed with state COMPLETED: \n",
      "Polling for task (id: 6HGZI6DP3UL6NJ2UAZ6XFJ4D).\n",
      "Polling for task (id: 6HGZI6DP3UL6NJ2UAZ6XFJ4D).\n",
      "Polling for task (id: 6HGZI6DP3UL6NJ2UAZ6XFJ4D).\n"
     ]
    },
    {
     "name": "stderr",
     "output_type": "stream",
     "text": [
      "\n",
      "Exporting Images:  36%|███▌      | 121/334 [41:11<1:08:39, 19.34s/it]\u001b[A"
     ]
    },
    {
     "name": "stdout",
     "output_type": "stream",
     "text": [
      "Task 121 completed with state COMPLETED: \n",
      "Polling for task (id: YE7WPE44KIGQC3CI3UN4IAQP).\n",
      "Polling for task (id: YE7WPE44KIGQC3CI3UN4IAQP).\n",
      "Polling for task (id: YE7WPE44KIGQC3CI3UN4IAQP).\n"
     ]
    },
    {
     "name": "stderr",
     "output_type": "stream",
     "text": [
      "\n",
      "Exporting Images:  37%|███▋      | 122/334 [41:29<1:07:14, 19.03s/it]\u001b[A"
     ]
    },
    {
     "name": "stdout",
     "output_type": "stream",
     "text": [
      "Task 122 completed with state COMPLETED: \n",
      "Polling for task (id: QGWARGEKVLEWXTPVGCQBTMOJ).\n",
      "Polling for task (id: QGWARGEKVLEWXTPVGCQBTMOJ).\n",
      "Polling for task (id: QGWARGEKVLEWXTPVGCQBTMOJ).\n",
      "Polling for task (id: QGWARGEKVLEWXTPVGCQBTMOJ).\n"
     ]
    },
    {
     "name": "stderr",
     "output_type": "stream",
     "text": [
      "\n",
      "Exporting Images:  37%|███▋      | 123/334 [41:53<1:12:15, 20.55s/it]\u001b[A"
     ]
    },
    {
     "name": "stdout",
     "output_type": "stream",
     "text": [
      "Task 123 completed with state COMPLETED: \n",
      "Polling for task (id: O4BP4CCAYM2QEOXN5GXCQXWZ).\n",
      "Polling for task (id: O4BP4CCAYM2QEOXN5GXCQXWZ).\n",
      "Polling for task (id: O4BP4CCAYM2QEOXN5GXCQXWZ).\n"
     ]
    },
    {
     "name": "stderr",
     "output_type": "stream",
     "text": [
      "\n",
      "Exporting Images:  37%|███▋      | 124/334 [42:12<1:09:40, 19.91s/it]\u001b[A"
     ]
    },
    {
     "name": "stdout",
     "output_type": "stream",
     "text": [
      "Task 124 completed with state COMPLETED: \n",
      "Polling for task (id: MZC3V5NKW4T7L3QHZYPDLED2).\n",
      "Polling for task (id: MZC3V5NKW4T7L3QHZYPDLED2).\n",
      "Polling for task (id: MZC3V5NKW4T7L3QHZYPDLED2).\n",
      "Polling for task (id: MZC3V5NKW4T7L3QHZYPDLED2).\n"
     ]
    },
    {
     "name": "stderr",
     "output_type": "stream",
     "text": [
      "\n",
      "Exporting Images:  37%|███▋      | 125/334 [42:35<1:13:15, 21.03s/it]\u001b[A"
     ]
    },
    {
     "name": "stdout",
     "output_type": "stream",
     "text": [
      "Task 125 completed with state COMPLETED: \n",
      "Polling for task (id: 7OX7BF6CXVM73PK5YUVJQFG7).\n",
      "Polling for task (id: 7OX7BF6CXVM73PK5YUVJQFG7).\n",
      "Polling for task (id: 7OX7BF6CXVM73PK5YUVJQFG7).\n"
     ]
    },
    {
     "name": "stderr",
     "output_type": "stream",
     "text": [
      "\n",
      "Exporting Images:  38%|███▊      | 126/334 [42:53<1:09:49, 20.14s/it]\u001b[A"
     ]
    },
    {
     "name": "stdout",
     "output_type": "stream",
     "text": [
      "Task 126 completed with state COMPLETED: \n",
      "Polling for task (id: ZDRLU7MBYICUA4HO3NQCENUE).\n",
      "Polling for task (id: ZDRLU7MBYICUA4HO3NQCENUE).\n",
      "Polling for task (id: ZDRLU7MBYICUA4HO3NQCENUE).\n"
     ]
    },
    {
     "name": "stderr",
     "output_type": "stream",
     "text": [
      "\n",
      "Exporting Images:  38%|███▊      | 127/334 [43:12<1:07:27, 19.55s/it]\u001b[A"
     ]
    },
    {
     "name": "stdout",
     "output_type": "stream",
     "text": [
      "Task 127 completed with state COMPLETED: \n",
      "Polling for task (id: BVVDXFE47KRX4NITCW7VTNHQ).\n",
      "Polling for task (id: BVVDXFE47KRX4NITCW7VTNHQ).\n",
      "Polling for task (id: BVVDXFE47KRX4NITCW7VTNHQ).\n"
     ]
    },
    {
     "name": "stderr",
     "output_type": "stream",
     "text": [
      "\n",
      "Exporting Images:  38%|███▊      | 128/334 [43:30<1:05:37, 19.11s/it]\u001b[A"
     ]
    },
    {
     "name": "stdout",
     "output_type": "stream",
     "text": [
      "Task 128 completed with state COMPLETED: \n",
      "Polling for task (id: INWXTTAHURO3KPYHQJHVV5B6).\n",
      "Polling for task (id: INWXTTAHURO3KPYHQJHVV5B6).\n",
      "Polling for task (id: INWXTTAHURO3KPYHQJHVV5B6).\n"
     ]
    },
    {
     "name": "stderr",
     "output_type": "stream",
     "text": [
      "\n",
      "Exporting Images:  39%|███▊      | 129/334 [43:48<1:04:29, 18.87s/it]\u001b[A"
     ]
    },
    {
     "name": "stdout",
     "output_type": "stream",
     "text": [
      "Task 129 completed with state COMPLETED: \n",
      "Polling for task (id: JU56IHSZMVDYF55YEO45ZOV3).\n",
      "Polling for task (id: JU56IHSZMVDYF55YEO45ZOV3).\n",
      "Polling for task (id: JU56IHSZMVDYF55YEO45ZOV3).\n",
      "Polling for task (id: JU56IHSZMVDYF55YEO45ZOV3).\n"
     ]
    },
    {
     "name": "stderr",
     "output_type": "stream",
     "text": [
      "\n",
      "Exporting Images:  39%|███▉      | 130/334 [44:12<1:08:58, 20.29s/it]\u001b[A"
     ]
    },
    {
     "name": "stdout",
     "output_type": "stream",
     "text": [
      "Task 130 completed with state COMPLETED: \n",
      "Polling for task (id: 2LPENI6YLPNY43FLTQA2323T).\n",
      "Polling for task (id: 2LPENI6YLPNY43FLTQA2323T).\n",
      "Polling for task (id: 2LPENI6YLPNY43FLTQA2323T).\n",
      "Polling for task (id: 2LPENI6YLPNY43FLTQA2323T).\n",
      "Polling for task (id: 2LPENI6YLPNY43FLTQA2323T).\n"
     ]
    },
    {
     "name": "stderr",
     "output_type": "stream",
     "text": [
      "\n",
      "Exporting Images:  39%|███▉      | 131/334 [44:40<1:17:22, 22.87s/it]\u001b[A"
     ]
    },
    {
     "name": "stdout",
     "output_type": "stream",
     "text": [
      "Task 131 completed with state COMPLETED: \n",
      "Polling for task (id: WP4ITIACJN4R23DYAHRL7DER).\n",
      "Polling for task (id: WP4ITIACJN4R23DYAHRL7DER).\n",
      "Polling for task (id: WP4ITIACJN4R23DYAHRL7DER).\n"
     ]
    },
    {
     "name": "stderr",
     "output_type": "stream",
     "text": [
      "\n",
      "Exporting Images:  40%|███▉      | 132/334 [45:03<1:16:11, 22.63s/it]\u001b[A"
     ]
    },
    {
     "name": "stdout",
     "output_type": "stream",
     "text": [
      "Task 132 completed with state COMPLETED: \n",
      "Polling for task (id: MERDAWI7LGWVERKAEIT7G4DB).\n",
      "Polling for task (id: MERDAWI7LGWVERKAEIT7G4DB).\n"
     ]
    },
    {
     "name": "stderr",
     "output_type": "stream",
     "text": [
      "\n",
      "Exporting Images:  40%|███▉      | 133/334 [45:25<1:15:24, 22.51s/it]\u001b[A"
     ]
    },
    {
     "name": "stdout",
     "output_type": "stream",
     "text": [
      "Task 133 completed with state COMPLETED: \n",
      "Polling for task (id: V4GGLH4LZYP7VJER676ZI4TO).\n",
      "Polling for task (id: V4GGLH4LZYP7VJER676ZI4TO).\n"
     ]
    },
    {
     "name": "stderr",
     "output_type": "stream",
     "text": [
      "\n",
      "Exporting Images:  40%|████      | 134/334 [45:45<1:12:27, 21.74s/it]\u001b[A"
     ]
    },
    {
     "name": "stdout",
     "output_type": "stream",
     "text": [
      "Task 134 completed with state COMPLETED: \n",
      "Polling for task (id: RWGLTVCMFOBKDDGQOSQETM3L).\n",
      "Polling for task (id: RWGLTVCMFOBKDDGQOSQETM3L).\n"
     ]
    },
    {
     "name": "stderr",
     "output_type": "stream",
     "text": [
      "\n",
      "Exporting Images:  40%|████      | 135/334 [46:13<1:19:03, 23.84s/it]\u001b[A"
     ]
    },
    {
     "name": "stdout",
     "output_type": "stream",
     "text": [
      "Task 135 completed with state COMPLETED: \n",
      "Polling for task (id: ARXHNSXEESPSLUEBW3HFHW7Y).\n",
      "Polling for task (id: ARXHNSXEESPSLUEBW3HFHW7Y).\n"
     ]
    },
    {
     "name": "stderr",
     "output_type": "stream",
     "text": [
      "\n",
      "Exporting Images:  41%|████      | 136/334 [46:31<1:12:31, 21.98s/it]\u001b[A"
     ]
    },
    {
     "name": "stdout",
     "output_type": "stream",
     "text": [
      "Task 136 completed with state COMPLETED: \n",
      "Polling for task (id: REUNOXXF5DPCXMLKBBHGZT6V).\n",
      "Polling for task (id: REUNOXXF5DPCXMLKBBHGZT6V).\n",
      "Polling for task (id: REUNOXXF5DPCXMLKBBHGZT6V).\n"
     ]
    },
    {
     "name": "stderr",
     "output_type": "stream",
     "text": [
      "\n",
      "Exporting Images:  41%|████      | 137/334 [46:55<1:14:13, 22.61s/it]\u001b[A"
     ]
    },
    {
     "name": "stdout",
     "output_type": "stream",
     "text": [
      "Task 137 completed with state COMPLETED: \n",
      "Polling for task (id: DMQF22PWB2NQU23SWD7KTL3D).\n",
      "Polling for task (id: DMQF22PWB2NQU23SWD7KTL3D).\n",
      "Polling for task (id: DMQF22PWB2NQU23SWD7KTL3D).\n",
      "Polling for task (id: DMQF22PWB2NQU23SWD7KTL3D).\n"
     ]
    },
    {
     "name": "stderr",
     "output_type": "stream",
     "text": [
      "\n",
      "Exporting Images:  41%|████▏     | 138/334 [47:24<1:19:52, 24.45s/it]\u001b[A"
     ]
    },
    {
     "name": "stdout",
     "output_type": "stream",
     "text": [
      "Task 138 completed with state COMPLETED: \n",
      "Polling for task (id: IG5LNSJDY7MJ47GMT5H4VTAB).\n",
      "Polling for task (id: IG5LNSJDY7MJ47GMT5H4VTAB).\n",
      "Polling for task (id: IG5LNSJDY7MJ47GMT5H4VTAB).\n",
      "Polling for task (id: IG5LNSJDY7MJ47GMT5H4VTAB).\n"
     ]
    },
    {
     "name": "stderr",
     "output_type": "stream",
     "text": [
      "\n",
      "Exporting Images:  42%|████▏     | 139/334 [47:54<1:24:46, 26.08s/it]\u001b[A"
     ]
    },
    {
     "name": "stdout",
     "output_type": "stream",
     "text": [
      "Task 139 completed with state COMPLETED: \n",
      "Polling for task (id: WNT47YYNVIW75IZXHHFYEDGH).\n",
      "Polling for task (id: WNT47YYNVIW75IZXHHFYEDGH).\n",
      "Polling for task (id: WNT47YYNVIW75IZXHHFYEDGH).\n"
     ]
    },
    {
     "name": "stderr",
     "output_type": "stream",
     "text": [
      "\n",
      "Exporting Images:  42%|████▏     | 140/334 [48:16<1:20:55, 25.03s/it]\u001b[A"
     ]
    },
    {
     "name": "stdout",
     "output_type": "stream",
     "text": [
      "Task 140 completed with state COMPLETED: \n",
      "Polling for task (id: Y4ZC5TTBP7CBOI645AO34ZYH).\n",
      "Polling for task (id: Y4ZC5TTBP7CBOI645AO34ZYH).\n",
      "Polling for task (id: Y4ZC5TTBP7CBOI645AO34ZYH).\n"
     ]
    },
    {
     "name": "stderr",
     "output_type": "stream",
     "text": [
      "\n",
      "Exporting Images:  42%|████▏     | 141/334 [48:39<1:18:16, 24.33s/it]\u001b[A"
     ]
    },
    {
     "name": "stdout",
     "output_type": "stream",
     "text": [
      "Task 141 completed with state COMPLETED: \n",
      "Polling for task (id: Q64ZECRM7363GJVELFAFFY3H).\n",
      "Polling for task (id: Q64ZECRM7363GJVELFAFFY3H).\n",
      "Polling for task (id: Q64ZECRM7363GJVELFAFFY3H).\n"
     ]
    },
    {
     "name": "stderr",
     "output_type": "stream",
     "text": [
      "\n",
      "Exporting Images:  43%|████▎     | 142/334 [48:59<1:13:38, 23.01s/it]\u001b[A"
     ]
    },
    {
     "name": "stdout",
     "output_type": "stream",
     "text": [
      "Task 142 completed with state COMPLETED: \n",
      "Polling for task (id: 6QV6UFPAY6LZHG64ED35PEL7).\n",
      "Polling for task (id: 6QV6UFPAY6LZHG64ED35PEL7).\n"
     ]
    },
    {
     "name": "stderr",
     "output_type": "stream",
     "text": [
      "\n",
      "Exporting Images:  43%|████▎     | 143/334 [49:14<1:05:34, 20.60s/it]\u001b[A"
     ]
    },
    {
     "name": "stdout",
     "output_type": "stream",
     "text": [
      "Task 143 completed with state COMPLETED: \n",
      "Polling for task (id: 4TXDUDOO6BYUVKE5BFMGH4M4).\n",
      "Polling for task (id: 4TXDUDOO6BYUVKE5BFMGH4M4).\n",
      "Polling for task (id: 4TXDUDOO6BYUVKE5BFMGH4M4).\n"
     ]
    },
    {
     "name": "stderr",
     "output_type": "stream",
     "text": [
      "\n",
      "Exporting Images:  43%|████▎     | 144/334 [49:36<1:06:05, 20.87s/it]\u001b[A"
     ]
    },
    {
     "name": "stdout",
     "output_type": "stream",
     "text": [
      "Task 144 completed with state COMPLETED: \n",
      "Polling for task (id: USXXWYGHCDCSD6YSRSAH7NPT).\n",
      "Polling for task (id: USXXWYGHCDCSD6YSRSAH7NPT).\n",
      "Polling for task (id: USXXWYGHCDCSD6YSRSAH7NPT).\n"
     ]
    },
    {
     "name": "stderr",
     "output_type": "stream",
     "text": [
      "\n",
      "Exporting Images:  43%|████▎     | 145/334 [49:57<1:06:34, 21.14s/it]\u001b[A"
     ]
    },
    {
     "name": "stdout",
     "output_type": "stream",
     "text": [
      "Task 145 completed with state COMPLETED: \n",
      "Polling for task (id: HYLPWVYTSOYFSVIHIO4BN3QD).\n",
      "Polling for task (id: HYLPWVYTSOYFSVIHIO4BN3QD).\n",
      "Polling for task (id: HYLPWVYTSOYFSVIHIO4BN3QD).\n"
     ]
    },
    {
     "name": "stderr",
     "output_type": "stream",
     "text": [
      "\n",
      "Exporting Images:  44%|████▎     | 146/334 [50:18<1:06:18, 21.16s/it]\u001b[A"
     ]
    },
    {
     "name": "stdout",
     "output_type": "stream",
     "text": [
      "Task 146 completed with state COMPLETED: \n",
      "Polling for task (id: VJGRO4QFRTM5Y3A7LH4XFXAK).\n",
      "Polling for task (id: VJGRO4QFRTM5Y3A7LH4XFXAK).\n"
     ]
    },
    {
     "name": "stderr",
     "output_type": "stream",
     "text": [
      "\n",
      "Exporting Images:  44%|████▍     | 147/334 [50:35<1:01:43, 19.81s/it]\u001b[A"
     ]
    },
    {
     "name": "stdout",
     "output_type": "stream",
     "text": [
      "Task 147 completed with state COMPLETED: \n",
      "Polling for task (id: IYAWRDXUI24ZMXB5XQ7JUO6U).\n",
      "Polling for task (id: IYAWRDXUI24ZMXB5XQ7JUO6U).\n",
      "Polling for task (id: IYAWRDXUI24ZMXB5XQ7JUO6U).\n"
     ]
    },
    {
     "name": "stderr",
     "output_type": "stream",
     "text": [
      "\n",
      "Exporting Images:  44%|████▍     | 148/334 [50:57<1:03:11, 20.39s/it]\u001b[A"
     ]
    },
    {
     "name": "stdout",
     "output_type": "stream",
     "text": [
      "Task 148 completed with state COMPLETED: \n",
      "Polling for task (id: M4SGSJWU6IDNT6IW4SLS2JEX).\n",
      "Polling for task (id: M4SGSJWU6IDNT6IW4SLS2JEX).\n",
      "Polling for task (id: M4SGSJWU6IDNT6IW4SLS2JEX).\n"
     ]
    },
    {
     "name": "stderr",
     "output_type": "stream",
     "text": [
      "\n",
      "Exporting Images:  45%|████▍     | 149/334 [51:20<1:05:37, 21.28s/it]\u001b[A"
     ]
    },
    {
     "name": "stdout",
     "output_type": "stream",
     "text": [
      "Task 149 completed with state COMPLETED: \n",
      "Polling for task (id: GJONCXVJ4U6IY4T5MKDAX2CU).\n",
      "Polling for task (id: GJONCXVJ4U6IY4T5MKDAX2CU).\n"
     ]
    },
    {
     "name": "stderr",
     "output_type": "stream",
     "text": [
      "\n",
      "Exporting Images:  45%|████▍     | 150/334 [51:36<1:00:32, 19.74s/it]\u001b[A"
     ]
    },
    {
     "name": "stdout",
     "output_type": "stream",
     "text": [
      "Task 150 completed with state COMPLETED: \n",
      "Polling for task (id: J3V3LKV7E2KNFQCZDTAODM2X).\n",
      "Polling for task (id: J3V3LKV7E2KNFQCZDTAODM2X).\n",
      "Polling for task (id: J3V3LKV7E2KNFQCZDTAODM2X).\n"
     ]
    },
    {
     "name": "stderr",
     "output_type": "stream",
     "text": [
      "\n",
      "Exporting Images:  45%|████▌     | 151/334 [51:58<1:01:55, 20.30s/it]\u001b[A"
     ]
    },
    {
     "name": "stdout",
     "output_type": "stream",
     "text": [
      "Task 151 completed with state COMPLETED: \n",
      "Polling for task (id: KXID3RP46BGFQ6ZNE7YZX5VR).\n",
      "Polling for task (id: KXID3RP46BGFQ6ZNE7YZX5VR).\n",
      "Polling for task (id: KXID3RP46BGFQ6ZNE7YZX5VR).\n"
     ]
    },
    {
     "name": "stderr",
     "output_type": "stream",
     "text": [
      "\n",
      "Exporting Images:  46%|████▌     | 152/334 [52:18<1:01:09, 20.16s/it]\u001b[A"
     ]
    },
    {
     "name": "stdout",
     "output_type": "stream",
     "text": [
      "Task 152 completed with state COMPLETED: \n",
      "Polling for task (id: L7PJTXXZUML3TGKJOCNL4UGN).\n",
      "Polling for task (id: L7PJTXXZUML3TGKJOCNL4UGN).\n",
      "Polling for task (id: L7PJTXXZUML3TGKJOCNL4UGN).\n"
     ]
    },
    {
     "name": "stderr",
     "output_type": "stream",
     "text": [
      "\n",
      "Exporting Images:  46%|████▌     | 153/334 [52:38<1:00:53, 20.19s/it]\u001b[A"
     ]
    },
    {
     "name": "stdout",
     "output_type": "stream",
     "text": [
      "Task 153 completed with state COMPLETED: \n",
      "Polling for task (id: XEM6NLCKRNRUCAAZZDT4RH65).\n",
      "Polling for task (id: XEM6NLCKRNRUCAAZZDT4RH65).\n",
      "Polling for task (id: XEM6NLCKRNRUCAAZZDT4RH65).\n",
      "Polling for task (id: XEM6NLCKRNRUCAAZZDT4RH65).\n"
     ]
    },
    {
     "name": "stderr",
     "output_type": "stream",
     "text": [
      "\n",
      "Exporting Images:  46%|████▌     | 154/334 [53:04<1:05:56, 21.98s/it]\u001b[A"
     ]
    },
    {
     "name": "stdout",
     "output_type": "stream",
     "text": [
      "Task 154 completed with state COMPLETED: \n",
      "Polling for task (id: BCEQYUY53YXZUXARJMUOHROU).\n",
      "Polling for task (id: BCEQYUY53YXZUXARJMUOHROU).\n",
      "Polling for task (id: BCEQYUY53YXZUXARJMUOHROU).\n"
     ]
    },
    {
     "name": "stderr",
     "output_type": "stream",
     "text": [
      "\n",
      "Exporting Images:  46%|████▋     | 155/334 [53:25<1:04:34, 21.64s/it]\u001b[A"
     ]
    },
    {
     "name": "stdout",
     "output_type": "stream",
     "text": [
      "Task 155 completed with state COMPLETED: \n",
      "Polling for task (id: Z7QB2G6DR5FW5E5TKBNFTCKH).\n",
      "Polling for task (id: Z7QB2G6DR5FW5E5TKBNFTCKH).\n",
      "Polling for task (id: Z7QB2G6DR5FW5E5TKBNFTCKH).\n"
     ]
    },
    {
     "name": "stderr",
     "output_type": "stream",
     "text": [
      "\n",
      "Exporting Images:  47%|████▋     | 156/334 [53:45<1:02:23, 21.03s/it]\u001b[A"
     ]
    },
    {
     "name": "stdout",
     "output_type": "stream",
     "text": [
      "Task 156 completed with state COMPLETED: \n",
      "Polling for task (id: XLXAK3PV7PU37MZIO7RYI73Z).\n",
      "Polling for task (id: XLXAK3PV7PU37MZIO7RYI73Z).\n",
      "Polling for task (id: XLXAK3PV7PU37MZIO7RYI73Z).\n"
     ]
    },
    {
     "name": "stderr",
     "output_type": "stream",
     "text": [
      "\n",
      "Exporting Images:  47%|████▋     | 157/334 [54:05<1:01:22, 20.80s/it]\u001b[A"
     ]
    },
    {
     "name": "stdout",
     "output_type": "stream",
     "text": [
      "Task 157 completed with state COMPLETED: \n",
      "Polling for task (id: 5UQOY7PZTQDWLOZK5FCRV5TI).\n",
      "Polling for task (id: 5UQOY7PZTQDWLOZK5FCRV5TI).\n"
     ]
    },
    {
     "name": "stderr",
     "output_type": "stream",
     "text": [
      "\n",
      "Exporting Images:  47%|████▋     | 158/334 [54:20<56:13, 19.17s/it]  \u001b[A"
     ]
    },
    {
     "name": "stdout",
     "output_type": "stream",
     "text": [
      "Task 158 completed with state COMPLETED: \n",
      "Polling for task (id: D66IMKTTRFYC57ZH2WLGXHTR).\n",
      "Polling for task (id: D66IMKTTRFYC57ZH2WLGXHTR).\n",
      "Polling for task (id: D66IMKTTRFYC57ZH2WLGXHTR).\n"
     ]
    },
    {
     "name": "stderr",
     "output_type": "stream",
     "text": [
      "\n",
      "Exporting Images:  48%|████▊     | 159/334 [54:42<58:22, 20.01s/it]\u001b[A"
     ]
    },
    {
     "name": "stdout",
     "output_type": "stream",
     "text": [
      "Task 159 completed with state COMPLETED: \n",
      "Polling for task (id: 2QPIAIROUBAOCB6DF4V4VCC7).\n",
      "Polling for task (id: 2QPIAIROUBAOCB6DF4V4VCC7).\n",
      "Polling for task (id: 2QPIAIROUBAOCB6DF4V4VCC7).\n"
     ]
    },
    {
     "name": "stderr",
     "output_type": "stream",
     "text": [
      "\n",
      "Exporting Images:  48%|████▊     | 160/334 [55:05<1:00:32, 20.88s/it]\u001b[A"
     ]
    },
    {
     "name": "stdout",
     "output_type": "stream",
     "text": [
      "Task 160 completed with state COMPLETED: \n",
      "Polling for task (id: B4JV33X7MASS4KHUMK2XEUGH).\n",
      "Polling for task (id: B4JV33X7MASS4KHUMK2XEUGH).\n",
      "Polling for task (id: B4JV33X7MASS4KHUMK2XEUGH).\n"
     ]
    },
    {
     "name": "stderr",
     "output_type": "stream",
     "text": [
      "\n",
      "Exporting Images:  48%|████▊     | 161/334 [55:25<59:26, 20.62s/it]  \u001b[A"
     ]
    },
    {
     "name": "stdout",
     "output_type": "stream",
     "text": [
      "Task 161 completed with state COMPLETED: \n",
      "Polling for task (id: QUDC6RTH3H3EE3VX33AEMWFD).\n",
      "Polling for task (id: QUDC6RTH3H3EE3VX33AEMWFD).\n",
      "Polling for task (id: QUDC6RTH3H3EE3VX33AEMWFD).\n"
     ]
    },
    {
     "name": "stderr",
     "output_type": "stream",
     "text": [
      "\n",
      "Exporting Images:  49%|████▊     | 162/334 [55:46<58:50, 20.52s/it]\u001b[A"
     ]
    },
    {
     "name": "stdout",
     "output_type": "stream",
     "text": [
      "Task 162 completed with state COMPLETED: \n",
      "Polling for task (id: XYN5DHVCMOJTYSLJFLDVE3NN).\n",
      "Polling for task (id: XYN5DHVCMOJTYSLJFLDVE3NN).\n",
      "Polling for task (id: XYN5DHVCMOJTYSLJFLDVE3NN).\n"
     ]
    },
    {
     "name": "stderr",
     "output_type": "stream",
     "text": [
      "\n",
      "Exporting Images:  49%|████▉     | 163/334 [56:07<59:12, 20.77s/it]\u001b[A"
     ]
    },
    {
     "name": "stdout",
     "output_type": "stream",
     "text": [
      "Task 163 completed with state COMPLETED: \n",
      "Polling for task (id: 73MA4MA6DINBARBWMG44ZSNX).\n",
      "Polling for task (id: 73MA4MA6DINBARBWMG44ZSNX).\n",
      "Polling for task (id: 73MA4MA6DINBARBWMG44ZSNX).\n"
     ]
    },
    {
     "name": "stderr",
     "output_type": "stream",
     "text": [
      "\n",
      "Exporting Images:  49%|████▉     | 164/334 [56:27<57:59, 20.47s/it]\u001b[A"
     ]
    },
    {
     "name": "stdout",
     "output_type": "stream",
     "text": [
      "Task 164 completed with state COMPLETED: \n",
      "Polling for task (id: QGTTNYL2Q226O25MGGOYHEUI).\n",
      "Polling for task (id: QGTTNYL2Q226O25MGGOYHEUI).\n",
      "Polling for task (id: QGTTNYL2Q226O25MGGOYHEUI).\n"
     ]
    },
    {
     "name": "stderr",
     "output_type": "stream",
     "text": [
      "\n",
      "Exporting Images:  49%|████▉     | 165/334 [56:48<58:07, 20.64s/it]\u001b[A"
     ]
    },
    {
     "name": "stdout",
     "output_type": "stream",
     "text": [
      "Task 165 completed with state COMPLETED: \n",
      "Polling for task (id: RN5QAD3V7WJ66I4NB4XOCIDI).\n",
      "Polling for task (id: RN5QAD3V7WJ66I4NB4XOCIDI).\n",
      "Polling for task (id: RN5QAD3V7WJ66I4NB4XOCIDI).\n"
     ]
    },
    {
     "name": "stderr",
     "output_type": "stream",
     "text": [
      "\n",
      "Exporting Images:  50%|████▉     | 166/334 [57:09<58:03, 20.74s/it]\u001b[A"
     ]
    },
    {
     "name": "stdout",
     "output_type": "stream",
     "text": [
      "Task 166 completed with state COMPLETED: \n",
      "Polling for task (id: QVZOYEXBAYRNHYOA2NKRY3VW).\n",
      "Polling for task (id: QVZOYEXBAYRNHYOA2NKRY3VW).\n",
      "Polling for task (id: QVZOYEXBAYRNHYOA2NKRY3VW).\n",
      "Polling for task (id: QVZOYEXBAYRNHYOA2NKRY3VW).\n"
     ]
    },
    {
     "name": "stderr",
     "output_type": "stream",
     "text": [
      "\n",
      "Exporting Images:  50%|█████     | 167/334 [57:34<1:01:34, 22.12s/it]\u001b[A"
     ]
    },
    {
     "name": "stdout",
     "output_type": "stream",
     "text": [
      "Task 167 completed with state COMPLETED: \n",
      "Polling for task (id: 3BQ3FVPZL4EDEHQQLP6DODD5).\n",
      "Polling for task (id: 3BQ3FVPZL4EDEHQQLP6DODD5).\n",
      "Polling for task (id: 3BQ3FVPZL4EDEHQQLP6DODD5).\n"
     ]
    },
    {
     "name": "stderr",
     "output_type": "stream",
     "text": [
      "\n",
      "Exporting Images:  50%|█████     | 168/334 [57:55<1:00:30, 21.87s/it]\u001b[A"
     ]
    },
    {
     "name": "stdout",
     "output_type": "stream",
     "text": [
      "Task 168 completed with state COMPLETED: \n",
      "Polling for task (id: ZADIJWERDK6DTVMDOZIE4JWM).\n",
      "Polling for task (id: ZADIJWERDK6DTVMDOZIE4JWM).\n",
      "Polling for task (id: ZADIJWERDK6DTVMDOZIE4JWM).\n"
     ]
    },
    {
     "name": "stderr",
     "output_type": "stream",
     "text": [
      "\n",
      "Exporting Images:  51%|█████     | 169/334 [58:18<1:00:55, 22.15s/it]\u001b[A"
     ]
    },
    {
     "name": "stdout",
     "output_type": "stream",
     "text": [
      "Task 169 completed with state COMPLETED: \n",
      "Polling for task (id: 36LGBCWODAIQ23JK6PGUB2VV).\n",
      "Polling for task (id: 36LGBCWODAIQ23JK6PGUB2VV).\n",
      "Polling for task (id: 36LGBCWODAIQ23JK6PGUB2VV).\n"
     ]
    },
    {
     "name": "stderr",
     "output_type": "stream",
     "text": [
      "\n",
      "Exporting Images:  51%|█████     | 170/334 [58:38<58:38, 21.45s/it]  \u001b[A"
     ]
    },
    {
     "name": "stdout",
     "output_type": "stream",
     "text": [
      "Task 170 completed with state COMPLETED: \n",
      "Polling for task (id: WIEKM3Z7QG3EBTG5DVP4F5EJ).\n",
      "Polling for task (id: WIEKM3Z7QG3EBTG5DVP4F5EJ).\n",
      "Polling for task (id: WIEKM3Z7QG3EBTG5DVP4F5EJ).\n"
     ]
    },
    {
     "name": "stderr",
     "output_type": "stream",
     "text": [
      "\n",
      "Exporting Images:  51%|█████     | 171/334 [58:59<58:17, 21.46s/it]\u001b[A"
     ]
    },
    {
     "name": "stdout",
     "output_type": "stream",
     "text": [
      "Task 171 completed with state COMPLETED: \n",
      "Polling for task (id: UVSVIYFCO4OJS4TKKBTEUE5W).\n",
      "Polling for task (id: UVSVIYFCO4OJS4TKKBTEUE5W).\n"
     ]
    },
    {
     "name": "stderr",
     "output_type": "stream",
     "text": [
      "\n",
      "Exporting Images:  51%|█████▏    | 172/334 [59:18<55:53, 20.70s/it]\u001b[A"
     ]
    },
    {
     "name": "stdout",
     "output_type": "stream",
     "text": [
      "Task 172 completed with state COMPLETED: \n",
      "Polling for task (id: LUKWHK6UWNU6VGSMAYR7HVFB).\n",
      "Polling for task (id: LUKWHK6UWNU6VGSMAYR7HVFB).\n",
      "Polling for task (id: LUKWHK6UWNU6VGSMAYR7HVFB).\n"
     ]
    },
    {
     "name": "stderr",
     "output_type": "stream",
     "text": [
      "\n",
      "Exporting Images:  52%|█████▏    | 173/334 [59:47<1:02:13, 23.19s/it]\u001b[A"
     ]
    },
    {
     "name": "stdout",
     "output_type": "stream",
     "text": [
      "Task 173 completed with state COMPLETED: \n",
      "Polling for task (id: 5DJ6JD7FCA6CJC5LJSL6A3BZ).\n",
      "Polling for task (id: 5DJ6JD7FCA6CJC5LJSL6A3BZ).\n",
      "Polling for task (id: 5DJ6JD7FCA6CJC5LJSL6A3BZ).\n"
     ]
    },
    {
     "name": "stderr",
     "output_type": "stream",
     "text": [
      "\n",
      "Exporting Images:  52%|█████▏    | 174/334 [1:00:07<58:49, 22.06s/it]\u001b[A"
     ]
    },
    {
     "name": "stdout",
     "output_type": "stream",
     "text": [
      "Task 174 completed with state COMPLETED: \n",
      "Polling for task (id: OGYBP5BZJSKAIYIRSTKEDYEP).\n",
      "Polling for task (id: OGYBP5BZJSKAIYIRSTKEDYEP).\n",
      "Polling for task (id: OGYBP5BZJSKAIYIRSTKEDYEP).\n"
     ]
    },
    {
     "name": "stderr",
     "output_type": "stream",
     "text": [
      "\n",
      "Exporting Images:  52%|█████▏    | 175/334 [1:00:29<58:24, 22.04s/it]\u001b[A"
     ]
    },
    {
     "name": "stdout",
     "output_type": "stream",
     "text": [
      "Task 175 completed with state COMPLETED: \n",
      "Polling for task (id: XNUBVYLUTNC2DUCBILDDBEVC).\n",
      "Polling for task (id: XNUBVYLUTNC2DUCBILDDBEVC).\n",
      "Polling for task (id: XNUBVYLUTNC2DUCBILDDBEVC).\n"
     ]
    },
    {
     "name": "stderr",
     "output_type": "stream",
     "text": [
      "\n",
      "Exporting Images:  53%|█████▎    | 176/334 [1:00:49<56:17, 21.38s/it]\u001b[A"
     ]
    },
    {
     "name": "stdout",
     "output_type": "stream",
     "text": [
      "Task 176 completed with state COMPLETED: \n",
      "Polling for task (id: DK7RUJ2PPTN6SS7A32QAQUP3).\n",
      "Polling for task (id: DK7RUJ2PPTN6SS7A32QAQUP3).\n"
     ]
    },
    {
     "name": "stderr",
     "output_type": "stream",
     "text": [
      "\n",
      "Exporting Images:  53%|█████▎    | 177/334 [1:01:04<51:24, 19.65s/it]\u001b[A"
     ]
    },
    {
     "name": "stdout",
     "output_type": "stream",
     "text": [
      "Task 177 completed with state COMPLETED: \n",
      "Polling for task (id: 6XZWD5E2ILOL6RWXXMLJCVRX).\n",
      "Polling for task (id: 6XZWD5E2ILOL6RWXXMLJCVRX).\n",
      "Polling for task (id: 6XZWD5E2ILOL6RWXXMLJCVRX).\n",
      "Polling for task (id: 6XZWD5E2ILOL6RWXXMLJCVRX).\n",
      "Polling for task (id: 6XZWD5E2ILOL6RWXXMLJCVRX).\n",
      "Polling for task (id: 6XZWD5E2ILOL6RWXXMLJCVRX).\n",
      "Polling for task (id: 6XZWD5E2ILOL6RWXXMLJCVRX).\n"
     ]
    },
    {
     "name": "stderr",
     "output_type": "stream",
     "text": [
      "\n",
      "Exporting Images:  53%|█████▎    | 178/334 [1:01:51<1:12:06, 27.74s/it]\u001b[A"
     ]
    },
    {
     "name": "stdout",
     "output_type": "stream",
     "text": [
      "Task 178 completed with state COMPLETED: \n",
      "Polling for task (id: QJBDOXADWKHHL4EROZYLHLWU).\n",
      "Polling for task (id: QJBDOXADWKHHL4EROZYLHLWU).\n",
      "Polling for task (id: QJBDOXADWKHHL4EROZYLHLWU).\n"
     ]
    },
    {
     "name": "stderr",
     "output_type": "stream",
     "text": [
      "\n",
      "Exporting Images:  54%|█████▎    | 179/334 [1:02:10<1:05:21, 25.30s/it]\u001b[A"
     ]
    },
    {
     "name": "stdout",
     "output_type": "stream",
     "text": [
      "Task 179 completed with state COMPLETED: \n",
      "Polling for task (id: XADEXHHVGE7V6R6VT4PMDRBG).\n",
      "Polling for task (id: XADEXHHVGE7V6R6VT4PMDRBG).\n",
      "Polling for task (id: XADEXHHVGE7V6R6VT4PMDRBG).\n"
     ]
    },
    {
     "name": "stderr",
     "output_type": "stream",
     "text": [
      "\n",
      "Exporting Images:  54%|█████▍    | 180/334 [1:02:30<1:00:51, 23.71s/it]\u001b[A"
     ]
    },
    {
     "name": "stdout",
     "output_type": "stream",
     "text": [
      "Task 180 completed with state COMPLETED: \n",
      "Polling for task (id: FJOTKLRO4VZ5NCIT2KIYMZ7T).\n",
      "Polling for task (id: FJOTKLRO4VZ5NCIT2KIYMZ7T).\n",
      "Polling for task (id: FJOTKLRO4VZ5NCIT2KIYMZ7T).\n"
     ]
    },
    {
     "name": "stderr",
     "output_type": "stream",
     "text": [
      "\n",
      "Exporting Images:  54%|█████▍    | 181/334 [1:02:52<58:50, 23.07s/it]  \u001b[A"
     ]
    },
    {
     "name": "stdout",
     "output_type": "stream",
     "text": [
      "Task 181 completed with state COMPLETED: \n",
      "Polling for task (id: NLQBAQL7BG54SFYC7MNI5IFH).\n",
      "Polling for task (id: NLQBAQL7BG54SFYC7MNI5IFH).\n",
      "Polling for task (id: NLQBAQL7BG54SFYC7MNI5IFH).\n"
     ]
    },
    {
     "name": "stderr",
     "output_type": "stream",
     "text": [
      "\n",
      "Exporting Images:  54%|█████▍    | 182/334 [1:03:16<58:58, 23.28s/it]\u001b[A"
     ]
    },
    {
     "name": "stdout",
     "output_type": "stream",
     "text": [
      "Task 182 completed with state COMPLETED: \n",
      "Polling for task (id: 5UQKAF5HZASME2NFJXTR5IZG).\n",
      "Polling for task (id: 5UQKAF5HZASME2NFJXTR5IZG).\n",
      "Polling for task (id: 5UQKAF5HZASME2NFJXTR5IZG).\n",
      "Polling for task (id: 5UQKAF5HZASME2NFJXTR5IZG).\n"
     ]
    },
    {
     "name": "stderr",
     "output_type": "stream",
     "text": [
      "\n",
      "Exporting Images:  55%|█████▍    | 183/334 [1:03:43<1:01:25, 24.41s/it]\u001b[A"
     ]
    },
    {
     "name": "stdout",
     "output_type": "stream",
     "text": [
      "Task 183 completed with state COMPLETED: \n",
      "Polling for task (id: DOJSQIVJYL6CXJTDEJ276NOU).\n",
      "Polling for task (id: DOJSQIVJYL6CXJTDEJ276NOU).\n",
      "Polling for task (id: DOJSQIVJYL6CXJTDEJ276NOU).\n"
     ]
    },
    {
     "name": "stderr",
     "output_type": "stream",
     "text": [
      "\n",
      "Exporting Images:  55%|█████▌    | 184/334 [1:04:03<57:54, 23.16s/it]  \u001b[A"
     ]
    },
    {
     "name": "stdout",
     "output_type": "stream",
     "text": [
      "Task 184 completed with state COMPLETED: \n",
      "Polling for task (id: NB3E56HXCQZKBOYHLXA62PRA).\n",
      "Polling for task (id: NB3E56HXCQZKBOYHLXA62PRA).\n",
      "Polling for task (id: NB3E56HXCQZKBOYHLXA62PRA).\n"
     ]
    },
    {
     "name": "stderr",
     "output_type": "stream",
     "text": [
      "\n",
      "Exporting Images:  55%|█████▌    | 185/334 [1:04:24<55:37, 22.40s/it]\u001b[A"
     ]
    },
    {
     "name": "stdout",
     "output_type": "stream",
     "text": [
      "Task 185 completed with state COMPLETED: \n",
      "Polling for task (id: FVGYGNGFE2WWMFY7H3YNZXKX).\n",
      "Polling for task (id: FVGYGNGFE2WWMFY7H3YNZXKX).\n",
      "Polling for task (id: FVGYGNGFE2WWMFY7H3YNZXKX).\n"
     ]
    },
    {
     "name": "stderr",
     "output_type": "stream",
     "text": [
      "\n",
      "Exporting Images:  56%|█████▌    | 186/334 [1:04:43<53:09, 21.55s/it]\u001b[A"
     ]
    },
    {
     "name": "stdout",
     "output_type": "stream",
     "text": [
      "Task 186 completed with state COMPLETED: \n",
      "Polling for task (id: BMVACJEBNU7CXJ7JMODYWXW4).\n",
      "Polling for task (id: BMVACJEBNU7CXJ7JMODYWXW4).\n",
      "Polling for task (id: BMVACJEBNU7CXJ7JMODYWXW4).\n"
     ]
    },
    {
     "name": "stderr",
     "output_type": "stream",
     "text": [
      "\n",
      "Exporting Images:  56%|█████▌    | 187/334 [1:05:03<51:31, 21.03s/it]\u001b[A"
     ]
    },
    {
     "name": "stdout",
     "output_type": "stream",
     "text": [
      "Task 187 completed with state COMPLETED: \n",
      "Polling for task (id: AC3BMS454E37OT6HOLMVDCN4).\n",
      "Polling for task (id: AC3BMS454E37OT6HOLMVDCN4).\n",
      "Polling for task (id: AC3BMS454E37OT6HOLMVDCN4).\n"
     ]
    },
    {
     "name": "stderr",
     "output_type": "stream",
     "text": [
      "\n",
      "Exporting Images:  56%|█████▋    | 188/334 [1:05:23<50:14, 20.65s/it]\u001b[A"
     ]
    },
    {
     "name": "stdout",
     "output_type": "stream",
     "text": [
      "Task 188 completed with state COMPLETED: \n",
      "Polling for task (id: KZGKBH43S7UTFISMQVEIFAVA).\n",
      "Polling for task (id: KZGKBH43S7UTFISMQVEIFAVA).\n",
      "Polling for task (id: KZGKBH43S7UTFISMQVEIFAVA).\n"
     ]
    },
    {
     "name": "stderr",
     "output_type": "stream",
     "text": [
      "\n",
      "Exporting Images:  57%|█████▋    | 189/334 [1:05:41<48:12, 19.95s/it]\u001b[A"
     ]
    },
    {
     "name": "stdout",
     "output_type": "stream",
     "text": [
      "Task 189 completed with state COMPLETED: \n",
      "Polling for task (id: 7FEVGAEOSZ3VPYY27TBZZVFC).\n",
      "Polling for task (id: 7FEVGAEOSZ3VPYY27TBZZVFC).\n",
      "Polling for task (id: 7FEVGAEOSZ3VPYY27TBZZVFC).\n"
     ]
    },
    {
     "name": "stderr",
     "output_type": "stream",
     "text": [
      "\n",
      "Exporting Images:  57%|█████▋    | 190/334 [1:05:59<46:42, 19.46s/it]\u001b[A"
     ]
    },
    {
     "name": "stdout",
     "output_type": "stream",
     "text": [
      "Task 190 completed with state COMPLETED: \n",
      "Polling for task (id: XAK57LA6AZTGX2SYESG6QGG3).\n",
      "Polling for task (id: XAK57LA6AZTGX2SYESG6QGG3).\n",
      "Polling for task (id: XAK57LA6AZTGX2SYESG6QGG3).\n"
     ]
    },
    {
     "name": "stderr",
     "output_type": "stream",
     "text": [
      "\n",
      "Exporting Images:  57%|█████▋    | 191/334 [1:06:18<45:33, 19.11s/it]\u001b[A"
     ]
    },
    {
     "name": "stdout",
     "output_type": "stream",
     "text": [
      "Task 191 completed with state COMPLETED: \n",
      "Polling for task (id: I43N3A3L4DWOPNNAWQJUME4O).\n",
      "Polling for task (id: I43N3A3L4DWOPNNAWQJUME4O).\n",
      "Polling for task (id: I43N3A3L4DWOPNNAWQJUME4O).\n"
     ]
    },
    {
     "name": "stderr",
     "output_type": "stream",
     "text": [
      "\n",
      "Exporting Images:  57%|█████▋    | 192/334 [1:06:36<44:36, 18.85s/it]\u001b[A"
     ]
    },
    {
     "name": "stdout",
     "output_type": "stream",
     "text": [
      "Task 192 completed with state COMPLETED: \n",
      "Polling for task (id: D2UWO5D4WNFQV4IUAWO7N3YJ).\n",
      "Polling for task (id: D2UWO5D4WNFQV4IUAWO7N3YJ).\n",
      "Polling for task (id: D2UWO5D4WNFQV4IUAWO7N3YJ).\n"
     ]
    },
    {
     "name": "stderr",
     "output_type": "stream",
     "text": [
      "\n",
      "Exporting Images:  58%|█████▊    | 193/334 [1:06:54<43:52, 18.67s/it]\u001b[A"
     ]
    },
    {
     "name": "stdout",
     "output_type": "stream",
     "text": [
      "Task 193 completed with state COMPLETED: \n",
      "Polling for task (id: Z6UK32LZVWWBRVDN4S3WGJPG).\n",
      "Polling for task (id: Z6UK32LZVWWBRVDN4S3WGJPG).\n",
      "Polling for task (id: Z6UK32LZVWWBRVDN4S3WGJPG).\n",
      "Polling for task (id: Z6UK32LZVWWBRVDN4S3WGJPG).\n"
     ]
    },
    {
     "name": "stderr",
     "output_type": "stream",
     "text": [
      "\n",
      "Exporting Images:  58%|█████▊    | 194/334 [1:07:18<47:01, 20.15s/it]\u001b[A"
     ]
    },
    {
     "name": "stdout",
     "output_type": "stream",
     "text": [
      "Task 194 completed with state COMPLETED: \n",
      "Polling for task (id: YJALT3EPUHKBACKMJ6TES75X).\n",
      "Polling for task (id: YJALT3EPUHKBACKMJ6TES75X).\n",
      "Polling for task (id: YJALT3EPUHKBACKMJ6TES75X).\n"
     ]
    },
    {
     "name": "stderr",
     "output_type": "stream",
     "text": [
      "\n",
      "Exporting Images:  58%|█████▊    | 195/334 [1:07:36<45:27, 19.62s/it]\u001b[A"
     ]
    },
    {
     "name": "stdout",
     "output_type": "stream",
     "text": [
      "Task 195 completed with state COMPLETED: \n",
      "Polling for task (id: SIKEXRD7XYSKN27OIQ34D7VF).\n",
      "Polling for task (id: SIKEXRD7XYSKN27OIQ34D7VF).\n",
      "Polling for task (id: SIKEXRD7XYSKN27OIQ34D7VF).\n"
     ]
    },
    {
     "name": "stderr",
     "output_type": "stream",
     "text": [
      "\n",
      "Exporting Images:  59%|█████▊    | 196/334 [1:07:55<44:14, 19.23s/it]\u001b[A"
     ]
    },
    {
     "name": "stdout",
     "output_type": "stream",
     "text": [
      "Task 196 completed with state COMPLETED: \n",
      "Polling for task (id: JT325LKBYNMDC7UVONQLJOAU).\n",
      "Polling for task (id: JT325LKBYNMDC7UVONQLJOAU).\n",
      "Polling for task (id: JT325LKBYNMDC7UVONQLJOAU).\n"
     ]
    },
    {
     "name": "stderr",
     "output_type": "stream",
     "text": [
      "\n",
      "Exporting Images:  59%|█████▉    | 197/334 [1:08:14<43:56, 19.24s/it]\u001b[A"
     ]
    },
    {
     "name": "stdout",
     "output_type": "stream",
     "text": [
      "Task 197 completed with state COMPLETED: \n",
      "Polling for task (id: MNEMCVUJWPVF4XGTMYSJ4PDV).\n",
      "Polling for task (id: MNEMCVUJWPVF4XGTMYSJ4PDV).\n",
      "Polling for task (id: MNEMCVUJWPVF4XGTMYSJ4PDV).\n"
     ]
    },
    {
     "name": "stderr",
     "output_type": "stream",
     "text": [
      "\n",
      "Exporting Images:  59%|█████▉    | 198/334 [1:08:32<42:53, 18.93s/it]\u001b[A"
     ]
    },
    {
     "name": "stdout",
     "output_type": "stream",
     "text": [
      "Task 198 completed with state COMPLETED: \n",
      "Polling for task (id: TKWDM5HDHSFKJKBLEU22BWOE).\n",
      "Polling for task (id: TKWDM5HDHSFKJKBLEU22BWOE).\n",
      "Polling for task (id: TKWDM5HDHSFKJKBLEU22BWOE).\n"
     ]
    },
    {
     "name": "stderr",
     "output_type": "stream",
     "text": [
      "\n",
      "Exporting Images:  60%|█████▉    | 199/334 [1:08:50<42:10, 18.74s/it]\u001b[A"
     ]
    },
    {
     "name": "stdout",
     "output_type": "stream",
     "text": [
      "Task 199 completed with state COMPLETED: \n",
      "Polling for task (id: 7NAH3SNUMUHQE4QPPHFAQNAJ).\n",
      "Polling for task (id: 7NAH3SNUMUHQE4QPPHFAQNAJ).\n",
      "Polling for task (id: 7NAH3SNUMUHQE4QPPHFAQNAJ).\n"
     ]
    },
    {
     "name": "stderr",
     "output_type": "stream",
     "text": [
      "\n",
      "Exporting Images:  60%|█████▉    | 200/334 [1:09:16<46:35, 20.86s/it]\u001b[A"
     ]
    },
    {
     "name": "stdout",
     "output_type": "stream",
     "text": [
      "Task 200 completed with state COMPLETED: \n",
      "Polling for task (id: U4YIEYTH7G5XDL3SWDXN4ZHI).\n",
      "Polling for task (id: U4YIEYTH7G5XDL3SWDXN4ZHI).\n"
     ]
    },
    {
     "name": "stderr",
     "output_type": "stream",
     "text": [
      "\n",
      "Exporting Images:  60%|██████    | 201/334 [1:09:44<50:41, 22.87s/it]\u001b[A"
     ]
    },
    {
     "name": "stdout",
     "output_type": "stream",
     "text": [
      "Task 201 completed with state COMPLETED: \n",
      "Polling for task (id: G3CFUABLHIIEFG4F5NNPYNZM).\n",
      "Polling for task (id: G3CFUABLHIIEFG4F5NNPYNZM).\n",
      "Polling for task (id: G3CFUABLHIIEFG4F5NNPYNZM).\n"
     ]
    },
    {
     "name": "stderr",
     "output_type": "stream",
     "text": [
      "\n",
      "Exporting Images:  60%|██████    | 202/334 [1:10:10<52:41, 23.95s/it]\u001b[A"
     ]
    },
    {
     "name": "stdout",
     "output_type": "stream",
     "text": [
      "Task 202 completed with state COMPLETED: \n",
      "Polling for task (id: NNCY5Y3F64XLPIZIYDNPOP4X).\n",
      "Polling for task (id: NNCY5Y3F64XLPIZIYDNPOP4X).\n",
      "Polling for task (id: NNCY5Y3F64XLPIZIYDNPOP4X).\n"
     ]
    },
    {
     "name": "stderr",
     "output_type": "stream",
     "text": [
      "\n",
      "Exporting Images:  61%|██████    | 203/334 [1:10:33<51:25, 23.56s/it]\u001b[A"
     ]
    },
    {
     "name": "stdout",
     "output_type": "stream",
     "text": [
      "Task 203 completed with state COMPLETED: \n",
      "Polling for task (id: CI2LO6JOFFUJH3S7M52JD75V).\n",
      "Polling for task (id: CI2LO6JOFFUJH3S7M52JD75V).\n",
      "Polling for task (id: CI2LO6JOFFUJH3S7M52JD75V).\n"
     ]
    },
    {
     "name": "stderr",
     "output_type": "stream",
     "text": [
      "\n",
      "Exporting Images:  61%|██████    | 204/334 [1:10:57<51:47, 23.90s/it]\u001b[A"
     ]
    },
    {
     "name": "stdout",
     "output_type": "stream",
     "text": [
      "Task 204 completed with state COMPLETED: \n",
      "Polling for task (id: 32H3QYYYD72VIMWNKZNKWVKL).\n",
      "Polling for task (id: 32H3QYYYD72VIMWNKZNKWVKL).\n",
      "Polling for task (id: 32H3QYYYD72VIMWNKZNKWVKL).\n"
     ]
    },
    {
     "name": "stderr",
     "output_type": "stream",
     "text": [
      "\n",
      "Exporting Images:  61%|██████▏   | 205/334 [1:11:19<50:09, 23.33s/it]\u001b[A"
     ]
    },
    {
     "name": "stdout",
     "output_type": "stream",
     "text": [
      "Task 205 completed with state COMPLETED: \n",
      "Polling for task (id: IXDVGZF2DPTYAEVPIA4HM35V).\n",
      "Polling for task (id: IXDVGZF2DPTYAEVPIA4HM35V).\n"
     ]
    },
    {
     "name": "stderr",
     "output_type": "stream",
     "text": [
      "\n",
      "Exporting Images:  62%|██████▏   | 206/334 [1:11:37<45:44, 21.44s/it]\u001b[A"
     ]
    },
    {
     "name": "stdout",
     "output_type": "stream",
     "text": [
      "Task 206 completed with state COMPLETED: \n",
      "Polling for task (id: IBWX7TQ5FS7S243JFAYGW2R2).\n",
      "Polling for task (id: IBWX7TQ5FS7S243JFAYGW2R2).\n",
      "Polling for task (id: IBWX7TQ5FS7S243JFAYGW2R2).\n"
     ]
    },
    {
     "name": "stderr",
     "output_type": "stream",
     "text": [
      "\n",
      "Exporting Images:  62%|██████▏   | 207/334 [1:12:00<46:22, 21.91s/it]\u001b[A"
     ]
    },
    {
     "name": "stdout",
     "output_type": "stream",
     "text": [
      "Task 207 completed with state COMPLETED: \n",
      "Polling for task (id: PYHD2HLQ275NHJBRNH4BCQLU).\n",
      "Polling for task (id: PYHD2HLQ275NHJBRNH4BCQLU).\n",
      "Polling for task (id: PYHD2HLQ275NHJBRNH4BCQLU).\n",
      "Polling for task (id: PYHD2HLQ275NHJBRNH4BCQLU).\n"
     ]
    },
    {
     "name": "stderr",
     "output_type": "stream",
     "text": [
      "\n",
      "Exporting Images:  62%|██████▏   | 208/334 [1:12:26<48:40, 23.18s/it]\u001b[A"
     ]
    },
    {
     "name": "stdout",
     "output_type": "stream",
     "text": [
      "Task 208 completed with state COMPLETED: \n",
      "Polling for task (id: NDDNXCAZDA4U7MGBFSJR5247).\n",
      "Polling for task (id: NDDNXCAZDA4U7MGBFSJR5247).\n",
      "Polling for task (id: NDDNXCAZDA4U7MGBFSJR5247).\n"
     ]
    },
    {
     "name": "stderr",
     "output_type": "stream",
     "text": [
      "\n",
      "Exporting Images:  63%|██████▎   | 209/334 [1:12:46<46:21, 22.25s/it]\u001b[A"
     ]
    },
    {
     "name": "stdout",
     "output_type": "stream",
     "text": [
      "Task 209 completed with state COMPLETED: \n",
      "Polling for task (id: SKKPEYVD5RKVGU6TQVNOIHCW).\n",
      "Polling for task (id: SKKPEYVD5RKVGU6TQVNOIHCW).\n",
      "Polling for task (id: SKKPEYVD5RKVGU6TQVNOIHCW).\n"
     ]
    },
    {
     "name": "stderr",
     "output_type": "stream",
     "text": [
      "\n",
      "Exporting Images:  63%|██████▎   | 210/334 [1:13:05<44:17, 21.43s/it]\u001b[A"
     ]
    },
    {
     "name": "stdout",
     "output_type": "stream",
     "text": [
      "Task 210 completed with state COMPLETED: \n",
      "Polling for task (id: GJAWRI2BGLYWME6QZ67LP2DI).\n",
      "Polling for task (id: GJAWRI2BGLYWME6QZ67LP2DI).\n"
     ]
    },
    {
     "name": "stderr",
     "output_type": "stream",
     "text": [
      "\n",
      "Exporting Images:  63%|██████▎   | 211/334 [1:13:20<39:41, 19.37s/it]\u001b[A"
     ]
    },
    {
     "name": "stdout",
     "output_type": "stream",
     "text": [
      "Task 211 completed with state COMPLETED: \n",
      "Polling for task (id: YKKZTTUPEVSQIPU5VJMFRLQA).\n",
      "Polling for task (id: YKKZTTUPEVSQIPU5VJMFRLQA).\n",
      "Polling for task (id: YKKZTTUPEVSQIPU5VJMFRLQA).\n"
     ]
    },
    {
     "name": "stderr",
     "output_type": "stream",
     "text": [
      "\n",
      "Exporting Images:  63%|██████▎   | 212/334 [1:13:41<40:18, 19.82s/it]\u001b[A"
     ]
    },
    {
     "name": "stdout",
     "output_type": "stream",
     "text": [
      "Task 212 completed with state COMPLETED: \n",
      "Polling for task (id: FNNU4D3YOPNPC454EJZUITVW).\n",
      "Polling for task (id: FNNU4D3YOPNPC454EJZUITVW).\n",
      "Polling for task (id: FNNU4D3YOPNPC454EJZUITVW).\n"
     ]
    },
    {
     "name": "stderr",
     "output_type": "stream",
     "text": [
      "\n",
      "Exporting Images:  64%|██████▍   | 213/334 [1:14:01<40:27, 20.07s/it]\u001b[A"
     ]
    },
    {
     "name": "stdout",
     "output_type": "stream",
     "text": [
      "Task 213 completed with state COMPLETED: \n",
      "Polling for task (id: H53ONOVEHUW7JXDGFBAAZSBU).\n",
      "Polling for task (id: H53ONOVEHUW7JXDGFBAAZSBU).\n"
     ]
    },
    {
     "name": "stderr",
     "output_type": "stream",
     "text": [
      "\n",
      "Exporting Images:  64%|██████▍   | 214/334 [1:14:17<37:19, 18.66s/it]\u001b[A"
     ]
    },
    {
     "name": "stdout",
     "output_type": "stream",
     "text": [
      "Task 214 completed with state COMPLETED: \n",
      "Polling for task (id: UAXAX4XTHVJQPRBKG3VFMDR7).\n",
      "Polling for task (id: UAXAX4XTHVJQPRBKG3VFMDR7).\n",
      "Polling for task (id: UAXAX4XTHVJQPRBKG3VFMDR7).\n"
     ]
    },
    {
     "name": "stderr",
     "output_type": "stream",
     "text": [
      "\n",
      "Exporting Images:  64%|██████▍   | 215/334 [1:14:40<39:56, 20.14s/it]\u001b[A"
     ]
    },
    {
     "name": "stdout",
     "output_type": "stream",
     "text": [
      "Task 215 completed with state COMPLETED: \n",
      "Polling for task (id: EUZIOWSCXWUS5D7ZA3SIIB6Y).\n",
      "Polling for task (id: EUZIOWSCXWUS5D7ZA3SIIB6Y).\n",
      "Polling for task (id: EUZIOWSCXWUS5D7ZA3SIIB6Y).\n"
     ]
    },
    {
     "name": "stderr",
     "output_type": "stream",
     "text": [
      "\n",
      "Exporting Images:  65%|██████▍   | 216/334 [1:15:01<39:51, 20.26s/it]\u001b[A"
     ]
    },
    {
     "name": "stdout",
     "output_type": "stream",
     "text": [
      "Task 216 completed with state COMPLETED: \n",
      "Polling for task (id: XI5EKTD7KYJLZI6TXFBJXFEZ).\n",
      "Polling for task (id: XI5EKTD7KYJLZI6TXFBJXFEZ).\n",
      "Polling for task (id: XI5EKTD7KYJLZI6TXFBJXFEZ).\n"
     ]
    },
    {
     "name": "stderr",
     "output_type": "stream",
     "text": [
      "\n",
      "Exporting Images:  65%|██████▍   | 217/334 [1:15:21<39:18, 20.16s/it]\u001b[A"
     ]
    },
    {
     "name": "stdout",
     "output_type": "stream",
     "text": [
      "Task 217 completed with state COMPLETED: \n",
      "Polling for task (id: TDLR4XX5PXIXFOF77AAEWG44).\n",
      "Polling for task (id: TDLR4XX5PXIXFOF77AAEWG44).\n",
      "Polling for task (id: TDLR4XX5PXIXFOF77AAEWG44).\n"
     ]
    },
    {
     "name": "stderr",
     "output_type": "stream",
     "text": [
      "\n",
      "Exporting Images:  65%|██████▌   | 218/334 [1:15:41<39:04, 20.21s/it]\u001b[A"
     ]
    },
    {
     "name": "stdout",
     "output_type": "stream",
     "text": [
      "Task 218 completed with state COMPLETED: \n",
      "Polling for task (id: YK3IJDTXI5CY4QJO7CJ4SZ3F).\n",
      "Polling for task (id: YK3IJDTXI5CY4QJO7CJ4SZ3F).\n"
     ]
    },
    {
     "name": "stderr",
     "output_type": "stream",
     "text": [
      "\n",
      "Exporting Images:  66%|██████▌   | 219/334 [1:15:56<35:48, 18.68s/it]\u001b[A"
     ]
    },
    {
     "name": "stdout",
     "output_type": "stream",
     "text": [
      "Task 219 completed with state COMPLETED: \n",
      "Polling for task (id: RXLBTMJ5OLB3JKOVZPBKACQE).\n",
      "Polling for task (id: RXLBTMJ5OLB3JKOVZPBKACQE).\n",
      "Polling for task (id: RXLBTMJ5OLB3JKOVZPBKACQE).\n"
     ]
    },
    {
     "name": "stderr",
     "output_type": "stream",
     "text": [
      "\n",
      "Exporting Images:  66%|██████▌   | 220/334 [1:16:16<36:07, 19.01s/it]\u001b[A"
     ]
    },
    {
     "name": "stdout",
     "output_type": "stream",
     "text": [
      "Task 220 completed with state COMPLETED: \n",
      "Polling for task (id: UGN2PMOAGL4GMLKEHGEM3ET2).\n",
      "Polling for task (id: UGN2PMOAGL4GMLKEHGEM3ET2).\n",
      "Polling for task (id: UGN2PMOAGL4GMLKEHGEM3ET2).\n"
     ]
    },
    {
     "name": "stderr",
     "output_type": "stream",
     "text": [
      "\n",
      "Exporting Images:  66%|██████▌   | 221/334 [1:16:36<36:30, 19.38s/it]\u001b[A"
     ]
    },
    {
     "name": "stdout",
     "output_type": "stream",
     "text": [
      "Task 221 completed with state COMPLETED: \n",
      "Polling for task (id: T26CE66KE3B53OWCJ3WGYVPV).\n",
      "Polling for task (id: T26CE66KE3B53OWCJ3WGYVPV).\n",
      "Polling for task (id: T26CE66KE3B53OWCJ3WGYVPV).\n",
      "Polling for task (id: T26CE66KE3B53OWCJ3WGYVPV).\n"
     ]
    },
    {
     "name": "stderr",
     "output_type": "stream",
     "text": [
      "\n",
      "Exporting Images:  66%|██████▋   | 222/334 [1:17:03<40:08, 21.51s/it]\u001b[A"
     ]
    },
    {
     "name": "stdout",
     "output_type": "stream",
     "text": [
      "Task 222 completed with state COMPLETED: \n",
      "Polling for task (id: EF55KE7YS2HFN3SQ23BLBSN3).\n",
      "Polling for task (id: EF55KE7YS2HFN3SQ23BLBSN3).\n",
      "Polling for task (id: EF55KE7YS2HFN3SQ23BLBSN3).\n"
     ]
    },
    {
     "name": "stderr",
     "output_type": "stream",
     "text": [
      "\n",
      "Exporting Images:  67%|██████▋   | 223/334 [1:17:23<39:15, 21.22s/it]\u001b[A"
     ]
    },
    {
     "name": "stdout",
     "output_type": "stream",
     "text": [
      "Task 223 completed with state COMPLETED: \n",
      "Polling for task (id: RCEUQPIKNQYZKIJL44QX24MU).\n",
      "Polling for task (id: RCEUQPIKNQYZKIJL44QX24MU).\n",
      "Polling for task (id: RCEUQPIKNQYZKIJL44QX24MU).\n"
     ]
    },
    {
     "name": "stderr",
     "output_type": "stream",
     "text": [
      "\n",
      "Exporting Images:  67%|██████▋   | 224/334 [1:17:44<38:48, 21.17s/it]\u001b[A"
     ]
    },
    {
     "name": "stdout",
     "output_type": "stream",
     "text": [
      "Task 224 completed with state COMPLETED: \n",
      "Polling for task (id: ID2A2NLNETTREYXDC7XWOSZO).\n",
      "Polling for task (id: ID2A2NLNETTREYXDC7XWOSZO).\n",
      "Polling for task (id: ID2A2NLNETTREYXDC7XWOSZO).\n"
     ]
    },
    {
     "name": "stderr",
     "output_type": "stream",
     "text": [
      "\n",
      "Exporting Images:  67%|██████▋   | 225/334 [1:18:04<37:48, 20.81s/it]\u001b[A"
     ]
    },
    {
     "name": "stdout",
     "output_type": "stream",
     "text": [
      "Task 225 completed with state COMPLETED: \n",
      "Polling for task (id: UXNQUJ2CIEVSRTT2L4D4XUZT).\n",
      "Polling for task (id: UXNQUJ2CIEVSRTT2L4D4XUZT).\n",
      "Polling for task (id: UXNQUJ2CIEVSRTT2L4D4XUZT).\n"
     ]
    },
    {
     "name": "stderr",
     "output_type": "stream",
     "text": [
      "\n",
      "Exporting Images:  68%|██████▊   | 226/334 [1:18:25<37:27, 20.81s/it]\u001b[A"
     ]
    },
    {
     "name": "stdout",
     "output_type": "stream",
     "text": [
      "Task 226 completed with state COMPLETED: \n",
      "Polling for task (id: HSD6XVB5C3LDISCM6NYEHYHN).\n",
      "Polling for task (id: HSD6XVB5C3LDISCM6NYEHYHN).\n",
      "Polling for task (id: HSD6XVB5C3LDISCM6NYEHYHN).\n"
     ]
    },
    {
     "name": "stderr",
     "output_type": "stream",
     "text": [
      "\n",
      "Exporting Images:  68%|██████▊   | 227/334 [1:18:45<36:43, 20.59s/it]\u001b[A"
     ]
    },
    {
     "name": "stdout",
     "output_type": "stream",
     "text": [
      "Task 227 completed with state COMPLETED: \n",
      "Polling for task (id: 2ZT654AG2RRJNB5DTR2VWH2N).\n",
      "Polling for task (id: 2ZT654AG2RRJNB5DTR2VWH2N).\n",
      "Polling for task (id: 2ZT654AG2RRJNB5DTR2VWH2N).\n",
      "Polling for task (id: 2ZT654AG2RRJNB5DTR2VWH2N).\n",
      "Polling for task (id: 2ZT654AG2RRJNB5DTR2VWH2N).\n",
      "Polling for task (id: 2ZT654AG2RRJNB5DTR2VWH2N).\n",
      "Polling for task (id: 2ZT654AG2RRJNB5DTR2VWH2N).\n",
      "Polling for task (id: 2ZT654AG2RRJNB5DTR2VWH2N).\n",
      "Polling for task (id: 2ZT654AG2RRJNB5DTR2VWH2N).\n"
     ]
    },
    {
     "name": "stderr",
     "output_type": "stream",
     "text": [
      "\n",
      "Exporting Images:  68%|██████▊   | 228/334 [1:19:42<55:23, 31.36s/it]\u001b[A"
     ]
    },
    {
     "name": "stdout",
     "output_type": "stream",
     "text": [
      "Task 228 completed with state COMPLETED: \n",
      "Polling for task (id: O45CHITTTS7CUDMZQONX4CUH).\n",
      "Polling for task (id: O45CHITTTS7CUDMZQONX4CUH).\n",
      "Polling for task (id: O45CHITTTS7CUDMZQONX4CUH).\n"
     ]
    },
    {
     "name": "stderr",
     "output_type": "stream",
     "text": [
      "\n",
      "Exporting Images:  69%|██████▊   | 229/334 [1:20:04<50:01, 28.58s/it]\u001b[A"
     ]
    },
    {
     "name": "stdout",
     "output_type": "stream",
     "text": [
      "Task 229 completed with state COMPLETED: \n",
      "Polling for task (id: NVVZ74DMFDV4W6U5L5JUCCSF).\n",
      "Polling for task (id: NVVZ74DMFDV4W6U5L5JUCCSF).\n",
      "Polling for task (id: NVVZ74DMFDV4W6U5L5JUCCSF).\n"
     ]
    },
    {
     "name": "stderr",
     "output_type": "stream",
     "text": [
      "\n",
      "Exporting Images:  69%|██████▉   | 230/334 [1:20:24<45:01, 25.98s/it]\u001b[A"
     ]
    },
    {
     "name": "stdout",
     "output_type": "stream",
     "text": [
      "Task 230 completed with state COMPLETED: \n",
      "Polling for task (id: 576HZ7ENOHWBQ4227HKFGAGX).\n",
      "Polling for task (id: 576HZ7ENOHWBQ4227HKFGAGX).\n",
      "Polling for task (id: 576HZ7ENOHWBQ4227HKFGAGX).\n"
     ]
    },
    {
     "name": "stderr",
     "output_type": "stream",
     "text": [
      "\n",
      "Exporting Images:  69%|██████▉   | 231/334 [1:20:43<41:23, 24.11s/it]\u001b[A"
     ]
    },
    {
     "name": "stdout",
     "output_type": "stream",
     "text": [
      "Task 231 completed with state COMPLETED: \n",
      "Polling for task (id: WD467C77JZT3VLYF4WKP432Y).\n",
      "Polling for task (id: WD467C77JZT3VLYF4WKP432Y).\n",
      "Polling for task (id: WD467C77JZT3VLYF4WKP432Y).\n"
     ]
    },
    {
     "name": "stderr",
     "output_type": "stream",
     "text": [
      "\n",
      "Exporting Images:  69%|██████▉   | 232/334 [1:21:04<38:56, 22.91s/it]\u001b[A"
     ]
    },
    {
     "name": "stdout",
     "output_type": "stream",
     "text": [
      "Task 232 completed with state COMPLETED: \n",
      "Polling for task (id: A4LYPBMWP4SY6S55ZZTQ7RG7).\n",
      "Polling for task (id: A4LYPBMWP4SY6S55ZZTQ7RG7).\n",
      "Polling for task (id: A4LYPBMWP4SY6S55ZZTQ7RG7).\n"
     ]
    },
    {
     "name": "stderr",
     "output_type": "stream",
     "text": [
      "\n",
      "Exporting Images:  70%|██████▉   | 233/334 [1:21:24<37:31, 22.30s/it]\u001b[A"
     ]
    },
    {
     "name": "stdout",
     "output_type": "stream",
     "text": [
      "Task 233 completed with state COMPLETED: \n",
      "Polling for task (id: XRKFWCM4BSTI3G6FBYUHBT2M).\n",
      "Polling for task (id: XRKFWCM4BSTI3G6FBYUHBT2M).\n",
      "Polling for task (id: XRKFWCM4BSTI3G6FBYUHBT2M).\n"
     ]
    },
    {
     "name": "stderr",
     "output_type": "stream",
     "text": [
      "\n",
      "Exporting Images:  70%|███████   | 234/334 [1:21:46<36:40, 22.00s/it]\u001b[A"
     ]
    },
    {
     "name": "stdout",
     "output_type": "stream",
     "text": [
      "Task 234 completed with state COMPLETED: \n",
      "Polling for task (id: S2GNUZITBQ7PBVGNVLRLMJTR).\n",
      "Polling for task (id: S2GNUZITBQ7PBVGNVLRLMJTR).\n",
      "Polling for task (id: S2GNUZITBQ7PBVGNVLRLMJTR).\n",
      "Polling for task (id: S2GNUZITBQ7PBVGNVLRLMJTR).\n",
      "Polling for task (id: S2GNUZITBQ7PBVGNVLRLMJTR).\n",
      "Polling for task (id: S2GNUZITBQ7PBVGNVLRLMJTR).\n",
      "Polling for task (id: S2GNUZITBQ7PBVGNVLRLMJTR).\n",
      "Polling for task (id: S2GNUZITBQ7PBVGNVLRLMJTR).\n"
     ]
    },
    {
     "name": "stderr",
     "output_type": "stream",
     "text": [
      "\n",
      "Exporting Images:  70%|███████   | 235/334 [1:22:35<49:59, 30.30s/it]\u001b[A"
     ]
    },
    {
     "name": "stdout",
     "output_type": "stream",
     "text": [
      "Task 235 completed with state COMPLETED: \n",
      "Polling for task (id: QQIBKUY32SDH3YKDLYOB45A2).\n",
      "Polling for task (id: QQIBKUY32SDH3YKDLYOB45A2).\n",
      "Polling for task (id: QQIBKUY32SDH3YKDLYOB45A2).\n"
     ]
    },
    {
     "name": "stderr",
     "output_type": "stream",
     "text": [
      "\n",
      "Exporting Images:  71%|███████   | 236/334 [1:22:56<44:54, 27.50s/it]\u001b[A"
     ]
    },
    {
     "name": "stdout",
     "output_type": "stream",
     "text": [
      "Task 236 completed with state COMPLETED: \n",
      "Polling for task (id: W4SS6NEIQ26SDBOVIW3Q4BAS).\n",
      "Polling for task (id: W4SS6NEIQ26SDBOVIW3Q4BAS).\n",
      "Polling for task (id: W4SS6NEIQ26SDBOVIW3Q4BAS).\n",
      "Polling for task (id: W4SS6NEIQ26SDBOVIW3Q4BAS).\n"
     ]
    },
    {
     "name": "stderr",
     "output_type": "stream",
     "text": [
      "\n",
      "Exporting Images:  71%|███████   | 237/334 [1:23:24<44:29, 27.52s/it]\u001b[A"
     ]
    },
    {
     "name": "stdout",
     "output_type": "stream",
     "text": [
      "Task 237 completed with state COMPLETED: \n",
      "Polling for task (id: HWN5TN7BYYCJN7FJTWXMF7MN).\n",
      "Polling for task (id: HWN5TN7BYYCJN7FJTWXMF7MN).\n",
      "Polling for task (id: HWN5TN7BYYCJN7FJTWXMF7MN).\n"
     ]
    },
    {
     "name": "stderr",
     "output_type": "stream",
     "text": [
      "\n",
      "Exporting Images:  71%|███████▏  | 238/334 [1:23:45<40:51, 25.54s/it]\u001b[A"
     ]
    },
    {
     "name": "stdout",
     "output_type": "stream",
     "text": [
      "Task 238 completed with state COMPLETED: \n",
      "Polling for task (id: L34CNMX3UCHMRKUDKGZGSXZH).\n",
      "Polling for task (id: L34CNMX3UCHMRKUDKGZGSXZH).\n",
      "Polling for task (id: L34CNMX3UCHMRKUDKGZGSXZH).\n"
     ]
    },
    {
     "name": "stderr",
     "output_type": "stream",
     "text": [
      "\n",
      "Exporting Images:  72%|███████▏  | 239/334 [1:24:05<37:53, 23.93s/it]\u001b[A"
     ]
    },
    {
     "name": "stdout",
     "output_type": "stream",
     "text": [
      "Task 239 completed with state COMPLETED: \n",
      "Polling for task (id: XN7OMJ44RFBJSHW4YKNE74JF).\n",
      "Polling for task (id: XN7OMJ44RFBJSHW4YKNE74JF).\n",
      "Polling for task (id: XN7OMJ44RFBJSHW4YKNE74JF).\n",
      "Polling for task (id: XN7OMJ44RFBJSHW4YKNE74JF).\n"
     ]
    },
    {
     "name": "stderr",
     "output_type": "stream",
     "text": [
      "\n",
      "Exporting Images:  72%|███████▏  | 240/334 [1:24:32<38:53, 24.82s/it]\u001b[A"
     ]
    },
    {
     "name": "stdout",
     "output_type": "stream",
     "text": [
      "Task 240 completed with state COMPLETED: \n",
      "Polling for task (id: 4PGZDTICPVM4S4FD5UP3MFT7).\n",
      "Polling for task (id: 4PGZDTICPVM4S4FD5UP3MFT7).\n",
      "Polling for task (id: 4PGZDTICPVM4S4FD5UP3MFT7).\n",
      "Polling for task (id: 4PGZDTICPVM4S4FD5UP3MFT7).\n",
      "Polling for task (id: 4PGZDTICPVM4S4FD5UP3MFT7).\n"
     ]
    },
    {
     "name": "stderr",
     "output_type": "stream",
     "text": [
      "\n",
      "Exporting Images:  72%|███████▏  | 241/334 [1:25:04<41:44, 26.93s/it]\u001b[A"
     ]
    },
    {
     "name": "stdout",
     "output_type": "stream",
     "text": [
      "Task 241 completed with state COMPLETED: \n",
      "Polling for task (id: TUGI5U2QDRF3LFQIE5YSZ4XU).\n",
      "Polling for task (id: TUGI5U2QDRF3LFQIE5YSZ4XU).\n",
      "Polling for task (id: TUGI5U2QDRF3LFQIE5YSZ4XU).\n"
     ]
    },
    {
     "name": "stderr",
     "output_type": "stream",
     "text": [
      "\n",
      "Exporting Images:  72%|███████▏  | 242/334 [1:25:25<38:55, 25.38s/it]\u001b[A"
     ]
    },
    {
     "name": "stdout",
     "output_type": "stream",
     "text": [
      "Task 242 completed with state COMPLETED: \n",
      "Polling for task (id: 3SLBUA6QYCHI67QKYJBZRUA4).\n",
      "Polling for task (id: 3SLBUA6QYCHI67QKYJBZRUA4).\n",
      "Polling for task (id: 3SLBUA6QYCHI67QKYJBZRUA4).\n"
     ]
    },
    {
     "name": "stderr",
     "output_type": "stream",
     "text": [
      "\n",
      "Exporting Images:  73%|███████▎  | 243/334 [1:25:46<36:22, 23.98s/it]\u001b[A"
     ]
    },
    {
     "name": "stdout",
     "output_type": "stream",
     "text": [
      "Task 243 completed with state COMPLETED: \n",
      "Polling for task (id: HQFDFJHZFAD73HT6XX6QK2G3).\n",
      "Polling for task (id: HQFDFJHZFAD73HT6XX6QK2G3).\n",
      "Polling for task (id: HQFDFJHZFAD73HT6XX6QK2G3).\n"
     ]
    },
    {
     "name": "stderr",
     "output_type": "stream",
     "text": [
      "\n",
      "Exporting Images:  73%|███████▎  | 244/334 [1:26:07<34:32, 23.02s/it]\u001b[A"
     ]
    },
    {
     "name": "stdout",
     "output_type": "stream",
     "text": [
      "Task 244 completed with state COMPLETED: \n",
      "Polling for task (id: 7FA6VW5J4CGWX3XTVQRY63KR).\n",
      "Polling for task (id: 7FA6VW5J4CGWX3XTVQRY63KR).\n",
      "Polling for task (id: 7FA6VW5J4CGWX3XTVQRY63KR).\n"
     ]
    },
    {
     "name": "stderr",
     "output_type": "stream",
     "text": [
      "\n",
      "Exporting Images:  73%|███████▎  | 245/334 [1:26:30<34:03, 22.97s/it]\u001b[A"
     ]
    },
    {
     "name": "stdout",
     "output_type": "stream",
     "text": [
      "Task 245 completed with state COMPLETED: \n",
      "Polling for task (id: IPR4TKDKPOAPE4LECVFHFSK5).\n",
      "Polling for task (id: IPR4TKDKPOAPE4LECVFHFSK5).\n",
      "Polling for task (id: IPR4TKDKPOAPE4LECVFHFSK5).\n"
     ]
    },
    {
     "name": "stderr",
     "output_type": "stream",
     "text": [
      "\n",
      "Exporting Images:  74%|███████▎  | 246/334 [1:26:53<33:44, 23.01s/it]\u001b[A"
     ]
    },
    {
     "name": "stdout",
     "output_type": "stream",
     "text": [
      "Task 246 completed with state COMPLETED: \n",
      "Polling for task (id: 5TRPSGXAL5DYA5ULQWFLO62M).\n",
      "Polling for task (id: 5TRPSGXAL5DYA5ULQWFLO62M).\n",
      "Polling for task (id: 5TRPSGXAL5DYA5ULQWFLO62M).\n",
      "Polling for task (id: 5TRPSGXAL5DYA5ULQWFLO62M).\n"
     ]
    },
    {
     "name": "stderr",
     "output_type": "stream",
     "text": [
      "\n",
      "Exporting Images:  74%|███████▍  | 247/334 [1:27:24<36:55, 25.46s/it]\u001b[A"
     ]
    },
    {
     "name": "stdout",
     "output_type": "stream",
     "text": [
      "Task 247 completed with state COMPLETED: \n",
      "Polling for task (id: ELEJVAJYPEWZ26XAMVIECC3F).\n",
      "Polling for task (id: ELEJVAJYPEWZ26XAMVIECC3F).\n"
     ]
    },
    {
     "name": "stderr",
     "output_type": "stream",
     "text": [
      "\n",
      "Exporting Images:  74%|███████▍  | 248/334 [1:27:46<34:50, 24.31s/it]\u001b[A"
     ]
    },
    {
     "name": "stdout",
     "output_type": "stream",
     "text": [
      "Task 248 completed with state COMPLETED: \n",
      "Polling for task (id: YD4AT5U7UAVJVRSYCGYBTDRR).\n",
      "Polling for task (id: YD4AT5U7UAVJVRSYCGYBTDRR).\n",
      "Polling for task (id: YD4AT5U7UAVJVRSYCGYBTDRR).\n"
     ]
    },
    {
     "name": "stderr",
     "output_type": "stream",
     "text": [
      "\n",
      "Exporting Images:  75%|███████▍  | 249/334 [1:28:07<33:19, 23.53s/it]\u001b[A"
     ]
    },
    {
     "name": "stdout",
     "output_type": "stream",
     "text": [
      "Task 249 completed with state COMPLETED: \n",
      "Polling for task (id: 4GGOBXCMFTG6GJGC4ZTX3W7D).\n",
      "Polling for task (id: 4GGOBXCMFTG6GJGC4ZTX3W7D).\n",
      "Polling for task (id: 4GGOBXCMFTG6GJGC4ZTX3W7D).\n"
     ]
    },
    {
     "name": "stderr",
     "output_type": "stream",
     "text": [
      "\n",
      "Exporting Images:  75%|███████▍  | 250/334 [1:28:29<32:13, 23.02s/it]\u001b[A"
     ]
    },
    {
     "name": "stdout",
     "output_type": "stream",
     "text": [
      "Task 250 completed with state COMPLETED: \n",
      "Polling for task (id: LXJLTYPQGBXRWXMOHTSVKF5Z).\n",
      "Polling for task (id: LXJLTYPQGBXRWXMOHTSVKF5Z).\n"
     ]
    },
    {
     "name": "stderr",
     "output_type": "stream",
     "text": [
      "\n",
      "Exporting Images:  75%|███████▌  | 251/334 [1:28:49<30:28, 22.03s/it]\u001b[A"
     ]
    },
    {
     "name": "stdout",
     "output_type": "stream",
     "text": [
      "Task 251 completed with state COMPLETED: \n",
      "Polling for task (id: T2IJ4WJIJTYQUEV2F2FB7SZZ).\n",
      "Polling for task (id: T2IJ4WJIJTYQUEV2F2FB7SZZ).\n",
      "Polling for task (id: T2IJ4WJIJTYQUEV2F2FB7SZZ).\n"
     ]
    },
    {
     "name": "stderr",
     "output_type": "stream",
     "text": [
      "\n",
      "Exporting Images:  75%|███████▌  | 252/334 [1:29:15<31:53, 23.34s/it]\u001b[A"
     ]
    },
    {
     "name": "stdout",
     "output_type": "stream",
     "text": [
      "Task 252 completed with state COMPLETED: \n",
      "Polling for task (id: 3KJR5U54S6VSMTDC3CTDKZCV).\n",
      "Polling for task (id: 3KJR5U54S6VSMTDC3CTDKZCV).\n",
      "Polling for task (id: 3KJR5U54S6VSMTDC3CTDKZCV).\n"
     ]
    },
    {
     "name": "stderr",
     "output_type": "stream",
     "text": [
      "\n",
      "Exporting Images:  76%|███████▌  | 253/334 [1:29:39<31:43, 23.50s/it]\u001b[A"
     ]
    },
    {
     "name": "stdout",
     "output_type": "stream",
     "text": [
      "Task 253 completed with state COMPLETED: \n",
      "Polling for task (id: Q4SSKHIUNFILB7I2EFYMFPIA).\n",
      "Polling for task (id: Q4SSKHIUNFILB7I2EFYMFPIA).\n"
     ]
    },
    {
     "name": "stderr",
     "output_type": "stream",
     "text": [
      "\n",
      "Exporting Images:  76%|███████▌  | 254/334 [1:29:54<27:58, 20.98s/it]\u001b[A"
     ]
    },
    {
     "name": "stdout",
     "output_type": "stream",
     "text": [
      "Task 254 completed with state COMPLETED: \n",
      "Polling for task (id: ODYESX7R4P4JZ2Y5YW4NUJCW).\n",
      "Polling for task (id: ODYESX7R4P4JZ2Y5YW4NUJCW).\n",
      "Polling for task (id: ODYESX7R4P4JZ2Y5YW4NUJCW).\n",
      "Polling for task (id: ODYESX7R4P4JZ2Y5YW4NUJCW).\n",
      "Polling for task (id: ODYESX7R4P4JZ2Y5YW4NUJCW).\n",
      "Polling for task (id: ODYESX7R4P4JZ2Y5YW4NUJCW).\n",
      "Polling for task (id: ODYESX7R4P4JZ2Y5YW4NUJCW).\n",
      "Polling for task (id: ODYESX7R4P4JZ2Y5YW4NUJCW).\n",
      "Polling for task (id: ODYESX7R4P4JZ2Y5YW4NUJCW).\n",
      "Polling for task (id: ODYESX7R4P4JZ2Y5YW4NUJCW).\n",
      "Polling for task (id: ODYESX7R4P4JZ2Y5YW4NUJCW).\n",
      "Polling for task (id: ODYESX7R4P4JZ2Y5YW4NUJCW).\n",
      "Polling for task (id: ODYESX7R4P4JZ2Y5YW4NUJCW).\n",
      "Polling for task (id: ODYESX7R4P4JZ2Y5YW4NUJCW).\n"
     ]
    },
    {
     "name": "stderr",
     "output_type": "stream",
     "text": [
      "\n",
      "Exporting Images:  76%|███████▋  | 255/334 [1:31:16<51:33, 39.16s/it]\u001b[A"
     ]
    },
    {
     "name": "stdout",
     "output_type": "stream",
     "text": [
      "Task 255 completed with state COMPLETED: \n",
      "Polling for task (id: Z2XMLFWQ7QDEMNMSBCHU6MJ2).\n",
      "Polling for task (id: Z2XMLFWQ7QDEMNMSBCHU6MJ2).\n",
      "Polling for task (id: Z2XMLFWQ7QDEMNMSBCHU6MJ2).\n"
     ]
    },
    {
     "name": "stderr",
     "output_type": "stream",
     "text": [
      "\n",
      "Exporting Images:  77%|███████▋  | 256/334 [1:31:36<43:27, 33.44s/it]\u001b[A"
     ]
    },
    {
     "name": "stdout",
     "output_type": "stream",
     "text": [
      "Task 256 completed with state COMPLETED: \n",
      "Polling for task (id: OEXMJ6WCFQZ2M4XN6QMWMBTT).\n",
      "Polling for task (id: OEXMJ6WCFQZ2M4XN6QMWMBTT).\n",
      "Polling for task (id: OEXMJ6WCFQZ2M4XN6QMWMBTT).\n"
     ]
    },
    {
     "name": "stderr",
     "output_type": "stream",
     "text": [
      "\n",
      "Exporting Images:  77%|███████▋  | 257/334 [1:32:01<39:34, 30.84s/it]\u001b[A"
     ]
    },
    {
     "name": "stdout",
     "output_type": "stream",
     "text": [
      "Task 257 completed with state COMPLETED: \n",
      "Polling for task (id: ECOA754GGNFOM2SJ3GUXDBDM).\n",
      "Polling for task (id: ECOA754GGNFOM2SJ3GUXDBDM).\n",
      "Polling for task (id: ECOA754GGNFOM2SJ3GUXDBDM).\n"
     ]
    },
    {
     "name": "stderr",
     "output_type": "stream",
     "text": [
      "\n",
      "Exporting Images:  77%|███████▋  | 258/334 [1:32:24<36:09, 28.54s/it]\u001b[A"
     ]
    },
    {
     "name": "stdout",
     "output_type": "stream",
     "text": [
      "Task 258 completed with state COMPLETED: \n",
      "Polling for task (id: IESYAV4QSLQKJELKJWE6KQRM).\n",
      "Polling for task (id: IESYAV4QSLQKJELKJWE6KQRM).\n",
      "Polling for task (id: IESYAV4QSLQKJELKJWE6KQRM).\n"
     ]
    },
    {
     "name": "stderr",
     "output_type": "stream",
     "text": [
      "\n",
      "Exporting Images:  78%|███████▊  | 259/334 [1:32:46<33:11, 26.56s/it]\u001b[A"
     ]
    },
    {
     "name": "stdout",
     "output_type": "stream",
     "text": [
      "Task 259 completed with state COMPLETED: \n",
      "Polling for task (id: MU6ZYXGOWQE2HJJOM5TQS7VZ).\n",
      "Polling for task (id: MU6ZYXGOWQE2HJJOM5TQS7VZ).\n",
      "Polling for task (id: MU6ZYXGOWQE2HJJOM5TQS7VZ).\n"
     ]
    },
    {
     "name": "stderr",
     "output_type": "stream",
     "text": [
      "\n",
      "Exporting Images:  78%|███████▊  | 260/334 [1:33:09<31:17, 25.37s/it]\u001b[A"
     ]
    },
    {
     "name": "stdout",
     "output_type": "stream",
     "text": [
      "Task 260 completed with state COMPLETED: \n",
      "Polling for task (id: MDKKD6TIPO67MS5RG4CGA25F).\n",
      "Polling for task (id: MDKKD6TIPO67MS5RG4CGA25F).\n",
      "Polling for task (id: MDKKD6TIPO67MS5RG4CGA25F).\n"
     ]
    },
    {
     "name": "stderr",
     "output_type": "stream",
     "text": [
      "\n",
      "Exporting Images:  78%|███████▊  | 261/334 [1:33:29<29:07, 23.94s/it]\u001b[A"
     ]
    },
    {
     "name": "stdout",
     "output_type": "stream",
     "text": [
      "Task 261 completed with state COMPLETED: \n",
      "Polling for task (id: D2ZI3EJJOYWDVNLBSFRSKYGA).\n",
      "Polling for task (id: D2ZI3EJJOYWDVNLBSFRSKYGA).\n",
      "Polling for task (id: D2ZI3EJJOYWDVNLBSFRSKYGA).\n"
     ]
    },
    {
     "name": "stderr",
     "output_type": "stream",
     "text": [
      "\n",
      "Exporting Images:  78%|███████▊  | 262/334 [1:33:50<27:46, 23.14s/it]\u001b[A"
     ]
    },
    {
     "name": "stdout",
     "output_type": "stream",
     "text": [
      "Task 262 completed with state COMPLETED: \n",
      "Polling for task (id: GGN6FKH3IIPIXAM67JT5UHSG).\n",
      "Polling for task (id: GGN6FKH3IIPIXAM67JT5UHSG).\n",
      "Polling for task (id: GGN6FKH3IIPIXAM67JT5UHSG).\n"
     ]
    },
    {
     "name": "stderr",
     "output_type": "stream",
     "text": [
      "\n",
      "Exporting Images:  79%|███████▊  | 263/334 [1:34:11<26:18, 22.23s/it]\u001b[A"
     ]
    },
    {
     "name": "stdout",
     "output_type": "stream",
     "text": [
      "Task 263 completed with state COMPLETED: \n",
      "Polling for task (id: DZW6UZXQYBJ2OBYOX65KYNBZ).\n",
      "Polling for task (id: DZW6UZXQYBJ2OBYOX65KYNBZ).\n",
      "Polling for task (id: DZW6UZXQYBJ2OBYOX65KYNBZ).\n"
     ]
    },
    {
     "name": "stderr",
     "output_type": "stream",
     "text": [
      "\n",
      "Exporting Images:  79%|███████▉  | 264/334 [1:34:31<25:10, 21.57s/it]\u001b[A"
     ]
    },
    {
     "name": "stdout",
     "output_type": "stream",
     "text": [
      "Task 264 completed with state COMPLETED: \n",
      "Polling for task (id: I7YNDXCCESMG3PDBFCXQOAZA).\n",
      "Polling for task (id: I7YNDXCCESMG3PDBFCXQOAZA).\n",
      "Polling for task (id: I7YNDXCCESMG3PDBFCXQOAZA).\n"
     ]
    },
    {
     "name": "stderr",
     "output_type": "stream",
     "text": [
      "\n",
      "Exporting Images:  79%|███████▉  | 265/334 [1:34:51<24:33, 21.35s/it]\u001b[A"
     ]
    },
    {
     "name": "stdout",
     "output_type": "stream",
     "text": [
      "Task 265 completed with state COMPLETED: \n",
      "Polling for task (id: Z5BTKUCYGN4F2QNNRDJH46OI).\n",
      "Polling for task (id: Z5BTKUCYGN4F2QNNRDJH46OI).\n",
      "Polling for task (id: Z5BTKUCYGN4F2QNNRDJH46OI).\n"
     ]
    },
    {
     "name": "stderr",
     "output_type": "stream",
     "text": [
      "\n",
      "Exporting Images:  80%|███████▉  | 266/334 [1:35:12<23:49, 21.02s/it]\u001b[A"
     ]
    },
    {
     "name": "stdout",
     "output_type": "stream",
     "text": [
      "Task 266 completed with state COMPLETED: \n",
      "Polling for task (id: Z4QRSYLTFZ3TUEL3JRKU77WP).\n",
      "Polling for task (id: Z4QRSYLTFZ3TUEL3JRKU77WP).\n"
     ]
    },
    {
     "name": "stderr",
     "output_type": "stream",
     "text": [
      "\n",
      "Exporting Images:  80%|███████▉  | 267/334 [1:35:26<21:22, 19.13s/it]\u001b[A"
     ]
    },
    {
     "name": "stdout",
     "output_type": "stream",
     "text": [
      "Task 267 completed with state COMPLETED: \n",
      "Polling for task (id: 3IAZSWT6AX5SB3PYRG2DLHHD).\n",
      "Polling for task (id: 3IAZSWT6AX5SB3PYRG2DLHHD).\n",
      "Polling for task (id: 3IAZSWT6AX5SB3PYRG2DLHHD).\n"
     ]
    },
    {
     "name": "stderr",
     "output_type": "stream",
     "text": [
      "\n",
      "Exporting Images:  80%|████████  | 268/334 [1:35:47<21:22, 19.44s/it]\u001b[A"
     ]
    },
    {
     "name": "stdout",
     "output_type": "stream",
     "text": [
      "Task 268 completed with state COMPLETED: \n",
      "Polling for task (id: BLG3IYMSX7QUDAEWFSWVINKV).\n",
      "Polling for task (id: BLG3IYMSX7QUDAEWFSWVINKV).\n",
      "Polling for task (id: BLG3IYMSX7QUDAEWFSWVINKV).\n"
     ]
    },
    {
     "name": "stderr",
     "output_type": "stream",
     "text": [
      "\n",
      "Exporting Images:  81%|████████  | 269/334 [1:36:08<21:47, 20.11s/it]\u001b[A"
     ]
    },
    {
     "name": "stdout",
     "output_type": "stream",
     "text": [
      "Task 269 completed with state COMPLETED: \n",
      "Polling for task (id: BZM2NDYRJR4GBR2BMVPNSUQY).\n",
      "Polling for task (id: BZM2NDYRJR4GBR2BMVPNSUQY).\n",
      "Polling for task (id: BZM2NDYRJR4GBR2BMVPNSUQY).\n"
     ]
    },
    {
     "name": "stderr",
     "output_type": "stream",
     "text": [
      "\n",
      "Exporting Images:  81%|████████  | 270/334 [1:36:29<21:39, 20.30s/it]\u001b[A"
     ]
    },
    {
     "name": "stdout",
     "output_type": "stream",
     "text": [
      "Task 270 completed with state COMPLETED: \n",
      "Polling for task (id: QFU5RO5ZUSANBI7Q3LT75WVY).\n",
      "Polling for task (id: QFU5RO5ZUSANBI7Q3LT75WVY).\n",
      "Polling for task (id: QFU5RO5ZUSANBI7Q3LT75WVY).\n"
     ]
    },
    {
     "name": "stderr",
     "output_type": "stream",
     "text": [
      "\n",
      "Exporting Images:  81%|████████  | 271/334 [1:36:49<21:06, 20.10s/it]\u001b[A"
     ]
    },
    {
     "name": "stdout",
     "output_type": "stream",
     "text": [
      "Task 271 completed with state COMPLETED: \n",
      "Polling for task (id: OZP4RXWV7UPNXALSPWCK56IN).\n",
      "Polling for task (id: OZP4RXWV7UPNXALSPWCK56IN).\n",
      "Polling for task (id: OZP4RXWV7UPNXALSPWCK56IN).\n"
     ]
    },
    {
     "name": "stderr",
     "output_type": "stream",
     "text": [
      "\n",
      "Exporting Images:  81%|████████▏ | 272/334 [1:37:09<20:51, 20.19s/it]\u001b[A"
     ]
    },
    {
     "name": "stdout",
     "output_type": "stream",
     "text": [
      "Task 272 completed with state COMPLETED: \n",
      "Polling for task (id: BMDHCI7MQU3SAKTCBFRN4AK5).\n",
      "Polling for task (id: BMDHCI7MQU3SAKTCBFRN4AK5).\n",
      "Polling for task (id: BMDHCI7MQU3SAKTCBFRN4AK5).\n"
     ]
    },
    {
     "name": "stderr",
     "output_type": "stream",
     "text": [
      "\n",
      "Exporting Images:  82%|████████▏ | 273/334 [1:37:30<20:45, 20.42s/it]\u001b[A"
     ]
    },
    {
     "name": "stdout",
     "output_type": "stream",
     "text": [
      "Task 273 completed with state COMPLETED: \n",
      "Polling for task (id: F2YDKMHX5ZOE6AAD57MZVIPW).\n",
      "Polling for task (id: F2YDKMHX5ZOE6AAD57MZVIPW).\n",
      "Polling for task (id: F2YDKMHX5ZOE6AAD57MZVIPW).\n"
     ]
    },
    {
     "name": "stderr",
     "output_type": "stream",
     "text": [
      "\n",
      "Exporting Images:  82%|████████▏ | 274/334 [1:37:51<20:34, 20.58s/it]\u001b[A"
     ]
    },
    {
     "name": "stdout",
     "output_type": "stream",
     "text": [
      "Task 274 completed with state COMPLETED: \n",
      "Polling for task (id: SQK5SQAA5J32ECUJL5EPCNTR).\n",
      "Polling for task (id: SQK5SQAA5J32ECUJL5EPCNTR).\n"
     ]
    },
    {
     "name": "stderr",
     "output_type": "stream",
     "text": [
      "\n",
      "Exporting Images:  82%|████████▏ | 275/334 [1:38:05<18:24, 18.73s/it]\u001b[A"
     ]
    },
    {
     "name": "stdout",
     "output_type": "stream",
     "text": [
      "Task 275 completed with state COMPLETED: \n",
      "Polling for task (id: VKSA3THQZEHMJVN25YIBBGC2).\n",
      "Polling for task (id: VKSA3THQZEHMJVN25YIBBGC2).\n",
      "Polling for task (id: VKSA3THQZEHMJVN25YIBBGC2).\n"
     ]
    },
    {
     "name": "stderr",
     "output_type": "stream",
     "text": [
      "\n",
      "Exporting Images:  83%|████████▎ | 276/334 [1:38:26<18:36, 19.26s/it]\u001b[A"
     ]
    },
    {
     "name": "stdout",
     "output_type": "stream",
     "text": [
      "Task 276 completed with state COMPLETED: \n",
      "Polling for task (id: C5N3I6I7NNIDIWYU5A7A3OAC).\n",
      "Polling for task (id: C5N3I6I7NNIDIWYU5A7A3OAC).\n",
      "Polling for task (id: C5N3I6I7NNIDIWYU5A7A3OAC).\n"
     ]
    },
    {
     "name": "stderr",
     "output_type": "stream",
     "text": [
      "\n",
      "Exporting Images:  83%|████████▎ | 277/334 [1:38:45<18:18, 19.27s/it]\u001b[A"
     ]
    },
    {
     "name": "stdout",
     "output_type": "stream",
     "text": [
      "Task 277 completed with state COMPLETED: \n",
      "Polling for task (id: FTAFFXZR7WEH773V6TJQQBXF).\n",
      "Polling for task (id: FTAFFXZR7WEH773V6TJQQBXF).\n",
      "Polling for task (id: FTAFFXZR7WEH773V6TJQQBXF).\n"
     ]
    },
    {
     "name": "stderr",
     "output_type": "stream",
     "text": [
      "\n",
      "Exporting Images:  83%|████████▎ | 278/334 [1:39:05<18:16, 19.58s/it]\u001b[A"
     ]
    },
    {
     "name": "stdout",
     "output_type": "stream",
     "text": [
      "Task 278 completed with state COMPLETED: \n",
      "Polling for task (id: NUMRJJ3JE3PTN4CCO4MC36WG).\n",
      "Polling for task (id: NUMRJJ3JE3PTN4CCO4MC36WG).\n",
      "Polling for task (id: NUMRJJ3JE3PTN4CCO4MC36WG).\n"
     ]
    },
    {
     "name": "stderr",
     "output_type": "stream",
     "text": [
      "\n",
      "Exporting Images:  84%|████████▎ | 279/334 [1:39:27<18:29, 20.18s/it]\u001b[A"
     ]
    },
    {
     "name": "stdout",
     "output_type": "stream",
     "text": [
      "Task 279 completed with state COMPLETED: \n",
      "Polling for task (id: 6W67K4G2XYZKVXUVPI2N2OJH).\n",
      "Polling for task (id: 6W67K4G2XYZKVXUVPI2N2OJH).\n",
      "Polling for task (id: 6W67K4G2XYZKVXUVPI2N2OJH).\n",
      "Polling for task (id: 6W67K4G2XYZKVXUVPI2N2OJH).\n"
     ]
    },
    {
     "name": "stderr",
     "output_type": "stream",
     "text": [
      "\n",
      "Exporting Images:  84%|████████▍ | 280/334 [1:39:52<19:33, 21.72s/it]\u001b[A"
     ]
    },
    {
     "name": "stdout",
     "output_type": "stream",
     "text": [
      "Task 280 completed with state COMPLETED: \n",
      "Polling for task (id: ODG5CITBGREBFVJ5X6IC76BT).\n",
      "Polling for task (id: ODG5CITBGREBFVJ5X6IC76BT).\n",
      "Polling for task (id: ODG5CITBGREBFVJ5X6IC76BT).\n"
     ]
    },
    {
     "name": "stderr",
     "output_type": "stream",
     "text": [
      "\n",
      "Exporting Images:  84%|████████▍ | 281/334 [1:40:13<18:56, 21.44s/it]\u001b[A"
     ]
    },
    {
     "name": "stdout",
     "output_type": "stream",
     "text": [
      "Task 281 completed with state COMPLETED: \n",
      "Polling for task (id: O2UHAUBCUC2OYAQHW4WXXYVX).\n",
      "Polling for task (id: O2UHAUBCUC2OYAQHW4WXXYVX).\n",
      "Polling for task (id: O2UHAUBCUC2OYAQHW4WXXYVX).\n"
     ]
    },
    {
     "name": "stderr",
     "output_type": "stream",
     "text": [
      "\n",
      "Exporting Images:  84%|████████▍ | 282/334 [1:40:34<18:20, 21.16s/it]\u001b[A"
     ]
    },
    {
     "name": "stdout",
     "output_type": "stream",
     "text": [
      "Task 282 completed with state COMPLETED: \n",
      "Polling for task (id: J3YGSR2BCS6VI5RQTTPWQ36B).\n",
      "Polling for task (id: J3YGSR2BCS6VI5RQTTPWQ36B).\n",
      "Polling for task (id: J3YGSR2BCS6VI5RQTTPWQ36B).\n"
     ]
    },
    {
     "name": "stderr",
     "output_type": "stream",
     "text": [
      "\n",
      "Exporting Images:  85%|████████▍ | 283/334 [1:40:54<17:46, 20.91s/it]\u001b[A"
     ]
    },
    {
     "name": "stdout",
     "output_type": "stream",
     "text": [
      "Task 283 completed with state COMPLETED: \n",
      "Polling for task (id: ESRASDSWOZOH3TJE3ND5ICOV).\n",
      "Polling for task (id: ESRASDSWOZOH3TJE3ND5ICOV).\n",
      "Polling for task (id: ESRASDSWOZOH3TJE3ND5ICOV).\n"
     ]
    },
    {
     "name": "stderr",
     "output_type": "stream",
     "text": [
      "\n",
      "Exporting Images:  85%|████████▌ | 284/334 [1:41:14<17:12, 20.65s/it]\u001b[A"
     ]
    },
    {
     "name": "stdout",
     "output_type": "stream",
     "text": [
      "Task 284 completed with state COMPLETED: \n",
      "Polling for task (id: PE53RCSLS3EDH36PMRM3YDOW).\n",
      "Polling for task (id: PE53RCSLS3EDH36PMRM3YDOW).\n",
      "Polling for task (id: PE53RCSLS3EDH36PMRM3YDOW).\n"
     ]
    },
    {
     "name": "stderr",
     "output_type": "stream",
     "text": [
      "\n",
      "Exporting Images:  85%|████████▌ | 285/334 [1:41:35<16:51, 20.64s/it]\u001b[A"
     ]
    },
    {
     "name": "stdout",
     "output_type": "stream",
     "text": [
      "Task 285 completed with state COMPLETED: \n",
      "Polling for task (id: UFQBIETGQXUP2YCS73Q55OUK).\n",
      "Polling for task (id: UFQBIETGQXUP2YCS73Q55OUK).\n",
      "Polling for task (id: UFQBIETGQXUP2YCS73Q55OUK).\n"
     ]
    },
    {
     "name": "stderr",
     "output_type": "stream",
     "text": [
      "\n",
      "Exporting Images:  86%|████████▌ | 286/334 [1:41:56<16:41, 20.87s/it]\u001b[A"
     ]
    },
    {
     "name": "stdout",
     "output_type": "stream",
     "text": [
      "Task 286 completed with state COMPLETED: \n",
      "Polling for task (id: X67RIVASV2L7UKJXKYT5TOAT).\n",
      "Polling for task (id: X67RIVASV2L7UKJXKYT5TOAT).\n",
      "Polling for task (id: X67RIVASV2L7UKJXKYT5TOAT).\n"
     ]
    },
    {
     "name": "stderr",
     "output_type": "stream",
     "text": [
      "\n",
      "Exporting Images:  86%|████████▌ | 287/334 [1:42:16<16:11, 20.67s/it]\u001b[A"
     ]
    },
    {
     "name": "stdout",
     "output_type": "stream",
     "text": [
      "Task 287 completed with state COMPLETED: \n",
      "Polling for task (id: 2Q4HFKTAXIIUUGUZRCKVWXLV).\n",
      "Polling for task (id: 2Q4HFKTAXIIUUGUZRCKVWXLV).\n",
      "Polling for task (id: 2Q4HFKTAXIIUUGUZRCKVWXLV).\n",
      "Polling for task (id: 2Q4HFKTAXIIUUGUZRCKVWXLV).\n"
     ]
    },
    {
     "name": "stderr",
     "output_type": "stream",
     "text": [
      "\n",
      "Exporting Images:  86%|████████▌ | 288/334 [1:42:41<16:55, 22.07s/it]\u001b[A"
     ]
    },
    {
     "name": "stdout",
     "output_type": "stream",
     "text": [
      "Task 288 completed with state COMPLETED: \n",
      "Polling for task (id: OJDGXLZXWZJ5MWWJASNVJ4AQ).\n",
      "Polling for task (id: OJDGXLZXWZJ5MWWJASNVJ4AQ).\n",
      "Polling for task (id: OJDGXLZXWZJ5MWWJASNVJ4AQ).\n"
     ]
    },
    {
     "name": "stderr",
     "output_type": "stream",
     "text": [
      "\n",
      "Exporting Images:  87%|████████▋ | 289/334 [1:43:00<15:41, 20.92s/it]\u001b[A"
     ]
    },
    {
     "name": "stdout",
     "output_type": "stream",
     "text": [
      "Task 289 completed with state COMPLETED: \n",
      "Polling for task (id: MNJTWP7HSS4ZLCJJDHU4SAR4).\n",
      "Polling for task (id: MNJTWP7HSS4ZLCJJDHU4SAR4).\n",
      "Polling for task (id: MNJTWP7HSS4ZLCJJDHU4SAR4).\n"
     ]
    },
    {
     "name": "stderr",
     "output_type": "stream",
     "text": [
      "\n",
      "Exporting Images:  87%|████████▋ | 290/334 [1:43:18<14:47, 20.17s/it]\u001b[A"
     ]
    },
    {
     "name": "stdout",
     "output_type": "stream",
     "text": [
      "Task 290 completed with state COMPLETED: \n",
      "Polling for task (id: XGDE3OVVFP7KG6OP23QK6RGZ).\n",
      "Polling for task (id: XGDE3OVVFP7KG6OP23QK6RGZ).\n",
      "Polling for task (id: XGDE3OVVFP7KG6OP23QK6RGZ).\n"
     ]
    },
    {
     "name": "stderr",
     "output_type": "stream",
     "text": [
      "\n",
      "Exporting Images:  87%|████████▋ | 291/334 [1:43:36<14:01, 19.57s/it]\u001b[A"
     ]
    },
    {
     "name": "stdout",
     "output_type": "stream",
     "text": [
      "Task 291 completed with state COMPLETED: \n",
      "Polling for task (id: TOKNE3DMTOC2VJMDP2UYD42N).\n",
      "Polling for task (id: TOKNE3DMTOC2VJMDP2UYD42N).\n",
      "Polling for task (id: TOKNE3DMTOC2VJMDP2UYD42N).\n"
     ]
    },
    {
     "name": "stderr",
     "output_type": "stream",
     "text": [
      "\n",
      "Exporting Images:  87%|████████▋ | 292/334 [1:43:55<13:25, 19.19s/it]\u001b[A"
     ]
    },
    {
     "name": "stdout",
     "output_type": "stream",
     "text": [
      "Task 292 completed with state COMPLETED: \n",
      "Polling for task (id: TD7LKBSPA2ODDBD2SGGOKFKV).\n",
      "Polling for task (id: TD7LKBSPA2ODDBD2SGGOKFKV).\n",
      "Polling for task (id: TD7LKBSPA2ODDBD2SGGOKFKV).\n"
     ]
    },
    {
     "name": "stderr",
     "output_type": "stream",
     "text": [
      "\n",
      "Exporting Images:  88%|████████▊ | 293/334 [1:44:13<12:56, 18.93s/it]\u001b[A"
     ]
    },
    {
     "name": "stdout",
     "output_type": "stream",
     "text": [
      "Task 293 completed with state COMPLETED: \n",
      "Polling for task (id: X257SWJ2O45GQ4HJLN6U543I).\n",
      "Polling for task (id: X257SWJ2O45GQ4HJLN6U543I).\n",
      "Polling for task (id: X257SWJ2O45GQ4HJLN6U543I).\n"
     ]
    },
    {
     "name": "stderr",
     "output_type": "stream",
     "text": [
      "\n",
      "Exporting Images:  88%|████████▊ | 294/334 [1:44:31<12:29, 18.73s/it]\u001b[A"
     ]
    },
    {
     "name": "stdout",
     "output_type": "stream",
     "text": [
      "Task 294 completed with state COMPLETED: \n",
      "Polling for task (id: LN23YEEPGF765UQ5OALAJ3UC).\n",
      "Polling for task (id: LN23YEEPGF765UQ5OALAJ3UC).\n",
      "Polling for task (id: LN23YEEPGF765UQ5OALAJ3UC).\n"
     ]
    },
    {
     "name": "stderr",
     "output_type": "stream",
     "text": [
      "\n",
      "Exporting Images:  88%|████████▊ | 295/334 [1:44:50<12:06, 18.62s/it]\u001b[A"
     ]
    },
    {
     "name": "stdout",
     "output_type": "stream",
     "text": [
      "Task 295 completed with state COMPLETED: \n",
      "Polling for task (id: ZYG5QTQNL2Q2DAF4LZPY4DGJ).\n",
      "Polling for task (id: ZYG5QTQNL2Q2DAF4LZPY4DGJ).\n",
      "Polling for task (id: ZYG5QTQNL2Q2DAF4LZPY4DGJ).\n"
     ]
    },
    {
     "name": "stderr",
     "output_type": "stream",
     "text": [
      "\n",
      "Exporting Images:  89%|████████▊ | 296/334 [1:45:08<11:43, 18.51s/it]\u001b[A"
     ]
    },
    {
     "name": "stdout",
     "output_type": "stream",
     "text": [
      "Task 296 completed with state COMPLETED: \n",
      "Polling for task (id: ONO6TFELQJRLWAS5D2C3KY7S).\n",
      "Polling for task (id: ONO6TFELQJRLWAS5D2C3KY7S).\n",
      "Polling for task (id: ONO6TFELQJRLWAS5D2C3KY7S).\n"
     ]
    },
    {
     "name": "stderr",
     "output_type": "stream",
     "text": [
      "\n",
      "Exporting Images:  89%|████████▉ | 297/334 [1:45:26<11:22, 18.44s/it]\u001b[A"
     ]
    },
    {
     "name": "stdout",
     "output_type": "stream",
     "text": [
      "Task 297 completed with state COMPLETED: \n",
      "Polling for task (id: JIX2AZ5ZYPMNSM33BMRIVZ5Q).\n",
      "Polling for task (id: JIX2AZ5ZYPMNSM33BMRIVZ5Q).\n",
      "Polling for task (id: JIX2AZ5ZYPMNSM33BMRIVZ5Q).\n"
     ]
    },
    {
     "name": "stderr",
     "output_type": "stream",
     "text": [
      "\n",
      "Exporting Images:  89%|████████▉ | 298/334 [1:45:44<11:00, 18.36s/it]\u001b[A"
     ]
    },
    {
     "name": "stdout",
     "output_type": "stream",
     "text": [
      "Task 298 completed with state COMPLETED: \n",
      "Polling for task (id: T57CEOCNEHEHBJHB2WGIKAXN).\n",
      "Polling for task (id: T57CEOCNEHEHBJHB2WGIKAXN).\n",
      "Polling for task (id: T57CEOCNEHEHBJHB2WGIKAXN).\n"
     ]
    },
    {
     "name": "stderr",
     "output_type": "stream",
     "text": [
      "\n",
      "Exporting Images:  90%|████████▉ | 299/334 [1:46:03<10:41, 18.34s/it]\u001b[A"
     ]
    },
    {
     "name": "stdout",
     "output_type": "stream",
     "text": [
      "Task 299 completed with state COMPLETED: \n",
      "Polling for task (id: 65RZZR5YHDJKWPN5BZPQRVC5).\n",
      "Polling for task (id: 65RZZR5YHDJKWPN5BZPQRVC5).\n",
      "Polling for task (id: 65RZZR5YHDJKWPN5BZPQRVC5).\n"
     ]
    },
    {
     "name": "stderr",
     "output_type": "stream",
     "text": [
      "\n",
      "Exporting Images:  90%|████████▉ | 300/334 [1:46:21<10:22, 18.32s/it]\u001b[A"
     ]
    },
    {
     "name": "stdout",
     "output_type": "stream",
     "text": [
      "Task 300 completed with state COMPLETED: \n",
      "Polling for task (id: HP27GBHAHA5MAD7AVI457JF2).\n",
      "Polling for task (id: HP27GBHAHA5MAD7AVI457JF2).\n",
      "Polling for task (id: HP27GBHAHA5MAD7AVI457JF2).\n"
     ]
    },
    {
     "name": "stderr",
     "output_type": "stream",
     "text": [
      "\n",
      "Exporting Images:  90%|█████████ | 301/334 [1:46:39<10:03, 18.29s/it]\u001b[A"
     ]
    },
    {
     "name": "stdout",
     "output_type": "stream",
     "text": [
      "Task 301 completed with state COMPLETED: \n",
      "Polling for task (id: 4RF7PMGP43K5ZVO3WRLSLK6K).\n",
      "Polling for task (id: 4RF7PMGP43K5ZVO3WRLSLK6K).\n",
      "Polling for task (id: 4RF7PMGP43K5ZVO3WRLSLK6K).\n"
     ]
    },
    {
     "name": "stderr",
     "output_type": "stream",
     "text": [
      "\n",
      "Exporting Images:  90%|█████████ | 302/334 [1:46:57<09:44, 18.28s/it]\u001b[A"
     ]
    },
    {
     "name": "stdout",
     "output_type": "stream",
     "text": [
      "Task 302 completed with state COMPLETED: \n",
      "Polling for task (id: 5RSOYRGPAYGKHM3637PKFLW7).\n",
      "Polling for task (id: 5RSOYRGPAYGKHM3637PKFLW7).\n",
      "Polling for task (id: 5RSOYRGPAYGKHM3637PKFLW7).\n"
     ]
    },
    {
     "name": "stderr",
     "output_type": "stream",
     "text": [
      "\n",
      "Exporting Images:  91%|█████████ | 303/334 [1:47:15<09:25, 18.24s/it]\u001b[A"
     ]
    },
    {
     "name": "stdout",
     "output_type": "stream",
     "text": [
      "Task 303 completed with state COMPLETED: \n",
      "Polling for task (id: MNR2T27TCPBPF73642CKT422).\n",
      "Polling for task (id: MNR2T27TCPBPF73642CKT422).\n",
      "Polling for task (id: MNR2T27TCPBPF73642CKT422).\n"
     ]
    },
    {
     "name": "stderr",
     "output_type": "stream",
     "text": [
      "\n",
      "Exporting Images:  91%|█████████ | 304/334 [1:47:34<09:07, 18.24s/it]\u001b[A"
     ]
    },
    {
     "name": "stdout",
     "output_type": "stream",
     "text": [
      "Task 304 completed with state COMPLETED: \n",
      "Polling for task (id: LI4QVDPS7QKOAL45OJYDKRDB).\n",
      "Polling for task (id: LI4QVDPS7QKOAL45OJYDKRDB).\n",
      "Polling for task (id: LI4QVDPS7QKOAL45OJYDKRDB).\n"
     ]
    },
    {
     "name": "stderr",
     "output_type": "stream",
     "text": [
      "\n",
      "Exporting Images:  91%|█████████▏| 305/334 [1:47:52<08:49, 18.25s/it]\u001b[A"
     ]
    },
    {
     "name": "stdout",
     "output_type": "stream",
     "text": [
      "Task 305 completed with state COMPLETED: \n",
      "Polling for task (id: EHBPU45UGLUW52TKCW443HFI).\n",
      "Polling for task (id: EHBPU45UGLUW52TKCW443HFI).\n",
      "Polling for task (id: EHBPU45UGLUW52TKCW443HFI).\n",
      "Polling for task (id: EHBPU45UGLUW52TKCW443HFI).\n"
     ]
    },
    {
     "name": "stderr",
     "output_type": "stream",
     "text": [
      "\n",
      "Exporting Images:  92%|█████████▏| 306/334 [1:48:16<09:15, 19.84s/it]\u001b[A"
     ]
    },
    {
     "name": "stdout",
     "output_type": "stream",
     "text": [
      "Task 306 completed with state COMPLETED: \n",
      "Polling for task (id: VMXKJTIEOS7O5FLKOHUHZQRS).\n",
      "Polling for task (id: VMXKJTIEOS7O5FLKOHUHZQRS).\n",
      "Polling for task (id: VMXKJTIEOS7O5FLKOHUHZQRS).\n"
     ]
    },
    {
     "name": "stderr",
     "output_type": "stream",
     "text": [
      "\n",
      "Exporting Images:  92%|█████████▏| 307/334 [1:48:34<08:43, 19.38s/it]\u001b[A"
     ]
    },
    {
     "name": "stdout",
     "output_type": "stream",
     "text": [
      "Task 307 completed with state COMPLETED: \n",
      "Polling for task (id: RCFDDPCQLDSFQBVA2WHOHCG2).\n",
      "Polling for task (id: RCFDDPCQLDSFQBVA2WHOHCG2).\n"
     ]
    },
    {
     "name": "stderr",
     "output_type": "stream",
     "text": [
      "\n",
      "Exporting Images:  92%|█████████▏| 308/334 [1:48:52<08:15, 19.06s/it]\u001b[A"
     ]
    },
    {
     "name": "stdout",
     "output_type": "stream",
     "text": [
      "Task 308 completed with state COMPLETED: \n",
      "Polling for task (id: 4TKCHVTP4QOYQ6SKWVUJQRS4).\n",
      "Polling for task (id: 4TKCHVTP4QOYQ6SKWVUJQRS4).\n"
     ]
    },
    {
     "name": "stderr",
     "output_type": "stream",
     "text": [
      "\n",
      "Exporting Images:  93%|█████████▎| 309/334 [1:49:24<09:33, 22.94s/it]\u001b[A"
     ]
    },
    {
     "name": "stdout",
     "output_type": "stream",
     "text": [
      "Task 309 completed with state COMPLETED: \n",
      "Polling for task (id: NTF3RN7WQ5PHQWJLMJCY65FP).\n",
      "Polling for task (id: NTF3RN7WQ5PHQWJLMJCY65FP).\n"
     ]
    },
    {
     "name": "stderr",
     "output_type": "stream",
     "text": [
      "\n",
      "Exporting Images:  93%|█████████▎| 310/334 [1:49:49<09:21, 23.40s/it]\u001b[A"
     ]
    },
    {
     "name": "stdout",
     "output_type": "stream",
     "text": [
      "Task 310 completed with state COMPLETED: \n",
      "Polling for task (id: HBMFZ7VPCSFMCKY2BY47A7RE).\n",
      "Polling for task (id: HBMFZ7VPCSFMCKY2BY47A7RE).\n",
      "Polling for task (id: HBMFZ7VPCSFMCKY2BY47A7RE).\n"
     ]
    },
    {
     "name": "stderr",
     "output_type": "stream",
     "text": [
      "\n",
      "Exporting Images:  93%|█████████▎| 311/334 [1:50:20<09:54, 25.84s/it]\u001b[A"
     ]
    },
    {
     "name": "stdout",
     "output_type": "stream",
     "text": [
      "Task 311 completed with state COMPLETED: \n",
      "Polling for task (id: EDZGZWHHCZ5JHMUD2KTJ2S46).\n",
      "Polling for task (id: EDZGZWHHCZ5JHMUD2KTJ2S46).\n"
     ]
    },
    {
     "name": "stderr",
     "output_type": "stream",
     "text": [
      "\n",
      "Exporting Images:  93%|█████████▎| 312/334 [1:50:45<09:22, 25.58s/it]\u001b[A"
     ]
    },
    {
     "name": "stdout",
     "output_type": "stream",
     "text": [
      "Task 312 completed with state COMPLETED: \n",
      "Polling for task (id: 2RO2724WMFH654NLSNJNA3MG).\n",
      "Polling for task (id: 2RO2724WMFH654NLSNJNA3MG).\n",
      "Polling for task (id: 2RO2724WMFH654NLSNJNA3MG).\n"
     ]
    },
    {
     "name": "stderr",
     "output_type": "stream",
     "text": [
      "\n",
      "Exporting Images:  94%|█████████▎| 313/334 [1:51:18<09:40, 27.63s/it]\u001b[A"
     ]
    },
    {
     "name": "stdout",
     "output_type": "stream",
     "text": [
      "Task 313 completed with state COMPLETED: \n",
      "Polling for task (id: ESBOUQ2L2XZ2EDXDUTHFRIKH).\n",
      "Polling for task (id: ESBOUQ2L2XZ2EDXDUTHFRIKH).\n"
     ]
    },
    {
     "name": "stderr",
     "output_type": "stream",
     "text": [
      "\n",
      "Exporting Images:  94%|█████████▍| 314/334 [1:51:41<08:48, 26.41s/it]\u001b[A"
     ]
    },
    {
     "name": "stdout",
     "output_type": "stream",
     "text": [
      "Task 314 completed with state COMPLETED: \n",
      "Polling for task (id: AY4TROMR7METZYZW4F72JC4N).\n",
      "Polling for task (id: AY4TROMR7METZYZW4F72JC4N).\n",
      "Polling for task (id: AY4TROMR7METZYZW4F72JC4N).\n"
     ]
    },
    {
     "name": "stderr",
     "output_type": "stream",
     "text": [
      "\n",
      "Exporting Images:  94%|█████████▍| 315/334 [1:51:59<07:36, 24.01s/it]\u001b[A"
     ]
    },
    {
     "name": "stdout",
     "output_type": "stream",
     "text": [
      "Task 315 completed with state COMPLETED: \n",
      "Polling for task (id: 4XD7ZNAEKFBMFLIZ3TJF2JZK).\n",
      "Polling for task (id: 4XD7ZNAEKFBMFLIZ3TJF2JZK).\n",
      "Polling for task (id: 4XD7ZNAEKFBMFLIZ3TJF2JZK).\n"
     ]
    },
    {
     "name": "stderr",
     "output_type": "stream",
     "text": [
      "\n",
      "Exporting Images:  95%|█████████▍| 316/334 [1:52:18<06:40, 22.27s/it]\u001b[A"
     ]
    },
    {
     "name": "stdout",
     "output_type": "stream",
     "text": [
      "Task 316 completed with state COMPLETED: \n",
      "Polling for task (id: DDLKEEMO5H66LBKQQPQCVFZQ).\n",
      "Polling for task (id: DDLKEEMO5H66LBKQQPQCVFZQ).\n",
      "Polling for task (id: DDLKEEMO5H66LBKQQPQCVFZQ).\n"
     ]
    },
    {
     "name": "stderr",
     "output_type": "stream",
     "text": [
      "\n",
      "Exporting Images:  95%|█████████▍| 317/334 [1:52:36<05:57, 21.04s/it]\u001b[A"
     ]
    },
    {
     "name": "stdout",
     "output_type": "stream",
     "text": [
      "Task 317 completed with state COMPLETED: \n",
      "Polling for task (id: OL66NONPQX6GORVABNTEHIOG).\n",
      "Polling for task (id: OL66NONPQX6GORVABNTEHIOG).\n",
      "Polling for task (id: OL66NONPQX6GORVABNTEHIOG).\n"
     ]
    },
    {
     "name": "stderr",
     "output_type": "stream",
     "text": [
      "\n",
      "Exporting Images:  95%|█████████▌| 318/334 [1:52:54<05:23, 20.21s/it]\u001b[A"
     ]
    },
    {
     "name": "stdout",
     "output_type": "stream",
     "text": [
      "Task 318 completed with state COMPLETED: \n",
      "Polling for task (id: GOBRN2A63LFYUBOFMSKKTZUT).\n",
      "Polling for task (id: GOBRN2A63LFYUBOFMSKKTZUT).\n",
      "Polling for task (id: GOBRN2A63LFYUBOFMSKKTZUT).\n"
     ]
    },
    {
     "name": "stderr",
     "output_type": "stream",
     "text": [
      "\n",
      "Exporting Images:  96%|█████████▌| 319/334 [1:53:12<04:54, 19.63s/it]\u001b[A"
     ]
    },
    {
     "name": "stdout",
     "output_type": "stream",
     "text": [
      "Task 319 completed with state COMPLETED: \n",
      "Polling for task (id: UMLKKIOZ6ZWJTCXDNRBV64HF).\n",
      "Polling for task (id: UMLKKIOZ6ZWJTCXDNRBV64HF).\n",
      "Polling for task (id: UMLKKIOZ6ZWJTCXDNRBV64HF).\n"
     ]
    },
    {
     "name": "stderr",
     "output_type": "stream",
     "text": [
      "\n",
      "Exporting Images:  96%|█████████▌| 320/334 [1:53:31<04:28, 19.21s/it]\u001b[A"
     ]
    },
    {
     "name": "stdout",
     "output_type": "stream",
     "text": [
      "Task 320 completed with state COMPLETED: \n",
      "Polling for task (id: O5FJAEUR36ETAX3NQV2SNIOI).\n",
      "Polling for task (id: O5FJAEUR36ETAX3NQV2SNIOI).\n",
      "Polling for task (id: O5FJAEUR36ETAX3NQV2SNIOI).\n"
     ]
    },
    {
     "name": "stderr",
     "output_type": "stream",
     "text": [
      "\n",
      "Exporting Images:  96%|█████████▌| 321/334 [1:53:49<04:06, 18.95s/it]\u001b[A"
     ]
    },
    {
     "name": "stdout",
     "output_type": "stream",
     "text": [
      "Task 321 completed with state COMPLETED: \n",
      "Polling for task (id: 5UEW5NRJ5IUSZW2YRD4GH7EV).\n",
      "Polling for task (id: 5UEW5NRJ5IUSZW2YRD4GH7EV).\n",
      "Polling for task (id: 5UEW5NRJ5IUSZW2YRD4GH7EV).\n",
      "Polling for task (id: 5UEW5NRJ5IUSZW2YRD4GH7EV).\n"
     ]
    },
    {
     "name": "stderr",
     "output_type": "stream",
     "text": [
      "\n",
      "Exporting Images:  96%|█████████▋| 322/334 [1:54:13<04:04, 20.39s/it]\u001b[A"
     ]
    },
    {
     "name": "stdout",
     "output_type": "stream",
     "text": [
      "Task 322 completed with state COMPLETED: \n",
      "Polling for task (id: IRVHQRZXQCXYASJCAKHXJXY4).\n",
      "Polling for task (id: IRVHQRZXQCXYASJCAKHXJXY4).\n",
      "Polling for task (id: IRVHQRZXQCXYASJCAKHXJXY4).\n"
     ]
    },
    {
     "name": "stderr",
     "output_type": "stream",
     "text": [
      "\n",
      "Exporting Images:  97%|█████████▋| 323/334 [1:54:31<03:37, 19.78s/it]\u001b[A"
     ]
    },
    {
     "name": "stdout",
     "output_type": "stream",
     "text": [
      "Task 323 completed with state COMPLETED: \n",
      "Polling for task (id: 6PFIAYZ23E5BSASQT5TR3RB3).\n",
      "Polling for task (id: 6PFIAYZ23E5BSASQT5TR3RB3).\n",
      "Polling for task (id: 6PFIAYZ23E5BSASQT5TR3RB3).\n",
      "Polling for task (id: 6PFIAYZ23E5BSASQT5TR3RB3).\n"
     ]
    },
    {
     "name": "stderr",
     "output_type": "stream",
     "text": [
      "\n",
      "Exporting Images:  97%|█████████▋| 324/334 [1:54:55<03:29, 20.92s/it]\u001b[A"
     ]
    },
    {
     "name": "stdout",
     "output_type": "stream",
     "text": [
      "Task 324 completed with state COMPLETED: \n",
      "Polling for task (id: 7R3EPI54GT4JSYP5FDMASB32).\n",
      "Polling for task (id: 7R3EPI54GT4JSYP5FDMASB32).\n",
      "Polling for task (id: 7R3EPI54GT4JSYP5FDMASB32).\n",
      "Polling for task (id: 7R3EPI54GT4JSYP5FDMASB32).\n"
     ]
    },
    {
     "name": "stderr",
     "output_type": "stream",
     "text": [
      "\n",
      "Exporting Images:  97%|█████████▋| 325/334 [1:55:18<03:15, 21.72s/it]\u001b[A"
     ]
    },
    {
     "name": "stdout",
     "output_type": "stream",
     "text": [
      "Task 325 completed with state COMPLETED: \n",
      "Polling for task (id: MYFNDZHNO3BQQUHIWHLY4TLS).\n",
      "Polling for task (id: MYFNDZHNO3BQQUHIWHLY4TLS).\n",
      "Polling for task (id: MYFNDZHNO3BQQUHIWHLY4TLS).\n"
     ]
    },
    {
     "name": "stderr",
     "output_type": "stream",
     "text": [
      "\n",
      "Exporting Images:  98%|█████████▊| 326/334 [1:55:37<02:45, 20.70s/it]\u001b[A"
     ]
    },
    {
     "name": "stdout",
     "output_type": "stream",
     "text": [
      "Task 326 completed with state COMPLETED: \n",
      "Polling for task (id: 5KNKRTYLBESQC6OJVISEIUYF).\n",
      "Polling for task (id: 5KNKRTYLBESQC6OJVISEIUYF).\n",
      "Polling for task (id: 5KNKRTYLBESQC6OJVISEIUYF).\n"
     ]
    },
    {
     "name": "stderr",
     "output_type": "stream",
     "text": [
      "\n",
      "Exporting Images:  98%|█████████▊| 327/334 [1:55:56<02:21, 20.16s/it]\u001b[A"
     ]
    },
    {
     "name": "stdout",
     "output_type": "stream",
     "text": [
      "Task 327 completed with state COMPLETED: \n",
      "Polling for task (id: 746M7IZY6RHB4MIG726LIK3T).\n",
      "Polling for task (id: 746M7IZY6RHB4MIG726LIK3T).\n",
      "Polling for task (id: 746M7IZY6RHB4MIG726LIK3T).\n"
     ]
    },
    {
     "name": "stderr",
     "output_type": "stream",
     "text": [
      "\n",
      "Exporting Images:  98%|█████████▊| 328/334 [1:56:14<01:57, 19.57s/it]\u001b[A"
     ]
    },
    {
     "name": "stdout",
     "output_type": "stream",
     "text": [
      "Task 328 completed with state COMPLETED: \n",
      "Polling for task (id: AU6IM3ULT23AGHMK2FHNUFZW).\n",
      "Polling for task (id: AU6IM3ULT23AGHMK2FHNUFZW).\n",
      "Polling for task (id: AU6IM3ULT23AGHMK2FHNUFZW).\n"
     ]
    },
    {
     "name": "stderr",
     "output_type": "stream",
     "text": [
      "\n",
      "Exporting Images:  99%|█████████▊| 329/334 [1:56:32<01:35, 19.15s/it]\u001b[A"
     ]
    },
    {
     "name": "stdout",
     "output_type": "stream",
     "text": [
      "Task 329 completed with state COMPLETED: \n",
      "Polling for task (id: AP336FE77HRH4HP4GH6FDT6I).\n",
      "Polling for task (id: AP336FE77HRH4HP4GH6FDT6I).\n",
      "Polling for task (id: AP336FE77HRH4HP4GH6FDT6I).\n"
     ]
    },
    {
     "name": "stderr",
     "output_type": "stream",
     "text": [
      "\n",
      "Exporting Images:  99%|█████████▉| 330/334 [1:56:50<01:15, 18.84s/it]\u001b[A"
     ]
    },
    {
     "name": "stdout",
     "output_type": "stream",
     "text": [
      "Task 330 completed with state COMPLETED: \n",
      "Polling for task (id: GDRZDXGWRKP3AG275ULHTFIG).\n",
      "Polling for task (id: GDRZDXGWRKP3AG275ULHTFIG).\n",
      "Polling for task (id: GDRZDXGWRKP3AG275ULHTFIG).\n"
     ]
    },
    {
     "name": "stderr",
     "output_type": "stream",
     "text": [
      "\n",
      "Exporting Images:  99%|█████████▉| 331/334 [1:57:08<00:55, 18.65s/it]\u001b[A"
     ]
    },
    {
     "name": "stdout",
     "output_type": "stream",
     "text": [
      "Task 331 completed with state COMPLETED: \n",
      "Polling for task (id: K5Z3P6GPQDG3VJ6O777ZYK46).\n",
      "Polling for task (id: K5Z3P6GPQDG3VJ6O777ZYK46).\n",
      "Polling for task (id: K5Z3P6GPQDG3VJ6O777ZYK46).\n",
      "Polling for task (id: K5Z3P6GPQDG3VJ6O777ZYK46).\n",
      "Polling for task (id: K5Z3P6GPQDG3VJ6O777ZYK46).\n"
     ]
    },
    {
     "name": "stderr",
     "output_type": "stream",
     "text": [
      "\n",
      "Exporting Images:  99%|█████████▉| 332/334 [1:57:37<00:43, 21.73s/it]\u001b[A"
     ]
    },
    {
     "name": "stdout",
     "output_type": "stream",
     "text": [
      "Task 332 completed with state COMPLETED: \n",
      "Polling for task (id: F4J425LZCIWLTOKXOCE2FGAV).\n",
      "Polling for task (id: F4J425LZCIWLTOKXOCE2FGAV).\n",
      "Polling for task (id: F4J425LZCIWLTOKXOCE2FGAV).\n",
      "Polling for task (id: F4J425LZCIWLTOKXOCE2FGAV).\n"
     ]
    },
    {
     "name": "stderr",
     "output_type": "stream",
     "text": [
      "\n",
      "Exporting Images: 100%|█████████▉| 333/334 [1:58:01<00:22, 22.31s/it]\u001b[A"
     ]
    },
    {
     "name": "stdout",
     "output_type": "stream",
     "text": [
      "Task 333 completed with state COMPLETED: \n",
      "Polling for task (id: XDCGU7ATQ6EQGL6RWIKYCXQU).\n",
      "Polling for task (id: XDCGU7ATQ6EQGL6RWIKYCXQU).\n",
      "Polling for task (id: XDCGU7ATQ6EQGL6RWIKYCXQU).\n"
     ]
    },
    {
     "name": "stderr",
     "output_type": "stream",
     "text": [
      "\n",
      "Exporting Images: 100%|██████████| 334/334 [1:58:19<00:00, 21.26s/it]\u001b[A\n",
      "100%|██████████| 2/2 [3:47:40<00:00, 6830.37s/it]  "
     ]
    },
    {
     "name": "stdout",
     "output_type": "stream",
     "text": [
      "Task 334 completed with state COMPLETED: \n"
     ]
    },
    {
     "name": "stderr",
     "output_type": "stream",
     "text": [
      "\n"
     ]
    }
   ],
   "source": [
    "for zone in tqdm(ZONES):\n",
    "    shapefile_path = f\"/vsizip/../shape_files/zone_{zone}.zip/layers/POLYGON.shp\"\n",
    "    gdf = gpd.read_file(shapefile_path)\n",
    "    roi = geemap.gdf_to_ee(gdf)\n",
    "\n",
    "    SMAP = ee.ImageCollection(DATASET_NAME)\n",
    "\n",
    "    SMAP_ROI = SMAP.filter(ee.Filter.date(START_DATE, END_DATE)).filter(ee.Filter.bounds(roi.geometry())) #.median()\n",
    "\n",
    "    # Median\n",
    "    MEDIAN = SMAP_ROI.median()\n",
    "\n",
    "    # EXPORTING THE MEDIAN IMAGE\n",
    "    task_median = ee.batch.Export.image.toDrive(\n",
    "        image=MEDIAN.select(BANDS),  # Bands\n",
    "        description=f\"Median_Image_Zone{zone}\",\n",
    "        fileNamePrefix=f\"zone{zone}_median_sm_{START_DATE}_{END_DATE}\",\n",
    "        folder=f\"sm_roi_median_9km_{END_DATE}\",\n",
    "        scale=SCALE,\n",
    "        region=roi.geometry().getInfo()[\"coordinates\"],\n",
    "        maxPixels=MAXPIXELS\n",
    "    )\n",
    "    \n",
    "    task_median.start()\n",
    "    while task_median.active():\n",
    "        print(\"Polling for task (id: {}).\".format(task_median.id))\n",
    "        time.sleep(5)  # Poll every 5 seconds\n",
    "\n",
    "    \n",
    "    print(f\"Task for Zone {zone} median image download completed with state {task_median.status()['state']}: \")\n",
    "\n",
    "    # EXPORTING ALL IMAGES WITH 30m RESOLUTION (refer to dataset)\n",
    "    image_ids = SMAP_ROI.aggregate_array(\"system:index\").getInfo()\n",
    "    print(\"#\" * 50)\n",
    "    print(\"Total Images: \", len(image_ids))\n",
    "    print(\"#\" * 50)\n",
    "\n",
    "    for i, image_id in enumerate(tqdm(image_ids, desc=\"Exporting Images\")):\n",
    "        image = ee.Image(SMAP_ROI.filter(ee.Filter.eq(\"system:index\", image_id)).first())\n",
    "        task = ee.batch.Export.image.toDrive(\n",
    "        **{\n",
    "            \"image\": image.select(BANDS),\n",
    "            \"description\": \"Image Export {}\".format(i + 1),\n",
    "            \"fileNamePrefix\": f\"zone{zone}_sm_{image.id().getInfo()}\",\n",
    "            \"folder\": f\"sm_roi_9km_{END_DATE}\",\n",
    "            \"scale\": SCALE,\n",
    "            \"region\": roi.geometry().getInfo()[\"coordinates\"], # Use ROI geometry\n",
    "            # \"region\": image.geometry().bounds().getInfo()[\"coordinates\"],\n",
    "            \"maxPixels\": MAXPIXELS,\n",
    "        })\n",
    "        task.start()\n",
    "        # Monitor the task\n",
    "        while task.active():\n",
    "            print(\"Polling for task (id: {}).\".format(task.id))\n",
    "            time.sleep(5)  # Poll every 5 seconds\n",
    "        \n",
    "        print(f\"Task {i + 1} completed with state {task.status()['state']}: \")    "
   ]
  },
  {
   "cell_type": "code",
   "execution_count": null,
   "metadata": {},
   "outputs": [],
   "source": []
  }
 ],
 "metadata": {
  "kernelspec": {
   "display_name": "ipaua",
   "language": "python",
   "name": "ipaua"
  },
  "language_info": {
   "codemirror_mode": {
    "name": "ipython",
    "version": 3
   },
   "file_extension": ".py",
   "mimetype": "text/x-python",
   "name": "python",
   "nbconvert_exporter": "python",
   "pygments_lexer": "ipython3",
   "version": "3.9.18"
  }
 },
 "nbformat": 4,
 "nbformat_minor": 4
}
